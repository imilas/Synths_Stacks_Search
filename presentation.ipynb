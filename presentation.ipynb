{
 "cells": [
  {
   "cell_type": "code",
   "execution_count": 2,
   "metadata": {
    "slideshow": {
     "slide_type": "skip"
    }
   },
   "outputs": [],
   "source": [
    "from pippi.soundbuffer import SoundBuffer\n",
    "from pippi import dsp,fx\n",
    "import numpy as np\n",
    "import pandas as pd\n",
    "import sounddevice as sd\n",
    "import helpers as hp\n",
    "import param_generation as pg\n",
    "import _pickle as pickle\n",
    "from IPython.display import Audio\n",
    "import librosa\n",
    "import librosa.feature\n",
    "import imp \n",
    "import os, random\n",
    "import warnings\n",
    "from IPython.display import IFrame\n",
    "from PIL import Image\n",
    "import matplotlib.ticker as ticker\n",
    "warnings.filterwarnings('ignore')\n",
    "\n",
    "imp.reload(hp)\n",
    "sr=48000"
   ]
  },
  {
   "cell_type": "markdown",
   "metadata": {
    "slideshow": {
     "slide_type": "slide"
    }
   },
   "source": [
    "## Make Your Own Audience\n",
    "#### Virtual Listeners Can Filter Generated Drum Programs\n",
    "- Create sounds\n",
    "- Curate datasets of drums (share it with others)\n",
    "- Create a listeners that prefer drums\n",
    "- Listeners judge sounds\n",
    "- Keep sounds that are judged positively"
   ]
  },
  {
   "cell_type": "code",
   "execution_count": 3,
   "metadata": {
    "slideshow": {
     "slide_type": "slide"
    }
   },
   "outputs": [
    {
     "data": {
      "text/html": [
       "\n",
       "        <iframe\n",
       "            width=\"1200\"\n",
       "            height=\"500\"\n",
       "            src=\"./presentation_data/pipeline.pdf\"\n",
       "            frameborder=\"0\"\n",
       "            allowfullscreen\n",
       "        ></iframe>\n",
       "        "
      ],
      "text/plain": [
       "<IPython.lib.display.IFrame at 0x7f83dc718c50>"
      ]
     },
     "execution_count": 3,
     "metadata": {},
     "output_type": "execute_result"
    }
   ],
   "source": [
    "IFrame(\"./presentation_data/pipeline.pdf\", width=1200, height=500)"
   ]
  },
  {
   "cell_type": "markdown",
   "metadata": {
    "slideshow": {
     "slide_type": "slide"
    }
   },
   "source": [
    "# Synthesizer, and Synthsizer Modules:\n",
    "    - No Neural Nets\n",
    "    - Built with:\n",
    "        90% https://github.com/luvsound/pippi\n",
    "        10% https://www.scipy.org/"
   ]
  },
  {
   "cell_type": "code",
   "execution_count": 3,
   "metadata": {
    "slideshow": {
     "slide_type": "subslide"
    }
   },
   "outputs": [
    {
     "data": {
      "text/html": [
       "\n",
       "        <iframe\n",
       "            width=\"1600\"\n",
       "            height=\"800\"\n",
       "            src=\"./presentation_data/synthesizer_all_blocks.pdf\"\n",
       "            frameborder=\"0\"\n",
       "            allowfullscreen\n",
       "        ></iframe>\n",
       "        "
      ],
      "text/plain": [
       "<IPython.lib.display.IFrame at 0x7f92cffbb990>"
      ]
     },
     "execution_count": 3,
     "metadata": {},
     "output_type": "execute_result"
    }
   ],
   "source": [
    "IFrame(\"./presentation_data/synthesizer_all_blocks.pdf\", width=1600, height=800) "
   ]
  },
  {
   "cell_type": "code",
   "execution_count": 4,
   "metadata": {
    "slideshow": {
     "slide_type": "skip"
    }
   },
   "outputs": [],
   "source": [
    "# Synthesizer Module Class\n",
    "class Synth_Module():\n",
    "    def __init__(self,params):\n",
    "        buff=SoundBuffer(channels=1)\n",
    "        length=1\n",
    "        if params.isNoise==1:\n",
    "            buff = noise.bln(params.getOscType(),params.getLength(),30,\n",
    "                150000,channels=1) \n",
    "        else:\n",
    "            buff = Osc(str(params.getOscType()), freq=list(params.getPitches()),\n",
    "                       channels=1).play(params.getLength()) \n",
    "\n",
    "        buff=buff.adsr(a=params.A, d=params.D, s=params.S, r=params.R)\n",
    "        bpfilter=params.getBandPass()\n",
    "        buff.frames = helpers.butter_bandpass_filter(buff.frames,bpfilter[0],bpfilter[1], \n",
    "                                                     sr, order=bpfilter[2])\n",
    "        buff.frames = helpers.butter_bandpass_filter(buff.frames,80,15000, \n",
    "                                                     sr, order=8)\n",
    "        self.buff=buff"
   ]
  },
  {
   "cell_type": "markdown",
   "metadata": {
    "slideshow": {
     "slide_type": "slide"
    }
   },
   "source": [
    "### Synthesizer Sub-Module Paramters:\n",
    "| Parameters       | Value Range     | Notes and Constraints                            |\n",
    "|------------------|-----------------|--------------------------------------------------|\n",
    "| Attack           | 0\\-3            | A\\-D\\-S\\-R values relative                       |\n",
    "| Decay            | 0\\-3            | relative to A\\-S\\-R                              |\n",
    "| Sustain          | 0\\-3            | relative to A\\-D\\-R                              |\n",
    "| Release          | 0\\-3            | relative to A\\-D\\-S                              |\n",
    "| OSC type         | sine,square,saw | \\-                                               |\n",
    "| IsNoise          | boolean         | generate noise using  cloud of waveform |\n",
    "| Length           | 0\\-1 second     | \\-                                               |\n",
    "| StartTime        | 0\\-1 second     | Length\\+Start$<$1                                |\n",
    "| Amplitude        | 0\\.1\\-1         | 1 = max amplitude                                |\n",
    "| Pitches\\(notes\\) | list of pitches | range of C0\\(16\\.35hz\\) to B9                    |\n",
    "| HP filter Cutoff | 0\\-20000hz      | \\-                                               |\n",
    "| LP filter Cutoff | 20000hz\\-HP     | never lower than HP cutoff                       |\n",
    "| Filter Order     | 4,8,16          | butterworth filter order                         |"
   ]
  },
  {
   "cell_type": "code",
   "execution_count": 5,
   "metadata": {
    "slideshow": {
     "slide_type": "skip"
    }
   },
   "outputs": [
    {
     "data": {
      "text/html": [
       "\n",
       "        <iframe\n",
       "            width=\"1500\"\n",
       "            height=\"320\"\n",
       "            src=\"./presentation_data/synthesizer_block.pdf\"\n",
       "            frameborder=\"0\"\n",
       "            allowfullscreen\n",
       "        ></iframe>\n",
       "        "
      ],
      "text/plain": [
       "<IPython.lib.display.IFrame at 0x7f925cd1f4d0>"
      ]
     },
     "execution_count": 5,
     "metadata": {},
     "output_type": "execute_result"
    }
   ],
   "source": [
    "IFrame(\"./presentation_data/synthesizer_block.pdf\", width=1500, height=320)"
   ]
  },
  {
   "cell_type": "markdown",
   "metadata": {
    "slideshow": {
     "slide_type": "slide"
    }
   },
   "source": [
    "## Creating Sounds via Random Synth. Parameters"
   ]
  },
  {
   "cell_type": "code",
   "execution_count": 60,
   "metadata": {
    "slideshow": {
     "slide_type": "slide"
    }
   },
   "outputs": [
    {
     "name": "stdout",
     "output_type": "stream",
     "text": [
      "CPU times: user 163 ms, sys: 234 µs, total: 163 ms\n",
      "Wall time: 162 ms\n"
     ]
    },
    {
     "data": {
      "text/html": [
       "\n",
       "                <audio  controls=\"controls\" autoplay=\"autoplay\">\n",
       "                    <source src=\"data:audio/wav;base64,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\" type=\"audio/wav\" />\n",
       "                    Your browser does not support the audio element.\n",
       "                </audio>\n",
       "              "
      ],
      "text/plain": [
       "<IPython.lib.display.Audio object>"
      ]
     },
     "execution_count": 60,
     "metadata": {},
     "output_type": "execute_result"
    }
   ],
   "source": [
    "%%time\n",
    "out = dsp.buffer(length = 1, channels = 1)\n",
    "params = []; stack_num = 16; params = [pg.RandomParams() for i in range(stack_num)]\n",
    "sound = pg.ensemble(params)\n",
    "# hp.specShow(sound)\n",
    "# for i, p in enumerate(params):\n",
    "#     print(\"submodule %d Paramters:\"%(i,))\n",
    "#     print(p.__dict__)\n",
    "# print(\"\\n\")\n",
    "Audio(sound,rate = sr, autoplay = True)"
   ]
  },
  {
   "cell_type": "markdown",
   "metadata": {
    "slideshow": {
     "slide_type": "slide"
    }
   },
   "source": [
    "## Mutation !!\n",
    "    - For future work!"
   ]
  },
  {
   "cell_type": "code",
   "execution_count": 1,
   "metadata": {
    "slideshow": {
     "slide_type": "slide"
    }
   },
   "outputs": [
    {
     "ename": "NameError",
     "evalue": "name 'params' is not defined",
     "output_type": "error",
     "traceback": [
      "\u001b[0;31m---------------------------------------------------------------------------\u001b[0m",
      "\u001b[0;31mNameError\u001b[0m                                 Traceback (most recent call last)",
      "\u001b[0;32m<ipython-input-1-e25f0262223d>\u001b[0m in \u001b[0;36m<module>\u001b[0;34m\u001b[0m\n\u001b[0;32m----> 1\u001b[0;31m \u001b[0mpm\u001b[0m \u001b[0;34m=\u001b[0m \u001b[0;34m[\u001b[0m\u001b[0mp\u001b[0m\u001b[0;34m.\u001b[0m\u001b[0mmutate\u001b[0m\u001b[0;34m(\u001b[0m\u001b[0me\u001b[0m\u001b[0;34m=\u001b[0m\u001b[0;36m0.3\u001b[0m\u001b[0;34m,\u001b[0m \u001b[0mt\u001b[0m\u001b[0;34m=\u001b[0m\u001b[0;36m0.3\u001b[0m\u001b[0;34m)\u001b[0m \u001b[0;32mfor\u001b[0m \u001b[0mp\u001b[0m \u001b[0;32min\u001b[0m \u001b[0mparams\u001b[0m\u001b[0;34m]\u001b[0m\u001b[0;34m\u001b[0m\u001b[0;34m\u001b[0m\u001b[0m\n\u001b[0m\u001b[1;32m      2\u001b[0m \u001b[0;31m# for p in pm:\u001b[0m\u001b[0;34m\u001b[0m\u001b[0;34m\u001b[0m\u001b[0;34m\u001b[0m\u001b[0m\n\u001b[1;32m      3\u001b[0m \u001b[0;31m#     print(p.__dict__)\u001b[0m\u001b[0;34m\u001b[0m\u001b[0;34m\u001b[0m\u001b[0;34m\u001b[0m\u001b[0m\n\u001b[1;32m      4\u001b[0m \u001b[0mhp\u001b[0m\u001b[0;34m.\u001b[0m\u001b[0mspecShow\u001b[0m\u001b[0;34m(\u001b[0m\u001b[0mpg\u001b[0m\u001b[0;34m.\u001b[0m\u001b[0mensemble\u001b[0m\u001b[0;34m(\u001b[0m\u001b[0mparams\u001b[0m\u001b[0;34m)\u001b[0m\u001b[0;34m)\u001b[0m\u001b[0;34m\u001b[0m\u001b[0;34m\u001b[0m\u001b[0m\n\u001b[1;32m      5\u001b[0m \u001b[0mAudio\u001b[0m\u001b[0;34m(\u001b[0m\u001b[0mpg\u001b[0m\u001b[0;34m.\u001b[0m\u001b[0mensemble\u001b[0m\u001b[0;34m(\u001b[0m\u001b[0mpm\u001b[0m\u001b[0;34m)\u001b[0m\u001b[0;34m,\u001b[0m\u001b[0mrate\u001b[0m\u001b[0;34m=\u001b[0m\u001b[0msr\u001b[0m\u001b[0;34m,\u001b[0m \u001b[0mautoplay\u001b[0m \u001b[0;34m=\u001b[0m \u001b[0;32mTrue\u001b[0m\u001b[0;34m)\u001b[0m\u001b[0;34m\u001b[0m\u001b[0;34m\u001b[0m\u001b[0m\n",
      "\u001b[0;31mNameError\u001b[0m: name 'params' is not defined"
     ]
    }
   ],
   "source": [
    "pm = [p.mutate(e=0.3, t=0.3) for p in params]\n",
    "# for p in pm:\n",
    "#     print(p.__dict__)\n",
    "hp.specShow(pg.ensemble(params))\n",
    "Audio(pg.ensemble(pm),rate=sr, autoplay = True)"
   ]
  },
  {
   "cell_type": "markdown",
   "metadata": {
    "slideshow": {
     "slide_type": "slide"
    }
   },
   "source": [
    "### So... we can make noise. What now?\n",
    "- But how do we select ones that sound like drums?\n",
    "- We need a virtual ear!\n",
    "    - Decision 1: Recognizes drums from not-drums\n",
    "    - Decision 2: Given a drum, it can categorize the type of drum"
   ]
  },
  {
   "cell_type": "markdown",
   "metadata": {
    "slideshow": {
     "slide_type": "slide"
    }
   },
   "source": [
    "### Maybe these datasets can help\n",
    "| DB Name   | Categories                                                     |\n",
    "|-----------|----------------------------------------------------------------|\n",
    "| FreeDB    | Kicks:533 \\- Snares:372 \\- Claps:230 \\- Hats:105 \\- Other:281  |\n",
    "| RadarDB   | Kicks:1054 \\- Snares:842 \\- Claps:353              |\n",
    "| MixedDB   | Kicks:533 \\- Snares:372 \\- Claps:230 \\- Hats:105 \\- Others:281 |\n",
    "| NoiseDB | Generatable                                                    | 1 Stack:2000 3 Stacks:2000  5 Stacks:2000 |\n"
   ]
  },
  {
   "cell_type": "markdown",
   "metadata": {
    "slideshow": {
     "slide_type": "slide"
    }
   },
   "source": [
    "### How do We Represent Sounds?"
   ]
  },
  {
   "cell_type": "code",
   "execution_count": 34,
   "metadata": {
    "collapsed": true,
    "jupyter": {
     "outputs_hidden": true,
     "source_hidden": true
    },
    "slideshow": {
     "slide_type": "slide"
    }
   },
   "outputs": [
    {
     "name": "stdout",
     "output_type": "stream",
     "text": [
      "loading data base from ./feature_extraction/drum_dbs/radar ./feature_extraction/drum_dbs/radar.dill\n",
      "loading data base from ./feature_extraction/drum_dbs/sample_swap ./feature_extraction/drum_dbs/sample_swap.dill\n"
     ]
    }
   ],
   "source": [
    "import torch\n",
    "import torch.utils.data as data\n",
    "import torch.optim as optim\n",
    "import torch.nn as nn\n",
    "import torch.nn.functional as F\n",
    "from torch.autograd import Variable\n",
    "from feature_extraction import pytorch_models as pm\n",
    "import torchaudio as ta\n",
    "import torchaudio\n",
    "import torchvision as tv\n",
    "import matplotlib.pyplot as plt\n",
    "from IPython.display import Audio\n",
    "from feature_extraction import mir_utils as miru\n",
    "from torch.utils.data import Dataset, DataLoader\n",
    "import librosa\n",
    "import librosa.display\n",
    "\n",
    "imp.reload(miru)\n",
    "SR=44100\n",
    "spec=torchaudio.functional.spectrogram\n",
    "db_name=\"sample_swap_free_final\"\n",
    "drum_df=pd.concat([miru.audioFrames(db_name=\"radar\",loadCache=True, path = \"./feature_extraction/drum_dbs/\"),\n",
    "                   miru.audioFrames(db_name=\"sample_swap\",path = \"./feature_extraction/drum_dbs/\",loadCache=True)])"
   ]
  },
  {
   "cell_type": "code",
   "execution_count": 35,
   "metadata": {
    "jupyter": {
     "source_hidden": true
    },
    "slideshow": {
     "slide_type": "slide"
    }
   },
   "outputs": [],
   "source": [
    "#defining transformations\n",
    "class freqTrans(object):\n",
    "    def __init__(self,num_mels=50,SR=SR):\n",
    "        self.num_mels=num_mels\n",
    "        self.ampT=torchaudio.transforms.AmplitudeToDB(stype='power', top_db=30)\n",
    "        self.melF=torchaudio.transforms.MelScale(n_mels=self.num_mels, sample_rate=SR, f_min=30.0, f_max=None, n_stft=None)\n",
    "        \n",
    "    def __call__(self, sample):\n",
    "        wf,label=sample[\"signal\"],sample[\"label\"]\n",
    "        wf=wf.reshape(-1,len(wf))\n",
    "        sample_length=SR//4\n",
    "        wf=wf[:,0:24000]\n",
    "        num_bins=wf[0].shape[0]\n",
    "        win_length=num_bins\n",
    "        hop_step=sample_length//(self.num_mels)\n",
    "        window=torch.tensor([1]*win_length)\n",
    "        s=spec(wf, 100, window, num_bins, hop_step, win_length,2,normalized=False)\n",
    "        s=self.melF(s)\n",
    "        s=self.ampT(s)\n",
    "        freq=s.sum(axis=0).sum(axis=1)\n",
    "        freq=freq-freq.min()\n",
    "        freq=freq/freq.max()\n",
    "        freq[torch.isnan(freq)]=0\n",
    "        return {\"feats\":freq.detach(),\"label\":label}\n",
    "\n",
    "class envTrans(object):\n",
    "    def __init__(self,num_mels=10,SR=SR):\n",
    "        self.env_size=9\n",
    "        self.num_mels=num_mels\n",
    "        self.amp=torchaudio.transforms.AmplitudeToDB(stype='power', top_db=60)\n",
    "        self.melEnv=torchaudio.transforms.MelScale(n_mels=self.num_mels, sample_rate=SR, f_min=30.0, f_max=None, n_stft=None)\n",
    "#         self.norm= transforms.Normalize((0.5, 0.5, 0.5), (0.5, 0.5, 0.5))\n",
    "    def __call__(self, sample):\n",
    "        wf,label=sample[\"signal\"],sample[\"label\"]\n",
    "        \n",
    "        wf=wf.reshape(-1,len(wf))\n",
    "        sample_length=SR\n",
    "        num_bins=wf[0].shape[0]\n",
    "        win_length=SR//20\n",
    "        hop_step=SR//self.env_size\n",
    "        window=torch.tensor([1]*win_length)\n",
    "        s=spec(wf, 0, window,win_length, hop_step, win_length,2,normalized=False)\n",
    "        s=self.melEnv(s)\n",
    "        s=self.amp(s)\n",
    "#         s=self.norm(s)\n",
    "        #normalizing\n",
    "        env=s.sum(axis=0).sum(axis=0)\n",
    "        env=env-env.min()\n",
    "        env=env/env.max()\n",
    "        env[torch.isnan(env)]=0\n",
    "\n",
    "        num_padding=torch.max(torch.tensor([self.env_size+1-env.shape[0],0]))\n",
    "        env_vec=torch.cat([env.detach(),torch.zeros(num_padding)],dim=0)\n",
    "        return {\"feats\":env_vec.detach(),\"label\":label}\n",
    "\n",
    "class feats_and_env(object):\n",
    "    def __init__(self,feat_mels=50,env_mels=1):\n",
    "        self.ft=freqTrans(num_mels=feat_mels)\n",
    "        self.et=envTrans(num_mels=env_mels)\n",
    "\n",
    "    def __call__(self, sample):\n",
    "            combined_feats=torch.cat((self.ft(sample)[\"feats\"],self.et(sample)[\"feats\"]))\n",
    "            return {\"feats\":combined_feats,\"label\":sample[\"label\"]}\n",
    "        \n",
    "\n",
    "class specTrans(object):\n",
    "    def __init__(self,num_mels=50,SR=SR,time_steps=20):\n",
    "        self.num_mels=num_mels\n",
    "        self.ampP=torchaudio.transforms.AmplitudeToDB(stype='power',top_db=60)\n",
    "        self.melP=torchaudio.transforms.MelScale(n_mels=self.num_mels, sample_rate=SR,n_stft=None)\n",
    "        self.hop_step=time_steps-1\n",
    "    def __call__(self, sample):\n",
    "        \n",
    "        wf,label,p,drum_type=sample[\"signal\"],sample[\"label\"],sample[\"path\"],sample[\"drum_type\"]\n",
    "        wf=wf.reshape(-1,len(wf))\n",
    "        sample_length=SR\n",
    "\n",
    "        num_bins=wf[0].shape[0]\n",
    "        win_length=SR//17\n",
    "        hop_step=SR//self.hop_step\n",
    "        window=torch.tensor([1]*win_length)\n",
    "        s=spec(wf, 0, window, num_bins, hop_step, win_length,2,normalized=False)\n",
    "        s=self.melP(s)\n",
    "        s= self.ampP(s)\n",
    "        s = s - s.min()\n",
    "        s = s/s.abs().max()\n",
    "        freq=s\n",
    "        freq[torch.isnan(freq)]=0\n",
    "        freq=freq[0]\n",
    "        return {\"feats\":freq.detach(),\"label\":label,\"path\":p,\"drum_type\":drum_type}\n",
    "\n",
    "def MakeSpecs(tfList, plt):\n",
    "    for i, tsfrm in enumerate(tfList):\n",
    "        transformed_sample = tsfrm(sample)\n",
    "        ax = plt.subplot(1, 3, i + 1)\n",
    "        plt.tight_layout()\n",
    "        ft=transformed_sample[\"feats\"]\n",
    "        if i==0:\n",
    "            plt.title(\"Frequency Features\",fontsize=20)\n",
    "            plt.xlabel(\"Frequency Bin\",fontsize=20)\n",
    "            plt.ylabel(\"Scaled Magnitude\",fontsize=20)\n",
    "            plt.scatter(y=ft,x=range(0,len(ft)))\n",
    "        if i==1:\n",
    "            plt.title(\"Envelope Features\",fontsize=20)\n",
    "            plt.xlabel(\"Time Step\",fontsize=20)\n",
    "            plt.ylabel(\"Scaled Magnitude\",fontsize=20)            \n",
    "            plt.scatter(y=ft,x=range(0,len(ft)))\n",
    "        if i==2:\n",
    "            print(ft.shape,)\n",
    "            sf=ft.detach().numpy()\n",
    "            ft=ft.detach().numpy()\n",
    "            plt.title(\"Spectrum Features\",fontsize=20)\n",
    "            librosa.display.specshow(sf,cmap='gray_r',)\n",
    "            plt.xlabel(\"Time Step\",fontsize=20)\n",
    "            plt.ylabel(\"Magnitude of Bin\",fontsize=20)\n"
   ]
  },
  {
   "cell_type": "code",
   "execution_count": 2,
   "metadata": {
    "slideshow": {
     "slide_type": "slide"
    }
   },
   "outputs": [
    {
     "ename": "NameError",
     "evalue": "name 'plt' is not defined",
     "output_type": "error",
     "traceback": [
      "\u001b[0;31m---------------------------------------------------------------------------\u001b[0m",
      "\u001b[0;31mNameError\u001b[0m                                 Traceback (most recent call last)",
      "\u001b[0;32m<ipython-input-2-a7c6d8560eaf>\u001b[0m in \u001b[0;36m<module>\u001b[0;34m\u001b[0m\n\u001b[1;32m      2\u001b[0m \u001b[0mFREQ_BINS\u001b[0m\u001b[0;34m=\u001b[0m\u001b[0;36m40\u001b[0m\u001b[0;34m\u001b[0m\u001b[0;34m\u001b[0m\u001b[0m\n\u001b[1;32m      3\u001b[0m \u001b[0mTIME_STEPS\u001b[0m\u001b[0;34m=\u001b[0m\u001b[0;36m20\u001b[0m\u001b[0;34m\u001b[0m\u001b[0;34m\u001b[0m\u001b[0m\n\u001b[0;32m----> 4\u001b[0;31m \u001b[0mfig\u001b[0m \u001b[0;34m=\u001b[0m \u001b[0mplt\u001b[0m\u001b[0;34m.\u001b[0m\u001b[0mfigure\u001b[0m\u001b[0;34m(\u001b[0m\u001b[0mfigsize\u001b[0m\u001b[0;34m=\u001b[0m\u001b[0;34m(\u001b[0m\u001b[0;36m20\u001b[0m\u001b[0;34m,\u001b[0m\u001b[0;36m4\u001b[0m\u001b[0;34m)\u001b[0m\u001b[0;34m)\u001b[0m\u001b[0;34m\u001b[0m\u001b[0;34m\u001b[0m\u001b[0m\n\u001b[0m\u001b[1;32m      5\u001b[0m \u001b[0mds\u001b[0m\u001b[0;34m=\u001b[0m\u001b[0mpm\u001b[0m\u001b[0;34m.\u001b[0m\u001b[0maudioDataset\u001b[0m\u001b[0;34m(\u001b[0m\u001b[0mpd\u001b[0m\u001b[0;34m.\u001b[0m\u001b[0mconcat\u001b[0m\u001b[0;34m(\u001b[0m\u001b[0;34m[\u001b[0m\u001b[0mdrum_df\u001b[0m\u001b[0;34m]\u001b[0m\u001b[0;34m,\u001b[0m\u001b[0msort\u001b[0m\u001b[0;34m=\u001b[0m\u001b[0;32mFalse\u001b[0m\u001b[0;34m)\u001b[0m\u001b[0;34m,\u001b[0m\u001b[0;34m\"./\"\u001b[0m\u001b[0;34m,\u001b[0m\u001b[0mtask\u001b[0m\u001b[0;34m=\u001b[0m\u001b[0;34m\"dvn\"\u001b[0m\u001b[0;34m,\u001b[0m\u001b[0;34m)\u001b[0m\u001b[0;34m\u001b[0m\u001b[0;34m\u001b[0m\u001b[0m\n\u001b[1;32m      6\u001b[0m \u001b[0msample\u001b[0m \u001b[0;34m=\u001b[0m \u001b[0mds\u001b[0m\u001b[0;34m[\u001b[0m\u001b[0mnp\u001b[0m\u001b[0;34m.\u001b[0m\u001b[0mrandom\u001b[0m\u001b[0;34m.\u001b[0m\u001b[0mrandint\u001b[0m\u001b[0;34m(\u001b[0m\u001b[0mlen\u001b[0m\u001b[0;34m(\u001b[0m\u001b[0mdrum_df\u001b[0m\u001b[0;34m)\u001b[0m\u001b[0;34m)\u001b[0m\u001b[0;34m]\u001b[0m\u001b[0;34m\u001b[0m\u001b[0;34m\u001b[0m\u001b[0m\n",
      "\u001b[0;31mNameError\u001b[0m: name 'plt' is not defined"
     ]
    }
   ],
   "source": [
    "from feature_extraction import pytorch_models as pm\n",
    "FREQ_BINS=40\n",
    "TIME_STEPS=20\n",
    "fig = plt.figure(figsize=(20,4))\n",
    "ds=pm.audioDataset(pd.concat([drum_df],sort=False),\"./\",task=\"dvn\",)\n",
    "sample = ds[np.random.randint(len(drum_df))]\n",
    "sample={\"signal\":sample[\"signal\"],\"label\":sample[\"label\"],\"path\":sample[\"path\"],\"drum_type\":sample[\"drum_type\"]}\n",
    "print(sample[\"drum_type\"])\n",
    "tfList=[freqTrans(50),envTrans(num_mels=10,SR=SR),specTrans(FREQ_BINS,time_steps=TIME_STEPS)]\n",
    "MakeSpecs(tfList, plt)\n",
    "Audio(sample[\"signal\"],rate=SR,autoplay=True)"
   ]
  },
  {
   "cell_type": "markdown",
   "metadata": {
    "slideshow": {
     "slide_type": "slide"
    }
   },
   "source": [
    "### Learning from these features:\n",
    "- We Need a virtual ear to make quick decisions\n",
    "    - Decision 1: Drum vs Not Drum\n",
    "    - Decision 2: Different types of drums\n",
    "    \n",
    "- Major Hurdles:\n",
    "    - Open Set Recognition\n",
    "    - Training Time\n",
    "    - Getting Data"
   ]
  },
  {
   "cell_type": "markdown",
   "metadata": {
    "slideshow": {
     "slide_type": "subslide"
    }
   },
   "source": [
    "### Model Types:\n",
    "- Two Phased Ears\n",
    "   - Decision 1, then Decision 2\n",
    "- Mixed Ear Models:\n",
    "    - Further condense the representation and make both decisions together"
   ]
  },
  {
   "cell_type": "code",
   "execution_count": 11,
   "metadata": {
    "slideshow": {
     "slide_type": "slide"
    }
   },
   "outputs": [
    {
     "data": {
      "text/html": [
       "\n",
       "        <iframe\n",
       "            width=\"1800\"\n",
       "            height=\"1000\"\n",
       "            src=\"./presentation_data/TPE_ear.pdf\"\n",
       "            frameborder=\"0\"\n",
       "            allowfullscreen\n",
       "        ></iframe>\n",
       "        "
      ],
      "text/plain": [
       "<IPython.lib.display.IFrame at 0x7f925c91d6d0>"
      ]
     },
     "execution_count": 11,
     "metadata": {},
     "output_type": "execute_result"
    }
   ],
   "source": [
    "#TPE Ears\n",
    "IFrame(\"./presentation_data/TPE_ear.pdf\",width=1800, height=1000)"
   ]
  },
  {
   "cell_type": "code",
   "execution_count": 12,
   "metadata": {
    "slideshow": {
     "slide_type": "skip"
    }
   },
   "outputs": [],
   "source": [
    "import sys\n",
    "from joblib import dump, load\n",
    "sys.path.append(\"..\")\n",
    "import numpy as np\n",
    "import pandas as pd\n",
    "import torch\n",
    "import torchvision\n",
    "import matplotlib.pyplot as plt\n",
    "import imp\n",
    "from pathlib import Path\n",
    "\n",
    "from pippi.soundbuffer import SoundBuffer\n",
    "from pippi import dsp,fx\n",
    "import param_generation as pg\n",
    "\n",
    "import _pickle as pickle\n",
    "from IPython.display import Audio\n",
    "from feature_extraction.mir_utils import *\n",
    "\n",
    "import torch.utils.data as utils\n",
    "import torchvision.transforms as transforms\n",
    "from PIL import Image\n",
    "import common_vars as comv\n",
    "\n",
    "import csv\n",
    "import helpers\n",
    "imp.reload(helpers)\n",
    "imp.reload(comv)\n",
    "imp.reload(pg)\n",
    "from feature_extraction import pytorch_models as tm\n",
    "from feature_extraction import pytorch_models as pm\n",
    "imp.reload(tm)\n",
    "from helpers import *\n",
    "\n",
    "from common_vars import SR\n",
    "device = torch.device(\"cuda\" if torch.cuda.is_available() else \"cpu\")\n",
    "save_path=\"./generated_sample_pack/\"\n",
    "# device = \"cpu\"\n",
    "stack_size=3\n",
    "BATCH_SIZE=1\n",
    "NUM_BINS=100\n",
    "\n",
    "classes=comv.classes\n",
    "classes_ranked=comv.classes_ranked\n",
    "cDict={v:i for i,v in enumerate(classes)}\n",
    "\n",
    "drum_groups=['snare','kick','hat','other','clap']\n",
    "\n",
    "drum_df=pd.DataFrame(columns=[\"name\",\"fc\",\"cnnlstm\",\"env+freq\",\"consensus\",\"stack_size\"])\n",
    "\n",
    "def model_loader(m,p):\n",
    "    s=torch.load(p) \n",
    "    m.load_state_dict(s)\n",
    "    m.to(device)\n",
    "    return m\n",
    "\n",
    "\n",
    "imp.reload(pm)\n",
    "\n",
    "input_dim = 120\n",
    "seq_dim=100\n",
    "output_size = 5\n",
    "hidden_dim = 1000\n",
    "n_layers = 1\n",
    "\n",
    "    \n",
    "#########DVN#########\n",
    "#env model stuff\n",
    "env_model_dvn = tm.env_Model(D_in=10,H1=10,H2=5,H3=10,H4=2,H5=10,device=device)\n",
    "state='./feature_extraction/models/fc/env_dvn_95_35.pt'\n",
    "\n",
    "env_model_dvn.load_state_dict(torch.load(state))\n",
    "env_trans=tm.envTrans()\n",
    "env_model_dvn.to(device)\n",
    "\n",
    "\n",
    "# pitch model stuff\n",
    "fc_spec_model_dvn=tm.getFCSpecModel(D_in=20*20,H1=20,H2=10,H3=4,D_out=2)\n",
    "# state='./feature_extraction/models/fc/spec_fc_dvn_96.pt'\n",
    "state='./feature_extraction/models/fc/final_spec_fc_dvn_97.pt'\n",
    "\n",
    "fc_spec_model_dvn.load_state_dict(torch.load(state))\n",
    "fc_spec_trans_dvn=tm.specTrans(20)\n",
    "fc_spec_model_dvn.to(device)\n",
    "\n",
    "#cnn lstm\n",
    "cnn_model_dvn=pm.CNNLSTM_dvn()\n",
    "# state='./feature_extraction/models/cnn/clst_dvn_96_279.pt'\n",
    "state='./feature_extraction/models/cnn/final_clst_dvn_98_401.pt'\n",
    "\n",
    "\n",
    "cnn_model_dvn.load_state_dict(torch.load(state))\n",
    "cnn_model_dvn.to(device)\n",
    "cnn_model_dvn.to(device)\n",
    "#########DVD#########\n",
    "#fc dvd\n",
    "dvd_fc=pm.getFCSpecModel(D_in=20*20,H1=100,H2=50,H3=100,D_out=len(drum_groups))\n",
    "# state='./feature_extraction/models/fc/spec_fc_dvd_81.pt'\n",
    "state='./feature_extraction/models/fc/final_spec_fc_dvd_76.pt'\n",
    "dvd_fc.load_state_dict(torch.load(state))\n",
    "dvd_fc.to(device)\n",
    "\n",
    "#cnn_dvd\n",
    "dvd_cnn=pm.CNN_dvd(len_out=len(drum_groups))\n",
    "# state='./feature_extraction/models/cnn/clst_dvd_90_170.pt'\n",
    "state='./feature_extraction/models/cnn/final_cslt_dvd_86_94.pt'\n",
    "dvd_cnn.load_state_dict(torch.load(state))\n",
    "dvd_cnn.to(device)\n",
    "\n",
    "#freq+env model\n",
    "freq_env_model_dvd = tm.env_freq_Model(D_in=60,H1=30,H2=10,H3=10,D_out=len(drum_groups))\n",
    "# state='./feature_extraction/models/fc/freq_env_dvd_86_351.pt'\n",
    "state='./feature_extraction/models/fc/final_freq_env_dvd_85_205.pt'\n",
    "freq_env_model_dvd.load_state_dict(torch.load(state))\n",
    "freq_env_trans=tm.freq_and_env_Trans(feat_mels=50,env_mels=1)\n",
    "freq_env_model_dvd.to(device)\n",
    "\n",
    "\n",
    "\n",
    "from IPython.display import Audio\n",
    "import librosa.display\n",
    "\n",
    "for g in drum_groups:\n",
    "    Path(save_path+\"/\"+g).mkdir(parents=True, exist_ok=True)\n",
    "\n",
    "\n",
    "imp.reload(pm)\n",
    "\n",
    "input_dim = 120\n",
    "seq_dim=100\n",
    "output_size = 5\n",
    "hidden_dim = 1000\n",
    "n_layers = 1\n",
    "from IPython.display import Audio\n",
    "import librosa.display\n",
    "\n",
    "for g in drum_groups:\n",
    "    Path(save_path+\"/\"+g).mkdir(parents=True, exist_ok=True)\n",
    "\n",
    "#making graphs of models\n",
    "\n",
    "from torchsummary import summary\n",
    "import imp as imp\n",
    "out,params= stackMaker(stack_size)\n",
    "a= memToAud(out)\n",
    "transform_input= {\"signal\":torch.tensor(a,dtype=torch.float),\"label\":torch.tensor(0)}\n",
    "env_feats=env_trans.call(transform_input)[\"feats\"].to(device)\n",
    "freq_feats=freq_env_trans.call(transform_input)[\"feats\"].to(device)\n",
    "pitch_feats=fc_spec_trans_dvn.call(transform_input)[\"feats\"].to(device)\n",
    "spec_flat=torch.flatten(pitch_feats, start_dim=1)\n",
    "\n",
    "outputEnvFreq=freq_env_model_dvd(freq_feats)\n",
    "outputCNNDVD=dvd_cnn(pitch_feats.reshape(-1,1,20,20))\n",
    "outputFCDVD=dvd_fc(spec_flat)\n",
    "outputE=env_model_dvn(env_feats)\n",
    "outputSPECFC=fc_spec_model_dvn(spec_flat)\n",
    "outputCNN= cnn_model_dvn(pitch_feats.reshape(-1,1,20,20))\n",
    "\n",
    "\n",
    "# summary(freq_env_model_dvd,freq_feats.shape)\n",
    "\n",
    "model,x=freq_env_model_dvd,freq_feats\n",
    "model,x=dvd_cnn,pitch_feats.reshape(-1,1,20,20)\n",
    "model,x=cnn_model_dvn,pitch_feats.reshape(-1,1,20,20)\n",
    "model,x=cnn_model_dvn,pitch_feats.reshape(-1,1,20,20)\n",
    "\n",
    "\n",
    "\n",
    "def evalSoundSlow(a,env_thresh=0.5,fc_spec_tresh=0.5):\n",
    "    try:\n",
    "        a=librosa.util.normalize(a)\n",
    "    except:\n",
    "        pass\n",
    "    transform_input= {\"signal\":torch.tensor(a,dtype=torch.float),\"label\":torch.tensor(0)}\n",
    "    env_feats=env_trans.call(transform_input)[\"feats\"].to(device)\n",
    "    freq_feats=freq_env_trans.call(transform_input)[\"feats\"].to(device)\n",
    "    pitch_feats=fc_spec_trans_dvn.call(transform_input)[\"feats\"].to(device)\n",
    "    spec_flat=torch.flatten(pitch_feats, start_dim=1)\n",
    "\n",
    "    outputEnvFreq=freq_env_model_dvd(freq_feats)\n",
    "    outputCNNDVD=dvd_cnn(pitch_feats.reshape(-1,1,20,20))\n",
    "    outputFCDVD=dvd_fc(spec_flat)\n",
    "    outputE=env_model_dvn(env_feats)\n",
    "    outputSPECFC=fc_spec_model_dvn(spec_flat)\n",
    "    outputCNN= cnn_model_dvn(pitch_feats.reshape(-1,1,20,20))\n",
    "    \n",
    "    o_e,o_fc_spec,o_cnn_spec=outputE[0].item(), outputSPECFC[0][0].item() ,outputCNN[0][0].item()\n",
    "    tote=outputE[0].item()+outputSPECFC[0][0].item()\n",
    "\n",
    "    gfc=drum_groups[torch.argmax(outputFCDVD).item()]\n",
    "    gcnn=drum_groups[torch.argmax(outputCNNDVD).item()]\n",
    "    genvfreq=drum_groups[torch.argmax(outputEnvFreq).item()]\n",
    "    cat_consensus=drum_groups[torch.argmax(outputFCDVD+outputCNNDVD+outputEnvFreq)]\n",
    "    \n",
    "    spec_score=(o_fc_spec+o_cnn_spec)/2\n",
    "    if (o_e>=env_thresh) or (o_cnn_spec<fc_spec_tresh) or o_fc_spec<fc_spec_tresh:\n",
    "        print('\\033[94m' + 'Decision 1:')\n",
    "        print(\"env model ->\",o_e)\n",
    "        print(\"fc model ->\",1 - o_fc_spec)\n",
    "        print(\"CNN model -> \",1 - o_cnn_spec)\n",
    "        print(\"Decision 2:\")\n",
    "        print(\"fc category ->\",gfc,\"\\ncnn category ->\",gcnn,\"\\nenv+freq->\",genvfreq)\n",
    "        \n",
    "        return(a,env_feats,freq_feats,pitch_feats,stack_size,\"found\")\n",
    "    return (a,env_feats,freq_feats,pitch_feats,stack_size,\"not_found\")\n",
    "\n",
    "def findDrum(stack_size=1,iteration=0):\n",
    "    out,params = stackMaker(stack_size)\n",
    "    a = memToAud(out)\n",
    "    return evalSoundSlow(a,env_thresh=0.5, fc_spec_tresh=0.5)\n",
    "def tpe_run():\n",
    "    i,j = 0,0\n",
    "    while i<1000:\n",
    "        i, j = i+1,j+1\n",
    "        stack_size=np.random.choice([2])\n",
    "        (a,env_feats,freq_feats,pitch_feats,stack_size,results)=findDrum(stack_size,iteration=i)\n",
    "        if results!=\"not_found\":\n",
    "            print(\"\\nit took %d iteration(s), stack size %d\"%(j,stack_size))\n",
    "            break\n",
    "        print(i, end=\"\\r\")\n",
    "    fig = plt.figure(figsize=(15,3))\n",
    "    ax = plt.subplot(1, 2,1)\n",
    "    plt.plot(env_feats.cpu())\n",
    "    ax = plt.subplot(1,2,2)\n",
    "    ft = pitch_feats.cpu()\n",
    "    ft = ft.numpy()\n",
    "    librosa.display.specshow(ft[0])\n",
    "    return a\n",
    "   "
   ]
  },
  {
   "cell_type": "code",
   "execution_count": 3,
   "metadata": {
    "slideshow": {
     "slide_type": "slide"
    }
   },
   "outputs": [
    {
     "ename": "NameError",
     "evalue": "name 'tpe_run' is not defined",
     "output_type": "error",
     "traceback": [
      "\u001b[0;31m---------------------------------------------------------------------------\u001b[0m",
      "\u001b[0;31mNameError\u001b[0m                                 Traceback (most recent call last)",
      "\u001b[0;32m<ipython-input-3-a5cd382be80a>\u001b[0m in \u001b[0;36m<module>\u001b[0;34m\u001b[0m\n\u001b[0;32m----> 1\u001b[0;31m \u001b[0ma\u001b[0m \u001b[0;34m=\u001b[0m \u001b[0mtpe_run\u001b[0m\u001b[0;34m(\u001b[0m\u001b[0;34m)\u001b[0m\u001b[0;34m\u001b[0m\u001b[0;34m\u001b[0m\u001b[0m\n\u001b[0m\u001b[1;32m      2\u001b[0m \u001b[0mAudio\u001b[0m\u001b[0;34m(\u001b[0m\u001b[0ma\u001b[0m\u001b[0;34m,\u001b[0m\u001b[0mrate\u001b[0m\u001b[0;34m=\u001b[0m\u001b[0msr\u001b[0m\u001b[0;34m,\u001b[0m \u001b[0mautoplay\u001b[0m\u001b[0;34m=\u001b[0m\u001b[0;32mFalse\u001b[0m\u001b[0;34m)\u001b[0m\u001b[0;34m\u001b[0m\u001b[0;34m\u001b[0m\u001b[0m\n",
      "\u001b[0;31mNameError\u001b[0m: name 'tpe_run' is not defined"
     ]
    }
   ],
   "source": [
    "a = tpe_run()\n",
    "Audio(a,rate=sr, autoplay=False)"
   ]
  },
  {
   "cell_type": "markdown",
   "metadata": {
    "slideshow": {
     "slide_type": "slide"
    }
   },
   "source": [
    "More Examples:"
   ]
  },
  {
   "cell_type": "code",
   "execution_count": 74,
   "metadata": {
    "slideshow": {
     "slide_type": "subslide"
    }
   },
   "outputs": [
    {
     "name": "stdout",
     "output_type": "stream",
     "text": [
      "\u001b[94mDecision 1:\n",
      "env model -> 1.6220045040427067e-07\n",
      "fc model -> 0.439758837223053\n",
      "CNN model ->  0.9371882304549217\n",
      "Decision 2:\n",
      "fc category -> hat \n",
      "cnn category -> clap \n",
      "env+freq-> clap\n",
      "\n",
      "it took 112 iteration(s), stack size 3\n"
     ]
    },
    {
     "data": {
      "image/png": "[encoded data removed]",
      "text/plain": [
       "<Figure size 1080x216 with 2 Axes>"
      ]
     },
     "metadata": {
      "needs_background": "light"
     },
     "output_type": "display_data"
    }
   ],
   "source": [
    "a = tpe_run()\n",
    "Audio(a,rate=sr, autoplay=False)"
   ]
  },
  {
   "cell_type": "code",
   "execution_count": 75,
   "metadata": {
    "slideshow": {
     "slide_type": "subslide"
    }
   },
   "outputs": [],
   "source": [
    "# a = tpe_run()\n",
    "# Audio(a,rate=sr, autoplay=False)"
   ]
  },
  {
   "cell_type": "code",
   "execution_count": 16,
   "metadata": {
    "slideshow": {
     "slide_type": "subslide"
    }
   },
   "outputs": [
    {
     "name": "stdout",
     "output_type": "stream",
     "text": [
      "\u001b[94mDecision 1:\n",
      "env model -> 0.9914578795433044\n",
      "fc model -> 0.004564940929412842\n",
      "CNN model ->  0.0002529025077819824\n",
      "Decision 2:\n",
      "fc category -> hat \n",
      "cnn category -> hat \n",
      "env+freq-> snare\n",
      "\n",
      "it took 61 iteration(s), stack size 3\n"
     ]
    },
    {
     "data": {
      "text/html": [
       "\n",
       "                <audio  controls=\"controls\" >\n",
       "                    <source src=\"data:audio/wav;base64,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\" type=\"audio/wav\" />\n",
       "                    Your browser does not support the audio element.\n",
       "                </audio>\n",
       "              "
      ],
      "text/plain": [
       "<IPython.lib.display.Audio object>"
      ]
     },
     "execution_count": 16,
     "metadata": {},
     "output_type": "execute_result"
    },
    {
     "data": {
      "image/png": "[encoded data removed]",
      "text/plain": [
       "<Figure size 1080x216 with 2 Axes>"
      ]
     },
     "metadata": {
      "needs_background": "light"
     },
     "output_type": "display_data"
    }
   ],
   "source": [
    "# a = tpe_run()\n",
    "# Audio(a,rate=sr, autoplay=False)"
   ]
  },
  {
   "cell_type": "code",
   "execution_count": 17,
   "metadata": {
    "slideshow": {
     "slide_type": "subslide"
    }
   },
   "outputs": [
    {
     "name": "stdout",
     "output_type": "stream",
     "text": [
      "\u001b[94mDecision 1:\n",
      "env model -> 0.8915913105010986\n",
      "fc model -> 0.6594774425029755\n",
      "CNN model ->  0.9369648396968842\n",
      "Decision 2:\n",
      "fc category -> snare \n",
      "cnn category -> other \n",
      "env+freq-> snare\n",
      "\n",
      "it took 99 iteration(s), stack size 3\n"
     ]
    },
    {
     "data": {
      "text/html": [
       "\n",
       "                <audio  controls=\"controls\" >\n",
       "                    <source src=\"data:audio/wav;base64,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\" type=\"audio/wav\" />\n",
       "                    Your browser does not support the audio element.\n",
       "                </audio>\n",
       "              "
      ],
      "text/plain": [
       "<IPython.lib.display.Audio object>"
      ]
     },
     "execution_count": 17,
     "metadata": {},
     "output_type": "execute_result"
    },
    {
     "data": {
      "image/png": "[encoded data removed]",
      "text/plain": [
       "<Figure size 1080x216 with 2 Axes>"
      ]
     },
     "metadata": {
      "needs_background": "light"
     },
     "output_type": "display_data"
    }
   ],
   "source": [
    "a = tpe_run()\n",
    "Audio(a,rate=sr, autoplay=False)"
   ]
  },
  {
   "cell_type": "code",
   "execution_count": 4,
   "metadata": {
    "slideshow": {
     "slide_type": "slide"
    }
   },
   "outputs": [
    {
     "ename": "NameError",
     "evalue": "name 'IFrame' is not defined",
     "output_type": "error",
     "traceback": [
      "\u001b[0;31m---------------------------------------------------------------------------\u001b[0m",
      "\u001b[0;31mNameError\u001b[0m                                 Traceback (most recent call last)",
      "\u001b[0;32m<ipython-input-4-8ba6da60f5d0>\u001b[0m in \u001b[0;36m<module>\u001b[0;34m\u001b[0m\n\u001b[1;32m      1\u001b[0m \u001b[0;31m# Survey distribution for TPE pipeline\u001b[0m\u001b[0;34m\u001b[0m\u001b[0;34m\u001b[0m\u001b[0;34m\u001b[0m\u001b[0m\n\u001b[0;32m----> 2\u001b[0;31m \u001b[0mIFrame\u001b[0m\u001b[0;34m(\u001b[0m\u001b[0;34m\"./structural_notebooks/cat_2p.pdf\"\u001b[0m\u001b[0;34m,\u001b[0m \u001b[0mwidth\u001b[0m\u001b[0;34m=\u001b[0m\u001b[0;36m1200\u001b[0m\u001b[0;34m,\u001b[0m \u001b[0mheight\u001b[0m\u001b[0;34m=\u001b[0m\u001b[0;36m500\u001b[0m\u001b[0;34m)\u001b[0m\u001b[0;34m\u001b[0m\u001b[0;34m\u001b[0m\u001b[0m\n\u001b[0m",
      "\u001b[0;31mNameError\u001b[0m: name 'IFrame' is not defined"
     ]
    }
   ],
   "source": [
    "# Survey distribution for TPE pipeline\n",
    "IFrame(\"./structural_notebooks/cat_2p.pdf\", width=1200, height=500)"
   ]
  },
  {
   "cell_type": "markdown",
   "metadata": {
    "slideshow": {
     "slide_type": "slide"
    }
   },
   "source": [
    "### Fleiss Kappa Coefficients for  TPE Survey\n",
    "| Drop Rule                           | Size | HvH   | H\\+FC | H\\+CNN | H\\+E/F | 3 models |\n",
    "|-------------------------------------|------|-------|-------|--------|--------|----------|\n",
    "| No Drops                            | 257  | 0\\.37 | 0\\.35 | 0\\.36  | 0\\.36  | 0\\.28    |\n",
    "| Assigned \"Bad\" By Both              | 236  | 0\\.31 | 0\\.37 | 0\\.37  | 0\\.38  | 0\\.30    |\n",
    "| Assigned \"Bad\" By Either            | 180  | 0\\.47 | 0\\.50 | 0\\.48  | 0\\.48  | 0\\.34    |\n",
    "| Assigned \"Bad\" or \"Other\" By Either | 154  | 0\\.47 | 0\\.59 | 0\\.54  | 0\\.50  | 0\\.35    |\n"
   ]
  },
  {
   "cell_type": "code",
   "execution_count": 19,
   "metadata": {
    "slideshow": {
     "slide_type": "slide"
    }
   },
   "outputs": [
    {
     "data": {
      "text/html": [
       "\n",
       "        <iframe\n",
       "            width=\"1800\"\n",
       "            height=\"600\"\n",
       "            src=\"./presentation_data/MEM_ear.pdf\"\n",
       "            frameborder=\"0\"\n",
       "            allowfullscreen\n",
       "        ></iframe>\n",
       "        "
      ],
      "text/plain": [
       "<IPython.lib.display.IFrame at 0x7f91f02c4e50>"
      ]
     },
     "execution_count": 19,
     "metadata": {},
     "output_type": "execute_result"
    }
   ],
   "source": [
    "# MEM Models\n",
    "IFrame(\"./presentation_data/MEM_ear.pdf\", width=1800, height=600)"
   ]
  },
  {
   "cell_type": "code",
   "execution_count": 20,
   "metadata": {
    "slideshow": {
     "slide_type": "subslide"
    }
   },
   "outputs": [
    {
     "data": {
      "text/html": [
       "\n",
       "        <iframe\n",
       "            width=\"1800\"\n",
       "            height=\"600\"\n",
       "            src=\"./presentation_data/Drums_reacreation.pdf\"\n",
       "            frameborder=\"0\"\n",
       "            allowfullscreen\n",
       "        ></iframe>\n",
       "        "
      ],
      "text/plain": [
       "<IPython.lib.display.IFrame at 0x7f91f02ec190>"
      ]
     },
     "execution_count": 20,
     "metadata": {},
     "output_type": "execute_result"
    }
   ],
   "source": [
    "# Running encoding and decoding recursively\n",
    "IFrame(\"./presentation_data/Drums_reacreation.pdf\", width=1800, height=600)"
   ]
  },
  {
   "cell_type": "code",
   "execution_count": 21,
   "metadata": {
    "slideshow": {
     "slide_type": "skip"
    }
   },
   "outputs": [],
   "source": [
    "# interactive plot to check DVN results\n",
    "import numpy as np\n",
    "import plotly.graph_objects as go\n",
    "from plotly.subplots import make_subplots\n",
    "import pandas as pd\n",
    "from plotly.subplots import make_subplots\n",
    "import pandas as pd\n",
    "import time\n",
    "from sklearn.manifold import TSNE, Isomap, LocallyLinearEmbedding, SpectralEmbedding\n",
    "import plotly.express as px\n",
    "import plotly.graph_objs as go\n",
    "import ipywidgets as widgets\n",
    "import os\n",
    "from sklearn import preprocessing\n",
    "from ast import literal_eval\n",
    "import io\n",
    "from PIL import Image\n",
    "import librosa\n",
    "import sys\n",
    "sys.path.append(\"..\")\n",
    "import torch\n",
    "from feature_extraction import pytorch_utils as pu\n",
    "import matplotlib\n",
    "matplotlib.use('Agg')\n",
    "import matplotlib.pyplot as plt\n",
    "from IPython.display import Audio\n",
    "import os, random\n",
    "from torch.utils.data import Dataset, DataLoader\n",
    "\n",
    "min_max_scaler = preprocessing.MinMaxScaler()\n",
    "n_neighbors = 10\n",
    "FREQ_BINS=30\n",
    "TIME_STEPS=20\n",
    "SR=44100\n",
    "\n",
    "def plotly_able_df(df,num_d=2):\n",
    "    \n",
    "    df[\"feats\"]=df[\"feats\"].apply(literal_eval)\n",
    "    X=df[\"feats\"]\n",
    "    #convert series of arrays into a numpy array\n",
    "    X=pd.DataFrame(X.to_list()).to_numpy()\n",
    "    X = min_max_scaler.fit_transform(X)\n",
    "    time_start = time.time()\n",
    "#     tsne = TSNE(n_components=num_d, random_state=0, perplexity=100, verbose=1)\n",
    "#     tsne = Isomap(n_neighbors, n_components=num_d)\n",
    "#     tsne = LocallyLinearEmbedding(n_neighbors,n_components=num_d)\n",
    "    tsne = SpectralEmbedding(n_neighbors=10,n_components=num_d,random_state=1)\n",
    "    X_2d = tsne.fit_transform(X)\n",
    "    \n",
    "    if num_d==2:\n",
    "        df2=pd.concat([df[\"path\"],df[\"label\"],df[\"drum_type\"],pd.Series(X_2d[:,0]),pd.Series(X_2d[:,1])],axis=1)\n",
    "        df2.columns=[\"path\",\"label\",\"drum_type\",\"D1\",\"D2\"]\n",
    "    if num_d==3:\n",
    "        df2=pd.concat([df[\"path\"],df[\"label\"],df[\"drum_type\"],pd.Series(X_2d[:,0]),pd.Series(X_2d[:,1]),pd.Series(X_2d[:,2])],axis=1)\n",
    "        df2.columns=[\"path\",\"label\",\"drum_type\",\"D1\",\"D2\",\"D3\"]\n",
    "    \n",
    "    df2.label = df2.label.astype('str')\n",
    "    return df2\n",
    "\n",
    "class interactive_graph():\n",
    "    def hover_fn(self,trace, points, state):\n",
    "        if points.point_inds:\n",
    "            ind = points.point_inds[0]\n",
    "            drmName=trace.customdata[ind][0][:]\n",
    "            filename=os.getcwd()+\"/\"+drmName\n",
    "            with open(filename,'rb') as f:\n",
    "                audio_data = f.read()\n",
    "            self.aud.value=audio_data\n",
    "            self.hover_data.value = str(drmName)+\"\\n\"\n",
    "            self.audioImg.value=self.audDisplay(filename)\n",
    "            \n",
    "    def audDisplay(self,f):\n",
    "        #this got annoying because widget only accepts byte version of images\n",
    "        audio_array=librosa.load(f)\n",
    "        signals=audio_array[0]\n",
    "        nz=np.max((SR-signals.shape[0],0))\n",
    "        signals=np.concatenate([signals[0:SR],np.zeros(nz)]).astype(\"float32\")\n",
    "\n",
    "        sound={\"signal\":torch.tensor(signals),\"label\":'',\"path\":'',\"drum_type\":''}\n",
    "        trns=pu.specTrans(FREQ_BINS,time_steps=TIME_STEPS)\n",
    "        ft=trns(sound)[\"feats\"]\n",
    "        sf=ft.detach().numpy()[0]\n",
    "        #flip upside down\n",
    "        sf=sf[-1:0:-1][:]\n",
    "        x=plt.imshow(sf)\n",
    "        #convert to bytes so can be set to widget data\n",
    "        buf = io.BytesIO()\n",
    "        x.figure.savefig(buf, format='png')\n",
    "        buf.seek(0)\n",
    "        bufD=buf.getvalue()\n",
    "        buf.close()\n",
    "        \n",
    "        return bufD\n",
    "    def __init__(self,df,grouping_by=\"label\",title=\"\",num_d=2,sym_size=30,color=px.colors.qualitative.Vivid):\n",
    "        if num_d==2:\n",
    "            p = px.scatter(df, x=\"D1\",y=\"D2\",symbol=\"drum_type\",color=grouping_by,hover_data=[\"path\"],color_discrete_sequence=color)\n",
    "        elif num_d==3:\n",
    "            p = px.scatter_3d(df, x=\"D1\",y=\"D2\",z=\"D3\",color=grouping_by,hover_data=[\"path\"],symbol=\"label\",color_discrete_sequence=color)\n",
    "        for trace in p.data:\n",
    "            trace.update(hoverinfo=\"none\",hovertemplate= '')\n",
    "        p.update_traces(marker=dict(size=sym_size,\n",
    "                              line=dict(width=0,\n",
    "                                        color='DarkSlateGrey')),\n",
    "                  selector=dict(mode='markers'))\n",
    "\n",
    "        self.hover_data = widgets.Textarea()  \n",
    "        #audio and img widgets\n",
    "        self.aud=widgets.Audio(autoplay=True,loop=False,embedding=False)\n",
    "        self.audioImg=widgets.Image(\n",
    "            value=b'',\n",
    "            format='png',\n",
    "            width='30%', \n",
    "        )\n",
    "        #####\n",
    "        layout = go.Layout(hovermode=False,)\n",
    "        self.fig  = go.FigureWidget(p)\n",
    "        self.fig.update_layout(scene = dict(\n",
    "                    camera=dict(eye=dict(x=-1, y=-1, z=0)),\n",
    "                    aspectmode=\"cube\",),\n",
    "                    margin=dict( r=0, l=0, b=0, t=0))\n",
    "                    \n",
    "        for f in self.fig.data:\n",
    "            f.on_hover(self.hover_fn)        \n"
   ]
  },
  {
   "cell_type": "code",
   "execution_count": 22,
   "metadata": {
    "slideshow": {
     "slide_type": "skip"
    }
   },
   "outputs": [],
   "source": [
    "# df = pd.read_csv(\"feature_extraction/csvs/r3_embeddings.csv\")\n",
    "# df[\"path\"] = \"feature_extraction/\"+df[\"path\"]\n",
    "\n",
    "# df_2d=plotly_able_df(df,num_d=2,)\n",
    "# df_2d_presentation = pd.concat([df_2d[df_2d[\"label\"]==\"0\"].sample(frac=0.1),df_3d[df_3d[\"label\"]==\"1\"].sample(frac=0.3)])\n",
    "# df_2d_presentation.to_csv(\"feature_extraction/csvs/presentation_2d_tsne\")\n"
   ]
  },
  {
   "cell_type": "code",
   "execution_count": 23,
   "metadata": {
    "slideshow": {
     "slide_type": "slide"
    }
   },
   "outputs": [],
   "source": [
    "#make fresh or load from frozen\n",
    "# df_2d = pd.read_csv(\"feature_extraction/csvs/presentation_2d_tsne\")\n",
    "# df_2d_presentation = pd.concat([df_2d[df_2d[\"label\"]==0].sample(frac=0.25),\n",
    "#            df_2d[df_2d[\"label\"]==1].sample(frac=0.3)])\n",
    "\n",
    "# if loading from frozen\n",
    "df_2d_presentation = pd.read_csv(\"feature_extraction/csvs/frozen_2d_tsne.csv\")"
   ]
  },
  {
   "cell_type": "code",
   "execution_count": 24,
   "metadata": {
    "slideshow": {
     "slide_type": "slide"
    }
   },
   "outputs": [
    {
     "data": {
      "application/vnd.jupyter.widget-view+json": {
       "model_id": "4a90c209ac034ab6a23d6e80f95ddea7",
       "version_major": 2,
       "version_minor": 0
      },
      "text/plain": [
       "FigureWidget({\n",
       "    'data': [{'customdata': array([['feature_extraction/./drum_dbs/radar/kick/B_Kick_01.wav'],\n",
       "…"
      ]
     },
     "metadata": {},
     "output_type": "display_data"
    },
    {
     "data": {
      "application/vnd.jupyter.widget-view+json": {
       "model_id": "c9a9cc8d52464d539dcf09423b41d4bc",
       "version_major": 2,
       "version_minor": 0
      },
      "text/plain": [
       "HBox(children=(Textarea(value=''), Image(value=b'', width='30%'), Audio(value=b'', loop='False')))"
      ]
     },
     "metadata": {},
     "output_type": "display_data"
    }
   ],
   "source": [
    "ig=interactive_graph(df_2d_presentation,grouping_by=\"drum_type\",\n",
    "                     title=\"64 dim embedding\",num_d=2,sym_size=10, \n",
    "                     color=px.colors.qualitative.G10_r,)\n",
    " \n",
    "display(ig.fig,widgets.HBox([ig.hover_data,ig.audioImg,ig.aud,]))"
   ]
  },
  {
   "cell_type": "code",
   "execution_count": 25,
   "metadata": {},
   "outputs": [],
   "source": [
    "# if you like the graph\n",
    "# df_2d_presentation.to_csv(\"feature_extraction/csvs/frozen_2d_tsne.csv\")"
   ]
  },
  {
   "cell_type": "markdown",
   "metadata": {
    "slideshow": {
     "slide_type": "slide"
    }
   },
   "source": [
    "### Training with Embeddings\n",
    "- 2D projection indicates that the embeddings can be used for classification.\n",
    "- We compare the classification accuracy of a number of models trained with embeddings+envelope features"
   ]
  },
  {
   "cell_type": "code",
   "execution_count": 26,
   "metadata": {
    "slideshow": {
     "slide_type": "subslide"
    }
   },
   "outputs": [],
   "source": [
    "def mme_comparisons():\n",
    "    comparison_csv_file=\"feature_extraction/csvs/mme_comparisons_mme.csv\"\n",
    "    df=pd.read_csv(comparison_csv_file)\n",
    "    fig = px.box(df, x=\"model\", y=\"y\", color=\"feat_type\",\n",
    "                 color_discrete_sequence=[\"#00AA77\",\"#3388BB\"],\n",
    "                 title=\"Box plot of total bill\",\n",
    "                )\n",
    "    fig.update_layout(\n",
    "        autosize=False,title=None, \n",
    "        template=\"seaborn\",\n",
    "        width=1000,height=500,\n",
    "        font_family=\"Times New Roman\",\n",
    "        font_size=18,\n",
    "        title_font_family=\"Times New Roman\",\n",
    "        title_font_size=30, \n",
    "        boxmode='group',\n",
    "        margin=dict(l=0, t=1,r=5, b=3),       \n",
    "        boxgap=0.4,boxgroupgap=0.4,\n",
    "            legend_title_text=\"Feature Type:\",\n",
    "                      legend=dict(\n",
    "                          bgcolor='rgba(110,150,160,0.1)',\n",
    "                      orientation=\"h\",\n",
    "                    yanchor=\"top\",\n",
    "                    y=1,\n",
    "                    xanchor=\"right\",x=1)\n",
    "        )\n",
    "    fig.update_traces(\n",
    "            boxmean=\"sd\", # represent mean. (sd shows standarddev)\n",
    "            boxpoints='all', \n",
    "    )\n",
    "    fig.update_xaxes(showgrid=False,zeroline=False,ticks='',title=None)\n",
    "    fig.update_yaxes(showgrid=False,zeroline=False,title=\"Validation F-Scores\")\n",
    "\n",
    "    return fig"
   ]
  },
  {
   "cell_type": "code",
   "execution_count": 37,
   "metadata": {
    "slideshow": {
     "slide_type": "slide"
    }
   },
   "outputs": [
    {
     "data": {
      "application/vnd.plotly.v1+json": {
       "config": {
        "plotlyServerURL": "https://plot.ly"
       },
       "data": [
        {
         "alignmentgroup": "True",
         "boxmean": "sd",
         "boxpoints": "all",
         "hovertemplate": "feat_type=Embedding Only<br>model=%{x}<br>y=%{y}<extra></extra>",
         "legendgroup": "Embedding Only",
         "marker": {
          "color": "#00AA77"
         },
         "name": "Embedding Only",
         "notched": false,
         "offsetgroup": "Embedding Only",
         "orientation": "v",
         "showlegend": true,
         "type": "box",
         "x": [
          "ExtraTrees",
          "ExtraTrees",
          "ExtraTrees",
          "ExtraTrees",
          "ExtraTrees",
          "ExtraTrees",
          "ExtraTrees",
          "ExtraTrees",
          "ExtraTrees",
          "ExtraTrees",
          "RandomForest",
          "RandomForest",
          "RandomForest",
          "RandomForest",
          "RandomForest",
          "RandomForest",
          "RandomForest",
          "RandomForest",
          "RandomForest",
          "RandomForest",
          "KNeighbors",
          "KNeighbors",
          "KNeighbors",
          "KNeighbors",
          "KNeighbors",
          "KNeighbors",
          "KNeighbors",
          "KNeighbors",
          "KNeighbors",
          "KNeighbors",
          "LinearSVC",
          "LinearSVC",
          "LinearSVC",
          "LinearSVC",
          "LinearSVC",
          "LinearSVC",
          "LinearSVC",
          "LinearSVC",
          "LinearSVC",
          "LinearSVC",
          "SVC",
          "SVC",
          "SVC",
          "SVC",
          "SVC",
          "SVC",
          "SVC",
          "SVC",
          "SVC",
          "SVC"
         ],
         "x0": " ",
         "xaxis": "x",
         "y": [
          0.8966087675765095,
          0.8999172870140613,
          0.9040529363110008,
          0.8941273779983457,
          0.8990901571546733,
          0.9048800661703889,
          0.8974358974358975,
          0.8982630272952854,
          0.9007444168734492,
          0.8891645988420182,
          0.8941273779983457,
          0.8957816377171216,
          0.9040529363110008,
          0.8982630272952854,
          0.8990901571546733,
          0.9040529363110008,
          0.901571546732837,
          0.8949545078577337,
          0.9032258064516128,
          0.8924731182795699,
          0.8767576509511993,
          0.8891645988420182,
          0.8808933002481389,
          0.8850289495450786,
          0.8825475599669148,
          0.8899917287014061,
          0.8875103391232424,
          0.8941273779983457,
          0.8891645988420182,
          0.8751033912324235,
          0.8842018196856907,
          0.8941273779983457,
          0.8784119106699751,
          0.8817204301075269,
          0.8858560794044665,
          0.8899917287014061,
          0.890818858560794,
          0.8999172870140613,
          0.8933002481389578,
          0.8734491315136477,
          0.8933002481389578,
          0.8949545078577337,
          0.8916459884201821,
          0.8924731182795699,
          0.8941273779983457,
          0.8990901571546733,
          0.8916459884201821,
          0.8949545078577337,
          0.9057071960297768,
          0.8842018196856907
         ],
         "y0": " ",
         "yaxis": "y"
        },
        {
         "alignmentgroup": "True",
         "boxmean": "sd",
         "boxpoints": "all",
         "hovertemplate": "feat_type=Embedding+Envelope<br>model=%{x}<br>y=%{y}<extra></extra>",
         "legendgroup": "Embedding+Envelope",
         "marker": {
          "color": "#3388BB"
         },
         "name": "Embedding+Envelope",
         "notched": false,
         "offsetgroup": "Embedding+Envelope",
         "orientation": "v",
         "showlegend": true,
         "type": "box",
         "x": [
          "ExtraTrees",
          "ExtraTrees",
          "ExtraTrees",
          "ExtraTrees",
          "ExtraTrees",
          "ExtraTrees",
          "ExtraTrees",
          "ExtraTrees",
          "ExtraTrees",
          "ExtraTrees",
          "RandomForest",
          "RandomForest",
          "RandomForest",
          "RandomForest",
          "RandomForest",
          "RandomForest",
          "RandomForest",
          "RandomForest",
          "RandomForest",
          "RandomForest",
          "KNeighbors",
          "KNeighbors",
          "KNeighbors",
          "KNeighbors",
          "KNeighbors",
          "KNeighbors",
          "KNeighbors",
          "KNeighbors",
          "KNeighbors",
          "KNeighbors",
          "LinearSVC",
          "LinearSVC",
          "LinearSVC",
          "LinearSVC",
          "LinearSVC",
          "LinearSVC",
          "LinearSVC",
          "LinearSVC",
          "LinearSVC",
          "LinearSVC",
          "SVC",
          "SVC",
          "SVC",
          "SVC",
          "SVC",
          "SVC",
          "SVC",
          "SVC",
          "SVC",
          "SVC"
         ],
         "x0": " ",
         "xaxis": "x",
         "y": [
          0.9081885856079404,
          0.913151364764268,
          0.913151364764268,
          0.9065343258891646,
          0.9197684036393714,
          0.9032258064516128,
          0.901571546732837,
          0.9090157154673284,
          0.9081885856079404,
          0.9040529363110008,
          0.913151364764268,
          0.913151364764268,
          0.9172870140612076,
          0.9073614557485524,
          0.9205955334987592,
          0.9007444168734492,
          0.9090157154673284,
          0.9106699751861044,
          0.913151364764268,
          0.8974358974358975,
          0.880066170388751,
          0.8941273779983457,
          0.8875103391232424,
          0.8850289495450786,
          0.8957816377171216,
          0.8933002481389578,
          0.8842018196856907,
          0.8941273779983457,
          0.8883374689826302,
          0.880066170388751,
          0.8999172870140613,
          0.8990901571546733,
          0.8974358974358975,
          0.8966087675765095,
          0.901571546732837,
          0.890818858560794,
          0.8949545078577337,
          0.8891645988420182,
          0.8957816377171216,
          0.8751033912324235,
          0.902398676592225,
          0.901571546732837,
          0.902398676592225,
          0.9007444168734492,
          0.9106699751861044,
          0.9081885856079404,
          0.8916459884201821,
          0.901571546732837,
          0.9073614557485524,
          0.8957816377171216
         ],
         "y0": " ",
         "yaxis": "y"
        }
       ],
       "layout": {
        "autosize": false,
        "boxgap": 0.4,
        "boxgroupgap": 0.4,
        "boxmode": "group",
        "font": {
         "family": "Times New Roman",
         "size": 18
        },
        "height": 500,
        "legend": {
         "bgcolor": "rgba(110,150,160,0.1)",
         "orientation": "h",
         "title": {
          "text": "Feature Type:"
         },
         "tracegroupgap": 0,
         "x": 1,
         "xanchor": "right",
         "y": 1,
         "yanchor": "top"
        },
        "margin": {
         "b": 3,
         "l": 0,
         "r": 5,
         "t": 1
        },
        "template": {
         "data": {
          "bar": [
           {
            "error_x": {
             "color": "rgb(36,36,36)"
            },
            "error_y": {
             "color": "rgb(36,36,36)"
            },
            "marker": {
             "line": {
              "color": "rgb(234,234,242)",
              "width": 0.5
             }
            },
            "type": "bar"
           }
          ],
          "barpolar": [
           {
            "marker": {
             "line": {
              "color": "rgb(234,234,242)",
              "width": 0.5
             }
            },
            "type": "barpolar"
           }
          ],
          "carpet": [
           {
            "aaxis": {
             "endlinecolor": "rgb(36,36,36)",
             "gridcolor": "white",
             "linecolor": "white",
             "minorgridcolor": "white",
             "startlinecolor": "rgb(36,36,36)"
            },
            "baxis": {
             "endlinecolor": "rgb(36,36,36)",
             "gridcolor": "white",
             "linecolor": "white",
             "minorgridcolor": "white",
             "startlinecolor": "rgb(36,36,36)"
            },
            "type": "carpet"
           }
          ],
          "choropleth": [
           {
            "colorbar": {
             "outlinewidth": 0,
             "tickcolor": "rgb(36,36,36)",
             "ticklen": 8,
             "ticks": "outside",
             "tickwidth": 2
            },
            "type": "choropleth"
           }
          ],
          "contour": [
           {
            "colorbar": {
             "outlinewidth": 0,
             "tickcolor": "rgb(36,36,36)",
             "ticklen": 8,
             "ticks": "outside",
             "tickwidth": 2
            },
            "colorscale": [
             [
              0,
              "rgb(2,4,25)"
             ],
             [
              0.06274509803921569,
              "rgb(24,15,41)"
             ],
             [
              0.12549019607843137,
              "rgb(47,23,57)"
             ],
             [
              0.18823529411764706,
              "rgb(71,28,72)"
             ],
             [
              0.25098039215686274,
              "rgb(97,30,82)"
             ],
             [
              0.3137254901960784,
              "rgb(123,30,89)"
             ],
             [
              0.3764705882352941,
              "rgb(150,27,91)"
             ],
             [
              0.4392156862745098,
              "rgb(177,22,88)"
             ],
             [
              0.5019607843137255,
              "rgb(203,26,79)"
             ],
             [
              0.5647058823529412,
              "rgb(223,47,67)"
             ],
             [
              0.6274509803921569,
              "rgb(236,76,61)"
             ],
             [
              0.6901960784313725,
              "rgb(242,107,73)"
             ],
             [
              0.7529411764705882,
              "rgb(244,135,95)"
             ],
             [
              0.8156862745098039,
              "rgb(245,162,122)"
             ],
             [
              0.8784313725490196,
              "rgb(246,188,153)"
             ],
             [
              0.9411764705882353,
              "rgb(247,212,187)"
             ],
             [
              1,
              "rgb(250,234,220)"
             ]
            ],
            "type": "contour"
           }
          ],
          "contourcarpet": [
           {
            "colorbar": {
             "outlinewidth": 0,
             "tickcolor": "rgb(36,36,36)",
             "ticklen": 8,
             "ticks": "outside",
             "tickwidth": 2
            },
            "type": "contourcarpet"
           }
          ],
          "heatmap": [
           {
            "colorbar": {
             "outlinewidth": 0,
             "tickcolor": "rgb(36,36,36)",
             "ticklen": 8,
             "ticks": "outside",
             "tickwidth": 2
            },
            "colorscale": [
             [
              0,
              "rgb(2,4,25)"
             ],
             [
              0.06274509803921569,
              "rgb(24,15,41)"
             ],
             [
              0.12549019607843137,
              "rgb(47,23,57)"
             ],
             [
              0.18823529411764706,
              "rgb(71,28,72)"
             ],
             [
              0.25098039215686274,
              "rgb(97,30,82)"
             ],
             [
              0.3137254901960784,
              "rgb(123,30,89)"
             ],
             [
              0.3764705882352941,
              "rgb(150,27,91)"
             ],
             [
              0.4392156862745098,
              "rgb(177,22,88)"
             ],
             [
              0.5019607843137255,
              "rgb(203,26,79)"
             ],
             [
              0.5647058823529412,
              "rgb(223,47,67)"
             ],
             [
              0.6274509803921569,
              "rgb(236,76,61)"
             ],
             [
              0.6901960784313725,
              "rgb(242,107,73)"
             ],
             [
              0.7529411764705882,
              "rgb(244,135,95)"
             ],
             [
              0.8156862745098039,
              "rgb(245,162,122)"
             ],
             [
              0.8784313725490196,
              "rgb(246,188,153)"
             ],
             [
              0.9411764705882353,
              "rgb(247,212,187)"
             ],
             [
              1,
              "rgb(250,234,220)"
             ]
            ],
            "type": "heatmap"
           }
          ],
          "heatmapgl": [
           {
            "colorbar": {
             "outlinewidth": 0,
             "tickcolor": "rgb(36,36,36)",
             "ticklen": 8,
             "ticks": "outside",
             "tickwidth": 2
            },
            "colorscale": [
             [
              0,
              "rgb(2,4,25)"
             ],
             [
              0.06274509803921569,
              "rgb(24,15,41)"
             ],
             [
              0.12549019607843137,
              "rgb(47,23,57)"
             ],
             [
              0.18823529411764706,
              "rgb(71,28,72)"
             ],
             [
              0.25098039215686274,
              "rgb(97,30,82)"
             ],
             [
              0.3137254901960784,
              "rgb(123,30,89)"
             ],
             [
              0.3764705882352941,
              "rgb(150,27,91)"
             ],
             [
              0.4392156862745098,
              "rgb(177,22,88)"
             ],
             [
              0.5019607843137255,
              "rgb(203,26,79)"
             ],
             [
              0.5647058823529412,
              "rgb(223,47,67)"
             ],
             [
              0.6274509803921569,
              "rgb(236,76,61)"
             ],
             [
              0.6901960784313725,
              "rgb(242,107,73)"
             ],
             [
              0.7529411764705882,
              "rgb(244,135,95)"
             ],
             [
              0.8156862745098039,
              "rgb(245,162,122)"
             ],
             [
              0.8784313725490196,
              "rgb(246,188,153)"
             ],
             [
              0.9411764705882353,
              "rgb(247,212,187)"
             ],
             [
              1,
              "rgb(250,234,220)"
             ]
            ],
            "type": "heatmapgl"
           }
          ],
          "histogram": [
           {
            "marker": {
             "colorbar": {
              "outlinewidth": 0,
              "tickcolor": "rgb(36,36,36)",
              "ticklen": 8,
              "ticks": "outside",
              "tickwidth": 2
             }
            },
            "type": "histogram"
           }
          ],
          "histogram2d": [
           {
            "colorbar": {
             "outlinewidth": 0,
             "tickcolor": "rgb(36,36,36)",
             "ticklen": 8,
             "ticks": "outside",
             "tickwidth": 2
            },
            "colorscale": [
             [
              0,
              "rgb(2,4,25)"
             ],
             [
              0.06274509803921569,
              "rgb(24,15,41)"
             ],
             [
              0.12549019607843137,
              "rgb(47,23,57)"
             ],
             [
              0.18823529411764706,
              "rgb(71,28,72)"
             ],
             [
              0.25098039215686274,
              "rgb(97,30,82)"
             ],
             [
              0.3137254901960784,
              "rgb(123,30,89)"
             ],
             [
              0.3764705882352941,
              "rgb(150,27,91)"
             ],
             [
              0.4392156862745098,
              "rgb(177,22,88)"
             ],
             [
              0.5019607843137255,
              "rgb(203,26,79)"
             ],
             [
              0.5647058823529412,
              "rgb(223,47,67)"
             ],
             [
              0.6274509803921569,
              "rgb(236,76,61)"
             ],
             [
              0.6901960784313725,
              "rgb(242,107,73)"
             ],
             [
              0.7529411764705882,
              "rgb(244,135,95)"
             ],
             [
              0.8156862745098039,
              "rgb(245,162,122)"
             ],
             [
              0.8784313725490196,
              "rgb(246,188,153)"
             ],
             [
              0.9411764705882353,
              "rgb(247,212,187)"
             ],
             [
              1,
              "rgb(250,234,220)"
             ]
            ],
            "type": "histogram2d"
           }
          ],
          "histogram2dcontour": [
           {
            "colorbar": {
             "outlinewidth": 0,
             "tickcolor": "rgb(36,36,36)",
             "ticklen": 8,
             "ticks": "outside",
             "tickwidth": 2
            },
            "colorscale": [
             [
              0,
              "rgb(2,4,25)"
             ],
             [
              0.06274509803921569,
              "rgb(24,15,41)"
             ],
             [
              0.12549019607843137,
              "rgb(47,23,57)"
             ],
             [
              0.18823529411764706,
              "rgb(71,28,72)"
             ],
             [
              0.25098039215686274,
              "rgb(97,30,82)"
             ],
             [
              0.3137254901960784,
              "rgb(123,30,89)"
             ],
             [
              0.3764705882352941,
              "rgb(150,27,91)"
             ],
             [
              0.4392156862745098,
              "rgb(177,22,88)"
             ],
             [
              0.5019607843137255,
              "rgb(203,26,79)"
             ],
             [
              0.5647058823529412,
              "rgb(223,47,67)"
             ],
             [
              0.6274509803921569,
              "rgb(236,76,61)"
             ],
             [
              0.6901960784313725,
              "rgb(242,107,73)"
             ],
             [
              0.7529411764705882,
              "rgb(244,135,95)"
             ],
             [
              0.8156862745098039,
              "rgb(245,162,122)"
             ],
             [
              0.8784313725490196,
              "rgb(246,188,153)"
             ],
             [
              0.9411764705882353,
              "rgb(247,212,187)"
             ],
             [
              1,
              "rgb(250,234,220)"
             ]
            ],
            "type": "histogram2dcontour"
           }
          ],
          "mesh3d": [
           {
            "colorbar": {
             "outlinewidth": 0,
             "tickcolor": "rgb(36,36,36)",
             "ticklen": 8,
             "ticks": "outside",
             "tickwidth": 2
            },
            "type": "mesh3d"
           }
          ],
          "parcoords": [
           {
            "line": {
             "colorbar": {
              "outlinewidth": 0,
              "tickcolor": "rgb(36,36,36)",
              "ticklen": 8,
              "ticks": "outside",
              "tickwidth": 2
             }
            },
            "type": "parcoords"
           }
          ],
          "pie": [
           {
            "automargin": true,
            "type": "pie"
           }
          ],
          "scatter": [
           {
            "marker": {
             "colorbar": {
              "outlinewidth": 0,
              "tickcolor": "rgb(36,36,36)",
              "ticklen": 8,
              "ticks": "outside",
              "tickwidth": 2
             }
            },
            "type": "scatter"
           }
          ],
          "scatter3d": [
           {
            "line": {
             "colorbar": {
              "outlinewidth": 0,
              "tickcolor": "rgb(36,36,36)",
              "ticklen": 8,
              "ticks": "outside",
              "tickwidth": 2
             }
            },
            "marker": {
             "colorbar": {
              "outlinewidth": 0,
              "tickcolor": "rgb(36,36,36)",
              "ticklen": 8,
              "ticks": "outside",
              "tickwidth": 2
             }
            },
            "type": "scatter3d"
           }
          ],
          "scattercarpet": [
           {
            "marker": {
             "colorbar": {
              "outlinewidth": 0,
              "tickcolor": "rgb(36,36,36)",
              "ticklen": 8,
              "ticks": "outside",
              "tickwidth": 2
             }
            },
            "type": "scattercarpet"
           }
          ],
          "scattergeo": [
           {
            "marker": {
             "colorbar": {
              "outlinewidth": 0,
              "tickcolor": "rgb(36,36,36)",
              "ticklen": 8,
              "ticks": "outside",
              "tickwidth": 2
             }
            },
            "type": "scattergeo"
           }
          ],
          "scattergl": [
           {
            "marker": {
             "colorbar": {
              "outlinewidth": 0,
              "tickcolor": "rgb(36,36,36)",
              "ticklen": 8,
              "ticks": "outside",
              "tickwidth": 2
             }
            },
            "type": "scattergl"
           }
          ],
          "scattermapbox": [
           {
            "marker": {
             "colorbar": {
              "outlinewidth": 0,
              "tickcolor": "rgb(36,36,36)",
              "ticklen": 8,
              "ticks": "outside",
              "tickwidth": 2
             }
            },
            "type": "scattermapbox"
           }
          ],
          "scatterpolar": [
           {
            "marker": {
             "colorbar": {
              "outlinewidth": 0,
              "tickcolor": "rgb(36,36,36)",
              "ticklen": 8,
              "ticks": "outside",
              "tickwidth": 2
             }
            },
            "type": "scatterpolar"
           }
          ],
          "scatterpolargl": [
           {
            "marker": {
             "colorbar": {
              "outlinewidth": 0,
              "tickcolor": "rgb(36,36,36)",
              "ticklen": 8,
              "ticks": "outside",
              "tickwidth": 2
             }
            },
            "type": "scatterpolargl"
           }
          ],
          "scatterternary": [
           {
            "marker": {
             "colorbar": {
              "outlinewidth": 0,
              "tickcolor": "rgb(36,36,36)",
              "ticklen": 8,
              "ticks": "outside",
              "tickwidth": 2
             }
            },
            "type": "scatterternary"
           }
          ],
          "surface": [
           {
            "colorbar": {
             "outlinewidth": 0,
             "tickcolor": "rgb(36,36,36)",
             "ticklen": 8,
             "ticks": "outside",
             "tickwidth": 2
            },
            "colorscale": [
             [
              0,
              "rgb(2,4,25)"
             ],
             [
              0.06274509803921569,
              "rgb(24,15,41)"
             ],
             [
              0.12549019607843137,
              "rgb(47,23,57)"
             ],
             [
              0.18823529411764706,
              "rgb(71,28,72)"
             ],
             [
              0.25098039215686274,
              "rgb(97,30,82)"
             ],
             [
              0.3137254901960784,
              "rgb(123,30,89)"
             ],
             [
              0.3764705882352941,
              "rgb(150,27,91)"
             ],
             [
              0.4392156862745098,
              "rgb(177,22,88)"
             ],
             [
              0.5019607843137255,
              "rgb(203,26,79)"
             ],
             [
              0.5647058823529412,
              "rgb(223,47,67)"
             ],
             [
              0.6274509803921569,
              "rgb(236,76,61)"
             ],
             [
              0.6901960784313725,
              "rgb(242,107,73)"
             ],
             [
              0.7529411764705882,
              "rgb(244,135,95)"
             ],
             [
              0.8156862745098039,
              "rgb(245,162,122)"
             ],
             [
              0.8784313725490196,
              "rgb(246,188,153)"
             ],
             [
              0.9411764705882353,
              "rgb(247,212,187)"
             ],
             [
              1,
              "rgb(250,234,220)"
             ]
            ],
            "type": "surface"
           }
          ],
          "table": [
           {
            "cells": {
             "fill": {
              "color": "rgb(231,231,240)"
             },
             "line": {
              "color": "white"
             }
            },
            "header": {
             "fill": {
              "color": "rgb(183,183,191)"
             },
             "line": {
              "color": "white"
             }
            },
            "type": "table"
           }
          ]
         },
         "layout": {
          "annotationdefaults": {
           "arrowcolor": "rgb(67,103,167)"
          },
          "coloraxis": {
           "colorbar": {
            "outlinewidth": 0,
            "tickcolor": "rgb(36,36,36)",
            "ticklen": 8,
            "ticks": "outside",
            "tickwidth": 2
           }
          },
          "colorscale": {
           "sequential": [
            [
             0,
             "rgb(2,4,25)"
            ],
            [
             0.06274509803921569,
             "rgb(24,15,41)"
            ],
            [
             0.12549019607843137,
             "rgb(47,23,57)"
            ],
            [
             0.18823529411764706,
             "rgb(71,28,72)"
            ],
            [
             0.25098039215686274,
             "rgb(97,30,82)"
            ],
            [
             0.3137254901960784,
             "rgb(123,30,89)"
            ],
            [
             0.3764705882352941,
             "rgb(150,27,91)"
            ],
            [
             0.4392156862745098,
             "rgb(177,22,88)"
            ],
            [
             0.5019607843137255,
             "rgb(203,26,79)"
            ],
            [
             0.5647058823529412,
             "rgb(223,47,67)"
            ],
            [
             0.6274509803921569,
             "rgb(236,76,61)"
            ],
            [
             0.6901960784313725,
             "rgb(242,107,73)"
            ],
            [
             0.7529411764705882,
             "rgb(244,135,95)"
            ],
            [
             0.8156862745098039,
             "rgb(245,162,122)"
            ],
            [
             0.8784313725490196,
             "rgb(246,188,153)"
            ],
            [
             0.9411764705882353,
             "rgb(247,212,187)"
            ],
            [
             1,
             "rgb(250,234,220)"
            ]
           ],
           "sequentialminus": [
            [
             0,
             "rgb(2,4,25)"
            ],
            [
             0.06274509803921569,
             "rgb(24,15,41)"
            ],
            [
             0.12549019607843137,
             "rgb(47,23,57)"
            ],
            [
             0.18823529411764706,
             "rgb(71,28,72)"
            ],
            [
             0.25098039215686274,
             "rgb(97,30,82)"
            ],
            [
             0.3137254901960784,
             "rgb(123,30,89)"
            ],
            [
             0.3764705882352941,
             "rgb(150,27,91)"
            ],
            [
             0.4392156862745098,
             "rgb(177,22,88)"
            ],
            [
             0.5019607843137255,
             "rgb(203,26,79)"
            ],
            [
             0.5647058823529412,
             "rgb(223,47,67)"
            ],
            [
             0.6274509803921569,
             "rgb(236,76,61)"
            ],
            [
             0.6901960784313725,
             "rgb(242,107,73)"
            ],
            [
             0.7529411764705882,
             "rgb(244,135,95)"
            ],
            [
             0.8156862745098039,
             "rgb(245,162,122)"
            ],
            [
             0.8784313725490196,
             "rgb(246,188,153)"
            ],
            [
             0.9411764705882353,
             "rgb(247,212,187)"
            ],
            [
             1,
             "rgb(250,234,220)"
            ]
           ]
          },
          "colorway": [
           "rgb(76,114,176)",
           "rgb(221,132,82)",
           "rgb(85,168,104)",
           "rgb(196,78,82)",
           "rgb(129,114,179)",
           "rgb(147,120,96)",
           "rgb(218,139,195)",
           "rgb(140,140,140)",
           "rgb(204,185,116)",
           "rgb(100,181,205)"
          ],
          "font": {
           "color": "rgb(36,36,36)"
          },
          "geo": {
           "bgcolor": "white",
           "lakecolor": "white",
           "landcolor": "rgb(234,234,242)",
           "showlakes": true,
           "showland": true,
           "subunitcolor": "white"
          },
          "hoverlabel": {
           "align": "left"
          },
          "hovermode": "closest",
          "paper_bgcolor": "white",
          "plot_bgcolor": "rgb(234,234,242)",
          "polar": {
           "angularaxis": {
            "gridcolor": "white",
            "linecolor": "white",
            "showgrid": true,
            "ticks": ""
           },
           "bgcolor": "rgb(234,234,242)",
           "radialaxis": {
            "gridcolor": "white",
            "linecolor": "white",
            "showgrid": true,
            "ticks": ""
           }
          },
          "scene": {
           "xaxis": {
            "backgroundcolor": "rgb(234,234,242)",
            "gridcolor": "white",
            "gridwidth": 2,
            "linecolor": "white",
            "showbackground": true,
            "showgrid": true,
            "ticks": "",
            "zerolinecolor": "white"
           },
           "yaxis": {
            "backgroundcolor": "rgb(234,234,242)",
            "gridcolor": "white",
            "gridwidth": 2,
            "linecolor": "white",
            "showbackground": true,
            "showgrid": true,
            "ticks": "",
            "zerolinecolor": "white"
           },
           "zaxis": {
            "backgroundcolor": "rgb(234,234,242)",
            "gridcolor": "white",
            "gridwidth": 2,
            "linecolor": "white",
            "showbackground": true,
            "showgrid": true,
            "ticks": "",
            "zerolinecolor": "white"
           }
          },
          "shapedefaults": {
           "fillcolor": "rgb(67,103,167)",
           "line": {
            "width": 0
           },
           "opacity": 0.5
          },
          "ternary": {
           "aaxis": {
            "gridcolor": "white",
            "linecolor": "white",
            "showgrid": true,
            "ticks": ""
           },
           "baxis": {
            "gridcolor": "white",
            "linecolor": "white",
            "showgrid": true,
            "ticks": ""
           },
           "bgcolor": "rgb(234,234,242)",
           "caxis": {
            "gridcolor": "white",
            "linecolor": "white",
            "showgrid": true,
            "ticks": ""
           }
          },
          "xaxis": {
           "automargin": true,
           "gridcolor": "white",
           "linecolor": "white",
           "showgrid": true,
           "ticks": "",
           "title": {
            "standoff": 15
           },
           "zerolinecolor": "white"
          },
          "yaxis": {
           "automargin": true,
           "gridcolor": "white",
           "linecolor": "white",
           "showgrid": true,
           "ticks": "",
           "title": {
            "standoff": 15
           },
           "zerolinecolor": "white"
          }
         }
        },
        "title": {
         "font": {
          "family": "Times New Roman",
          "size": 30
         }
        },
        "width": 1000,
        "xaxis": {
         "anchor": "y",
         "domain": [
          0,
          1
         ],
         "showgrid": false,
         "ticks": "",
         "title": {},
         "zeroline": false
        },
        "yaxis": {
         "anchor": "x",
         "domain": [
          0,
          1
         ],
         "showgrid": false,
         "title": {
          "text": "Validation F-Scores"
         },
         "zeroline": false
        }
       }
      },
      "text/html": [
       "<div>\n",
       "        \n",
       "        \n",
       "            <div id=\"7e21013c-3c7f-4721-aef8-6baba175f050\" class=\"plotly-graph-div\" style=\"height:500px; width:1000px;\"></div>\n",
       "            <script type=\"text/javascript\">\n",
       "                require([\"plotly\"], function(Plotly) {\n",
       "                    window.PLOTLYENV=window.PLOTLYENV || {};\n",
       "                    \n",
       "                if (document.getElementById(\"7e21013c-3c7f-4721-aef8-6baba175f050\")) {\n",
       "                    Plotly.newPlot(\n",
       "                        '7e21013c-3c7f-4721-aef8-6baba175f050',\n",
       "                        [{\"alignmentgroup\": \"True\", \"boxmean\": \"sd\", \"boxpoints\": \"all\", \"hovertemplate\": \"feat_type=Embedding Only<br>model=%{x}<br>y=%{y}<extra></extra>\", \"legendgroup\": \"Embedding Only\", \"marker\": {\"color\": \"#00AA77\"}, \"name\": \"Embedding Only\", \"notched\": false, \"offsetgroup\": \"Embedding Only\", \"orientation\": \"v\", \"showlegend\": true, \"type\": \"box\", \"x\": [\"ExtraTrees\", \"ExtraTrees\", \"ExtraTrees\", \"ExtraTrees\", \"ExtraTrees\", \"ExtraTrees\", \"ExtraTrees\", \"ExtraTrees\", \"ExtraTrees\", \"ExtraTrees\", \"RandomForest\", \"RandomForest\", \"RandomForest\", \"RandomForest\", \"RandomForest\", \"RandomForest\", \"RandomForest\", \"RandomForest\", \"RandomForest\", \"RandomForest\", \"KNeighbors\", \"KNeighbors\", \"KNeighbors\", \"KNeighbors\", \"KNeighbors\", \"KNeighbors\", \"KNeighbors\", \"KNeighbors\", \"KNeighbors\", \"KNeighbors\", \"LinearSVC\", \"LinearSVC\", \"LinearSVC\", \"LinearSVC\", \"LinearSVC\", \"LinearSVC\", \"LinearSVC\", \"LinearSVC\", \"LinearSVC\", \"LinearSVC\", \"SVC\", \"SVC\", \"SVC\", \"SVC\", \"SVC\", \"SVC\", \"SVC\", \"SVC\", \"SVC\", \"SVC\"], \"x0\": \" \", \"xaxis\": \"x\", \"y\": [0.8966087675765095, 0.8999172870140613, 0.9040529363110008, 0.8941273779983457, 0.8990901571546733, 0.9048800661703889, 0.8974358974358975, 0.8982630272952854, 0.9007444168734492, 0.8891645988420182, 0.8941273779983457, 0.8957816377171216, 0.9040529363110008, 0.8982630272952854, 0.8990901571546733, 0.9040529363110008, 0.901571546732837, 0.8949545078577337, 0.9032258064516128, 0.8924731182795699, 0.8767576509511993, 0.8891645988420182, 0.8808933002481389, 0.8850289495450786, 0.8825475599669148, 0.8899917287014061, 0.8875103391232424, 0.8941273779983457, 0.8891645988420182, 0.8751033912324235, 0.8842018196856907, 0.8941273779983457, 0.8784119106699751, 0.8817204301075269, 0.8858560794044665, 0.8899917287014061, 0.890818858560794, 0.8999172870140613, 0.8933002481389578, 0.8734491315136477, 0.8933002481389578, 0.8949545078577337, 0.8916459884201821, 0.8924731182795699, 0.8941273779983457, 0.8990901571546733, 0.8916459884201821, 0.8949545078577337, 0.9057071960297768, 0.8842018196856907], \"y0\": \" \", \"yaxis\": \"y\"}, {\"alignmentgroup\": \"True\", \"boxmean\": \"sd\", \"boxpoints\": \"all\", \"hovertemplate\": \"feat_type=Embedding+Envelope<br>model=%{x}<br>y=%{y}<extra></extra>\", \"legendgroup\": \"Embedding+Envelope\", \"marker\": {\"color\": \"#3388BB\"}, \"name\": \"Embedding+Envelope\", \"notched\": false, \"offsetgroup\": \"Embedding+Envelope\", \"orientation\": \"v\", \"showlegend\": true, \"type\": \"box\", \"x\": [\"ExtraTrees\", \"ExtraTrees\", \"ExtraTrees\", \"ExtraTrees\", \"ExtraTrees\", \"ExtraTrees\", \"ExtraTrees\", \"ExtraTrees\", \"ExtraTrees\", \"ExtraTrees\", \"RandomForest\", \"RandomForest\", \"RandomForest\", \"RandomForest\", \"RandomForest\", \"RandomForest\", \"RandomForest\", \"RandomForest\", \"RandomForest\", \"RandomForest\", \"KNeighbors\", \"KNeighbors\", \"KNeighbors\", \"KNeighbors\", \"KNeighbors\", \"KNeighbors\", \"KNeighbors\", \"KNeighbors\", \"KNeighbors\", \"KNeighbors\", \"LinearSVC\", \"LinearSVC\", \"LinearSVC\", \"LinearSVC\", \"LinearSVC\", \"LinearSVC\", \"LinearSVC\", \"LinearSVC\", \"LinearSVC\", \"LinearSVC\", \"SVC\", \"SVC\", \"SVC\", \"SVC\", \"SVC\", \"SVC\", \"SVC\", \"SVC\", \"SVC\", \"SVC\"], \"x0\": \" \", \"xaxis\": \"x\", \"y\": [0.9081885856079404, 0.913151364764268, 0.913151364764268, 0.9065343258891646, 0.9197684036393714, 0.9032258064516128, 0.901571546732837, 0.9090157154673284, 0.9081885856079404, 0.9040529363110008, 0.913151364764268, 0.913151364764268, 0.9172870140612076, 0.9073614557485524, 0.9205955334987592, 0.9007444168734492, 0.9090157154673284, 0.9106699751861044, 0.913151364764268, 0.8974358974358975, 0.880066170388751, 0.8941273779983457, 0.8875103391232424, 0.8850289495450786, 0.8957816377171216, 0.8933002481389578, 0.8842018196856907, 0.8941273779983457, 0.8883374689826302, 0.880066170388751, 0.8999172870140613, 0.8990901571546733, 0.8974358974358975, 0.8966087675765095, 0.901571546732837, 0.890818858560794, 0.8949545078577337, 0.8891645988420182, 0.8957816377171216, 0.8751033912324235, 0.902398676592225, 0.901571546732837, 0.902398676592225, 0.9007444168734492, 0.9106699751861044, 0.9081885856079404, 0.8916459884201821, 0.901571546732837, 0.9073614557485524, 0.8957816377171216], \"y0\": \" \", \"yaxis\": \"y\"}],\n",
       "                        {\"autosize\": false, \"boxgap\": 0.4, \"boxgroupgap\": 0.4, \"boxmode\": \"group\", \"font\": {\"family\": \"Times New Roman\", \"size\": 18}, \"height\": 500, \"legend\": {\"bgcolor\": \"rgba(110,150,160,0.1)\", \"orientation\": \"h\", \"title\": {\"text\": \"Feature Type:\"}, \"tracegroupgap\": 0, \"x\": 1, \"xanchor\": \"right\", \"y\": 1, \"yanchor\": \"top\"}, \"margin\": {\"b\": 3, \"l\": 0, \"r\": 5, \"t\": 1}, \"template\": {\"data\": {\"bar\": [{\"error_x\": {\"color\": \"rgb(36,36,36)\"}, \"error_y\": {\"color\": \"rgb(36,36,36)\"}, \"marker\": {\"line\": {\"color\": \"rgb(234,234,242)\", \"width\": 0.5}}, \"type\": \"bar\"}], \"barpolar\": [{\"marker\": {\"line\": {\"color\": \"rgb(234,234,242)\", \"width\": 0.5}}, \"type\": \"barpolar\"}], \"carpet\": [{\"aaxis\": {\"endlinecolor\": \"rgb(36,36,36)\", \"gridcolor\": \"white\", \"linecolor\": \"white\", \"minorgridcolor\": \"white\", \"startlinecolor\": \"rgb(36,36,36)\"}, \"baxis\": {\"endlinecolor\": \"rgb(36,36,36)\", \"gridcolor\": \"white\", \"linecolor\": \"white\", \"minorgridcolor\": \"white\", \"startlinecolor\": \"rgb(36,36,36)\"}, \"type\": \"carpet\"}], \"choropleth\": [{\"colorbar\": {\"outlinewidth\": 0, \"tickcolor\": \"rgb(36,36,36)\", \"ticklen\": 8, \"ticks\": \"outside\", \"tickwidth\": 2}, \"type\": \"choropleth\"}], \"contour\": [{\"colorbar\": {\"outlinewidth\": 0, \"tickcolor\": \"rgb(36,36,36)\", \"ticklen\": 8, \"ticks\": \"outside\", \"tickwidth\": 2}, \"colorscale\": [[0.0, \"rgb(2,4,25)\"], [0.06274509803921569, \"rgb(24,15,41)\"], [0.12549019607843137, \"rgb(47,23,57)\"], [0.18823529411764706, \"rgb(71,28,72)\"], [0.25098039215686274, \"rgb(97,30,82)\"], [0.3137254901960784, \"rgb(123,30,89)\"], [0.3764705882352941, \"rgb(150,27,91)\"], [0.4392156862745098, \"rgb(177,22,88)\"], [0.5019607843137255, \"rgb(203,26,79)\"], [0.5647058823529412, \"rgb(223,47,67)\"], [0.6274509803921569, \"rgb(236,76,61)\"], [0.6901960784313725, \"rgb(242,107,73)\"], [0.7529411764705882, \"rgb(244,135,95)\"], [0.8156862745098039, \"rgb(245,162,122)\"], [0.8784313725490196, \"rgb(246,188,153)\"], [0.9411764705882353, \"rgb(247,212,187)\"], [1.0, \"rgb(250,234,220)\"]], \"type\": \"contour\"}], \"contourcarpet\": [{\"colorbar\": {\"outlinewidth\": 0, \"tickcolor\": \"rgb(36,36,36)\", \"ticklen\": 8, \"ticks\": \"outside\", \"tickwidth\": 2}, \"type\": \"contourcarpet\"}], \"heatmap\": [{\"colorbar\": {\"outlinewidth\": 0, \"tickcolor\": \"rgb(36,36,36)\", \"ticklen\": 8, \"ticks\": \"outside\", \"tickwidth\": 2}, \"colorscale\": [[0.0, \"rgb(2,4,25)\"], [0.06274509803921569, \"rgb(24,15,41)\"], [0.12549019607843137, \"rgb(47,23,57)\"], [0.18823529411764706, \"rgb(71,28,72)\"], [0.25098039215686274, \"rgb(97,30,82)\"], [0.3137254901960784, \"rgb(123,30,89)\"], [0.3764705882352941, \"rgb(150,27,91)\"], [0.4392156862745098, \"rgb(177,22,88)\"], [0.5019607843137255, \"rgb(203,26,79)\"], [0.5647058823529412, \"rgb(223,47,67)\"], [0.6274509803921569, \"rgb(236,76,61)\"], [0.6901960784313725, \"rgb(242,107,73)\"], [0.7529411764705882, \"rgb(244,135,95)\"], [0.8156862745098039, \"rgb(245,162,122)\"], [0.8784313725490196, \"rgb(246,188,153)\"], [0.9411764705882353, \"rgb(247,212,187)\"], [1.0, \"rgb(250,234,220)\"]], \"type\": \"heatmap\"}], \"heatmapgl\": [{\"colorbar\": {\"outlinewidth\": 0, \"tickcolor\": \"rgb(36,36,36)\", \"ticklen\": 8, \"ticks\": \"outside\", \"tickwidth\": 2}, \"colorscale\": [[0.0, \"rgb(2,4,25)\"], [0.06274509803921569, \"rgb(24,15,41)\"], [0.12549019607843137, \"rgb(47,23,57)\"], [0.18823529411764706, \"rgb(71,28,72)\"], [0.25098039215686274, \"rgb(97,30,82)\"], [0.3137254901960784, \"rgb(123,30,89)\"], [0.3764705882352941, \"rgb(150,27,91)\"], [0.4392156862745098, \"rgb(177,22,88)\"], [0.5019607843137255, \"rgb(203,26,79)\"], [0.5647058823529412, \"rgb(223,47,67)\"], [0.6274509803921569, \"rgb(236,76,61)\"], [0.6901960784313725, \"rgb(242,107,73)\"], [0.7529411764705882, \"rgb(244,135,95)\"], [0.8156862745098039, \"rgb(245,162,122)\"], [0.8784313725490196, \"rgb(246,188,153)\"], [0.9411764705882353, \"rgb(247,212,187)\"], [1.0, \"rgb(250,234,220)\"]], \"type\": \"heatmapgl\"}], \"histogram\": [{\"marker\": {\"colorbar\": {\"outlinewidth\": 0, \"tickcolor\": \"rgb(36,36,36)\", \"ticklen\": 8, \"ticks\": \"outside\", \"tickwidth\": 2}}, \"type\": \"histogram\"}], \"histogram2d\": [{\"colorbar\": {\"outlinewidth\": 0, \"tickcolor\": \"rgb(36,36,36)\", \"ticklen\": 8, \"ticks\": \"outside\", \"tickwidth\": 2}, \"colorscale\": [[0.0, \"rgb(2,4,25)\"], [0.06274509803921569, \"rgb(24,15,41)\"], [0.12549019607843137, \"rgb(47,23,57)\"], [0.18823529411764706, \"rgb(71,28,72)\"], [0.25098039215686274, \"rgb(97,30,82)\"], [0.3137254901960784, \"rgb(123,30,89)\"], [0.3764705882352941, \"rgb(150,27,91)\"], [0.4392156862745098, \"rgb(177,22,88)\"], [0.5019607843137255, \"rgb(203,26,79)\"], [0.5647058823529412, \"rgb(223,47,67)\"], [0.6274509803921569, \"rgb(236,76,61)\"], [0.6901960784313725, \"rgb(242,107,73)\"], [0.7529411764705882, \"rgb(244,135,95)\"], [0.8156862745098039, \"rgb(245,162,122)\"], [0.8784313725490196, \"rgb(246,188,153)\"], [0.9411764705882353, \"rgb(247,212,187)\"], [1.0, \"rgb(250,234,220)\"]], \"type\": \"histogram2d\"}], \"histogram2dcontour\": [{\"colorbar\": {\"outlinewidth\": 0, \"tickcolor\": \"rgb(36,36,36)\", \"ticklen\": 8, \"ticks\": \"outside\", \"tickwidth\": 2}, \"colorscale\": [[0.0, \"rgb(2,4,25)\"], [0.06274509803921569, \"rgb(24,15,41)\"], [0.12549019607843137, \"rgb(47,23,57)\"], [0.18823529411764706, \"rgb(71,28,72)\"], [0.25098039215686274, \"rgb(97,30,82)\"], [0.3137254901960784, \"rgb(123,30,89)\"], [0.3764705882352941, \"rgb(150,27,91)\"], [0.4392156862745098, \"rgb(177,22,88)\"], [0.5019607843137255, \"rgb(203,26,79)\"], [0.5647058823529412, \"rgb(223,47,67)\"], [0.6274509803921569, \"rgb(236,76,61)\"], [0.6901960784313725, \"rgb(242,107,73)\"], [0.7529411764705882, \"rgb(244,135,95)\"], [0.8156862745098039, \"rgb(245,162,122)\"], [0.8784313725490196, \"rgb(246,188,153)\"], [0.9411764705882353, \"rgb(247,212,187)\"], [1.0, \"rgb(250,234,220)\"]], \"type\": \"histogram2dcontour\"}], \"mesh3d\": [{\"colorbar\": {\"outlinewidth\": 0, \"tickcolor\": \"rgb(36,36,36)\", \"ticklen\": 8, \"ticks\": \"outside\", \"tickwidth\": 2}, \"type\": \"mesh3d\"}], \"parcoords\": [{\"line\": {\"colorbar\": {\"outlinewidth\": 0, \"tickcolor\": \"rgb(36,36,36)\", \"ticklen\": 8, \"ticks\": \"outside\", \"tickwidth\": 2}}, \"type\": \"parcoords\"}], \"pie\": [{\"automargin\": true, \"type\": \"pie\"}], \"scatter\": [{\"marker\": {\"colorbar\": {\"outlinewidth\": 0, \"tickcolor\": \"rgb(36,36,36)\", \"ticklen\": 8, \"ticks\": \"outside\", \"tickwidth\": 2}}, \"type\": \"scatter\"}], \"scatter3d\": [{\"line\": {\"colorbar\": {\"outlinewidth\": 0, \"tickcolor\": \"rgb(36,36,36)\", \"ticklen\": 8, \"ticks\": \"outside\", \"tickwidth\": 2}}, \"marker\": {\"colorbar\": {\"outlinewidth\": 0, \"tickcolor\": \"rgb(36,36,36)\", \"ticklen\": 8, \"ticks\": \"outside\", \"tickwidth\": 2}}, \"type\": \"scatter3d\"}], \"scattercarpet\": [{\"marker\": {\"colorbar\": {\"outlinewidth\": 0, \"tickcolor\": \"rgb(36,36,36)\", \"ticklen\": 8, \"ticks\": \"outside\", \"tickwidth\": 2}}, \"type\": \"scattercarpet\"}], \"scattergeo\": [{\"marker\": {\"colorbar\": {\"outlinewidth\": 0, \"tickcolor\": \"rgb(36,36,36)\", \"ticklen\": 8, \"ticks\": \"outside\", \"tickwidth\": 2}}, \"type\": \"scattergeo\"}], \"scattergl\": [{\"marker\": {\"colorbar\": {\"outlinewidth\": 0, \"tickcolor\": \"rgb(36,36,36)\", \"ticklen\": 8, \"ticks\": \"outside\", \"tickwidth\": 2}}, \"type\": \"scattergl\"}], \"scattermapbox\": [{\"marker\": {\"colorbar\": {\"outlinewidth\": 0, \"tickcolor\": \"rgb(36,36,36)\", \"ticklen\": 8, \"ticks\": \"outside\", \"tickwidth\": 2}}, \"type\": \"scattermapbox\"}], \"scatterpolar\": [{\"marker\": {\"colorbar\": {\"outlinewidth\": 0, \"tickcolor\": \"rgb(36,36,36)\", \"ticklen\": 8, \"ticks\": \"outside\", \"tickwidth\": 2}}, \"type\": \"scatterpolar\"}], \"scatterpolargl\": [{\"marker\": {\"colorbar\": {\"outlinewidth\": 0, \"tickcolor\": \"rgb(36,36,36)\", \"ticklen\": 8, \"ticks\": \"outside\", \"tickwidth\": 2}}, \"type\": \"scatterpolargl\"}], \"scatterternary\": [{\"marker\": {\"colorbar\": {\"outlinewidth\": 0, \"tickcolor\": \"rgb(36,36,36)\", \"ticklen\": 8, \"ticks\": \"outside\", \"tickwidth\": 2}}, \"type\": \"scatterternary\"}], \"surface\": [{\"colorbar\": {\"outlinewidth\": 0, \"tickcolor\": \"rgb(36,36,36)\", \"ticklen\": 8, \"ticks\": \"outside\", \"tickwidth\": 2}, \"colorscale\": [[0.0, \"rgb(2,4,25)\"], [0.06274509803921569, \"rgb(24,15,41)\"], [0.12549019607843137, \"rgb(47,23,57)\"], [0.18823529411764706, \"rgb(71,28,72)\"], [0.25098039215686274, \"rgb(97,30,82)\"], [0.3137254901960784, \"rgb(123,30,89)\"], [0.3764705882352941, \"rgb(150,27,91)\"], [0.4392156862745098, \"rgb(177,22,88)\"], [0.5019607843137255, \"rgb(203,26,79)\"], [0.5647058823529412, \"rgb(223,47,67)\"], [0.6274509803921569, \"rgb(236,76,61)\"], [0.6901960784313725, \"rgb(242,107,73)\"], [0.7529411764705882, \"rgb(244,135,95)\"], [0.8156862745098039, \"rgb(245,162,122)\"], [0.8784313725490196, \"rgb(246,188,153)\"], [0.9411764705882353, \"rgb(247,212,187)\"], [1.0, \"rgb(250,234,220)\"]], \"type\": \"surface\"}], \"table\": [{\"cells\": {\"fill\": {\"color\": \"rgb(231,231,240)\"}, \"line\": {\"color\": \"white\"}}, \"header\": {\"fill\": {\"color\": \"rgb(183,183,191)\"}, \"line\": {\"color\": \"white\"}}, \"type\": \"table\"}]}, \"layout\": {\"annotationdefaults\": {\"arrowcolor\": \"rgb(67,103,167)\"}, \"coloraxis\": {\"colorbar\": {\"outlinewidth\": 0, \"tickcolor\": \"rgb(36,36,36)\", \"ticklen\": 8, \"ticks\": \"outside\", \"tickwidth\": 2}}, \"colorscale\": {\"sequential\": [[0.0, \"rgb(2,4,25)\"], [0.06274509803921569, \"rgb(24,15,41)\"], [0.12549019607843137, \"rgb(47,23,57)\"], [0.18823529411764706, \"rgb(71,28,72)\"], [0.25098039215686274, \"rgb(97,30,82)\"], [0.3137254901960784, \"rgb(123,30,89)\"], [0.3764705882352941, \"rgb(150,27,91)\"], [0.4392156862745098, \"rgb(177,22,88)\"], [0.5019607843137255, \"rgb(203,26,79)\"], [0.5647058823529412, \"rgb(223,47,67)\"], [0.6274509803921569, \"rgb(236,76,61)\"], [0.6901960784313725, \"rgb(242,107,73)\"], [0.7529411764705882, \"rgb(244,135,95)\"], [0.8156862745098039, \"rgb(245,162,122)\"], [0.8784313725490196, \"rgb(246,188,153)\"], [0.9411764705882353, \"rgb(247,212,187)\"], [1.0, \"rgb(250,234,220)\"]], \"sequentialminus\": [[0.0, \"rgb(2,4,25)\"], [0.06274509803921569, \"rgb(24,15,41)\"], [0.12549019607843137, \"rgb(47,23,57)\"], [0.18823529411764706, \"rgb(71,28,72)\"], [0.25098039215686274, \"rgb(97,30,82)\"], [0.3137254901960784, \"rgb(123,30,89)\"], [0.3764705882352941, \"rgb(150,27,91)\"], [0.4392156862745098, \"rgb(177,22,88)\"], [0.5019607843137255, \"rgb(203,26,79)\"], [0.5647058823529412, \"rgb(223,47,67)\"], [0.6274509803921569, \"rgb(236,76,61)\"], [0.6901960784313725, \"rgb(242,107,73)\"], [0.7529411764705882, \"rgb(244,135,95)\"], [0.8156862745098039, \"rgb(245,162,122)\"], [0.8784313725490196, \"rgb(246,188,153)\"], [0.9411764705882353, \"rgb(247,212,187)\"], [1.0, \"rgb(250,234,220)\"]]}, \"colorway\": [\"rgb(76,114,176)\", \"rgb(221,132,82)\", \"rgb(85,168,104)\", \"rgb(196,78,82)\", \"rgb(129,114,179)\", \"rgb(147,120,96)\", \"rgb(218,139,195)\", \"rgb(140,140,140)\", \"rgb(204,185,116)\", \"rgb(100,181,205)\"], \"font\": {\"color\": \"rgb(36,36,36)\"}, \"geo\": {\"bgcolor\": \"white\", \"lakecolor\": \"white\", \"landcolor\": \"rgb(234,234,242)\", \"showlakes\": true, \"showland\": true, \"subunitcolor\": \"white\"}, \"hoverlabel\": {\"align\": \"left\"}, \"hovermode\": \"closest\", \"paper_bgcolor\": \"white\", \"plot_bgcolor\": \"rgb(234,234,242)\", \"polar\": {\"angularaxis\": {\"gridcolor\": \"white\", \"linecolor\": \"white\", \"showgrid\": true, \"ticks\": \"\"}, \"bgcolor\": \"rgb(234,234,242)\", \"radialaxis\": {\"gridcolor\": \"white\", \"linecolor\": \"white\", \"showgrid\": true, \"ticks\": \"\"}}, \"scene\": {\"xaxis\": {\"backgroundcolor\": \"rgb(234,234,242)\", \"gridcolor\": \"white\", \"gridwidth\": 2, \"linecolor\": \"white\", \"showbackground\": true, \"showgrid\": true, \"ticks\": \"\", \"zerolinecolor\": \"white\"}, \"yaxis\": {\"backgroundcolor\": \"rgb(234,234,242)\", \"gridcolor\": \"white\", \"gridwidth\": 2, \"linecolor\": \"white\", \"showbackground\": true, \"showgrid\": true, \"ticks\": \"\", \"zerolinecolor\": \"white\"}, \"zaxis\": {\"backgroundcolor\": \"rgb(234,234,242)\", \"gridcolor\": \"white\", \"gridwidth\": 2, \"linecolor\": \"white\", \"showbackground\": true, \"showgrid\": true, \"ticks\": \"\", \"zerolinecolor\": \"white\"}}, \"shapedefaults\": {\"fillcolor\": \"rgb(67,103,167)\", \"line\": {\"width\": 0}, \"opacity\": 0.5}, \"ternary\": {\"aaxis\": {\"gridcolor\": \"white\", \"linecolor\": \"white\", \"showgrid\": true, \"ticks\": \"\"}, \"baxis\": {\"gridcolor\": \"white\", \"linecolor\": \"white\", \"showgrid\": true, \"ticks\": \"\"}, \"bgcolor\": \"rgb(234,234,242)\", \"caxis\": {\"gridcolor\": \"white\", \"linecolor\": \"white\", \"showgrid\": true, \"ticks\": \"\"}}, \"xaxis\": {\"automargin\": true, \"gridcolor\": \"white\", \"linecolor\": \"white\", \"showgrid\": true, \"ticks\": \"\", \"title\": {\"standoff\": 15}, \"zerolinecolor\": \"white\"}, \"yaxis\": {\"automargin\": true, \"gridcolor\": \"white\", \"linecolor\": \"white\", \"showgrid\": true, \"ticks\": \"\", \"title\": {\"standoff\": 15}, \"zerolinecolor\": \"white\"}}}, \"title\": {\"font\": {\"family\": \"Times New Roman\", \"size\": 30}}, \"width\": 1000, \"xaxis\": {\"anchor\": \"y\", \"domain\": [0.0, 1.0], \"showgrid\": false, \"ticks\": \"\", \"title\": {}, \"zeroline\": false}, \"yaxis\": {\"anchor\": \"x\", \"domain\": [0.0, 1.0], \"showgrid\": false, \"title\": {\"text\": \"Validation F-Scores\"}, \"zeroline\": false}},\n",
       "                        {\"responsive\": true}\n",
       "                    ).then(function(){\n",
       "                            \n",
       "var gd = document.getElementById('7e21013c-3c7f-4721-aef8-6baba175f050');\n",
       "var x = new MutationObserver(function (mutations, observer) {{\n",
       "        var display = window.getComputedStyle(gd).display;\n",
       "        if (!display || display === 'none') {{\n",
       "            console.log([gd, 'removed!']);\n",
       "            Plotly.purge(gd);\n",
       "            observer.disconnect();\n",
       "        }}\n",
       "}});\n",
       "\n",
       "// Listen for the removal of the full notebook cells\n",
       "var notebookContainer = gd.closest('#notebook-container');\n",
       "if (notebookContainer) {{\n",
       "    x.observe(notebookContainer, {childList: true});\n",
       "}}\n",
       "\n",
       "// Listen for the clearing of the current output cell\n",
       "var outputEl = gd.closest('.output');\n",
       "if (outputEl) {{\n",
       "    x.observe(outputEl, {childList: true});\n",
       "}}\n",
       "\n",
       "                        })\n",
       "                };\n",
       "                });\n",
       "            </script>\n",
       "        </div>"
      ]
     },
     "metadata": {},
     "output_type": "display_data"
    }
   ],
   "source": [
    "fig = mme_comparisons()\n",
    "fig.show()"
   ]
  },
  {
   "cell_type": "code",
   "execution_count": 39,
   "metadata": {
    "slideshow": {
     "slide_type": "slide"
    }
   },
   "outputs": [
    {
     "data": {
      "text/html": [
       "\n",
       "        <iframe\n",
       "            width=\"1500\"\n",
       "            height=\"400\"\n",
       "            src=\"./structural_notebooks/cat_mme.pdf\"\n",
       "            frameborder=\"0\"\n",
       "            allowfullscreen\n",
       "        ></iframe>\n",
       "        "
      ],
      "text/plain": [
       "<IPython.lib.display.IFrame at 0x7f925ca19f50>"
      ]
     },
     "execution_count": 39,
     "metadata": {},
     "output_type": "execute_result"
    }
   ],
   "source": [
    "\n",
    "IFrame(\"./structural_notebooks/cat_mme.pdf\", width=1500, height=400)"
   ]
  },
  {
   "cell_type": "markdown",
   "metadata": {
    "slideshow": {
     "slide_type": "slide"
    }
   },
   "source": [
    "| Drop Rule                           | Size | HvH    | H\\+MME |\n",
    "|-------------------------------------|------|--------|--------|\n",
    "| No Drop                             | 300  | 0\\.336 | 0\\.250 |\n",
    "| Assigned \"Bad\" By Both              | 249  | 0\\.200 | 0\\.260 |\n",
    "| Assigned \"Bad\" By Either            | 151  | 0\\.460 | 0\\.473 |\n",
    "| Assigned \"Bad\" or \"Other\" By Either | 120  | 0\\.620 | 0\\.587 |\n"
   ]
  },
  {
   "cell_type": "markdown",
   "metadata": {
    "slideshow": {
     "slide_type": "slide"
    }
   },
   "source": [
    "### Conclusion \n",
    "- We implemented a virtual synthesizer and virtual ears\n",
    "- We made them work together to create drum sounds\n",
    "- Computational overhead is fairly small\n",
    "    - Sound generation is quick\n",
    "    - Models are small and train quickly\n",
    "- Both approaches produce drum samples but..."
   ]
  },
  {
   "cell_type": "markdown",
   "metadata": {
    "slideshow": {
     "slide_type": "slide"
    }
   },
   "source": [
    "### Future Work (Collaborations Welcome!)\n",
    "1. There are a lot of \"duds\" mixed in, possible causes:\n",
    "    - Open set recognition \n",
    "    - Better models\n",
    "    - Need to learn quicker with less data\n",
    "2. A lot of the produced samples sound the same. \n",
    "    - Need more powerful synthesizers\n",
    "    - Need"
   ]
  },
  {
   "cell_type": "markdown",
   "metadata": {
    "slideshow": {
     "slide_type": "slide"
    }
   },
   "source": [
    "#### Questions?"
   ]
  },
  {
   "cell_type": "code",
   "execution_count": 29,
   "metadata": {
    "slideshow": {
     "slide_type": "slide"
    }
   },
   "outputs": [
    {
     "data": {
      "text/html": [
       "\n",
       "        <iframe\n",
       "            width=\"1800\"\n",
       "            height=\"1000\"\n",
       "            src=\"./presentation_data/conclusion.pdf\"\n",
       "            frameborder=\"0\"\n",
       "            allowfullscreen\n",
       "        ></iframe>\n",
       "        "
      ],
      "text/plain": [
       "<IPython.lib.display.IFrame at 0x7f91c87e8fd0>"
      ]
     },
     "execution_count": 29,
     "metadata": {},
     "output_type": "execute_result"
    }
   ],
   "source": [
    "IFrame(\"./presentation_data/conclusion.pdf\", width=1800, height=1000)"
   ]
  }
 ],
 "metadata": {
  "celltoolbar": "Slideshow",
  "kernelspec": {
   "display_name": "Python 3",
   "language": "python",
   "name": "python3"
  },
  "language_info": {
   "codemirror_mode": {
    "name": "ipython",
    "version": 3
   },
   "file_extension": ".py",
   "mimetype": "text/x-python",
   "name": "python",
   "nbconvert_exporter": "python",
   "pygments_lexer": "ipython3",
   "version": "3.7.4"
  },
  "rise": {
   "start_slideshow_at": "selected",
   "theme": "dark",
   "transition": "zoom"
  }
 },
 "nbformat": 4,
 "nbformat_minor": 4
}
