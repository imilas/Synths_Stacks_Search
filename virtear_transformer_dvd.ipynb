{
 "cells": [
  {
   "cell_type": "code",
   "execution_count": 748,
   "metadata": {},
   "outputs": [],
   "source": [
    "import numpy as np\n",
    "import matplotlib.pyplot as plt\n",
    "import time\n",
    "import torch\n",
    "import torch.utils.data as data\n",
    "import torch.optim as optim\n",
    "import torch.nn as nn\n",
    "import torch.nn.functional as F\n",
    "from torch.nn.functional import interpolate \n",
    "from torch.autograd import Variable\n",
    "import imp\n",
    "import torchaudio\n",
    "import torchvision as tv\n",
    "import matplotlib.pyplot as plt\n",
    "from IPython.display import Audio\n",
    "import os, random\n",
    "import pandas as pd\n",
    "# import mir_utils as miru\n",
    "from torch.utils.data import Dataset, DataLoader\n",
    "from sklearn.model_selection import train_test_split\n",
    "import librosa\n",
    "# import pytorch_utils\n",
    "# import pytorch_models\n",
    "#reload these libraries because I change them often-ish\n",
    "# imp.reload(pytorch_utils)\n",
    "# imp.reload(miru)\n",
    "# imp.reload(pytorch_models)\n",
    "from scipy.signal import resample\n",
    "from sklearn import preprocessing\n",
    "le_major = preprocessing.LabelEncoder()\n",
    "\n",
    "SR = 44100\n",
    "#functions\n",
    "spec = torchaudio.functional.spectrogram\n",
    "\n",
    "def getMeanLength(x):\n",
    "    gl=x.apply(lambda z: len(z[\"audio\"]),axis=1)\n",
    "    print(gl.mean()/SR,gl.mean(),x[\"label\"].iloc[0])\n",
    "\n",
    "audio_df = pd.read_csv(\"csvs/audio_df.csv\")\n",
    "device = torch.device(\"cuda\" if torch.cuda.is_available() else \"cpu\")\n"
   ]
  },
  {
   "cell_type": "code",
   "execution_count": 749,
   "metadata": {},
   "outputs": [],
   "source": [
    "audio_df = audio_df[audio_df[\"maj\"]==\"drums\"]\n",
    "audio_df[\"min\"] = audio_df[\"min\"].str.replace(\"tom_high\",\"kick\")\n",
    "audio_df[\"min\"] = audio_df[\"min\"].str.replace(\"tom\",\"kick\")\n",
    "audio_df[\"min\"] = audio_df[\"min\"].str.replace(\"rim\",\"snare\")\n",
    "audio_df[\"min\"] = audio_df[\"min\"].str.replace(\"clap\",\"snare\")\n"
   ]
  },
  {
   "cell_type": "code",
   "execution_count": 750,
   "metadata": {},
   "outputs": [],
   "source": [
    "le_major.fit(audio_df[\"min\"])\n",
    "audio_df[\"min\"] = le_major.transform(audio_df[\"min\"])"
   ]
  },
  {
   "cell_type": "code",
   "execution_count": 751,
   "metadata": {},
   "outputs": [
    {
     "data": {
      "text/plain": [
       "0       3\n",
       "1       3\n",
       "2       3\n",
       "3       3\n",
       "4       3\n",
       "       ..\n",
       "5914    1\n",
       "5915    1\n",
       "5916    1\n",
       "5917    1\n",
       "5918    1\n",
       "Name: min, Length: 5919, dtype: int64"
      ]
     },
     "execution_count": 751,
     "metadata": {},
     "output_type": "execute_result"
    }
   ],
   "source": [
    "audio_df[\"min\"]"
   ]
  },
  {
   "cell_type": "code",
   "execution_count": 752,
   "metadata": {},
   "outputs": [
    {
     "name": "stdout",
     "output_type": "stream",
     "text": [
      "{'hat': 0, 'kick': 1, 'shake': 2, 'snare': 3}\n"
     ]
    }
   ],
   "source": [
    "print(dict(zip(le_major.classes_,le_major.transform(le_major.classes_))))"
   ]
  },
  {
   "cell_type": "code",
   "execution_count": 753,
   "metadata": {},
   "outputs": [
    {
     "data": {
      "text/plain": [
       "tensor([ 3.3862,  3.3441, 48.9174,  2.5961], device='cuda:0',\n",
       "       dtype=torch.float64)"
      ]
     },
     "execution_count": 753,
     "metadata": {},
     "output_type": "execute_result"
    }
   ],
   "source": [
    "# define weights\n",
    "w = [len(audio_df)/np.sum(audio_df[\"min\"]==x) for x in le_major.transform(le_major.classes_)]\n",
    "w = torch.tensor(w).to(device)\n",
    "w"
   ]
  },
  {
   "cell_type": "code",
   "execution_count": 780,
   "metadata": {},
   "outputs": [
    {
     "name": "stdout",
     "output_type": "stream",
     "text": [
      "CPU times: user 762 µs, sys: 112 ms, total: 113 ms\n",
      "Wall time: 2.29 s\n"
     ]
    }
   ],
   "source": [
    "%%time\n",
    "#define a dataset\n",
    "class audioDataset(torch.utils.data.Dataset):\n",
    "    def __init__(self,audio_df,SR=44100,transform=None):\n",
    "        self.audio_df = audio_df\n",
    "        self.minLength = SR//4\n",
    "    def __len__(self):\n",
    "        return len(self.audio_df)\n",
    "    def __getitem__(self, idx):\n",
    "        if torch.is_tensor(idx):\n",
    "            idx = idx.tolist()\n",
    "        row = self.audio_df.iloc[idx]\n",
    "        try:\n",
    "            signal,sr = librosa.load(row[\"path\"])\n",
    "        except:\n",
    "            signal = np.zeros(self.minLength)\n",
    "            sr = self.minLength\n",
    "        # resample to global SR\n",
    "        signal = librosa.resample(signal,sr,SR//2)\n",
    "        # pad the audio length if too short\n",
    "        nz = np.max((self.minLength-signal.shape[0],0))\n",
    "        signal = np.concatenate([signal[0:self.minLength],np.zeros(nz)])\n",
    "        one_hot_label = torch.zeros(4)\n",
    "        one_hot_label[row[\"min\"]] = 1 \n",
    "        \n",
    "        sound={\"signal\":signal,\"major\":row[\"maj\"],\"minor\":row[\"min\"],\"path\":row[\"path\"],\"sr\":SR,\"one_hot\":one_hot_label}\n",
    "        return sound\n",
    "\n",
    "train,val = train_test_split(audio_df.copy().sample(frac=1), test_size=0.1) \n",
    "\n",
    "train_loader = DataLoader(audioDataset(train,SR), batch_size=64,shuffle=False, num_workers=4)\n",
    "val_loader = DataLoader(audioDataset(val,SR), batch_size=128,shuffle=False, num_workers=4)\n",
    "\n",
    "example_loader = iter(train_loader)\n",
    "d = next(example_loader)"
   ]
  },
  {
   "cell_type": "code",
   "execution_count": 781,
   "metadata": {},
   "outputs": [
    {
     "name": "stdout",
     "output_type": "stream",
     "text": [
      "tensor(1) /home/asalimi/Synths_Stacks_Search/drum_dbs/drums/kick/Jomox_Kick09.wav\n"
     ]
    },
    {
     "data": {
      "text/html": [
       "\n",
       "                <audio  controls=\"controls\" autoplay=\"autoplay\">\n",
       "                    <source src=\"data:audio/wav;base64,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\" type=\"audio/wav\" />\n",
       "                    Your browser does not support the audio element.\n",
       "                </audio>\n",
       "              "
      ],
      "text/plain": [
       "<IPython.lib.display.Audio object>"
      ]
     },
     "execution_count": 781,
     "metadata": {},
     "output_type": "execute_result"
    }
   ],
   "source": [
    "# d = next(example_loader)\n",
    "i = np.random.randint(128)\n",
    "print(d[\"minor\"][i],d[\"path\"][i])\n",
    "Audio(d[\"signal\"][i],rate=SR,autoplay=True)"
   ]
  },
  {
   "cell_type": "code",
   "execution_count": 782,
   "metadata": {},
   "outputs": [],
   "source": [
    "import math\n",
    "class PositionalEncoding(nn.Module):\n",
    "\n",
    "    def __init__(self, d_model, dropout=0.1, max_len=5000):\n",
    "        super(PositionalEncoding, self).__init__()\n",
    "        self.dropout = nn.Dropout(p=dropout)\n",
    "\n",
    "        pe = torch.zeros(max_len, d_model)\n",
    "        position = torch.arange(0, max_len, dtype=torch.float).unsqueeze(1)\n",
    "        div_term = torch.exp(torch.arange(0, d_model, 2).float() * (-math.log(10000.0) / d_model))\n",
    "        pe[:, 0::2] = torch.sin(position * div_term)\n",
    "        pe[:, 1::2] = torch.cos(position * div_term)\n",
    "        pe = pe.unsqueeze(0).transpose(0, 1)\n",
    "        self.register_buffer('pe', pe)\n",
    "\n",
    "    def forward(self, x):\n",
    "        x = x + self.pe[:x.size(0), :]\n",
    "        return self.dropout(x)"
   ]
  },
  {
   "cell_type": "code",
   "execution_count": 809,
   "metadata": {},
   "outputs": [
    {
     "data": {
      "text/plain": [
       "torch.Size([64, 4])"
      ]
     },
     "execution_count": 809,
     "metadata": {},
     "output_type": "execute_result"
    }
   ],
   "source": [
    "\n",
    "import torchmetrics\n",
    "from torchmetrics.functional import auc\n",
    "from torch.nn import functional as F\n",
    "from torch import nn\n",
    "import optuna\n",
    "from optuna.integration import PyTorchLightningPruningCallback\n",
    "import pytorch_lightning as pl\n",
    "from pytorch_lightning import LightningModule, Trainer\n",
    "from pytorch_lightning.callbacks import ModelCheckpoint,LearningRateMonitor\n",
    "\n",
    "class Transformer_DVN(LightningModule):\n",
    "    def __init__(self,attention_dropout=0.5,d_model=128,heads=8,encoding_layers=8,pool_dim=1,pct_start=0.05,max_lr=1e-4,max_momentum=0.95,epochs = 50):\n",
    "        super().__init__()\n",
    "        dropout=0.2\n",
    "        self.attention_dropout=attention_dropout\n",
    "        self.d_model = d_model\n",
    "        self.heads = heads\n",
    "        self.encoding_layers = encoding_layers\n",
    "        self.pool_dim = pool_dim\n",
    "        self.pct_start = pct_start\n",
    "        self.max_lr = max_lr\n",
    "        self.max_momentum = max_momentum\n",
    "        self.epochs = epochs\n",
    "        \n",
    "        self.conv_encoder = nn.Sequential(\n",
    "                    nn.Conv1d(1, self.d_model, kernel_size=50, stride=10, padding=5, bias=False),\n",
    "                    nn.BatchNorm1d(self.d_model),\n",
    "                    nn.MaxPool1d(kernel_size=3, stride=2, padding=1),\n",
    "                    \n",
    "                    nn.Conv1d(self.d_model, self.d_model, kernel_size=3, stride=2, padding=5, bias=False),\n",
    "                    nn.BatchNorm1d(self.d_model),\n",
    "                    nn.MaxPool1d(kernel_size=3, stride=2, padding=1),\n",
    "                    \n",
    "                    nn.Conv1d(self.d_model, self.d_model, kernel_size=3, stride=2, padding=7, bias=False),\n",
    "                    nn.BatchNorm1d(self.d_model),\n",
    "                    nn.ReLU(inplace=True),\n",
    "                    )\n",
    "        \n",
    "        self.pos_encoder = PositionalEncoding(self.d_model, 0.1)\n",
    "        self.encoder_layer = nn.TransformerEncoderLayer(d_model=self.d_model, nhead=self.heads,\n",
    "                                                        dropout = self.attention_dropout,)\n",
    "        \n",
    "        self.transformer_encoder = nn.TransformerEncoder(self.encoder_layer, num_layers=self.encoding_layers)\n",
    "        self.adaptiveavgpool = nn.AdaptiveAvgPool1d(self.pool_dim)\n",
    "        self.adaptivemaxpool = nn.AdaptiveMaxPool1d(self.pool_dim)\n",
    "        \n",
    "        self.decoder = nn.Sequential(\n",
    "          nn.Linear(self.d_model*2*self.pool_dim,64),\n",
    "          nn.Linear(64,4),\n",
    "        )\n",
    "#         d[\"signal\"]\n",
    "    def forward(self, x):\n",
    "        x = x.reshape([-1,1,SR//4]).float()\n",
    "        x1 = self.conv_encoder(x).transpose(2,1).transpose(1,0)\n",
    "        x1 = self.pos_encoder(x1)\n",
    "        x2 = self.transformer_encoder(x1).transpose(1,0).transpose(2,1)\n",
    "        x3r = self.adaptiveavgpool(x2)\n",
    "        x3c = self.adaptivemaxpool(x2)\n",
    "        x4 = torch.cat((x3r, x3c), dim=1)\n",
    "        x4 = x4.view(x4.size(0), -1)\n",
    "        out =  self.decoder(x4)\n",
    "        return out\n",
    "    \n",
    "    def step(self, batch, batch_idx):\n",
    "        x, y = batch[\"signal\"].float(),batch[\"one_hot\"].float()\n",
    "        x = x.reshape([-1,1,SR//4]).float()\n",
    "        x1 = self.conv_encoder(x).transpose(2,1).transpose(1,0)\n",
    "        x1 = self.pos_encoder(x1)\n",
    "        x2 = self.transformer_encoder(x1).transpose(1,0).transpose(2,1)\n",
    "        x3r = self.adaptiveavgpool(x2)\n",
    "        x3c = self.adaptivemaxpool(x2)\n",
    "        x4 = torch.cat((x3r, x3c), dim=1)\n",
    "        x4 = x4.view(x4.size(0), -1)\n",
    "        out =  self.decoder(x4)\n",
    "        loss = F.binary_cross_entropy_with_logits(out, y,pos_weight=w.to(self.device))\n",
    "#         loss = F.binary_cross_entropy_with_logits(out, y,)\n",
    "        auc = torchmetrics.functional.auroc(out,y.int(),num_classes=4,average=\"micro\")\n",
    "        accuracy = torchmetrics.functional.accuracy(out,y.int(),num_classes=4,average=\"macro\")\n",
    "        print(auc,accuracy,end=\"\\r\")\n",
    "        return loss, {\"loss\": loss,\"auc\":auc,\"accuracy\":accuracy}\n",
    "\n",
    "    def training_step(self, batch, batch_idx):\n",
    "        loss, logs = self.step(batch, batch_idx)\n",
    "\n",
    "        \n",
    "        self.log_dict({f\"train_{k}\": v for k, v in logs.items()}, on_step=False, on_epoch=True)\n",
    "        return loss\n",
    "\n",
    "    def validation_step(self, batch, batch_idx):\n",
    "        loss, logs = self.step(batch, batch_idx)\n",
    "        self.log_dict({f\"val_{k}\": v for k, v in logs.items()}, on_step=False, on_epoch=True)\n",
    "        return loss\n",
    "    \n",
    "    def configure_optimizers(self):\n",
    "        optimizer = torch.optim.AdamW(self.parameters(), lr=1e-8)\n",
    "        lr_scheduler = {'scheduler': torch.optim.lr_scheduler.OneCycleLR(\n",
    "                                        optimizer,\n",
    "                                        pct_start = self.pct_start,\n",
    "                                        max_lr=self.max_lr,\n",
    "                                        steps_per_epoch=int(len(self.train_dataloader())),\n",
    "                                        epochs=self.epochs,\n",
    "                                        anneal_strategy=\"cos\",\n",
    "                                        final_div_factor = 1000,\n",
    "                                        max_momentum=self.max_momentum,\n",
    "                                    ),\n",
    "                        'name': 'learning_rate',\n",
    "                        'interval':'step',\n",
    "                        'frequency': 1}\n",
    "        return [optimizer],[lr_scheduler]\n",
    "\n",
    "    \n",
    "# model = Transformer_Lightning().load_from_checkpoint(\"models/transformer/epoch=15-val_loss=0.090-val_auc=0.876.ckpt\")\n",
    "model = Transformer_Lightning(attention_dropout=0.1,d_model=16,heads=8,encoding_layers=4,pool_dim=1)\n",
    "model(d[\"signal\"]).shape"
   ]
  },
  {
   "cell_type": "code",
   "execution_count": null,
   "metadata": {},
   "outputs": [
    {
     "name": "stderr",
     "output_type": "stream",
     "text": [
      "GPU available: True, used: True\n",
      "TPU available: False, using: 0 TPU cores\n",
      "Using native 16bit precision.\n",
      "LOCAL_RANK: 0 - CUDA_VISIBLE_DEVICES: [0,1]\n",
      "\n",
      "  | Name                | Type                    | Params\n",
      "----------------------------------------------------------------\n",
      "0 | conv_encoder        | Sequential              | 2.4 K \n",
      "1 | pos_encoder         | PositionalEncoding      | 0     \n",
      "2 | encoder_layer       | TransformerEncoderLayer | 68.8 K\n",
      "3 | transformer_encoder | TransformerEncoder      | 275 K \n",
      "4 | adaptiveavgpool     | AdaptiveAvgPool1d       | 0     \n",
      "5 | adaptivemaxpool     | AdaptiveMaxPool1d       | 0     \n",
      "6 | decoder             | Sequential              | 2.4 K \n",
      "----------------------------------------------------------------\n",
      "348 K     Trainable params\n",
      "0         Non-trainable params\n",
      "348 K     Total params\n",
      "1.394     Total estimated model params size (MB)\n"
     ]
    },
    {
     "data": {
      "application/vnd.jupyter.widget-view+json": {
       "model_id": "3bcb0973700f44f2a108928084247c14",
       "version_major": 2,
       "version_minor": 0
      },
      "text/plain": [
       "Validation sanity check: 0it [00:00, ?it/s]"
      ]
     },
     "metadata": {},
     "output_type": "display_data"
    },
    {
     "name": "stdout",
     "output_type": "stream",
     "text": [
      "tensor(0.9763, device='cuda:0') tensor(0.9160, device='cuda:0')\r"
     ]
    },
    {
     "data": {
      "application/vnd.jupyter.widget-view+json": {
       "model_id": "23563b85231f4f02a14ce127a12658c5",
       "version_major": 2,
       "version_minor": 0
      },
      "text/plain": [
       "Training: 0it [00:00, ?it/s]"
      ]
     },
     "metadata": {},
     "output_type": "display_data"
    },
    {
     "name": "stdout",
     "output_type": "stream",
     "text": [
      "tensor(0.9556, device='cuda:0') tensor(0.8833, device='cuda:0')\r"
     ]
    },
    {
     "data": {
      "application/vnd.jupyter.widget-view+json": {
       "model_id": "33e1b306b5f8465fae80b3c68ffe00d4",
       "version_major": 2,
       "version_minor": 0
      },
      "text/plain": [
       "Validating: 0it [00:00, ?it/s]"
      ]
     },
     "metadata": {},
     "output_type": "display_data"
    },
    {
     "name": "stdout",
     "output_type": "stream",
     "text": [
      "tensor(0.9644, device='cuda:0') tensor(0.8667, device='cuda:0')\r"
     ]
    },
    {
     "data": {
      "application/vnd.jupyter.widget-view+json": {
       "model_id": "799162940add48d690ec04d190a40b3a",
       "version_major": 2,
       "version_minor": 0
      },
      "text/plain": [
       "Validating: 0it [00:00, ?it/s]"
      ]
     },
     "metadata": {},
     "output_type": "display_data"
    },
    {
     "name": "stdout",
     "output_type": "stream",
     "text": [
      "tensor(0.9867, device='cuda:0') tensor(0.9167, device='cuda:0')\r"
     ]
    },
    {
     "data": {
      "application/vnd.jupyter.widget-view+json": {
       "model_id": "bb709f97a17540069725fb8e37f18e11",
       "version_major": 2,
       "version_minor": 0
      },
      "text/plain": [
       "Validating: 0it [00:00, ?it/s]"
      ]
     },
     "metadata": {},
     "output_type": "display_data"
    },
    {
     "name": "stdout",
     "output_type": "stream",
     "text": [
      "tensor(0.9970, device='cuda:0') tensor(0.9667, device='cuda:0')\r"
     ]
    },
    {
     "data": {
      "application/vnd.jupyter.widget-view+json": {
       "model_id": "58a24d5f568e458a8421511a7968ae2a",
       "version_major": 2,
       "version_minor": 0
      },
      "text/plain": [
       "Validating: 0it [00:00, ?it/s]"
      ]
     },
     "metadata": {},
     "output_type": "display_data"
    },
    {
     "name": "stdout",
     "output_type": "stream",
     "text": [
      "tensor(0.9644, device='cuda:0') tensor(0.8667, device='cuda:0')\r"
     ]
    },
    {
     "data": {
      "application/vnd.jupyter.widget-view+json": {
       "model_id": "06631424661a41f6a02ab692ec757531",
       "version_major": 2,
       "version_minor": 0
      },
      "text/plain": [
       "Validating: 0it [00:00, ?it/s]"
      ]
     },
     "metadata": {},
     "output_type": "display_data"
    },
    {
     "name": "stdout",
     "output_type": "stream",
     "text": [
      "tensor(0.9674, device='cuda:0') tensor(0.9000, device='cuda:0')\r"
     ]
    },
    {
     "data": {
      "application/vnd.jupyter.widget-view+json": {
       "model_id": "1ab732e4f96b4d2995ca10304e05aa6e",
       "version_major": 2,
       "version_minor": 0
      },
      "text/plain": [
       "Validating: 0it [00:00, ?it/s]"
      ]
     },
     "metadata": {},
     "output_type": "display_data"
    },
    {
     "name": "stdout",
     "output_type": "stream",
     "text": [
      "tensor(0.9659, device='cuda:0') tensor(0.8667, device='cuda:0')\r"
     ]
    },
    {
     "data": {
      "application/vnd.jupyter.widget-view+json": {
       "model_id": "2a95410fccbe45ea9a4e1656c344796c",
       "version_major": 2,
       "version_minor": 0
      },
      "text/plain": [
       "Validating: 0it [00:00, ?it/s]"
      ]
     },
     "metadata": {},
     "output_type": "display_data"
    },
    {
     "name": "stdout",
     "output_type": "stream",
     "text": [
      "tensor(0.9496, device='cuda:0') tensor(0.8333, device='cuda:0')\r"
     ]
    },
    {
     "data": {
      "application/vnd.jupyter.widget-view+json": {
       "model_id": "1a4b2a87e25644f588195c9605cb16d9",
       "version_major": 2,
       "version_minor": 0
      },
      "text/plain": [
       "Validating: 0it [00:00, ?it/s]"
      ]
     },
     "metadata": {},
     "output_type": "display_data"
    },
    {
     "name": "stdout",
     "output_type": "stream",
     "text": [
      "tensor(0.9881, device='cuda:0') tensor(0.9000, device='cuda:0')\r"
     ]
    },
    {
     "data": {
      "application/vnd.jupyter.widget-view+json": {
       "model_id": "9af8990cfeab417a9795f9fcc79cf2e7",
       "version_major": 2,
       "version_minor": 0
      },
      "text/plain": [
       "Validating: 0it [00:00, ?it/s]"
      ]
     },
     "metadata": {},
     "output_type": "display_data"
    },
    {
     "name": "stdout",
     "output_type": "stream",
     "text": [
      "tensor(0.9867, device='cuda:0') tensor(0.9333, device='cuda:0')\r"
     ]
    },
    {
     "data": {
      "application/vnd.jupyter.widget-view+json": {
       "model_id": "802c7328643b437da258918a42982150",
       "version_major": 2,
       "version_minor": 0
      },
      "text/plain": [
       "Validating: 0it [00:00, ?it/s]"
      ]
     },
     "metadata": {},
     "output_type": "display_data"
    },
    {
     "name": "stdout",
     "output_type": "stream",
     "text": [
      "tensor(0.9497, device='cuda:0') tensor(0.9062, device='cuda:0')\r"
     ]
    }
   ],
   "source": [
    "checkpoint_callback =  ModelCheckpoint(\n",
    "    monitor='val_auc',\n",
    "    dirpath='models/transformer',\n",
    "    filename='dvd:{epoch:2d}-{val_loss:.3f}-{val_auc:.4f}-{val_accuracy:.4f}',\n",
    "    save_top_k=5,\n",
    "    mode='max',\n",
    ")\n",
    "lr_monitor = LearningRateMonitor(logging_interval='step')\n",
    "\n",
    "trainer = pl.Trainer(gpus=1,precision=16,callbacks=[checkpoint_callback,lr_monitor],log_every_n_steps=10,max_epochs=100,)\n",
    "trainer.fit(model,train_loader,val_loader,)"
   ]
  },
  {
   "cell_type": "code",
   "execution_count": null,
   "metadata": {},
   "outputs": [],
   "source": [
    "SCALE_FACTOR = 0.5\n",
    "num_windows = 5\n",
    "window_shift = 300\n",
    "smallest_loss,smallest_vloss = 1000,1000\n",
    "step = 0\n",
    "for epoch in range(40): \n",
    "    for i, data in enumerate(train_loader, 0):\n",
    "        train_loss = 0\n",
    "        bs = len(data[\"signal\"]) # batch size\n",
    "        signal = interpolate(data[\"signal\"].reshape([bs,1,-1]),scale_factor = SCALE_FACTOR,recompute_scale_factor=False).reshape([bs,1,-1])\n",
    "      \n",
    "        optimizer.zero_grad()\n",
    "        outputs = cnet(signal,)\n",
    "        y = torch.tensor(le_major.transform(data[\"major\"])).to(device)\n",
    "        loss = loss_func(outputs,y.long())\n",
    "        loss.backward()\n",
    "        optimizer.step()\n",
    "        train_loss += loss.item()\n",
    "        if i%5==0:\n",
    "            with torch.no_grad():\n",
    "                val_loss = 0\n",
    "                for iv,datav in enumerate(test_loader, 0):\n",
    "                    signalv = interpolate(datav[\"signal\"].reshape([len(datav[\"signal\"]),1,-1]),scale_factor = SCALE_FACTOR,recompute_scale_factor=False).reshape([len(datav[\"signal\"]),-1])\n",
    "                    # zero the parameter gradients\n",
    "                    optimizer.zero_grad()\n",
    "                    voutputs = cnet(signalv,)\n",
    "                    vy = torch.tensor(le_major.transform(datav[\"major\"])).to(device)\n",
    "                    vloss = loss_func(voutputs,vy.long())\n",
    "                    val_loss += vloss\n",
    "            print('[%d, %d] val loss: %.5f, loss: %.5f'%(epoch + 1, i , val_loss,train_loss))\n",
    "    #         writer.add_scalar('Loss/Training', train_loss,)\n",
    "    #         writer.add_scalar('Loss/Validation', val_loss)\n",
    "            if val_loss < smallest_vloss:        \n",
    "                torch.save({\n",
    "                'epoch': epoch,\n",
    "                'vloss': vloss,\n",
    "                'model_state_dict': cnet.state_dict(),\n",
    "                'optimizer_state_dict': optimizer.state_dict(),\n",
    "                }, \"models/1d_conv//%.3f_%.4f_.checkpoint\"%(val_loss,train_loss,))\n",
    "                smallest_vloss = val_loss\n",
    "                smallest_loss = train_loss "
   ]
  },
  {
   "cell_type": "code",
   "execution_count": null,
   "metadata": {},
   "outputs": [],
   "source": []
  }
 ],
 "metadata": {
  "kernelspec": {
   "display_name": "Python 3",
   "language": "python",
   "name": "python3"
  },
  "language_info": {
   "codemirror_mode": {
    "name": "ipython",
    "version": 3
   },
   "file_extension": ".py",
   "mimetype": "text/x-python",
   "name": "python",
   "nbconvert_exporter": "python",
   "pygments_lexer": "ipython3",
   "version": "3.7.10"
  }
 },
 "nbformat": 4,
 "nbformat_minor": 4
}
