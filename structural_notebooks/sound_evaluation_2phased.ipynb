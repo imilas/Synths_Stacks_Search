{
 "cells": [
  {
   "cell_type": "code",
   "execution_count": 1,
   "metadata": {},
   "outputs": [],
   "source": [
    "import sys\n",
    "from joblib import dump, load\n",
    "sys.path.append(\"..\")\n",
    "import numpy as np\n",
    "import pandas as pd\n",
    "import torch\n",
    "import torchvision\n",
    "import matplotlib.pyplot as plt\n",
    "import imp\n",
    "from pathlib import Path\n",
    "\n",
    "from pippi.soundbuffer import SoundBuffer\n",
    "from pippi import dsp,fx\n",
    "import param_generation as pg\n",
    "\n",
    "import _pickle as pickle\n",
    "from IPython.display import Audio\n",
    "from feature_extraction.mir_utils import *\n",
    "\n",
    "import torch.utils.data as utils\n",
    "import torchvision.transforms as transforms\n",
    "from PIL import Image\n",
    "import common_vars as comv\n",
    "\n",
    "import csv\n",
    "import helpers\n",
    "imp.reload(helpers)\n",
    "imp.reload(comv)\n",
    "imp.reload(pg)\n",
    "from feature_extraction import pytorch_models as tm\n",
    "from feature_extraction import pytorch_models as pm\n",
    "imp.reload(tm)\n",
    "from helpers import *\n",
    "\n",
    "from common_vars import SR\n",
    "device = torch.device(\"cuda\" if torch.cuda.is_available() else \"cpu\")\n",
    "save_path=\"./generated_sample_pack/\"\n",
    "# device = \"cpu\"\n",
    "stack_size=3\n",
    "BATCH_SIZE=1\n",
    "NUM_BINS=100\n",
    "\n",
    "classes=comv.classes\n",
    "classes_ranked=comv.classes_ranked\n",
    "cDict={v:i for i,v in enumerate(classes)}\n",
    "\n",
    "drum_groups=['tom_low','snare','hihat_closed','rim','synth_noise','clap','kick','hihat_open','tom_mid']\n",
    "\n",
    "drum_df=pd.DataFrame(columns=[\"name\",\"fc\",\"cnnlstm\",\"env+freq\",\"consensus\",\"stack_size\"])\n",
    "\n",
    "def model_loader(m,p):\n",
    "    s=torch.load(p) \n",
    "    m.load_state_dict(s)\n",
    "    m.to(device)\n",
    "    return m"
   ]
  },
  {
   "cell_type": "code",
   "execution_count": 2,
   "metadata": {},
   "outputs": [],
   "source": [
    "\n",
    "imp.reload(pm)\n",
    "\n",
    "input_dim = 120\n",
    "seq_dim=100\n",
    "output_size = 5\n",
    "hidden_dim = 1000\n",
    "n_layers = 1\n",
    "\n",
    "    \n",
    "#########DVN#########\n",
    "#env model stuff\n",
    "env_model_dvn = tm.env_Model(D_in=10,H1=10,H2=5,H3=10,H4=2,H5=10,device=device)\n",
    "state='../feature_extraction/models/fc/env_dvn_95_35.pt'\n",
    "env_model_dvn.load_state_dict(torch.load(state))\n",
    "env_trans=tm.envTrans()\n",
    "env_model_dvn.to(device)\n",
    "\n",
    "\n",
    "# pitch model stuff\n",
    "fc_spec_model_dvn=tm.getFCSpecModel(D_in=20*20,H1=20,H2=10,H3=4,D_out=2)\n",
    "state='../feature_extraction/models/fc/spec_fc_dvn_96.pt'\n",
    "fc_spec_model_dvn.load_state_dict(torch.load(state))\n",
    "fc_spec_trans_dvn=tm.specTrans(20)\n",
    "fc_spec_model_dvn.to(device)\n",
    "\n",
    "#cnn lstm\n",
    "cnn_model_dvn=pm.CNNLSTM_dvn()\n",
    "state='../feature_extraction/models/cnn/clst_dvn_96_279.pt'\n",
    "cnn_model_dvn.load_state_dict(torch.load(state))\n",
    "cnn_model_dvn.to(device)\n",
    "cnn_model_dvn.to(device)\n",
    "#########DVD#########\n",
    "#fc dvd\n",
    "dvd_fc=pm.getFCSpecModel(D_in=20*20,H1=100,H2=50,H3=100,D_out=len(drum_groups))\n",
    "state='../feature_extraction/models/fc/spec_fc_dvd_81.pt'\n",
    "dvd_fc.load_state_dict(torch.load(state))\n",
    "dvd_fc.to(device)\n",
    "\n",
    "#cnn_dvd\n",
    "dvd_cnn=pm.CNNLSTM_dvd(len_out=len(drum_groups))\n",
    "state='../feature_extraction/models/cnn/clst_dvd_90_170.pt'\n",
    "dvd_cnn.load_state_dict(torch.load(state))\n",
    "dvd_cnn.to(device)\n",
    "\n",
    "#freq+env model\n",
    "freq_env_model_dvd = tm.env_freq_Model(D_in=60,H1=30,H2=10,H3=10,D_out=len(drum_groups))\n",
    "state='../feature_extraction/models/fc/freq_env_dvd_86_351.pt'\n",
    "freq_env_model_dvd.load_state_dict(torch.load(state))\n",
    "freq_env_trans=tm.freq_and_env_Trans(feat_mels=50,env_mels=1)\n",
    "freq_env_model_dvd.to(device)\n",
    "\n",
    "\n",
    "\n",
    "from IPython.display import Audio\n",
    "import librosa.display\n",
    "\n",
    "for g in drum_groups:\n",
    "    Path(save_path+\"/\"+g).mkdir(parents=True, exist_ok=True)\n",
    "\n"
   ]
  },
  {
   "cell_type": "code",
   "execution_count": 5,
   "metadata": {},
   "outputs": [],
   "source": [
    "#making graphs of models\n",
    "\n",
    "from torchsummary import summary\n",
    "import imp as imp\n",
    "out,params= stackMaker(stack_size)\n",
    "a= memToAud(out)\n",
    "imp.reload(torchviz)\n",
    "transform_input= {\"signal\":torch.tensor(a,dtype=torch.float),\"label\":torch.tensor(0)}\n",
    "env_feats=env_trans.call(transform_input)[\"feats\"].to(device)\n",
    "freq_feats=freq_env_trans.call(transform_input)[\"feats\"].to(device)\n",
    "pitch_feats=fc_spec_trans_dvn.call(transform_input)[\"feats\"].to(device)\n",
    "spec_flat=torch.flatten(pitch_feats, start_dim=1)\n",
    "\n",
    "outputEnvFreq=freq_env_model_dvd(freq_feats)\n",
    "outputCNNDVD=dvd_cnn(pitch_feats.reshape(-1,1,20,20))\n",
    "outputFCDVD=dvd_fc(spec_flat)\n",
    "outputE=env_model_dvn(env_feats)\n",
    "outputSPECFC=fc_spec_model_dvn(spec_flat)\n",
    "outputCNN= cnn_model_dvn(pitch_feats.reshape(-1,1,20,20))\n",
    "\n",
    "\n",
    "# summary(freq_env_model_dvd,freq_feats.shape)\n",
    "\n",
    "model,x=freq_env_model_dvd,freq_feats\n",
    "model,x=dvd_cnn,pitch_feats.reshape(-1,1,20,20)\n",
    "model,x=cnn_model_dvn,pitch_feats.reshape(-1,1,20,20)\n",
    "model,x=cnn_model_dvn,pitch_feats.reshape(-1,1,20,20)\n",
    "\n",
    "\n"
   ]
  },
  {
   "cell_type": "code",
   "execution_count": null,
   "metadata": {},
   "outputs": [],
   "source": [
    "# model,x=freq_env_model_dvd,freq_feats\n",
    "# model=fc_spec_model_dvn\n",
    "# model=  fc_spec_model_dvn\n",
    "model,x=dvd_fc,pitch_feats.reshape(-1,1,20,20)\n",
    "# model,x=cnn_model_dvn,pitch_feats.reshape(-1,1,20,20)\n",
    "# model,x=dvd_cnn,pitch_feats.reshape(-1,1,20,20)\n",
    "model"
   ]
  },
  {
   "cell_type": "code",
   "execution_count": null,
   "metadata": {},
   "outputs": [],
   "source": [
    "x=summary(model,pitch_feats.reshape(1,20,20).shape)\n",
    "summary?"
   ]
  },
  {
   "cell_type": "code",
   "execution_count": 4,
   "metadata": {},
   "outputs": [
    {
     "name": "stdout",
     "output_type": "stream",
     "text": [
      "env score 0.8940658569335938\n",
      "fc_spec 0.0005671764956787229\n",
      "o_cnn_spec 0.0001602107658982277\n",
      "fc category synth_noise \n",
      "cnn category synth_noise \n",
      "env+freq clap\n",
      "total consensus synth_noise\n",
      "it took 1 iteration, stack size 2\n"
     ]
    },
    {
     "name": "stderr",
     "output_type": "stream",
     "text": [
      "/home/asalimi/miniconda3/lib/python3.7/site-packages/torch/nn/modules/container.py:117: UserWarning: Implicit dimension choice for softmax has been deprecated. Change the call to include dim=X as an argument.\n",
      "  input = module(input)\n",
      "../feature_extraction/pytorch_models.py:189: UserWarning: Implicit dimension choice for softmax has been deprecated. Change the call to include dim=X as an argument.\n",
      "  out=self.lsm(out)\n",
      "../feature_extraction/pytorch_models.py:167: UserWarning: Implicit dimension choice for softmax has been deprecated. Change the call to include dim=X as an argument.\n",
      "  out=self.lsm(out)\n"
     ]
    },
    {
     "data": {
      "text/html": [
       "\n",
       "                <audio  controls=\"controls\" autoplay=\"autoplay\">\n",
       "                    <source src=\"data:audio/wav;base64,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\" type=\"audio/wav\" />\n",
       "                    Your browser does not support the audio element.\n",
       "                </audio>\n",
       "              "
      ],
      "text/plain": [
       "<IPython.lib.display.Audio object>"
      ]
     },
     "execution_count": 4,
     "metadata": {},
     "output_type": "execute_result"
    },
    {
     "data": {
      "text/plain": [
       "<Figure size 864x216 with 0 Axes>"
      ]
     },
     "metadata": {},
     "output_type": "display_data"
    },
    {
     "data": {
      "image/png": "[encoded data removed]",
      "text/plain": [
       "<Figure size 1440x288 with 3 Axes>"
      ]
     },
     "metadata": {
      "needs_background": "light"
     },
     "output_type": "display_data"
    }
   ],
   "source": [
    "\n",
    "def evalSoundSlow(a):\n",
    "    try:\n",
    "        a=librosa.util.normalize(a)\n",
    "    except:\n",
    "        pass\n",
    "    transform_input= {\"signal\":torch.tensor(a,dtype=torch.float),\"label\":torch.tensor(0)}\n",
    "    env_feats=env_trans.call(transform_input)[\"feats\"].to(device)\n",
    "    freq_feats=freq_env_trans.call(transform_input)[\"feats\"].to(device)\n",
    "    pitch_feats=fc_spec_trans_dvn.call(transform_input)[\"feats\"].to(device)\n",
    "    spec_flat=torch.flatten(pitch_feats, start_dim=1)\n",
    "\n",
    "    outputEnvFreq=freq_env_model_dvd(freq_feats)\n",
    "    outputCNNDVD=dvd_cnn(pitch_feats.reshape(-1,1,20,20))\n",
    "    outputFCDVD=dvd_fc(spec_flat)\n",
    "    outputE=env_model_dvn(env_feats)\n",
    "    outputSPECFC=fc_spec_model_dvn(spec_flat)\n",
    "    outputCNN= cnn_model_dvn(pitch_feats.reshape(-1,1,20,20))\n",
    "    \n",
    "    o_e,o_fc_spec,o_cnn_spec=outputE[0].item(), outputSPECFC[0][0].item() ,outputCNN[0][0].item()\n",
    "    tote=outputE[0].item()+outputSPECFC[0][0].item()\n",
    "\n",
    "    gfc=drum_groups[torch.argmax(outputFCDVD).item()]\n",
    "    gcnn=drum_groups[torch.argmax(outputCNNDVD).item()]\n",
    "    genvfreq=drum_groups[torch.argmax(outputEnvFreq).item()]\n",
    "    cat_consensus=drum_groups[torch.argmax(outputFCDVD+outputCNNDVD+outputEnvFreq)]\n",
    "    \n",
    "    spec_score=(o_fc_spec+o_cnn_spec)/2\n",
    "    if (o_e>=0.5) or (o_e>0.5 and o_cnn_spec>0.7):\n",
    "        print(\"env score\",o_e)\n",
    "        print(\"fc_spec\",o_fc_spec)\n",
    "        print(\"o_cnn_spec\",o_cnn_spec)\n",
    "        print(\"fc category\",gfc,\"\\ncnn category\",gcnn,\"\\nenv+freq\",genvfreq)\n",
    "        print(\"total consensus\",cat_consensus)\n",
    "        \n",
    "        return(a,env_feats,freq_feats,pitch_feats,stack_size,\"found\")\n",
    "    return (a,env_feats,freq_feats,pitch_feats,stack_size,\"not_found\")\n",
    "\n",
    "def findDrum(stack_size=1,iteration=0):\n",
    "    out,params= stackMaker(stack_size)\n",
    "    a= memToAud(out)\n",
    "    return evalSoundSlow(a)\n",
    "i=0\n",
    "j=0\n",
    "while i<10000000:\n",
    "    i=i+1\n",
    "    j=j+1\n",
    "    stack_size=np.random.choice([2])\n",
    "    (a,env_feats,freq_feats,pitch_feats,stack_size,results)=findDrum(stack_size,iteration=i)\n",
    "    if results!=\"not_found\":\n",
    "        print(\"it took %d iteration, stack size %d\"%(j,stack_size))\n",
    "        j=0\n",
    "\n",
    "        break\n",
    "\n",
    "fig = plt.figure(figsize=(12,3))\n",
    "fig = plt.figure(figsize=(20,4))\n",
    "ax = plt.subplot(1, 3,1)\n",
    "\n",
    "plt.plot(env_feats.cpu())\n",
    "ax = plt.subplot(1, 3,2)\n",
    "plt.plot(freq_feats[0:50].cpu())\n",
    "ax=plt.subplot(1,3,3)\n",
    "ft=pitch_feats.cpu()\n",
    "ft=ft.numpy()\n",
    "librosa.display.specshow(ft[0])\n",
    "\n",
    "Audio(a,rate=sr, autoplay=True)"
   ]
  },
  {
   "cell_type": "code",
   "execution_count": 6,
   "metadata": {},
   "outputs": [
    {
     "name": "stdout",
     "output_type": "stream",
     "text": [
      "[0.00000000e+00 2.36851854e-13 5.40881711e-12 ... 0.00000000e+00\n",
      " 0.00000000e+00 0.00000000e+00] 3.3495191019028425e-05\n"
     ]
    },
    {
     "data": {
      "text/html": [
       "\n",
       "                <audio  controls=\"controls\" autoplay=\"autoplay\">\n",
       "                    <source src=\"data:audio/wav;base64,UklGRqxYAQBXQVZFZm10IBAAAAABAAEAgLsAAAB3AQACABAAZGF0YYhYAQAAAAAAAAAAAAAAAAAAAAAAAAAAAAAAAAAAAP///v/+//z/+//5//f/9v/1//b/9v/3//b/9f/1//X/9v/2//b/9v/2//b/9//4//j/+P/4//n/+v/6//v/+//7//z//f/9//7//v///wAAAAAAAAAAAQABAAIAAwADAAQABAAFAAYABgAHAAcACAAIAAkACQAKAAoACwALAAwADAAMAA0ADQAOAA4ADgAPAA8ADwAQABAAEAAQABEAEQARABEAEQARABEAEQARABAAEAAQABAADwAPAA8ADgAOAA4ADQANAAwADAAMAAwACwALAAsACwALAAsACwAMAAwADAAMAA0ADQAOAA4ADgAPAA8ADwAQABAAEAAQABAAEAAPAA8ADgAOAA0ADAALAAoACQAHAAYABAADAAEAAAD///3/+//5//f/9v/0//L/8f/v/+7/7P/r/+r/6f/o/+f/5v/l/+X/5P/k/+T/5P/k/+X/5f/l/+b/5//o/+n/6v/r/+3/7v/w//H/8//0//b/+P/6//v//f///wAAAQACAAQABQAGAAcACAAIAAkACQAJAAkACQAIAAgABwAGAAQAAwABAAAA/v/8//n/9//0//H/7v/r/+f/5P/h/93/2v/W/9P/z//M/8n/xf/C/7//vP+6/7f/tf+z/7H/sP+v/67/rf+t/63/rf+u/6//sf+z/7X/uP+6/77/wf/F/8r/zv/T/9n/3v/k/+r/8P/2//z/AgAIAA8AFgAcACMAKQAvADUAOwBBAEYATABQAFUAWQBdAGAAYwBlAGcAaABpAGkAaABnAGYAZABhAF0AWQBVAFAASgBEAD0ANgAvACcAHgAWAA0AAwD7//H/5//d/9P/yf/A/7b/rf+j/5r/kv+K/4L/e/90/27/af9l/2H/Xv9c/1r/Wv9a/1v/Xv9h/2X/av9w/3f/f/+I/5L/nf+o/7T/wf/P/93/7P/7/woAGgArADsATABdAG4AfwCPAKAAsAC/AM4A3QDrAPcABAEPARkBIgEqATEBNgE6AT0BPgE+AT0BOgE2ATABKQEgARYBCgH9AO8A3wDOALwAqQCVAIAAagBUADwAJQANAPX/3f/E/6z/k/97/2T/Tf83/yL/Dv/7/un+2P7J/rz+sP6l/p3+l/6S/o/+j/6Q/pT+mv6i/qz+t/7F/tX+5/77/hD/KP9A/1v/dv+T/7H/z//v/w4ALwBQAHEAkgCyANMA8gARAS8BTAFnAYEBmgGwAcUB1wHoAfYBAQIKAhECFAIVAhQCDwIIAv4B8QHhAc8BugGiAYgBbAFOAS0BCwHnAMEAmgByAEkAIAD3/8z/ov94/07/Jf/9/tf+sf6N/mz+TP4u/hP++/3l/dL9w/22/a39p/2l/ab9qv2z/b79zf3f/fX9Dv4p/kj+av6O/rT+3P4H/zP/YP+P/7//7/8eAE8AfwCuAN0ACwE3AWEBiQGvAdMB8wERAisCQgJVAmUCcAJ4AnwCewJ3Am4CYQJQAjsCIgIFAuUBwQGaAXABQwETAeIArgB5AEMACwDV/5z/ZP8t//b+wf6N/lv+LP7//dX9rv2K/Wv9T/03/ST9Fv0M/Qf9Bv0L/RT9Iv01/Uz9aP2J/a391v0C/jL+ZP6a/tL+DP9I/4X/w/8BAD8AfQC7APcAMQFqAZ8B0gECAi4CVgJ6ApkCtALJAtkC5ALqAukC5ALYAscCsQKVAnUCTwIkAvUBwgGLAVABEgHSAJAATAAGAMH/ev80/+7+pv5a/gb+p/0//dj8h/xi/IH88fyf/Uv+nP5f/sD9Ov0l/Vz9Z/0M/a784/y9/Yb+cP57/Zb8vfwB/nn/KQDy/5L/4P/9AEEC1QJjAlMBbwBLAN0AkwHNAWEBugCIAEEB1QK4BCoGkQbMBU8E7QJSAooCCAMiA68CDwKwAYIB+ACw//r9v/y7/ND9Lv8PAE0AMwDs/zj/1v0e/AL7Uvvb/FX+Vf58/OH5QPij+KD6zfzv/db9SP05/f79Fv+a//D+UP2w+y77PfxM/iwA8QCRAMf/Z//P/9gAJwJxA4EELgVYBfsEOgRUA4wCEQLuARECXgK8AhkDXQNnAyEDnAIXAtYB+gFlAtkCFQPsAkgCPAEYAFH/KP9h/1D/a/7M/C77VPpg+sn68/rJ+sf6cPvF/D/+UP/a/ysAlgATAVEBCwFQAHD/s/4s/sD9V/3z/Kz8oPz0/Mv9G/+QAJ4B3wFoAc4AvQCQARADmwSEBXcFuQT+A/cD1wQpBiAHJAcxBtEErwMxA0gDpgMUBI4EDgVKBcAEJgPdANr++P1I/g7/Zv/+/jP+iP0d/bH8Evxn++r6bvpo+Zj3ofW89KT1w/eV+QH6U/nc+KT5evtD/SX+S/6V/qL/PAGsAnwD4ANlBFcFewZfB9AHAwhLCMQIPAlzCVkJGgnmCMEIiAgaCHoHxwYcBnUFvQTkA/UCBwIoAVwAo/8J/6v+l/62/sT+ff7L/eD8Ffyg+2j7EvtE+vL4hPe/9ln3avkU/Nn9m/2Q+0D5afia+dn7jP3h/V39Lf38/W3/nQATARoBWwEkAi4D+ANPBHEEvQROBeoFSgZgBl0GcgajBsYGtwZ5Bi0G7wW2BWoF+gRuBN4DVQPMAjUCiQHTACEAeP/S/if+eP3M/Cz8mvsR+476FPqm+Uv5AfnG+Jj4ePhq+G/4hvir+N/4IPlx+dH5PPqy+jH7t/tF/Nn8cP0I/p/+Mv/B/0wA5gCsAccCOwTABbUGbwbKBIwCJgG/ATgEEAdwCKIHoQUsBCwE7gTwBGwDFAFb/xP/3//LADQB7QDQ/5P9aPqb9w/3tPlf/loCagNqASr+xvsR+2P7mPsk+1f64/lZ+uP7Rf7tAC0DegSqBPgD4QIAAuYB1QJ1BOQFRQZyBS4EiQMMBGIFugZwB2AH0gY6BgAGVgYCB1MHjwaWBDACjgBHAM4ABAFsALv/CQBgAS0CmACP/HP4b/es+g0AuQMtAyX/p/pZ+In4kPnD+f34bPgk+fr6svwp/Vr8XfuL+4X91ABGBJEGAgfUBRgEGQOMAxMFjgb/BlAGQwWoBKMEuwR2BOYDewNoAzsDNQIVAJj9Fvxz/Dr+0P+4/8v9UPvM+bn5Qfo2+in5r/ek9lr2fvae9pz2jvZs9hD2sPUR9vT3Jvs1/nP/eP6q/Cj89P0bAZkDGQToAmUBuAARAfEBzgJmA6ADhQNjA9MDQQVfByQJiwlfCFIGTQS+AngBKgDZ/tf9V/0Q/V786/ov+Sz4dvhb+T/5G/fP887xI/N/90j8sv4G/vv76fq5+239fP5i/uv9JP5D/48ASAFgAXAB/QHzAtEDNgQ+BE4EowQXBVgFPgXsBKAEcAQ9BNYDMANtAq8B/gBBAGL/Y/5d/WT8d/uD+nb5Tvgh9x/2kvXJ9df2U/h3+aP59Pgr+Oz3+vdw99v1D/Sn84L1yPib+8788PyR/ZX/QgIABOoDtQIZAlYDNAZBCf0K8grWCbIIAgiSByIH7AZcB08I2QgZCEUGsASGBIAF9gVkBOYANP0k+0n70/yk/lAABgK+A7wEEgSGAQX+EvvR+Vj6x/vl/NT8n/tc+qT6ev06AqEGRQiZBrMDwQJBBWMJWQu7CPMCTP5P/r4CBgidCh8KKQltCv8NahE5EisQDw26CloJwAcRBeYByP+S/4EA1wBs/678H/rb+Lj4x/iU+Kn4wvm8+339Av5h/ZD8T/xy/Ez8sPtM+wP8/P1+AJgC2ANvBMgELgW9BZEGwAc4CawKqQvBC74KxghlBmcEcAONAwkE4QN/AjAA1v0e/PL6p/na9xn2qfV29wf7Zv5L/7786vd086vxC/Mv9jr5Vfvr/I7+7f8aANn+Yv15/aD/ZQLAAxsD8AEnAgEEywXABQ0E0wIlBP8HNAxJDmANkQqjB5AFFgSAApYA5P4r/q7+3/+pAA4A0P3B+nP4O/gi+rv8Lf65/VH8l/s8/Eb9GP0h+4n4KPff9+j5vvuP/Mr8Zv3D/lIAPgFPASoBwAF1A7MFUgeFB7MGWQbBB4YKawwlC5wGdAEC/2UAlQMtBWIDU//W+w776/yK/7sAbf8d/Gr4B/a49f/2s/gO+iP7Q/wT/ZL8RPpG99v1gfdd+8D+d//S/Xz8M/5vA/sJoA5kD6AMUgiUBIUCJQLuAmEEMwYhCNgJ/Qo7CzsKuAfVA2//3/sX+rb5O/lV90D0q/Eo8ZryRfR99EDzJvK/8hj1zveO+U/6J/sQ/e7/ygLgBEgGuAetCe4L2w0RD74PVBAJEacRzRFZEXwQfw92DjwNoQukCXQHPgUNA8oAaP75+7H5xPdV9mz18fSn9ED0gfNy8mDxmvAx8P3v6e888Hzx7PMU9+H5WPtW+7P6qvr4+27+NgF4A8sESgVRBUQFZAWrBaUFqgSNAjsAgf+hAe8Fswn9CeMFUf+g+TT3FPhm+hb8Lvz6+kL5gfek9XbzKfF+70Lvo/D78m31yfe8+vb+DARDCLUJ+gfPBAgDhgTGCDAN4A6vDOcHOwPRANkAxgHjAeMABgDFAE8DSAYECPoHCgdsBmgGJgahBK4BG/7c+kL48vWN8znxfO+l7nzuiu6z7njvi/Eh9an5Nv4mAnQFaAgZCzINOw4FDtAMGQtBCYIHGwZ8BRUG6wdTChsMKgwRCkQG3QEs/if8A/wN/f/90v1k/HL60/iv94H24/Q884zyc/Nn9fr2+PZj9X/z2fJO9L33gPzpAU0HwgtJDosOZA10DNgMMQ76DvENPAs7CDwGYgW8BFADBQGk/gv9fPyR/Lj8n/wX/N/6xPgq9jP0BPSH9Sf3Bfe79N3xn/Dt8cv0gvdB+bD6CP2wALEEeQcyCH8H4AZiB9QITQo7C80LUQyRDA8M6goWCloKMgv/CqMI5wT9AYMB3wK6AxIC9f1f+ZX2fvZH+C76kPqj+M/0ufC47p7wUfZm/XsClAOtAfv/OAFDBS4JAAqpB2EFywZ1DAsTFxbPE2QOvQkDCFEIYAgHB/EEMwPPAfD/ZP1K+9T6f/v/+nT3zfGX7fDtf/KW94X58Pfb9Y/2e/ok/9kBRwJnAjcEwAdPC1oN8g1qDswP1xFrE8cTMxONElESMBJ/EfQP5A3dCxUKSwgkBpYD6wB8/lj8Uvo/+Cv2TPTP8rHx0fAZ8JPvXe+F7/vvn/Bd8TbyQfOf9H32BvlK/AsAowMeBrcGeQWaA+QCZwRZB24JtAhYBa0BIAD/ACUC5gCB/OL2GvPN8uf0qvYa9o/zC/Et8LnwMPGR8ITvw++G8mv3x/zHAH8CJwLLAM7/ewCoA0YJEhDKFSUYNxY+EQ8MOwlNCY0KkApECLYECQKPAasCVQPJAf39wPlf98H3lPlW+nz45fQa8vzxBvTm9fb1D/XI9ar5NP/nApwC0P99/mYBeQfUDF0OZgwACv4JoAyyD6EQYQ7sCVsFlQJWAuQDjQW2BdkDpAAK/UD51PTl7wfsleuq79D2zv0FAiYDtQIgAmcBnv+H/H/5tfhn+88AqQbMCpIMAg2/Da4PRhL/E24TUhDKC5cH8gTCA+ECMQGA/on7OPn998b3aPi4+U77X/wk/H36Dfis9cHzRfJe8bfxBPQR+Ib8zv9ZAQMCBwO3BDcGnAYtBm4GmwgHDAwOGAxOBhgAoP3k/0kDjALm+3/zOPBf9S7/pwVJA3356e606SfrIfDe9Or38fmi+4/8Gfz9+mn7S/9zBl4O6xOHFQAUiBHXDw0PEQ7YC18IpgTgAagA0gCqAUoC3wH7/9z8cvm89uz0K/OG8FXthOv67F3xiPX09ULyZe6s79r39wJGCvwJiQRVACICMgl7EDkTjRBSCx4HqAV7BlYIPApsCwYLWQiYAw/+UPk/9tv0zfTN9WX3nfhc+Ef2N/OX8Ffvmu9S8dL0RfqgAJwFUwcyBuQE3QXVCAULOQp+B2QGPwlqDo8Rzw9gCvcE6gF5AN3+OP2N/ZoAtAO3An/8w/Tj8Kfyj/aM9z70OfD/7x70o/hp+Zn2i/Qk96j9ggM6BUoErwWADBcW5htcGTwQLwcVBE4HGgxFDYsJ6wMxAGn/ZP9j/df4wfOw8JHwT/Ic9OD0ovQU9B30p/Uv+RL+bgJgBNID6wI1BBwIZAxODjkNDgtSCgoMeQ9CEzMWGxe8FKsORQZS/iz5Rfdb9/n3efjA+IL4PffY9OzxP+867SDspuzJ76L1Y/wFAX4Bl/6I+5b7uf9OBtUM5BGrFeAYexuJHBIbBhdTETQLhAW4ADv9gPuU+5D82fw6+/n3yfRl8xj0j/VI9iX2iPa0+DH8+P5g/9P9WvyA/NX90f4f/4IADAVBDHkSoRPrDr4HwALTAcoCAQIH/rz4HfVC9J708fOn8TrveO6277vxL/P28xX1dvf7+rX+3gGLBFgHpQooDj0RfxMSFVYWbhcaGAEYBRdZFUQT3hAKDqwK1Aa+Aqf+pfq69vzytO9R7SjsHeyD7GXsTeve6Z/pyOsH8I/0pPcU+Rv61vse/i0ADgLLBOUI+QyVDr4MaQnuB88JGA0vDj8L1AUEATf+9fvh957xnesF6ejqWe8M89Tz8PGJ7yTvSvLS+NEASgedCVsHIgNFAbcEbwzBE8oVZRE6Ct0FRAdpDAMQ3A0hBjH9KPgp+Rn+kAI6A9j/sfpc9uPzrPKz8aTw5e/n75jwjvGO8s/zuPVi+Gj7Nv6CAJgCEQU5CKYLZw6nDx4P+gyBCRcFpgCZ/ev8Fv5M/xr/3v1W/av++gAWAocA3vwJ+br2dvbr95367/3AALYBYwA7/tT9vADRBfYJzAriCC4HLAhYC5gNPQylB9MCQgBm/4r9YPk69R71QPq6AHwC8vzG87HtWe6D80D4ZPo4/LoAJAcjC+MJAAaEBZILoRSTGacWDg91CWgJWAwEDSoJfgNVAN8ACALS/3n5SvJ37kzvf/IS9X32rfjn/DoBzQEe/bn27/Ql+xcGJw7bDccGQQAdAfwJ7hROGnAW5AshAf37Mv7jBM8KoAttBgv+EPe59Mj2Avru+q34f/WS9Dr3AvxGAIsCSQPIA4oEFgUpBaoF/QdXDN8QyRKDEAELIAWwAawBugMkBasDD/9D+SP1kPRT94H70v7m/6P+1ft4+ED1efJC8OHu0+5w8G7z1fa3+f77df7FAWgFzwf1B6EG1gW/BmIIygiJB6IGQgh7C+8LpQWV+RTuFepS7+D4cv9H/4P6f/br9hT7Cf8u/0n7x/Yq9qD7WQXiDkIUPRQxEHAKHwUoAg8DxgeKDecPBAx/A7/7xfkH/hwElwaEA5z9Y/kl+Xn7LP1y/Dz60/h1+Vf7vfzF/BT87fvU/B7+vv5j/u392P4cAioHtgvCDJMIYAAT+MDzmvQR+BL6gvii9ELxx+9C71Pubu3D7rLztPo+AOwBpQCt/4sB/AWlCoYNkg4YD/4PwxA1ENINeAqdBxEGYgV2BJcCAgCF/b37rfrq+SX5cvgl+Hb4Uflx+qj7+Px5/jAA+wGkAwwFMgYdB8kHHQgDCHUHgQY4BaQDyAGq/1r99fqU+En2IvQr8nfwGe8d7ojtW+2R7SvuIe9r8PPxn/NE9az2p/dD+A/5J/uY/zgG1Qz1D2INtQYIARcBtgY6DEALzwK0+F70DPjw/uoB+v019jrwOu9P8pb2EvqF/FX+jf8OAHAA+wGPBXsKxA7CELMQgRDKEfQTXBTDEL4JywKt/1QBIwUjB0MF1AAf/XL8VP4wAND/SP3Q+r76iP10ARkEVgQxAwIDkAWeChIQnhOQFEEUwhTOFtcYBRibEtoJrAEA/q//ngMTBYkB0/p29cf0RfiS/Mv+v/4Z/vP95f11/a/9hgBvBhINARHNEEcOlAwlDa8O4Q6xDNYIYgSc/5z6oPbX9R35A/72/zD8x/Rg7yjwzvWO+q/5Q/Rv8KrzSf2rBg0JowMz/LD5AP7BBOMHZAW2ANL+JwFtBDMEYv8L+Qb1GvTw84TyAPFg8lT3NvwB/J318e0U7AfzAf/mCFkMigqjBzoGqQVbBJICEwJuA48EzQIu/u75bPmq/FIAKAEM/1/84vrG+TX3YvNA8b3zQ/phAGsB2Pw494f23fwyBnYLgwjJ/zf4PfdE/LwBlwLB/n76q/nm+3b9svsU+MP2Ifr9/ygDEQAo+Cnxs/CT96MAjATN/yP2++9k86f+fwlIDH8GvP5R/OoA6QdEC9IINAOU/v/8p/3E/r7/dQHIBPwIvAvrCqsGsQE3/0oA/wJFBLgCs/+5/fr9W//R/3r+SPzS+q/6Dvu6+l/5wPfQ9sn2IvdK90j3oPez+FT6+Psh/Yb9//ya++v5KPmJ+j7+HANUB48JaAn+BpwC+vyj94707fRf+Hz99ALjB/YKIgo2BCP79vNL8wD5of/8ANn7MvWx88L5AwT6DL4RCBOVEs8QVQ0PCWQGzAabCCUIkANf/Zf67P2cBFAInAQ8+w7zlfKH+jwFewuACvcFEARbB0QMzAzUBsX+svukAIAJhA4pC/MB9PmU+Ib9PQS6CJQKnAtyDFgLngaQ/1f6ufr6AMAJmRC/EjMQJguLBmoEnQTpBNECDf5c+br4J/6sBzkQtxI0DTYCcveG8pT13f2wBaoI/AbdBEUGqQreDMYHofvz7qfpm+5x+aIC7QVABc4FlQq6EcAW8BZ5E5cPLg1bCwcIkwK9/Bb50vjt+k/9h/6a/nH+p/72/qj+bf2t+xD65Pgd+Ov3/PjT+9P/PQN5BHMDggGn/yH9NvjQ8A3qbujk7X73kv+FArwBxQG6BV4MqhHWErQQVA6vDe4NuQzbCHoD5v6K/A/8Jfyo+xL6Q/eh84Tw6O/b8vL33Psw/N75gfju+mkAZAXmBgYFIAIcAPf+1/3V/Pv8fP6l/yj+o/mN9GXyzPQ4+jr/AwE5//X7J/pA+9T9ev7J+hD0CO8W8EL31v9IBOYCwf4j/GT8UP1p/A/6B/kk+wH/NQGb/wf7JfYN8xryovI39BH3a/u/AJ8FMggjB3wCJPxq92H3p/w4BOwISwfPAET74vtZAqwIpwj1AaP6U/nZ/qwFmAeNA9v9Sfuz/Gn/twAYAAz+SfpT9NHtCOu67w/7AgeFDMoIQP/G9tj0UvqAA9IKVwwpCGACLADIA20KQw4tC1MCO/lI9a33Mv1kAd4BAP+J+jX2pvO29LD6kQQ6DlYSPA6PBNb7ivmn/dkCfQMA/236TPubAT8HBgaq/lH5Ev5gDCsaaBw6EdwBSvql/mkIdg12CaAAJPrg+Mj5jvjz9APzcvY8/gkF5wW8AHH6wPiV/boFrQvZC90GXgD9+/P6C/xS/cH9n/2w/T7+8f5S/1D/Mf84/4L/TwAvAnIFPAlQC2MJRQPn+7r3Wvkk/zEENwQ+/+f5ufklALAIKQzGBs/7NPPK8iP51/44/U/0uerE53ftyPf2ADwGcAjxCPwGvQDC9pvtJeuX8Rn9awZ1CNUDq/0O+2X9WQKcBncIEAjyBRYCi/zA9pnze/Xx+08DMgf4BSgCQgDbAnII5wwoDb0JCAYVBfUG/QhtCOgEewCH/fr8bP43AcEErQfaBzEElP4U+1b8rQBoA0IBhfuZ9uH1Qvld/hMDQwbXBt8Di/5Q+zX/qgpgF2ccmxVLB4H6hfXN93T8wf+YASADWwNm/z32jeus5TjopfBQ+EP6FfeY8+nz6PcV/GT9Avyc+l378/1KAOIAKQDA/6gAZwK2A+4DjgOQA1oEcwUeBiIG7gUPBp8GQAeKB3gHXQeCB+EHOAhSCD8INAhUCI0ItQi2CKAIlgijCLYIuAigCH0IYwhVCEUIKAj7B80HpQeEB2EHNgcEB9QGqQaDBloGLAb7BcwFnwVzBUQFEAXZBKMEbQQ1BPoDvAN8Az0D/wLAAoACQAIAAsMBiAFNARQB2wCkAG8AOwAHANT/of9t/zn/Bf/Q/pv+ZP4u/vf9wf2L/VX9IP3s/Lr8ivxc/C/8Bfzd+7f7kvtv+077LfsN++76z/qw+pH6cvpT+jT6Ffr3+dn5vPmh+Yf5bvlX+UP5MPkf+RH5BPn6+PH46fji+Nz41/jT+M74yvjF+MH4vfi5+LX4sviw+K/4r/iw+LP4uPi/+Mj40vje+Oz4+/gL+Rz5Lvk/+VL5ZPl2+Yj5mfmr+b35z/nh+fP5B/ob+jH6SPpg+nn6lPqx+s767foN+y37Tvtv+5D7sfvS+/P7E/wy/FH8cPyP/K78zfzs/Av9LP1N/W/9kv22/dz9Av4o/k/+d/6e/sb+7f4U/zr/X/+D/6f/yv/t/w4ALwBRAHMAlQC3ANoA/gAiAUYBawGRAbYB3AEBAicCSwJwApMCtQLXAvgCGAM3A1UDcgOPA6wDyQPlAwIEHwQ8BFkEdgSUBLIEzwTtBAoFJgVCBVwFdgWPBaYFvQXSBecF+gUNBh8GMQZDBlQGZgZ3BokGmwatBr4G0AbhBvEGAQcRBx8HLAc4B0MHTQdWB10HZAdqB28HdAd4B3wHgAeEB4gHjAePB5MHlweaB5wHngegB6AHoAeeB5sHlweSB4wHhQd9B3UHbAdjB1kHUAdGBz0HMwcpByAHFgcLBwEH9gbqBt0GzwbABrEGoAaPBnwGaQZVBkEGLAYXBgIG7QXYBcMFrgWZBYQFbwVZBUQFLgUXBQAF6ATPBLUEmwSABGQESAQrBA4E8QPTA7YDmAN7A14DQQMkAwcD6gLNArACkwJ1AlcCOQIaAvoB2gG6AZkBdwFWATQBEgHwAM4ArACLAGoASQApAAkA6v/K/6r/iv9o/z//Av+X/t79yvyM+6n60/p4/GL/yQLbBSIIXAkPCZMGzwHF+xr25fER7xjtROzd7dzygvprAlMItgvVDRMQbxKJExISCw60CGIDj/7y+Wz1kfFh74Pvv/EF9cv3mPjG9jbzEPBN7wjxePPg9Jb1offt+xAAqf+z+LLu4uhs7LX3VAPoB64DHPuA9PHy4PS99pb2NfVX9Fb0wPP48PzrgeZ14pngbeAw4Y/iguS45qHo+uk66yftDfBj81L2h/hq+qH8VP8QAkMExAXrBh0IXglbCsEKkQoOCnAJsgieBxMGIwQCAtP/jP0W+2j4nvXd8jzwv+1r61fprOeQ5iDmgeby55bqFO5u8UnzpPJm74fqxuUM43rjl+Z26hvtFu7A7rHw/PPh9i/3CPSr7gXqLulk7Yb0zflU+R70g/BI9f4CGxKEGBsSSgQf+a329Ppx//H/qv2G/I3+WQIIBZoEYQCZ+OruYudV55Tx9wJAE2kaJRa9Cvj+LffV897zRPfC/iQJwBGuEo8Jsfo57/vug/oeCgkTMw+4AVv03O9Q9Sv+tgIAAab9H/67ArIGKgZtAxAFZQ4uGgweHRSRAT3z2vLW/j4MvRBCC6IDPwIlCPMO9g8IC2MGBQh1Dx4WkhVqDU4DoP0Y/jkBegLwAEMAMQXUEMAe1SeXJ78f5hZAE+YVnRoUHJsYDxObD7UPOxEGEREOHgqVBxYHLgcYBocDvAAJ/4D+Fv7M/JH6Cvi09YHzVfGp72jv6fA789j0SPUX9sj5gQGvCwgVFhvYHQkf9h8nIAwe2xidEYEKWQW7AmQCCARpB5QLkw6YDgkMIQqoDC4Uahz2HosY+ws0ACb74f3RBPMKKA2NC5oIxgZBBpoEQf8Z95Dx+/TLAiUVuCLMJRogBxhpEv0OmQr5A9b9LfwAACIGGwr5CSIH8gM1AVX+o/u5+8MBBQ4CHJUkryIFF70Hn/yT+noB9AzvFpwapRbQDXIFMAINBfwKTg/rDtwJfgKr+4/3SPez+kUAoAXnCNQJLgljByEEqP8C/PP7/P/hBAgG/wF2/DL7egB5CEsMHAi2/kb3gPcN/yIIfAxQCgsFmAHtAQcEzARuA84B5AFPA9AD+AH6/pX9Nf88AlcDnwCl+3D4OfqXAIcHVwo1B4QA7frX+Tb9PALIBS4GQgPM/bL3PfSt9hf/gQiCC1YEH/dP7dXtBPdOAEEC8vzp9hD2D/qI/Ub8z/eY9er4xv47ABf5gezQ4lji/umy8kv2AfU49CP44v4QAhD9zvFy53PkvOnd8l/6zf1W/pP+HADEAiEFeAWTApD8F/WF7mjqy+gU6VPrAfAT9sT5nfb064rfhNpA4hPzUwJwBkH+YfGx6cjrT/SE+637cfUH77Hu1vTw+kz5C+905BLkRvDX/+EFIf4k8efrDfO9/jkDBf3282Ly5vmlAdn/y/TT67DwPgO6Fe8XtQVw61Tc5uLu+D0NehFCBIPwMuS45nb1MQdzEqYS0gnF/sH4y/qKAckFZQID+SHx0/FY+3IGMwouA/X1B+v053DrYe+/7jbqjedm7Pv4fgfFEOcR5w0aChIJzAh0BaT95fNw7LDp0+ox7bPuDu8/71Hwa/LF9Gv2Ovco+GX69/1VAZ4CRQF5/uz7cfoE+vP6aP4oBbYNEBQIFIYMuwAu9iLxUfJj9yv9dAFDAzACUv7h+H704vO093X9FwEeAHj7NvZ+8vPvW+2I68HtnfY9BDMQ0xN7DQwCRvn89+z8sAL6BGwEegVDC1MT0BZ2EAUC5/Pn7lX1UgGPCWoIw///9jT1FvwfByIPYw+vCGEAUvyf/nIEmgjhB6QDSgDxADgEWgXzAAT5/PMf9zQBowp7C1MC9PUN8ID1lwJPDokRLgw6BCsA9AGOBsoJWgoqClQLPg0ZDScJKgNc/+cARQeBDtcRmA6kBR37XPTs9Nv7iwMSBZv9qvHC6jvw+wDeE/YeWB9qGr4XwRklHAwZSA+dA0H8d/td/lAAPv/I/Mb75fy9/Wr7TfZN85L4zwcUG+Un8yYuGnoLxAQuCEkPqxF+DCwEQ/8TAEMD2QM/ADr7hfgS+ZD6NvqZ97H0lPNq9KL1vfWe9D/zffKK8lHz1PTJ9hT4c/cj9aTz/fWc/OwDvwbmAtv7mvgw/l8LERkgH7YZcAsy+9DvquwT8f35GwQUDaYThhc/GeEZRhpbGjQZ6hWNECwK/gN6/lH5TfQo8Hful/BT9nr96wKQBL4Cy/8R/lT+CQDlAnwHww07E88TlQ3TA1H9f/4KBboJWAcgAET8oAJaEvsi4ipHJigZSgtpAn//SwCIAkMFzgeLCNQFPgBk+3D7VAFtCSoOWwxRBX/9evmk+xUDpgufD2gLGQEi+NH3zQDbC+cPPgoPAaH9igN2DUISmg22Ayz9Mv+1Bz8Q8RPFErEPrAwRCYwDy/yd9572F/oIAJAF4gffBGr8DPJv7CHxlf98EDAbsRyMGcYY2RywITYhcxkqDugEKQBs/l/9Ff2K/1YFqQspDuwKQwRx/sv7O/so+kX3cfN48JHv2fCg86/2oPiF+Iv21POx8QHxQfKl9aD6a//eAYYBqgBjAgQHnArbB+/8rO3L4Ona3Nsu4HbkSOfP6JLp8ult6qbr0e1a8FHyVfP28xr1FPdd+Sv7Rvwn/Wz+MQALAn4DgARsBZsGCQhlCXEKNgv2C9sM0w2qDkMPsA8aEJIQBBFTEXMRdhFzEW8RWhElEc0QYBDqD2wP2w4vDmkNlQy4C9AK2AnLCK8HiQZcBScE5gKaAUYA7v6U/TX80/pt+Qb4ofZA9eHzhfIt8dzvk+5T7Rzs7+rM6bfor+e25svl7+Qk5GrjweIs4qrhP+Hz4M/g0+Dd4JDgXd/R3A/ZHtWa0tfS7dWS2uLep+EJ4y7kLOYo6WzsKO8s8fPyE/Wp91j6sPyf/m0AaQKYBLoGlwgwCrULTA3uDnEQuhHTEtkT3xTZFa0WUBfOFzkYlxjeGP8Y+hjVGJ0YVBjwF20XyxYRFkYVaBR1E2oSSREYENoOjw02DM4KWgnfB14G2ARNA74BLQCf/hP9i/sH+oj4Evem9Ub08vKr8XPwSu807jHtQOxk65vq5Ok26Xzojecz5jzkqOHQ3m7cZNtR3EPfs+Pv6IXubvTP+pcBVwhzDngTSxf8GZAb4RvBGi0YYBSsD1gKkQSK/q74tPOC8NvvFfLw9p79vwRWCjYMZAmtA4//QwHCCIAQSBGJCGL74fJo9Oz8hAP3AJz13eiC44np+fc5B88PkA48BpH9oPpo/h4EbQU/ALD4B/Ws90T94gCrAa4DOgvAF9kjMyorKmkngCVSJOAgHxmSDioF2v+U/nX/hQHSBY8NLhfbHb0cfROeB7cAPQKOCDEMoQhBANn5MPoNADUGqwjJB4IGdgZEBmgDMv2J9SbvWuvC6bHpXutP77b0BPm6+e/2q/Nd86T2nPqH+1z4AvQW8yr4owHrCq0Pfw74CNoBSft49kX0P/Xg+Bv9cv/k/qf8lfrf+NX1bvAN68nqBvNAAa8N6hDWCW7+qvZL9tb6B//b/2n+Z/2P/dn8Wvl79NDyIPhTA18OnBL6DX0E3/w/+2H+fQHfAAD9f/lC+cj7Vv5j/1IAqgPxCcwQKRUEFscUFxOtEKgLLwOw+Rj0K/YK/08J+Q6vDbQHMQEU/Sv8Lf5TAusGXQnGB74CD/1c+S/4hPi5+S/8kv9YAVH+XfYF7g/r/O5U9R/4IfYw9Cf4ywIBD+IWMRmqGWkcjSFnJYQkAR/3Fx8SYA2jB5z/nvby74Pu3fKQ+vsAbgFQ+oDvI+ny7dz8NwztEPUHKvkr8AXyw/m5/mz9yPlu+Tn9+QDGAEf9Z/qa+lP8dfx8+lf5zfuFAH0CDP5T9TPvKvH5+XYC+QNa/rb3WfbK+sz/FwD7+xP5Nfx1A8cGfP/r71Xj1OQj9Q4J6hKCDlAEtwC9B18R4BHmBV72c/Bq+boJtBNAD2wAiPPG8if+uAtsDyUEiu8j3u3aQuju/qQTdh6sHsUYQhFLCd//jPVD7rTuZPdtAgUHuQA59JnsRPILA/4SShbHCzX+cPp/A9wPkhJmB232OuzJ7mn5QQIeA4D93PcH+JT/tQskF3Iccxg3DDX9evI78AX1K/s6/dj5OfRo8dX0RP7OCeIRfBIhDCgEEQEbBbAL8wwcBfb4hvJG+O8G7xNKFtMNUAL++6X8VP8B/nP3GfC17SzyOPqdAJMCOAFp/7D+i/4w/jn+CwDQA6MHHwmyBxAFSQOrAqQB1/4y++T57v06B8gRzRdyFWgLlf5S9Rz0ZvtCBykRlRPaDS4FAgHOBK4MihBlCxwA0/Zy9Yz6j//J/+38e/weAVcHJgnnBLv/cADrBykPyw3+Anz3rPX9/lAJ/Adt+AXmruCH7hQGcxaXFZUHT/kT9QD8cwiEFBQdKCBAG7sN2fwe89T4iAuAHcAf4A7U9k/pCe9EAUQR2RXWEToOkw8jEqcPCwcf/Wr2TfJR7VTnVeUL7JP5EgY2CysKOgnGC+0N/QjR+6ztFujr7e34MACcAM7+0QDBBiYK4gRN+BntDOyC9pEF4w9QEBEII/x/8QzrielT7CDyX/knABME/QLm/Cb13vD+8pn5hf/4AG3+A/vA+Az3zPT68iv0dflsAMYE7APm/t/4b/Rb8lvyGvTn9vP4zPd08mDr4+eT7AH5rAYPDR8I4/uW8WnwGvgNAmoHXQb2AfD9RfvJ+P31OfTg9Ef3S/kS+n77NgA3CMwPcRK8DmwHvwAL/eX7DPxC/eH/MAMLBawDnv9U++/4gfiG+IL3A/Wc8aXuAe458en3QP/8A3sFbgasCUQOjQ/nCYH/nfeO+DcCWA7mFd0Vog8rBuv7NfP+7nTxIflUAAABkvrJ80711wDLDSkQdQTB9Grwav2wEfkb5xOTARb18PYBAVQGmwCG9b/vNPSG/rUGpQgLBqECGwDN/e760ffj9Hrxmez65rPjMuZO71H8+giNEgEZph3aIFAhXx3aFJcJVv5I9Zrv2u0z8NP1OPy//8P97/a37wDu/PT4AfUMmQ3cASHx/+fx7g0DhhdDH7gWrAXx9wf0rfdG/ML9Yv2q/p4CbAZfBqcBIfvR9gn3dPvlAV8H6wj9BAz9h/UQ8732T/2CAjMFYAfyCYQJWgE78gTlLeR78ekCRwtgBjv8GvhP/cUFrgpMDKEPpBWZFxoO/PoQ6sPmS/Hk/qEEZQEY/TX/SgedDvcPywzJCnQN3hJhFrcV6RKiET4TxhVsFn4UwhFVEHsQrxBrD7gM4wkECPEGnwVUA1kAjP1t+7T5vPc69YDyFfAr7n3sr+qz6NjmiuUN5YjlMOdD6o3uwfJc9OLwJOgB3iDZWN6860z4R/rJ7wDi09547X4H3BzoH5wP7fd+6Hfp8vZ/BUULiAZ8/Xr4ofuXBKMN3xLMFCcWjxfqFZgNRf8d8YPqBu4P93L92vv/85XtufCV/5kT0yD/HQAMgPb1633yzAJTDhgM9gA++/8EhhlAKCAjbAsx8enlwu6EAnMTaxoQGYETpQqY/RHveubP6bf2QAOkBlsBG/zM/toIghIRFVYR7Q0JEIwW/BuFHIIZXhfDGDgcPR4THTQaWxicGJYZOBntFvoT7hENEUUQeA6fC6kIaQbLBBEDsQDZ/Sn7A/k691f1IPPJ8Kvu0ezS6hfoaORv4OLd395L5CDsiPEi8KzoouKc59P6NhS3JG8hXAz+8vbjqOQk7/X4Ivz0+mX8BAU+ErUbpBl2C0v5nO7S8VP/ZgyjD9EHt/ug8/byafc5/UsDyQpYExcZXxfNDe8BCfvB+wAAQwEL/dr2NPT69v775P7P/ij/HgSiDmUbECV6J68hRRY0Cp4CGALoBskLcQu8BBr8hPjK/dQIhhEwEVcIhf4O/BMD3w2yE7wPUgRt+BjyfPID9rz3MPXY73rrDOvn7oP1e/06BqwO8xOHEjgJ7vre7Mri1dwm2U7XtNlT4w70OAfwFTkbdRa5ClH85e5I5b7hX+Wv7k/5FQBjANr7s/ZF9Kj0WfXa8/7vfOyf7bX2VQc7Gjgn9SeFHCIMzwCdAHIJyxIxFHwL2f0X85LvBPJX9s35Ofzl/Yn9LPni8BbomeM55uPuwvnpAn4IIwvWDAIP2hBmD/gHmPsN8GvsQfPX/8gJKwxPCTwHeAjvCJgCIvVI6Kjlxe83/xkJogiNAm3/4wLlCB8LNQicBLIEfQdgCFwFpAEtAQYDZgK2/ZP6UwBGDlYZnhUUA87vSuxe/DITTB5+FSoBq/F/8Av50P4I+k/up+Xr5ZXrpe7S60roOOzM+dIJNRFMCsr5GOtz5/3ui/lq/nH84/rRAccQSB3SG5oLNflj9OIBxxYOIncb1wm4+yP66AFMCD8FYvmn68fiT+G05gryRgIjFGIhziOrGUgHAvSj5U/e1N2j457ugPsBBTUHJANX/s39QAH2A2QCfv6M/fcB8QcjCZQDePy1+1gEJhF9GB0UIAZT95fw0fS7/8gJhw16CukDbf0v+OryGOwK5OHcndif11nZL97e5yj3LwnfF8gdFBqxELMGyP4G+Y/1Nvaq/BoHbQ8KDyMEqfP05UfhgOad8U38qgAA/Bnx3Ocl6MXya/9BAy/7fe9B7JX1lwNMCg8F5vlk8vzyrvlEA84O8xomIiMdCQvb9TLsm/TpBuUSeg4Y/prvL+229Dv7gfhc7y3rNPXRC6Qj/TCsMIgoUiCoGo0U2Qon/xn3Nvfc/g0JoBA4E/oQ3gpUAiL69PXx96P+5AUSChUK1Aa/AZr88/ky/E8D8gurEV8SYg9cC78HcAROASv/Dv8eAagE/QjQDZwSSBbaF10XiBUpEnsLGwBd8hHpduu3+gYPIBxaGo8Mk/1Y95/7LwRoCYQIWwRgAb8B+wS3CW4OmxAGDesCLPeu8nL7SA7fHwUl2hrJB3/1Yerc56LshfbxAboJ3gmKA0r9lP1EBCAKwQeI/RD0E/Sd/ckHtAlcAyz9bv74BDkHq/6q7ynmZOrX+D0FfAUR+uLsQuif7tL5sQFMA1cCMQTnCTgPSw8kChoFpgWjC9sQoA48BO73SPGQ8q33fPuS/fcBRQv/Fdsa+xVSC1ADLwOwCEUN1wwXCXQGdAbMBTAA6/UD7UTsyPSUAOEHvgeCAwYAZf76+w/3B/IQ8Tb12fp9/Sr8LPnz9fTw9Oh84czhnu0q/wUKiQUQ9b3lieN879X/YwnkCN8DTQEdAh8Bp/l17fDj6+M67mz92glRDnoKTwIj+973Rfch9nfzM/K29b/8/QAK/cLyluqW60v0Rfzz/Gb4wfYx/UEIiQ9DDoAH3wFMACEANf4K/Ej+4QWCDO4Jjf038bzw5/3GDfISlwoZ/5/9SAllGIsdNhO5/4XvA+wJ9mwG1RKqE4oI9vi17/vy/v5pCMUF+ffY6ZDmgu80+2n+vvZ37OfpW/HW+4wBYQLJBIYMgBTDE4oITfzc+msFGRCtDcn9VO437tr+ExP8Gw0WFArnApoDNQepB3kDWv2E+Iz2lffe+q3+AwFrAX4BewIdAm77buxD2ynU7t/N+soU4xwtDrDzP98323/jmut965nmpuY/8Hz9AATA/8j2jvKF9gT+iwJPAtP/3/xz+JTyQvCW+JAMzyJ0LcQlOhLdACX76P6fAhMA0Poo/A4J3htgKC8mrBcSByf9oPoh+pb3x/Sr9tz+rggjDagJfQI0/gX/+QDC/t73XfF68DD18/qF/soB0QhPE8EaPxguDBn/C/oX/rsDpwK++WXviur163zuD+3g55LjD+Si6D7tB+8i79vwM/XC+J724+0T5CXhaOg49U7/bQJ5AasBvwM+A/X8w/Tp8r/6OgW0Bjf7eewa6pj6vxN4Ii0bxwOG7vHqXPoLEWshgCYrJckkNyebJzMg8xDEAIP4WPzaCMQVtxvLGOYQLAp1CCULrg4EEAYPCA42DyoSxBOMEPsH7v2L+J/7AAW9DcEPFQtnBfkDUAa3Bx8GCga3DfsbzCVxHxsJVPE96X31fwpTFwgUSAbN+c/1Rvkc/84D1AZOCG4H8AM0AFkANQZvDqUScw9ECIIEcAjVEDAWIxSNDToJ+wo6ED0THBFADEoJPQrhDJYNHQt9B30FygWeBukFZgOfABn/0v6G/iP91fqo+Fz3sfbS9UL0TfKd8IDvr+6p7UDsvOp/6aLo5+cG5/nl9uQx5KrjNeOt4hrineFE4efgKuCp3lPc69lT2fDcteXy8Fr44vWB6WvbDtep4e/0uwN0BXz9Q/fY+ngFgQ38DIcHsQVwC/YT4BbIEIAGYwDuAqcL+xNqFn4RZAcY/NTzy/Gw9q7/aQc8CcMEn/4h/QsDwQy8EpEPggS1+Pvzzfn/B9QYqiXdKNQfdg3Y+gHzIPtYDS8cGR0iEUADsv0gAVgG6QczCNAMPhX3GIMQiv+N84r3ZAlNHNokoCFvGNgN0AE99Kzptuh/8pj/8AXfAan4QfKv8RT0RfZc+d4ALQ1tGdYfmB+kHW8fXCWuKqMqJSVUHvYZ4hfTFEUODgVo/N32k/Qk9Gj07vT99DHz9O4z6pToF+x58rj21/Up8nvxg/fHAQUJAAfi+3fuFecT6TXwEfT77u7iZNiP1zrhku3o8ifv/+pl8igInCDrKcEbwf8L6ibo/PUMA3kCQfZs6/vrOvWm+2/3B+x/45/jzujX61Drsu2A+fcL0xhXFJv+OuVk2ZPiKvlWDRsUXQ9WCiAOzBgTH9UW2gAW6bfdFeVp+mESMyL7I3sXYwFB6gfct90d7xEIgBzEIosYwAOR79XmHu5oAIsRPRZ0DPj8AvQR9xcBKQiZBsH+CPeY80L0Pff3+y8CPAdeBmj9tvDS6MLq0/II+Az1W+1V6dDtGPiyAcUGOgigCKYINQcBBKoABv/t/lz+x/va9+70GvX/+AkAFQk3EnAYzhgpE+ALmAlvD6AY1RrRDhb42OPx3nvrev/SDfwQjA0CC94KXwfu+vjnr9iO1hriufIH/lP/I/lr8Trt3O6g9fj9lwKS/9r1j+un50TsLvUV/GX+3f5pATQGYwm+B+4CdwB8BOoN4ReUHhwikiQYJqMjHBpLCj/5s+xC5/zn1uye9DX+5QbrCl8IYAGL+vz2HvZ99U30bfS/9xf9mACD/177H/ni/HcG3hGKGhUedRz6FugPOwohCMIISwh0A2r7n/X09vv+WQjcDewOzA79DxURlQ5nB7X+4/g+93b3YfdF+E/9pgYOD4YPxwUt9wHtpu1A+MwFyA1BC9v/aPNm7wr4GwhfFOsUKAw6BA4F9gwJExIQkwS89jjs9ebj5orsQ/guB3wSShNwCOX47O9k9b0HjByfJ3kjbBTsA434/vFq7N/meOXU7Pz70gsgFRQXeBdxHFYmuC8LM9YvXCrFJh8lDCLBGu0PwASk+z70uuzS5HjfXOEm7RwA5hFkGBcO8vZu3z/VS97b9DQMqxmwGr8T5wqKAyf+Vvrh92r2H/Vz87jxrPCR8DTxvfKu9XL5a/ud+DzxVerG6jv1egTtDSwJ/fYT4jjYOuAz9FYFUwda+tXqc+YN8L/9HQOk/fT2pfruCaAZYBzQDtf5veml41/jWuKk39jgm+uB/nEQVxdHEC4CrPhr++MIYhjrIOwetBThBh35ze2F50Xpj/QhB50a8iZMJmEYOwOM8IroK+31+MICIgS2/SH2evTS+lAFIw50EuYTjRXFFz0XYhChAwj2Ne2Y6snqr+kC50PmXOr88db4J/wt/Q3/KQNVCC8N2RGNFkIZaRbeDJkANPgg95360fzY+j/3ofZt+rn/4wJeA04D/wPoA60Aq/p49YX0aPfe+bH3q/Dk6EjlcOdL7IPuyOrB4l7crd3n55P17v2Y+zfxgucA5vPsGvYJ+2H6BPeG88zvTusP6J7p1fCj+Uv+Af3E+VL6agBnCEsNwg36DOkORBQ8GrwdfR7YHgsh+iSnKG4qmirFKgks+S1ILzUvOC5SLfssvyzWK/8pqCdrJW0jUSGsHncbCRi5FIkROg6ZCrgG1wIi/4/7+PdL9J/wHO3b6dTmAOR44YLfhN7l3vbgvuSX6czt0+606hrigNmL17XgBfPaBUUPgQsiAEX3N/ZF+EDzOeI/zALAg8e63gv2yv4X95LqTufe8HX9uf/58/njtN1N5uj1yP/5/R/1IO5j7U7w/PHC8OvuHO8z8eryx/Ky8bHxiPMN9pj30ffe9wD5Rvul/S///f/uAKgC9QQbB6kI2Qk+CxoNLw8JEX4SxhM3FeUWmBgPGkAbWRyFHcMe7R/fIJ4hSiL5IqEjKCR/JK4kyCTWJNAkpCRPJNkjTiOxIvohIyEpIBQf6h2tHFYb4xlWGLUWAxVAE2wRhQ+NDYgLeglhBz0FDwPaAKL+Z/ws+vD3tvWA81DxJ+8H7fDq5Ojk5vPkEuNC4Ybf3d1L3NHabtkk2PPW3dXh1ALUQNOc0hXSp9FE0dzQe9B30JDRo9Tj2QHgMuSV45PdetXI0ZjYGesfA5sVYBkCDhn9v/OH+M4F9g3MBu7yoOBv3vzuqAYpFVsSMQNc88Dqz+i16JjozesZ9mcFNBEUEbcEhvV47zn3hwY8EhgUIQ8ZC1oMdxBBEj8Qlw52ErgbPCMgIL8Pfvl26rvr5PpjC0IQmgYD+IPyjfz7DmQajRPc/BflnNzH6Y0F/CFLNFg6RTg8MsUonRoVCcX5T/MH+HEDPw1WD90JBAJL/ef9DQNrC/oVXSDDJW0hchOHAgH4G/n+A74SISDhKMcptx//C/X3+fC7/ZQWJyqzK/sdzA9aDfMUERr+Et8CXPZT9zsEsxLxGH4Ugwku/pX3B/naAjsQrBdoEX7/1e5n7Vv98xGlGkISfQNT/qYI0BjQHvoSiPzN6hnoG/KI/WcAhvlw74Lp6ulP7THvP+7e7EHuRPP7+eH/KQQPCCoNthNyGu8f3CP+JiMqPC14LyAwOi9dLQArESgkJAIf6RhaEqoL2QTG/YL2dO826VjkM+HI36rfIeCP4ObgleHY4hbkMuSt4nDgLt/Y37LhBuPV4rfhKuEC4rfjDeVl5T7lkeXH5mboq+lT6svqqOsL7ZXu1u/B8Kjx2vJT9Mz1DPcb+DH5dPrW+yr9Vv5s/4sAxwEMAz0EUQVVBlwHaQhvCWEKOwsMDN0Mrg11DisPzg9nEPgQfhHzEVQSoxLmEiATTxNxE4QTihOFE3QTVBMkE+ESjhIuEsARRRG+ECwQkA/rDj0Ogw29DOoLCwsfCikJJwgcBwoG8wTXA7cCkwFqADz/B/7M/Iv7RPr5+Kz3XvYR9cfzgPI98f3vwO6E7UnsEOvX6aLocedG5iPlCuT84vnhAeET4C7fUd593bDc69sw24Ha3tlL2cjYVtj016HXXdcm1/vW29bH1r/WxNbZ1v/WNteB197XTdjM2FnZ89mX2kPb7tuE3N7c19x93FDcTN1d4GrlsOpu7d3rP+cE5FbnOfPmAxARNBPbCU/96vi1AbURIR0sHbcVKxAlEXYUpRMPD1wO/BZzI68mmBmtBAH6/wM9GpwoXyIiDpD+4v90DYcZOx2DHvclVzGeM68jDgk49zz7KQ/CIAckhR0iGv0eNCQlIJQVdRMvJfdDwlkpVN40vQ8a+Qj26vwHA7cHABIjJcQ5iUP/POosfR/QGr8a4hdgEU8O9RSEITAnqhu4ASTo492w5vn5YgsKFD0VvBRdF9EdbSSfJUEeWxGFB4UIvhMcH2ofPBOnBcwEphTQKo03OTOJI5oUnQ0IDH4IKv838zrrFOsj8VD49/te+sb0Du4M6Sbn0udh6YvqiOvi7UzzVfyIB2IRfxX/EPME+PbJ7rvx3P70DhcZoBjnD1oF2v14+TX1R+9u6T7nY+qK8Oj08fMA7sfmEeK04Dnght042LnTvNQe3c3p+fTY+rT8R/8bBlEQzxlSH0IhqCLHJfQpmCz0K7Eo4STGIcweeBojFJ0MRAW9/p34TfIR7Cjn7+S15U7okup76krnHeKw3RHdtuH46UjxpvIN7FDgpdW90VzWL+GU7lX8hgkOFGMXWg85/Wfpgd4s4ZPsR/f0+0f9pgGMCzYWdhnFEIT/He+U6PHtivjQ/UX3Que41nDOANLM35zzrgc8FFMR1/zH34fLPs5E54AGVBjFE+j+SOcZ18XQEtLQ2N/jefG7/qUJ2RJkHK0mHS8XMkIukiU7G+AQAwYW+sjuBuhJ6XzyJv/3CBAMiQkCBlgFhwewCZQJQQc3Ayr8c/BC4q/YhdoH5/P0NfoG9R/t8OsM9AIA9wcqB0b9le393u7as+e8AMoVRRYJAa/o6ORc/EAcXSepD8Li1b0jtffFNd4/77b4egJLD8IXpxKlACPu8egw9AQGiRALDf3/2vO18ED30wFSCegJvwRJ/tn6P/yxAUgJEBH4Fp4YWhTtCtz/Zvei823zHvRB9Kj01/aM+ib9Dvwj+Cn2qPqPBKsMBQxlA5j75/xUBjQO6AtqAKT0NfA18wb5KP/eBhgQaBUTENMA5/IX9I8IaSYmPdpBOTUXIL0LQP329b/1mvt+BFULzws9BhQADf/eArAExP479Sj1zAeZJfE3kivLA3zbwNBT7EIaDjr/N6waKftw8H3/GxvMMHM2fC7DIcQWBA4vBQH8OPUR86vzGvJ165riD97c4czrFfZG/bECDgniD3wTTBElC40FZAO0A5IDXQEP/vv7v/xrAEkGOA6vGKskfy0HLDwc4gLW7IPmNvKKBsQW9BwIHAkZdBSgC67/GvgT/D4JIBPDDeL5GObW4qfzZAtCF/4Omvtr7grxaf1+BTcCNfq0+doESRNvGe4UMw6pDRYR9Q0K/wju5uxNA+8iojA6HDDxIc+Pzw7woRQNIFcMdu4n44z2ExviNYo01RnH+GPk5OKA7eL59wLwCf0Q9hZxGHAUGw8QD04XTSN4KYoihw/5+E3ovuEJ5HLsOflcB9sPngq19kffUdUz4Xz5qwlWBLrvjN9S4cfurvTe5+PSbs055V4P7zBNNrQiAgro/Nn7IfwC943xV/UFA08OrQhi8HfUD8mM1tzyWAqYDzkEe/SF63brI+/D8QX00flCBOMObRPLD+8HtwGj/+L/8//p/18B1AN2A8P8afGf6JLpt/R2ArAIcgKb87/lHOEQ50by//upAX4Fxwk2DCcHa/hU5pnchuK88w8D0QU7/SD1CPmvCZ4ctSVqIUwWfQ06CogIDgOI+dzxp/N1AuMa/jPnQw1F5DhHJqMUvwdR/8X5sPZ59m74avqf+in5LPfj9JnxwO3765nu2vPw9SXweuSR29vd2OuT/EwEL/4O8cnqB/X+C6Yf1h9UClXu5+A560oCORByB9TuJ9z84ZAAxCXcOkM0mhdQ9VfcvNEA0azSeNK90A3QgNK12NXhlOu+8vL0r/Jf78Hu6vHD9o/6wPxU/3IEAgycE7oYwRr+GuManBpGGVwWoxK7D9EO3w8HEooUOxcuGhgdHB9QH1Idehl9FPoOWAn3A2P/O/zh+jr7wfzB/pUAtwGvARQAq/yL9y3xSOqh4+Tdmtkc14/Wzddk2qPdweAE493jAeNn4E3cG9c00dHKWMQov0a+pcVd123wPwjdFI8RkgIX8tboieiU7CPvW+3N59vg7dsa3Rnny/eMBywOTwrNA4kFxRPBJ680YDGDHkcFwvCw55Lq5PVXBSYVZCH8JRshChZHDK8JuAwwDUIEK/R156jndvQmBKYM8wtPCIUJvhLRIRcyYT44QXI2HR8oBOnyMvRRBeIZqiWzJVUg9RxOHAoZ9A4OAAXyuuda32jXN9S73X32bhXsKowtLCKuFocUMhn8G6oZ6hdBHKch2RpCAbDgFdG34bkJRC51OTcsCxoBFJsYShg4CO7uEd624PvwB/9mASz+NATfG/c9/lhWX1NRADvsKJ4eghbACbf3a+al3BHc2uBH5kLrTvIy/f4I3Q6xCYr7Le0b5+LpbO236CPbZc7dzhnhuf3YFtwhox0bEdYEOf1K+Z71/O+f6P3gadqQ1tzYi+Un/ToYcSlvJ5oW6Qd6Cs4byiZuFYDmM7Kul1+j5sXT46juWe+c+TIW7TnVUL5QqEBzLxwlgB0lEDj7N+bH2gvcQOXi7yT6+wYsGOUoEC8pI8wHient1TLR/tOt03jNm8ku05LssgvsIQUo6SIoHSccuxvsE2sCA+7+4I3gpOmC9XcABwwOG88sNTymQ0ZBijc4KlgbBAuV+WXpJt6P2rbeh+h89cwDKhLRHkYnLymNIy0XEgaG8qPecswgvra1drRUuvvFRtXQ5Tr1RwH/BwgIAwG289fhzc2LunurBKQvpg+xdcA9zxzbsuYr98QOHikoPV9Duzo8KHYS4v3R7Fjh4d2D42/wvwD8EKQfVizNNU05QDRgJjoSofuy5TXSb8IVuBG1VbrexuXX6+mo+WwEYQhTBZz9zvVQ8in0/Pfe+B31oPAf8mz95w+EIkEvEDX5NiI4ATm7NxcyNCYVEnv0KdB1rmqckaIJvk3iRwM3HjI4olNaaCJovkxcIYb8iu5a9IH7GfRO4P7Smt7qAzswG0xRTaE8FyzCJ+0tMjN1LCcWGvXy0rG5JLDlt3PNPuo8B+8e0i50OMhAGExPWD5bG0mRH3jrJ8Ldsgm9LNSa7KEDpRulMvA/uzyILVQg5x9YKe0uTyWYDT/zw+Hs3BHhE+g67aDuLO7i8Z8AFhsLNwBECziqGbj7ce2x7ZzuUebH2kDbFe5IB9cThw5NB7ATTjfQXHtnpkzqHEv1V+cB7tT2GvS05lbZStVW3Bfr7P05EpMkaDDAMhwsPB6qCOfpjMX1px6g87Kj1Kvw6fqq+V/+mBN9MbpDMTsTGwz2Hd/328vjculI5nbcWdE5yDTDKMe92rb+nCdLQlFCTC0oFyoRLBsEJZseHQcO7Q3g5uI06+Dt+OrZ7BL88hSaKTwu4iJ9EX0DV/qA8Znl7NfBy4zCVLzcug7Co9P06vT+3Qn8DrEXJCkzPH5AvilP/NrM8LE6szjFXtX12qncQuYb+goOgxY+E18PJBXFIn4szShEGS8HJ/mq7QPg29BeyEHP0uXLARcVvRcmDckA4/wvAm8HowF57i/Xf8icxl7JScUGuXqxD79m5fQUbzVBOOMiVQh8+GP06vB04yjMFLW+qO6prLPEv47Ms9xj8owLwiJAM+c7lT4/PR44fi7eIOcRPwWL/Xn7hP4jBj0SZSIPNZhHMlfeYalmRWWdXedPDj3gJssPNvoG6IraltKQ0EnU0dyJ6Hf1sAGUC60RlhJFDfQB8fIM5FTYrs8cx4e8/LJqsoXBht73/fsRhBSFC2oDwgQJDikWkBTKBxb2Zeiw4xXlueNJ2BvFbbdWvm7dYAdZJzsyiS9EMLc7m0VQOZ4Q4N4kw6TMW+z5AkX+xOiT3Mnnav+UDT8KWQMPDAImPT0mO6YcWPW43bjePO0e93Hz3+cD4ZfmpvV2BDQM2A+2GXgw9kwBXGRNxiNq9bPap9lh4ofgztCvxDrQUvSSG6ktWyaKGfIf/T6kYuNuNViwLJwG9PVA9WPys+GHyYS8tsju6hkRyijRLKsm1CONKdYx9DIBKScYbgbR9JLfhsX2rbilILXl16b+ChlyIEQbHRdxHrcwfEKeReIzxRNY86PdE9RQ0UPRXtUj4dDzxgbVEvIWqRkxI9w0SUWRRbYslwAg1IC6D7nvwwDJ27+DsCirGbkc1XDxgwS6D9YaGyqBOQlBtTzdL1whTxXjCob/UPP56bjnue2s+VEIDhgLKUA75EzkWsNi9mOKX8dWVUqfOsEo3RZzB1v8T/ZL9RX5bAGtDXkc0CuXOR5ESUpnSxVHTT2hLk4cEQjJ8y7huNGZxqzAUMBExaXOGtsD6a/2dgLfCroOUw2LBt/6R+sm2R3G+7OnpBKaEpb/mdalU7e2yTrX8dtS2E/RYs1+0JPZWeOb5+bid9ZZx1e70LWRtl67psLwzNvb1+/pBpQd5jC7PzlKa1CVUdJMRUKGM/IilxLDA1P3RO686YPqdfCE+iIHzBQiIsgtRzZDOtg43jHXJboVuQI57tXZSMcyuNytJKmKqkiyHcDO0qjnsPr0B44N5wzzCWAIsQiXB0YADvDJ2N3AHbEIsTHCLd2882b5eu3O3bzdVPf1IqdMW2LhXo1J6i2lFJwCv/qD/VYGDgzGBsD2OuWu3V3lbfghDj0fJinKLDEsOilJJbQgJxp9DyAABO/T4WfdIeJQ64Dyd/Tp84/31gQLG8kyPUJZQ1c3IiUWFIkHUP589RHrxt6r0SPG1L86wl3ODeKq+XcSsSqTP3dM+0xPQDYq8xBy+uTqlOQ+51XvIfd2+jH6qfvoA9oSICOmLmwz/zO3MwsznC+MJy0cExGHCPUA2vWU4zXLyrP/p4KwWc238roNlhDz/f7oY+dS/1ghoTSnK/gOpfS07NX0tP1N+9zvZueN6fDwafHu5jjdw+adCg47Tl8eaKBbZ00RS4lQZk6IOuIZ0/pX537da9QXx1y5F7PHt6DDZ9BN3FPr8AFuHp43jkJeOsAjYAlM9Frmwdr1y725Y6r3pYevFcLo073dSuC740fxQgufKfc9MD00KMUMLPy7/eUHDwcO7rjCIZvyjPuc77yn2Jvmce3P+tIUjzM+SCZL7UK2PR1CGkcOPDsaGu41zu/H+dRE43nmaeHa3zjpPvpLCvEUNB1rKDQ3/UPSR70/gy2GFHf3mNmewNyyI7IPuRC/R8BBwWPKWd8t+7kUnya0Mh0+3kqNVQVZmlOBSIE83zGXJw4c7w87Bs4BKwOfCDwQZxmAJGYxij6BSWtQr1KVUFZKuj+TMHIdzweE8Rvco8jvt/CqsaIZoMujM65fv0HW6u/vB4wa0SZpLnwy9jDyJY4QsPWx3BvJ2bjNqU2gcqXXvEHcDfDe6qTS973hwovlJBWVOM8/yiyZD4b66Pa5AFkK1AX/7YrJM6ZOkFGNRZzRuGLcnv1jEioWtQ9vDiQedjrDTtRFeR3n67rPF9cI9CYJQwO66BfRO84X3evrVu5D6qDw8AmnK/dB2kOjO7E6wkXGTw9JwjGvGmMTUhmbGjkJ1OkrzzHIi9Ob44/s+u3K8Er+mxjQOOFR9FZJQ5wfPv/38+kABBhtJfge3AnR8hzip9fp0LDPNdkV7xsLgCM2MyE9xkaaUANVa08xQ6g5Xjg0OrMz4B48Alfrb+LB4+Hkzd9I2MPWKd9D7bL5XQGbB2sRfB8sLes05zQxL+slTBjgA4PofsqDsKKfH5l7m2+kkbFUwIrPpOHA+3sfXkRsWRdRcy4/BiPw3/OVAwIJuvl73wrN1sr1zrXIIrQ5oY6m8csNAiMvCURiRR5CGkPOREM/XDGWImEayhf0Eh4GqPPC4lnX3M5nxeW8cb2GzZrpJgSMD6UJa/5r/sIQzSzxQJxAci1fFNABqveo7aHb0MPEsuyzZMXk15XcItTBz6Ph5QpTOLlR9k2gObgqWC3OOhdCUjh8IUEKfvqq7oTeZ8mOuuW/+9sgARcbuR7fEVIFHgcgGVEyekehUthTR00cQG4tmBjiBrb7KfUm7cTeOcvsuW6zfLuPzmfkY/Xk/hcE+ApTF0Mn+jPANmsuRyB5EwIL7QMP+aTowdaDynzI985w1zLcPN3R30npa/qNDyAkrDSOPVo64inwE38I0hQ1Nr5XN2CNRaYUdeZdzGfFFcQLvWywSKczqpC6OdPZ7TsH/R6+M2tA1D5wLmEYcQqBC4AUahaGCJDwI9yu0vXOjsZAthKm6qHFr7PMofB7EqAprS8bJXAUWA1+GNoufj4WOrIkGw5YAwwDBwGH9Lrh2dRt1N7ZlNhizOO/JsNO29X7SxHNE8MOjhXBL2FQs2DrUxsxdwsz8iDnJOLR2m3ORr+asRCqPq2WvejXgvK7Aa7/9fAJ4gzfLuwIBBUcSStlLtknNxxiDp/+4uw62/PMWsOkvCm3JbVtuyTLmd196Kbne+KE5nD7uBuFOAxFdT+DMHIjKB2hGS4RvgBa7S7f/dhi1aLNxcISvkHH3tpE7BDy8O/Q8uQCZxpmK+QumSzOMXRAw0mhPBcaNPl6868Lfii6KQ8Fts+TrH2v385z7m73uOjI07bMytxAAGks71WVc1p/OnhZY/9JrzTkJlgebhVpBkfuEM+psPideJ6HsNfJXt4c6Fzpyujm60H0SwCrDSwbLCkVOONFRk2FSJ82/B0jCTz/hf7F/d3ze9+0yHa7Qb9g0tTrygF+D1YWahp3Hv4igSgwMcQ+H04FVo9MQzBMDCnyj+zQ9rMA0/vY5ojNvL50wWTR0ONy74zxIu6v7KHzgwRiGtor4jBhKQ4fxh51LAo8uDiEFwzlIL+2vCTZH/cO+p3e3LsDrd+519P05zzy+P4FGqY+Z1nKWoNH/TQHNQBFrlExSxw0txwXEQoObwfU9mPhNdAmxp6/2rpVvJbIPtt06MXpEOil9BkWUD33ULNF5ylzF8wZxiO9H1AIoe6R53T0VgAH9VvSB7D6pzW+Md386Qndmsh1x8HkNhMlOj1K2UYgPs46eD2VQPg/qjsJNfIqWRnZ/E7XorGSmIWVBaj5xM/cceTM2kPI2bmGu2nTtP7QMUtdsHUWefFtfVwDSeAz2x3SCjL/UvvQ+iP5Bva+8/vw5OY80Gaz9aJ4sP3bSBAiMUwwjxciAGv/gxhNPLtVI1iIRRgq/xErAvL4svNu8mz1yfgQ9V7mBdPwyJ/RUuco967ww9Wbu6m63tpdDSM4skiIPqQnOBXjEZ0dxC7xNhErcwuf5UrMEMp/2bDppusP3R7IYbp4uwzKnd6Q8Df7hwFDDeUmu0psZvVluEfjI3cbuDpFap9/12CmG1PaM8DrzbjlwOnW1vnCI8P901jdycymq+qYL6y63qERqiroKq8pDzteXAJ5/384c3hi51nzVpNNQzaMFaf2iuBG0YTDIrcrs+q+09h89EkC4fr/5AvRB84X4N/+sBvJKtUpLiDaGAIa8x8QICMSh/h231TTH9ag3QLcCcuNsKmZJJKpntS76d/M/f4JQwHF7JzeceZ/BeUr5EJdPcghTwXg+9wJbyI3Mn4sdBHT66/KnLtwxdzjKAegGwYWCvyw4IDWXOKh+VAMBhLVDi8NpBMvIJUssTXuPEdC/D7MKcIC4dm1xp3VrPtrHYcjWgvN5Z/HVLrmudm9pMLIyqfY8OjQ8+bzt+xm6ob5dRzJRuZjI2W6TCss0xaiE6oZixnJCqfxw9nGy5rHA8dqxA+/srm1tpO2rbk2wr7SWuo3A1YWUiEAKMMvUTmHP4M8ny+eHpYR6w3iExAfUSi1KAAd2gc28Ffcbs3kv0ewKKB7lvKaILB40A/wmAItAzb5f/W8Bu4sF1d9b/BsVFk3R6xAGEDPODwl+Qvq9xHt5eW32j3Ka7rKsRGxa7MvtIqznbXwvWjMXN6P8Q0FMBchJDAohSS7ILslWzXuRnFNkkI3LAsXIQuhBSz95usO1TPBx7XRsEqs46QynfqaM6Kjsv/I0+Bs9esC4wg8DHkUhyTYNYc8rTLSH0kTNxV3HYAb1gh28uPsNv17D5YHFN6iqyeVKKpd1lX1/vQM5Z7kawHgKXg//jWiHxQacDCfUDVepU5NMtQicCoFPVdH5EHYM0om/hirBTLsjdeH1C3k0fjhACz1Et6/zNPOV+VdBEwbmSDoGHYT+B2MOQlaAXCEdKxswWIKXG5USkORJAr+Vdx8yijLndhq6vD6DQi+D94NtP5D5KXItrmYwJnbeP8QH3szrz5YR/FRvVyAYd1a3UgvMZ0byw32CAYKzwo5BOfxLdaZujiqE6kOsVu4bbufv5rLQt7e7ir2k/Wp9Hz4Ff8EA40Blfw6+Lb4CgJlFrkxkkdFSUEyoQ6p8sno0+fc3CbAd58vkrSifcTJ4Arsfe0q8jP7w/vg6FbJS7OhuOPVdfVZBPkDDge8HMw+X1VjTUksJQ3PCAUfvzbvNTYaWPq17mX4iQCR8X7Q+brfyYP1DRnWE3rouroYriTGo+Yh8Urhl80uz+nqehCYLOQ5VUFOTVde2GuibV1jF1M0QsAwNhu5/9PgjcOqq1yaXpA7kHKdfLiN27j7kQ5EELAFEfl783H34/+fBNwBgP2OBGIgU0shcAV4XF32MWQRVwqRE38W9AQf5XnJU76+v37AJrlZr5Cuurp1ypDOtr+5pUGSm5MCq/LNNvC+DEoltDprR3ZDhS6yFMoGvAtUGaQcsQvv7+7eEOfiAUkZ+Rr7B5nxEeee5r7gN8p1qoyXM6Nuyq72XQ+PDHP7ovGd+mkPLB9fIO4ZYRvYK49B9UorQKsqKhuLGMkZzxBp+mLilteK3Ovk4OKg1l/PRdsV9n0JawHe4ZTH+s9M/dcxpUgQNm8SzgTkIHFWmH/nf91YgySt/ijyzfcUA6MNSxijJGkwWjfLN98zRi7CJqIamgiP82Hh8tbw1PfXY9u63IzdrOLF8DoIdCOsOdhE4EVAQ/NCCUXpQws60Sf4E00G1wHCAzYHdAnxCZwHNwCO81XmV98l4LDhadr7yN+3sLR0wyPbHO9f+3gGKRdTKegucB0G+yfd7dik8o4bPj9QU41bhWDwY61eYkkPJugA/eeC4bfojfJj9V/u1uFS1wLUSNdp3DDgBeVR8N4CbxQKGXAMafiX7qD6GRmLOqROzU1UO4QhzQuRAZcCQgcHBnT73O3w5ybuGfko+6jsO9OQvfu3K8Qn2sbvT//dCHYPjRWHGyMgvyF2H6cZyBG1CRUDZv9HAAwH5RI+HwsloB+DEbsDnv46AnIGfwOE+rL0a/laBTAMVAP76mTNr7brrQa0tMUk3LrtqPLA6wLkO+jz+tkQpRpaE9gEbf4bBxcZWSkvMsw18jdPN2suqxoxASnsW+Mv54nxNPrP+jDx7+AW05zRpN/J9IAByPow49LI9rnquoPFpdB/143a89t/3BHcpNvJ3bXk2e+C+0MDPgVoA6wBfQL8BDkGMASh/xb7Zvg298z1DvOg7xvtdOw87VTuMO9O8I3yN/bF+nD/6QN9CIkNARNnGDodVCHnJBwo1yrHLLUtqC3WLGQrTymBJvwi7B6NGgsWdhHaDE8IBAQmANL8D/rg91L2dPVR9eH1EvfP+Ab7p/2cAMcDBgc3Cj8NCBB5EnoU9BXXFhwXvxbBFSMU7REtD/ULWwh2BF8AMPwD+PTzHvCX7HTpyOag5AjjBuKc4cbhfeK442fleOfX6W7sJO/i8Y/0FPdb+VH75PwI/rL+3P6E/qz9WfyV+m348PUx80TwPe0z6jznbOTY4ZHfpt0k3BXbf9pk2sLaltvY3HzedeCz4iblueda6vXseO/R8e7zw/VE92b4Jfl8+W35+vgp+AT3lvXs8xfyJvAq7jXsWOqj6CXn6+UA5WzkN+Ri5O7k2OUb57DojOqk7OnuTfHA8zP2l/jc+vX81/51AMsB0QKDA+ID8AOvAygDYgJoAUYACP+8/W78LvsH+gX5Nfid90f3N/dx9/b3xPjY+Sz7uvx5/l0AXQJsBH8GiAh8ClAM+g1xD64QrBFoEuASFRMIE78SQBKTEb8Q0A/PDsgNxQzRC/cKPwqxCVMJLAk8CYcJDArICrgL1gwbDoAP/RCGEhQUnBUWF3cYuBnRGr0beBz9HEwdZR1IHfocfhzaGxUbNhpHGU4YVRdkFoMVuhQOFIYTJRPuEuQSBhNUE8oTZhQjFfsV6BbiF+MY4hnXGr0bixw7HckdMR5uHoAeZh4gHrIdHR1mHJIbqBqtGagYoBebFqEVtxTjEykTjRITErwRiBF4EYkRuhEGEmkS3xJhE+oTcxT3FG8V1hUoFl8WeRZzFksWAhaXFQwVYhSeE8MS1BHXENAPvw6dDUoMjAofCAkF/QFsAMUBOwYlDPoQJhObEl4PHgiU+9DrMt873HzjLe7285Xyse/s8kz+rQxEFyQcQR+FJaMvxjnHPyBBvEBqQQJD+EI9P0U4PTC+KHAh4hhgDssCzPdu7o/mcd+R2BTSzsxjygvNONZY5ObxpPdO8RnhDc/GxMTIvNsA+KYSOx9IFob7wt31zQvT5eS082L1luwV41ze/9po00rJrMV2znfdu+QT3fvO6soq2HPssvX36/DYy82U0vjfXeiY5VbdadlS3YfjzONZ23nPbMm5z3Xhz/URAOb2y9tevV+wlcFd6nASRCB1DBboJs9l0RvlGPDd34W7nZ7XoKrA6uSc82zo8dUf0urhLPezAOX6CfEn8C/63gWRCcAED/97/5QFIgs2C+QGNgONA4oGMwhRBmMCiP8g/7r/9v4N/Fn4pfVT9DnzCPGo7R7qXudf5U/jiuA53RDahdds1UHTvtAdztHLDsq1yJrH7MYxx9TIkMttzoLQ+tEk1PTXKtyi3XvaPNXf00baTeVQ7O3opN0q1D3U8duH4WndUtJKyz7Rp+Jo9bAA0wSUCXUVOye0NxhBCUSxRb5J1E6NUEhMjUMSOvQxNyqnINMUHglSAVAAlAaREbEbzB1eE9T/te+I8eMJAi3GRQ1G6DEPG7gQXBN5Fw8TeAd4/jT/dAc3D0QRLQ+WDXMOBRCvEMYRXBUDGhIblBYEEj8WESX2M080hCLjCxoD9A1aH7Ik/Bi9CZQI9hhcLSE2TjFDKuQq4i9uLVgexAuWBFMOPSAnLUswSi8PMYI1ZDeLNJ8x3DR9PvlHrEoLRv0+FTqfNxI1DTHNLBwqzSjzJjgjch6bGp4YbRdSFcMR0g3hCjUJ0weuBboC0v+6/WP8FftF+Rn3JfXJ89Xy0vGE8Brv7+0o7ZXs8usn62Hq0emC6U3pC+m56GvoGehx58flXOIF3RfX+NM82Kjmf/xKEAMWbwfh6sLR/s345DcK/CYkKt4UH/pN8Hr/YxoHKUQd+v8L6kLuRwhgIcMmTBujElUbWC8nOwYzJR9jEtEWLyWmLhEsCSK6F8QNhADm8fPsc/ywHXQ+NUp7Og0b8f7j8Wnzw/x5CJwTvBqqGQ4Q2ARMAoYMsBsjIUMUb/u65z/mefQbAysFg/z59uz+Mg+/F88OkvzZ8wz+JQ/KDz71Uc/3vP/QzwC+LbU/qjeoKZ8m7iyTLX0eMQaZ9S/3sAQADTAElu7b3K/c1Ota+ZX05dy9wzu+sdLd8gsI5AXQ8qbfG9ix2undk9vw1urYwuZx+yEJTwKn5KC9uaOEp4bHRPGDD8YZzRfZFt8b0R+nGBYFF+/u4rnjduiL5DPUw8Ffvm/TwfiCGPkehgkz6E7QxMu301badtlK1/fc4el/8iXtAN9r2QHovQGrDpz+ItqSu3i2oMaS1y/bp9bs2A3nQ/UG9MjhgM3mxyXUkecF9s773/s7+Njvx+PU2tncROpB+tgC3wILA6gMPh+uL+gxByRQEEIEMwXPDCEQ1gkf/mT14/Nr9pv2dPGx6THk7uKI41PiKN4g2f7VWNVV1dLTXtAxzKPIQMZexQbHO8wA1Lva4dzx2vXZpt6X55TtWesN5UvmxvbDEGUk7yUgGaYNuQ9OHJAkrRz/Bh7x2OZg6B/s1ejP3b7SKNGj3Qv1oA36GiUURPoc2wfLqNeZ/EckTzbtKIAHw+hI3frkf/On/XQCEAiyEUoaxxmtDhkBovtcAUYLQw94CfD+4fcP+Nb8EgLLB/IRWiLJM5M8CTf1JhUWLAt5BfkAJ/1A/SMCDwdjB/cGxxARKmJHFlJNPEkQtOp541X61hgUJzofrQ4SBmgJgA8iD24K/gujGfkrajQmKzMWnwL1933zcu/r7Gr0jAu5Kso+dTcxFtXvId5V7G8ONir9KsUQMe+v3eDlGf5PE/4YlRG4Cf4LBBhHIxciTxGs+R3q+uwOAPUVDyBsGdMJr/73/2UKbRPAEsgItvwk9QHzOfMN9GD3YP/7CR4RPRBpCUAEiQeQEzAifit7Kr8eKAwF+krxUviwDf0m3TbbNn4sBCTDJBgqJSgzGGYAtu6364byMfZx76Xkp+N48ygMHR1PG7oJ/fT75w/lvuik8BL+3xHmJlAyNitIEzD4v+or8vIFUhR0EJH8dOf133Pp7vp7CLkNxQ/iFbIgxiiRJdIVkwFE9Ez0r/5RCfgJa/1Y6mbdFeDp8PoDlQzEB6v9YvgA+mr8efpC92P6XQX/DsMLU/vf66LtsgEXFhsVXPrg2AzLCtsy+lAPWA2k/LPv1vAs+4oDUwU0BZcIBA38CZD7ren94iXvGAYbFo0TfQOl9pr5zQl0GYUdNRc8EEQPJBFNDbb/xu3V4WLifu3N+98GgwwFDVUIe/6i8rbruu/m/Q4O6hYfFWIMmgL/+u71u/PC9WH8PAWhDG8Q+RBvD8IMrwpNDCMTAhuxGsULC/OZ3+Xe8e+YAioFbfQf33zZA+zTDKoocjLbK/wgwhzYINgmzyeLIpgbJBhFGbgbohs1GOQThhGaETMSPRGDDpQL8AmWCUUJ6wevBZMDVgK+AfwAlP/G/TX8M/t8+pP5SPjb9qz10/QZ9DbzIPIJ8SXwde/O7g3uNu1t7MnrROvB6i/qmOkS6afoTej055fnPOfz5r3mk+Zs5kbmKeYa5hnmIuYu5j/mWOZ95q3m4+Ye517np+f651Xotugc6Ynp/el56vzqhesS7KXsPu3e7YLuK+/Y74nwPvHz8ZryCvP28vfx2u867fnrzO5p900EPxAZFYsQwwa6/7YAvQebDeoMGgeRAi8EewvgFPwd9yXrKckj0Q/h8wffy97/8tUMfRvhGvwVXxqRKVE3cDazJkkVgg/sFRkdixqkD4AH1QpNFwgjkCcWKH0sFTcwQMU87ykTErsFkA2vIdouLyY/CqbtrOMl8PQEcw8pCUH8L/hgAiYS9ho0GesToRKaE/0NWf0h6dTek+TA8ub7ivr/9ST5jwVjEUgSWQl9AjgH+hLxFZ0E6ORZy0vKReJLAU0R9wh68fPdqty77e4EhBOuEaMBL+yt2qLSfNTu3HnnjPBT9n34qvcD9ZDxae3X5+Hg49rG2bbfSupr86P13e9h5cDaHtPpz6/RRtiE4sju+fvdCMMRAxCS/vngOsUDvDLMfOyICcETaQnS9QboJ+k++MwL1xbDDwn3a9lQyVXRPer1/sD9T+gA07PSxOk5BlESFAci8Kzf1N+f7U3+pAcwBav5xu3q61X5lxBBI64jBxCq9KjiFOIL7O3xHOvf3HjVH9+G9joNtRVpDiwC8/0yBTkPLg9P/7zlsM/txz/QAOJ58zP9MPzG8SXjxdi/22Hw9xAWLqA2GiO/+x/UPL/AxF/eZf0/E9YX5Qu197nmOeFW57DxT/gM+tL8tAU4EWUV8Ax+/0L8ngp/IPwpMxy1AHTthvCRAwMTYRFcAy758Px2COMMlANa9tX1igdaHtQl4BVp+0jtiPcsENgfcRaF+drfVt6a9toVdiQFGXj/7+7n9tQS9y0xNBciFgdB+Ff/kRRVJ3ssECUmGW4OzwQ/+0n1i/nfCf8dmCdwHZkDGOm73KDinfIMALAD1/9i/Dr/4gc4EcoWjhj1GQ4etiRFK3UvbzEiMw821znhPBc+2j1cPU49Qz1KPPU5szZFM/MvZSwbKP8idx34F50SKw1oB2YBcvvG9U3wnOon5H3cwtNSy0jGAsnr1lXvpAsbIU0mCBl4AGTput5Y4xHxYf2cAOD6Z/PJ8gT8tAmyEWIMRPre47/U7NRM5ED6NAq7CxoBJ/ZU9rsBPQxICY350utX7hv/HgwQBfjsaNn63rL9MiAQLsAfxAJ77Dvp//UeB24TlxnSHFIenxqkDSn5tOao4e7thAPWE+gUsgg0+lvzxvWn/BoEpAw2FxMgdyAoFogHMf6P/V8A8v9a/Mz7BgJ2CjoMhwO69fLr+epY8VX8LAyoIWA4/0WfQZIsIhN6A4UC6wiaCvcBwfSq7rL2yQhNGeoeuhl6EXANfQ6iEOQQUBA+ERMTDRJOCwAA//ME6hvi+9uO2aPd2Oc786P6uf43BogW1SvNOa41NSB7Be7ySO2W72/yyPLx8QXxqu4K6mXmQOm484v+Bf/U8Qnhz93x8fUVNjXnPIQpUQj77Irk5+6ZAesPehIuCuP9KvW089L3Tvzn+8z0l+oz5cvrNP6HEhsbxBGc/rbyxvkcD4wgdR0SBXDnNNjF3lTxhv6y/EPxTeoT8fgBmhAYE5gJM/wD8wDxUPVz/+gPeCRvNUo5Bi3lGEgL9Qx/GX8j4yCTE3UGXAIqBkYJ3gQz+jfwBuw+7G3rEObC3dTWk9NR0trPasv6x6XJttH+3ADmLumO53vlieZy6gzuTO/E72ny3vYc+FPxleSK28jfivFPBo4RZw8JB8wCPgbGC1oLpwKj9tbtDurI5yrj3dy/2ezdDehr8fryYevc4MzczuML8aH5J/az6Ujfpt986Ynz/vUu8Wvr1ull7FfwYPTq+Nb8OPzi8zrmVdsO21vmIPaRAFEAgfcZ7Wvn5uei6szpseLV2ObTL9kI5iHxkvJs6//kM+hM9T4E3AxoDjYPhhVNIfksejP4NLs1NzmkPlpCz0HqPZA5fzbMM1QvJihnH/wWrQ+nCKEAWPcJ7vbmmOTw6G/0mwS2E9Ma/RWDB2T3m+518QX9kAklEAAPXwkTAxf83/CN36vMt8GMxbTV8udn87b4ngDOEdcn1zQRLewR8fGZ3Tbbn+S474L4fgLCECoetx8KECT4POqT8bQGSBVCD6b6letd8KIDchJCD1z+/u+w7xH6PgKL/w31dewg6y/tIevy4tba3tqR5GLxUPmO+oL6n//kCmwXwR8TIx8lrCmqMLY20zg6N5E04jKzMewuRSmDIYMZYBKuC3sEyfwH9v/xNPER8qrxuu255krgI9+B5eTwSvsh/8n6KPGj50bjP+Yq7pH0/vIC6bTeSt++7gcENA+fBzX18eo/9j8SCytnLtka//9s8ETys/t6/Ybxx+Bw22HqOwYIHPEb4AWN6RTazd/Q85AH0RC9D6wLVAuoD7MU6xWaESUJb/9s98rzXPaF/uwHNAzjB53+lfkMAEMQ/h/jJNAcWw7QAYH6ufaS9NT0/vhWAJQI2RD+GcsieCWMG78FFu/i5czvPwRlE5oTtwiv/on90AIkBuECp/zm+uwAfQpwD2IK0Pz87fzlSuh+8dP56/qf9Ajthuum8s39jgRZAWb24OxC7lv8WQ4VFoYKpO/p1J7K7NVk7R8BtAfHBPwDeg3wHuQuIzbDNYY0Vje1PBs/+TroMW8oTyFsG/cTHgpLAAH6ufjg+qT9fv/uAP8CbQWfBkQFnAH0/B/41fKJ7NnlZuFp45PvjgU7Hj4tQiiXD1Pw+ds7223ncPFH8Hvp6Oom/EsWTSo0L7kpFSY6K5c04TfXL9kgjhNODDUIBwK8+Kvwku4Y8s71x/Q18C/vMPjZCfQZnRxEDrj35uf+51T0cQBjArn6S/I48UX4HgJCCeoLKwtXCFgEyQD2/90Cpgf+CmALUgrYCRMJvATW+/zyC/Fu99P+4f3v82/rSe92/WEG/fu64fLL6M1Y6PoJVyCdJhkkBB/NFOAAzega3bjqbAs/J2koVw9o8pnoAfSTASX+x+q+27Xj0gBFHnMnpRmSBJz7UAaGHMYuRjIdJ6AV1gbY/sb8hP4WA1QJrw2ZC1YCqPd98+H3/v0X/e/0j++g9iQHLhLfCyf5R+x28g4GnxRTEmcF1/2QA0oPmRRKEI0KzwtAEvMTVAqT+R/sHOh+6jnslOod6dbrNvFe8w7v3+dW5O7l0ubE4OTVltAB2ePqnPfT82Dj39aW3Avz/wl7EMsCbOzY3T/g4PCNBYQUTRnNFKIKef6m8hDo7N7w1/zUjNjO44n0pwS0DIsIAPu77PnlAuil7ODsRuhQ5Qrq/fQi/s7+5/cL8J7sxu3l8A/1cPt1A5gIzgWI+3HxEvHY/c4R1iF0JQ8cMgxa/lz3D/ZZ9fnwmun/5Jvpt/jRCxIY7xVOB8f2ye+I9TYATQP89zbjTNLT0DTgkfeFC8MWXBysIkosmjWROGoyzCX7F3wMhAP6+yL23fOM9lX9wwXSDawUgRloGogVxQvVAZ79ggG3CUcOsQjp+NnlA9l22GvjVfMAAOYDtv5C9c7ucvA6+Q4CXwKE9vLixdF1zF3WiuvQA0oXNCEtIDsVXAPY75XhEt5e5fvw5PdW9XzskuUo57rx1wCcD50bfyQvKk0s+CozJwYibRuUEkcHCPuO8DPqqugA62/vF/Q793D3OPTK7gHq5ehq7HjykPf7+XD7L/8hBgsNHw/GCtIDWgACA2UImgp0B/AC3AInCEQN5AsZBOX8Hv0UBOAJFAfY+3PviOk27Aj0B/wVAWwC9AAq/48A2AZTDlUO8P8+5rXPocye4UoCERrxG1QLo/bZ6VbmRua35czmw+0P+78KwRi2IxcrSyzyI4USPf7W7pbnQeba57LsdvYqA6gMjw6ZC+UKcQ8HFFkRyAfeAHsFyRK7GvgQuvdy3/XYKud5/bULigv7Aln7gve989rtBuuD85gIQCAmLLglhRPwAqP8Tv6p/in3dOpf4pLnHvotEbshjibFInwd+hqiGdgUbAox/cjyNe9X8tn40f57AYD/Ffm78Fbr7u3K+R4KNRb8FrQLDPos6mXiKuUO8UMBng5SEgUKDPoi67nkXOil8fv5ovyI+BfwUuhM5zHxrgS3GTwldiBrDrL6p/EN+JgI6BhGIf8gvBxwGXMYpxfQFIAQcg39DKkMSgj5/jH1HfGq9Aj8MQL6BZsJtQ2FDrYH7foS8Xvz0gLlFEUchhNjAjb4GQAyGBszE0KgP+0xzCMmG30V0Qxl/1zy2eyd8Pr3bftI+Uz3M/wMCNoT6Bh3FxEVhRShEZ4GnvVh6ufvigMAFLoPFvYa2rbSf+bdBRcZyBTxAUXzQPM8/K4AOPqD8PLxoQXSIyw71z0uK9QOP/cd7Mfr9u9H9NH4lP9TCDEPbw/YB+H8TPbT+bUGtxWbHdgYvQiU9OzlLuQe8a4HTh4dLBcuQiieIRoeyBusFTEJGvl+6yrltuZC7Sr1BvzuABwEeAa9COcJkwZn+4jpudgc08Tcq+4+++L5Fe+86CDxlwQsFCcTxwL/8JfrNfQeAAcD//nb7GDmU+vz90EEJgqfCAUD7/3b+537qfnN80LspugV7SP4IgSpDPIRMhZMGB0TcAMi7pXegd3/6B72yPpf9h3xi/Og/lkLExE+DP3/h/KK6KDjJuT66jH47AfzEakOH/5d6l/hxOqoAQAY2iCiGToLYQKHBSYQRRc7ExMGDvnD83L1i/aZ8Lzk4toN27/mwPeIBJsGU/7H8fjnGeTC5Dfn/erI8ff7EwbwCoYINAKu/en9lgFnBpYMBha/IYwp3iX5FCT+o+zQ5sfp1O3S7pjv9PQU/n4Dx/7z8qjrYfJhBDoU6hVYCf74cO9Y76f02voYAIgD9APzAdoBVgjFE4MabRJn+wfiutYq4Sv7ZhZGJs4ldBdZArvv4Oen7an7WAeLCQUFoAOLC04Xuxk0C+zy3uFW4yDyS/0s+Pfl7dV81B7gROw67sDmpd8m4VnqfvN+9oX0ovML+D0AXAd5Ch0L/gzrEUMYGB0+Hygg+iFJJbkooyrAKjMqKSqnKrgqgykoJ3UkBSKwH9ocKBnaFHwQVgw9CNoDFf8u+nz1JPER7Trp5OWN42ziz+EE4FXb/dN3zUjN9dYH6DD4rP7w+KvsKeM74s/oVPGe9sD2nfJI7F3mFeRs6N3zfAIEDUIN+QLx9F7s5e0Q9sD8ivws9/TyFfT4+Ar9K/5i/nQADgRNBroFdASwBXwJ3AuECHr/D/Zi8w/73QnDFjYYLwvW9p3oOOoV+aoHzwhO++nqieW87in9zwP2/anyZe1D8/z+1gZVBgEC1gEwCIMOiwsQ/bjr6eT67xsI5R8AKwMmGxdACOL/Kf0f+hbyaOdH45juHAntJrk3gDL9G48CkfMS86X7UATLBhICnPkL82rzKvxHCQITNBOmCikBTf+eBs8P4hD5BY30auYG4m3nUvMNA6UUHiRGK9kl7RVBA4r1Te8k7invBPJ69wj+jwE7/0z59vWI+dsBGAhwB/wBX/5+AAIFmQTz+yfwp+o98Ov7AAMk//j0jvD/+X8MFhnDE03/Euwk6on7lhM9I5Ul+CCbHQYd1RoAFEUL9gWrBWoGKAM8+8zyKe5y7R7tcero5urmAu0w9hD7k/X25rrYntYc5Rv8eQtAB8vxjtrE0Vjbruzj9s3z8OnA5JHpxPO5+ob63fY39iT7cQI5B+8HUQf8CLUNGRN4FocXRBiWGmweGCI7JBQl+SXTJ0QqOCwRLTEtbi0nLvcuOy+6LtAt+SxQLIYrQSp6KHkmgSSRInMg/B06G14YjBW6EsgPpQxjCSUG+gLa/7L8gPlU9kTzV/CG7cnqI+il5W3jrOHM4Ibhq+Ru6mXxO/Yo9Qrt5eGY20ngUO61+2P90vBR38zW5N1h7oH7Av7J+bP3r/pY/PH0y+Ud2rjcF+0p/+AF8f3o7mTj6+Aj5oPuDPZT+lP6Hvdf9GX2Hv4bB5IKhQVW/Mv3df3LCaER1Aqm9Zbe9tU145z+YBcGIR4cDxMPD5kQ2BH7DtcKdQvvEm0cKCB+GngPuweMCaYTNR5DITIbrhFQDOsNlhIFFJIPOggOAyYCFwP7AXf9qPeZ8yfyh/GB78LrBOhL5krndeot7171wfyqAxwHZwRT+9fuy+M93mffe+VH7T30Xvm+/Jf+6v6y/SH7c/fc8vTtPurl6WnuPPfqAcULVxPgF9kXTRHRBOr3gfIn+GEDDQkpAgTzQ+jC67b7nAwYFL0RQQ13DGwMaAVr9QjlSOBz6t75yABs+ufuguqQ8T39eAMXAe77zfuTAjILrQ8fD8gNCRD/FQoc+B4ZH1kf6CEmJqsp9Cq6KtkqRCw0LjMvqi5ULUos3ytqKxkqzCcZJZ8iZSD1HeQaRxeJE/0Pkgz9CBIF8wDq/B35d/XO8Rbuber45rbjeOAO3ZbZutad1UzX1Nu14YDmc+jX557miOa551jpdOto76v1U/s6++7yp+bz3vfgAOnZ7Wrqf+MC40bttPufAjj8kO2V4SPgnekM+fsHRRAmDUj+ruoS3tTfZ+tf80ju7uDG2g7ngQEwGmskiCE9HWYgXCjVKhohgw58/JHxJ+1i65jriPHU/xwS5B2AGuIIW/MX5UbhReJp4f3exuE57sL+WgZ5/DPny9g14e//FiMVNSwtCRVy/+L4I/+bBXwBH/NS5bnjlfCAAjgMuQcD+zXyovTm/igHzgYPAKH6pPvnAIMDnf7687Xqpekh8hL/7QhFC2oHAQIC/jX6APR97Jfpp/CH/0AMfA3aAxr62voqBtkRJBRODfsFxgToBvED9fd76NXeZ97n4U7iZN8o4NLqgv2OD8YZpRxMHh0jDik3KjEjeBbJCfoAsPuJ967zwvHS8x76FQOmDKYUDRhkEwQGgfVm7MTy4wWtF7IYjwVz60TeIugAARkWCRqKDt7/OPgz+Bf6IPrt+XP8hwA2Abf7+vPN8Zz4awJTBA/5O+dt3HHhJfOTBlYTWBlOHVYhkiK+HXYUogypCgcNIw4tCrECfvx7+h37i/rF9l/xYu0q7I3s4uxB7TjvIfM19in0zOtR4jLh9e6JCKghBS32JUATwgAZ9srybfIh89v2vf7WBqgIdALW+hv7OQVWEKwQNQMC8bHmNOkk80X8BgI2CGgScB7iJVEkQxs5EAIIoASlBpEOehsjKVQxmzDEKbEjGyNXJmInCCLKF+4NKQiPBZUCgf15+FD3kfvsAkwJ+Au5CoQGMgAr+XL0RPVE+5sA0f0J8XLhGtoy4Cnu9/jA+jH4NfsnCIsYsyC6GtkLFP80+zD+hgGnAWIAKQGhBHMIMwruCCUERfuk73LmfOaI8t4FOBeTH1wexhdNECwK4wVXAxsC5gGtA2oJ6BK1GnwYKAkn9VDsxviJFPEs5zEHI0EO9QFeAPT/4/ZX5djU086P1Pff0+o/9Ev/bA1YG00jBSIRGcwMmQBs9Xrre+SL443qvvcIBgkQQhMZETUN4Ao8CzcN0w6sDssMVAp0CHUHqwYyBcIC3/8//SP7L/nf9hL0IPF17izsBeq750zlBONE4WPgyOAI467nlO4/9vf74/yt98jtVeNQ3abeyeX17P/tYOcr3i7a+t4r6AHtiOjb3mnaQePK9wINIRbCDfH5Feir4/jt5vyFAj/4HuVT2Yrh4fv5F8siMBW/+S3lG+e6/qgb/ClUIP4FZu1F55H3MxO1J6EnUBMx+Pjm+edh9qIFEQxbCQIEhgHEAb0BgAE6BVYPghrwG4AN3PUm5RboUP3bFtwlcyX9G50T8RFLFb8XHRRtCXb7cfDq7B/wIPSU8tjqp+PB5cHzAAf9FH4YpxUlFYUbQSXtKqwoWCHPGuwXUha4EZ8Ipf289MbvCe5o7gnxSvZg/DP/svty8ybsX+qY7CTsCOQo1wzPrNPs40z2PgE5A9wCnAeHEuUdVCO0IUMdoRpKGuAYPxPPCQAACfmg9Xf0PfSC9Mf0o/Om71fp1uP14lDo7vEq+/H+APrW7JPcPNH00CLbIugK7/7sWeda5nvttfgMAWcD3gLaBHQL2ROvGX4bnBs5HQ4h+iSJJmYlViMgIskh3CAhHtIZNRU5EacNmwmWBAb/zvmF9Tny5e/47gTwxPJi9Rv1V/C96B7jWuQi7Uz4Af7P+XXuw+NX4Aflwu3z9V/7Xv1G+2f1Pe9j7jj1xP4aArv7FvN/9OUD5BU1GCEDIOMl0IrZ4/jEF84ihximBy8A4gVHD2cQVgZ3+Uz13/1QDIoVtBRwD28PeRcXHzMa0wX37K/fg+SB8hr6C/Sc55jipuu7/C4KSQ6LDXkQYhqZJustzi3qKWgnjScgJ3UiXxkvD24HGgPuAKT/Nf/k/7IAm/+K+8/1PfHM71nxZPSN9yP64fsO/fr+cgPxClMTEhkqGo4XjhMTDwQJjQBs9zfx6+9P8Yzw/uqw42zhSuif9Ob89vlc7pPl2Ope/3wYiyfGJFAU7wHf9274t/44BN4FqQTPAvcAPv5v+rX3WPldAGQJeA7dC14DsPpS9jn2aPdO+IT68v/wBmIKCAbG+qbuyejM7M/41QZFEJQRNAxWBSQCAQTBB30IvwPe+8r2IvrgBm4X7iFqHgsNQ/ee6Wbq9/RF/rH+OPiR85r3bAPwDysWERRzDPgDev4e/hQDHAu7EWMS7At0AiH9gwBaCt0SSBOlC0sCjv0m/gcAGgDj/8ACRAgNC4AGIv229wT9xQpgF5gaHhT2CSsCMP9PAYIIwBLWGWUWiwex9uvwd/pUCQ8OCQOJ8qHsr/ZjBc8Hj/gA5GPdeO3+CkcjvCkqINQR9wcuA2f+Z/aS7czo5+m/7Z3v9e2y6yTtrvMZ/OsAxP4q97TvBO7v88f+EgrOEg8YMxmkFLsJ//v58rb0Yv8YCfkHoftn7iPsufYDBMsHBwC99hr38AAICLkALu1T3YrguvZVD7cXVQvA9jLrMe+++nYBM/85+hz6Zv6x/3n5FPE68Vv+GBBTF6ILqfNo4LjfufHmCfwZmhz5FsAR1xCOEUAPmQhdADT6tvdJ+Gb6EPzD+q70L+uU4/rjTe73/aoK6w3VBsj5Qu185l/n++2O9Qr5YvZ58JDtR/LB/KYEbgFQ8lLgWtfQ2+nms+0m7OXo1e1Z/YYP+BnCGV8VLRXlGqMgpR8ZF0MMsgQmASH+v/g68nzulO8L88nzvO7C5XfeQd725gr2vgVCD3INBwBT7dbflN+n6yL6rv8x+eDuhu1h+0wSOCQuJrgYBgcD/rMCMg8EGA8VWQei95/vPvON/kEJ9gyaCfIEVQWeC4ERmg6cAEzvbucK8E0DXRJ/EfsBlvA06krxdf11BDoDx/6w/coBAgjbDJEPjxB+Dh4H5/sw9BH4ggeYF8YaqA12+5309f+pFIQiCiD4EF8A8/Vq8cHutOzp7ZD0e/5ABtMHRwO2+4j0TPC98PD11fzu/5b7dPKF7PjvUvqMAX39nPDA5hfqDPmbB/oKvgND/GH9dAWqCm4Fzff16q/m/esN91QEdxLeH3ooiifuG1AKrvp985f2aQHNDrYY9BnjELMBN/Uz8w/8uAeSC8IC3PEP46PexOUP817/ugbjCbwLKw1yCxYDCPWM6KjmKvKsA4sObAsG/2D2Pfv4CkoYaxbDA/DqANo/2L3iBPFO/DIDIAiyDXEUHBslIMYiAyNAId4dIxlCE4EMYAXF/tr5l/cI+PP5Wfu++kL4tfV19Qf5XgDvCf8SPBjsFooOsgET9dbsWur66/DugvHO8+z2ZvthAPgDXwQQAWH7DvbB8xb1uvfk973z3e0Q7I7ytP9mDGgREA2FBH7/OQJ6CnwRJhGoCBH9RPV79P73k/qM+h/86QSQFHoiHSStFusC3fam+j4KGBkRHEoRLgDD8hfuju9x8Jbsr+aG5vvxTAbcF9sZpggz7jDcpN9z9ywVRSfMJC4ShPwJ8M3wB/ocAyEGMQPp/tr94AA4BbsH3geRB5IIbApBCykK4Qf7BBsAavdI7N3kRugh+NYNBB9pJfkihx6lHPAb7xciD8UFkgKuCG4U0x2EHkMWdgqTAUv+P/7M/D737O7751DmOOvQ9PT+9gT0A+b8n/S48A/z0vef+I3y4Olj5wHxowMUFBwX2Aot+TvwePbSBO0MXQaG9hzrmexI9hn81feg7w7vkvq4CtUTWxEBCX0DtgPWBd0FAAVkB2sNchGoDasDpfx1ALQMexVWECH/7u+B8XQGiyI6NNMxPR+yCJv4pPHI8Bnzqfh9AvgOWxn1HIcYsw61Awv7lvbH9p/6s//4Aj8Cbf2h9nvxiPED+AMCSAmHCGIA7PcL9zn/lgmhDG8EQPaL7Dfvyv1bDyYYaRG0/kzsi+bx727+jQNX+UvoMOCp6Rf+ng2xDRYCHPgG+VcBIwWK/MXrM9/w32jsWfvtBE8ICwnECPYEHvsF7lTl6+bG8Dz6Ovxp+Nr3HgJYFQAnmCwFJBkU1QWI/dL55/dd94r5Gf6vAcMAlvuF9sz15/jL+hD3w+6h52zmoeo58Bz1mvtwBuASMhjiDvz4BeNQ263mafwmDaAOiAKO8yzsVu8b+PD+ff8d+1/38PkJBEAQRhUIDdP6Merf5Wbukfkt/B/1o+7x8zUFCRZUGFIJNvRQ6EvszvkSBF8Co/Vh5kjeieLG8ZkFPRZNHswclBT5CYUAKPpn93T34PdA9ZjtCuO+2+/d/erh/bkOLBjWGVMWng/iBWD5p+wX5P/iROkE9BEAWwvkE2EWYQ/1/hDrSd3N3HvpMvzRC44S/g+gBxb+8/bN84P0cPhQ/4MIKRH3E+8Mbf6q8QzwUPqqBg4JZP6i733p3vBK/wUKAQzFCKYGawdXB9MC0ft2+J38fgVbDBUNdQlRBoMGKAnLC+IMHAyICZUFXwH+/WL73fg39z35wgDZCowQ7gyfAkX6hPq0AQ0IDwgkBJIDbwo4FU4c8xqpEnsIMgBk+kn2GvTu9H345ftp+yD2xu897ib0mf3DAvT+xfUd8fv4BAx6H/8m/h0uC4779fiHA7oSaBwPHNQUmA0NC7QMhg4fDXQIIgOY/wH+pfzz+Rn2wPKR8eryvPUe+Az4QvRy7Srnxua/74b/Ew1WDmEAheum3nPkvPpBE8EddRNM+/7jR9mt3MDmoe4F8VzxMPWx/hsLuxUCHPUeFyF2I74k3yJGHWcVZg1rBk0Ag/oj9fPwx+447/by4vonB78VFCL1Jt0hCBVgBt/7GPhx+VL8FP5f/mn+g/9GAoEGFQsbDggOXgv5CKUJ7wy3DroKBAHJ9lDyjPVs/MEAUgBZ/44E/hFTIQAoPSDUDrr/B/x8ApsJFQkXAYn4KfWp9pn5Yf0GBXYRshxQHQIQ3vyS8V/1swIEDcoMtAVoARoF5gzfEH4NTwbUAD/+FfvC9Azu4+y187X9qAKg/un1OfGh9bH/IQbGATf0cec75hLzUQW1DwELp/tn7UrpK+8r+D/+2ADVAkkFqgUqAQD5V/KV8QL2ovqY+4T6/vyEBvkTdB3kHBsTsgZB/pv7Cvzr+5b5MvVC723ok+K54LXktezX8yf2a/S988v45QKxCz0MRwMB93fwRvTO/ioHkwbi/ZX0QvI++PYAKgXsAVf6R/S184f4n/9XBW0HmQVPAeP8TfoE+rr6X/rW9wX0f/HS8ob4JgA5BQ4Ek/zF8s/rE+rb6wbu7O8M9Jf8kwdiD9QPxAoIBwwKIxJIF+YRrAFP7uDhvuGs64T4dQG8A9QAV/yP+SH61P0PA8EHYgqdCjYJUAezBXkEJAP8AIL9sPjp8q7sruYv4gbhbORj647yYPb79fbz/PN09238v/8jADP/eP/iARUFEwdFB9oGVwcNCfcK8QviC6cLEwwgDRYOXw4ZDtoNCA58DsAOkQ4bDroNmw2SDVgN1ww1DKoLQgvaCksKkgnOCBwIewfSBg8GNgVcBI4DyQL9ASABOwBb/4P+sf3a/Pz7HvtG+nf5rfji9xj3UfaU9d/0MPSF89/yQPKs8SHxnfAh8KzvQu/i7o3uQe7+7cXtl+107V3tT+1M7VPtZ+2F7bHt7e1K7ubu7e+D8YbzYfUy9oL1OfTI9Kb5tALUC/UO6ggL/Zjzb/NP/AcHcwuwBmr8EvNb73byyfoPBTsNGxDCDVoKcQtIE2weIyaxJbMdvxI3CWgCYP3I+Uj5yv1uBrgOWRFpDDUD0fuR+lX/jAZuDFsP4g9CD0gOTQ3LDJwNYBCWFG8Y4BkYGPwTNw8AC/AHmAaZB8oK3Q51EqMVfhnTHckfyBtAEToEk/qB9/T5+/76BO4L9BINF44VzQ9qC64NNhZeHsAe7BUZCgUETgclD3sSQwyBAEr52v2aC84XABm/DyoGNQalD64XCBMLAQ/tr+Qi7F379wXSBdn+kPm++uT/4wJRAFP6EvYB95L88AMCCzMRxhVUFhYQ8gIF85Lm++FX5WXtefaF/gYF9glBDRMPCRCsEMsQhg85DC4HdQHx+6v2GPEA6yzlQuHy4APl1+yR9sP/QwauCKYGFgFb+oz1l/Rh9jH3DvQk7irqiuss8BXyBO7x59fndvGl/4sIrwbE/aL24PYy/Hf/xPu78sXqf+lX76D3lvzH+473rfRv9pH8SwTXCr4OFw+SClAAM/LG5c/hrelB+icLoxPfDyADq/WT727zS/weAfv7ue+e5uDp6fixCM8MgAKN897tRPdmCGET3Q/PASP10/Kl+a0AjAAS+mn0UPWU++sAoADS+1D3Ivbx9tD2d/WP9bb4SvyD+z719e7f8Db+NxEqH/IgQhjsDGwFDQLE/t34WPK17x7zHvoIACICHAHI/jX79/R17E7mCuk695MLkBv8HvEV4Afp/P336fYO9wP5Mf9OCT4SWhNZCiT8Y/G772n1IvtZ+rvyWOp86I/v9/rBAvQBMvrC8fXt8O548KXu+Okf58vqm/WeA5QPpBZbGaQZPhhHFP4MtgPe++/4/fvCAt8IWgreBXn9ffVF8sb1F/4HBiYIxQLb+Tv0v/Wp+1b/G/1K+Nj33P7NCHUNjQhg/WLz2e/k8p750QHKCjcTwxc/FYkMdgNVAMUDawcUBOX53fHk9UYGehdzG1cOcvpC7yL0wALbDQ8N3ALm+D33mv7mCDUOBAoi/u3x/O319eUE/Q/mDhwDO/ft9VoABQ1SEL4GfffD7Y7v9fkYBdcKewppB0gFMgWuBcsETQICANv/egHeAeb9sPVm7TLq7u2E9Z37IP1s+4L6Ff1cAlUH3Al+Cm8LKA4TEmwVJBfAF44YNhorHGMdcB3RHEkcFRzEG8Qa/RjWFsIUzBKnEAwODAvzBwAFLwJT/1H8T/mj9rX07POg9MH2V/lv+gj43/GG6lnmdOgv8FT59f5f/if4jO9E6b7pZPIf/38HswQ0+D3sq+vG9xsGvAmf/87xru3b9toDCghjACL20/Rv/nkJsQo8AGfz0O+7+F8GHg22B4b7ePNg9jYBLAq/CYQBW/q4+10EdAvpCOL8ee+k6YLunvo3CDgTrxlbGnkUcQmu/Z72CvcI/YADsgXlAcn5N/Gb7DPvO/npBvoRlhXfEbgLgAiICXsLMgr2BPv+wvuA+2b7dflL94T4Mf69BCUHVQSdADABaAYaC9QJVAJ8+UD0ZvNQ9B/1+vbw+zkDnAgICOYBgfut+pQAhwgjDBYJCwP2/1EC/QbTCDwG/AIpBHgK9BCuEcILfwRZAssGMQ2FDxUMkQbmA20FLAhYCCAFAgHh/iD/r/95/nH7Vvit9lH23PVD9NXxte+e7jvutu287OvrNezg7f7v1/AZ7/7qh+Z15J3mtux89PH65f0Y/Zr6G/rO/pkIyhJmFnkPNgGY9JfxdPh2AfoDnf6k+Nv6gQYoEwgWAgzW/Fv0NPiIA1EMjwyYBkABxQDeA9MGPQjmCY8NuxFUEoAMwwFl98DyqfWv/UcGvAu/DEgKlAYWBGUEUQe6Cr4LtwiRAi78V/gP+K/6Mv/WBEcK7gxxCqwDs/1D/vMF8Q0PDa0A8PAD64L1fwlwFwsU5wEp77PpT/SxBQIR8Q8oBpf8qvkG/WcBDAKO/lr6C/lb+0j/lALABIEG3weIB1UEOf8T+2X6Rf2qAVEF6gbVBdwBF/x49wf3uvqy/s7+PPui+DD79AHzB7YJvgi6CBcKrQinACL0/Op47OP4NQl/FPUV5Q5RBCr74PUv9HL0bPVK9xL76wATB9cKzwruBx4E+P88+gDyJ+lI5GnnTfK9/8MIgAm2AyH93fqj/b8BpALi/i/5w/Vz9if57vnF9oTxLe4o7xvzSfYE9tvyxe9z72Dy6vbH+kv8/vqc99nzs/FX8jX1O/hh+U34iPYF9ln3Xflx+hD6KvkH+QP6VfsA/ND7cPue+238Tf2z/aP9lP3n/Yz+I/9n/3D/jP/n/2cAzwADAR4BTQGiAQQCUAJ8Ap8C0wIcA2YDngPEA+kDGgRVBIwEtgTXBPkEIgVOBXYFlQWvBcsF6wUKBiUGOwZOBmIGdwaLBpwGqAa0Br8GywbVBtsG4AbjBucG6QbqBugG5QbhBtwG1wbPBsYGvAaxBqUGmAaJBnkGaAZXBkQGMQYcBgcG8AXZBcEFqAWPBXQFWQU9BSEFBAXmBMcEqASJBGkESAQnBAYE5APBA58DfANYAzUDEQPsAsgCowJ/AloCNAIPAuoBxQGfAXoBVAEvAQoB5AC/AJoAdQBQACsABwDk/8D/nP94/1X/Mv8P/+3+y/6p/oj+Z/5H/if+B/7o/cn9q/2N/XD9U/03/Rv9AP3m/Mz8s/ya/IL8avxT/D38KPwT/P/76/vY+8b7tPuk+5T7hPt1+2f7WvtN+0L7Nvss+yL7GfsR+wr7A/v9+vj68/rv+uz66vro+uf65/ro+un66/ru+vH69fr6+gD7BvsN+xX7Hfsm+zD7OvtF+1H7Xvtr+3j7h/uW+6X7tfvG+9j76vv8+w/8I/w3/Ez8Yfx3/I78pPy8/NT87PwF/R79N/1S/Wz9h/2i/b792v32/RP+MP5N/mv+if6n/sb+5f4E/yP/Q/9j/4P/o//D/+T/BAAkAEUAZgCHAKgAyQDqAAsBLQFOAXABkQGzAdUB9gEYAjoCWwJ8Ap0CvgLfAv8CHwM/A14DfgOdA7wD3AP7AxoEOARXBHYElASyBM8E7AQJBSUFQQVcBXcFkgWsBcUF3gX3BQ8GKAY/BlYGbQaDBpkGrwbEBtgG7Ab/BhIHJAc2B0cHWAdoB3gHhweWB6MHsQe9B8kH1AffB+gH8gf6BwIICQgQCBYIHAghCCUIKQgsCC4IMAgxCDIIMQgxCC8ILQgqCCcIIwgeCBgIEggLCAQI/AfzB+kH3wfUB8gHvAeuB6EHkgeDB3QHZAdTB0EHLwcdBwoH9gbhBswGtgagBokGcgZaBkEGKAYOBvQF2QW9BaEFhQVoBUoFLAUNBe4EzgSuBI0EbARKBCgEBgTjA8ADnAN4A1MDLgMFA9UCnQJhAkACcQInA1MEbQWnBYoEigLgAGsAoQDr/3n94/pP+2AAvgdBDFgKlAOB/Zj8IgAoA3QBmvv59RH0LPXA9bvz7PD88Gj17PvlAO8C1wM8BqQKFw9YESAREhDCDxkQqA9ODV4JIwWLAWP+5/rY9uzyGvCF7hHtQerP5b7hluHc52fz7v7pAwz/6/KH5qHgY+OG6yvzDfYM9I7wbe+88QP1vfUT8yzwOfGt9ov7R/kt7iXgm9jI3E7pCPVW+GryneiL4c/gMuZY7zr5iwBEAi39dfM36mPmXulF8H72DPnI9/HzfO4N6CTiKt+X4DDlyOlN7APuSvLf+k4FaQxmDNIFrPzf9KvvEuwV6f3mmea15wHpjOkU6nfs1fE9+UQAzwQwBtcEUQH++631K/Cj7QXv6vJX9h/31fVI9ZD3OPu++7H1AOvx4qzktPBu/+MG6gJt+L7wffFv+J7+A/9T+j/18/NT9239UANTBsUE6v6R9/Py5POv+a4AGgVaBQYCZfyA9ZHun+m+6GHsnfKT+Of8xQBNBtcN+RRSGFoWiBDMCS8E6P+J/Hj61/ri/doBCQQsA7cAaP+JAOkCqATlBeMIEg8gFs0YbRPLB0T8pvbJ9+j73f6q/xAAewEZAxQDCQG0/jf+NgDMA+oHDQyPDwARFw9/Ch8G6AQjBxUKdQpaB9sCKQAfATUFJgplDW4NfQp2BtsDKwS3BhMJNQmrB6EHIQypFHwc/x2aF5sN/wahBxcNNxECEGULHAnNDFAUzRmcGbkVTBPQFBsXhhQqC8v/Hvry/dEHeRCcE0oT3BThGkEiSSU6IeIY4xG3DyoRQxJPEBYMoQhECOMKnQ6BEWESfBBSC6ADXfzN+Vn+vwfqD3IRQgzBBSEE8wj4Dy8THxCNCYIE6gP3BhoLuA6/EQAUBRQwEBoJWQI9ADgESwtSEG0Qng3xDJ8RpRkIH+IcehPLBxb/DPsc+tb6OP7nBWsQBRibFoYLif079mz6GAauD9YPFAeN/H73i/mw/icCFwN6BNgIlQ7gEH0MjgNe/B78iQJtCk4OwwzWCL0GTAgRDCcPew+cDCsHYgBf+h747PvkBEIOTBL+DgMIjQOjBHcIfAksBZ3+VvvM/QQDmQXCAnb8B/c09Zb2VflS/DP/3gBW//j5wfP08XP3PQFGCJAHvwCU+pz6PACnBX0Fjv9a+GL0LPS/9IrzYPGW8Xr25P5BB7YMJA9LEF4RqRGBD0AKNQPH/ND4v/fp+EP7zv2V/8f/8f0m+tD0uO5E6Zvmv+jd71T5wQDTApv/aPoi90P32/hL+FjzTeti5LriJedQ7kPzU/MM8H3tcu4q8oD1H/aN9EHzA/RR9jv4efiT9w/3z/dK+U/6TPrF+aj5Svoz+6/7kPtE+0/7xftH/Hb8T/wj/Db8f/y9/MD8mfx7/Ib8qfy7/Kf8gPxm/GT8avxg/ED8Gfz+++/74fvG+6D7ePtZ+0D7JPsB+9f6rvqL+mv6SPog+vb5zfmo+YT5Xfk0+Qv54/i9+Jj4cfhJ+CL4/PfX97P3jvdp90X3IvcA99/2vfac9nz2XfY/9iL2Bfbp9c31s/Wa9YL1avVT9T71KfUW9QP18vTh9NL0w/S29Kn0nvSU9Iv0g/R89Hb0cfRt9Gr0afRo9Gn0avRt9HD0dfR79IH0ifSS9Jz0pvSy9L/0zfTc9Ov0/PQO9SD1NPVI9V71dPWL9aT1vfXX9fH1DfYp9kb2ZPaD9qP2w/bk9gb3KPdL92/3k/e49973BPgr+FP4e/ij+Mz49vgg+Uv5dvmh+c35+vkn+lT6gvqw+t76Dfs8+2z7m/vL+/z7LPxd/I78v/zw/CL9U/2F/bf96f0b/k3+f/6x/uP+Ff9H/3n/q//d/w4AQAByAKMA1QAGATgBaQGaAcsB/AEsAlwCjQK8AuwCHANLA3oDqAPXAwUEMgRgBI0EuQTmBBIFPQVpBZMFvgXoBREGOwZjBowGswbbBgIHKAdOB3MHmAe9B+EHBAgnCEkIawiMCK0IzQjtCAwJKglICWYJggmfCboJ1QnwCQoKIwo8ClQKawqCCpkKrgrDCtgK7Ar/ChILJAs1C0YLVgtmC3ULgwuQC50Lqgu2C8ELywvVC94L5wvvC/YL/QsDDAgMDQwRDBUMGAwaDBwMHQweDB4MHQwcDBsMGAwWDBIMDgwKDAUM/wv5C/IL6gviC9oL0QvHC70LswunC5wLjwuDC3ULZwtZC0oLOwsrCxsLCwv5CugK1grDCrAKnQqJCnUKYQpMCjYKIAoKCvQJ3QnFCa4Jlgl9CWQJSwkyCRgJ/gjjCMgIrQiSCHYIWgg+CCEIBQjnB8oHrQePB3EHUwc0BxUH9wbXBrgGmQZ5BlkGOQYZBvgF2AW3BZYFdQVUBTMFEQXwBM4ErQSLBGkERwQlBAME4QO/A50DewNZAzcDFAPyAtACrQKLAmgCRgIkAgIC4AG+AZwBegFZATcBFgH0ANMAsQCPAG4ATAArAAkA6f/I/6f/hv9m/0X/Jf8G/+b+x/6o/on+av5L/i3+Dv7w/dL9tP2W/Xj9Wv09/SD9A/3n/Mr8rvyT/Hf8XPxB/Cb8DPzx+9j7vvuk+4v7c/ta+0L7KvsT+/z65frO+rf6ofqL+nX6YPpL+jb6IvoN+vr55vnT+cD5rvmc+Yr5eflo+Vf5Rvk2+Sf5F/kI+fr46/jd+ND4w/i2+Kn4nfiR+IX4evhv+GT4WvhQ+Eb4Pfg0+Cz4JPgc+BT4DfgH+AD4+vf19+/36vfm9+H33ffa99f31PfR98/3zffM98v3yvfJ98n3yffK98r3y/fN98730PfT99X32Pfc99/34/fo9+z38ff29/z3AvgI+A74Ffgc+CP4K/gz+Dv4Q/hM+FX4Xvho+HL4fPiG+JH4m/in+LL4vfjJ+NX44vjv+P34EPky+XL55fmR+lT70vuZ+2/6n/gE94/2rPfs+UL8s/3y/YL9Sv3c/dz+Jf+y/bH6ufe59nb4BfzI/8QCAAWqBkwHFQbdAqT+7/qo+Lf3hPeW95L33PbR9MPxee8m8En0jfkw/P75PfTU7mXt3/BA90T9fgCEAK/++vyW/B/9Ff1b+434w/be98H7LwByAlEB2v2G+oT5PvsC/i//Tv2T+WD3ufmmANMI6g22DUsJZQP0/U75pPV79AP4lgAcC2MSuxKVDOwDIP0o+ij6HPug+3n7+vpm+tj5dvlz+dX5VPqf+qf6tvoa+9n7r/xX/dL9Wf4d/xcAEwHsAaoCdQNlBGwFZwZFBxII5QjHCasKewsyDNkMfg0iDrsOPA+lD/4PThCTEMYQ4RDmENoQwRCZEF4QDhCrDzgPuQ4sDo4N4QwmDGALkgq5CdcI7Af7BgUGDQUSBBYDGAIdASUAM/9E/lz9fPyl+9n6GPpm+cf4T/gk+JH48fmF/BoA1wNcBnwGDQQsAJf8dPqv+Vz52Phx+Or4U/qN+xf7kviC9X/0VveJ/VUEWQjTBwEEcgCBAKgEAQqjDP8KKQe4BD0FygYPBvgBM/3l+6H/agULCMoESP6F+n39SwWzC+MLDgc2Az4FEwyqEccQxgn9Abj+6ABJBRoIcggwCDoJRwttDKcLKgr4CT8L3gv2CccGRAYeC2ITfBkTGfMSEAzICDMJAwqgCNcFgATYBcQH+gbFAlP+BP5MAyoLmxC4ELMMLQjPBWAF5wQ+A1oBDwHYAhsFzwWuBLMDKQVICcMNsg8DDgoKBQZZAywCMAIVAwMETgOX/6z52fSI9B75Rv/EAkQCUwCqAI4E0glMDegNWQ0DDn0QOhNWFHkT6hEMEfoQpBASD2AMfwkzB2IFXwPBANr9fftt+vX61fxb/4oBjwJpAh4C2AJzBAcFbAKV/Gb2t/P69bz6qf1g/ID4BfZx94D7bP6K/cT50/b/9zf95AKYBIQAJ/m48zP09fni/3UAs/pl8z7x4fZOAGIGFgW7/h35w/cb+Rz5J/a98nzy8PXb+aD68Pfn9Kj0RfcH+m76qPj+9kv3NPnW+t/6xvkS+af5//ro+837NPsL+6n7kPwN/fH8rfzF/Ev93/0g/gz+9v0i/ob+3f76/u3+6v4R/0//ev9//3H/bv+E/5//qP+a/4P/dv91/3L/YP9A/x3/AP/n/sr+of5x/j/+Ef7j/a/9df01/fX8tvx2/DL86Puc+1D7BPu2+mX6Efq8+Wf5Evm7+GP4Cfiv91b3/faj9kn27vWV9Tz15PSN9Db04fON8zrz6fKZ8kvy//G28W7xKfHm8KbwafAu8Pbvwu+Q72HvNu8P7+vuyu6t7pTuf+5u7mDuV+5R7lDuU+5a7mXude6I7qDuvO7d7gLvK+9Y74nvv+/47zbwePC+8AfxVfGo8QTyc/IO8/bzTfUO9+f4N/pO+tr4QvaU8xHynvJc9Y35wv1yAPMAIwACAAoCfgV3B0EFIP/S+PP2OPvfAtsIxwlcBjoChwCMAVEDKgROBAIFlQajB5sG0wPMARYD2AdqDX4QzA/bDEoKhAnyCUMK/AmoCZ4JEgnRBuYCT/+t/hoCCwhHDRcP9AyVCJQEtwIWA4cE6AUSB8QIqAtfD1sStBJzD3oJagNRAMgBvQYEDHgOJA24CQAHrwZZCDEKuQraCbsIoQjnCdILRw2sDTsNiAzcC/wKgQkzBy0E1ADv/Y78f/1xAMIDhwUUBZMD9QIlBE0Gxge+B+QGjwZdB7UIiAltCe0I2wh0CT8KnwpzCicKLwqVCv8KGAvnCrQKvQrzChwLDQvaCrEKrQq9CroKlQpgCjcKJAoWCvgJxgmPCWEJPwkdCe4ItQh7CEgIGgjqB7EHdAc3B/8GygaRBlQGFAbWBZsFYAUkBeQEpQRmBCoE7gOwA3EDMwP2AroCfwJDAgcCywGRAVgBHwHmAK4AdwBBAAwA2P+k/3H/P/8O/97+r/6B/lT+KP79/dP9qv2C/Vv9Nv0R/e78zPyr/Iv8bPxP/DL8F/z9++T7zfu3+6L7jvt7+2r7WvtL+z37MPsl+xv7EvsK+wP7/fr5+vb68/ry+vL68/r1+vj6/foC+wj7D/sX+yD7K/s2+0L7Tvtc+2v7evuK+5z7rvvA+9T76Pv9+xP8KfxA/Ff8cPyJ/KL8vPzW/PH8Df0p/UX9Yv1//Z39u/3Z/fj9F/42/lX+df6V/rX+1v72/hf/N/9Y/3n/mv+7/9z//f8dAD4AXwB/AKAAwADhAAEBIQFAAWABfwGfAb4B3AH7ARkCNgJUAnECjQKpAsQC3wL6AhQDLQNGA18DdwOPA6YDvQPTA+kD/gMSBCMEMAQ1BDYEQQR4BPYEsQVhBqgGegZHBq4G0QcHCWQJpQhzB8MG9wbBB5cIGAnhCHUHwwTLAVMAegF9BBsHegfLBRsEdgQxB6sKlwydCzcIVAQTAksC8QPhBJQDXQAb/ZX7Nfwf/lsAlQKtBPgFcAX2AiIAQv8VAacDywMuAAv7jPhP+xACqghYC14JDwWWAZsAfwFwAhYCkQAq/w7/OABeAf8Aw/7z+3z6S/tp/c3+If7q+/T5pPm8+s37p/tz+lX5Nfnr+Yv6bPq9+Tr5WPni+UT6LvrZ+bX59fli+qf6pPqL+p766fpD+3r7ifuW+8L7DfxW/Ib8ofzA/PT8Nf1v/Zj9tv3Z/Qj+Ov5k/oP+nP64/tn++v4S/yP/MP8+/07/Wv9f/1//XP9Y/1P/Sv87/yj/Ev/7/uH+xP6h/nz+VP4p/v39zP2Y/WL9Kf3v/LL8cvww/Oz7pvtf+xf7zfqB+jT65/mZ+Ur5+/ir+Fv4DPi89273H/fR9oX2Ofbv9ab1X/Ua9db0lfRW9Bn03vOn83LzQPMR8+byvvKZ8njyWvJA8iryGPIK8gDy+vH48frxAfIM8hzyL/JI8mTyhfKq8tTyA/M784Tz8/On9Lr1I/eN+F35/vhg9z/1yfPP8yb1z/bd90n48/jN+u79UAF9A5YDAwIlAFL/2f/2AKkBpwF5Ab8BdwIRAywD7wKfAhkCCAG1/zr/gwDyAl4E7gIp//v7Vfx6AK0FugjjCDsIDAkSC5MLVQhlAqb9fv3HAQQHdAkkCEUF5wNXBWYIywoqCwAK7Qg0CbcKJAwTDD4K3AfOBhcI3QroDGoMkQlyBkEFXAbuB4sHYwQjANH9iP/nBFsL3Q/MEJMO4wpwByUFKQQ6BOUEgQV0Ba8E6QMEBAsF3wUzBQwDHQF6Aa0ECwnyC8sLFwnWBe8DAgRWBbEGUwdjB5MHYwiNCSAKJgl4BhADiwAHACkBNwKHATn/gv3+/j0E5QpGDyQPIwvSBXQBvf5U/Rv9nv47AiQHeQuFDfAMuwooCMUFbQMZAWX/Ff8cAEwBMAGU/wb+q/4pAqwGFQmiB40DIgD8/94CIwYUBw8FrAEu/9n+bAC4Am0EygToA6kCGQKFAh4DtwIRAUr/yv7C/+EAsAAN/yL9+fuE+y77I/tr/IH/FQPEBFgDQwCS/hUAswNrBjwG+QM6ApsCFQQaBGoBov3i+7n9WAEWA/AAx/zr+jD+HgX3CqcLDge2AI381Pvo/IL9+Pxi/Pn8lv7U/4r/BP7H/C39Hf8nAd4BJgE4AEgAPAHFAcAAcP44/Dr7T/t1+yT78frL+7X9fP/0/1L/Ef81AOcBDwKV/+D7zvkF+2n+PwHAAWIAzf7W/e/8cvsF+jn6n/yZ/4cAcP44+wj6MvzO/4kB7v+0/Of6vvuG/aj9nPuv+c/6jv9CBRcIIQbRALj70PmP+/H+OgHpAH/+vvs0+jD69/rW++T8rv4kARsDHAP7AGj+kv0F/+EAsAAP/mb7n/sF/6kCJgPq/6v7q/m/+h79vv5V/9v/kABEAOX9dPrK+N76Zf+GAmYBDf2v+c36zv99BPgELwGo/M/6uvuT/PX6qvfk9fH36vydAagDbQMxA4IEsQa9B28GdgOJAL7+0/38/AL8d/vG+2T8Nfzc+pT5XPoB/u4CAwYHBZsA7/tO+oj8YABuAtwAwPz5+Mz3R/my+139+P1m/mz/xABxAc0ANP+c/c38BP1H/o8AegPrBX4GugTZAQwAlgCHAnkD1AFl/r373/ty/iEBsAHJ//b8KPtG+/r8bf/mAdADggSJA0oBA//j/fj9LP6d/db8gf2hAB0FPwjjB0gEzv/t/GX8If2r/ZD9f/01/ob/aAD//4D+M/1U/fP+0gB/AZkAIf9o/sr+b/9Z/5n+Sf5J/xYBFAIfAdD+Ev1j/YP/0QH6Ag8D9ALfAtUB3v6p+qr3Mfg7/DIB9QNOA7QAvv7v/s4AvQJyA8MCZAEvALH/BgDtANoBPgLZAewA/v90/0//Rf8h//f+E/+e/1wAvgBcAID/Mf+GAJoDEgfYCJsH5QPP/4n98/1CANgCYARjBDEDiwFYAFkAvwHhA4AFkQX/A7MBvv+B/pD9cfxi+zv7gfyb/hwA//+P/hz9vfxt/Vz+9P5p/zMASQH5AaYBewBK/6/+ev4O/k/9AP0B/hgAtgE9AcT+c/zo/MgA5wXSCKMHfQNz/+v96v6kAHsBWAE5AbQBMgKdAcD/zv1n/Q3/fQG0ApUB4f5//Pr7f/0ZAKcCZQTTBIkDlQAF/bP6Evvf/RsBlwK4Ad7/E/9JAK8CjwTLBKADRQLbAZoCtQMABOIC6wBs/1T/TgAAAV0Awf6k/SH+zP8gAf8AxP/K/gn/KgAJAecAHACY/9//mwAOAeAAYwAsAHIA5wAZAewApACXANEAFAEkAQAB2gDfAAgBKwErAREB/wAJASMBMwEtARsBEwEbASoBLwEnARsBFwEcASIBIQEZARABDQEPAQ8BCwEDAfsA+AD2APMA7QDlAN4A2gDWANAAyQDBALoAtACuAKcAnwCXAJAAiQCCAHoAcQBpAGEAWQBRAEkAQAA4ADAAKAAfABcADgAGAP//9//u/+b/3f/V/83/xP+8/7P/q/+j/5r/kv+K/4L/ev9z/2v/ZP9c/1X/Tf9G/z//OP8x/yr/I/8c/xX/D/8I/wL//P72/vD+6v7k/t7+2f7U/s7+yf7E/r/+u/62/rL+rf6p/qX+of6e/pr+l/6U/pD+jf6L/oj+hf6D/oH+f/59/nv+ef54/nb+df50/nP+c/5y/nL+cv5x/nL+cv5y/nL+c/50/nX+dv53/nj+ev57/n3+f/6A/oL+hf6H/on+jP6P/pH+lP6Y/pv+nv6i/qX+qf6t/rD+tP64/r3+wf7F/sr+zv7T/tf+3P7h/ub+6/7w/vX++/4A/wX/C/8Q/xb/G/8h/yf/Lf8z/zn/P/9F/0v/Uf9Y/17/ZP9r/3H/eP9+/4X/i/+S/5j/n/+m/6z/s/+6/8D/x//O/9T/2//i/+j/7//2//3/AgAJABAAFgAdACQAKgAxADcAPgBEAEsAUQBYAF4AZABrAHEAdwB+AIQAigCQAJYAnACiAKgArQCzALkAvgDEAMkAzwDUANoA3wDkAOkA7gDzAPgA/QACAQYBCwEQARQBGAEdASEBJQEpAS0BMQE1ATkBPAFAAUQBRwFKAU0BUQFUAVcBWQFcAV8BYQFkAWYBaQFrAW0BbwFxAXMBdAF2AXgBeQF6AXwBfQF+AX8BgAGBAYEBggGCAYMBgwGDAYMBgwGDAYMBgwGDAYIBggGBAYABfwF+AX0BfAF7AXoBeAF3AXUBcwFxAXABbgFsAWkBZwFlAWIBYAFdAVsBWAFVAVMBUAFNAUoBRgFDAUABPQE5ATYBMgEvASsBJwEjAR8BGwEXARMBDwELAQYBAgH9APkA9ADwAOsA5gDiAN0A2ADTAM4AyQDEAL8AugC0AK8AqgClAJ8AmgCVAI8AigCEAH8AeQB0AG4AaABjAF0AVwBSAEwARgBBADsANQAvACkAJAAeABgAEgAMAAcAAQD8//b/8P/q/+T/3//Z/9P/zf/H/8L/vP+2/7D/qv+l/5//mf+U/47/iP+D/33/eP9y/23/Z/9i/13/V/9S/03/SP9C/z3/OP8z/y7/Kf8k/x//Gv8V/xH/DP8H/wL//v75/vT+8P7r/uf+4/7e/tr+1v7R/s3+yf7F/sH+vv66/rb+s/6v/qv+qP6l/qH+nv6b/pj+lf6S/o/+jf6K/of+hf6C/oD+ff57/nn+d/51/nP+cf5v/m3+a/5p/mj+Zv5l/mP+Yv5h/mD+X/5e/l3+XP5b/lv+Wv5a/ln+Wf5Y/lj+WP5Y/lj+WP5Y/ln+Wf5a/lr+W/5c/l3+Xv5e/l/+YP5g/l3+U/49/h7+AP4A/jz+sv4z/2//NP+t/lP+mP5z/1kAmwDv/6z+gP3u/P78Yf3M/Sb+c/6r/sb+1/4G/03/W//Z/uP9IP0//Tn+MP8m//X9hPz9+8T8JP4N/xT/vf7d/sD/6QCkAbUBdwFuAbcB/QHdAUwBlwANALv/cP8M/6X+cP59/pH+Vv62/QL9w/xH/U3+L/9r/xb/zP4g/wMAxACfAH7/GP5f/bD9kP4t/y//+/44/wcAzgC+ALL/ZP7h/Zb+8f/jAM4AAgBj/4b/MACYADsAYv/R/gL/oP/v/6H/Mv9d/0QANwFiAbIA8f/w/7MAbAFJAUsASP8c/+L/4wBLAeAAJgDI//j/UQBLAMf/M/8e/7D/gQAIARkBCQE2AYwBigHVALn/+P4d/+z/lACEAPr/zf+YABwCbgPCAxED/wE+AQUBEQEUAQIB/wAgAVMBhwHOAUkC5gJRAzcDmwLkAYcBnAHZAdoBgwEQAdMA5wAlAVUBXwFPATsBKgEnAUoBrwFIAs4C5wJzAq8BFgEHAX4BHAJyAlcC/QHHAfABYgLJAuQCvgKgAsMCFAM7A/ACRQKjAXQBzAFUApsCcgIWAvUBUAICA5YDowMaA1ACxwHUAWwCLQOeA3sD2QIYAqMBrwEdApMCwQKbAl0CTgJ+ArQCoAIiAm0B5wDeAEwB3QEqAgoCrQF6AbEBMQKbAqICUgL7AeEBAgInAigCCgLwAe8B/wEUAiwCRAJGAgsCkAEMAc0A9wBWAY4BawEUAdsA8AA1AWQBWQEsARcBMgFlAYUBgQFuAW0BigGuAcEBvwG4Ab4B0wHoAe8B6gHkAecB8AH1AfAB5AHYAdEBzAHCAbEBnQGJAXcBZQFQATUBGgH/AOUAygCtAI0AbgBPADIAFAD2/9f/uf+c/4D/Zf9K/zD/GP8B/+z+1/7F/rf+sv66/sz+3/7l/tX+t/6n/rv+7P4S/wH/uP5t/mP+sf4i/2L/RP/g/oL+ZP6M/tP+Cf8P/+L+mv5b/kj+b/63/u3+5f6g/kr+Iv5F/p3+6v73/r7+bf48/kT+bv6N/oX+Xf42/iv+Pf5Y/mT+Xf5O/kb+RP45/hz+//0E/jr+if6+/rX+eP41/hX+G/4t/jP+L/4z/kL+T/5G/iz+G/4p/lD+b/5p/kP+Gf4G/gv+Ff4V/hP+G/4u/jb+Hv7u/cX9yP33/TT+Uv5B/hT+7f3k/fX9D/4k/jL+QP5R/l/+Z/5n/mL+W/5U/kn+Ov4p/hr+Ef4O/g7+EP4Q/g3+Cf4J/hP+Jv47/kP+Ov4k/hT+FP4j/jL+Nf4s/iT+J/4z/j7+Pv42/jD+NP4//kr+TP5G/j7+Pf5C/kr+Uv5X/lr+Xf5f/mH+ZP5n/mz+cP5z/nX+eP58/oD+hP6I/ov+jv6S/pf+m/6e/qL+pv6q/q7+s/63/rr+v/7D/sj+zP7Q/tT+2f7d/uL+5v7r/u/+9P75/v3+Av8H/wv/EP8V/xr/Hv8j/yj/LP8x/zb/O/9A/0T/Sf9O/1P/WP9d/2L/Zv9r/3D/df96/3//hP+J/47/k/+Y/53/ov+n/6z/sf+2/7v/wP/F/8r/z//U/9n/3v/j/+j/7f/y//f//P8AAAQACQAOABMAFwAcACEAJgAqAC8ANAA5AD0AQgBHAEsAUABUAFkAXQBhAGYAagBuAHIAdwB7AH8AhACIAIwAkQCVAJkAngCiAKYAqgCuALIAtgC5AL0AwADEAMgAywDPANIA1gDaAN0A4QDlAOgA7ADvAPIA9gD5APwA/wACAQUBCAEKAQ0BEAETARUBGAEaAR0BHwEiASQBJwEpASwBLgExATMBNQE4AToBPAE+AUABQgFEAUYBSAFKAUsBTQFPAVABUQFTAVQBVQFWAVgBWQFaAVsBXAFdAV4BXwFgAWEBYgFjAWQBZQFlAWYBZwFnAWgBaAFpAWkBagFqAWoBagFqAWoBagFqAWoBaQFpAWkBaQFoAWgBZwFnAWYBZgFlAWUBZAFjAWMBYgFhAWEBYAFfAV4BXQFcAVsBWgFZAVgBVwFWAVQBUwFSAVABTwFNAUwBSgFIAUcBRQFDAUIBQAE+ATwBOgE4ATcBNQEzATEBLwEtASsBKAEmASQBIgEgAR0BGwEZARYBFAERAQ8BDAEKAQcBBQECAQAB/QD6APgA9QDzAPAA7QDrAOgA5QDiAOAA3QDaANcA1QDSAM8AzADJAMYAwwDAAL0AugC3ALQAsQCuAKsAqACkAKEAngCbAJgAlACRAI4AiwCIAIUAgQB+AHsAeAB1AHIAbwBrAGgAZQBiAF8AXABYAFUAUgBPAEwASABFAEIAPwA7ADgANQAyAC8AKwAoACUAIgAfABwAGQAVABIADwAMAAkABgADAAAA/v/7//j/9f/y/+//7P/p/+b/4//g/93/2v/X/9T/0f/O/8v/yP/F/8L/wP+9/7r/t/+1/7L/r/+t/6r/p/+l/6L/oP+d/5v/mP+W/5P/kf+O/4z/iv+H/4X/g/+A/37/fP96/3f/df9z/3H/b/9s/2r/aP9m/2T/Yv9g/17/XP9b/1n/V/9V/1P/Uv9Q/07/Tf9L/0n/SP9G/0X/Q/9B/0D/P/89/zz/Ov85/zj/Nv81/zT/Mv8x/zD/L/8u/y3/LP8r/yr/Kf8o/yf/Jv8l/yT/I/8j/yL/If8h/yD/H/8f/x7/Hv8d/x3/HP8c/xv/G/8a/xr/Gv8a/xn/Gf8Z/xn/Gf8Y/xj/GP8Y/xj/GP8Y/xj/GP8Y/xn/Gf8Z/xn/Gf8a/xr/Gv8b/xv/G/8c/xz/Hf8d/x7/Hv8f/x//IP8h/yH/Iv8j/yP/JP8l/yb/Jv8n/yj/Kf8q/yv/LP8s/y3/Lv8v/zD/Mv8z/zT/Nf82/zf/OP85/zv/PP89/z7/P/9B/0L/Q/9E/0b/R/9I/0r/S/9N/07/T/9R/1L/VP9V/1f/WP9a/1z/Xf9f/2D/Yv9k/2X/Z/9p/2v/bP9u/3D/cf9z/3X/d/94/3r/fP9+/3//gf+D/4X/hv+I/4r/jP+O/4//kf+T/5X/l/+Z/5v/nP+e/6D/ov+k/6b/qP+q/6z/rv+v/7H/s/+1/7f/uf+7/73/v//B/8L/xP/G/8j/yv/M/87/0P/S/9T/1f/X/9n/2//d/9//4f/j/+X/5//p/+v/7f/v//H/8//0//b/+P/6//z//v8AAAAAAgAEAAYABwAJAAsADQAOABAAEgATABUAFwAYABoAHAAdAB8AIQAiACQAJQAnACkAKgAsAC0ALwAxADIANAA1ADcAOAA6ADsAPQA+AEAAQQBDAEQARgBHAEgASgBLAEwATQBPAFAAUQBSAFQAVQBWAFcAWABaAFsAXABdAF4AXwBgAGIAYwBkAGUAZgBnAGgAaQBqAGsAbABtAG4AbwBwAHAAcQByAHMAdAB0AHUAdgB2AHcAeAB4AHkAegB6AHsAewB8AH0AfQB+AH4AfwB/AIAAgQCBAIIAggCCAIMAgwCEAIQAhACFAIUAhQCFAIUAhgCGAIYAhgCGAIYAhgCGAIcAhwCHAIcAhwCHAIcAhwCHAIcAhwCHAIcAhwCHAIYAhgCGAIYAhgCGAIYAhQCFAIUAhQCFAIQAhACEAIMAgwCDAIIAggCCAIEAgQCAAIAAfwB/AH4AfgB9AH0AfAB8AHsAewB6AHoAeQB4AHgAdwB2AHYAdQB0AHQAcwByAHIAcQBwAHAAbwBuAG0AbQBsAGsAagBqAGkAaABnAGYAZQBlAGQAYwBiAGEAYABgAF8AXgBdAFwAWwBaAFkAWABXAFYAVQBVAFQAUwBSAFEAUABPAE4ATQBMAEsASgBJAEgARwBGAEUAQwBCAEEAQAA/AD4APQA8ADsAOgA4ADcANgA1ADQAMwAyADEAMAAvAC4ALQArACoAKQAoACcAJgAlACQAIwAiACEAIAAfAB4AHQAbABoAGQAYABcAFgAVABQAEwASABEAEAAPAA4ADQALAAoACQAIAAcABgAFAAQAAwACAAEAAAAAAP///v/9//z/+//6//n/+P/3//b/9f/0//P/8v/x//H/8P/v/+7/7f/s/+v/6v/p/+j/5//n/+b/5f/k/+P/4v/i/+H/4P/f/97/3v/d/9z/2//a/9r/2f/Y/9f/1//W/9X/1P/U/9P/0v/S/9H/0P/Q/8//z//O/83/zf/M/8v/y//K/8r/yf/J/8j/yP/H/8b/xv/F/8X/xP/E/8P/w//C/8L/wv/B/8H/wP/A/8D/v/+//77/vv++/73/vf+9/7z/vP+8/7z/u/+7/7v/uv+6/7r/uv+5/7n/uf+5/7n/uP+4/7j/uP+3/7f/t/+3/7f/t/+3/7f/t/+2/7b/tv+2/7b/tv+2/7b/tv+2/7b/tv+2/7f/t/+3/7f/t/+3/7f/t/+3/7f/t/+4/7j/uP+4/7j/uP+4/7j/uf+5/7n/uf+5/7r/uv+6/7r/u/+7/7v/u/+8/7z/vP+8/73/vf+9/77/vv++/7//v/+//8D/wP/A/8H/wf/B/8L/wv/C/8P/w//D/8T/xP/F/8X/xv/G/8b/x//H/8j/yP/J/8n/yv/K/8v/zP/M/83/zf/O/87/z//P/9D/0P/R/9H/0v/S/9P/0//T/9T/1P/V/9X/1v/X/9f/2P/Y/9n/2f/a/9r/2//c/9z/3f/d/97/3//f/+D/4P/h/+L/4v/j/+P/5P/l/+X/5v/m/+f/5//o/+j/6f/p/+r/6v/r/+v/7P/t/+3/7v/u/+//8P/w//H/8v/y//P/8//0//X/9f/2//f/9//4//n/+f/6//r/+//7//z//P/9//3//v/+//////8AAAAAAAAAAAEAAgACAAMAAwAEAAQABQAGAAYABwAHAAgACAAJAAkACgAKAAsADAAMAAwADQANAA4ADgAPAA8ADwAQABAAEQARABEAEgASABMAEwATABQAFAAVABUAFQAWABYAFwAXABcAGAAYABgAGQAZABoAGgAaABsAGwAbABwAHAAcAB0AHQAdAB4AHgAeAB4AHwAfAB8AIAAgACAAIQAhACEAIQAiACIAIgAiACIAIgAjACMAIwAjACMAIwAjACQAJAAkACQAJAAkACUAJQAlACUAJQAlACUAJQAmACYAJgAmACYAJgAmACcAJwAnACcAJwAnACcAJwAnACcAJwAnACcAJwAnACcAJwAnACcAJwAnACcAJwAnACcAJwAnACcAJwAnACcAJwAnACcAJwAnACcAJwAmACYAJgAmACYAJgAmACYAJQAlACUAJQAlACUAJAAkACQAJAAkACQAJAAkACMAIwAjACMAIwAiACIAIgAiACIAIQAhACEAIQAhACAAIAAgACAAIAAfAB8AHwAfAB4AHgAeAB4AHQAdAB0AHQAcABwAHAAcABwAGwAbABsAGwAaABoAGgAZABkAGQAYABgAGAAYABcAFwAXABcAFgAWABYAFQAVABUAFAAUABQAEwATABMAEwASABIAEgARABEAEQARABAAEAAQAA8ADwAPAA4ADgAOAA0ADQANAAwADAAMAAsACwALAAoACgAKAAoACQAJAAkACAAIAAgABwAHAAcABgAGAAYABQAFAAUABQAEAAQABAADAAMAAwACAAIAAgABAAEAAAAAAAAAAAAAAAAAAAAAAP///////////v/+//7//v/9//3//f/8//z//P/8//v/+//7//v/+//6//r/+v/6//n/+f/5//j/+P/4//j/9//3//f/9v/2//b/9v/2//X/9f/1//X/9f/0//T/9P/0//P/8//z//L/8v/y//L/8v/y//H/8f/x//H/8f/x//H/8f/w//D/8P/w//D/8P/v/+//7//v/+//7//v/+//7//v/+//7v/u/+7/7v/u/+7/7f/t/+3/7f/t/+3/7f/t/+3/7f/t/+z/7P/s/+z/7P/s/+z/7P/s/+z/6//r/+v/6//r/+v/6//r/+v/6//r/+v/6//r/+v/6//r/+v/6//r/+v/6//r/+v/6//r/+v/6//r/+v/6//s/+z/7P/s/+z/7P/s/+z/7P/s/+z/7P/s/+z/7P/s/+z/7P/s/+z/7P/s/+z/7P/s/+z/7P/s/+z/7P/s/+z/7P/t/+3/7f/t/+3/7f/u/+7/7v/u/+7/7v/u/+7/7//v/+//7//v/+//7//v//D/8P/w//D/8P/w//D/8f/x//H/8f/x//H/8f/x//H/8f/x//L/8v/y//L/8v/z//P/8//z//P/9P/0//T/9P/0//T/9P/0//X/9f/1//X/9f/2//b/9v/2//b/9//3//f/9//3//f/9//3//f/+P/4//j/+P/4//n/+f/5//n/+v/6//r/+v/6//r/+v/6//r/+//7//v/+//7//v//P/8//z//P/8//3//f/9//3//f/9//7//v/+//7//v/+//7//v///////////wAAAAAAAAAAAAAAAAAAAAAAAAAAAAAAAAAAAAABAAEAAQABAAEAAgACAAIAAgADAAMAAwADAAMAAwADAAMAAwADAAMABAAEAAQABAAEAAQABQAFAAUABQAFAAYABgAGAAYABgAGAAYABgAGAAYABgAGAAYABwAHAAcABwAHAAcACAAIAAgACAAIAAgACAAIAAgACAAIAAgACAAIAAgACAAJAAkACQAJAAkACQAJAAkACQAJAAkACQAJAAkACQAJAAkACQAJAAoACgAKAAoACgAKAAoACwALAAsACwAKAAoACgAKAAoACgAKAAoACgALAAsACwALAAsACwALAAsACwALAAsACwALAAsACwAKAAoACgAKAAoACwALAAsACwALAAsACwALAAsACwALAAsACwALAAsACwALAAsACwALAAsACwALAAsACwALAAsACwALAAsACwALAAsACwAKAAoACgAKAAoACgAKAAoACgAKAAoACgAKAAoACgAKAAoACgAJAAkACQAJAAkACAAIAAgACAAIAAgACAAIAAkACQAJAAkACQAJAAkACQAIAAgACAAIAAgACAAIAAcABwAHAAcABwAHAAcABwAHAAcABwAHAAcABwAGAAYABgAGAAUABQAFAAUABQAFAAUABQAFAAYABgAGAAYABgAGAAUABQAFAAUABQAEAAQABAAEAAQABAAEAAQABAAEAAQABAAEAAQAAwADAAMAAwADAAIAAgACAAIAAgACAAEAAQABAAIAAgACAAIAAgACAAIAAgACAAEAAQABAAEAAAAAAAAAAAAAAAAAAAAAAAAAAAAAAAAAAAAAAAAAAAAAAAAAAAAAAAAAAAAAAAAA///////////////////////////////////////////+//7//v/9//3//f/9//3//f/9//3//f/+//7//v/+//7//v/+//7//f/9//3//f/8//z//P/8//z//P/8//z//P/8//z//f/9//3//f/9//z//P/8//z//P/7//v/+//7//v/+//7//v/+//8//z//P/8//z//P/8//z/+//7//v/+//7//r/+v/6//r/+v/6//r/+//7//v/+//7//v/+//7//v/+//7//v/+v/6//r/+v/6//r/+v/6//r/+v/6//v/+//7//v/+//7//v/+//7//v/+v/6//r/+v/6//r/+v/6//r/+v/6//v/+//7//v/+//7//v/+//7//v/+//6//r/+v/6//r/+v/6//r/+v/7//v/+//7//z//P/8//z//P/8//v/+//7//v/+//6//r/+v/6//r/+//7//v/+//8//z//P/8//z//P/8//z//P/7//v/+//7//v/+//7//v/+//7//z//P/8//3//f/9//3//f/9//3//f/9//z//P/8//z//P/8//z//P/8//z//f/9//3//v/+//7//v/+//7//v/+//3//f/9//3//f/9//3//f/9//3//f/+//7//v////////////////////7//v/+//7//f/9//3//v/+//7//v//////AAAAAAAAAAAAAAAAAAAAAAAAAAAAAAAA//////////////////8AAAAAAAAAAAAAAAAAAAAAAAAAAAAAAAAAAAAAAAAAAAAAAAAAAAAAAAAAAAAAAAAAAAEAAQABAAEAAQABAAEAAQABAAAAAAAAAAAAAAAAAAAAAAAAAAAAAAABAAEAAgACAAIAAwADAAMAAgACAAIAAgABAAEAAAAAAAAAAAAAAAAAAQABAAEAAgACAAIAAwADAAMAAwADAAIAAgACAAEAAQABAAEAAAABAAEAAQABAAIAAgADAAMABAAEAAQABAAEAAQAAwADAAMAAgACAAEAAQABAAEAAQABAAIAAgADAAMABAAEAAQABAAFAAQABAAEAAQAAwADAAIAAgACAAEAAQABAAIAAgACAAMAAwAEAAQABAAEAAUABAAEAAQAAwADAAIAAgACAAEAAQABAAEAAQACAAIAAwADAAMABAAEAAQABAAEAAQABAADAAMAAgACAAEAAQABAAEAAQABAAEAAgACAAMAAwAEAAQABAAEAAQABAAEAAMAAwACAAIAAQABAAEAAAAAAAEAAQABAAIAAgADAAMABAAEAAQABAAEAAQAAwADAAIAAgABAAEAAAAAAAAAAAAAAAEAAQACAAIAAwADAAQABAAEAAQABAADAAMAAgACAAEAAAAAAAAAAAAAAAAAAAAAAAEAAgACAAMAAwADAAQABAADAAMAAwACAAEAAQAAAAAAAAAAAAAAAAAAAAAAAAAAAAEAAgACAAIAAwADAAMAAgACAAEAAQAAAAAAAAD///////////////8AAAAAAAABAAIAAgADAAMAAwADAAIAAgABAAAAAAAAAP/////+//7//v/+//////8AAAAAAAABAAEAAgACAAIAAgABAAEAAAAAAAAA///+//7//f/9//7//v/+////AAAAAAAAAQACAAIAAgACAAIAAQABAAAAAAD///7//v/9//3//f/9//3//v/+////AAAAAAAAAQABAAEAAQABAAAAAAAAAP///v/+//3//P/8//z//P/9//7//v///wAAAAABAAEAAgACAAIAAQABAAAAAAD///7//f/8//z//P/8//z//P/9//7///8AAAAAAAABAAEAAQABAAEAAAAAAP/////+//3//P/7//v/+//7//z//f/+////AAAAAAAAAQABAAEAAQABAAAAAAAAAP///f/9//z/+//7//v/+//8//z//f/+////AAAAAAEAAgACAAIAAQABAAAAAAD///7//f/8//v/+//7//v/+//8//3//v///wAAAAABAAIAAgACAAIAAQAAAAAA///+//3//P/7//v/+v/7//v//P/9//7///8AAAAAAQACAAIAAgACAAIAAQAAAAAA/v/9//z/+//7//r/+v/7//z//f/+////AAAAAAEAAgADAAMAAwACAAIAAQAAAP///v/9//z/+//6//r/+//7//z//f///wAAAAACAAMAAwAEAAQAAwADAAIAAAAAAP///f/8//v/+v/6//r/+//8//3//v///wAAAQACAAMABAAEAAQAAwADAAEAAAAAAP7//f/8//v/+v/6//v/+//8//7///8AAAEAAwAEAAUABQAFAAUABAADAAIAAAD///7//P/7//v/+v/6//v//P/9//7/AAABAAIABAAFAAYABgAGAAUABAADAAIAAAD///3//P/7//r/+v/6//v//P/9////AAABAAMABAAFAAYABgAGAAUABAADAAEAAAD///3//P/7//r/+v/7//v//P/+/wAAAQADAAQABgAHAAcACAAHAAYABQADAAIAAAD///3/+//6//r/+f/6//v//P/+/wAAAQADAAQABgAHAAgACAAIAAcABQAEAAIAAAD///3/+//6//n/+f/6//v//P/+/wAAAQADAAUABgAIAAgACQAIAAcABgAEAAIAAAD///3/+//6//n/+f/5//r//P/+/wAAAQADAAUABwAIAAkACQAJAAgABwAFAAIAAAD///3/+//5//j/+P/5//r/+//9////AQADAAUABwAJAAoACgAKAAkABwAFAAMAAQD///3/+//5//j/+P/4//n/+v/8////AAADAAUABwAJAAoACwALAAoACAAGAAQAAQD///3/+//5//f/9//3//j/+f/7//3/AAACAAUABwAJAAoACwALAAsACQAHAAUAAgAAAP3/+//5//f/9v/2//b/+P/5//z///8BAAQABgAJAAoADAAMAAwACgAJAAYAAwAAAP7/+//5//f/9f/1//X/9v/4//r//f8AAAIABQAIAAoADAANAA0ADAAKAAgABQACAAAA/P/5//f/9f/0//T/9P/2//j/+v/+/wAAAwAHAAkADAANAA0ADQAMAAoABwAEAAEA/v/7//j/9f/0//P/8//0//b/+P/7////AgAFAAkACwANAA4ADwAOAAwACgAHAAMAAAD8//n/9v/z//L/8f/x//P/9f/4//v///8CAAYACQAMAA4ADwAPAA4ADAAKAAYAAgD///v/9//0//L/8P/w//D/8v/1//j//P8AAAMABwALAA4AEAAQABAADwANAAoABgACAP7/+v/2//P/8P/v/+7/7//x//P/9//7/wAAAwAIAAsADgARABIAEQAQAA4ACgAGAAIA/v/6//X/8v/v/+3/7f/u/+//8v/2//v/AAADAAgADAAQABIAEwATABIADwAMAAcAAgD+//n/9f/x/+7/7P/r/+z/7v/x//X/+v///wMACAANABAAEwAUABUAEwARAA0ACQADAP//+v/0//D/7f/q/+n/6v/s/+//8//4//3/AgAIAA0AEQAUABYAFgAVABMADwALAAUAAAD7//X/8P/s/+n/6P/o/+n/7P/w//b/+/8BAAcADAARABUAFwAYABgAFgASAA4ACAACAPz/9v/x/+z/6P/m/+b/5//p/+3/8v/4////BQALABEAFQAYABoAGgAZABYAEQAMAAUA///5//L/7f/o/+X/5P/k/+b/6v/v//X/+/8CAAkADwAVABkAHAAdABwAGgAWABAACgACAPz/9f/u/+n/5P/i/+H/4v/l/+n/7//2//7/BQAMABMAGAAcAB8AHwAeABsAFgAPAAgAAAD5//L/6//l/+H/3//f/+H/5f/q//H/+P8AAAgAEAAXABwAIAAiACIAIAAcABYADwAHAP//9v/u/+f/4v/e/9z/3P/f/+P/6f/x//n/AQAKABMAGgAgACMAJQAlACIAHgAXAA8ABgD+//X/7P/l/9//2//Z/9r/3f/i/+j/8f/6/wMADAAVAB0AIwAnACkAKAAlACAAGQAQAAYA/f/z/+r/4v/b/9f/1f/W/9n/3//m/+//+f8DAA0AFwAfACYAKgAsACwAKQAjABwAEgAIAP7/8//p/+D/2f/U/9L/0v/V/9v/4//s//f/AgANABgAIQApAC4AMAAwAC0AJwAgABYACwAAAPT/6f/f/9f/0f/O/87/0f/W/97/6P/0/wAADAAXACIAKwAxADQANQAyAC0AJQAbAA8AAgD2/+r/3//V/87/yv/J/8v/0P/Y/+P/7//8/wgAFQAhACsAMwA4ADoAOAA0ACwAIgAVAAgA+//t/+D/1f/N/8f/xP/F/8n/0f/b/+f/9f8DABEAHwArADUAOwA/AD8AOwA0ACoAHgAQAAEA8v/k/9f/zP/E/7//vv/B/8f/0f/d/+z/+/8KABoAKAA0AD0AQwBFAEQAPgA1ACkAGwALAPv/6v/b/83/wv+7/7f/t/+8/8T/z//e/+7///8QACEAMAA9AEcATQBOAEwARQA7AC4AHgAMAPv/6f/Y/8n/vf+1/7H/sf+1/73/yf/Y/+j/+v8LAB0ALQA6AEQASgBMAEoARAA7AC4AHwAOAP3/7P/c/87/xP+8/7n/uf++/8b/0v/g//D/AAAQACAALgA6AEIARgBHAEMAPAAxACMAFAADAPP/4//U/8j/wP+6/7n/vP/C/83/2v/p//r/CgAbACoANwBBAEcASgBIAEIAOAAsABwACwD6/+j/2P/K/77/tv+z/7P/uP/B/83/3P/t/wAAEgAjADMAQABKAFAAUQBOAEcAOwAtABwACQD2/+P/0v/D/7f/r/+s/63/sv+8/8r/2//t/wAAFAAnADgARgBQAFYAVwBTAEsAPwAwAB0ACQD2/+L/z/+//7P/q/+n/6j/rv+4/8f/2P/s/wAAFAAoADkASABSAFgAWgBWAE4AQgAyAB8ACgD2/+H/zv++/7H/qf+l/6b/rP+3/8X/1//r/wAAFQApADsASgBUAFsAXABYAFAAQwAyAB8ACgD1/+D/zf+8/6//p/+j/6T/qv+1/8T/1v/r/wAAFgAqAD0ATABXAF0AXwBbAFIARQA0ACAACgD1/9//y/+5/6z/o/+f/6D/p/+y/8H/1P/q/wAAFgAsAD8ATwBbAGIAYwBfAFYASQA3ACMADAD2/9//yf+3/6n/n/+a/5v/of+t/73/0P/m//7/FQAsAEAAUQBeAGYAaABlAFwATwA9ACgAEAD5/+H/yv+2/6f/nP+W/5b/m/+m/7b/yv/h//n/EQApAD8AUgBgAGkAbQBrAGMAVgBEAC4AFgD+/+T/zf+3/6b/mf+S/5H/lf+f/6//wv/a//P/DAAlAD0AUQBhAGwAcQBwAGoAXQBMADYAHgAEAOr/0f+6/6f/mP+P/4z/j/+Y/6f/uv/R/+v/BQAfADkATwBhAG4AdQB2AHEAZQBVAEAAJwAMAPL/1/++/6n/mP+N/4f/iP+Q/53/sP/H/+H//f8YADIASwBfAG8AeAB7AHgAbwBfAEsAMgAXAPz/3//F/63/mv+M/4T/gv+I/5P/pf+7/9X/8f8NACoARABbAG0AegCAAH8AeABqAFcAPwAkAAYA6v/N/7P/nf+M/4H/ff9//4j/mP+t/8f/4/8BAB8APABVAGsAegCEAIYAggB2AGUATgAzABUA9//Y/7z/o/+O/4D/eP93/33/i/+e/7b/0//y/xEAMABMAGUAeACGAIwAiwCDAHQAXwBFACcABwDo/8n/rf+U/4L/dv9x/3P/ff+O/6X/wP/f/wAAIAA/AFsAcwCEAI8AkwCOAIMAcABYADsAGwD6/9n/uf+d/4f/dv9s/2r/cP99/5H/q//J/+v/DAAuAE4AaQCAAI8AmACYAJEAggBtAFIAMgAQAO7/y/+s/5D/e/9s/2X/Zf9u/37/lf+y/9P/9v8ZADsAWwB2AIsAmQCgAJ4AkwCCAGkASwApAAUA4v++/5//hP9v/2L/Xf9g/2v/fv+Y/7f/2/8AACQARwBnAIIAlgCjAKcAowCWAIIAZwBGACIA/f/X/7P/k/94/2X/Wf9V/1v/aP9+/5r/vP/h/wcALgBSAHIAjQChAKwArgCoAJkAgwBlAEMAHAD2/87/qf+J/27/W/9Q/07/Vf9l/33/m/+//+b/DgA2AFsAfACXAKoAtAC2AK4AnQCEAGUAQAAYAO//xv+g/3//ZP9R/0f/Rv9P/2D/ev+b/8D/6v8TAD0AYwCFAKAAswC9AL4AtQCjAIgAZwBAABYA7P/B/5r/d/9c/0n/Pv8+/0j/Wv92/5j/wP/r/xYAQQBpAIwAqAC8AMYAxwC9AKoAjgBrAEIAFgDq/77/lf9x/1T/QP81/zX/P/9S/2//kv+8/+n/FgBDAG0AkgCvAMQAzwDQAMYAsgCVAHEARwAZAOv/vP+R/2z/Tf84/yz/K/81/0n/Zv+L/7X/5P8TAEMAbwCWALUAzADYANoA0AC9AJ8AegBPAB8A7/++/5H/af9I/zH/JP8h/yr/Pf9b/4D/rP/c/w4APwBuAJgAugDSAOEA5ADcAMkArACGAFoAKQD3/8T/k/9p/0X/K/8b/xf/Hv8w/03/cv+f/9H/BAA5AGoAlwC8ANgA6QDvAOkA2AC7AJYAaQA2AAEAzP+Z/2v/RP8m/xP/DP8Q/yH/PP9h/47/wf/4/y4AYgCSALsA2wDwAPoA9wDoAM0AqAB7AEgAEQDZ/6P/cf9G/yT/DP8B/wL/D/8p/03/ev+t/+X/HgBWAIoAtwDcAPYABAEFAfkA4gC/AJIAXgAmAOz/sv98/0z/Jf8I//j+9P7+/hT/Nf9h/5X/zv8JAEQAfACvANkA+AAMARIBCwH3ANcArAB5AEAAAwDH/4z/V/8q/wj/8f7n/uz+/f4c/0X/eP+x/+//LQBpAKEA0QD3ABEBHgEdAQ4B8gDKAJgAXwAgAOH/o/9o/zX/C//u/t3+2v7m/gD/Jv9W/4//zv8OAE8AjQDDAPAAEgEnAS0BJQEPAesAvACEAEUAAwDB/4H/R/8W//D+1/7M/tD+4/4E/zH/aP+n/+r/LQBwAK0A4gANASoBOQE6ASsBDQHjAK0AbwArAOb/of9h/yf/+P7W/sL+vf7H/uH+Cf88/3n/vf8DAEoAjgDMAP8AJwFAAUsBRQEwAQwB2wCgAFwAFADM/4X/RP8L/97+v/6v/rD+wP7g/g3/R/+J/9L/HABlAKoA6AAaAT8BVQFbAVABNQELAdQAkwBLAAAAs/9q/yn/8f7F/qn+nf6i/rj+3f4Q/0//l//k/zEAfQDEAAEBMwFWAWkBagFbATsBDAHQAIoAPQDu/57/U/8Q/9j+rv6U/ov+lP6u/tj+Ef9V/6H/8v9DAJIA2gAZAUoBawF8AXsBZwFDAQ8BzgCEADIA3/+N/z//+/7C/pn+gP56/oX+o/7R/g7/V/+n//z/UQCjAO4ALQFfAYABjwGLAXUBTQEVAdAAgQAsANX/f/8u/+j+rv6E/mz+Z/50/pX+x/4I/1T/qf8BAFsAsAD+AEABcwGUAaMBnwGGAVwBIQHYAIUAKwDQ/3b/Iv/Y/pz+cf5Y/lP+Yf6E/rj+/P5M/6X/AgBgALkACgFPAYUBqAG4AbMBmgFuATEB5QCOADAA0P9y/xr/zP6N/l7+Q/49/kv+bv6k/uv+Pv+b//z/XgC8ABIBWwGUAbsBzQHKAbIBhQFGAfcAnQA7ANj/dP8X/8T+gP5O/i/+Jv4z/lX+i/7T/in/if/v/1UAuQAUAWMBoQHNAeMB4wHMAaEBYQERAbUATwDn/37/G//C/nj+QP4c/g7+GP44/m3+tf4M/3D/2v9FAK4AEAFlAasB3AH4Af0B6wHBAYMBMwHUAGsA/v+Q/yb/x/51/jX+Cv72/fr9Fv5J/o/+5/5N/7r/KwCbAAQBYQGvAekBDAIYAgsC5wGrAVwB/QCSAB8ArP88/9T+ef4w/vz94P3c/fL9H/5j/rr+IP+R/wYAfADtAFQBqwHvAR0CMgItAg8C2QGNAS4BwgBMANP/XP/r/ob+Mv70/cz9v/3L/fL9MP6E/ur+XP/X/1IAzAA8AZ4B7gEoAkgCTwI6AgsCxQFpAf0AhQAGAIj/Dv+e/j7+8/2+/aT9pf3C/fn9R/6q/hz/mf8bAJwAFwGGAeMBKwJaAm4CZQJBAgMCrQFDAcsASQDE/0H/xf5Y/v39uv2Q/YP9kv29/QP+YP7Q/k7/1f9dAOIAXgHKASICYQKFAo0CdwJEAvcBkwEdAZkADgCD//z+gf4W/sH9hf1m/WX9gf27/Q/+ef71/n7/DACbACQBnwEJAlsCkwKtAqkChgJGAuwBewH5AGsA2f9I/77+Qv7a/Yr9Vv1A/Ur9c/25/Rr+kP4Y/6r/QADUAGAB3AFDApECwQLTAsQClQJJAuIBZgHZAEIAqP8R/4T+CP6h/Vb9KP0b/S/9Y/21/SH+o/41/9H/bgAIAZYBEwJ5AsMC7gL3At8CpgJPAt0BVgG/AB8Afv/h/lH+0/1t/SX9/Pz2/BL9UP2s/SP+r/5L//D/lQA0AccBRgKrAvMCGQMdA/0CuwJbAt8BTQGtAAQAW/+4/iT+o/09/fb80fzQ/PL8OP2d/R3+s/5Z/wUAsgBZAfABcgLaAiEDRQNEAx8D1gJtAukBTgGkAPT/Qv+Y/v79ef0R/cn8pfyn/M78Gv2G/Q7+rf5c/xEAxwB0ARICmgIEA00DcQNvA0YD+QKJAv0BWgGoAO7/NP+C/uD9Vf3o/J38ePx6/KT88/xl/fT9m/5S/xAAzwCGASwCugIrA3gDnwOeA3QDIwOwAh4CcwG4APb/Mv92/sv9OP3E/HP8SvxK/HP8xPw5/c39e/46/wEAygCLATsC0wJMA6EDzQPQA6gDWAPiAksCmwHYAAsAPv94/sL9JP2m/Ez8G/wV/Dv8ivwA/Zj9S/4R/+P/tQCBAT0C4QJmA8YD/AMGBOQDlgMhA4kC1AEKATQAXP+K/sf9HP2Q/Cr87vve+/z7R/y7/FP9Cf7W/rD/jQBmATEC4wJ3A+UDKAQ+BCUE3gNtA9UCHgJPAXEAjv+v/t39Iv2F/A/8xPum+7n7+vto/P78tf2H/mj/UQA3AREC1QJ7A/sDTwR1BGoELwTFAzIDfAKpAcQA1//p/gf+Ov2K/P/7oPtx+3P7pvsK/Jn8Tv0h/gn//P/wANoBsgJtAwMEbQSoBLAEhQQpBJ8D7QIbAjABOQA//0v+af2j/AD8iftC+y77T/ui+yb81Pyl/ZD+jP+MAIgBdQJHA/cDfATRBPIE3QSUBBgEcAOiArYBuACx/6z+tf3V/Bj8hPsg+/D69/o1+6f7SPwS/fz9/f4JABYBGQIFA9IDdgTqBCoFMgUCBZsEAwQ/A1cCVQFEADD/I/4q/U78mfsT+8L6qfrJ+iL7r/ts/FD9Uf5l/4AAlwGeAooDUQTpBE4FeQVqBSEFoATtAxADEQL6ANr/uf6k/an80Psj+6r6avpm+p76D/u2+4z8h/2d/sP/7AANAhkDBATGBFQFqwXFBaEFQQWoBN0D6QLUAasAev9O/jL9NPxd+7f6SfoY+iX6cfr5+rb7ovyz/d3+EwBLAXUChwN0BDIFuQUEBg8G2QVlBbgE1wPNAqUBaQAq//H9zfzL+/T6Uvrs+cb54vk/+tr6rPus/NH9Df9UAJkBzwLnA9cElQUYBlsGWwYXBpMF0wTfA8IChwE6AOv+pv14/G77lPrz+ZH5c/ma+QX6r/qS+6T82/0q/4EA1QEXAzkEMAXxBXMGsgarBl0GzAX+BPoDywJ+ASAAwf5t/TP8H/s/+pr5OPkd+Ur5vvl0+mX7h/zP/S//lwD8AUwDfAR9BUUGzAYMBwMHsAYWBjwFKwTtAo8BIACw/kv9Afzg+vT5Rvne+MH47/ho+Sb6IftR/Kf9GP+SAAgCawOqBLoFjwYgB2gHYgcPB3IGkQV2BCsDvgE+ALv+Q/3m+7P6t/n7+If4YfiL+AL5wvnE+v37Yf3h/m0A9wFuA8IE5gXNBm8HwwfIB3sH4Qb+Bd0EiQMOAn0A5/5a/ef7nvqL+br4NPj/9xz4i/hI+Uv6ivv4/Ib+JADDAVEDvgT7BfsGswcdCDMI9AdjB4UGZAUJBIQC5AA6/5b9Cfyk+nb5ivjq9533p/cG+Lj4tvn1+mn8A/6z/2cBDgOXBPIFEQfoB28Inwh3CPcHJQcJBq4EIgN1Abj//P1T/M/6fvlw+K73Qfcu93X3FPgE+T36svtU/RP/2wCeAkYExQUJBwYIsggFCf0ImAjbB80GeQXsAzYCZwCU/s38Jvuv+Xf4i/f19rv23/Zh9zv4ZPnS+nb8QP4bAPgBwgNoBdcGAgjcCFwJfgk/CaIIrAdoBuEEKANNAWX/gP2z+xH6qviM98P2WPZO9qf2X/dv+Mz5avs4/SP/FwECA9EEcAbPB+AImAnvCeIJcAmfCHYHAAZNBG0CcgBz/oH8sfoW+b/3uvYT9s/18vV79mX3pvgy+vr77P30//0B9QPGBV8HrgimCT4KcAo4CpkJmQhBB6AFxQPCAa3/mf2c+8n5NPjr9v71dPVU9Z/1UvZo99T4ivp3/Ir+rADJAswEoQY0CHYJWgrXCucKigrECZsIGgdSBVMDMQED/9z80/r8+Gv3LvZS9eH03vRL9ST2X/fy+Mz62/wM/0YBdgOGBV8H8AgqCv4KZgtcC+EK+QmtCAkHHgX/AsEAev5A/Cr6Tfi69oP1tPRV9Gn08fTn9UL39fjv+h39af+8AQAEHgYACJUJywqXC/EL1AtCC0AK1wgWBw0F0QJ4ABn+yvuk+bv3I/br9CD0y/Pu84j0lPUJ99b47Po2/Zz/BwJhBJEGgggfCloLJgx6DFMMswueCiEJSAcmBdACXADl/X/7RPlL96X1ZfSW80HzafMN9Cf1rfaP+Lz6Hv2e/yIClATbBuAIjgrWC6sMBA3dDDgMGguPCaUHbwUCA3UA5P1l+xH5APdG9fPzFvO38tryffOc9Cv2GvhZ+tD8aP8GApQE9gYVCd0KPAwkDY0NcQ3SDLYLJgozCO4FbQPKAB/+g/sR+eL2CvWb86XyMPJB8tny8PN+9XP3vflF/PP+qwFWBNkGGgkFC4UMjQ0RDg0OgQ1xDOgK9AioBhoEYgGd/uL7Tvn59vr0ZfNJ8rHxpPEi8ifzqPSY9uX4d/s3/gkB1AN7BuUI+gqnDNoNiA6qDj4OSA3SC+kJngcJBUICZP+K/M/5T/ch9VrzDfJF8QvxYPFD8qvzivXP92T6Mf0ZAAMD0QVqCLIKlQwADuYOPA8BDzUO4AwPC9IIQAZwA34Ahv2j+vP3jvWM8wDy+vCD8KHwUfGP8k70f/YL+dv71f7aAdEEmgcdCkAM7w0aD7UPug8pDwYOXgw+CrsH7QTvAd3+1Pvx+FD2CvQ18uLwH/Dz72DwYfHv8vr0b/c3+jf9UgBtA2kGKQmUC5ENDw/+D1YQEhA2D8kN2At2CbgGugOWAG39Wfp59+n0wfIW8ffvb++F7zbwfvFP85r1SPhB+2j+ngHIBMYHfArQDKwO/g+6ENgQVhA6D44NYQvHCNoFswJz/zb8Gvk/9r7zr/En8DPv3u4p7xTwlPGe8x32+vga/GH/rgLkBeQIkgvVDZYPxRBYEUcRlBBGD2cNCQtDCC4F5wGO/kD7HfhC9czy0PBh747uXu7T7unvlvHL83P2dvm3/BgAeQO8BsEJbAykDlUQbRHiEbER2xBmD2IN3wr2B8IEYAHw/ZL6ZfeG9BLyH/C/7v/t5u127qrvdvHL85L2sfkN/YQA+QNLB1kKCQ1AD+sQ+RFgEh0SMhGmD4kN7QrrB58EJgGi/TL69vYO9JLxnO897oLtcu0N7lDvLfGU8272o/kT/Z8AJwSKB6gKZQ2nD1oRbBLVEpASoBEMEOQNOwsqCMwEQQGq/Sb61/bc80/xSe/c7Rbt/uyU7dXutPAg8wP2Q/nC/F8A+wNzB6gKfA3VD50RxRJAEwoTJhKbEHcOzgu4CFEFuAEQ/nf6D/f581DxLO+i7cDsjuwN7TruCvBt8kz1jvgV/MD/bwP/BlEKRg3CD68R+xKaE4cTwRJQEUEPpwyYCTEGkQLZ/ir7pvdt9J3xT++Y7YjsKex+7IXtNO988Un0gfcH+7r+egIkBpgJtgxhD4ERAxPZE/sTZxMkEj0QwQ3JCm4HzwMMAEr8p/hG9UXywO/N7X7s3+v268PsPe5Y8AHzIPaY+Uv9FwHaBHMIwAujDgQRyxLpE1QUCBQIE1wREw9CDAIJcQWuAdz9G/qP9lfzkPBU7rXsxOuJ6wXsNe0N737xcvTO93T7RP8ZA9UGVAp3DSIQPRK1E30UjRTlE4wSjBD4DeYKcge8A+T/DPxW+OT01vFF70nt9OtR62frNey07dbviPKz9Tv5//zdALUEZAjJC8UOPhEeE1QU1RSeFK4TEBLRDwUNxQkuBl8CfP6l+v32pPO58FXujexy6w3rYets7CXuffBe86/2U/oq/hAC5gWHCdUMsg8EErcTvBQKFZ4UfBOuEUMPUQzzCEQFaAF//av5D/bK8vnvte0S7B/r4+ph65XsdO7u8OzzVfcK++z+1gKoBkEKfw1HEIASFxT+FC0VoRRhE3YR8g7rC3sIwQTdAPL8IPmK9VDyju9b7cvr7OrG6lnroeyS7hzxKPSc91n7P/8rA/wGkQrJDYoQuhJHFCMVRxWxFGcTdBHpDtwLZwipBMMA1vwE+W/1NfJ070Lts+vU6q3qQOuH7Hfu//AK9Hz3Ofsf/wwD3wZ3CrQNexCzEkgULxVdFdMUlROtESwPJwy6CAEFHQEw/Vr5vvV68qvvau3I69XqmeoW60fsIu6X8JHz9vap+or+dwJQBvIJPg0ZEGkSGhQfFW4VBBXmEx0SuA/NDHMJyAXsAQD+JPp79iPzOvDY7RLs9+qQ6uHq5uuY7ejvwfIM9qv5gf1rAUoF/AhgDFsP0xGyE+kUbRU6FVIUvBKHEMUNjQr8Bi8DSP9m+6v3OPQp8ZnunexG66Dqr+p06+js/u6k8cX0RfgG/On/zAOPBxILNw7jEAATexRIFWIVxRR5E4gRAg/9C5MI4AQFASH9VvnC9YbyvO977dfr3uqX6gbrJezs7UzwMPOA9iD68f3TAaYFSQmeDIgP7xG/E+gUYhUnFToUoxJwELINgQr4BjQDV/9/+833YPRU8cTuxexo67fquepu68/s0e5j8W/03PeN+2P/PAP8BoEKrQ1nEJgSLRQZFVQV3hS4E+8Rjw+uDGMJygUAAij+XvrD9nbzkfAt7l7sM+u16unqzOtX7X7vLvJR9cz4g/xWACYE1AdBC1AO5xDyEmAUJBU5FZ0UVxNwEfkOBQyvCBAFSAF2/bn5MPb58i7w5u007CXrxOoS6w3sre3l76HyzPVK+QD9zQCVBDYIkwuQDhURDRNoFBoVHxV1FCMTMxG2DsALaQjOBAsBQf2M+Q724fIg8OLtOuwz69jqKuso7Mjt/u+38tz1VfkE/coAigQlCH0Ldg75EPASTBQCFQwVahQhEzwRyQ7eC5MIAQVHAYT91PlX9irzZfAg7m3sWuvv6jDrG+yn7cnvb/KE9e34kPxNAAkEowf/CgIOkhCbEg0U2xQAFXsUTxOHETAPXgwoCakF+wE//pD6DvfU8/7woe7R7J3rDusp6+zrUe1O79LxyPQY+Kj7W/8SA7EGGQowDdsPBxKhE5wU8RSdFKMTChLgDzcNIwq+BiMDcP/B+zT45vTy8XDvcu0K7EPrI+uq69Tsme7p8LLz3fZS+vT9pQFKBcMI9wvKDiYR+BIzFMsUvRQJFLUSyxBaDngLOQi5BBQBZ/3P+Wj2TvOa8GHuteyk6zTra+tG7L7tyO9T8kr1l/gf/MX/awP3BkwKTg3mD/8RiRN3FMIUaRRtE9cRsw8TDQsKtAYnA4P/4/tj+CD1M/K077ftSux6603rxOva7InuwfBy84b25fl0/RYBrwQkCFcLMQ6bEIES1BOLFKAUEhTmEiUR3A4fDAIJnwUPAnH+3vp09070hPEs71ntGex163PrE+xQ7R/vcvE49Fr3wPpP/uoBdgXXCPMLsA76EL8S8BOGFHoUzhOHEq8QVA6JC2UI/wRyAdv9VPr69ufzMvHy7jftD+yD65brSeyW7XPv0PGc9MH3Jfuv/kICxAUZCScM1g4REccS6hNzFFwUqBNaEn4QIQ5YCzYI1QROAb/9QPrv9uTzN/H+7kjtJOyZ663rX+yo7YDv1/Gc9Lj3FPuW/iICngXuCPkLpw7kEJ0SxxNYFEwUoxNiEpQQRg6KC3UIIAWjARv+oPpQ90L0kPFN74rtVuy567nrVOyH7UfviPE49EP3kPoG/osBBAVXCGkLJA5xEEEShBMxFEQUuxObEu0QvQ4cDB8J3QVtAu3+dPse+AX1QPLk7wTurezq68HrMuw67dLu7PB582b2nPkC/X4A9gNQB3IKRQ2yD6cRFRPyEzgU4xP4EnwRew8FDSwKBgeqAzQAvfxe+TL2UPPQ8MLuOO087NbrCezT7C/uEfBs8i31QfiO+/3+cwLWBQ0J/wuXDsAQahKJExQUBxRjEy0SbhAzDo0LkAhTBe4BfP4U+9L3zvQe8tfvCu7E7BDs8etp7HXtDO8i8ajziva0+Qz9eQDjAzAHRwoQDXcPaRHZErwTChTCE+YSfRGRDzANbQpcBxQErgBE/e75xfbi81rxP++i7Y7sDOwe7MXs/O257+/xjvSC97X6D/53AdQEDQgKC7QN+A/FEQ0TyBPvE4IThBL9EPcOggywCZcGTQPs/4v8Q/ku9mLz9PD27nbtgOwb7EnsCe1V7iTwafIS9Qz4QPuX/vcBSgV1CGEL+Q0pEOIRFhO+E9MTVxNLErkQqw4yDF8JRgYAA6X/TPwP+QX2RPPi8O/ueu2O7DDsZewp7XjuR/CK8jD1JfhT+6T+/QFIBWwIUgvlDRIQyBH8EqUTvhNGE0EStxCyDkIMeAlqBiwD2f+G/E35RfaE8x/xJ++q7bPsSexv7CTtYu4h8FPy6fTP9/H6OP6KAdEE9gfgCnoNsg94Eb8SfROuE08TZBLzEAgPrwz7Cf4GzwOEADf9/fnw9iT0rvGh7wru9uxs7G/sAe0b7rfvyfFC9A/3HfpV/Z8A5QMPBwUKswwFD+oQVRI8E5cTZhOoEmQRow9xDd4K/QfjBKYBX/4i+wn4KvWY8mfwp+5k7absdOzO7LLtGe/68Ebz7fXd+AD8P/+CArQFvAiGC/0NEBCvEc8SaRN4E/sS9xFyEHgOFgxeCWMGOwP+/7/8mPmf9urzi/GT7xHuDu2T7KPsPO1b7vjvB/J59D73QPpr/acA3wP7BuYJigzUDrUQHhIHE2kTQROQElsRrA+NDQ4LQQg6BQ4C1f6j+5D4s/Ue8+XwGO/C7e3sn+zb7J3t4u6g8MryUfUk+C77Wf6PAbsExQeYCiANSw8LEVESFxNWEw0TPRLtECYP9QxpCpMHiQReASz+BvsD+Dj1ufKY8OPup+3r7LbsCO3f7TXvAfE188T1mfij+8r++QEbBRkI3gpWDXEPIBFXEg0TPhPpEhASuBDsDrgMKwpXB1AELAEB/uL66Pcn9bHymPDr7rXt/+zM7CDt9+1L7xTxRPPM9Zz4nvu//ucBAgX7B7sKMQ1MD/wQNRLxEikT3BINEsAQAA/XDFYKjgeRBHUBUf43+z/4fPUD8+PwLO/q7SXt4uwj7ebtJu/b8PfybvUt+CL7OP5ZAXIEbAcyCrIM2g6cEOsRvxISE+ISMBIAEVwPTw3mCjMISAU4Ahv/A/wH+Tr2sfN98a3vTO5l7f3sGO207c7uXfBX8q70U/cz+jr9UgBqA2oGPQnRCxUO+A9tEWwS7RLtEmsSbBH3DxQO0gs/CW4GcQNdAEj9RPpo98f0cvJ58Oru0O0x7RLtdO1U7qzvcvGb8xj22PjI+9X+6AHvBNUHhQrtDP4OqRDjEaQS5xKpEu4RuRAUDwgNpQr6BxkFFgIG//z7DvlO9tDzpfHb737ul+0s7UDt0u3f7l/wSPKO9CD37fnk/O//+QLwBb8IUguaDYYPCREaErESyxJnEocRMhBwDk4M2QkjBz0EOwEx/jT7Vvis9UjzOfGN70/uh+077W3tGu4/79TwzvIg9br3jPqB/YYAiANyBjEJswvmDb0PKhElEqgSrhI3EkgR5g8aDvALeAnABtwD3wDd/en6Fvh59SHzH/GA70/uku1R7YvtP+5p7wDx+/JM9eP3sPqg/Z4AmQN8BjQJrgvbDa0PFxEQEpESmBIkEjkR3A8XDvULhAnVBvkDAwEH/hj7Sviu9VfzU/Gw73jutO1o7ZbtPe5Z7+LwzvIR9Zv3XPpC/TkALgMPBsgIRwt8DVgP0BDZEW4SihIsElgREhBkDlcM+glcB44EowGu/sH78PhO9uvz1vEf8M/u8O2G7ZTtG+4W73/wTfJ09Ob2k/lq/Fj/SAIrBesHeArBDLcOTRB5ETMSeBJEEpoRfhD3Dg8N0wpRCJkFvQLR/+X8Dfpc9+T0s/LZ8GHvVO667ZXt6O2w7ufvhvGD89D1Xvgd+/z95gDMA5gGOgmgC7sNfg/cEM4RThJXEusRCxG+DwwO/wumCQ8HSwRsAYT+pvvk+E/2+fPw8ULw+e4c7rPtv+0/7jLvkPBQ8mj0yvZm+S38DP/vAccEgQcKClIMTA7rDyMR7hFHEisSnBGcEDIPaA1JC+EIQgZ7A54Avv3s+jr4uvV8847x++/O7g/uwu3o7YHuiu/78Mry7vRX9/j5vvyY/3QCQQXtB2YKnQyEDg8QNRHtETQSCBJqEV4Q6w4ZDfUKjAjuBSoDUgB6/bH6CfiU9WHzfvH279PuHe7X7QPuoe6s7x3x7PIN9XP3DvrP/KP/eAI+BeMHVwqJDG0O9g8aEdQRHRL2EV0RWBDtDiQNCQuqCBQGWQOJALb98vpN+Nn1pPO88S7wA+9C7vDtDu6c7pfv+PC28sf0Hves+WH8LP/8Ab8EZQfdCRcMBg6dD9MQoREBEvERchGGEDQPhA2ACzUJsQYEBD4Bcv6u+wb5ifZH9E3yqfBk74XuE+4P7nvuU++R8C/yIvRe9tb4efs4/gEBxQNxBvUIQQtIDf0OVhBJEdMR7hGbEdwQtQ8uDlAMJgq+ByYFcAKr/+j8OPqs91P1O/Nz8QTw9u5S7hruT+7x7vvvZ/Et80H1lvcf+sv8i/9MAgAFlQf8CSUMBA6OD7gQfBHWEcIRQhFaEA0PZQ1sCy0JtgYXBF8BoP7p+0r51faY9KDy+vCv78juSe427o7uUe958P/x2fP99V747fqa/VUADgO0BTgIigqcDGEOzw/dEIYRxBGXEQARAhCjDuwM6AqhCCcGiAPUABz+b/vd+Hf2SvRk8tHwme/D7lbuUu667onvuvBI8ij0T/aw+Dz75f2aAEsD6QVjCKoKsQxsDtAP1hB2Ea4RfBHhEOIPgw7ODMwKiggVBnwDzgAd/nb76/iK9mL0f/Lt8LXv3+5v7mfuyO6Q77rwP/IV9DL2ifgN+679WwAHA6EFGQhgCmoMKg6VD6QQURGWEXMR6BD5D6wOCA0WC+QIfAbvA0oBn/78+3D5DPfd9O/yT/EH8Bzvlu527r7ubO978ObxpPOr9e/3Yvr1/Jv/QgLcBFkHqgnDC5YNGQ9DEA4RdBFzEQwRQRAWD5MNwQupCVkH3gRHAqT/Av1x+gL4wvW+8wHyl/CI79nuju6p7irvDfBN8ePyxvTq9kL5wvtb/vwAmAMeBoEIsgqkDE0Oog+cEDURahE5EaQQrg9eDrkMywqfCEAGvgMlAYj+8vt0+Rz3+PQU83zxN/BP78fuo+7j7ofvivDn8ZXzivW89x76ofw4/9IBYgTZBigJQQsaDacO3w+7EDcRTxEEEVcQSw/oDTQMOwoGCKQFIQONAPf9a/v6+LL2oPTP8krxGvBF79Duvu4P78Hv0PA28uvz5vUa+Hv6+/yM/x8CpwQTB1cJZQsyDbMO4A+zECURNhHlEDMQJQ/ADQ0MFQrlB4cFCgN8AOz9aPv++Lz2r/Ti8mHxMvBe7+ju1O4h787v1/A28uPz1PX/91j60Pxa/+cBaQTTBhUJJAvzDHkOrQ+IEAYRIxHfEDwQPQ/oDUUMXAo5COgFdgPxAGf+5vt8+Tf3JPVO88DxgvCc7xLv5+4d77HvovDo8X7zWvVy97n5JPyk/ioBqwMWBmAIegpZDPMNPw81ENAQDRHqEGkQiw9XDtMMBwv+CMMGYgToAWb/5vx3+ij4BPYZ9HDyE/EJ8FnvBe8Q73nvP/Bc8crygvR69qb4+/ps/ev/aQLbBDEHXwlZCxQNhg6nD3EQ4BDxEKUQ/A/7DqYNBwwkCgoIxAVeA+UAaf70+5f5XfdT9YTz+vG+8NbvSO8W70HvyO+p8N/xYvMq9S73Y/m8+yz+pAAbA38FxgfhCcYLag3EDswPfhDWENAQbxCzD6IOQA2WC6wJjQdGBeECbQD4/Y37O/kO9xP1U/PZ8azw0+9T7y3vZO/1797wGfKg82v1b/eh+fb7Yf7UAEIDnwXdB/AJzAtoDbwOvg9sEL8QuBBWEJsPjA4uDYgLpAmLB0oF7QKAABH+rPtf+Tb3PfV+8wPy1PD373HvRO9y7/rv2PAI8oPzQfU592H5rPsO/nkA4wI9BXoHjwlwCxQNcA5/DzsQnxCpEFoQsw+4Dm4N2wsJCgIIzwV+AxoBsf5P/AH60/fR9Qb0e/I58Ubwp+9g73Lv3O+d8LDxD/O09JT2p/jh+jb9mv/+AVkEnAa8CK0KZQzbDQYP4g9pEJgQbxDvDxoP9A2FDNMK6AjNBo8EOQLY/3f9I/vq+Nf29PRN8+jxz/AG8JLvde+v70DwJfFX8tLzjvWA95/53/s2/pQA8AI9BW0HdglNC+gMPw5LDwYQbBB8EDUQmQ+rDm8N7QssCjYIFQbUA4ABJP/N/Ib6XPhb9o30+vKt8arw+O+a75Pv4e+D8Hfxt/I89P/19fcW+lX8qP4AAVQDlgW6B7YJgAsNDVUOUw8BEFsQYBAQEGwPdw44DbML8gn+B98FowNUAf/+r/xw+k74VPaN9AHzuvG88A3wsu+r7/jvmfCJ8cXyRfQB9vH3CvpC/I7+3wAtA2oFiweFCU0L2wwmDigP3A8+EEwQBhBuD4YOUw3bCycKPwgsBvoDswFl/xr93fq7+L/28vRf8wzyAfFE8Nfvve/274LwXfGD8u7zl/V193/5qfvq/TQAfgK7BN8G4Ai0ClAMrg3GDpIPDhA5EBAQlg/MDrcNXQzDCvII9QbUBJoCVAAN/s/7p/mf98L1GfSt8oXxp/AW8Nbv6e9N8ADxAPJH8830jfZ8+JH6wvwC/0cBhQOyBcIHqglhC98MGw4QD7kPEhAaENEPOA9TDiUNtQsKCi0IJwYCBMkBiP9J/Rj7//gK90P1sfNe8k/xivAT8OzvFfCP8FXxZvK680z1E/cH+R77Tf2J/8YB+wMdBh8I+AmgCw0NOQ4dD7YPARD7D6YPAw8VDuEMbAu/CeIH3QW7A4cBTf8V/ez63fjx9jL1qvNf8lfxmfAn8ATwMPCr8HLxgfLT82H1I/cR+SL7Sv2A/7YB5gMBBv8H1Ql6C+YMEw75DpYP5g/nD5kP/w4aDvEMhwvlCRIIGAYABNQBoP9u/Uj7OvlO94z1/vOr8prxz/BQ8B3wOfCh8FbxUvKR8w31vvad+KD6vfzp/hoBRgNiBWMHQAnwCmoMpw2hDlQPvA/XD6QPJQ9dDk4N/wt1CrkI0gbKBKsCfwBS/iz8Gvok+FT2tPRL8yDyOPGY8EPwO/B/8A7x5vEC81308PW095/5qvvJ/fP/HAI8BEYGMwj3CYsL5wwFDt4OcA+3D7MPYg/IDuYNwQxfC8YJ/gcQBgUE5wHB/5v9gft9+Zj33PVR9P7y6vEZ8ZDwUvBe8LbwV/E+8mfzzfRn9jD4Hvoo/ET+ZwCJAp8EngZ+CDUKuwsIDRcO4w5oD6MPkw85D5cOrw2GDCELiAnBB9YFzgO1AZX/d/1k+2j5i/fX9VP0BvP48Szxp/Bq8Hjwz/Bu8VLyd/PX9Gz2LvgV+hj8Lf5KAGYCdgRxBk0IAgqIC9cM6Q25DkQPhw+ADzEPmg6+DaEMSQu8CQEIIQYkBBQC+//i/dL71/n590D2tvRh80fybvHZ8IvwhvDJ8FTxI/I084D0Afay94n5fvuI/Z7/tAHCA78FoQdgCfIKUQx2DVwOAA9dD3MPQA/HDgkOCQ3NC1oKtwjsBgEF/gLuANv+zPzN+uX4H/eD9Rf04vLr8TXxw/CZ8LXwGfHB8azy1PM09cb2g/hi+lr8ZP50AIIChQRyBkII6wlmC60MuQ2GDg8PUw9RDwgPeg6pDZoMUAvTCSkIWQZsBGwCYABU/k78WvqA+Mn2PPXg873y1vEw8c7wsvDc8Evx/fHw8h70gvUW99P4sPql/Kr+swC6ArUEmQZgCAAKcguwDLQNeQ79DjwPNg/qDlsOiw19DDYLvQkXCE0GZwRsAmcAYf5i/HT6nvjr9mH1B/Tj8vvxU/Ht8Mvw7vBV8f/x5/IL9GX17vah+HT6YPxd/l8AYQJYBDoGAQikCRoLXwxsDTwOzQ4aDyQP6g5sDq4Nsgx+CxYKgQjGBu0E/gIBAQH/Bf0X+z/5hffx9Yv0WPNd8qDxI/Hp8PLwPvHN8Zryo/Pk9Fb28vez+Y/7f/16/3YBbQNUBSMH0ghaCrML2AzEDXMO4g4OD/cOng4FDi0NGgzSClsJuQf2BRkEKgIxADn+R/xn+p/4+PZ59Sn0DvMs8ofxIfH+8B3xffEe8vzyE/Re9dj2evg++hr8CP7+//IB3wO7BX0HHwmYCuIL+AzVDXUO1g71DtMOcA7NDe8M1wuMChMJcgexBdcD7QH7/wn+H/xH+of46fZy9Sr0FvM58prxOPEY8TjxmfE58hTzKPRv9eT2gPg9+hP8+f3o/9cBvgOVBVMH8QhpCrMLygyqDU4OtA7bDsEOZw7PDfwM8AuxCkMJrgf3BSgERgJbAG/+ifyz+vP4UvfX9Yj0avOD8tXxZfE08UPxkPEc8uTy5PMY9Xr2Bviz+Xz7V/0+/ycBCwPjBKUGSwjMCSQLTAw/DfoNeA65DroOfQ4BDkoNWgw2C+IJYwjBBgMFLwNOAWj/hf2s++X5Ofiu9kv1FvQT80jyt/Fj8U3xdfHb8X3yWfNq9Kz1Gfet+F/6KfwD/uX/xwGhA20FIQe2CCcKbQuCDGINCg52DqUOlg5KDsEN/wwGDNoKgQn/B10GnwTPAvIAE/83/Wf7qvkJ+In2MPUG9A7zTPLE8XfxaPGW8QDypfKC85P00/U+9874fPpA/BT+8P/LAZ8DZAUSB6MIDwpRC2QMQw3qDVgOig5/DjcOtQ35DAgM5QqUCRwIggbNBAUDMAFY/4H9tfv7+Vr42fZ+9U/0UPOH8vXxnfGB8aDx/PGR8l7zXvSP9ev2bPgM+sX7j/1j/zgBCQPOBH4GEwiHCdQK8wviDJsNHA5kDnAOQA7WDTQNWwxPCxYKswgsB4gFzgMEAjIAYf6V/Nj6MPmk9zr2+PTk8wLzVPLf8aPxovHc8U/y+vLa8+z0K/aR9xr5v/p5/EH+EADeAaUDXQX/BoQI5wkhCy0MCQ2vDR0OUw5ODg8Olw3oDAUM8QqxCUoIwgYeBWYDoQHV/wr+R/yT+vb4dPcW9uD01vP+8lvy7vG68cDx//F38iXzBvQY9Vb2uvc/+d/6lPxW/h4A5gGnA1gF9AZ0CNEJBwsRDOsMkA3/DTcONQ76DYgN3wwDDPcKwAlhCOIGRwWXA9kBFABQ/pH84fpF+cT3ZPYq9Rz0PfOR8hvy3PHV8Qbyb/IO8+Dz4vQQ9mX33Phw+hn80v2T/1QBEQPCBGAG5AdJCYkKoAuIDD8NwQ0NDiEO/g2jDRMNTwxbCzoK8QiFB/wFWwSpAu0ALv9y/cD7H/qV+Cj33/W99MjzA/Nw8hPy7fH+8UXyw/J081b0ZvWf9v33evkQ+7n8b/4qAOUBmAM+Bc4GRAiaCcoKzwunDE0Nvw38DQMO0g1sDdIMBgwMC+cJmwguB6UFBwRZAqIA6v42/Yz79Plz+BD30PW39MrzDPOA8inyB/Ic8mby5PKV83b0g/W59hL4ivka+738bf4hANYBgwMjBa8GIQhzCaEKpgt+DCYNnA3dDekNwA1iDdEMDgweCwMKwQhfB+AFSwSmAvcARf+W/e/7WfrY+HP3LvYQ9Rv0U/O88lfyJ/Is8mXy0fJw8z/0OvVf9qf3EPmS+in8zv18/yoB1QJ0BAMGewfWCA8KIwsMDMcMUg2qDc8Nvw17DQUNXQyHC4UKXAkPCKUGIQWKA+YBOwCQ/ur8UPvI+Vf4A/fR9cX05PMx863yXPI+8lTynfIY88TznfSh9cz2GfiD+Qb7m/w9/uX/jAEuA8UESQa1BwUJMwo6CxgMyAxJDZgNtA2dDVQN2AwuDFULUworCeAHeAb5BGcDyQEkAID+4PxN+8v5YPgS9+X13fT/807zy/J68lrybfKz8inzz/Oi9J71wfYG+Gn54/pw/Ar+q/9MAeoCfAT9BWkHuQjoCfMK1guNDBYNbw2WDYsNTw3iDEYMfAuJCm8JMwjZBmYF3wNKAq0AD/90/eH7X/rx+J33Z/ZV9Wr0qfMW87HyfvJ78qryCfOX81P0OfVG9nb3xvgv+q37O/3T/m4ACAKbAyAFkwbtBysJRwo+CwwMrgwjDWcNfA1fDRINlgztCxgLHAr7CLoHXQbpBGQD0wE7AKP+EP2I+w/6rfhl9zz2NvVX9KLzGvPA8pbynPLR8jfzyvOI9HD1fvat9/r4Yfrb+2P99f6KAB0CqQMnBZMG5wcfCTYKKQvzC5MMBg1KDWANRQ37DIMM3wsQCxoKAQnHB3IGBgWJA/8BbgDd/k/9y/tW+vX4rfeD9nv1mPTd807z7PK38rLy3PI087rza/RE9UP2Zfel+P75bfvs/HX+AgCRARkDlwQEBlwHmgi5CbYKjgs8DMAMFw1ADToNBg2lDBcMXwt/CnoJVAgSB7cFRwTKAkIBuP8t/qn8MfvK+Xn4Qvcq9jT1ZPS880Dz7/LN8tjyEfN38wn0xPSm9az20vcU+W/63PtY/d3+ZADrAWsD3wRCBpAHwwjXCckKlgs7DLUMBA0lDRkN4Ax6DOoLMAtQCkwJKQjpBpIFKASwAi4Bqv8m/qn8N/vW+Yr4WPdE9lL1hPTe82HzEPPr8vPyJ/OI8xP0x/Sh9Z/2vPf2+Ef6rPsg/Z3+HgCfARsDiwTsBTkHbQiECXsKTgv6C30M1gwDDQQN2QyCDAEMVwuGCpIJfghNBwMGpQQ4A8ABQgDE/kr92ft2+ib57vfR9tP19/RB9LPzTvMU8wbzI/Ns89/ze/Q99ST2LPdR+JD55fpK/Lz9Nf+wACkCmwMBBVUGlAe6CMIJqgptCwsMgAzLDOsM4AyqDEkMwAsQCzoKQwktCPsGswVYBO4CewEDAIz+Gf2w+1b6Dvne98n20/X/9E/0xvNm8zDzJPND84zz/vOY9Fj1O/Y+9174l/nl+kT8r/0i/5YACQJ1A9YEJwZjB4YIjgl2CjsL2wtUDKQMywzIDJoMQwzECx8LVQppCV4IOAf7BaoESQPfAW4A/f6P/Sj8z/qG+VP4Ofc89mD1pfQQ9KPzXfNB807zhfPk82v0F/Xn9dj25vcP+U76n/v//Gj+1v9DAa4CDwRjBaUG0gflCNsJsQpkC/MLWwyaDLEMnwxkDAEMdwvICvcJBQn2B84GkAVBBOMCfQESAKj+Qf3k+5T6Vfks+Bz3KfZW9aX0GfSz83TzXvNw86vzDfSV9EL1EfYA9wv4MPlq+rb7EP1z/tv/QgGmAgEETwWMBrQHxAi3CYsKPgvNCzYMeAyTDIUMUAzzC3ELywoCChkJFAj2BsEFegQmA8cBYwD//p39Q/z1+rf5jvh794T2q/Xz9F707fOj83/zg/Ov8wH0efQV9dP1svat98P47/ku+3z81f01/5YA9gFPA58E3wUNByUIIwkECsYKZgviCzkMagx0DFcMEwyqCx0LbQqcCa4IpAeDBk4FCAS2AlwB//+g/kf99vux+n75XvhX92r2nPXu9GL0+vO485vzpvPW8yz0pvRE9QP24Pba9+34FfpP+5j87P1F/6AA+QFMA5UE0AX4BgsIBQnjCaMKQgu+CxYMSQxWDD0M/wucCxULbAqkCb4IvQelBnkFPATyAp8BSADx/pz9T/wN+9r5u/iy98L27vU69ab0NfTn87/zvPPf8yb0kfQf9c71nPaG94r4pPnS+g/8V/2o/v3/UQGhAukDJgVSBmsHbghXCSQK0gpfC8oLEQw0DDIMCwzAC1ILwQoQCkEJVghTBzkGDQXRA4sCPQHs/5v+Tv0J/NH6qPmS+JP3rfbj9Tj1rfRD9P3z2/Pd8wT0TvS79Er1+fXF9q33rvjE+ez6JPxn/bL+AABNAZcC2gMQBTgGTQdMCDIJ/QmqCjcLowvtCxMMFgz0C68LSAvAChcKUQlwCHUHZQZCBRAE0gKLAUAA9v6u/W38N/sO+vj49vcM9z32ivX39IP0MvQD9PfzD/RK9Kf0JfXD9X/2VvdH+E/5afqU+8z8Df5U/5sA4QEiA1kEhAWeBqUHlghtCSkKxwpGC6ML3wv5C+8Lwwt1CwULdgrICf4IGggeBw8G7QS+A4QCQgH+/7r+ef1A/BL78vnk+Or3CPdA9pT1BvWZ9Ev0IPQX9DD0bPTI9EX14PWZ9mz3WPha+W/6lPvF/P/9P/+AAMAB/AIuBFQFawZwB14INQnyCZIKFAt2C7cL1wvVC7ELbAsHC4IK3wkgCUcIVwdSBjwFFgTlAqwBbgAx//X9vvyR+3H6Yflk+Hz3rfb49WD15fSL9FD0N/Q/9Gj0svQc9aX1SvYL9+X31vjb+fH6FfxE/Xr+tf/vACgCWgODBJ8FqwakB4gIUwkFCpoKEQtpC6ILuQuwC4cLPQvTCkwKpwnoCBAIIgcgBg0F7APAAo0BVQAe/+j9ufyS+3n6bvl2+JP3yPYX9oD1CPWt9HL0WPRd9IP0yPQt9a/1TvYI99r3w/i/+c366fsQ/T/+c/+nANoBCAMtBEcFUgZMBzEIAAm1CVAKzwowC3ILlQuXC3sLPgvjCmoK1AkkCVsIeweGBoAFawRKAyAC8QDA/4/+Yv09/CH7FPoW+Sz4V/eZ9vb1bfUC9bT0hvR29Ib0tfQD9W719vWZ9lb3KvgT+Q76Gvsz/Fb9gP6u/9sABwIuA0sEXQVhBlMHMQj5CKkJPgq4ChULVAt1C3cLWgseC8UKTgq8CRAJTAhyB4QGhAV2BFwDOQIQAeb/u/6T/XP8XPtR+lb5bfiY99n2NPao9Tj15fSv9Jj0n/TE9Af1aPXk9Xv2LPfz99D4wPnB+s/76PwJ/jD/VwB+AaECvQPPBNQFygatB3wINQnVCVsKxgoUC0ULWQtOCyYL4Ap+CgAKaAm3CO8HEwckBiUFGQQCA+MBwACc/3j+WP0//DD7Lvo8+Vv4jvfY9jr2tfVL9f30zPS49ML06fQt9Y31CPad9kr3Dvjm+NH5zPrU++f8Av4h/0IAYwGAApcDpASlBZgGeQdGCP4InwknCpUK5wodCzYLMgsRC9QKewoHCnkJ0wgWCEUHYQZsBWoEXQNHAisBDADv/tP9vfyw+676uvnW+AT4R/eg9hL2nfVC9QP14fTa9PD0I/Vw9dn1XPb39qn3cPhL+Tb6MPs2/Eb9XP52/5EAqwHAAs8D0wTMBbUGjQdSCAIJmwkcCoMKzwoACxYLDwvsCq0KVArhCVUJsQj4ByoHSwZcBV8EWANIAjMBGwAD/+793vzV+9j65/kG+Tf4e/fV9kb2z/Vy9S/1B/X79Ar1NfV69dr1U/bk9oz3SfgZ+fr56vrm++z8+v0N/yEANgFHAlMDVgROBTkGFQffB5UINgm/CTEKigrICuwK9AriCrQKbAoLCpEJ/whXCJoHywbsBf0EAwT/AvMB4wDS/8H+s/2q/Kr7tfrN+fT4Lfh599r2Ufbh9Yn1S/Un9R31LvVa9aD1//V29gT3qfdh+Cz5CPry+uj76Pzv/fv+CQAXASMCKQMnBBwFAwbcBqUHWgj7CIcJ+wlXCpoKwwrSCscKogpkCgwKnAkVCXgIxgcCBy0GSgVZBF8DXAJUAUkAPv80/i/9Mfw8+1L6d/mr+PH3Sve59j322fWO9Vv1QvVD9V31kfXd9UL2vvZQ9/f3sPh7+Vb6Pfsw/Cz9L/41/z0ARAFJAkgDPwQsBQwG3gagB08I6whxCeEJOgp6CqIKsAqlCoEKRArvCYIJ/whnCLsH/QYvBlIFaQR1A3oCeAF0AG//a/5r/XL8gPua+sD59fg6+JL3/vZ/9hb2xfWM9Wv1YvVz9Zz13vU39qf2LPfG93P4MvkA+tz6xPu2/K/9rv6v/7AAsQGtAqMDkARzBUgGEAfGB2sI/Ah4Cd8JLgpmCoUKjQp8ClIKEQq5CUoJxgguCIMHxwb7BSIFPQROA1gCXAFeAGD/Yv5p/XX8ivup+tX5D/lY+LT3I/el9j727fWz9ZD1hfWT9bj19PVH9rH2L/fC92f4Hfnj+bf6lvuA/HH9aP5j/10AWAFQAkIDLQQOBeMFqwZkBw0IogglCZIJ6gkrClYKaQpkCkgKFQrLCWsJ9ghtCNEHIwdmBpoFwgTfA/MCAQILARIAG/8k/jL9R/xk+4v6v/kB+VL4tfcr97T2UvYG9tD1sfWp9bj13vUa9m321PZQ99/3gPgy+fP5wfqa+338aP1Z/kz/QQA2AScCFAP7A9gEqgVwBicHzwdlCOgIWAmzCfkJKQpCCkUKMQoGCsYJcAkFCYcI9QdTB6AG3wUSBTkEVwNuAn8BjgCd/6v+vf3T/PH7GPtK+oj51fgx+J/3Hvey9ln2Fvbo9dH1z/Xk9Q72Tvak9g33ivcZ+Ln4aPkm+vH6xvuk/Ir9dP5i/1AAPwEqAhED8QPIBJUFVgYJB6wHQAjBCC8JignQCQEKHAohChEK6wmwCWAJ/AiFCPsHYQe3Bv4FOQVoBI8DrgLHAd0A8v8G/xz+N/1Y/IH7s/rx+Tz5lfj/93n3Bvem9lr2Ivb/9fL1+vUX9kn2j/bq9lj32Pdp+Ar5ufl2+j/7Efzr/Mz9sv6a/4IAaQFOAi0DBgTWBJwFVgYDB6AHLgiqCBQJawmvCd0J+An9Ce0JyQmQCUMJ4ghvCOsHVgeyBgAGQQV4BKYDzALsAQgBIwA+/1r+ev2f/Mv7APtA+oz55fhN+MX3Tvfq9pj2WvYw9hr2GPYr9lP2jvbd9j73svc2+Mv4bvkf+tv6o/tz/Er9Jv4H/+n/ygCrAYgCYAMwBPgEtgVoBgwHowcpCJ8IAwlUCZMJvQnUCdcJxgmgCWcJGwm9CEwIywc6B5oG7QU1BXEEpQPRAvgBGwE8AF3/f/6l/c/8//s4+3v6yfkk+Y34BfiN9yb30faP9mD2RPY89kf2ZvaZ9t72Nfef9xj4ovg6+eD5kvpP+xX84/y3/Y/+av9FACEB+gHPAp8DZwQmBdoFgwYfB60HKwiZCPYIQQl5CZ4JsQmwCZsJdAk6Ce4IkAghCKEHEwd3Bs4FGgVcBJUDyAL1AR4BRQBt/5X+wP3w/Cb8Y/uq+vv5WfnD+Dz4xfdd9wf3wvaP9m/2YvZo9oD2q/bo9jf3l/cI+If4Fvmy+Vr6DfvJ+478Wf0p/v3+0/+oAHwBTQIaA+EDoARWBQEGoQY0B7kHLgiUCOkILQlfCX8JjAmHCW8JRQkKCb0IXwjxB3MH6AZPBqoF+gRBBIADuALrARoBSAB2/6T+1f0L/Ub8iPvT+ij6ifn2+HH4+veS9zv39Pa/9pz2ivaL9p32wvb39j/3lvf+93X4+viM+Sr61PqH+0P8Bf3N/Zn+aP82AAUB0wGcAmADHgTUBIEFJAa6BkQHwAcuCIwI2QgXCUIJXQlmCV0JQgkWCdkIjAguCMIHRge9BigGhwXcBCgEbAOqAuMBGAFMAIH/tf7s/Sf9Z/yv+/76V/q7+Sr5pvgw+Mn3cfco9/H2yva09rD2vPba9gn3SPeY9/f3ZPjg+Gn5/fmd+kf7+fuz/HL9Nv79/sb/jwBXARwC3gKaA1AE/QShBTsGygZLB8AHJgh9CMQI/AgjCTkJPgkyCRYJ6QisCF8IAwiYBx8HmgYIBmwFxgQXBGEDpQLlASEBWwCV/9D+DP5N/ZL83vsy+4769Pll+eP4bfgF+Kv3Yfcm9/v24fbX9t329PYb91L3mPfu91L4xPhC+c35YvoC+6r7W/wR/c39jP5O/xAA0wCUAVICDAPBA28EFAWxBUMGygZFB7MHEwhlCKgI2wj/CBIJFgkJCewIwAiECDkI4Ad4BwQHgwb2BWAFvwQXBGcDsgL4AToBewC8//z+Pv6E/c78Hvx0+9P6O/qu+Sv5tfhL+O/3ovdj9zP3EvcB9wD3Dvct91r3l/fi9zv4ovgV+ZX5H/q0+lL79/uk/Fb9Df7H/oT/PwD8ALYBbgIhA84DdQQUBasFNwa4Bi4HmAf0B0IIgwi0CNYI6gjuCOIIxwidCGUIHgjJB2YH9wZ8BvcFZwXNBCwEhAPVAiICbAGzAPr/QP+I/tP9If10/M37LvuX+gn6hvkO+aH4Qfjv96r3c/dL9zL3KPcs90D3YveT99L3H/h5+OD4U/nQ+Vn66vqE+yb8zvx7/S3+4f6X/00AAwG3AWgCFQO9A14E+ASKBRIGkAYDB2oHxQcTCFMIhQipCL4IxQi9CKcIgghPCA4IwAdlB/4GiwYNBoYF9QRcBLwDFgNrArwBCgFXAKT/8f5A/pL96PxD/KX7Dvt/+vn5fvkN+aj4TvgC+MP3kfdu91j3UfdX9233kPfB9//3Svii+Ab5dvnw+XP6APuV+zH80/x6/SX+0/6C/zIA4gCQATwC5AKHAyUEuwRKBdAFTQa/BicHggfSBxUISghyCI0ImgiZCIoIbQhCCAsIxgd1BxgHrwY8Br8FOQWqBBQEeAPWAjAChgHaACwAgP/T/in+gf3e/ED8qPsX+436DfqW+Sr5yfhz+Cn47Pe895n3g/d794D3k/ez9+D3Gvhh+LT4Evl7+e75a/rw+n77Evyt/Ez98P2X/kD/6v+TADwB4wGHAicDwgNXBOUEawXoBVwGxwYmB3oHwwf/By8IUghoCHAIbAhaCDsIEAjYB5QHRAfoBoMGEgaZBRcFjQT8A2UDyQIpAoUB3wA4AJL/6/5H/qX9Bv1t/Nn7TPvG+kj60/lo+Qf5sfhm+Cf49PfO97T3p/en97P3zffy9yT4Y/is+AH5YfnL+T76ufo9+8j7Wfzw/Iv9Kv7L/m//EgC2AFgB+QGWAi8DxANSBNoEWgXTBUIGqAYDB1QHmgfVBwMIJQg7CEUIQggyCBYI7ge7B3sHMAfbBnsGEQafBSQFoQQYBIkD9AJbAr4BHwF/AN//Pv+e/gH+Zv3Q/D/8s/su+7D6OvrN+Wn5D/m/+Hv4QfgT+PH32/fR99P34vf89yL4VPiR+Nn4LPmI+e75XfrU+lP72ftk/PX8iv0j/r7+W//5/5UAMgHNAWUC+gKKAxUEmQQXBY0F/AVhBr0GDwdWB5MHxQfrBwYIFQgZCBAI/AfcB7EHewc5B+4GmAY5BtEFYAXoBGgE4wNYA8gCNAKdAQQBaQDP/zT/m/4E/nD93/xT/M37TfvT+mH6+PmX+T/58fiu+HT4Rvgj+Av4//f+9wj4HvhA+Gz4o/jk+DD5hfnj+Ur6ufow+637MPy5/Eb91/1r/gH/mP8vAMYAXQHxAYICEAOZAx0EmwQSBYMF6wVLBqIG8AYzB20HnAfBB9oH6QfsB+QH0QezB4sHVwcaB9MGggYoBsUFWwXpBHAE8gNtA+QCWALIATUBoQAMAHn/5f5S/sP9Nv2t/Cr8q/sz+8H6V/r1+Zv5SvkC+cT4kfhn+Ej4NPgr+Cz4OPhP+HH4nPjS+BL5W/mu+Qn6bPrX+kj7wPs+/MH8SP3T/WD+8P6B/xIAowA0AcIBTgLXAlwD3QNXBMwEOwWiBQEGWAanBuwGKAdaB4MHoQe0B74HvAexB5sHegdQBxwH3gaXBkcG7wWPBScFuAREBMkDSgPGAj8CtAEoAZoACwB+//D+ZP7a/VL9z/xQ/Nb7Yvv0+oz6LfrV+YX5PvkA+cv4oPh/+Gj4W/hY+GD4cfiM+LL44fgZ+Vv5pfn3+VL6tPoc+4z7Afx7/Pn8fP0C/or+FP+f/yoAtQA/AccBTQLQAk8DygNABLAEGQV8BdgFLAZ4BrsG9gYnB08HbgeDB44HjweGB3QHWAcyBwMHywaLBkIG8AWYBTcF0QRkBPEDegP+An4C/AF2Ae8AZwDf/1f/0P5K/sb9Rv3J/FD83Ptu+wb7o/pI+vX5qfll+Sr5+PjP+K/4mPiL+If4jfic+LX41/gC+Tb5c/m4+QX6Wfq1+hf7f/vt+2D81/xT/dH9U/7W/lv/4P9kAOkAbQHuAW4C6QJiA9UDRASuBBEFbgXFBRMGWwaaBtEG/wYkB0EHVAdeB18HVwdGBysHCAfcBqcGawYmBtkFhgUrBcsEZAT4A4cDEgOZAh0CngEeAZwAGgCY/xb/lv4X/pv9If2s/Dr8zvtm+wT7qfpU+gb6wPmB+Uv5HPn3+Nn4xfi6+Lf4vvjN+OX4Bvkv+WH5mvnc+ST6dPrL+ij7i/vz+1/80fxG/b79Of61/jT/s/8xALAALwGrASYCnQISA4MD7wNXBLkEFQVsBbsFBAZFBn8GsQbbBv0GFgcnBy8HLgclBxMH+QbXBqwGegY/Bv4FtQVlBRAFtARSBOwDgQMSA58CKgKxATcBvABAAMT/SP/N/lT+3P1n/fX8h/wd/Lj7WPv++qn6W/oU+tP5mvlp+T/5HfkE+fL46fjp+PD4APkZ+Tn5YfmR+cj5B/pM+pn66/pD+6H7BPxr/Nb8Rf23/Sz+ov4a/5P/DACFAP4AdQHqAV4CzgI7A6QDCQRpBMQEGQVpBbIF9AUwBmQGkQa3BtQG6gb4Bv4G+wbxBt8GxQajBnoGSQYRBtIFjQVBBe8EmAQ8BNsDdQMMA6ACMAK+AUoB1QBfAOr/dP/+/or+F/6n/Tr9z/xp/Ab8qftQ+/z6rvpn+iX66vm3+Yr5ZflH+TD5Ivkb+Rz5Jfk1+U35bPmT+cH59vky+nT6vPoK+177tvsU/Hb82/xE/bD9Hv6P/gD/c//n/1kAzAA+Aa4BHQKJAvICWAO6AxcEcATFBBQFXQWgBd0FEwZDBmwGjgaoBrsGxwbLBsgGvQarBpIGcQZJBhsG5gWrBWkFIgXVBIIEKwTQA3ADDQOnAj4C0gFlAfYAhgAWAKb/N//I/lr+7/2F/R/9u/xc/AD8qftW+wn7wfp++kL6DPrc+bP5kfl2+WH5VPlO+VD5WPlo+X/5nPnB+ez5HvpW+pP61/og+277wfsZ/HX81Pw2/Zz9BP5u/tn+Rv+z/x8AjAD5AGQBzgE2ApwC/gJdA7kDEQRkBLME/ARABX8FuAXrBRcGPQZdBnYGiAaTBpcGlAaKBnoGYwZFBiAG9gXFBY4FUQUPBccEewQqBNUDfAMfA8ACXQL4AZEBKQHAAFUA7P+C/xj/sP5J/uP9gP0g/cP8afwT/MH7c/sq++f6qPpv+jz6D/rn+cf5rPmY+Yv5hPmE+Yv5mPms+cb55/kN+jr6bfql+uP6Jvtu+7r7C/xf/Lf8E/1x/dL9Nf6a/gD/Z//O/zUAnAACAWgBywEtAo0C6gJEA5sD7gM9BIcEzQQOBUoFgQWyBd0FAgYiBjsGTgZaBmEGYAZaBk0GOgYgBgEG2wWwBX8FSQUOBc0EiAQ/BPEDnwNKA/IClwI6AtoBeQEWAbIATgDq/4b/Iv/A/l7+//2h/Ub97fyY/Eb89/ut+2f7Jvvp+rH6f/pS+iv6Cfrt+dj5yPm++br5vfnF+dT56fkD+iT6Svp1+qb63PoX+1f7m/vk+zD8gPzT/Cn9gv3e/Tv+mv76/lv/vP8dAH4A3wA/AZ4B+wFWAq4CBANXA6cD8wM8BIAEwAT7BDIFYwWPBbYF2AX0BQoGGgYlBioGKQYiBhUGAgbqBcwFqQWABVIFIAXoBKwEawQnBN4DkgNDA/ACmwJEAusBjwEzAdUAdwAYALv/Xf///qP+SP7u/Zf9Qv3v/KD8VPwL/Mb7hftI+xD73Pqt+oP6Xvo/+iX6EPoB+vf58/n1+fz5Cfob+jL6T/py+pn6xfr2+iz7Zvuk++b7LPx2/ML8Ev1k/bj9D/5n/sH+G/93/9L/LQCJAOMAPgGWAe4BQwKWAucCNQOAA8gDDQRNBIoEwgT2BCYFUQV3BZgFtAXLBdwF6AXvBfEF7QXkBdUFwQWoBYoFZwVABRMF4gStBHMENgT1A7ADaAMeA9ACgAIuAtoBhAEuAdYAfQAlAM3/dP8c/8X+cP4b/sn9eP0q/d78lfxQ/A38z/uU+1z7Kvv7+tH6q/qK+m76V/pF+jj6MPou+jD6N/pE+lX6a/qH+qf6y/r0+iL7VPuK+8P7AfxB/IX8zPwW/WL9sP0B/lP+pv76/lD/pf/7/1AApgD7AE8BoQHyAUICjwLbAiMDaQOsA+sDJwRgBJUExQTyBBoFPgVdBXgFjgWfBasFswW1BbMFrAWgBY8FegVgBUEFHgX2BMsEmwRoBDAE9gO3A3YDMgPsAqMCVwIKArsBawEaAcgAdQAiAND/ff8r/9n+if46/uz9of1X/RD9y/yJ/Er8DvzW+6H7cPtD+xn79PrT+rf6nvqL+nz6cfpr+mr6bvp2+oL6k/qp+sP64foE+yv7VfuE+7b76/sk/GD8n/zh/CX9a/20/f79Sv6X/ub+Nf+F/9X/JAB0AMMAEgFgAa0B+AFBAokCzgIRA1IDkAPKAwIENgRnBJQEvQTjBAQFIgU7BVAFYAVsBXQFeAV3BXEFZwVZBUYFMAUVBfYE0wSsBIIEVAQiBO0DtQN7Az0D/QK7AnYCMALoAZ4BUwEIAbsAbgAhANX/h/87/+/+pP5a/hL+y/2G/UP9Av3E/In8UPwa/Of7uPuM+2T7P/se+wH76PrU+sP6tvqu+qn6qfqt+rX6wvrS+uf6//oc+zz7YPuH+7L74PsS/Eb8ffy3/PP8Mv1z/bX9+v1A/of+z/4Y/2L/rP/3/0AAigDTABwBZAGrAfABNAJ2ArYC9AIwA2kDnwPTAwMEMQRbBIEEpQTEBOAE+AQNBR0FKQUyBTYFNwU0BSwFIQUSBf8E6ATNBK8EjQRoBEAEFATlA7QDfwNJAw8D1AKWAlYCFQLSAY4BSQEDAbwAdQAuAOf/oP9Z/xL/zf6I/kT+Av7C/YP9Rv0L/dP8nPxp/Dj8Cvzg+7j7k/ty+1X7O/sk+xH7Avv2+u/66/rq+u769foA+w/7Ivs4+1H7bvuO+7L72fsC/C/8XvyQ/MT8+/w0/W/9q/3q/Sn+av6s/u/+M/93/7z/AABEAIgAzAAPAVEBkgHSARECTgKJAsMC+gIvA2IDkgPAA+sDEwQ4BFoEeASUBKwEwATSBN8E6gTwBPME8wTvBOcE3ATNBLsEpgSNBHEEUgQvBAoE4gO3A4oDWgMoA/QCvQKFAksCDwLSAZQBVQEVAdQAkwBRAA8Azv+N/0v/C//L/oz+Tv4S/tf9nf1l/S/9/PzK/Jv8bvxE/Bz89/vV+7b7mvuC+2z7WvtL+z/7Nvsx+zD7Mfs2+z/7SvtZ+2z7gfuZ+7X70/v1+xn8QPxp/JX8w/zz/Cb9Wv2Q/cj9Af47/nf+tP7x/i//bv+s/+v/KQBoAKcA5AAhAV4BmQHTAQwCQwJ5Aq0C3wIPAzwDaAORA7gD3AP+AxwEOARRBGcEegSKBJcEoQSnBKoEqwSoBKIEmASMBH0EagRVBDwEIQQDBOMDwAOaA3IDSAMbA+0CvAKKAlYCIQLqAbIBeQE/AQUBygCOAFIAFgDb/5//Y/8o/+3+tP57/kP+Df7Y/aT9cv1C/RT96Py9/JX8cPxM/Cz8Dvzy+9n7w/uw+6D7kvuI+4D7fPt6+3z7gPuI+5L7n/uv+8L72Pvw+wv8KPxI/Gv8kPy2/N/8Cv03/Wb9lv3I/fv9L/5l/pv+0/4L/0P/fP+2/+//JwBhAJkA0gAKAUEBdwGsAeABEgJEAnMCoQLOAvgCIANHA2sDjQOsA8oD5AP8AxIEJQQ1BEMETQRVBFsEXQRdBFoEVARLBEAEMgQhBA4E+APgA8UDqAOJA2cDQwMeA/YCzQKhAnUCRgIXAuYBtAGAAUwBGAHiAK0AdgBAAAoA1P+e/2j/M//+/sr+lv5k/jP+A/7U/af9e/1R/Sj9Av3d/Lr8mvx7/F/8Rfwu/Bn8Bvz2++j73fvV+8/7zPvL+8370vvZ++P77/v++w/8I/w5/FH8bPyJ/Kf8yPzr/BD9Nv1e/Yj9s/3f/Q3+PP5r/pz+zv4A/zL/Zf+Z/8z/AAAzAGYAmQDLAP4ALwFfAY8BvgHrARgCQwJsApQCugLfAgIDIwNCA18DegOSA6kDvQPPA98D7AP3A/8DBQQJBAoECQQFBP8D9gPrA94DzwO9A6kDkgN6A2ADQwMlAwUD4wLAApsCdAJMAiMC+QHNAaEBcwFFARYB5gC2AIYAVQAlAPX/xf+U/2T/NP8F/9f+qf58/lH+Jv78/dT9rf2H/WP9Qf0g/QH95PzJ/K/8mPyD/G/8XvxP/EP8OPww/Cr8Jvwk/CX8KPwt/DT8PvxK/Fj8aPx6/I78pPy8/Nb88vwP/S79T/1x/ZX9uv3g/Qf+MP5Z/oT+r/7b/gf/NP9h/4//vf/r/xcARQByAKAAzAD4ACQBTwF4AaEByQHwARYCOwJeAn8CnwK+AtsC9gIQAygDPgNSA2QDdAOCA44DmQOhA6cDqgOsA6wDqgOlA58DlgOLA38DcANgA00DOQMjAwsD8gLXAroCnAJ8AlsCOQIWAvEBzAGlAX4BVgEtAQQB2gCvAIUAWgAvAAQA2v+v/4X/W/8x/wj/4P64/pH+a/5G/iL+//3d/b39nf1//WP9SP0v/Rf9Af3t/Nr8yvy7/K78ovyZ/JL8jPyI/If8h/yJ/I38k/yb/KX8sPy+/M383vzw/AX9Gv0y/Uv9Zf2B/Z79vP3c/fz9Hv5A/mT+iP6t/tP++f4g/0f/bv+W/77/5v8NADUAXACDAKoA0QD3ABwBQQFlAYgBqgHLAewBCwIpAkUCYQJ7ApMCqgLAAtQC5wL4AgcDFQMhAysDMwM6Az8DQgNEA0MDQQM9AzgDMAMnAx0DEAMCA/MC4gLPArsCpgKPAnYCXQJCAiYCCQLsAc0BrQGMAWsBSQEmAQMB3wC7AJcAcgBNACgAAwDg/7v/l/9y/0//K/8J/+b+xf6k/oT+Zf5H/in+Df7y/dj9v/2n/ZH9fP1p/Vf9Rv03/Sn9Hf0S/Qn9Av38/Pj89fz0/PX89/z7/AH9CP0Q/Rr9Jv0z/UL9Uf1j/XX9if2e/bX9zP3l/f79Gf41/lH+bv6M/qv+yv7q/gr/K/9M/27/j/+x/9P/9f8VADcAWQB6AJsAuwDbAPsAGgE4AVUBcgGOAakBwwHdAfUBDAIiAjYCSgJcAm0CfQKMApkCpAKvArgCvwLFAsoCzQLPAs8CzgLLAscCwQK7ArICqQKeApEChAJ1AmUCVAJBAi4CGQIDAu0B1QG9AaQBigFvAVQBOAEbAf4A4QDDAKUAhgBoAEkAKgAMAO7/z/+x/5P/df9Y/zr/Hv8C/+b+y/6x/pj+f/5n/lD+Ov4l/hH+/v3s/dv9zP29/bD9pP2Z/Y/9h/2A/Xr9df1y/XD9cP1w/XL9dv16/YD9h/2P/Zn9o/2v/bz9yv3Z/en9+v0N/iD+M/5I/l7+dP6L/qP+u/7U/u3+B/8h/zz/V/9y/47/qf/F/+D//P8XADIATQBoAIMAngC4ANEA6gADARsBMgFJAV8BdAGJAZwBrwHBAdIB4gHxAf8BDAIXAiICLAI0AjwCQgJHAksCTgJQAlACUAJOAksCRwJCAjwCNAIsAiICGAIMAgAC8gHkAdUBxQG0AaIBkAF8AWgBVAE/ASkBEwH9AOYAzgC2AJ8AhgBuAFUAPQAkAAwA9P/c/8P/q/+U/3z/Zf9O/zj/Iv8M//f+4/7P/rz+qv6Y/of+d/5o/ln+TP4//jP+KP4f/hb+Dv4H/gD++/33/fT98v3x/fL98/31/fj9/P0B/gf+Dv4V/h7+KP4y/j7+Sv5X/mT+c/6C/pL+ov6z/sX+1/7q/v3+Ef8k/zn/Tf9i/3f/jf+i/7j/zf/j//j/DQAiADcATABhAHYAigCeALIAxQDYAOoA/AANAR4BLgE9AUwBWgFnAXQBfwGKAZUBngGnAa4BtQG7AcEBxQHIAcsBzQHNAc0BzAHKAcgBxAHAAbsBtQGuAaYBngGVAYsBgQF1AWoBXQFQAUIBNAElARYBBgH2AOYA1QDEALIAoACOAHwAaQBXAEQAMgAfAAwA+//o/9b/w/+x/5//jv98/2v/W/9L/zv/K/8c/w7/AP/z/ub+2f7O/sP+uP6v/qb+nf6W/o/+iP6D/n7+ev53/nT+c/5y/nH+cv5z/nX+eP57/n/+hP6K/pD+l/6e/qf+r/65/sP+zf7Y/uT+8P78/gn/F/8k/zL/Qf9Q/17/bv99/43/nP+s/7z/zP/c/+z//P8LABsAKwA6AEoAWQBoAHYAhQCTAKEArgC7AMgA1ADfAOsA9QAAAQkBEwEbASMBKwEyATgBPQFCAUcBSwFOAVABUgFTAVQBVAFTAVIBUAFNAUoBRgFCAT0BNwExASsBJAEcARQBCwECAfgA7wDkANkAzgDDALcAqwCfAJIAhQB4AGsAXgBRAEMANgAoABsADQAAAPP/5v/Z/8z/v/+y/6X/mf+N/4H/dv9r/2D/Vf9L/0H/OP8v/yf/H/8X/xD/Cf8D//7++P70/vD+7P7p/ub+5P7j/uL+4v7i/uP+5P7m/uj+6/7u/vL+9v77/gD/Bv8M/xL/Gf8h/yn/Mf85/0L/S/9V/17/aP9y/33/h/+S/53/qP+z/77/yv/V/+D/7P/3/wEADAAYACMALgA4AEMATgBYAGIAbAB1AH8AiACQAJkAoQCoALAAtwC+AMQAygDPANQA2QDdAOEA5ADnAOkA6wDtAO4A7gDvAO4A7gDsAOsA6QDmAOMA4ADdANkA1ADPAMoAxQC/ALkAsgCrAKQAnQCVAI0AhQB9AHUAbABjAFoAUQBIAD8ANQAsACMAGQAQAAYA/v/1/+v/4v/Z/9D/x/+//7b/rv+m/57/lv+P/4j/gf96/3T/bv9o/2L/Xf9Z/1T/UP9M/0n/Rv9D/0H/P/89/zz/O/87/zv/O/87/zz/Pv9A/0L/RP9H/0r/Tf9R/1X/Wf9e/2P/aP9t/3P/ef9//4X/jP+T/5n/oP+o/6//tv++/8b/zf/V/93/5P/s//T//P8DAAoAEgAaACEAKAAwADcAPgBFAEsAUgBYAF4AZABqAG8AdQB6AH4AgwCHAIsAjgCSAJUAmACaAJwAngCgAKEAogCjAKMAowCjAKIAoQCgAJ8AnQCbAJkAlgCTAJAAjQCJAIUAgQB9AHkAdABvAGoAZQBfAFoAVABOAEgAQgA8ADUALwApACIAHAAVAA8ACQACAP3/9v/w/+r/5P/e/9j/0v/M/8b/wf+8/7b/sf+t/6j/o/+f/5v/l/+U/5D/jf+K/4f/hf+D/4H/f/99/3z/e/96/3r/ev96/3r/e/97/3z/fv9//4H/g/+F/4f/iv+N/5D/k/+W/5r/nv+i/6b/qv+u/7P/t/+8/8H/xv/L/9D/1f/a/9//5f/q/+//9P/6////AwAIAA4AEwAYAB0AIgAnACsAMAA0ADkAPQBBAEUASQBNAFAAUwBXAFoAXABfAGEAZABmAGcAaQBrAGwAbQBuAG4AbgBvAG8AbgBuAG0AbABrAGoAaQBnAGUAYwBhAF8AXABZAFcAVABRAE0ASgBGAEMAPwA7ADcAMwAvACsAJwAjAB4AGgAWABEADQAJAAQAAAD9//j/9P/w/+z/6P/k/+D/3P/Y/9T/0f/N/8r/xv/D/8D/vf+7/7j/tv+z/7H/r/+u/6z/qv+p/6j/p/+m/6b/pf+l/6X/pf+l/6b/pv+n/6j/qf+q/6z/rf+v/7H/s/+1/7f/uf+8/77/wf/E/8f/yv/N/9D/0//W/9r/3f/h/+T/6P/r/+//8v/2//r//f8AAAMABwAKAA4AEQAVABgAGwAeACIAJQAoACoALQAwADIANQA3ADkAOwA9AD8AQQBDAEQARQBHAEgASABJAEoASgBLAEsASwBLAEsASgBKAEkASABHAEYARQBEAEIAQQA/AD4APAA6ADgANgAzADEALwAsACoAJwAkACIAHwAcABkAFgATABEADgALAAgABQACAAAA/f/6//f/9P/x/+//7P/p/+f/5P/i/9//3f/a/9j/1v/U/9L/0P/P/83/zP/K/8n/yP/H/8b/xf/E/8T/w//D/8P/wv/C/8P/w//D/8T/xP/F/8b/xv/H/8n/yv/L/8z/zv/P/9H/0//U/9b/2P/a/9z/3v/h/+P/5f/n/+r/7P/u//H/8//2//j/+v/9////AQADAAYACAAKAAwADwARABMAFQAXABkAGwAdAB8AIQAiACQAJgAnACgAKgArACwALQAuAC8AMAAwADEAMQAyADIAMgAyADIAMgAyADIAMQAxADAAMAAvAC4ALQAsACsAKgApACgAJgAlACMAIgAgAB8AHQAbABkAGAAWABQAEgAQAA4ADAAKAAgABgAEAAIAAAD///3/+//5//f/9v/0//L/8P/u/+3/6//p/+j/5v/l/+T/4v/h/+D/3//e/93/3P/b/9r/2f/Z/9j/2P/X/9f/1//X/9f/1//X/9f/1//X/9j/2P/Z/9r/2v/b/9z/3f/e/9//4P/h/+L/4//k/+b/5//o/+r/6//t/+7/8P/y//P/9f/2//j/+v/7//3///8AAAEAAgAEAAYABwAJAAoADAANAA8AEAARABMAFAAVABYAGAAZABoAGwAcABwAHQAeAB8AHwAgACAAIQAhACEAIgAiACIAIgAiACIAIgAhACEAIQAgACAAHwAfAB4AHgAdABwAGwAaABkAGAAXABYAFQAUABMAEgARAA8ADgANAAwACgAJAAgABgAFAAQAAgABAAAA///+//z/+//6//n/9//2//X/9P/z//L/8P/v/+7/7f/t/+z/6//q/+n/6f/o/+f/5//m/+b/5f/l/+X/5f/k/+T/5P/k/+T/5P/k/+X/5f/l/+X/5v/m/+f/5//o/+j/6f/q/+v/6//s/+3/7v/v//D/8f/y//P/9P/1//b/9//4//n/+v/7//z//f///wAAAAABAAIAAwAEAAUABgAHAAgACQAKAAsADAANAA4ADwAPABAAEQARABIAEwATABQAFAAVABUAFQAWABYAFgAWABcAFwAXABcAFwAXABcAFgAWABYAFgAVABUAFQAUABQAEwATABIAEQARABAADwAPAA4ADQAMAAwACwAKAAkACAAHAAYABgAFAAQAAwACAAEAAAAAAP///v/9//3//P/7//r/+f/4//j/9//2//X/9f/0//P/8//y//L/8f/x//D/8P/v/+//7//u/+7/7v/u/+7/7v/t/+3/7f/t/+3/7v/u/+7/7v/u/+//7//v//D/8P/w//H/8f/y//L/8//0//T/9f/1//b/9//3//j/+f/6//r/+//8//z//f/+//////8AAAAAAQABAAIAAwAEAAQABQAGAAYABwAIAAgACQAJAAoACgALAAsADAAMAA0ADQANAA4ADgAOAA4ADwAPAA8ADwAPAA8ADwAPAA8ADwAPAA8ADwAPAA4ADgAOAA4ADQANAA0ADAAAAAAAAAAAAAAAAAAAAAAAAAAAAAAAAAAAAAAAAAAAAAAAAAAAAAAAAAAAAAAAAAAAAAAAAAAAAAAAAAAAAAAAAAAAAAAAAAAAAAAAAAAAAAAAAAAAAAAAAAAAAAAAAAAAAAAAAAAAAAAAAAAAAAAAAAAAAAAAAAAAAAAAAAAAAAAAAAAAAAAAAAAAAAAAAAAAAAAAAAAAAAAAAAAAAAAAAAAAAAAAAAAAAAAAAAAAAAAAAAAAAAAAAAAAAAAAAAAAAAAAAAAAAAAAAAAAAAAAAAAAAAAAAAAAAAAAAAAAAAAAAAAAAAAAAAAAAAAAAAAAAAAAAAAAAAAAAAAAAAAAAAAAAAAAAAAAAAAAAAAAAAAAAAAAAAAAAAAAAAAAAAAAAAAAAAAAAAAAAAAAAAAAAAAAAAAAAAAAAAAAAAAAAAAAAAAAAAAAAAAAAAAAAAAAAAAAAAAAAAAAAAAAAAAAAAAAAAAAAAAAAAAAAAAAAAAAAAAAAAAAAAAAAAAAAAAAAAAAAAAAAAAAAAAAAAAAAAAAAAAAAAAAAAAAAAAAAAAAAAAAAAAAAAAAAAAAAAAAAAAAAAAAAAAAAAAAAAAAAAAAAAAAAAAAAAAAAAAAAAAAAAAAAAAAAAAAAAAAAAAAAAAAAAAAAAAAAAAAAAAAAAAAAAAAAAAAAAAAAAAAAAAAAAAAAAAAAAAAAAAAAAAAAAAAAAAAAAAAAAAAAAAAAAAAAAAAAAAAAAAAAAAAAAAAAAAAAAAAAAAAAAAAAAAAAAAAAAAAAAAAAAAAAAAAAAAAAAAAAAAAAAAAAAAAAAAAAAAAAAAAAAAAAAAAAAAAAAAAAAAAAAAAAAAAAAAAAAAAAAAAAAAAAAAAAAAAAAAAAAAAAAAAAAAAAAAAAAAAAAAAAAAAAAAAAAAAAAAAAAAAAAAAAAAAAAAAAAAAAAAAAAAAAAAAAAAAAAAAAAAAAAAAAAAAAAAAAAAAAAAAAAAAAAAAAAAAAAAAAAAAAAAAAAAAAAAAAAAAAAAAAAAAAAAAAAAAAAAAAAAAAAAAAAAAAAAAAAAAAAAAAAAAAAAAAAAAAAAAAAAAAAAAAAAAAAAAAAAAAAAAAAAAAAAAAAAAAAAAAAAAAAAAAAAAAAAAAAAAAAAAAAAAAAAAAAAAAAAAAAAAAAAAAAAAAAAAAAAAAAAAAAAAAAAAAAAAAAAAAAAAAAAAAAAAAAAAAAAAAAAAAAAAAAAAAAAAAAAAAAAAAAAAAAAAAAAAAAAAAAAAAAAAAAAAAAAAAAAAAAAAAAAAAAAAAAAAAAAAAAAAAAAAAAAAAAAAAAAAAAAAAAAAAAAAAAAAAAAAAAAAAAAAAAAAAAAAAAAAAAAAAAAAAAAAAAAAAAAAAAAAAAAAAAAAAAAAAAAAAAAAAAAAAAAAAAAAAAAAAAAAAAAAAAAAAAAAAAAAAAAAAAAAAAAAAAAAAAAAAAAAAAAAAAAAAAAAAAAAAAAAAAAAAAAAAAAAAAAAAAAAAAAAAAAAAAAAAAAAAAAAAAAAAAAAAAAAAAAAAAAAAAAAAAAAAAAAAAAAAAAAAAAAAAAAAAAAAAAAAAAAAAAAAAAAAAAAAAAAAAAAAAAAAAAAAAAAAAAAAAAAAAAAAAAAAAAAAAAAAAAAAAAAAAAAAAAAAAAAAAAAAAAAAAAAAAAAAAAAAAAAAAAAAAAAAAAAAAAAAAAAAAAAAAAAAAAAAAAAAAAAAAAAAAAAAAAAAAAAAAAAAAAAAAAAAAAAAAAAAAAAAAAAAAAAAAAAAAAAAAAAAAAAAAAAAAAAAAAAAAAAAAAAAAAAAAAAAAAAAAAAAAAAAAAAAAAAAAAAAAAAAAAAAAAAAAAAAAAAAAAAAAAAAAAAAAAAAAAAAAAAAAAAAAAAAAAAAAAAAAAAAAAAAAAAAAAAAAAAAAAAAAAAAAAAAAAAAAAAAAAAAAAAAAAAAAAAAAAAAAAAAAAAAAAAAAAAAAAAAAAAAAAAAAAAAAAAAAAAAAAAAAAAAAAAAAAAAAAAAAAAAAAAAAAAAAAAAAAAAAAAAAAAAAAAAAAAAAAAAAAAAAAAAAAAAAAAAAAAAAAAAAAAAAAAAAAAAAAAAAAAAAAAAAAAAAAAAAAAAAAAAAAAAAAAAAAAAAAAAAAAAAAAAAAAAAAAAAAAAAAAAAAAAAAAAAAAAAAAAAAAAAAAAAAAAAAAAAAAAAAAAAAAAAAAAAAAAAAAAAAAAAAAAAAAAAAAAAAAAAAAAAAAAAAAAAAAAAAAAAAAAAAAAAAAAAAAAAAAAAAAAAAAAAAAAAAAAAAAAAAAAAAAAAAAAAAAAAAAAAAAAAAAAAAAAAAAAAAAAAAAAAAAAAAAAAAAAAAAAAAAAAAAAAAAAAAAAAAAAAAAAAAAAAAAAAAAAAAAAAAAAAAAAAAAAAAAAAAAAAAAAAAAAAAAAAAAAAAAAAAAAAAAAAAAAAAAAAAAAAAAAAAAAAAAAAAAAAAAAAAAAAAAAAAAAAAAAAAAAAAAAAAAAAAAAAAAAAAAAAAAAAAAAAAAAAAAAAAAAAAAAAAAAAAAAAAAAAAAAAAAAAAAAAAAAAAAAAAAAAAAAAAAAAAAAAAAAAAAAAAAAAAAAAAAAAAAAAAAAAAAAAAAAAAAAAAAAAAAAAAAAAAAAAAAAAAAAAAAAAAAAAAAAAAAAAAAAAAAAAAAAAAAAAAAAAAAAAAAAAAAAAAAAAAAAAAAAAAAAAAAAAAAAAAAAAAAAAAAAAAAAAAAAAAAAAAAAAAAAAAAAAAAAAAAAAAAAAAAAAAAAAAAAAAAAAAAAAAAAAAAAAAAAAAAAAAAAAAAAAAAAAAAAAAAAAAAAAAAAAAAAAAAAAAAAAAAAAAAAAAAAAAAAAAAAAAAAAAAAAAAAAAAAAAAAAAAAAAAAAAAAAAAAAAAAAAAAAAAAAAAAAAAAAAAAAAAAAAAAAAAAAAAAAAAAAAAAAAAAAAAAAAAAAAAAAAAAAAAAAAAAAAAAAAAAAAAAAAAAAAAAAAAAAAAAAAAAAAAAAAAAAAAAAAAAAAAAAAAAAAAAAAAAAAAAAAAAAAAAAAAAAAAAAAAAAAAAAAAAAAAAAAAAAAAAAAAAAAAAAAAAAAAAAAAAAAAAAAAAAAAAAAAAAAAAAAAAAAAAAAAAAAAAAAAAAAAAAAAAAAAAAAAAAAAAAAAAAAAAAAAAAAAAAAAAAAAAAAAAAAAAAAAAAAAAAAAAAAAAAAAAAAAAAAAAAAAAAAAAAAAAAAAAAAAAAAAAAAAAAAAAAAAAAAAAAAAAAAAAAAAAAAAAAAAAAAAAAAAAAAAAAAAAAAAAAAAAAAAAAAAAAAAAAAAAAAAAAAAAAAAAAAAAAAAAAAAAAAAAAAAAAAAAAAAAAAAAAAAAAAAAAAAAAAAAAAAAAAAAAAAAAAAAAAAAAAAAAAAAAAAAAAAAAAAAAAAAAAAAAAAAAAAAAAAAAAAAAAAAAAAAAAAAAAAAAAAAAAAAAAAAAAAAAAAAAAAAAAAAAAAAAAAAAAAAAAAAAAAAAAAAAAAAAAAAAAAAAAAAAAAAAAAAAAAAAAAAAAAAAAAAAAAAAAAAAAAAAAAAAAAAAAAAAAAAAAAAAAAAAAAAAAAAAAAAAAAAAAAAAAAAAAAAAAAAAAAAAAAAAAAAAAAAAAAAAAAAAAAAAAAAAAAAAAAAAAAAAAAAAAAAAAAAAAAAAAAAAAAAAAAAAAAAAAAAAAAAAAAAAAAAAAAAAAAAAAAAAAAAAAAAAAAAAAAAAAAAAAAAAAAAAAAAAAAAAAAAAAAAAAAAAAAAAAAAAAAAAAAAAAAAAAAAAAAAAAAAAAAAAAAAAAAAAAAAAAAAAAAAAAAAAAAAAAAAAAAAAAAAAAAAAAAAAAAAAAAAAAAAAAAAAAAAAAAAAAAAAAAAAAAAAAAAAAAAAAAAAAAAAAAAAAAAAAAAAAAAAAAAAAAAAAAAAAAAAAAAAAAAAAAAAAAAAAAAAAAAAAAAAAAAAAAAAAAAAAAAAAAAAAAAAAAAAAAAAAAAAAAAAAAAAAAAAAAAAAAAAAAAAAAAAAAAAAAAAAAAAAAAAAAAAAAAAAAAAAAAAAAAAAAAAAAAAAAAAAAAAAAAAAAAAAAAAAAAAAAAAAAAAAAAAAAAAAAAAAAAAAAAAAAAAAAAAAAAAAAAAAAAAAAAAAAAAAAAAAAAAAAAAAAAAAAAAAAAAAAAAAAAAAAAAAAAAAAAAAAAAAAAAAAAAAAAAAAAAAAAAAAAAAAAAAAAAAAAAAAAAAAAAAAAAAAAAAAAAAAAAAAAAAAAAAAAAAAAAAAAAAAAAAAAAAAAAAAAAAAAAAAAAAAAAAAAAAAAAAAAAAAAAAAAAAAAAAAAAAAAAAAAAAAAAAAAAAAAAAAAAAAAAAAAAAAAAAAAAAAAAAAAAAAAAAAAAAAAAAAAAAAAAAAAAAAAAAAAAAAAAAAAAAAAAAAAAAAAAAAAAAAAAAAAAAAAAAAAAAAAAAAAAAAAAAAAAAAAAAAAAAAAAAAAAAAAAAAAAAAAAAAAAAAAAAAAAAAAAAAAAAAAAAAAAAAAAAAAAAAAAAAAAAAAAAAAAAAAAAAAAAAAAAAAAAAAAAAAAAAAAAAAAAAAAAAAAAAAAAAAAAAAAAAAAAAAAAAAAAAAAAAAAAAAAAAAAAAAAAAAAAAAAAAAAAAAAAAAAAAAAAAAAAAAAAAAAAAAAAAAAAAAAAAAAAAAAAAAAAAAAAAAAAAAAAAAAAAAAAAAAAAAAAAAAAAAAAAAAAAAAAAAAAAAAAAAAAAAAAAAAAAAAAAAAAAAAAAAAAAAAAAAAAAAAAAAAAAAAAAAAAAAAAAAAAAAAAAAAAAAAAAAAAAAAAAAAAAAAAAAAAAAAAAAAAAAAAAAAAAAAAAAAAAAAAAAAAAAAAAAAAAAAAAAAAAAAAAAAAAAAAAAAAAAAAAAAAAAAAAAAAAAAAAAAAAAAAAAAAAAAAAAAAAAAAAAAAAAAAAAAAAAAAAAAAAAAAAAAAAAAAAAAAAAAAAAAAAAAAAAAAAAAAAAAAAAAAAAAAAAAAAAAAAAAAAAAAAAAAAAAAAAAAAAAAAAAAAAAAAAAAAAAAAAAAAAAAAAAAAAAAAAAAAAAAAAAAAAAAAAAAAAAAAAAAAAAAAAAAAAAAAAAAAAAAAAAAAAAAAAAAAAAAAAAAAAAAAAAAAAAAAAAAAAAAAAAAAAAAAAAAAAAAAAAAAAAAAAAAAAAAAAAAAAAAAAAAAAAAAAAAAAAAAAAAAAAAAAAAAAAAAAAAAAAAAAAAAAAAAAAAAAAAAAAAAAAAAAAAAAAAAAAAAAAAAAAAAAAAAAAAAAAAAAAAAAAAAAAAAAAAAAAAAAAAAAAAAAAAAAAAAAAAAAAAAAAAAAAAAAAAAAAAAAAAAAAAAAAAAAAAAAAAAAAAAAAAAAAAAAAAAAAAAAAAAAAAAAAAAAAAAAAAAAAAAAAAAAAAAAAAAAAAAAAAAAAAAAAAAAAAAAAAAAAAAAAAAAAAAAAAAAAAAAAAAAAAAAAAAAAAAAAAAAAAAAAAAAAAAAAAAAAAAAAAAAAAAAAAAAAAAAAAAAAAAAAAAAAAAAAAAAAAAAAAAAAAAAAAAAAAAAAAAAAAAAAAAAAAAAAAAAAAAAAAAAAAAAAAAAAAAAAAAAAAAAAAAAAAAAAAAAAAAAAAAAAAAAAAAAAAAAAAAAAAAAAAAAAAAAAAAAAAAAAAAAAAAAAAAAAAAAAAAAAAAAAAAAAAAAAAAAAAAAAAAAAAAAAAAAAAAAAAAAAAAAAAAAAAAAAAAAAAAAAAAAAAAAAAAAAAAAAAAAAAAAAAAAAAAAAAAAAAAAAAAAAAAAAAAAAAAAAAAAAAAAAAAAAAAAAAAAAAAAAAAAAAAAAAAAAAAAAAAAAAAAAAAAAAAAAAAAAAAAAAAAAAAAAAAAAAAAAAAAAAAAAAAAAAAAAAAAAAAAAAAAAAAAAAAAAAAAAAAAAAAAAAAAAAAAAAAAAAAAAAAAAAAAAAAAAAAAAAAAAAAAAAAAAAAAAAAAAAAAAAAAAAAAAAAAAAAAAAAAAAAAAAAAAAAAAAAAAAAAAAAAAAAAAAAAAAAAAAAAAAAAAAAAAAAAAAAAAAAAAAAAAAAAAAAAAAAAAAAAAAAAAAAAAAAAAAAAAAAAAAAAAAAAAAAAAAAAAAAAAAAAAAAAAAAAAAAAAAAAAAAAAAAAAAAAAAAAAAAAAAAAAAAAAAAAAAAAAAAAAAAAAAAAAAAAAAAAAAAAAAAAAAAAAAAAAAAAAAAAAAAAAAAAAAAAAAAAAAAAAAAAAAAAAAAAAAAAAAAAAAAAAAAAAAAAAAAAAAAAAAAAAAAAAAAAAAAAAAAAAAAAAAAAAAAAAAAAAAAAAAAAAAAAAAAAAAAAAAAAAAAAAAAAAAAAAAAAAAAAAAAAAAAAAAAAAAAAAAAAAAAAAAAAAAAAAAAAAAAAAAAAAAAAAAAAAAAAAAAAAAAAAAAAAAAAAAAAAAAAAAAAAAAAAAAAAAAAAAAAAAAAAAAAAAAAAAAAAAAAAAAAAAAAAAAAAAAAAAAAAAAAAAAAAAAAAAAAAAAAAAAAAAAAAAAAAAAAAAAAAAAAAAAAAAAAAAAAAAAAAAAAAAAAAAAAAAAAAAAAAAAAAAAAAAAAAAAAAAAAAAAAAAAAAAAAAAAAAAAAAAAAAAAAAAAAAAAAAAAAAAAAAAAAAAAAAAAAAAAAAAAAAAAAAAAAAAAAAAAAAAAAAAAAAAAAAAAAAAAAAAAAAAAAAAAAAAAAAAAAAAAAAAAAAAAAAAAAAAAAAAAAAAAAAAAAAAAAAAAAAAAAAAAAAAAAAAAAAAAAAAAAAAAAAAAAAAAAAAAAAAAAAAAAAAAAAAAAAAAAAAAAAAAAAAAAAAAAAAAAAAAAAAAAAAAAAAAAAAAAAAAAAAAAAAAAAAAAAAAAAAAAAAAAAAAAAAAAAAAAAAAAAAAAAAAAAAAAAAAAAAAAAAAAAAAAAAAAAAAAAAAAAAAAAAAAAAAAAAAAAAAAAAAAAAAAAAAAAAAAAAAAAAAAAAAAAAAAAAAAAAAAAAAAAAAAAAAAAAAAAAAAAAAAAAAAAAAAAAAAAAAAAAAAAAAAAAAAAAAAAAAAAAAAAAAAAAAAAAAAAAAAAAAAAAAAAAAAAAAAAAAAAAAAAAAAAAAAAAAAAAAAAAAAAAAAAAAAAAAAAAAAAAAAAAAAAAAAAAAAAAAAAAAAAAAAAAAAAAAAAAAAAAAAAAAAAAAAAAAAAAAAAAAAAAAAAAAAAAAAAAAAAAAAAAAAAAAAAAAAAAAAAAAAAAAAAAAAAAAAAAAAAAAAAAAAAAAAAAAAAAAAAAAAAAAAAAAAAAAAAAAAAAAAAAAAAAAAAAAAAAAAAAAAAAAAAAAAAAAAAAAAAAAAAAAAAAAAAAAAAAAAAAAAAAAAAAAAAAAAAAAAAAAAAAAAAAAAAAAAAAAAAAAAAAAAAAAAAAAAAAAAAAAAAAAAAAAAAAAAAAAAAAAAAAAAAAAAAAAAAAAAAAAAAAAAAAAAAAAAAAAAAAAAAAAAAAAAAAAAAAAAAAAAAAAAAAAAAAAAAAAAAAAAAAAAAAAAAAAAAAAAAAAAAAAAAAAAAAAAAAAAAAAAAAAAAAAAAAAAAAAAAAAAAAAAAAAAAAAAAAAAAAAAAAAAAAAAAAAAAAAAAAAAAAAAAAAAAAAAAAAAAAAAAAAAAAAAAAAAAAAAAAAAAAAAAAAAAAAAAAAAAAAAAAAAAAAAAAAAAAAAAAAAAAAAAAAAAAAAAAAAAAAAAAAAAAAAAAAAAAAAAAAAAAAAAAAAAAAAAAAAAAAAAAAAAAAAAAAAAAAAAAAAAAAAAAAAAAAAAAAAAAAAAAAAAAAAAAAAAAAAAAAAAAAAAAAAAAAAAAAAAAAAAAAAAAAAAAAAAAAAAAAAAAAAAAAAAAAAAAAAAAAAAAAAAAAAAAAAAAAAAAAAAAAAAAAAAAAAAAAAAAAAAAAAAAAAAAAAAAAAAAAAAAAAAAAAAAAAAAAAAAAAAAAAAAAAAAAAAAAAAAAAAAAAAAAAAAAAAAAAAAAAAAAAAAAAAAAAAAAAAAAAAAAAAAAAAAAAAAAAAAAAAAAAAAAAAAAAAAAAAAAAAAAAAAAAAAAAAAAAAAAAAAAAAAAAAAAAAAAAAAAAAAAAAAAAAAAAAAAAAAAAAAAAAAAAAAAAAAAAAAAAAAAAAAAAAAAAAAAAAAAAAAAAAAAAAAAAAAAAAAAAAAAAAAAAAAAAAAAAAAAAAAAAAAAAAAAAAAAAAAAAAAAAAAAAAAAAAAAAAAAAAAAAAAAAAAAAAAAAAAAAAAAAAAAAAAAAAAAAAAAAAAAAAAAAAAAAAAAAAAAAAAAAAAAAAAAAAAAAAAAAAAAAAAAAAAAAAAAAAAAAAAAAAAAAAAAAAAAAAAAAAAAAAAAAAAAAAAAAAAAAAAAAAAAAAAAAAAAAAAAAAAAAAAAAAAAAAAAAAAAAAAAAAAAAAAAAAAAAAAAAAAAAAAAAAAAAAAAAAAAAAAAAAAAAAAAAAAAAAAAAAAAAAAAAAAAAAAAAAAAAAAAAAAAAAAAAAAAAAAAAAAAAAAAAAAAAAAAAAAAAAAAAAAAAAAAAAAAAAAAAAAAAAAAAAAAAAAAAAAAAAAAAAAAAAAAAAAAAAAAAAAAAAAAAAAAAAAAAAAAAAAAAAAAAAAAAAAAAAAAAAAAAAAAAAAAAAAAAAAAAAAAAAAAAAAAAAAAAAAAAAAAAAAAAAAAAAAAAAAAAAAAAAAAAAAAAAAAAAAAAAAAAAAAAAAAAAAAAAAAAAAAAAAAAAAAAAAAAAAAAAAAAAAAAAAAAAAAAAAAAAAAAAAAAAAAAAAAAAAAAAAAAAAAAAAAAAAAAAAAAAAAAAAAAAAAAAAAAAAAAAAAAAAAAAAAAAAAAAAAAAAAAAAAAAAAAAAAAAAAAAAAAAAAAAAAAAAAAAAAAAAAAAAAAAAAAAAAAAAAAAAAAAAAAAAAAAAAAAAAAAAAAAAAAAAAAAAAAAAAAAAAAAAAAAAAAAAAAAAAAAAAAAAAAAAAAAAAAAAAAAAAAAAAAAAAAAAAAAAAAAAAAAAAAAAAAAAAAAAAAAAAAAAAAAAAAAAAAAAAAAAAAAAAAAAAAAAAAAAAAAAAAAAAAAAAAAAAAAAAAAAAAAAAAAAAAAAAAAAAAAAAAAAAAAAAAAAAAAAAAAAAAAAAAAAAAAAAAAAAAAAAAAAAAAAAAAAAAAAAAAAAAAAAAAAAAAAAAAAAAAAAAAAAAAAAAAAAAAAAAAAAAAAAAAAAAAAAAAAAAAAAAAAAAAAAAAAAAAAAAAAAAAAAAAAAAAAAAAAAAAAAAAAAAAAAAAAAAAAAAAAAAAAAAAAAAAAAAAAAAAAAAAAAAAAAAAAAAAAAAAAAAAAAAAAAAAAAAAAAAAAAAAAAAAAAAAAAAAAAAAAAAAAAAAAAAAAAAAAAAAAAAAAAAAAAAAAAAAAAAAAAAAAAAAAAAAAAAAAAAAAAAAAAAAAAAAAAAAAAAAAAAAAAAAAAAAAAAAAAAAAAAAAAAAAAAAAAAAAAAAAAAAAAAAAAAAAAAAAAAAAAAAAAAAAAAAAAAAAAAAAAAAAAAAAAAAAAAAAAAAAAAAAAAAAAAAAAAAAAAAAAAAAAAAAAAAAAAAAAAAAAAAAAAAAAAAAAAAAAAAAAAAAAAAAAAAAAAAAAAAAAAAAAAAAAAAAAAAAAAAAAAAAAAAAAAAAAAAAAAAAAAAAAAAAAAAAAAAAAAAAAAAAAAAAAAAAAAAAAAAAAAAAAAAAAAAAAAAAAAAAAAAAAAAAAAAAAAAAAAAAAAAAAAAAAAAAAAAAAAAAAAAAAAAAAAAAAAAAAAAAAAAAAAAAAAAAAAAAAAAAAAAAAAAAAAAAAAAAAAAAAAAAAAAAAAAAAAAAAAAAAAAAAAAAAAAAAAAAAAAAAAAAAAAAAAAAAAAAAAAAAAAAAAAAAAAAAAAAAAAAAAAAAAAAAAAAAAAAAAAAAAAAAAAAAAAAAAAAAAAAAAAAAAAAAAAAAAAAAAAAAAAAAAAAAAAAAAAAAAAAAAAAAAAAAAAAAAAAAAAAAAAAAAAAAAAAAAAAAAAAAAAAAAAAAAAAAAAAAAAAAAAAAAAAAAAAAAAAAAAAAAAAAAAAAAAAAAAAAAAAAAAAAAAAAAAAAAAAAAAAAAAAAAAAAAAAAAAAAAAAAAAAAAAAAAAAAAAAAAAAAAAAAAAAAAAAAAAAAAAAAAAAAAAAAAAAAAAAAAAAAAAAAAAAAAAAAAAAAAAAAAAAAAAAAAAAAAAA=\" type=\"audio/wav\" />\n",
       "                    Your browser does not support the audio element.\n",
       "                </audio>\n",
       "              "
      ],
      "text/plain": [
       "<IPython.lib.display.Audio object>"
      ]
     },
     "execution_count": 6,
     "metadata": {},
     "output_type": "execute_result"
    }
   ],
   "source": [
    "def evalSound(a,printing=False):\n",
    "    transform_input= {\"signal\":torch.tensor(a,dtype=torch.float),\"label\":torch.tensor(0)}\n",
    "    env_feats=env_trans.call(transform_input)[\"feats\"].to(device)\n",
    "    freq_feats=freq_env_trans.call(transform_input)[\"feats\"].to(device)\n",
    "    pitch_feats=fc_spec_trans_dvn.call(transform_input)[\"feats\"].to(device)\n",
    "    spec_flat=torch.flatten(pitch_feats, start_dim=1)\n",
    "\n",
    "\n",
    "#     outputEnvFreq=freq_env_model_dvd(freq_feats)\n",
    "#     outputCNNDVD=dvd_cnn(pitch_feats.reshape(-1,1,20,20))\n",
    "#     outputFCDVD=dvd_fc(spec_flat)\n",
    "    outputE=env_model_dvn(env_feats)\n",
    "    outputSPECFC=fc_spec_model_dvn(spec_flat)\n",
    "    outputCNN= cnn_model_dvn(pitch_feats.reshape(-1,1,20,20))\n",
    "    \n",
    "    o_e,o_fc_spec,o_cnn_spec=outputE[0].item(), outputSPECFC[0][0].item() ,outputCNN[0][0].item()\n",
    "#     tote=outputE[0].item()+outputSPECFC[0][0].item()\n",
    "\n",
    "#     gfc=drum_groups[torch.argmax(outputFCDVD).item()]\n",
    "#     gcnn=drum_groups[torch.argmax(outputCNNDVD).item()]\n",
    "#     genvfreq=drum_groups[torch.argmax(outputEnvFreq).item()]\n",
    "#     cat_consensus=drum_groups[torch.argmax(outputFCDVD+outputCNNDVD+outputEnvFreq)]\n",
    "    \n",
    "    spec_score=(o_fc_spec+o_cnn_spec)/2\n",
    "#     if printing:\n",
    "#         print(outputEnvFreq)\n",
    "#         print(torch.argmax(outputEnvFreq).item())\n",
    "#         print(\"env score\",o_e)\n",
    "#         print(\"fc_spec\",o_fc_spec)\n",
    "#         print(\"o_cnn_spec\",o_cnn_spec)\n",
    "#         print(\"fc category\",gfc,\"\\ncnn category\",gcnn,\"\\nenv+freq\",genvfreq)\n",
    "#         print(\"total consensus\",cat_consensus)\n",
    "#         return o_cnn_spec\n",
    "    return o_fc_spec\n",
    "out,params= stackMaker(stack_size)\n",
    "def findDrum(stack_size=1,iteration=0):\n",
    "    \n",
    "    a= memToAud(out)\n",
    "    return a,evalSound(a,printing=True)\n",
    "i=0\n",
    "a,sc=findDrum(stack_size,iteration=i)\n",
    "\n",
    "\n",
    "# print(sc)\n",
    "print(a,sc)\n",
    "Audio(a,rate=sr, autoplay=True)"
   ]
  },
  {
   "cell_type": "code",
   "execution_count": 7,
   "metadata": {},
   "outputs": [],
   "source": [
    "def evalSound(a,printing=False):\n",
    "    transform_input= {\"signal\":torch.tensor(a,dtype=torch.float),\"label\":torch.tensor(0)}\n",
    "    env_feats=env_trans.call(transform_input)[\"feats\"].to(device)\n",
    "    freq_feats=freq_env_trans.call(transform_input)[\"feats\"].to(device)\n",
    "    pitch_feats=fc_spec_trans_dvn.call(transform_input)[\"feats\"].to(device)\n",
    "    spec_flat=torch.flatten(pitch_feats, start_dim=1)\n",
    "\n",
    "\n",
    "    outputEnvFreq=freq_env_model_dvd(freq_feats)\n",
    "    outputCNNDVD=dvd_cnn(pitch_feats.reshape(-1,1,20,20))\n",
    "    outputFCDVD=dvd_fc(spec_flat)\n",
    "    outputE=env_model_dvn(env_feats)\n",
    "    outputSPECFC=fc_spec_model_dvn(spec_flat)\n",
    "    outputCNN= cnn_model_dvn(pitch_feats.reshape(-1,1,20,20))\n",
    "    \n",
    "    o_e,o_fc_spec,o_cnn_spec=outputE[0].item(), outputSPECFC[0][0].item() ,outputCNN[0][0].item()\n",
    "    tote=outputE[0].item()+outputSPECFC[0][0].item()\n",
    "\n",
    "    gfc=drum_groups[torch.argmax(outputFCDVD).item()]\n",
    "    gcnn=drum_groups[torch.argmax(outputCNNDVD).item()]\n",
    "    genvfreq=drum_groups[torch.argmax(outputEnvFreq).item()]\n",
    "    cat_consensus=drum_groups[torch.argmax(outputFCDVD+outputCNNDVD+outputEnvFreq)]\n",
    "    \n",
    "    spec_score=(o_fc_spec+o_cnn_spec)/2\n",
    "    if printing:\n",
    "        print(tote)\n",
    "        print(outputEnvFreq)\n",
    "        print(torch.argmax(outputEnvFreq).item())\n",
    "        print(\"env score\",o_e)\n",
    "        print(\"fc_spec\",o_fc_spec)\n",
    "        print(\"o_cnn_spec\",o_cnn_spec)\n",
    "        print(\"fc category\",gfc,\"\\ncnn category\",gcnn,\"\\nenv+freq\",genvfreq)\n",
    "        print(\"total consensus\",cat_consensus)\n",
    "        return o_cnn_spec\n",
    "    return o_cnn_spec\n",
    "\n",
    "\n",
    "def findDrum(stack_size=1,iteration=0):\n",
    "    \n",
    "    a= memToAud(out)\n",
    "    return a,evalSound(a,printing=True)\n"
   ]
  },
  {
   "cell_type": "code",
   "execution_count": 8,
   "metadata": {},
   "outputs": [
    {
     "name": "stderr",
     "output_type": "stream",
     "text": [
      "../feature_extraction/pytorch_models.py:189: UserWarning: Implicit dimension choice for softmax has been deprecated. Change the call to include dim=X as an argument.\n",
      "  out=self.lsm(out)\n"
     ]
    },
    {
     "name": "stdout",
     "output_type": "stream",
     "text": [
      "50\r"
     ]
    }
   ],
   "source": [
    "stack_size=1\n",
    "#measure variation\n",
    "out,params= stackMaker(stack_size)\n",
    "\n",
    "j_shape=10\n",
    "all_rows = []\n",
    "while len(all_rows) < 50:\n",
    "    one_row= np.zeros(10)\n",
    "    out,params= stackMaker(stack_size)\n",
    "    for j in range(j_shape):\n",
    "        out=paramToSound(params)\n",
    "        a = memToAud(out)\n",
    "        one_row[j]=evalSound(a)\n",
    "#     print(np.average(one_row))\n",
    "    if np.average(one_row)>0: all_rows.append(one_row); print(str(len(all_rows))+\"\\r\",end='')\n",
    "    \n",
    "all_rows=np.array(all_rows)\n",
    "df = pd.DataFrame(all_rows)\n"
   ]
  },
  {
   "cell_type": "code",
   "execution_count": 42,
   "metadata": {},
   "outputs": [
    {
     "data": {
      "application/vnd.plotly.v1+json": {
       "config": {
        "plotlyServerURL": "https://plot.ly"
       },
       "data": [
        {
         "marker": {
          "color": "black"
         },
         "type": "box",
         "y": [
          5.455128484754823e-05,
          5.245261490927078e-05,
          5.885619611945003e-05,
          5.1341106882318854e-05,
          4.2800416849786416e-05,
          6.258724897634238e-05,
          5.966901881038211e-05,
          3.032120002899319e-05,
          6.748070154571906e-05,
          4.4733045797329396e-05
         ]
        },
        {
         "marker": {
          "color": "black"
         },
         "type": "box",
         "y": [
          0.0010309662902727723,
          0.0010309662902727723,
          0.0010309662902727723,
          0.0010309662902727723,
          0.0010309662902727723,
          0.0010309662902727723,
          0.0010309662902727723,
          0.0010309662902727723,
          0.0010309662902727723,
          0.0010309662902727723
         ]
        },
        {
         "marker": {
          "color": "black"
         },
         "type": "box",
         "y": [
          0.0013639760436490178,
          0.0013639760436490178,
          0.0013639760436490178,
          0.0013639760436490178,
          0.0013639760436490178,
          0.0013639760436490178,
          0.0013639760436490178,
          0.0013639760436490178,
          0.0013639760436490178,
          0.0013639760436490178
         ]
        },
        {
         "marker": {
          "color": "black"
         },
         "type": "box",
         "y": [
          0.0033386768773198128,
          0.0033386768773198128,
          0.0033386768773198128,
          0.0033386768773198128,
          0.0033386768773198128,
          0.0033386768773198128,
          0.0033386768773198128,
          0.0033386768773198128,
          0.0033386768773198128,
          0.0033386768773198128
         ]
        },
        {
         "marker": {
          "color": "black"
         },
         "type": "box",
         "y": [
          5.901401527808048e-05,
          9.316412615589797e-05,
          7.596659997943789e-05,
          8.297574822790921e-05,
          7.195736543508247e-05,
          6.112561095505953e-05,
          6.11408831900917e-05,
          0.00010603520786389709,
          7.79451074777171e-05,
          7.722721784375608e-05
         ]
        },
        {
         "marker": {
          "color": "black"
         },
         "type": "box",
         "y": [
          0.0024179595056921244,
          0.0024179595056921244,
          0.0024179595056921244,
          0.0024179595056921244,
          0.0024179595056921244,
          0.0024179595056921244,
          0.0024179595056921244,
          0.0024179595056921244,
          0.0024179595056921244,
          0.0024179595056921244
         ]
        },
        {
         "marker": {
          "color": "black"
         },
         "type": "box",
         "y": [
          5.423399852588773e-05,
          3.419406129978597e-05,
          6.04535780439619e-05,
          5.506348315975629e-05,
          4.824358256882988e-05,
          6.113365816418082e-05,
          6.45070758764632e-05,
          3.884577381541021e-05,
          3.461398227955215e-05,
          4.262079164618626e-05
         ]
        },
        {
         "marker": {
          "color": "black"
         },
         "type": "box",
         "y": [
          0.00016729407070670277,
          0.00016729407070670277,
          0.00016729407070670277,
          0.00016729407070670277,
          0.00016729407070670277,
          0.00016729407070670277,
          0.00016729407070670277,
          0.00016729407070670277,
          0.00016729407070670277,
          0.00016729407070670277
         ]
        },
        {
         "marker": {
          "color": "black"
         },
         "type": "box",
         "y": [
          0.0007138874498195946,
          0.0007138874498195946,
          0.0007138874498195946,
          0.0007138874498195946,
          0.0007138874498195946,
          0.0007138874498195946,
          0.0007138874498195946,
          0.0007138874498195946,
          0.0007138874498195946,
          0.0007138874498195946
         ]
        },
        {
         "marker": {
          "color": "black"
         },
         "type": "box",
         "y": [
          0.0012474308023229241,
          0.0012474308023229241,
          0.0012474308023229241,
          0.0012474308023229241,
          0.0012474308023229241,
          0.0012474308023229241,
          0.0012474308023229241,
          0.0012474308023229241,
          0.0012474308023229241,
          0.0012474308023229241
         ]
        },
        {
         "marker": {
          "color": "black"
         },
         "type": "box",
         "y": [
          0.0028887896332889795,
          0.0029014451429247856,
          0.002389081520959735,
          0.002379833720624447,
          0.002846178598701954,
          0.0023186136968433857,
          0.0019406334031373262,
          0.0024265688844025135,
          0.002432591049000621,
          0.002865888411179185
         ]
        },
        {
         "marker": {
          "color": "black"
         },
         "type": "box",
         "y": [
          4.6590834244852886e-05,
          5.317102841218002e-05,
          5.4368010751204565e-05,
          4.1869872802635655e-05,
          4.080019425600767e-05,
          4.876794264419004e-05,
          3.899364310200326e-05,
          3.107271186308935e-05,
          7.014629227342084e-05,
          5.1513692596927285e-05
         ]
        },
        {
         "marker": {
          "color": "black"
         },
         "type": "box",
         "y": [
          0.00013075907190795988,
          0.00017025232955347747,
          0.00014287856174632907,
          0.00014233397087082267,
          0.00010351163655286655,
          0.00015927765343803912,
          0.00013652716006617993,
          0.0001584904530318454,
          0.000129919673781842,
          8.293698192574084e-05
         ]
        },
        {
         "marker": {
          "color": "black"
         },
         "type": "box",
         "y": [
          0.0003326981095597148,
          0.0003326981095597148,
          0.0003326981095597148,
          0.0003326981095597148,
          0.0003326981095597148,
          0.0003326981095597148,
          0.0003326981095597148,
          0.0003326981095597148,
          0.0003326981095597148,
          0.0003326981095597148
         ]
        },
        {
         "marker": {
          "color": "black"
         },
         "type": "box",
         "y": [
          0.00012387227616272867,
          0.00012387227616272867,
          0.00012387227616272867,
          0.00012387227616272867,
          0.00012387227616272867,
          0.00012387227616272867,
          0.00012387227616272867,
          0.00012387227616272867,
          0.00012387227616272867,
          0.00012387227616272867
         ]
        },
        {
         "marker": {
          "color": "black"
         },
         "type": "box",
         "y": [
          2.3853797301853774e-06,
          2.5219244434993016e-06,
          2.370082711422583e-06,
          2.914772039730451e-06,
          2.0699380911537446e-06,
          2.893060127462377e-06,
          2.4852656679286156e-06,
          2.3759778287057998e-06,
          2.6578741199045908e-06,
          2.07915149985638e-06
         ]
        },
        {
         "marker": {
          "color": "black"
         },
         "type": "box",
         "y": [
          0.0011233064578846097,
          0.0011233064578846097,
          0.0011233064578846097,
          0.0011233064578846097,
          0.0011233064578846097,
          0.0011233064578846097,
          0.0011233064578846097,
          0.0011233064578846097,
          0.0011233064578846097,
          0.0011233064578846097
         ]
        },
        {
         "marker": {
          "color": "black"
         },
         "type": "box",
         "y": [
          2.455408321111463e-05,
          2.798362766043283e-05,
          3.255537012591958e-05,
          3.74253504560329e-05,
          3.9711005229037255e-05,
          3.496425415505655e-05,
          3.478572398307733e-05,
          3.374800508026965e-05,
          2.672128175618127e-05,
          2.80304484476801e-05
         ]
        },
        {
         "marker": {
          "color": "black"
         },
         "type": "box",
         "y": [
          0.000542117515578866,
          0.000542117515578866,
          0.000542117515578866,
          0.000542117515578866,
          0.000542117515578866,
          0.000542117515578866,
          0.000542117515578866,
          0.000542117515578866,
          0.000542117515578866,
          0.000542117515578866
         ]
        },
        {
         "marker": {
          "color": "black"
         },
         "type": "box",
         "y": [
          6.727490108460188e-05,
          9.121026960201561e-05,
          6.137185846455395e-05,
          6.271802703849971e-05,
          8.194433030439541e-05,
          7.265702151926234e-05,
          6.486800702987239e-05,
          5.682932896888815e-05,
          5.864297054358758e-05,
          7.842361083021387e-05
         ]
        },
        {
         "marker": {
          "color": "black"
         },
         "type": "box",
         "y": [
          8.342505680047907e-06,
          6.9885254561086185e-06,
          7.210811418190133e-06,
          5.0474282033974305e-06,
          6.927392860234249e-06,
          6.9251136665116064e-06,
          6.633765678998316e-06,
          6.437023785110796e-06,
          6.640848823735723e-06,
          5.208345100982115e-06
         ]
        },
        {
         "marker": {
          "color": "black"
         },
         "type": "box",
         "y": [
          0.001073400373570621,
          0.0008806318510323763,
          0.0008695587748661637,
          0.0008366521797142923,
          0.0008231251849792898,
          0.0010265898890793324,
          0.0008593762177042663,
          0.0009146733209490776,
          0.000853924488183111,
          0.0010622547706589103
         ]
        },
        {
         "marker": {
          "color": "black"
         },
         "type": "box",
         "y": [
          0.0027935714460909367,
          0.0027935714460909367,
          0.0027935714460909367,
          0.0027935714460909367,
          0.0027935714460909367,
          0.0027935714460909367,
          0.0027935714460909367,
          0.0027935714460909367,
          0.0027935714460909367,
          0.0027935714460909367
         ]
        },
        {
         "marker": {
          "color": "black"
         },
         "type": "box",
         "y": [
          0.0002520316920708865,
          0.0002520316920708865,
          0.0002520316920708865,
          0.0002520316920708865,
          0.0002520316920708865,
          0.0002520316920708865,
          0.0002520316920708865,
          0.0002520316920708865,
          0.0002520316920708865,
          0.0002520316920708865
         ]
        },
        {
         "marker": {
          "color": "black"
         },
         "type": "box",
         "y": [
          0.010464315302670002,
          0.01413529273122549,
          0.01003284566104412,
          0.00803779810667038,
          0.01081057172268629,
          0.01348878163844347,
          0.009451452642679214,
          0.008990057744085789,
          0.008012531325221062,
          0.008401596918702126
         ]
        },
        {
         "marker": {
          "color": "black"
         },
         "type": "box",
         "y": [
          0.0008837477653287351,
          0.000866252463310957,
          0.0007356243440881371,
          0.0007818252197466791,
          0.0007947557605803013,
          0.000990724889561534,
          0.0007523806416429579,
          0.0009029059438034892,
          0.0006748284795321524,
          0.0009229313000105321
         ]
        },
        {
         "marker": {
          "color": "black"
         },
         "type": "box",
         "y": [
          1.0532151861752936e-07,
          1.1639033203891813e-07,
          1.7618971526189853e-07,
          1.2300188245717436e-07,
          1.495053254529921e-07,
          2.0361942176805314e-07,
          2.209108771467072e-07,
          1.8127255430044897e-07,
          2.1568443742125964e-07,
          1.429426390586741e-07
         ]
        },
        {
         "marker": {
          "color": "black"
         },
         "type": "box",
         "y": [
          0.0005991142243146896,
          0.00048124033492058516,
          0.0004331873496994376,
          0.00047010957496240735,
          0.0005336381727829576,
          0.0004708264605142176,
          0.0004184235876891762,
          0.00044623942812904716,
          0.000518036016728729,
          0.0005188151262700558
         ]
        },
        {
         "marker": {
          "color": "black"
         },
         "type": "box",
         "y": [
          0.00036330800503492355,
          0.00036330800503492355,
          0.00036330800503492355,
          0.00036330800503492355,
          0.00036330800503492355,
          0.00036330800503492355,
          0.00036330800503492355,
          0.00036330800503492355,
          0.00036330800503492355,
          0.00036330800503492355
         ]
        },
        {
         "marker": {
          "color": "black"
         },
         "type": "box",
         "y": [
          0.0027094471734017134,
          0.0027094471734017134,
          0.0027094471734017134,
          0.0027094471734017134,
          0.0027094471734017134,
          0.0027094471734017134,
          0.0027094471734017134,
          0.0027094471734017134,
          0.0027094471734017134,
          0.0027094471734017134
         ]
        },
        {
         "marker": {
          "color": "black"
         },
         "type": "box",
         "y": [
          0.0010145541746169329,
          0.0013476136373355985,
          0.0011625514598563313,
          0.000877517566550523,
          0.000990954227745533,
          0.0015649899141862988,
          0.0010197068331763148,
          0.0008755360613577068,
          0.0016135243931785226,
          0.0011636379640549421
         ]
        },
        {
         "marker": {
          "color": "black"
         },
         "type": "box",
         "y": [
          0.001180895953439176,
          0.001180895953439176,
          0.001180895953439176,
          0.001180895953439176,
          0.001180895953439176,
          0.001180895953439176,
          0.001180895953439176,
          0.001180895953439176,
          0.001180895953439176,
          0.001180895953439176
         ]
        },
        {
         "marker": {
          "color": "black"
         },
         "type": "box",
         "y": [
          1.6371768651879393e-06,
          9.964613809643197e-07,
          1.309614617639454e-06,
          2.89727336166834e-06,
          1.5289813291019527e-06,
          1.489950591349043e-06,
          1.4484971870842855e-06,
          2.7130784019391285e-06,
          1.8969368511534412e-06,
          1.508676859884872e-06
         ]
        },
        {
         "marker": {
          "color": "black"
         },
         "type": "box",
         "y": [
          0.0006816174718551338,
          0.0006180270574986935,
          0.0005266271764412522,
          0.0006490470841526985,
          0.0005110995261929929,
          0.0005323107470758259,
          0.0006427066400647163,
          0.0006300767417997122,
          0.0006862485315650702,
          0.0005885091377422214
         ]
        },
        {
         "marker": {
          "color": "black"
         },
         "type": "box",
         "y": [
          2.721632696989218e-08,
          4.852648771702661e-08,
          4.989091095808362e-08,
          4.187635482821861e-08,
          5.61659092568334e-08,
          5.010452497344886e-08,
          5.167293437580156e-08,
          4.2230158925349315e-08,
          5.046427986599156e-08,
          4.063566905188054e-08
         ]
        },
        {
         "marker": {
          "color": "black"
         },
         "type": "box",
         "y": [
          0.0029522727709263563,
          0.0029522727709263563,
          0.0029522727709263563,
          0.0029522727709263563,
          0.0029522727709263563,
          0.0029522727709263563,
          0.0029522727709263563,
          0.0029522727709263563,
          0.0029522727709263563,
          0.0029522727709263563
         ]
        },
        {
         "marker": {
          "color": "black"
         },
         "type": "box",
         "y": [
          1.0936734042843455e-06,
          8.541225611224945e-07,
          8.280950964945077e-07,
          6.046030307516048e-07,
          4.879681227976107e-07,
          9.636726190365152e-07,
          8.636064876554883e-07,
          4.251456289239286e-07,
          8.089539278444136e-07,
          8.959513024819898e-07
         ]
        },
        {
         "marker": {
          "color": "black"
         },
         "type": "box",
         "y": [
          0.0007966418634168804,
          0.000674969982355833,
          0.000656849006190896,
          0.0007832513656467199,
          0.0006586139788851142,
          0.0009062254684977233,
          0.0006658342899754643,
          0.0005103189614601433,
          0.0007637397502548993,
          0.0006933106924407184
         ]
        },
        {
         "marker": {
          "color": "black"
         },
         "type": "box",
         "y": [
          0.00158957380335778,
          0.00158957380335778,
          0.00158957380335778,
          0.00158957380335778,
          0.00158957380335778,
          0.00158957380335778,
          0.00158957380335778,
          0.00158957380335778,
          0.00158957380335778,
          0.00158957380335778
         ]
        },
        {
         "marker": {
          "color": "black"
         },
         "type": "box",
         "y": [
          0.0007706996402703226,
          0.0007706996402703226,
          0.0007706996402703226,
          0.0007706996402703226,
          0.0007706996402703226,
          0.0007706996402703226,
          0.0007706996402703226,
          0.0007706996402703226,
          0.0007706996402703226,
          0.0007706996402703226
         ]
        },
        {
         "marker": {
          "color": "black"
         },
         "type": "box",
         "y": [
          0.00019799043366219848,
          0.00019799043366219848,
          0.00019799043366219848,
          0.00019799043366219848,
          0.00019799043366219848,
          0.00019799043366219848,
          0.00019799043366219848,
          0.00019799043366219848,
          0.00019799043366219848,
          0.00019799043366219848
         ]
        },
        {
         "marker": {
          "color": "black"
         },
         "type": "box",
         "y": [
          0.001737393089570105,
          0.001737393089570105,
          0.001737393089570105,
          0.001737393089570105,
          0.001737393089570105,
          0.001737393089570105,
          0.001737393089570105,
          0.001737393089570105,
          0.001737393089570105,
          0.001737393089570105
         ]
        },
        {
         "marker": {
          "color": "black"
         },
         "type": "box",
         "y": [
          9.361003208141483e-07,
          1.693448211881332e-06,
          7.767446277284762e-07,
          7.415051754833257e-07,
          9.105796721087245e-07,
          7.768253453832585e-07,
          7.789641358613153e-07,
          9.588972034180188e-07,
          9.760972261574352e-07,
          1.0439565585329547e-06
         ]
        },
        {
         "marker": {
          "color": "black"
         },
         "type": "box",
         "y": [
          9.16322005650727e-06,
          1.545414670545142e-05,
          2.1915711840847507e-05,
          1.4275328794610687e-05,
          1.5856923710089177e-05,
          2.419544216536451e-05,
          1.4348761396831833e-05,
          2.5988687411881983e-05,
          2.0099747416679747e-05,
          2.6898562282440253e-05
         ]
        },
        {
         "marker": {
          "color": "black"
         },
         "type": "box",
         "y": [
          0.0013877181336283684,
          0.0013877181336283684,
          0.0013877181336283684,
          0.0013877181336283684,
          0.0013877181336283684,
          0.0013877181336283684,
          0.0013877181336283684,
          0.0013877181336283684,
          0.0013877181336283684,
          0.0013877181336283684
         ]
        },
        {
         "marker": {
          "color": "black"
         },
         "type": "box",
         "y": [
          3.3518742839078186e-06,
          2.546343011999852e-06,
          5.4288107094180305e-06,
          2.9088794235576643e-06,
          1.8295004338142462e-06,
          3.009488409588812e-06,
          4.872840690950397e-06,
          3.082725015701726e-06,
          3.062161795241991e-06,
          1.8469115730113117e-06
         ]
        },
        {
         "marker": {
          "color": "black"
         },
         "type": "box",
         "y": [
          0.0003648546407930553,
          0.0003648546407930553,
          0.0003648546407930553,
          0.0003648546407930553,
          0.0003648546407930553,
          0.0003648546407930553,
          0.0003648546407930553,
          0.0003648546407930553,
          0.0003648546407930553,
          0.0003648546407930553
         ]
        },
        {
         "marker": {
          "color": "black"
         },
         "type": "box",
         "y": [
          4.65692464786116e-05,
          4.3258762161713094e-05,
          3.941356044379063e-05,
          4.283953967387788e-05,
          3.7099074688740075e-05,
          4.325612462707795e-05,
          4.2399042285978794e-05,
          4.086015542270616e-05,
          4.420689583639614e-05,
          2.5756120521691628e-05
         ]
        },
        {
         "marker": {
          "color": "black"
         },
         "type": "box",
         "y": [
          0.00012266779958736151,
          8.808400161797181e-05,
          0.00011050259490730241,
          0.00010116050543729216,
          0.00010785026825033128,
          9.680363291408867e-05,
          9.844397573033348e-05,
          0.00010533861495787278,
          0.0001351828977931291,
          0.00011058659583795816
         ]
        },
        {
         "marker": {
          "color": "black"
         },
         "type": "box",
         "y": [
          0.0031473736744374037,
          0.0031473736744374037,
          0.0031473736744374037,
          0.0031473736744374037,
          0.0031473736744374037,
          0.0031473736744374037,
          0.0031473736744374037,
          0.0031473736744374037,
          0.0031473736744374037,
          0.0031473736744374037
         ]
        }
       ],
       "layout": {
        "font": {
         "family": "Times New Roman",
         "size": 17
        },
        "height": 400,
        "margin": {
         "b": 1,
         "l": 0,
         "r": 1,
         "t": 5
        },
        "paper_bgcolor": "rgb(233,233,233)",
        "plot_bgcolor": "rgb(233,233,233)",
        "showlegend": false,
        "template": {
         "data": {
          "bar": [
           {
            "error_x": {
             "color": "rgb(36,36,36)"
            },
            "error_y": {
             "color": "rgb(36,36,36)"
            },
            "marker": {
             "line": {
              "color": "rgb(234,234,242)",
              "width": 0.5
             }
            },
            "type": "bar"
           }
          ],
          "barpolar": [
           {
            "marker": {
             "line": {
              "color": "rgb(234,234,242)",
              "width": 0.5
             }
            },
            "type": "barpolar"
           }
          ],
          "carpet": [
           {
            "aaxis": {
             "endlinecolor": "rgb(36,36,36)",
             "gridcolor": "white",
             "linecolor": "white",
             "minorgridcolor": "white",
             "startlinecolor": "rgb(36,36,36)"
            },
            "baxis": {
             "endlinecolor": "rgb(36,36,36)",
             "gridcolor": "white",
             "linecolor": "white",
             "minorgridcolor": "white",
             "startlinecolor": "rgb(36,36,36)"
            },
            "type": "carpet"
           }
          ],
          "choropleth": [
           {
            "colorbar": {
             "outlinewidth": 0,
             "tickcolor": "rgb(36,36,36)",
             "ticklen": 8,
             "ticks": "outside",
             "tickwidth": 2
            },
            "type": "choropleth"
           }
          ],
          "contour": [
           {
            "colorbar": {
             "outlinewidth": 0,
             "tickcolor": "rgb(36,36,36)",
             "ticklen": 8,
             "ticks": "outside",
             "tickwidth": 2
            },
            "colorscale": [
             [
              0,
              "rgb(2,4,25)"
             ],
             [
              0.06274509803921569,
              "rgb(24,15,41)"
             ],
             [
              0.12549019607843137,
              "rgb(47,23,57)"
             ],
             [
              0.18823529411764706,
              "rgb(71,28,72)"
             ],
             [
              0.25098039215686274,
              "rgb(97,30,82)"
             ],
             [
              0.3137254901960784,
              "rgb(123,30,89)"
             ],
             [
              0.3764705882352941,
              "rgb(150,27,91)"
             ],
             [
              0.4392156862745098,
              "rgb(177,22,88)"
             ],
             [
              0.5019607843137255,
              "rgb(203,26,79)"
             ],
             [
              0.5647058823529412,
              "rgb(223,47,67)"
             ],
             [
              0.6274509803921569,
              "rgb(236,76,61)"
             ],
             [
              0.6901960784313725,
              "rgb(242,107,73)"
             ],
             [
              0.7529411764705882,
              "rgb(244,135,95)"
             ],
             [
              0.8156862745098039,
              "rgb(245,162,122)"
             ],
             [
              0.8784313725490196,
              "rgb(246,188,153)"
             ],
             [
              0.9411764705882353,
              "rgb(247,212,187)"
             ],
             [
              1,
              "rgb(250,234,220)"
             ]
            ],
            "type": "contour"
           }
          ],
          "contourcarpet": [
           {
            "colorbar": {
             "outlinewidth": 0,
             "tickcolor": "rgb(36,36,36)",
             "ticklen": 8,
             "ticks": "outside",
             "tickwidth": 2
            },
            "type": "contourcarpet"
           }
          ],
          "heatmap": [
           {
            "colorbar": {
             "outlinewidth": 0,
             "tickcolor": "rgb(36,36,36)",
             "ticklen": 8,
             "ticks": "outside",
             "tickwidth": 2
            },
            "colorscale": [
             [
              0,
              "rgb(2,4,25)"
             ],
             [
              0.06274509803921569,
              "rgb(24,15,41)"
             ],
             [
              0.12549019607843137,
              "rgb(47,23,57)"
             ],
             [
              0.18823529411764706,
              "rgb(71,28,72)"
             ],
             [
              0.25098039215686274,
              "rgb(97,30,82)"
             ],
             [
              0.3137254901960784,
              "rgb(123,30,89)"
             ],
             [
              0.3764705882352941,
              "rgb(150,27,91)"
             ],
             [
              0.4392156862745098,
              "rgb(177,22,88)"
             ],
             [
              0.5019607843137255,
              "rgb(203,26,79)"
             ],
             [
              0.5647058823529412,
              "rgb(223,47,67)"
             ],
             [
              0.6274509803921569,
              "rgb(236,76,61)"
             ],
             [
              0.6901960784313725,
              "rgb(242,107,73)"
             ],
             [
              0.7529411764705882,
              "rgb(244,135,95)"
             ],
             [
              0.8156862745098039,
              "rgb(245,162,122)"
             ],
             [
              0.8784313725490196,
              "rgb(246,188,153)"
             ],
             [
              0.9411764705882353,
              "rgb(247,212,187)"
             ],
             [
              1,
              "rgb(250,234,220)"
             ]
            ],
            "type": "heatmap"
           }
          ],
          "heatmapgl": [
           {
            "colorbar": {
             "outlinewidth": 0,
             "tickcolor": "rgb(36,36,36)",
             "ticklen": 8,
             "ticks": "outside",
             "tickwidth": 2
            },
            "colorscale": [
             [
              0,
              "rgb(2,4,25)"
             ],
             [
              0.06274509803921569,
              "rgb(24,15,41)"
             ],
             [
              0.12549019607843137,
              "rgb(47,23,57)"
             ],
             [
              0.18823529411764706,
              "rgb(71,28,72)"
             ],
             [
              0.25098039215686274,
              "rgb(97,30,82)"
             ],
             [
              0.3137254901960784,
              "rgb(123,30,89)"
             ],
             [
              0.3764705882352941,
              "rgb(150,27,91)"
             ],
             [
              0.4392156862745098,
              "rgb(177,22,88)"
             ],
             [
              0.5019607843137255,
              "rgb(203,26,79)"
             ],
             [
              0.5647058823529412,
              "rgb(223,47,67)"
             ],
             [
              0.6274509803921569,
              "rgb(236,76,61)"
             ],
             [
              0.6901960784313725,
              "rgb(242,107,73)"
             ],
             [
              0.7529411764705882,
              "rgb(244,135,95)"
             ],
             [
              0.8156862745098039,
              "rgb(245,162,122)"
             ],
             [
              0.8784313725490196,
              "rgb(246,188,153)"
             ],
             [
              0.9411764705882353,
              "rgb(247,212,187)"
             ],
             [
              1,
              "rgb(250,234,220)"
             ]
            ],
            "type": "heatmapgl"
           }
          ],
          "histogram": [
           {
            "marker": {
             "colorbar": {
              "outlinewidth": 0,
              "tickcolor": "rgb(36,36,36)",
              "ticklen": 8,
              "ticks": "outside",
              "tickwidth": 2
             }
            },
            "type": "histogram"
           }
          ],
          "histogram2d": [
           {
            "colorbar": {
             "outlinewidth": 0,
             "tickcolor": "rgb(36,36,36)",
             "ticklen": 8,
             "ticks": "outside",
             "tickwidth": 2
            },
            "colorscale": [
             [
              0,
              "rgb(2,4,25)"
             ],
             [
              0.06274509803921569,
              "rgb(24,15,41)"
             ],
             [
              0.12549019607843137,
              "rgb(47,23,57)"
             ],
             [
              0.18823529411764706,
              "rgb(71,28,72)"
             ],
             [
              0.25098039215686274,
              "rgb(97,30,82)"
             ],
             [
              0.3137254901960784,
              "rgb(123,30,89)"
             ],
             [
              0.3764705882352941,
              "rgb(150,27,91)"
             ],
             [
              0.4392156862745098,
              "rgb(177,22,88)"
             ],
             [
              0.5019607843137255,
              "rgb(203,26,79)"
             ],
             [
              0.5647058823529412,
              "rgb(223,47,67)"
             ],
             [
              0.6274509803921569,
              "rgb(236,76,61)"
             ],
             [
              0.6901960784313725,
              "rgb(242,107,73)"
             ],
             [
              0.7529411764705882,
              "rgb(244,135,95)"
             ],
             [
              0.8156862745098039,
              "rgb(245,162,122)"
             ],
             [
              0.8784313725490196,
              "rgb(246,188,153)"
             ],
             [
              0.9411764705882353,
              "rgb(247,212,187)"
             ],
             [
              1,
              "rgb(250,234,220)"
             ]
            ],
            "type": "histogram2d"
           }
          ],
          "histogram2dcontour": [
           {
            "colorbar": {
             "outlinewidth": 0,
             "tickcolor": "rgb(36,36,36)",
             "ticklen": 8,
             "ticks": "outside",
             "tickwidth": 2
            },
            "colorscale": [
             [
              0,
              "rgb(2,4,25)"
             ],
             [
              0.06274509803921569,
              "rgb(24,15,41)"
             ],
             [
              0.12549019607843137,
              "rgb(47,23,57)"
             ],
             [
              0.18823529411764706,
              "rgb(71,28,72)"
             ],
             [
              0.25098039215686274,
              "rgb(97,30,82)"
             ],
             [
              0.3137254901960784,
              "rgb(123,30,89)"
             ],
             [
              0.3764705882352941,
              "rgb(150,27,91)"
             ],
             [
              0.4392156862745098,
              "rgb(177,22,88)"
             ],
             [
              0.5019607843137255,
              "rgb(203,26,79)"
             ],
             [
              0.5647058823529412,
              "rgb(223,47,67)"
             ],
             [
              0.6274509803921569,
              "rgb(236,76,61)"
             ],
             [
              0.6901960784313725,
              "rgb(242,107,73)"
             ],
             [
              0.7529411764705882,
              "rgb(244,135,95)"
             ],
             [
              0.8156862745098039,
              "rgb(245,162,122)"
             ],
             [
              0.8784313725490196,
              "rgb(246,188,153)"
             ],
             [
              0.9411764705882353,
              "rgb(247,212,187)"
             ],
             [
              1,
              "rgb(250,234,220)"
             ]
            ],
            "type": "histogram2dcontour"
           }
          ],
          "mesh3d": [
           {
            "colorbar": {
             "outlinewidth": 0,
             "tickcolor": "rgb(36,36,36)",
             "ticklen": 8,
             "ticks": "outside",
             "tickwidth": 2
            },
            "type": "mesh3d"
           }
          ],
          "parcoords": [
           {
            "line": {
             "colorbar": {
              "outlinewidth": 0,
              "tickcolor": "rgb(36,36,36)",
              "ticklen": 8,
              "ticks": "outside",
              "tickwidth": 2
             }
            },
            "type": "parcoords"
           }
          ],
          "pie": [
           {
            "automargin": true,
            "type": "pie"
           }
          ],
          "scatter": [
           {
            "marker": {
             "colorbar": {
              "outlinewidth": 0,
              "tickcolor": "rgb(36,36,36)",
              "ticklen": 8,
              "ticks": "outside",
              "tickwidth": 2
             }
            },
            "type": "scatter"
           }
          ],
          "scatter3d": [
           {
            "line": {
             "colorbar": {
              "outlinewidth": 0,
              "tickcolor": "rgb(36,36,36)",
              "ticklen": 8,
              "ticks": "outside",
              "tickwidth": 2
             }
            },
            "marker": {
             "colorbar": {
              "outlinewidth": 0,
              "tickcolor": "rgb(36,36,36)",
              "ticklen": 8,
              "ticks": "outside",
              "tickwidth": 2
             }
            },
            "type": "scatter3d"
           }
          ],
          "scattercarpet": [
           {
            "marker": {
             "colorbar": {
              "outlinewidth": 0,
              "tickcolor": "rgb(36,36,36)",
              "ticklen": 8,
              "ticks": "outside",
              "tickwidth": 2
             }
            },
            "type": "scattercarpet"
           }
          ],
          "scattergeo": [
           {
            "marker": {
             "colorbar": {
              "outlinewidth": 0,
              "tickcolor": "rgb(36,36,36)",
              "ticklen": 8,
              "ticks": "outside",
              "tickwidth": 2
             }
            },
            "type": "scattergeo"
           }
          ],
          "scattergl": [
           {
            "marker": {
             "colorbar": {
              "outlinewidth": 0,
              "tickcolor": "rgb(36,36,36)",
              "ticklen": 8,
              "ticks": "outside",
              "tickwidth": 2
             }
            },
            "type": "scattergl"
           }
          ],
          "scattermapbox": [
           {
            "marker": {
             "colorbar": {
              "outlinewidth": 0,
              "tickcolor": "rgb(36,36,36)",
              "ticklen": 8,
              "ticks": "outside",
              "tickwidth": 2
             }
            },
            "type": "scattermapbox"
           }
          ],
          "scatterpolar": [
           {
            "marker": {
             "colorbar": {
              "outlinewidth": 0,
              "tickcolor": "rgb(36,36,36)",
              "ticklen": 8,
              "ticks": "outside",
              "tickwidth": 2
             }
            },
            "type": "scatterpolar"
           }
          ],
          "scatterpolargl": [
           {
            "marker": {
             "colorbar": {
              "outlinewidth": 0,
              "tickcolor": "rgb(36,36,36)",
              "ticklen": 8,
              "ticks": "outside",
              "tickwidth": 2
             }
            },
            "type": "scatterpolargl"
           }
          ],
          "scatterternary": [
           {
            "marker": {
             "colorbar": {
              "outlinewidth": 0,
              "tickcolor": "rgb(36,36,36)",
              "ticklen": 8,
              "ticks": "outside",
              "tickwidth": 2
             }
            },
            "type": "scatterternary"
           }
          ],
          "surface": [
           {
            "colorbar": {
             "outlinewidth": 0,
             "tickcolor": "rgb(36,36,36)",
             "ticklen": 8,
             "ticks": "outside",
             "tickwidth": 2
            },
            "colorscale": [
             [
              0,
              "rgb(2,4,25)"
             ],
             [
              0.06274509803921569,
              "rgb(24,15,41)"
             ],
             [
              0.12549019607843137,
              "rgb(47,23,57)"
             ],
             [
              0.18823529411764706,
              "rgb(71,28,72)"
             ],
             [
              0.25098039215686274,
              "rgb(97,30,82)"
             ],
             [
              0.3137254901960784,
              "rgb(123,30,89)"
             ],
             [
              0.3764705882352941,
              "rgb(150,27,91)"
             ],
             [
              0.4392156862745098,
              "rgb(177,22,88)"
             ],
             [
              0.5019607843137255,
              "rgb(203,26,79)"
             ],
             [
              0.5647058823529412,
              "rgb(223,47,67)"
             ],
             [
              0.6274509803921569,
              "rgb(236,76,61)"
             ],
             [
              0.6901960784313725,
              "rgb(242,107,73)"
             ],
             [
              0.7529411764705882,
              "rgb(244,135,95)"
             ],
             [
              0.8156862745098039,
              "rgb(245,162,122)"
             ],
             [
              0.8784313725490196,
              "rgb(246,188,153)"
             ],
             [
              0.9411764705882353,
              "rgb(247,212,187)"
             ],
             [
              1,
              "rgb(250,234,220)"
             ]
            ],
            "type": "surface"
           }
          ],
          "table": [
           {
            "cells": {
             "fill": {
              "color": "rgb(231,231,240)"
             },
             "line": {
              "color": "white"
             }
            },
            "header": {
             "fill": {
              "color": "rgb(183,183,191)"
             },
             "line": {
              "color": "white"
             }
            },
            "type": "table"
           }
          ]
         },
         "layout": {
          "annotationdefaults": {
           "arrowcolor": "rgb(67,103,167)"
          },
          "coloraxis": {
           "colorbar": {
            "outlinewidth": 0,
            "tickcolor": "rgb(36,36,36)",
            "ticklen": 8,
            "ticks": "outside",
            "tickwidth": 2
           }
          },
          "colorscale": {
           "sequential": [
            [
             0,
             "rgb(2,4,25)"
            ],
            [
             0.06274509803921569,
             "rgb(24,15,41)"
            ],
            [
             0.12549019607843137,
             "rgb(47,23,57)"
            ],
            [
             0.18823529411764706,
             "rgb(71,28,72)"
            ],
            [
             0.25098039215686274,
             "rgb(97,30,82)"
            ],
            [
             0.3137254901960784,
             "rgb(123,30,89)"
            ],
            [
             0.3764705882352941,
             "rgb(150,27,91)"
            ],
            [
             0.4392156862745098,
             "rgb(177,22,88)"
            ],
            [
             0.5019607843137255,
             "rgb(203,26,79)"
            ],
            [
             0.5647058823529412,
             "rgb(223,47,67)"
            ],
            [
             0.6274509803921569,
             "rgb(236,76,61)"
            ],
            [
             0.6901960784313725,
             "rgb(242,107,73)"
            ],
            [
             0.7529411764705882,
             "rgb(244,135,95)"
            ],
            [
             0.8156862745098039,
             "rgb(245,162,122)"
            ],
            [
             0.8784313725490196,
             "rgb(246,188,153)"
            ],
            [
             0.9411764705882353,
             "rgb(247,212,187)"
            ],
            [
             1,
             "rgb(250,234,220)"
            ]
           ],
           "sequentialminus": [
            [
             0,
             "rgb(2,4,25)"
            ],
            [
             0.06274509803921569,
             "rgb(24,15,41)"
            ],
            [
             0.12549019607843137,
             "rgb(47,23,57)"
            ],
            [
             0.18823529411764706,
             "rgb(71,28,72)"
            ],
            [
             0.25098039215686274,
             "rgb(97,30,82)"
            ],
            [
             0.3137254901960784,
             "rgb(123,30,89)"
            ],
            [
             0.3764705882352941,
             "rgb(150,27,91)"
            ],
            [
             0.4392156862745098,
             "rgb(177,22,88)"
            ],
            [
             0.5019607843137255,
             "rgb(203,26,79)"
            ],
            [
             0.5647058823529412,
             "rgb(223,47,67)"
            ],
            [
             0.6274509803921569,
             "rgb(236,76,61)"
            ],
            [
             0.6901960784313725,
             "rgb(242,107,73)"
            ],
            [
             0.7529411764705882,
             "rgb(244,135,95)"
            ],
            [
             0.8156862745098039,
             "rgb(245,162,122)"
            ],
            [
             0.8784313725490196,
             "rgb(246,188,153)"
            ],
            [
             0.9411764705882353,
             "rgb(247,212,187)"
            ],
            [
             1,
             "rgb(250,234,220)"
            ]
           ]
          },
          "colorway": [
           "rgb(76,114,176)",
           "rgb(221,132,82)",
           "rgb(85,168,104)",
           "rgb(196,78,82)",
           "rgb(129,114,179)",
           "rgb(147,120,96)",
           "rgb(218,139,195)",
           "rgb(140,140,140)",
           "rgb(204,185,116)",
           "rgb(100,181,205)"
          ],
          "font": {
           "color": "rgb(36,36,36)"
          },
          "geo": {
           "bgcolor": "white",
           "lakecolor": "white",
           "landcolor": "rgb(234,234,242)",
           "showlakes": true,
           "showland": true,
           "subunitcolor": "white"
          },
          "hoverlabel": {
           "align": "left"
          },
          "hovermode": "closest",
          "paper_bgcolor": "white",
          "plot_bgcolor": "rgb(234,234,242)",
          "polar": {
           "angularaxis": {
            "gridcolor": "white",
            "linecolor": "white",
            "showgrid": true,
            "ticks": ""
           },
           "bgcolor": "rgb(234,234,242)",
           "radialaxis": {
            "gridcolor": "white",
            "linecolor": "white",
            "showgrid": true,
            "ticks": ""
           }
          },
          "scene": {
           "xaxis": {
            "backgroundcolor": "rgb(234,234,242)",
            "gridcolor": "white",
            "gridwidth": 2,
            "linecolor": "white",
            "showbackground": true,
            "showgrid": true,
            "ticks": "",
            "zerolinecolor": "white"
           },
           "yaxis": {
            "backgroundcolor": "rgb(234,234,242)",
            "gridcolor": "white",
            "gridwidth": 2,
            "linecolor": "white",
            "showbackground": true,
            "showgrid": true,
            "ticks": "",
            "zerolinecolor": "white"
           },
           "zaxis": {
            "backgroundcolor": "rgb(234,234,242)",
            "gridcolor": "white",
            "gridwidth": 2,
            "linecolor": "white",
            "showbackground": true,
            "showgrid": true,
            "ticks": "",
            "zerolinecolor": "white"
           }
          },
          "shapedefaults": {
           "fillcolor": "rgb(67,103,167)",
           "line": {
            "width": 0
           },
           "opacity": 0.5
          },
          "ternary": {
           "aaxis": {
            "gridcolor": "white",
            "linecolor": "white",
            "showgrid": true,
            "ticks": ""
           },
           "baxis": {
            "gridcolor": "white",
            "linecolor": "white",
            "showgrid": true,
            "ticks": ""
           },
           "bgcolor": "rgb(234,234,242)",
           "caxis": {
            "gridcolor": "white",
            "linecolor": "white",
            "showgrid": true,
            "ticks": ""
           }
          },
          "xaxis": {
           "automargin": true,
           "gridcolor": "white",
           "linecolor": "white",
           "showgrid": true,
           "ticks": "",
           "title": {
            "standoff": 15
           },
           "zerolinecolor": "white"
          },
          "yaxis": {
           "automargin": true,
           "gridcolor": "white",
           "linecolor": "white",
           "showgrid": true,
           "ticks": "",
           "title": {
            "standoff": 15
           },
           "zerolinecolor": "white"
          }
         }
        },
        "width": 900,
        "xaxis": {
         "autorange": true,
         "range": [
          -0.5,
          49.5
         ],
         "showgrid": true,
         "showticklabels": false,
         "title": {
          "text": "50 instances of 10 Evaluations On 1 stack parameters"
         },
         "type": "category",
         "zeroline": false
        },
        "yaxis": {
         "autorange": true,
         "gridcolor": "white",
         "range": [
          -0.0007852653122785036,
          0.014920585259830964
         ],
         "showgrid": false,
         "title": {
          "text": "Eval. Distribtuion "
         },
         "type": "linear",
         "zeroline": false
        }
       }
      },
      "image/png": "[encoded data removed]",
      "text/html": [
       "<div>\n",
       "        \n",
       "        \n",
       "            <div id=\"6d60820d-55a1-4ff1-9e3a-be138f015197\" class=\"plotly-graph-div\" style=\"height:400px; width:900px;\"></div>\n",
       "            <script type=\"text/javascript\">\n",
       "                require([\"plotly\"], function(Plotly) {\n",
       "                    window.PLOTLYENV=window.PLOTLYENV || {};\n",
       "                    \n",
       "                if (document.getElementById(\"6d60820d-55a1-4ff1-9e3a-be138f015197\")) {\n",
       "                    Plotly.newPlot(\n",
       "                        '6d60820d-55a1-4ff1-9e3a-be138f015197',\n",
       "                        [{\"marker\": {\"color\": \"black\"}, \"type\": \"box\", \"y\": [5.455128484754823e-05, 5.245261490927078e-05, 5.885619611945003e-05, 5.1341106882318854e-05, 4.2800416849786416e-05, 6.258724897634238e-05, 5.966901881038211e-05, 3.032120002899319e-05, 6.748070154571906e-05, 4.4733045797329396e-05]}, {\"marker\": {\"color\": \"black\"}, \"type\": \"box\", \"y\": [0.0010309662902727723, 0.0010309662902727723, 0.0010309662902727723, 0.0010309662902727723, 0.0010309662902727723, 0.0010309662902727723, 0.0010309662902727723, 0.0010309662902727723, 0.0010309662902727723, 0.0010309662902727723]}, {\"marker\": {\"color\": \"black\"}, \"type\": \"box\", \"y\": [0.0013639760436490178, 0.0013639760436490178, 0.0013639760436490178, 0.0013639760436490178, 0.0013639760436490178, 0.0013639760436490178, 0.0013639760436490178, 0.0013639760436490178, 0.0013639760436490178, 0.0013639760436490178]}, {\"marker\": {\"color\": \"black\"}, \"type\": \"box\", \"y\": [0.0033386768773198128, 0.0033386768773198128, 0.0033386768773198128, 0.0033386768773198128, 0.0033386768773198128, 0.0033386768773198128, 0.0033386768773198128, 0.0033386768773198128, 0.0033386768773198128, 0.0033386768773198128]}, {\"marker\": {\"color\": \"black\"}, \"type\": \"box\", \"y\": [5.901401527808048e-05, 9.316412615589797e-05, 7.596659997943789e-05, 8.297574822790921e-05, 7.195736543508247e-05, 6.112561095505953e-05, 6.11408831900917e-05, 0.00010603520786389709, 7.79451074777171e-05, 7.722721784375608e-05]}, {\"marker\": {\"color\": \"black\"}, \"type\": \"box\", \"y\": [0.0024179595056921244, 0.0024179595056921244, 0.0024179595056921244, 0.0024179595056921244, 0.0024179595056921244, 0.0024179595056921244, 0.0024179595056921244, 0.0024179595056921244, 0.0024179595056921244, 0.0024179595056921244]}, {\"marker\": {\"color\": \"black\"}, \"type\": \"box\", \"y\": [5.423399852588773e-05, 3.419406129978597e-05, 6.04535780439619e-05, 5.506348315975629e-05, 4.824358256882988e-05, 6.113365816418082e-05, 6.45070758764632e-05, 3.884577381541021e-05, 3.461398227955215e-05, 4.262079164618626e-05]}, {\"marker\": {\"color\": \"black\"}, \"type\": \"box\", \"y\": [0.00016729407070670277, 0.00016729407070670277, 0.00016729407070670277, 0.00016729407070670277, 0.00016729407070670277, 0.00016729407070670277, 0.00016729407070670277, 0.00016729407070670277, 0.00016729407070670277, 0.00016729407070670277]}, {\"marker\": {\"color\": \"black\"}, \"type\": \"box\", \"y\": [0.0007138874498195946, 0.0007138874498195946, 0.0007138874498195946, 0.0007138874498195946, 0.0007138874498195946, 0.0007138874498195946, 0.0007138874498195946, 0.0007138874498195946, 0.0007138874498195946, 0.0007138874498195946]}, {\"marker\": {\"color\": \"black\"}, \"type\": \"box\", \"y\": [0.0012474308023229241, 0.0012474308023229241, 0.0012474308023229241, 0.0012474308023229241, 0.0012474308023229241, 0.0012474308023229241, 0.0012474308023229241, 0.0012474308023229241, 0.0012474308023229241, 0.0012474308023229241]}, {\"marker\": {\"color\": \"black\"}, \"type\": \"box\", \"y\": [0.0028887896332889795, 0.0029014451429247856, 0.002389081520959735, 0.002379833720624447, 0.002846178598701954, 0.0023186136968433857, 0.0019406334031373262, 0.0024265688844025135, 0.002432591049000621, 0.002865888411179185]}, {\"marker\": {\"color\": \"black\"}, \"type\": \"box\", \"y\": [4.6590834244852886e-05, 5.317102841218002e-05, 5.4368010751204565e-05, 4.1869872802635655e-05, 4.080019425600767e-05, 4.876794264419004e-05, 3.899364310200326e-05, 3.107271186308935e-05, 7.014629227342084e-05, 5.1513692596927285e-05]}, {\"marker\": {\"color\": \"black\"}, \"type\": \"box\", \"y\": [0.00013075907190795988, 0.00017025232955347747, 0.00014287856174632907, 0.00014233397087082267, 0.00010351163655286655, 0.00015927765343803912, 0.00013652716006617993, 0.0001584904530318454, 0.000129919673781842, 8.293698192574084e-05]}, {\"marker\": {\"color\": \"black\"}, \"type\": \"box\", \"y\": [0.0003326981095597148, 0.0003326981095597148, 0.0003326981095597148, 0.0003326981095597148, 0.0003326981095597148, 0.0003326981095597148, 0.0003326981095597148, 0.0003326981095597148, 0.0003326981095597148, 0.0003326981095597148]}, {\"marker\": {\"color\": \"black\"}, \"type\": \"box\", \"y\": [0.00012387227616272867, 0.00012387227616272867, 0.00012387227616272867, 0.00012387227616272867, 0.00012387227616272867, 0.00012387227616272867, 0.00012387227616272867, 0.00012387227616272867, 0.00012387227616272867, 0.00012387227616272867]}, {\"marker\": {\"color\": \"black\"}, \"type\": \"box\", \"y\": [2.3853797301853774e-06, 2.5219244434993016e-06, 2.370082711422583e-06, 2.914772039730451e-06, 2.0699380911537446e-06, 2.893060127462377e-06, 2.4852656679286156e-06, 2.3759778287057998e-06, 2.6578741199045908e-06, 2.07915149985638e-06]}, {\"marker\": {\"color\": \"black\"}, \"type\": \"box\", \"y\": [0.0011233064578846097, 0.0011233064578846097, 0.0011233064578846097, 0.0011233064578846097, 0.0011233064578846097, 0.0011233064578846097, 0.0011233064578846097, 0.0011233064578846097, 0.0011233064578846097, 0.0011233064578846097]}, {\"marker\": {\"color\": \"black\"}, \"type\": \"box\", \"y\": [2.455408321111463e-05, 2.798362766043283e-05, 3.255537012591958e-05, 3.74253504560329e-05, 3.9711005229037255e-05, 3.496425415505655e-05, 3.478572398307733e-05, 3.374800508026965e-05, 2.672128175618127e-05, 2.80304484476801e-05]}, {\"marker\": {\"color\": \"black\"}, \"type\": \"box\", \"y\": [0.000542117515578866, 0.000542117515578866, 0.000542117515578866, 0.000542117515578866, 0.000542117515578866, 0.000542117515578866, 0.000542117515578866, 0.000542117515578866, 0.000542117515578866, 0.000542117515578866]}, {\"marker\": {\"color\": \"black\"}, \"type\": \"box\", \"y\": [6.727490108460188e-05, 9.121026960201561e-05, 6.137185846455395e-05, 6.271802703849971e-05, 8.194433030439541e-05, 7.265702151926234e-05, 6.486800702987239e-05, 5.682932896888815e-05, 5.864297054358758e-05, 7.842361083021387e-05]}, {\"marker\": {\"color\": \"black\"}, \"type\": \"box\", \"y\": [8.342505680047907e-06, 6.9885254561086185e-06, 7.210811418190133e-06, 5.0474282033974305e-06, 6.927392860234249e-06, 6.9251136665116064e-06, 6.633765678998316e-06, 6.437023785110796e-06, 6.640848823735723e-06, 5.208345100982115e-06]}, {\"marker\": {\"color\": \"black\"}, \"type\": \"box\", \"y\": [0.001073400373570621, 0.0008806318510323763, 0.0008695587748661637, 0.0008366521797142923, 0.0008231251849792898, 0.0010265898890793324, 0.0008593762177042663, 0.0009146733209490776, 0.000853924488183111, 0.0010622547706589103]}, {\"marker\": {\"color\": \"black\"}, \"type\": \"box\", \"y\": [0.0027935714460909367, 0.0027935714460909367, 0.0027935714460909367, 0.0027935714460909367, 0.0027935714460909367, 0.0027935714460909367, 0.0027935714460909367, 0.0027935714460909367, 0.0027935714460909367, 0.0027935714460909367]}, {\"marker\": {\"color\": \"black\"}, \"type\": \"box\", \"y\": [0.0002520316920708865, 0.0002520316920708865, 0.0002520316920708865, 0.0002520316920708865, 0.0002520316920708865, 0.0002520316920708865, 0.0002520316920708865, 0.0002520316920708865, 0.0002520316920708865, 0.0002520316920708865]}, {\"marker\": {\"color\": \"black\"}, \"type\": \"box\", \"y\": [0.010464315302670002, 0.01413529273122549, 0.01003284566104412, 0.00803779810667038, 0.01081057172268629, 0.01348878163844347, 0.009451452642679214, 0.008990057744085789, 0.008012531325221062, 0.008401596918702126]}, {\"marker\": {\"color\": \"black\"}, \"type\": \"box\", \"y\": [0.0008837477653287351, 0.000866252463310957, 0.0007356243440881371, 0.0007818252197466791, 0.0007947557605803013, 0.000990724889561534, 0.0007523806416429579, 0.0009029059438034892, 0.0006748284795321524, 0.0009229313000105321]}, {\"marker\": {\"color\": \"black\"}, \"type\": \"box\", \"y\": [1.0532151861752936e-07, 1.1639033203891813e-07, 1.7618971526189853e-07, 1.2300188245717436e-07, 1.495053254529921e-07, 2.0361942176805314e-07, 2.209108771467072e-07, 1.8127255430044897e-07, 2.1568443742125964e-07, 1.429426390586741e-07]}, {\"marker\": {\"color\": \"black\"}, \"type\": \"box\", \"y\": [0.0005991142243146896, 0.00048124033492058516, 0.0004331873496994376, 0.00047010957496240735, 0.0005336381727829576, 0.0004708264605142176, 0.0004184235876891762, 0.00044623942812904716, 0.000518036016728729, 0.0005188151262700558]}, {\"marker\": {\"color\": \"black\"}, \"type\": \"box\", \"y\": [0.00036330800503492355, 0.00036330800503492355, 0.00036330800503492355, 0.00036330800503492355, 0.00036330800503492355, 0.00036330800503492355, 0.00036330800503492355, 0.00036330800503492355, 0.00036330800503492355, 0.00036330800503492355]}, {\"marker\": {\"color\": \"black\"}, \"type\": \"box\", \"y\": [0.0027094471734017134, 0.0027094471734017134, 0.0027094471734017134, 0.0027094471734017134, 0.0027094471734017134, 0.0027094471734017134, 0.0027094471734017134, 0.0027094471734017134, 0.0027094471734017134, 0.0027094471734017134]}, {\"marker\": {\"color\": \"black\"}, \"type\": \"box\", \"y\": [0.0010145541746169329, 0.0013476136373355985, 0.0011625514598563313, 0.000877517566550523, 0.000990954227745533, 0.0015649899141862988, 0.0010197068331763148, 0.0008755360613577068, 0.0016135243931785226, 0.0011636379640549421]}, {\"marker\": {\"color\": \"black\"}, \"type\": \"box\", \"y\": [0.001180895953439176, 0.001180895953439176, 0.001180895953439176, 0.001180895953439176, 0.001180895953439176, 0.001180895953439176, 0.001180895953439176, 0.001180895953439176, 0.001180895953439176, 0.001180895953439176]}, {\"marker\": {\"color\": \"black\"}, \"type\": \"box\", \"y\": [1.6371768651879393e-06, 9.964613809643197e-07, 1.309614617639454e-06, 2.89727336166834e-06, 1.5289813291019527e-06, 1.489950591349043e-06, 1.4484971870842855e-06, 2.7130784019391285e-06, 1.8969368511534412e-06, 1.508676859884872e-06]}, {\"marker\": {\"color\": \"black\"}, \"type\": \"box\", \"y\": [0.0006816174718551338, 0.0006180270574986935, 0.0005266271764412522, 0.0006490470841526985, 0.0005110995261929929, 0.0005323107470758259, 0.0006427066400647163, 0.0006300767417997122, 0.0006862485315650702, 0.0005885091377422214]}, {\"marker\": {\"color\": \"black\"}, \"type\": \"box\", \"y\": [2.721632696989218e-08, 4.852648771702661e-08, 4.989091095808362e-08, 4.187635482821861e-08, 5.61659092568334e-08, 5.010452497344886e-08, 5.167293437580156e-08, 4.2230158925349315e-08, 5.046427986599156e-08, 4.063566905188054e-08]}, {\"marker\": {\"color\": \"black\"}, \"type\": \"box\", \"y\": [0.0029522727709263563, 0.0029522727709263563, 0.0029522727709263563, 0.0029522727709263563, 0.0029522727709263563, 0.0029522727709263563, 0.0029522727709263563, 0.0029522727709263563, 0.0029522727709263563, 0.0029522727709263563]}, {\"marker\": {\"color\": \"black\"}, \"type\": \"box\", \"y\": [1.0936734042843455e-06, 8.541225611224945e-07, 8.280950964945077e-07, 6.046030307516048e-07, 4.879681227976107e-07, 9.636726190365152e-07, 8.636064876554883e-07, 4.251456289239286e-07, 8.089539278444136e-07, 8.959513024819898e-07]}, {\"marker\": {\"color\": \"black\"}, \"type\": \"box\", \"y\": [0.0007966418634168804, 0.000674969982355833, 0.000656849006190896, 0.0007832513656467199, 0.0006586139788851142, 0.0009062254684977233, 0.0006658342899754643, 0.0005103189614601433, 0.0007637397502548993, 0.0006933106924407184]}, {\"marker\": {\"color\": \"black\"}, \"type\": \"box\", \"y\": [0.00158957380335778, 0.00158957380335778, 0.00158957380335778, 0.00158957380335778, 0.00158957380335778, 0.00158957380335778, 0.00158957380335778, 0.00158957380335778, 0.00158957380335778, 0.00158957380335778]}, {\"marker\": {\"color\": \"black\"}, \"type\": \"box\", \"y\": [0.0007706996402703226, 0.0007706996402703226, 0.0007706996402703226, 0.0007706996402703226, 0.0007706996402703226, 0.0007706996402703226, 0.0007706996402703226, 0.0007706996402703226, 0.0007706996402703226, 0.0007706996402703226]}, {\"marker\": {\"color\": \"black\"}, \"type\": \"box\", \"y\": [0.00019799043366219848, 0.00019799043366219848, 0.00019799043366219848, 0.00019799043366219848, 0.00019799043366219848, 0.00019799043366219848, 0.00019799043366219848, 0.00019799043366219848, 0.00019799043366219848, 0.00019799043366219848]}, {\"marker\": {\"color\": \"black\"}, \"type\": \"box\", \"y\": [0.001737393089570105, 0.001737393089570105, 0.001737393089570105, 0.001737393089570105, 0.001737393089570105, 0.001737393089570105, 0.001737393089570105, 0.001737393089570105, 0.001737393089570105, 0.001737393089570105]}, {\"marker\": {\"color\": \"black\"}, \"type\": \"box\", \"y\": [9.361003208141483e-07, 1.693448211881332e-06, 7.767446277284762e-07, 7.415051754833257e-07, 9.105796721087245e-07, 7.768253453832585e-07, 7.789641358613153e-07, 9.588972034180188e-07, 9.760972261574352e-07, 1.0439565585329547e-06]}, {\"marker\": {\"color\": \"black\"}, \"type\": \"box\", \"y\": [9.16322005650727e-06, 1.545414670545142e-05, 2.1915711840847507e-05, 1.4275328794610687e-05, 1.5856923710089177e-05, 2.419544216536451e-05, 1.4348761396831833e-05, 2.5988687411881983e-05, 2.0099747416679747e-05, 2.6898562282440253e-05]}, {\"marker\": {\"color\": \"black\"}, \"type\": \"box\", \"y\": [0.0013877181336283684, 0.0013877181336283684, 0.0013877181336283684, 0.0013877181336283684, 0.0013877181336283684, 0.0013877181336283684, 0.0013877181336283684, 0.0013877181336283684, 0.0013877181336283684, 0.0013877181336283684]}, {\"marker\": {\"color\": \"black\"}, \"type\": \"box\", \"y\": [3.3518742839078186e-06, 2.546343011999852e-06, 5.4288107094180305e-06, 2.9088794235576643e-06, 1.8295004338142462e-06, 3.009488409588812e-06, 4.872840690950397e-06, 3.082725015701726e-06, 3.062161795241991e-06, 1.8469115730113117e-06]}, {\"marker\": {\"color\": \"black\"}, \"type\": \"box\", \"y\": [0.0003648546407930553, 0.0003648546407930553, 0.0003648546407930553, 0.0003648546407930553, 0.0003648546407930553, 0.0003648546407930553, 0.0003648546407930553, 0.0003648546407930553, 0.0003648546407930553, 0.0003648546407930553]}, {\"marker\": {\"color\": \"black\"}, \"type\": \"box\", \"y\": [4.65692464786116e-05, 4.3258762161713094e-05, 3.941356044379063e-05, 4.283953967387788e-05, 3.7099074688740075e-05, 4.325612462707795e-05, 4.2399042285978794e-05, 4.086015542270616e-05, 4.420689583639614e-05, 2.5756120521691628e-05]}, {\"marker\": {\"color\": \"black\"}, \"type\": \"box\", \"y\": [0.00012266779958736151, 8.808400161797181e-05, 0.00011050259490730241, 0.00010116050543729216, 0.00010785026825033128, 9.680363291408867e-05, 9.844397573033348e-05, 0.00010533861495787278, 0.0001351828977931291, 0.00011058659583795816]}, {\"marker\": {\"color\": \"black\"}, \"type\": \"box\", \"y\": [0.0031473736744374037, 0.0031473736744374037, 0.0031473736744374037, 0.0031473736744374037, 0.0031473736744374037, 0.0031473736744374037, 0.0031473736744374037, 0.0031473736744374037, 0.0031473736744374037, 0.0031473736744374037]}],\n",
       "                        {\"font\": {\"family\": \"Times New Roman\", \"size\": 17}, \"height\": 400, \"margin\": {\"b\": 1, \"l\": 0, \"r\": 1, \"t\": 5}, \"paper_bgcolor\": \"rgb(233,233,233)\", \"plot_bgcolor\": \"rgb(233,233,233)\", \"showlegend\": false, \"template\": {\"data\": {\"bar\": [{\"error_x\": {\"color\": \"rgb(36,36,36)\"}, \"error_y\": {\"color\": \"rgb(36,36,36)\"}, \"marker\": {\"line\": {\"color\": \"rgb(234,234,242)\", \"width\": 0.5}}, \"type\": \"bar\"}], \"barpolar\": [{\"marker\": {\"line\": {\"color\": \"rgb(234,234,242)\", \"width\": 0.5}}, \"type\": \"barpolar\"}], \"carpet\": [{\"aaxis\": {\"endlinecolor\": \"rgb(36,36,36)\", \"gridcolor\": \"white\", \"linecolor\": \"white\", \"minorgridcolor\": \"white\", \"startlinecolor\": \"rgb(36,36,36)\"}, \"baxis\": {\"endlinecolor\": \"rgb(36,36,36)\", \"gridcolor\": \"white\", \"linecolor\": \"white\", \"minorgridcolor\": \"white\", \"startlinecolor\": \"rgb(36,36,36)\"}, \"type\": \"carpet\"}], \"choropleth\": [{\"colorbar\": {\"outlinewidth\": 0, \"tickcolor\": \"rgb(36,36,36)\", \"ticklen\": 8, \"ticks\": \"outside\", \"tickwidth\": 2}, \"type\": \"choropleth\"}], \"contour\": [{\"colorbar\": {\"outlinewidth\": 0, \"tickcolor\": \"rgb(36,36,36)\", \"ticklen\": 8, \"ticks\": \"outside\", \"tickwidth\": 2}, \"colorscale\": [[0.0, \"rgb(2,4,25)\"], [0.06274509803921569, \"rgb(24,15,41)\"], [0.12549019607843137, \"rgb(47,23,57)\"], [0.18823529411764706, \"rgb(71,28,72)\"], [0.25098039215686274, \"rgb(97,30,82)\"], [0.3137254901960784, \"rgb(123,30,89)\"], [0.3764705882352941, \"rgb(150,27,91)\"], [0.4392156862745098, \"rgb(177,22,88)\"], [0.5019607843137255, \"rgb(203,26,79)\"], [0.5647058823529412, \"rgb(223,47,67)\"], [0.6274509803921569, \"rgb(236,76,61)\"], [0.6901960784313725, \"rgb(242,107,73)\"], [0.7529411764705882, \"rgb(244,135,95)\"], [0.8156862745098039, \"rgb(245,162,122)\"], [0.8784313725490196, \"rgb(246,188,153)\"], [0.9411764705882353, \"rgb(247,212,187)\"], [1.0, \"rgb(250,234,220)\"]], \"type\": \"contour\"}], \"contourcarpet\": [{\"colorbar\": {\"outlinewidth\": 0, \"tickcolor\": \"rgb(36,36,36)\", \"ticklen\": 8, \"ticks\": \"outside\", \"tickwidth\": 2}, \"type\": \"contourcarpet\"}], \"heatmap\": [{\"colorbar\": {\"outlinewidth\": 0, \"tickcolor\": \"rgb(36,36,36)\", \"ticklen\": 8, \"ticks\": \"outside\", \"tickwidth\": 2}, \"colorscale\": [[0.0, \"rgb(2,4,25)\"], [0.06274509803921569, \"rgb(24,15,41)\"], [0.12549019607843137, \"rgb(47,23,57)\"], [0.18823529411764706, \"rgb(71,28,72)\"], [0.25098039215686274, \"rgb(97,30,82)\"], [0.3137254901960784, \"rgb(123,30,89)\"], [0.3764705882352941, \"rgb(150,27,91)\"], [0.4392156862745098, \"rgb(177,22,88)\"], [0.5019607843137255, \"rgb(203,26,79)\"], [0.5647058823529412, \"rgb(223,47,67)\"], [0.6274509803921569, \"rgb(236,76,61)\"], [0.6901960784313725, \"rgb(242,107,73)\"], [0.7529411764705882, \"rgb(244,135,95)\"], [0.8156862745098039, \"rgb(245,162,122)\"], [0.8784313725490196, \"rgb(246,188,153)\"], [0.9411764705882353, \"rgb(247,212,187)\"], [1.0, \"rgb(250,234,220)\"]], \"type\": \"heatmap\"}], \"heatmapgl\": [{\"colorbar\": {\"outlinewidth\": 0, \"tickcolor\": \"rgb(36,36,36)\", \"ticklen\": 8, \"ticks\": \"outside\", \"tickwidth\": 2}, \"colorscale\": [[0.0, \"rgb(2,4,25)\"], [0.06274509803921569, \"rgb(24,15,41)\"], [0.12549019607843137, \"rgb(47,23,57)\"], [0.18823529411764706, \"rgb(71,28,72)\"], [0.25098039215686274, \"rgb(97,30,82)\"], [0.3137254901960784, \"rgb(123,30,89)\"], [0.3764705882352941, \"rgb(150,27,91)\"], [0.4392156862745098, \"rgb(177,22,88)\"], [0.5019607843137255, \"rgb(203,26,79)\"], [0.5647058823529412, \"rgb(223,47,67)\"], [0.6274509803921569, \"rgb(236,76,61)\"], [0.6901960784313725, \"rgb(242,107,73)\"], [0.7529411764705882, \"rgb(244,135,95)\"], [0.8156862745098039, \"rgb(245,162,122)\"], [0.8784313725490196, \"rgb(246,188,153)\"], [0.9411764705882353, \"rgb(247,212,187)\"], [1.0, \"rgb(250,234,220)\"]], \"type\": \"heatmapgl\"}], \"histogram\": [{\"marker\": {\"colorbar\": {\"outlinewidth\": 0, \"tickcolor\": \"rgb(36,36,36)\", \"ticklen\": 8, \"ticks\": \"outside\", \"tickwidth\": 2}}, \"type\": \"histogram\"}], \"histogram2d\": [{\"colorbar\": {\"outlinewidth\": 0, \"tickcolor\": \"rgb(36,36,36)\", \"ticklen\": 8, \"ticks\": \"outside\", \"tickwidth\": 2}, \"colorscale\": [[0.0, \"rgb(2,4,25)\"], [0.06274509803921569, \"rgb(24,15,41)\"], [0.12549019607843137, \"rgb(47,23,57)\"], [0.18823529411764706, \"rgb(71,28,72)\"], [0.25098039215686274, \"rgb(97,30,82)\"], [0.3137254901960784, \"rgb(123,30,89)\"], [0.3764705882352941, \"rgb(150,27,91)\"], [0.4392156862745098, \"rgb(177,22,88)\"], [0.5019607843137255, \"rgb(203,26,79)\"], [0.5647058823529412, \"rgb(223,47,67)\"], [0.6274509803921569, \"rgb(236,76,61)\"], [0.6901960784313725, \"rgb(242,107,73)\"], [0.7529411764705882, \"rgb(244,135,95)\"], [0.8156862745098039, \"rgb(245,162,122)\"], [0.8784313725490196, \"rgb(246,188,153)\"], [0.9411764705882353, \"rgb(247,212,187)\"], [1.0, \"rgb(250,234,220)\"]], \"type\": \"histogram2d\"}], \"histogram2dcontour\": [{\"colorbar\": {\"outlinewidth\": 0, \"tickcolor\": \"rgb(36,36,36)\", \"ticklen\": 8, \"ticks\": \"outside\", \"tickwidth\": 2}, \"colorscale\": [[0.0, \"rgb(2,4,25)\"], [0.06274509803921569, \"rgb(24,15,41)\"], [0.12549019607843137, \"rgb(47,23,57)\"], [0.18823529411764706, \"rgb(71,28,72)\"], [0.25098039215686274, \"rgb(97,30,82)\"], [0.3137254901960784, \"rgb(123,30,89)\"], [0.3764705882352941, \"rgb(150,27,91)\"], [0.4392156862745098, \"rgb(177,22,88)\"], [0.5019607843137255, \"rgb(203,26,79)\"], [0.5647058823529412, \"rgb(223,47,67)\"], [0.6274509803921569, \"rgb(236,76,61)\"], [0.6901960784313725, \"rgb(242,107,73)\"], [0.7529411764705882, \"rgb(244,135,95)\"], [0.8156862745098039, \"rgb(245,162,122)\"], [0.8784313725490196, \"rgb(246,188,153)\"], [0.9411764705882353, \"rgb(247,212,187)\"], [1.0, \"rgb(250,234,220)\"]], \"type\": \"histogram2dcontour\"}], \"mesh3d\": [{\"colorbar\": {\"outlinewidth\": 0, \"tickcolor\": \"rgb(36,36,36)\", \"ticklen\": 8, \"ticks\": \"outside\", \"tickwidth\": 2}, \"type\": \"mesh3d\"}], \"parcoords\": [{\"line\": {\"colorbar\": {\"outlinewidth\": 0, \"tickcolor\": \"rgb(36,36,36)\", \"ticklen\": 8, \"ticks\": \"outside\", \"tickwidth\": 2}}, \"type\": \"parcoords\"}], \"pie\": [{\"automargin\": true, \"type\": \"pie\"}], \"scatter\": [{\"marker\": {\"colorbar\": {\"outlinewidth\": 0, \"tickcolor\": \"rgb(36,36,36)\", \"ticklen\": 8, \"ticks\": \"outside\", \"tickwidth\": 2}}, \"type\": \"scatter\"}], \"scatter3d\": [{\"line\": {\"colorbar\": {\"outlinewidth\": 0, \"tickcolor\": \"rgb(36,36,36)\", \"ticklen\": 8, \"ticks\": \"outside\", \"tickwidth\": 2}}, \"marker\": {\"colorbar\": {\"outlinewidth\": 0, \"tickcolor\": \"rgb(36,36,36)\", \"ticklen\": 8, \"ticks\": \"outside\", \"tickwidth\": 2}}, \"type\": \"scatter3d\"}], \"scattercarpet\": [{\"marker\": {\"colorbar\": {\"outlinewidth\": 0, \"tickcolor\": \"rgb(36,36,36)\", \"ticklen\": 8, \"ticks\": \"outside\", \"tickwidth\": 2}}, \"type\": \"scattercarpet\"}], \"scattergeo\": [{\"marker\": {\"colorbar\": {\"outlinewidth\": 0, \"tickcolor\": \"rgb(36,36,36)\", \"ticklen\": 8, \"ticks\": \"outside\", \"tickwidth\": 2}}, \"type\": \"scattergeo\"}], \"scattergl\": [{\"marker\": {\"colorbar\": {\"outlinewidth\": 0, \"tickcolor\": \"rgb(36,36,36)\", \"ticklen\": 8, \"ticks\": \"outside\", \"tickwidth\": 2}}, \"type\": \"scattergl\"}], \"scattermapbox\": [{\"marker\": {\"colorbar\": {\"outlinewidth\": 0, \"tickcolor\": \"rgb(36,36,36)\", \"ticklen\": 8, \"ticks\": \"outside\", \"tickwidth\": 2}}, \"type\": \"scattermapbox\"}], \"scatterpolar\": [{\"marker\": {\"colorbar\": {\"outlinewidth\": 0, \"tickcolor\": \"rgb(36,36,36)\", \"ticklen\": 8, \"ticks\": \"outside\", \"tickwidth\": 2}}, \"type\": \"scatterpolar\"}], \"scatterpolargl\": [{\"marker\": {\"colorbar\": {\"outlinewidth\": 0, \"tickcolor\": \"rgb(36,36,36)\", \"ticklen\": 8, \"ticks\": \"outside\", \"tickwidth\": 2}}, \"type\": \"scatterpolargl\"}], \"scatterternary\": [{\"marker\": {\"colorbar\": {\"outlinewidth\": 0, \"tickcolor\": \"rgb(36,36,36)\", \"ticklen\": 8, \"ticks\": \"outside\", \"tickwidth\": 2}}, \"type\": \"scatterternary\"}], \"surface\": [{\"colorbar\": {\"outlinewidth\": 0, \"tickcolor\": \"rgb(36,36,36)\", \"ticklen\": 8, \"ticks\": \"outside\", \"tickwidth\": 2}, \"colorscale\": [[0.0, \"rgb(2,4,25)\"], [0.06274509803921569, \"rgb(24,15,41)\"], [0.12549019607843137, \"rgb(47,23,57)\"], [0.18823529411764706, \"rgb(71,28,72)\"], [0.25098039215686274, \"rgb(97,30,82)\"], [0.3137254901960784, \"rgb(123,30,89)\"], [0.3764705882352941, \"rgb(150,27,91)\"], [0.4392156862745098, \"rgb(177,22,88)\"], [0.5019607843137255, \"rgb(203,26,79)\"], [0.5647058823529412, \"rgb(223,47,67)\"], [0.6274509803921569, \"rgb(236,76,61)\"], [0.6901960784313725, \"rgb(242,107,73)\"], [0.7529411764705882, \"rgb(244,135,95)\"], [0.8156862745098039, \"rgb(245,162,122)\"], [0.8784313725490196, \"rgb(246,188,153)\"], [0.9411764705882353, \"rgb(247,212,187)\"], [1.0, \"rgb(250,234,220)\"]], \"type\": \"surface\"}], \"table\": [{\"cells\": {\"fill\": {\"color\": \"rgb(231,231,240)\"}, \"line\": {\"color\": \"white\"}}, \"header\": {\"fill\": {\"color\": \"rgb(183,183,191)\"}, \"line\": {\"color\": \"white\"}}, \"type\": \"table\"}]}, \"layout\": {\"annotationdefaults\": {\"arrowcolor\": \"rgb(67,103,167)\"}, \"coloraxis\": {\"colorbar\": {\"outlinewidth\": 0, \"tickcolor\": \"rgb(36,36,36)\", \"ticklen\": 8, \"ticks\": \"outside\", \"tickwidth\": 2}}, \"colorscale\": {\"sequential\": [[0.0, \"rgb(2,4,25)\"], [0.06274509803921569, \"rgb(24,15,41)\"], [0.12549019607843137, \"rgb(47,23,57)\"], [0.18823529411764706, \"rgb(71,28,72)\"], [0.25098039215686274, \"rgb(97,30,82)\"], [0.3137254901960784, \"rgb(123,30,89)\"], [0.3764705882352941, \"rgb(150,27,91)\"], [0.4392156862745098, \"rgb(177,22,88)\"], [0.5019607843137255, \"rgb(203,26,79)\"], [0.5647058823529412, \"rgb(223,47,67)\"], [0.6274509803921569, \"rgb(236,76,61)\"], [0.6901960784313725, \"rgb(242,107,73)\"], [0.7529411764705882, \"rgb(244,135,95)\"], [0.8156862745098039, \"rgb(245,162,122)\"], [0.8784313725490196, \"rgb(246,188,153)\"], [0.9411764705882353, \"rgb(247,212,187)\"], [1.0, \"rgb(250,234,220)\"]], \"sequentialminus\": [[0.0, \"rgb(2,4,25)\"], [0.06274509803921569, \"rgb(24,15,41)\"], [0.12549019607843137, \"rgb(47,23,57)\"], [0.18823529411764706, \"rgb(71,28,72)\"], [0.25098039215686274, \"rgb(97,30,82)\"], [0.3137254901960784, \"rgb(123,30,89)\"], [0.3764705882352941, \"rgb(150,27,91)\"], [0.4392156862745098, \"rgb(177,22,88)\"], [0.5019607843137255, \"rgb(203,26,79)\"], [0.5647058823529412, \"rgb(223,47,67)\"], [0.6274509803921569, \"rgb(236,76,61)\"], [0.6901960784313725, \"rgb(242,107,73)\"], [0.7529411764705882, \"rgb(244,135,95)\"], [0.8156862745098039, \"rgb(245,162,122)\"], [0.8784313725490196, \"rgb(246,188,153)\"], [0.9411764705882353, \"rgb(247,212,187)\"], [1.0, \"rgb(250,234,220)\"]]}, \"colorway\": [\"rgb(76,114,176)\", \"rgb(221,132,82)\", \"rgb(85,168,104)\", \"rgb(196,78,82)\", \"rgb(129,114,179)\", \"rgb(147,120,96)\", \"rgb(218,139,195)\", \"rgb(140,140,140)\", \"rgb(204,185,116)\", \"rgb(100,181,205)\"], \"font\": {\"color\": \"rgb(36,36,36)\"}, \"geo\": {\"bgcolor\": \"white\", \"lakecolor\": \"white\", \"landcolor\": \"rgb(234,234,242)\", \"showlakes\": true, \"showland\": true, \"subunitcolor\": \"white\"}, \"hoverlabel\": {\"align\": \"left\"}, \"hovermode\": \"closest\", \"paper_bgcolor\": \"white\", \"plot_bgcolor\": \"rgb(234,234,242)\", \"polar\": {\"angularaxis\": {\"gridcolor\": \"white\", \"linecolor\": \"white\", \"showgrid\": true, \"ticks\": \"\"}, \"bgcolor\": \"rgb(234,234,242)\", \"radialaxis\": {\"gridcolor\": \"white\", \"linecolor\": \"white\", \"showgrid\": true, \"ticks\": \"\"}}, \"scene\": {\"xaxis\": {\"backgroundcolor\": \"rgb(234,234,242)\", \"gridcolor\": \"white\", \"gridwidth\": 2, \"linecolor\": \"white\", \"showbackground\": true, \"showgrid\": true, \"ticks\": \"\", \"zerolinecolor\": \"white\"}, \"yaxis\": {\"backgroundcolor\": \"rgb(234,234,242)\", \"gridcolor\": \"white\", \"gridwidth\": 2, \"linecolor\": \"white\", \"showbackground\": true, \"showgrid\": true, \"ticks\": \"\", \"zerolinecolor\": \"white\"}, \"zaxis\": {\"backgroundcolor\": \"rgb(234,234,242)\", \"gridcolor\": \"white\", \"gridwidth\": 2, \"linecolor\": \"white\", \"showbackground\": true, \"showgrid\": true, \"ticks\": \"\", \"zerolinecolor\": \"white\"}}, \"shapedefaults\": {\"fillcolor\": \"rgb(67,103,167)\", \"line\": {\"width\": 0}, \"opacity\": 0.5}, \"ternary\": {\"aaxis\": {\"gridcolor\": \"white\", \"linecolor\": \"white\", \"showgrid\": true, \"ticks\": \"\"}, \"baxis\": {\"gridcolor\": \"white\", \"linecolor\": \"white\", \"showgrid\": true, \"ticks\": \"\"}, \"bgcolor\": \"rgb(234,234,242)\", \"caxis\": {\"gridcolor\": \"white\", \"linecolor\": \"white\", \"showgrid\": true, \"ticks\": \"\"}}, \"xaxis\": {\"automargin\": true, \"gridcolor\": \"white\", \"linecolor\": \"white\", \"showgrid\": true, \"ticks\": \"\", \"title\": {\"standoff\": 15}, \"zerolinecolor\": \"white\"}, \"yaxis\": {\"automargin\": true, \"gridcolor\": \"white\", \"linecolor\": \"white\", \"showgrid\": true, \"ticks\": \"\", \"title\": {\"standoff\": 15}, \"zerolinecolor\": \"white\"}}}, \"width\": 900, \"xaxis\": {\"showgrid\": true, \"showticklabels\": false, \"title\": {\"text\": \"50 instances of 10 Evaluations On 1 stack parameters\"}, \"zeroline\": false}, \"yaxis\": {\"gridcolor\": \"white\", \"showgrid\": false, \"title\": {\"text\": \"Eval. Distribtuion \"}, \"zeroline\": false}},\n",
       "                        {\"responsive\": true}\n",
       "                    ).then(function(){\n",
       "                            \n",
       "var gd = document.getElementById('6d60820d-55a1-4ff1-9e3a-be138f015197');\n",
       "var x = new MutationObserver(function (mutations, observer) {{\n",
       "        var display = window.getComputedStyle(gd).display;\n",
       "        if (!display || display === 'none') {{\n",
       "            console.log([gd, 'removed!']);\n",
       "            Plotly.purge(gd);\n",
       "            observer.disconnect();\n",
       "        }}\n",
       "}});\n",
       "\n",
       "// Listen for the removal of the full notebook cells\n",
       "var notebookContainer = gd.closest('#notebook-container');\n",
       "if (notebookContainer) {{\n",
       "    x.observe(notebookContainer, {childList: true});\n",
       "}}\n",
       "\n",
       "// Listen for the clearing of the current output cell\n",
       "var outputEl = gd.closest('.output');\n",
       "if (outputEl) {{\n",
       "    x.observe(outputEl, {childList: true});\n",
       "}}\n",
       "\n",
       "                        })\n",
       "                };\n",
       "                });\n",
       "            </script>\n",
       "        </div>"
      ]
     },
     "metadata": {},
     "output_type": "display_data"
    }
   ],
   "source": [
    "\n",
    "\n",
    "import plotly.graph_objects as go\n",
    "import numpy as np\n",
    "from kaleido.scopes.plotly import PlotlyScope\n",
    "scope = PlotlyScope()\n",
    "N = 50    # Number of boxes\n",
    "\n",
    "# generate an array of rainbow colors by fixing the saturation and lightness of the HSL\n",
    "# representation of colour and marching around the hue.\n",
    "# Plotly accepts any CSS color format, see e.g. http://www.w3schools.com/cssref/css_colors_legal.asp.\n",
    "c = ['hsl('+str(h)+',50%'+',50%)' for h in np.linspace(0, 360, N)]\n",
    "\n",
    "# Each box is represented by a dict that contains the data, the type, and the colour.\n",
    "# Use list comprehension to describe N boxes, each with a different colour and with different randomly generated data:\n",
    "fig = go.Figure(data=[go.Box(\n",
    "    y=row,\n",
    "    marker_color=\"black\",\n",
    "    ) for i,row in enumerate(all_rows[0:N])])\n",
    "\n",
    "# format the layout\n",
    "fig.update_layout(\n",
    "    xaxis=dict(showgrid=False, zeroline=False, showticklabels=False),\n",
    "    yaxis=dict(zeroline=False, gridcolor='white'),\n",
    "#     yaxis_type=\"log\",\n",
    "    paper_bgcolor='rgb(233,233,233)',\n",
    "    plot_bgcolor='rgb(233,233,233)',\n",
    "    showlegend=False,\n",
    "    template=\"seaborn\",\n",
    "    width=900,height=400,\n",
    "    font_family=\"Times New Roman\",\n",
    "    margin=dict(l=0, t=5,r=1,  b=1),\n",
    "    font_size=17,\n",
    "    \n",
    ")\n",
    "fig.update_xaxes(title_text=\"%d instances of 10 Evaluations On %d stack parameters\"%(N,stack_size))\n",
    "fig.update_yaxes(title_text='Eval. Distribtuion ',\n",
    "                   \n",
    "#                     dtick=1,\n",
    "                    )\n",
    "fig.update_xaxes(showgrid=True,zeroline=False,)\n",
    "fig.update_yaxes(showgrid=False,zeroline=False,)\n",
    "\n",
    "fig.show()\n",
    "with open(\"eval_stability_stacksize%d.pdf\"%stack_size, \"wb\") as f:\n",
    "    f.write(scope.transform(fig, format=\"pdf\",width=1000,height=400,))\n"
   ]
  }
 ],
 "metadata": {
  "kernelspec": {
   "display_name": "Python 3",
   "language": "python",
   "name": "python3"
  },
  "language_info": {
   "codemirror_mode": {
    "name": "ipython",
    "version": 3
   },
   "file_extension": ".py",
   "mimetype": "text/x-python",
   "name": "python",
   "nbconvert_exporter": "python",
   "pygments_lexer": "ipython3",
   "version": "3.7.5"
  }
 },
 "nbformat": 4,
 "nbformat_minor": 4
}
