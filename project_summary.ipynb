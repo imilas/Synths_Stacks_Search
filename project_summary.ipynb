{
 "cells": [
  {
   "cell_type": "code",
   "execution_count": 3,
   "metadata": {},
   "outputs": [],
   "source": [
    "import os \n",
    "os.environ['CUDA_VISIBLE_DEVICES'] = \"0\"\n",
    "import numpy as np\n",
    "import pandas as pd\n",
    "import torch\n",
    "import torch.nn as nn\n",
    "from torch.nn.functional import interpolate \n",
    "import matplotlib.pyplot as plt\n",
    "from pathlib import Path\n",
    "import time\n",
    "# generation imports\n",
    "from pippi.soundbuffer import SoundBuffer\n",
    "from pippi import dsp,fx\n",
    "import param_generation as pg\n",
    "import _pickle as pickle\n",
    "from IPython.display import Audio\n",
    "from feature_extraction.mir_utils import *\n",
    "###\n",
    "from PIL import Image\n",
    "###\n",
    "import imp\n",
    "import librosa\n",
    "import librosa.display\n",
    "import sys\n",
    "import csv\n",
    "from scipy.io.wavfile import write\n",
    "import threading\n",
    "from IPython.display import clear_output\n",
    "sys.path.append(\"..\")\n",
    "\n",
    "from feature_extraction import resnet\n",
    "\n",
    "import helpers\n",
    "imp.reload(resnet)\n",
    "imp.reload(helpers)\n",
    "imp.reload(pg)\n",
    "from feature_extraction import pytorch_models as tm\n",
    "\n",
    "from helpers import *\n",
    "# from common_vars import SR\n",
    "device = torch.device(\"cuda:0\" if torch.cuda.is_available() else \"cpu\")\n",
    "\n",
    "drum_types = ['hat', 'kick', 'shake', 'snare']\n",
    "\n",
    "# save_path=\"./generated_sample_pack/\""
   ]
  },
  {
   "cell_type": "markdown",
   "metadata": {},
   "source": [
    "## Percussive Sound Generation with Virtual Listeners and Modular Synthesizers\n",
    "#### Candidate: Amir Salimi\n",
    "#### Supervisor: Abram Hindle"
   ]
  },
  {
   "cell_type": "markdown",
   "metadata": {},
   "source": [
    "### Topics:\n",
    "1. Introduction 5 min\n",
    "2. Background  5 min \n",
    "3. Virtual Synthesis 5 min\n",
    "4. Virtual Ear 7.5 min\n",
    "5. Survey and Results 5 min\n",
    "6. Drum Kit Mutation 5 min\n",
    "7. Future Work and Conclusion 7.5 min"
   ]
  },
  {
   "cell_type": "markdown",
   "metadata": {},
   "source": []
  },
  {
   "cell_type": "code",
   "execution_count": null,
   "metadata": {},
   "outputs": [],
   "source": []
  }
 ],
 "metadata": {
  "kernelspec": {
   "display_name": "Python 3",
   "language": "python",
   "name": "python3"
  },
  "language_info": {
   "codemirror_mode": {
    "name": "ipython",
    "version": 3
   },
   "file_extension": ".py",
   "mimetype": "text/x-python",
   "name": "python",
   "nbconvert_exporter": "python",
   "pygments_lexer": "ipython3",
   "version": "3.7.10"
  }
 },
 "nbformat": 4,
 "nbformat_minor": 4
}
