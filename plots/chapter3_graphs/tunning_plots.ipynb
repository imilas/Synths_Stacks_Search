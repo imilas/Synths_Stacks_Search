{
 "cells": [
  {
   "cell_type": "code",
   "execution_count": 19,
   "metadata": {},
   "outputs": [
    {
     "name": "stderr",
     "output_type": "stream",
     "text": [
      "[I 2020-09-15 13:25:53,871] Using an existing study with name 'study_1' instead of creating a new one.\n",
      "/home/asalimi/miniconda3/lib/python3.7/site-packages/optuna/_experimental.py:61: ExperimentalWarning: get_param_importances is experimental (supported from v1.3.0). The interface can change in the future.\n",
      "  ExperimentalWarning,\n",
      "/home/asalimi/miniconda3/lib/python3.7/site-packages/optuna/_experimental.py:83: ExperimentalWarning: MeanDecreaseImpurityImportanceEvaluator is experimental (supported from v1.5.0). The interface can change in the future.\n",
      "  ExperimentalWarning,\n"
     ]
    },
    {
     "data": {
      "text/plain": [
       "['Time Steps',\n",
       " 'Learning Rate',\n",
       " 'Optimizer',\n",
       " 'Hidden Layers',\n",
       " 'Dropout Rate',\n",
       " 'Model Type',\n",
       " 'Latent Size',\n",
       " 'L2 Regularization',\n",
       " 'Frequency Bins']"
      ]
     },
     "execution_count": 19,
     "metadata": {},
     "output_type": "execute_result"
    }
   ],
   "source": [
    "from kaleido.scopes.plotly import PlotlyScope\n",
    "import optuna\n",
    "import plotly\n",
    "import plotly.express as px\n",
    "import pandas as pd\n",
    "import numpy as np\n",
    "import imp  \n",
    "import customplots as cplot\n",
    "imp.reload(cplot)\n",
    "import plotly.graph_objects as go\n",
    "study = optuna.create_study(study_name='study_1', storage='sqlite:///../../feature_extraction/optuna_median.db',load_if_exists=True)\n",
    "params = [k for k in optuna.importance.get_param_importances(study)]\n",
    "    \n",
    "icy=['rgb(0,0,0)','rgb(50,50,140)','rgb(70,70,160)','rgb(110,110,200)','rgb(130,130,210)',\n",
    "     'rgb(150,150,230)', 'rgb(170,170,255)','rgb(190,190,255)',\n",
    "     'rgb(200,200,255)','rgb(210,210,255)','rgb(220,220,255)','rgb(240,240,255)']\n",
    "icy_r=icy.copy()\n",
    "icy_r.reverse()\n"
   ]
  },
  {
   "cell_type": "code",
   "execution_count": 33,
   "metadata": {},
   "outputs": [
    {
     "data": {
      "application/vnd.plotly.v1+json": {
       "config": {
        "plotlyServerURL": "https://plot.ly"
       },
       "data": [
        {
         "dimensions": [
          {
           "label": "Loss",
           "range": [
            -6.36,
            -4.319
           ],
           "values": [
            -5.136200230360036,
            -6.002741067623022,
            -6.030972830485356,
            -5.062804763880649,
            -5.766009512654007,
            -5.110423696117771,
            -5.156995344248224,
            -5.004370051589653,
            -5.443945110455047,
            -5.594375159388466,
            -4.541180437836086,
            -5.493931474883359,
            -5.685310683814561,
            -5.561535758854757,
            -4.9394861106041645,
            -4.318824157252191,
            -5.465546546929831,
            -6.360240564904293
           ]
          },
          {
           "label": "Dropout",
           "range": [
            0,
            0.5
           ],
           "values": [
            0.1,
            0.5,
            0.30000000000000004,
            0.2,
            0.2,
            0.2,
            0.1,
            0.4,
            0.30000000000000004,
            0.4,
            0.30000000000000004,
            0,
            0.30000000000000004,
            0.4,
            0.1,
            0.1,
            0.30000000000000004,
            0
           ]
          },
          {
           "label": "Freq. Bins",
           "range": [
            10,
            60
           ],
           "tickvals": [
            10,
            30,
            60
           ],
           "values": [
            30,
            60,
            60,
            10,
            60,
            30,
            30,
            10,
            60,
            60,
            10,
            60,
            60,
            60,
            30,
            10,
            10,
            10
           ]
          },
          {
           "label": "Hidden",
           "range": [
            1,
            2
           ],
           "values": [
            1,
            2,
            2,
            2,
            1,
            2,
            2,
            1,
            2,
            2,
            2,
            2,
            2,
            2,
            2,
            1,
            1,
            2
           ]
          },
          {
           "label": "L2 Regular.",
           "range": [
            0,
            0.08
           ],
           "values": [
            0.00022214504767489684,
            0.0009039890458283983,
            4.075409003334307e-05,
            2.802655535287162e-06,
            6.002573370507835e-05,
            1.4980136375044707e-06,
            0.00031234861577260863,
            0.00023956117613134834,
            0.0009297867044010104,
            0.0001711859479056543,
            1.1678160604275393e-06,
            0.0028284647522457016,
            4.831470060412663e-06,
            0.00015050776066239326,
            1.1045452320007337e-06,
            0.07897916498960639,
            0.00018943099407416736,
            1.6467454129545388e-06
           ]
          },
          {
           "label": "Latent Size",
           "range": [
            4,
            64
           ],
           "tickvals": [
            4,
            16,
            64
           ],
           "values": [
            16,
            16,
            64,
            4,
            64,
            64,
            16,
            64,
            64,
            16,
            4,
            64,
            4,
            64,
            4,
            16,
            16,
            64
           ]
          },
          {
           "label": "Learn. Rate",
           "range": [
            0,
            0.09
           ],
           "values": [
            0.04633957288489894,
            0.030507494218883397,
            0.0244159856401081,
            0.04629432206813644,
            0.03971699607974676,
            0.07634178138592708,
            0.07951623828529203,
            0.03243105577798813,
            0.06479790069228863,
            0.0018658416818130843,
            0.05593628187185701,
            0.0928121266132625,
            0.07167952885257582,
            0.08277951770155054,
            0.07822106708643975,
            0.09277548581731376,
            0.05011970115883236,
            0.004238912656469461
           ]
          },
          {
           "label": "Model Type",
           "range": [
            0,
            1
           ],
           "ticktext": [
            "CNN",
            "FC"
           ],
           "tickvals": [
            0,
            1
           ],
           "values": [
            0,
            0,
            0,
            1,
            0,
            0,
            1,
            1,
            1,
            1,
            0,
            1,
            1,
            1,
            0,
            0,
            1,
            1
           ]
          },
          {
           "label": "Optimizer",
           "range": [
            0,
            1
           ],
           "ticktext": [
            "SGD",
            "Adam"
           ],
           "tickvals": [
            0,
            1
           ],
           "values": [
            0,
            1,
            1,
            0,
            0,
            0,
            1,
            0,
            0,
            1,
            1,
            1,
            0,
            1,
            1,
            1,
            1,
            1
           ]
          },
          {
           "label": "Time Steps",
           "range": [
            10,
            20
           ],
           "tickvals": [
            10,
            20
           ],
           "values": [
            10,
            20,
            20,
            20,
            20,
            10,
            10,
            20,
            10,
            10,
            10,
            10,
            20,
            10,
            10,
            10,
            20,
            20
           ]
          }
         ],
         "line": {
          "color": [
           -5.136200230360036,
           -6.002741067623022,
           -6.030972830485356,
           -5.062804763880649,
           -5.766009512654007,
           -5.110423696117771,
           -5.156995344248224,
           -5.004370051589653,
           -5.443945110455047,
           -5.594375159388466,
           -4.541180437836086,
           -5.493931474883359,
           -5.685310683814561,
           -5.561535758854757,
           -4.9394861106041645,
           -4.318824157252191,
           -5.465546546929831,
           -6.360240564904293
          ],
          "colorbar": {
           "title": {
            "text": "Loss"
           }
          },
          "colorscale": [
           [
            0,
            "rgb(0, 0, 0)"
           ],
           [
            0.09090909090909091,
            "rgb(50,50,140)"
           ],
           [
            0.18181818181818182,
            "rgb(70,70,160)"
           ],
           [
            0.2727272727272727,
            "rgb(110,110,200)"
           ],
           [
            0.36363636363636365,
            "rgb(130,130,210)"
           ],
           [
            0.45454545454545453,
            "rgb(150,150,230)"
           ],
           [
            0.5454545454545454,
            "rgb(170,170,255)"
           ],
           [
            0.6363636363636364,
            "rgb(190,190,255)"
           ],
           [
            0.7272727272727273,
            "rgb(200,200,255)"
           ],
           [
            0.8181818181818182,
            "rgb(210,210,255)"
           ],
           [
            0.9090909090909091,
            "rgb(220,220,255)"
           ],
           [
            1,
            "rgb(240,240,255)"
           ]
          ],
          "showscale": true
         },
         "rangefont": {
          "color": "white",
          "family": "Times New Roman",
          "size": 1
         },
         "tickfont": {
          "color": "black",
          "family": "Times New Roman",
          "size": 18
         },
         "type": "parcoords"
        }
       ],
       "layout": {
        "autosize": false,
        "font": {
         "family": "Times New Roman",
         "size": 20
        },
        "height": 400,
        "margin": {
         "b": 10,
         "l": 50,
         "r": 1,
         "t": 50
        },
        "template": {
         "data": {
          "bar": [
           {
            "error_x": {
             "color": "rgb(51,51,51)"
            },
            "error_y": {
             "color": "rgb(51,51,51)"
            },
            "marker": {
             "line": {
              "color": "rgb(237,237,237)",
              "width": 0.5
             }
            },
            "type": "bar"
           }
          ],
          "barpolar": [
           {
            "marker": {
             "line": {
              "color": "rgb(237,237,237)",
              "width": 0.5
             }
            },
            "type": "barpolar"
           }
          ],
          "carpet": [
           {
            "aaxis": {
             "endlinecolor": "rgb(51,51,51)",
             "gridcolor": "white",
             "linecolor": "white",
             "minorgridcolor": "white",
             "startlinecolor": "rgb(51,51,51)"
            },
            "baxis": {
             "endlinecolor": "rgb(51,51,51)",
             "gridcolor": "white",
             "linecolor": "white",
             "minorgridcolor": "white",
             "startlinecolor": "rgb(51,51,51)"
            },
            "type": "carpet"
           }
          ],
          "choropleth": [
           {
            "colorbar": {
             "outlinewidth": 0,
             "tickcolor": "rgb(237,237,237)",
             "ticklen": 6,
             "ticks": "inside"
            },
            "type": "choropleth"
           }
          ],
          "contour": [
           {
            "colorbar": {
             "outlinewidth": 0,
             "tickcolor": "rgb(237,237,237)",
             "ticklen": 6,
             "ticks": "inside"
            },
            "colorscale": [
             [
              0,
              "rgb(20,44,66)"
             ],
             [
              1,
              "rgb(90,179,244)"
             ]
            ],
            "type": "contour"
           }
          ],
          "contourcarpet": [
           {
            "colorbar": {
             "outlinewidth": 0,
             "tickcolor": "rgb(237,237,237)",
             "ticklen": 6,
             "ticks": "inside"
            },
            "type": "contourcarpet"
           }
          ],
          "heatmap": [
           {
            "colorbar": {
             "outlinewidth": 0,
             "tickcolor": "rgb(237,237,237)",
             "ticklen": 6,
             "ticks": "inside"
            },
            "colorscale": [
             [
              0,
              "rgb(20,44,66)"
             ],
             [
              1,
              "rgb(90,179,244)"
             ]
            ],
            "type": "heatmap"
           }
          ],
          "heatmapgl": [
           {
            "colorbar": {
             "outlinewidth": 0,
             "tickcolor": "rgb(237,237,237)",
             "ticklen": 6,
             "ticks": "inside"
            },
            "colorscale": [
             [
              0,
              "rgb(20,44,66)"
             ],
             [
              1,
              "rgb(90,179,244)"
             ]
            ],
            "type": "heatmapgl"
           }
          ],
          "histogram": [
           {
            "marker": {
             "colorbar": {
              "outlinewidth": 0,
              "tickcolor": "rgb(237,237,237)",
              "ticklen": 6,
              "ticks": "inside"
             }
            },
            "type": "histogram"
           }
          ],
          "histogram2d": [
           {
            "colorbar": {
             "outlinewidth": 0,
             "tickcolor": "rgb(237,237,237)",
             "ticklen": 6,
             "ticks": "inside"
            },
            "colorscale": [
             [
              0,
              "rgb(20,44,66)"
             ],
             [
              1,
              "rgb(90,179,244)"
             ]
            ],
            "type": "histogram2d"
           }
          ],
          "histogram2dcontour": [
           {
            "colorbar": {
             "outlinewidth": 0,
             "tickcolor": "rgb(237,237,237)",
             "ticklen": 6,
             "ticks": "inside"
            },
            "colorscale": [
             [
              0,
              "rgb(20,44,66)"
             ],
             [
              1,
              "rgb(90,179,244)"
             ]
            ],
            "type": "histogram2dcontour"
           }
          ],
          "mesh3d": [
           {
            "colorbar": {
             "outlinewidth": 0,
             "tickcolor": "rgb(237,237,237)",
             "ticklen": 6,
             "ticks": "inside"
            },
            "type": "mesh3d"
           }
          ],
          "parcoords": [
           {
            "line": {
             "colorbar": {
              "outlinewidth": 0,
              "tickcolor": "rgb(237,237,237)",
              "ticklen": 6,
              "ticks": "inside"
             }
            },
            "type": "parcoords"
           }
          ],
          "pie": [
           {
            "automargin": true,
            "type": "pie"
           }
          ],
          "scatter": [
           {
            "marker": {
             "colorbar": {
              "outlinewidth": 0,
              "tickcolor": "rgb(237,237,237)",
              "ticklen": 6,
              "ticks": "inside"
             }
            },
            "type": "scatter"
           }
          ],
          "scatter3d": [
           {
            "line": {
             "colorbar": {
              "outlinewidth": 0,
              "tickcolor": "rgb(237,237,237)",
              "ticklen": 6,
              "ticks": "inside"
             }
            },
            "marker": {
             "colorbar": {
              "outlinewidth": 0,
              "tickcolor": "rgb(237,237,237)",
              "ticklen": 6,
              "ticks": "inside"
             }
            },
            "type": "scatter3d"
           }
          ],
          "scattercarpet": [
           {
            "marker": {
             "colorbar": {
              "outlinewidth": 0,
              "tickcolor": "rgb(237,237,237)",
              "ticklen": 6,
              "ticks": "inside"
             }
            },
            "type": "scattercarpet"
           }
          ],
          "scattergeo": [
           {
            "marker": {
             "colorbar": {
              "outlinewidth": 0,
              "tickcolor": "rgb(237,237,237)",
              "ticklen": 6,
              "ticks": "inside"
             }
            },
            "type": "scattergeo"
           }
          ],
          "scattergl": [
           {
            "marker": {
             "colorbar": {
              "outlinewidth": 0,
              "tickcolor": "rgb(237,237,237)",
              "ticklen": 6,
              "ticks": "inside"
             }
            },
            "type": "scattergl"
           }
          ],
          "scattermapbox": [
           {
            "marker": {
             "colorbar": {
              "outlinewidth": 0,
              "tickcolor": "rgb(237,237,237)",
              "ticklen": 6,
              "ticks": "inside"
             }
            },
            "type": "scattermapbox"
           }
          ],
          "scatterpolar": [
           {
            "marker": {
             "colorbar": {
              "outlinewidth": 0,
              "tickcolor": "rgb(237,237,237)",
              "ticklen": 6,
              "ticks": "inside"
             }
            },
            "type": "scatterpolar"
           }
          ],
          "scatterpolargl": [
           {
            "marker": {
             "colorbar": {
              "outlinewidth": 0,
              "tickcolor": "rgb(237,237,237)",
              "ticklen": 6,
              "ticks": "inside"
             }
            },
            "type": "scatterpolargl"
           }
          ],
          "scatterternary": [
           {
            "marker": {
             "colorbar": {
              "outlinewidth": 0,
              "tickcolor": "rgb(237,237,237)",
              "ticklen": 6,
              "ticks": "inside"
             }
            },
            "type": "scatterternary"
           }
          ],
          "surface": [
           {
            "colorbar": {
             "outlinewidth": 0,
             "tickcolor": "rgb(237,237,237)",
             "ticklen": 6,
             "ticks": "inside"
            },
            "colorscale": [
             [
              0,
              "rgb(20,44,66)"
             ],
             [
              1,
              "rgb(90,179,244)"
             ]
            ],
            "type": "surface"
           }
          ],
          "table": [
           {
            "cells": {
             "fill": {
              "color": "rgb(237,237,237)"
             },
             "line": {
              "color": "white"
             }
            },
            "header": {
             "fill": {
              "color": "rgb(217,217,217)"
             },
             "line": {
              "color": "white"
             }
            },
            "type": "table"
           }
          ]
         },
         "layout": {
          "annotationdefaults": {
           "arrowhead": 0,
           "arrowwidth": 1
          },
          "coloraxis": {
           "colorbar": {
            "outlinewidth": 0,
            "tickcolor": "rgb(237,237,237)",
            "ticklen": 6,
            "ticks": "inside"
           }
          },
          "colorscale": {
           "sequential": [
            [
             0,
             "rgb(20,44,66)"
            ],
            [
             1,
             "rgb(90,179,244)"
            ]
           ],
           "sequentialminus": [
            [
             0,
             "rgb(20,44,66)"
            ],
            [
             1,
             "rgb(90,179,244)"
            ]
           ]
          },
          "colorway": [
           "#F8766D",
           "#A3A500",
           "#00BF7D",
           "#00B0F6",
           "#E76BF3"
          ],
          "font": {
           "color": "rgb(51,51,51)"
          },
          "geo": {
           "bgcolor": "white",
           "lakecolor": "white",
           "landcolor": "rgb(237,237,237)",
           "showlakes": true,
           "showland": true,
           "subunitcolor": "white"
          },
          "hoverlabel": {
           "align": "left"
          },
          "hovermode": "closest",
          "paper_bgcolor": "white",
          "plot_bgcolor": "rgb(237,237,237)",
          "polar": {
           "angularaxis": {
            "gridcolor": "white",
            "linecolor": "white",
            "showgrid": true,
            "tickcolor": "rgb(51,51,51)",
            "ticks": "outside"
           },
           "bgcolor": "rgb(237,237,237)",
           "radialaxis": {
            "gridcolor": "white",
            "linecolor": "white",
            "showgrid": true,
            "tickcolor": "rgb(51,51,51)",
            "ticks": "outside"
           }
          },
          "scene": {
           "xaxis": {
            "backgroundcolor": "rgb(237,237,237)",
            "gridcolor": "white",
            "gridwidth": 2,
            "linecolor": "white",
            "showbackground": true,
            "showgrid": true,
            "tickcolor": "rgb(51,51,51)",
            "ticks": "outside",
            "zerolinecolor": "white"
           },
           "yaxis": {
            "backgroundcolor": "rgb(237,237,237)",
            "gridcolor": "white",
            "gridwidth": 2,
            "linecolor": "white",
            "showbackground": true,
            "showgrid": true,
            "tickcolor": "rgb(51,51,51)",
            "ticks": "outside",
            "zerolinecolor": "white"
           },
           "zaxis": {
            "backgroundcolor": "rgb(237,237,237)",
            "gridcolor": "white",
            "gridwidth": 2,
            "linecolor": "white",
            "showbackground": true,
            "showgrid": true,
            "tickcolor": "rgb(51,51,51)",
            "ticks": "outside",
            "zerolinecolor": "white"
           }
          },
          "shapedefaults": {
           "fillcolor": "black",
           "line": {
            "width": 0
           },
           "opacity": 0.3
          },
          "ternary": {
           "aaxis": {
            "gridcolor": "white",
            "linecolor": "white",
            "showgrid": true,
            "tickcolor": "rgb(51,51,51)",
            "ticks": "outside"
           },
           "baxis": {
            "gridcolor": "white",
            "linecolor": "white",
            "showgrid": true,
            "tickcolor": "rgb(51,51,51)",
            "ticks": "outside"
           },
           "bgcolor": "rgb(237,237,237)",
           "caxis": {
            "gridcolor": "white",
            "linecolor": "white",
            "showgrid": true,
            "tickcolor": "rgb(51,51,51)",
            "ticks": "outside"
           }
          },
          "xaxis": {
           "automargin": true,
           "gridcolor": "white",
           "linecolor": "white",
           "showgrid": true,
           "tickcolor": "rgb(51,51,51)",
           "ticks": "outside",
           "title": {
            "standoff": 15
           },
           "zerolinecolor": "white"
          },
          "yaxis": {
           "automargin": true,
           "gridcolor": "white",
           "linecolor": "white",
           "showgrid": true,
           "tickcolor": "rgb(51,51,51)",
           "ticks": "outside",
           "title": {
            "standoff": 15
           },
           "zerolinecolor": "white"
          }
         }
        },
        "title": {
         "font": {
          "family": "Times New Roman",
          "size": 30
         },
         "x": 0.5,
         "y": 0.98
        },
        "width": 1000
       }
      },
      "image/png": "[encoded data removed]",
      "text/html": [
       "<div>\n",
       "        \n",
       "        \n",
       "            <div id=\"51086cc7-42ae-46c1-9a79-c104f5b6fe93\" class=\"plotly-graph-div\" style=\"height:400px; width:1000px;\"></div>\n",
       "            <script type=\"text/javascript\">\n",
       "                require([\"plotly\"], function(Plotly) {\n",
       "                    window.PLOTLYENV=window.PLOTLYENV || {};\n",
       "                    \n",
       "                if (document.getElementById(\"51086cc7-42ae-46c1-9a79-c104f5b6fe93\")) {\n",
       "                    Plotly.newPlot(\n",
       "                        '51086cc7-42ae-46c1-9a79-c104f5b6fe93',\n",
       "                        [{\"dimensions\": [{\"label\": \"Loss\", \"range\": [-6.36, -4.319], \"values\": [-5.136200230360036, -6.002741067623022, -6.030972830485356, -5.062804763880649, -5.766009512654007, -5.110423696117771, -5.156995344248224, -5.004370051589653, -5.443945110455047, -5.594375159388466, -4.541180437836086, -5.493931474883359, -5.685310683814561, -5.561535758854757, -4.9394861106041645, -4.318824157252191, -5.465546546929831, -6.360240564904293]}, {\"label\": \"Dropout\", \"range\": [0.0, 0.5], \"values\": [0.1, 0.5, 0.30000000000000004, 0.2, 0.2, 0.2, 0.1, 0.4, 0.30000000000000004, 0.4, 0.30000000000000004, 0.0, 0.30000000000000004, 0.4, 0.1, 0.1, 0.30000000000000004, 0.0]}, {\"label\": \"Freq. Bins\", \"range\": [10, 60], \"tickvals\": [10, 60, 30], \"values\": [30, 60, 60, 10, 60, 30, 30, 10, 60, 60, 10, 60, 60, 60, 30, 10, 10, 10]}, {\"label\": \"Hidden\", \"range\": [1, 2], \"values\": [1, 2, 2, 2, 1, 2, 2, 1, 2, 2, 2, 2, 2, 2, 2, 1, 1, 2]}, {\"label\": \"L2 Regular.\", \"range\": [0.0, 0.08], \"values\": [0.00022214504767489684, 0.0009039890458283983, 4.075409003334307e-05, 2.802655535287162e-06, 6.002573370507835e-05, 1.4980136375044707e-06, 0.00031234861577260863, 0.00023956117613134834, 0.0009297867044010104, 0.0001711859479056543, 1.1678160604275393e-06, 0.0028284647522457016, 4.831470060412663e-06, 0.00015050776066239326, 1.1045452320007337e-06, 0.07897916498960639, 0.00018943099407416736, 1.6467454129545388e-06]}, {\"label\": \"Latent Size\", \"range\": [4, 64], \"tickvals\": [16, 64, 4], \"values\": [16, 16, 64, 4, 64, 64, 16, 64, 64, 16, 4, 64, 4, 64, 4, 16, 16, 64]}, {\"label\": \"Learn. Rate\", \"range\": [0.0, 0.09], \"values\": [0.04633957288489894, 0.030507494218883397, 0.0244159856401081, 0.04629432206813644, 0.03971699607974676, 0.07634178138592708, 0.07951623828529203, 0.03243105577798813, 0.06479790069228863, 0.0018658416818130843, 0.05593628187185701, 0.0928121266132625, 0.07167952885257582, 0.08277951770155054, 0.07822106708643975, 0.09277548581731376, 0.05011970115883236, 0.004238912656469461]}, {\"label\": \"Model Type\", \"range\": [0, 1], \"ticktext\": [\"CNN\", \"FC\"], \"tickvals\": [0, 1], \"values\": [0, 0, 0, 1, 0, 0, 1, 1, 1, 1, 0, 1, 1, 1, 0, 0, 1, 1]}, {\"label\": \"Optimizer\", \"range\": [0, 1], \"ticktext\": [\"SGD\", \"Adam\"], \"tickvals\": [0, 1], \"values\": [0, 1, 1, 0, 0, 0, 1, 0, 0, 1, 1, 1, 0, 1, 1, 1, 1, 1]}, {\"label\": \"Time Steps\", \"range\": [10, 20], \"tickvals\": [10, 20], \"values\": [10, 20, 20, 20, 20, 10, 10, 20, 10, 10, 10, 10, 20, 10, 10, 10, 20, 20]}], \"line\": {\"color\": [-5.136200230360036, -6.002741067623022, -6.030972830485356, -5.062804763880649, -5.766009512654007, -5.110423696117771, -5.156995344248224, -5.004370051589653, -5.443945110455047, -5.594375159388466, -4.541180437836086, -5.493931474883359, -5.685310683814561, -5.561535758854757, -4.9394861106041645, -4.318824157252191, -5.465546546929831, -6.360240564904293], \"colorbar\": {\"title\": {\"text\": \"Loss\"}}, \"colorscale\": [[0.0, \"rgb(0,0,0)\"], [0.09090909090909091, \"rgb(50,50,140)\"], [0.18181818181818182, \"rgb(70,70,160)\"], [0.2727272727272727, \"rgb(110,110,200)\"], [0.36363636363636365, \"rgb(130,130,210)\"], [0.45454545454545453, \"rgb(150,150,230)\"], [0.5454545454545454, \"rgb(170,170,255)\"], [0.6363636363636364, \"rgb(190,190,255)\"], [0.7272727272727273, \"rgb(200,200,255)\"], [0.8181818181818182, \"rgb(210,210,255)\"], [0.9090909090909091, \"rgb(220,220,255)\"], [1.0, \"rgb(240,240,255)\"]], \"showscale\": true}, \"rangefont\": {\"color\": \"white\", \"family\": \"Times New Roman\", \"size\": 1}, \"tickfont\": {\"color\": \"black\", \"family\": \"Times New Roman\", \"size\": 18}, \"type\": \"parcoords\"}],\n",
       "                        {\"autosize\": false, \"font\": {\"family\": \"Times New Roman\", \"size\": 20}, \"height\": 400, \"margin\": {\"b\": 10, \"l\": 50, \"r\": 1, \"t\": 50}, \"template\": {\"data\": {\"bar\": [{\"error_x\": {\"color\": \"rgb(51,51,51)\"}, \"error_y\": {\"color\": \"rgb(51,51,51)\"}, \"marker\": {\"line\": {\"color\": \"rgb(237,237,237)\", \"width\": 0.5}}, \"type\": \"bar\"}], \"barpolar\": [{\"marker\": {\"line\": {\"color\": \"rgb(237,237,237)\", \"width\": 0.5}}, \"type\": \"barpolar\"}], \"carpet\": [{\"aaxis\": {\"endlinecolor\": \"rgb(51,51,51)\", \"gridcolor\": \"white\", \"linecolor\": \"white\", \"minorgridcolor\": \"white\", \"startlinecolor\": \"rgb(51,51,51)\"}, \"baxis\": {\"endlinecolor\": \"rgb(51,51,51)\", \"gridcolor\": \"white\", \"linecolor\": \"white\", \"minorgridcolor\": \"white\", \"startlinecolor\": \"rgb(51,51,51)\"}, \"type\": \"carpet\"}], \"choropleth\": [{\"colorbar\": {\"outlinewidth\": 0, \"tickcolor\": \"rgb(237,237,237)\", \"ticklen\": 6, \"ticks\": \"inside\"}, \"type\": \"choropleth\"}], \"contour\": [{\"colorbar\": {\"outlinewidth\": 0, \"tickcolor\": \"rgb(237,237,237)\", \"ticklen\": 6, \"ticks\": \"inside\"}, \"colorscale\": [[0, \"rgb(20,44,66)\"], [1, \"rgb(90,179,244)\"]], \"type\": \"contour\"}], \"contourcarpet\": [{\"colorbar\": {\"outlinewidth\": 0, \"tickcolor\": \"rgb(237,237,237)\", \"ticklen\": 6, \"ticks\": \"inside\"}, \"type\": \"contourcarpet\"}], \"heatmap\": [{\"colorbar\": {\"outlinewidth\": 0, \"tickcolor\": \"rgb(237,237,237)\", \"ticklen\": 6, \"ticks\": \"inside\"}, \"colorscale\": [[0, \"rgb(20,44,66)\"], [1, \"rgb(90,179,244)\"]], \"type\": \"heatmap\"}], \"heatmapgl\": [{\"colorbar\": {\"outlinewidth\": 0, \"tickcolor\": \"rgb(237,237,237)\", \"ticklen\": 6, \"ticks\": \"inside\"}, \"colorscale\": [[0, \"rgb(20,44,66)\"], [1, \"rgb(90,179,244)\"]], \"type\": \"heatmapgl\"}], \"histogram\": [{\"marker\": {\"colorbar\": {\"outlinewidth\": 0, \"tickcolor\": \"rgb(237,237,237)\", \"ticklen\": 6, \"ticks\": \"inside\"}}, \"type\": \"histogram\"}], \"histogram2d\": [{\"colorbar\": {\"outlinewidth\": 0, \"tickcolor\": \"rgb(237,237,237)\", \"ticklen\": 6, \"ticks\": \"inside\"}, \"colorscale\": [[0, \"rgb(20,44,66)\"], [1, \"rgb(90,179,244)\"]], \"type\": \"histogram2d\"}], \"histogram2dcontour\": [{\"colorbar\": {\"outlinewidth\": 0, \"tickcolor\": \"rgb(237,237,237)\", \"ticklen\": 6, \"ticks\": \"inside\"}, \"colorscale\": [[0, \"rgb(20,44,66)\"], [1, \"rgb(90,179,244)\"]], \"type\": \"histogram2dcontour\"}], \"mesh3d\": [{\"colorbar\": {\"outlinewidth\": 0, \"tickcolor\": \"rgb(237,237,237)\", \"ticklen\": 6, \"ticks\": \"inside\"}, \"type\": \"mesh3d\"}], \"parcoords\": [{\"line\": {\"colorbar\": {\"outlinewidth\": 0, \"tickcolor\": \"rgb(237,237,237)\", \"ticklen\": 6, \"ticks\": \"inside\"}}, \"type\": \"parcoords\"}], \"pie\": [{\"automargin\": true, \"type\": \"pie\"}], \"scatter\": [{\"marker\": {\"colorbar\": {\"outlinewidth\": 0, \"tickcolor\": \"rgb(237,237,237)\", \"ticklen\": 6, \"ticks\": \"inside\"}}, \"type\": \"scatter\"}], \"scatter3d\": [{\"line\": {\"colorbar\": {\"outlinewidth\": 0, \"tickcolor\": \"rgb(237,237,237)\", \"ticklen\": 6, \"ticks\": \"inside\"}}, \"marker\": {\"colorbar\": {\"outlinewidth\": 0, \"tickcolor\": \"rgb(237,237,237)\", \"ticklen\": 6, \"ticks\": \"inside\"}}, \"type\": \"scatter3d\"}], \"scattercarpet\": [{\"marker\": {\"colorbar\": {\"outlinewidth\": 0, \"tickcolor\": \"rgb(237,237,237)\", \"ticklen\": 6, \"ticks\": \"inside\"}}, \"type\": \"scattercarpet\"}], \"scattergeo\": [{\"marker\": {\"colorbar\": {\"outlinewidth\": 0, \"tickcolor\": \"rgb(237,237,237)\", \"ticklen\": 6, \"ticks\": \"inside\"}}, \"type\": \"scattergeo\"}], \"scattergl\": [{\"marker\": {\"colorbar\": {\"outlinewidth\": 0, \"tickcolor\": \"rgb(237,237,237)\", \"ticklen\": 6, \"ticks\": \"inside\"}}, \"type\": \"scattergl\"}], \"scattermapbox\": [{\"marker\": {\"colorbar\": {\"outlinewidth\": 0, \"tickcolor\": \"rgb(237,237,237)\", \"ticklen\": 6, \"ticks\": \"inside\"}}, \"type\": \"scattermapbox\"}], \"scatterpolar\": [{\"marker\": {\"colorbar\": {\"outlinewidth\": 0, \"tickcolor\": \"rgb(237,237,237)\", \"ticklen\": 6, \"ticks\": \"inside\"}}, \"type\": \"scatterpolar\"}], \"scatterpolargl\": [{\"marker\": {\"colorbar\": {\"outlinewidth\": 0, \"tickcolor\": \"rgb(237,237,237)\", \"ticklen\": 6, \"ticks\": \"inside\"}}, \"type\": \"scatterpolargl\"}], \"scatterternary\": [{\"marker\": {\"colorbar\": {\"outlinewidth\": 0, \"tickcolor\": \"rgb(237,237,237)\", \"ticklen\": 6, \"ticks\": \"inside\"}}, \"type\": \"scatterternary\"}], \"surface\": [{\"colorbar\": {\"outlinewidth\": 0, \"tickcolor\": \"rgb(237,237,237)\", \"ticklen\": 6, \"ticks\": \"inside\"}, \"colorscale\": [[0, \"rgb(20,44,66)\"], [1, \"rgb(90,179,244)\"]], \"type\": \"surface\"}], \"table\": [{\"cells\": {\"fill\": {\"color\": \"rgb(237,237,237)\"}, \"line\": {\"color\": \"white\"}}, \"header\": {\"fill\": {\"color\": \"rgb(217,217,217)\"}, \"line\": {\"color\": \"white\"}}, \"type\": \"table\"}]}, \"layout\": {\"annotationdefaults\": {\"arrowhead\": 0, \"arrowwidth\": 1}, \"coloraxis\": {\"colorbar\": {\"outlinewidth\": 0, \"tickcolor\": \"rgb(237,237,237)\", \"ticklen\": 6, \"ticks\": \"inside\"}}, \"colorscale\": {\"sequential\": [[0, \"rgb(20,44,66)\"], [1, \"rgb(90,179,244)\"]], \"sequentialminus\": [[0, \"rgb(20,44,66)\"], [1, \"rgb(90,179,244)\"]]}, \"colorway\": [\"#F8766D\", \"#A3A500\", \"#00BF7D\", \"#00B0F6\", \"#E76BF3\"], \"font\": {\"color\": \"rgb(51,51,51)\"}, \"geo\": {\"bgcolor\": \"white\", \"lakecolor\": \"white\", \"landcolor\": \"rgb(237,237,237)\", \"showlakes\": true, \"showland\": true, \"subunitcolor\": \"white\"}, \"hoverlabel\": {\"align\": \"left\"}, \"hovermode\": \"closest\", \"paper_bgcolor\": \"white\", \"plot_bgcolor\": \"rgb(237,237,237)\", \"polar\": {\"angularaxis\": {\"gridcolor\": \"white\", \"linecolor\": \"white\", \"showgrid\": true, \"tickcolor\": \"rgb(51,51,51)\", \"ticks\": \"outside\"}, \"bgcolor\": \"rgb(237,237,237)\", \"radialaxis\": {\"gridcolor\": \"white\", \"linecolor\": \"white\", \"showgrid\": true, \"tickcolor\": \"rgb(51,51,51)\", \"ticks\": \"outside\"}}, \"scene\": {\"xaxis\": {\"backgroundcolor\": \"rgb(237,237,237)\", \"gridcolor\": \"white\", \"gridwidth\": 2, \"linecolor\": \"white\", \"showbackground\": true, \"showgrid\": true, \"tickcolor\": \"rgb(51,51,51)\", \"ticks\": \"outside\", \"zerolinecolor\": \"white\"}, \"yaxis\": {\"backgroundcolor\": \"rgb(237,237,237)\", \"gridcolor\": \"white\", \"gridwidth\": 2, \"linecolor\": \"white\", \"showbackground\": true, \"showgrid\": true, \"tickcolor\": \"rgb(51,51,51)\", \"ticks\": \"outside\", \"zerolinecolor\": \"white\"}, \"zaxis\": {\"backgroundcolor\": \"rgb(237,237,237)\", \"gridcolor\": \"white\", \"gridwidth\": 2, \"linecolor\": \"white\", \"showbackground\": true, \"showgrid\": true, \"tickcolor\": \"rgb(51,51,51)\", \"ticks\": \"outside\", \"zerolinecolor\": \"white\"}}, \"shapedefaults\": {\"fillcolor\": \"black\", \"line\": {\"width\": 0}, \"opacity\": 0.3}, \"ternary\": {\"aaxis\": {\"gridcolor\": \"white\", \"linecolor\": \"white\", \"showgrid\": true, \"tickcolor\": \"rgb(51,51,51)\", \"ticks\": \"outside\"}, \"baxis\": {\"gridcolor\": \"white\", \"linecolor\": \"white\", \"showgrid\": true, \"tickcolor\": \"rgb(51,51,51)\", \"ticks\": \"outside\"}, \"bgcolor\": \"rgb(237,237,237)\", \"caxis\": {\"gridcolor\": \"white\", \"linecolor\": \"white\", \"showgrid\": true, \"tickcolor\": \"rgb(51,51,51)\", \"ticks\": \"outside\"}}, \"xaxis\": {\"automargin\": true, \"gridcolor\": \"white\", \"linecolor\": \"white\", \"showgrid\": true, \"tickcolor\": \"rgb(51,51,51)\", \"ticks\": \"outside\", \"title\": {\"standoff\": 15}, \"zerolinecolor\": \"white\"}, \"yaxis\": {\"automargin\": true, \"gridcolor\": \"white\", \"linecolor\": \"white\", \"showgrid\": true, \"tickcolor\": \"rgb(51,51,51)\", \"ticks\": \"outside\", \"title\": {\"standoff\": 15}, \"zerolinecolor\": \"white\"}}}, \"title\": {\"font\": {\"family\": \"Times New Roman\", \"size\": 30}, \"x\": 0.5, \"y\": 0.98}, \"width\": 1000},\n",
       "                        {\"responsive\": true}\n",
       "                    ).then(function(){\n",
       "                            \n",
       "var gd = document.getElementById('51086cc7-42ae-46c1-9a79-c104f5b6fe93');\n",
       "var x = new MutationObserver(function (mutations, observer) {{\n",
       "        var display = window.getComputedStyle(gd).display;\n",
       "        if (!display || display === 'none') {{\n",
       "            console.log([gd, 'removed!']);\n",
       "            Plotly.purge(gd);\n",
       "            observer.disconnect();\n",
       "        }}\n",
       "}});\n",
       "\n",
       "// Listen for the removal of the full notebook cells\n",
       "var notebookContainer = gd.closest('#notebook-container');\n",
       "if (notebookContainer) {{\n",
       "    x.observe(notebookContainer, {childList: true});\n",
       "}}\n",
       "\n",
       "// Listen for the clearing of the current output cell\n",
       "var outputEl = gd.closest('.output');\n",
       "if (outputEl) {{\n",
       "    x.observe(outputEl, {childList: true});\n",
       "}}\n",
       "\n",
       "                        })\n",
       "                };\n",
       "                });\n",
       "            </script>\n",
       "        </div>"
      ]
     },
     "metadata": {},
     "output_type": "display_data"
    }
   ],
   "source": [
    "imp.reload(cplot)\n",
    "\n",
    "\n",
    "fig=cplot.get_parallel_coordinate_plot(study,coloring=icy,log_loss=True,simple_ticks=[\"Time Steps\", \"Latent Size\", \"Frequency Bins\"])\n",
    "scope = PlotlyScope()\n",
    "fig= fig.update_layout(   \n",
    "    autosize=False,title_text='Loss vs Hyper-Parameter Parallel Plot',title=None, title_x=0.5, title_y=0.98, \n",
    "    template=\"ggplot2\",\n",
    "    width=1000,\n",
    "    height=400,\n",
    "    font_family=\"Times New Roman\",\n",
    "    font_size=20,\n",
    "    title_font_family=\"Times New Roman\",\n",
    "    title_font_size=30,           \n",
    "       margin=dict(l=50, t=50,r=1,  b=10),\n",
    "    )\n",
    "\n",
    "with open(\"parallel_coordround2.pdf\", \"wb\") as f:\n",
    "    f.write(scope.transform(fig, format=\"pdf\", width=1000,height=400,))\n",
    "fig"
   ]
  },
  {
   "cell_type": "code",
   "execution_count": 38,
   "metadata": {},
   "outputs": [
    {
     "data": {
      "application/vnd.plotly.v1+json": {
       "config": {
        "plotlyServerURL": "https://plot.ly"
       },
       "data": [
        {
         "marker": {
          "color": [
           0,
           1,
           6,
           9,
           10,
           11,
           16,
           20,
           23,
           24,
           26,
           29,
           32,
           34,
           35,
           38,
           39,
           40,
           42,
           43,
           46,
           48,
           49,
           50,
           51,
           53,
           54,
           56,
           58,
           59,
           60,
           61,
           63,
           64,
           65,
           70,
           72,
           76,
           77,
           78,
           79,
           80,
           81,
           82,
           83,
           87,
           88
          ],
          "colorbar": {
           "title": {
            "text": "# of Trials"
           },
           "x": 1,
           "xpad": 15,
           "y": 0.5
          },
          "colorscale": [
           [
            0,
            "rgb(0, 0, 0)"
           ],
           [
            0.09090909090909091,
            "rgb(50,50,140)"
           ],
           [
            0.18181818181818182,
            "rgb(70,70,160)"
           ],
           [
            0.2727272727272727,
            "rgb(110,110,200)"
           ],
           [
            0.36363636363636365,
            "rgb(130,130,210)"
           ],
           [
            0.45454545454545453,
            "rgb(150,150,230)"
           ],
           [
            0.5454545454545454,
            "rgb(170,170,255)"
           ],
           [
            0.6363636363636364,
            "rgb(190,190,255)"
           ],
           [
            0.7272727272727273,
            "rgb(200,200,255)"
           ],
           [
            0.8181818181818182,
            "rgb(210,210,255)"
           ],
           [
            0.9090909090909091,
            "rgb(220,220,255)"
           ],
           [
            1,
            "rgb(240,240,255)"
           ]
          ],
          "line": {
           "color": "grey",
           "width": 0.65
          },
          "showscale": true
         },
         "mode": "markers",
         "showlegend": false,
         "type": "scatter",
         "x": [
          0.1,
          0.5,
          0.30000000000000004,
          0.2,
          0.2,
          0.2,
          0.1,
          0.4,
          0.30000000000000004,
          0.4,
          0.30000000000000004,
          0,
          0.30000000000000004,
          0.4,
          0.1,
          0.1,
          0.30000000000000004,
          0,
          0,
          0.4,
          0.2,
          0.4,
          0,
          0.30000000000000004,
          0,
          0.30000000000000004,
          0.30000000000000004,
          0,
          0.1,
          0.1,
          0.5,
          0.30000000000000004,
          0.30000000000000004,
          0.1,
          0,
          0.4,
          0.5,
          0.30000000000000004,
          0,
          0,
          0.30000000000000004,
          0.1,
          0.30000000000000004,
          0.4,
          0.1,
          0,
          0
         ],
         "xaxis": "x",
         "y": [
          0.005879989925872635,
          0.0024719670528193585,
          0.0024031549786544732,
          0.006327786652774022,
          0.0031322317396139574,
          0.006033526000415755,
          0.005758977460523916,
          0.006708566067941688,
          0.004322397255187703,
          0.0037187222183707193,
          0.010660814694003077,
          0.004111647517797914,
          0.0033954781656329695,
          0.003842870141631244,
          0.0071582759894128585,
          0.013315531311909089,
          0.004230028506041177,
          0.0017289507369561172,
          0.003714236301823041,
          0.009196693964956983,
          0.004513488207767541,
          0.006797318674019865,
          0.002526282927499631,
          0.005708390120039317,
          0.0030665069384299016,
          0.004319519808239027,
          0.002149103005649522,
          0.014679637850841155,
          0.0031319406368090093,
          0.0031627330054352816,
          0.0061884340012093655,
          0.006725704951866253,
          0.0039537574630230665,
          0.002445549260497697,
          0.006382791476475226,
          0.002545493149915962,
          0.011492869867062246,
          0.003989844874013215,
          0.006546378821587643,
          0.004032165340676501,
          0.006636368387655632,
          0.0028162696681967056,
          0.004318552909771333,
          0.002716551177719658,
          0.0025343818832314698,
          0.0027550872953331753,
          0.003019653065633532
         ],
         "yaxis": "y"
        },
        {
         "marker": {
          "color": [
           0,
           1,
           6,
           9,
           10,
           11,
           16,
           20,
           23,
           24,
           26,
           29,
           32,
           34,
           35,
           38,
           39,
           40,
           42,
           43,
           46,
           48,
           49,
           50,
           51,
           53,
           54,
           56,
           58,
           59,
           60,
           61,
           63,
           64,
           65,
           70,
           72,
           76,
           77,
           78,
           79,
           80,
           81,
           82,
           83,
           87,
           88
          ],
          "colorbar": {
           "title": {
            "text": "# of Trials"
           },
           "x": 1,
           "xpad": 15
          },
          "colorscale": [
           [
            0,
            "rgb(0, 0, 0)"
           ],
           [
            0.09090909090909091,
            "rgb(50,50,140)"
           ],
           [
            0.18181818181818182,
            "rgb(70,70,160)"
           ],
           [
            0.2727272727272727,
            "rgb(110,110,200)"
           ],
           [
            0.36363636363636365,
            "rgb(130,130,210)"
           ],
           [
            0.45454545454545453,
            "rgb(150,150,230)"
           ],
           [
            0.5454545454545454,
            "rgb(170,170,255)"
           ],
           [
            0.6363636363636364,
            "rgb(190,190,255)"
           ],
           [
            0.7272727272727273,
            "rgb(200,200,255)"
           ],
           [
            0.8181818181818182,
            "rgb(210,210,255)"
           ],
           [
            0.9090909090909091,
            "rgb(220,220,255)"
           ],
           [
            1,
            "rgb(240,240,255)"
           ]
          ],
          "line": {
           "color": "grey",
           "width": 0.65
          },
          "showscale": false
         },
         "mode": "markers",
         "showlegend": false,
         "type": "scatter",
         "x": [
          30,
          60,
          60,
          10,
          60,
          30,
          30,
          10,
          60,
          60,
          10,
          60,
          60,
          60,
          30,
          10,
          10,
          10,
          30,
          10,
          60,
          60,
          60,
          30,
          60,
          30,
          60,
          10,
          60,
          60,
          30,
          30,
          30,
          60,
          30,
          60,
          10,
          30,
          10,
          60,
          30,
          60,
          60,
          60,
          60,
          60,
          10
         ],
         "xaxis": "x2",
         "y": [
          0.005879989925872635,
          0.0024719670528193585,
          0.0024031549786544732,
          0.006327786652774022,
          0.0031322317396139574,
          0.006033526000415755,
          0.005758977460523916,
          0.006708566067941688,
          0.004322397255187703,
          0.0037187222183707193,
          0.010660814694003077,
          0.004111647517797914,
          0.0033954781656329695,
          0.003842870141631244,
          0.0071582759894128585,
          0.013315531311909089,
          0.004230028506041177,
          0.0017289507369561172,
          0.003714236301823041,
          0.009196693964956983,
          0.004513488207767541,
          0.006797318674019865,
          0.002526282927499631,
          0.005708390120039317,
          0.0030665069384299016,
          0.004319519808239027,
          0.002149103005649522,
          0.014679637850841155,
          0.0031319406368090093,
          0.0031627330054352816,
          0.0061884340012093655,
          0.006725704951866253,
          0.0039537574630230665,
          0.002445549260497697,
          0.006382791476475226,
          0.002545493149915962,
          0.011492869867062246,
          0.003989844874013215,
          0.006546378821587643,
          0.004032165340676501,
          0.006636368387655632,
          0.0028162696681967056,
          0.004318552909771333,
          0.002716551177719658,
          0.0025343818832314698,
          0.0027550872953331753,
          0.003019653065633532
         ],
         "yaxis": "y2"
        },
        {
         "marker": {
          "color": [
           0,
           1,
           6,
           9,
           10,
           11,
           16,
           20,
           23,
           24,
           26,
           29,
           32,
           34,
           35,
           38,
           39,
           40,
           42,
           43,
           46,
           48,
           49,
           50,
           51,
           53,
           54,
           56,
           58,
           59,
           60,
           61,
           63,
           64,
           65,
           70,
           72,
           76,
           77,
           78,
           79,
           80,
           81,
           82,
           83,
           87,
           88
          ],
          "colorbar": {
           "title": {
            "text": "# of Trials"
           },
           "x": 1,
           "xpad": 15
          },
          "colorscale": [
           [
            0,
            "rgb(0, 0, 0)"
           ],
           [
            0.09090909090909091,
            "rgb(50,50,140)"
           ],
           [
            0.18181818181818182,
            "rgb(70,70,160)"
           ],
           [
            0.2727272727272727,
            "rgb(110,110,200)"
           ],
           [
            0.36363636363636365,
            "rgb(130,130,210)"
           ],
           [
            0.45454545454545453,
            "rgb(150,150,230)"
           ],
           [
            0.5454545454545454,
            "rgb(170,170,255)"
           ],
           [
            0.6363636363636364,
            "rgb(190,190,255)"
           ],
           [
            0.7272727272727273,
            "rgb(200,200,255)"
           ],
           [
            0.8181818181818182,
            "rgb(210,210,255)"
           ],
           [
            0.9090909090909091,
            "rgb(220,220,255)"
           ],
           [
            1,
            "rgb(240,240,255)"
           ]
          ],
          "line": {
           "color": "grey",
           "width": 0.65
          },
          "showscale": false
         },
         "mode": "markers",
         "showlegend": false,
         "type": "scatter",
         "x": [
          1,
          2,
          2,
          2,
          1,
          2,
          2,
          1,
          2,
          2,
          2,
          2,
          2,
          2,
          2,
          1,
          1,
          2,
          1,
          2,
          2,
          2,
          2,
          1,
          2,
          2,
          1,
          2,
          2,
          1,
          2,
          1,
          2,
          2,
          2,
          2,
          1,
          1,
          1,
          2,
          1,
          2,
          1,
          1,
          1,
          2,
          2
         ],
         "xaxis": "x3",
         "y": [
          0.005879989925872635,
          0.0024719670528193585,
          0.0024031549786544732,
          0.006327786652774022,
          0.0031322317396139574,
          0.006033526000415755,
          0.005758977460523916,
          0.006708566067941688,
          0.004322397255187703,
          0.0037187222183707193,
          0.010660814694003077,
          0.004111647517797914,
          0.0033954781656329695,
          0.003842870141631244,
          0.0071582759894128585,
          0.013315531311909089,
          0.004230028506041177,
          0.0017289507369561172,
          0.003714236301823041,
          0.009196693964956983,
          0.004513488207767541,
          0.006797318674019865,
          0.002526282927499631,
          0.005708390120039317,
          0.0030665069384299016,
          0.004319519808239027,
          0.002149103005649522,
          0.014679637850841155,
          0.0031319406368090093,
          0.0031627330054352816,
          0.0061884340012093655,
          0.006725704951866253,
          0.0039537574630230665,
          0.002445549260497697,
          0.006382791476475226,
          0.002545493149915962,
          0.011492869867062246,
          0.003989844874013215,
          0.006546378821587643,
          0.004032165340676501,
          0.006636368387655632,
          0.0028162696681967056,
          0.004318552909771333,
          0.002716551177719658,
          0.0025343818832314698,
          0.0027550872953331753,
          0.003019653065633532
         ],
         "yaxis": "y3"
        },
        {
         "marker": {
          "color": [
           0,
           1,
           6,
           9,
           10,
           11,
           16,
           20,
           23,
           24,
           26,
           29,
           32,
           34,
           35,
           38,
           39,
           40,
           42,
           43,
           46,
           48,
           49,
           50,
           51,
           53,
           54,
           56,
           58,
           59,
           60,
           61,
           63,
           64,
           65,
           70,
           72,
           76,
           77,
           78,
           79,
           80,
           81,
           82,
           83,
           87,
           88
          ],
          "colorbar": {
           "title": {
            "text": "# of Trials"
           },
           "x": 1,
           "xpad": 15
          },
          "colorscale": [
           [
            0,
            "rgb(0, 0, 0)"
           ],
           [
            0.09090909090909091,
            "rgb(50,50,140)"
           ],
           [
            0.18181818181818182,
            "rgb(70,70,160)"
           ],
           [
            0.2727272727272727,
            "rgb(110,110,200)"
           ],
           [
            0.36363636363636365,
            "rgb(130,130,210)"
           ],
           [
            0.45454545454545453,
            "rgb(150,150,230)"
           ],
           [
            0.5454545454545454,
            "rgb(170,170,255)"
           ],
           [
            0.6363636363636364,
            "rgb(190,190,255)"
           ],
           [
            0.7272727272727273,
            "rgb(200,200,255)"
           ],
           [
            0.8181818181818182,
            "rgb(210,210,255)"
           ],
           [
            0.9090909090909091,
            "rgb(220,220,255)"
           ],
           [
            1,
            "rgb(240,240,255)"
           ]
          ],
          "line": {
           "color": "grey",
           "width": 0.65
          },
          "showscale": false
         },
         "mode": "markers",
         "showlegend": false,
         "type": "scatter",
         "x": [
          0.00022214504767489684,
          0.0009039890458283983,
          4.075409003334307e-05,
          2.802655535287162e-06,
          6.002573370507835e-05,
          1.4980136375044707e-06,
          0.00031234861577260863,
          0.00023956117613134834,
          0.0009297867044010104,
          0.0001711859479056543,
          1.1678160604275393e-06,
          0.0028284647522457016,
          4.831470060412663e-06,
          0.00015050776066239326,
          1.1045452320007337e-06,
          0.07897916498960639,
          0.00018943099407416736,
          1.6467454129545388e-06,
          0.0008483111554625711,
          0.005672678235365808,
          0.05246031636715549,
          0.00014386050447578596,
          0.0012572662188850715,
          0.00036112948294935083,
          0.0002632529079914289,
          4.459599702319406e-06,
          3.687023232664146e-05,
          2.87677921967855e-06,
          6.368595738829929e-06,
          2.557707276984763e-06,
          0.00019468972562386693,
          0.012307025314019287,
          0.0006102834677983657,
          0.0005364031273907507,
          1.6398108449177916e-05,
          1.3166783302601952e-05,
          0.028203025813651333,
          4.796144723534623e-05,
          2.61759821676798e-06,
          0.00046603059267033846,
          2.7527799610806048e-05,
          1.4066340292701248e-06,
          4.585848768680514e-05,
          0.002386454426804946,
          0.001125625544479838,
          0.010011929240931455,
          0.00018750403138962865
         ],
         "xaxis": "x4",
         "y": [
          0.005879989925872635,
          0.0024719670528193585,
          0.0024031549786544732,
          0.006327786652774022,
          0.0031322317396139574,
          0.006033526000415755,
          0.005758977460523916,
          0.006708566067941688,
          0.004322397255187703,
          0.0037187222183707193,
          0.010660814694003077,
          0.004111647517797914,
          0.0033954781656329695,
          0.003842870141631244,
          0.0071582759894128585,
          0.013315531311909089,
          0.004230028506041177,
          0.0017289507369561172,
          0.003714236301823041,
          0.009196693964956983,
          0.004513488207767541,
          0.006797318674019865,
          0.002526282927499631,
          0.005708390120039317,
          0.0030665069384299016,
          0.004319519808239027,
          0.002149103005649522,
          0.014679637850841155,
          0.0031319406368090093,
          0.0031627330054352816,
          0.0061884340012093655,
          0.006725704951866253,
          0.0039537574630230665,
          0.002445549260497697,
          0.006382791476475226,
          0.002545493149915962,
          0.011492869867062246,
          0.003989844874013215,
          0.006546378821587643,
          0.004032165340676501,
          0.006636368387655632,
          0.0028162696681967056,
          0.004318552909771333,
          0.002716551177719658,
          0.0025343818832314698,
          0.0027550872953331753,
          0.003019653065633532
         ],
         "yaxis": "y4"
        },
        {
         "marker": {
          "color": [
           0,
           1,
           6,
           9,
           10,
           11,
           16,
           20,
           23,
           24,
           26,
           29,
           32,
           34,
           35,
           38,
           39,
           40,
           42,
           43,
           46,
           48,
           49,
           50,
           51,
           53,
           54,
           56,
           58,
           59,
           60,
           61,
           63,
           64,
           65,
           70,
           72,
           76,
           77,
           78,
           79,
           80,
           81,
           82,
           83,
           87,
           88
          ],
          "colorbar": {
           "title": {
            "text": "# of Trials"
           },
           "x": 1,
           "xpad": 15
          },
          "colorscale": [
           [
            0,
            "rgb(0, 0, 0)"
           ],
           [
            0.09090909090909091,
            "rgb(50,50,140)"
           ],
           [
            0.18181818181818182,
            "rgb(70,70,160)"
           ],
           [
            0.2727272727272727,
            "rgb(110,110,200)"
           ],
           [
            0.36363636363636365,
            "rgb(130,130,210)"
           ],
           [
            0.45454545454545453,
            "rgb(150,150,230)"
           ],
           [
            0.5454545454545454,
            "rgb(170,170,255)"
           ],
           [
            0.6363636363636364,
            "rgb(190,190,255)"
           ],
           [
            0.7272727272727273,
            "rgb(200,200,255)"
           ],
           [
            0.8181818181818182,
            "rgb(210,210,255)"
           ],
           [
            0.9090909090909091,
            "rgb(220,220,255)"
           ],
           [
            1,
            "rgb(240,240,255)"
           ]
          ],
          "line": {
           "color": "grey",
           "width": 0.65
          },
          "showscale": false
         },
         "mode": "markers",
         "showlegend": false,
         "type": "scatter",
         "x": [
          16,
          16,
          64,
          4,
          64,
          64,
          16,
          64,
          64,
          16,
          4,
          64,
          4,
          64,
          4,
          16,
          16,
          64,
          16,
          4,
          16,
          4,
          64,
          16,
          16,
          16,
          64,
          64,
          4,
          64,
          16,
          4,
          4,
          64,
          16,
          4,
          64,
          16,
          64,
          4,
          16,
          16,
          4,
          64,
          16,
          4,
          64
         ],
         "xaxis": "x5",
         "y": [
          0.005879989925872635,
          0.0024719670528193585,
          0.0024031549786544732,
          0.006327786652774022,
          0.0031322317396139574,
          0.006033526000415755,
          0.005758977460523916,
          0.006708566067941688,
          0.004322397255187703,
          0.0037187222183707193,
          0.010660814694003077,
          0.004111647517797914,
          0.0033954781656329695,
          0.003842870141631244,
          0.0071582759894128585,
          0.013315531311909089,
          0.004230028506041177,
          0.0017289507369561172,
          0.003714236301823041,
          0.009196693964956983,
          0.004513488207767541,
          0.006797318674019865,
          0.002526282927499631,
          0.005708390120039317,
          0.0030665069384299016,
          0.004319519808239027,
          0.002149103005649522,
          0.014679637850841155,
          0.0031319406368090093,
          0.0031627330054352816,
          0.0061884340012093655,
          0.006725704951866253,
          0.0039537574630230665,
          0.002445549260497697,
          0.006382791476475226,
          0.002545493149915962,
          0.011492869867062246,
          0.003989844874013215,
          0.006546378821587643,
          0.004032165340676501,
          0.006636368387655632,
          0.0028162696681967056,
          0.004318552909771333,
          0.002716551177719658,
          0.0025343818832314698,
          0.0027550872953331753,
          0.003019653065633532
         ],
         "yaxis": "y5"
        },
        {
         "marker": {
          "color": [
           0,
           1,
           6,
           9,
           10,
           11,
           16,
           20,
           23,
           24,
           26,
           29,
           32,
           34,
           35,
           38,
           39,
           40,
           42,
           43,
           46,
           48,
           49,
           50,
           51,
           53,
           54,
           56,
           58,
           59,
           60,
           61,
           63,
           64,
           65,
           70,
           72,
           76,
           77,
           78,
           79,
           80,
           81,
           82,
           83,
           87,
           88
          ],
          "colorbar": {
           "title": {
            "text": "# of Trials"
           },
           "x": 1,
           "xpad": 15
          },
          "colorscale": [
           [
            0,
            "rgb(0, 0, 0)"
           ],
           [
            0.09090909090909091,
            "rgb(50,50,140)"
           ],
           [
            0.18181818181818182,
            "rgb(70,70,160)"
           ],
           [
            0.2727272727272727,
            "rgb(110,110,200)"
           ],
           [
            0.36363636363636365,
            "rgb(130,130,210)"
           ],
           [
            0.45454545454545453,
            "rgb(150,150,230)"
           ],
           [
            0.5454545454545454,
            "rgb(170,170,255)"
           ],
           [
            0.6363636363636364,
            "rgb(190,190,255)"
           ],
           [
            0.7272727272727273,
            "rgb(200,200,255)"
           ],
           [
            0.8181818181818182,
            "rgb(210,210,255)"
           ],
           [
            0.9090909090909091,
            "rgb(220,220,255)"
           ],
           [
            1,
            "rgb(240,240,255)"
           ]
          ],
          "line": {
           "color": "grey",
           "width": 0.65
          },
          "showscale": false
         },
         "mode": "markers",
         "showlegend": false,
         "type": "scatter",
         "x": [
          0.04633957288489894,
          0.030507494218883397,
          0.0244159856401081,
          0.04629432206813644,
          0.03971699607974676,
          0.07634178138592708,
          0.07951623828529203,
          0.03243105577798813,
          0.06479790069228863,
          0.0018658416818130843,
          0.05593628187185701,
          0.0928121266132625,
          0.07167952885257582,
          0.08277951770155054,
          0.07822106708643975,
          0.09277548581731376,
          0.05011970115883236,
          0.004238912656469461,
          0.04190069122167564,
          0.04565896161404025,
          0.07420427616167083,
          0.012810755807408798,
          0.06929329087330503,
          0.09410397624378077,
          0.06560321054673998,
          0.07788955733312762,
          0.044833615618054865,
          0.09459630609390461,
          0.07402118114835697,
          0.07146764153369793,
          0.012565884979159716,
          0.012086572626750688,
          0.0742829446744817,
          0.022711291123236013,
          0.09057118883874457,
          0.061755180159315054,
          0.02098807731144159,
          0.09827846470048399,
          0.08988840446460547,
          0.06693313357823383,
          0.04647873675291021,
          0.08182029909087177,
          0.08634732475893898,
          0.08220943825342761,
          0.036347944600499144,
          0.0722848721385622,
          0.046670720198932696
         ],
         "xaxis": "x6",
         "y": [
          0.005879989925872635,
          0.0024719670528193585,
          0.0024031549786544732,
          0.006327786652774022,
          0.0031322317396139574,
          0.006033526000415755,
          0.005758977460523916,
          0.006708566067941688,
          0.004322397255187703,
          0.0037187222183707193,
          0.010660814694003077,
          0.004111647517797914,
          0.0033954781656329695,
          0.003842870141631244,
          0.0071582759894128585,
          0.013315531311909089,
          0.004230028506041177,
          0.0017289507369561172,
          0.003714236301823041,
          0.009196693964956983,
          0.004513488207767541,
          0.006797318674019865,
          0.002526282927499631,
          0.005708390120039317,
          0.0030665069384299016,
          0.004319519808239027,
          0.002149103005649522,
          0.014679637850841155,
          0.0031319406368090093,
          0.0031627330054352816,
          0.0061884340012093655,
          0.006725704951866253,
          0.0039537574630230665,
          0.002445549260497697,
          0.006382791476475226,
          0.002545493149915962,
          0.011492869867062246,
          0.003989844874013215,
          0.006546378821587643,
          0.004032165340676501,
          0.006636368387655632,
          0.0028162696681967056,
          0.004318552909771333,
          0.002716551177719658,
          0.0025343818832314698,
          0.0027550872953331753,
          0.003019653065633532
         ],
         "yaxis": "y6"
        },
        {
         "marker": {
          "color": [
           0,
           1,
           6,
           9,
           10,
           11,
           16,
           20,
           23,
           24,
           26,
           29,
           32,
           34,
           35,
           38,
           39,
           40,
           42,
           43,
           46,
           48,
           49,
           50,
           51,
           53,
           54,
           56,
           58,
           59,
           60,
           61,
           63,
           64,
           65,
           70,
           72,
           76,
           77,
           78,
           79,
           80,
           81,
           82,
           83,
           87,
           88
          ],
          "colorbar": {
           "title": {
            "text": "# of Trials"
           },
           "x": 1,
           "xpad": 15
          },
          "colorscale": [
           [
            0,
            "rgb(0, 0, 0)"
           ],
           [
            0.09090909090909091,
            "rgb(50,50,140)"
           ],
           [
            0.18181818181818182,
            "rgb(70,70,160)"
           ],
           [
            0.2727272727272727,
            "rgb(110,110,200)"
           ],
           [
            0.36363636363636365,
            "rgb(130,130,210)"
           ],
           [
            0.45454545454545453,
            "rgb(150,150,230)"
           ],
           [
            0.5454545454545454,
            "rgb(170,170,255)"
           ],
           [
            0.6363636363636364,
            "rgb(190,190,255)"
           ],
           [
            0.7272727272727273,
            "rgb(200,200,255)"
           ],
           [
            0.8181818181818182,
            "rgb(210,210,255)"
           ],
           [
            0.9090909090909091,
            "rgb(220,220,255)"
           ],
           [
            1,
            "rgb(240,240,255)"
           ]
          ],
          "line": {
           "color": "grey",
           "width": 0.65
          },
          "showscale": false
         },
         "mode": "markers",
         "showlegend": false,
         "type": "scatter",
         "x": [
          "CNN",
          "CNN",
          "CNN",
          "FC",
          "CNN",
          "CNN",
          "FC",
          "FC",
          "FC",
          "FC",
          "CNN",
          "FC",
          "FC",
          "FC",
          "CNN",
          "CNN",
          "FC",
          "FC",
          "FC",
          "CNN",
          "FC",
          "CNN",
          "CNN",
          "CNN",
          "FC",
          "FC",
          "FC",
          "CNN",
          "FC",
          "FC",
          "FC",
          "FC",
          "CNN",
          "CNN",
          "CNN",
          "FC",
          "FC",
          "CNN",
          "CNN",
          "CNN",
          "FC",
          "CNN",
          "CNN",
          "CNN",
          "FC",
          "CNN",
          "CNN"
         ],
         "xaxis": "x7",
         "y": [
          0.005879989925872635,
          0.0024719670528193585,
          0.0024031549786544732,
          0.006327786652774022,
          0.0031322317396139574,
          0.006033526000415755,
          0.005758977460523916,
          0.006708566067941688,
          0.004322397255187703,
          0.0037187222183707193,
          0.010660814694003077,
          0.004111647517797914,
          0.0033954781656329695,
          0.003842870141631244,
          0.0071582759894128585,
          0.013315531311909089,
          0.004230028506041177,
          0.0017289507369561172,
          0.003714236301823041,
          0.009196693964956983,
          0.004513488207767541,
          0.006797318674019865,
          0.002526282927499631,
          0.005708390120039317,
          0.0030665069384299016,
          0.004319519808239027,
          0.002149103005649522,
          0.014679637850841155,
          0.0031319406368090093,
          0.0031627330054352816,
          0.0061884340012093655,
          0.006725704951866253,
          0.0039537574630230665,
          0.002445549260497697,
          0.006382791476475226,
          0.002545493149915962,
          0.011492869867062246,
          0.003989844874013215,
          0.006546378821587643,
          0.004032165340676501,
          0.006636368387655632,
          0.0028162696681967056,
          0.004318552909771333,
          0.002716551177719658,
          0.0025343818832314698,
          0.0027550872953331753,
          0.003019653065633532
         ],
         "yaxis": "y7"
        },
        {
         "marker": {
          "color": [
           0,
           1,
           6,
           9,
           10,
           11,
           16,
           20,
           23,
           24,
           26,
           29,
           32,
           34,
           35,
           38,
           39,
           40,
           42,
           43,
           46,
           48,
           49,
           50,
           51,
           53,
           54,
           56,
           58,
           59,
           60,
           61,
           63,
           64,
           65,
           70,
           72,
           76,
           77,
           78,
           79,
           80,
           81,
           82,
           83,
           87,
           88
          ],
          "colorbar": {
           "title": {
            "text": "# of Trials"
           },
           "x": 1,
           "xpad": 15
          },
          "colorscale": [
           [
            0,
            "rgb(0, 0, 0)"
           ],
           [
            0.09090909090909091,
            "rgb(50,50,140)"
           ],
           [
            0.18181818181818182,
            "rgb(70,70,160)"
           ],
           [
            0.2727272727272727,
            "rgb(110,110,200)"
           ],
           [
            0.36363636363636365,
            "rgb(130,130,210)"
           ],
           [
            0.45454545454545453,
            "rgb(150,150,230)"
           ],
           [
            0.5454545454545454,
            "rgb(170,170,255)"
           ],
           [
            0.6363636363636364,
            "rgb(190,190,255)"
           ],
           [
            0.7272727272727273,
            "rgb(200,200,255)"
           ],
           [
            0.8181818181818182,
            "rgb(210,210,255)"
           ],
           [
            0.9090909090909091,
            "rgb(220,220,255)"
           ],
           [
            1,
            "rgb(240,240,255)"
           ]
          ],
          "line": {
           "color": "grey",
           "width": 0.65
          },
          "showscale": false
         },
         "mode": "markers",
         "showlegend": false,
         "type": "scatter",
         "x": [
          "SGD",
          "Adam",
          "Adam",
          "SGD",
          "SGD",
          "SGD",
          "Adam",
          "SGD",
          "SGD",
          "Adam",
          "Adam",
          "Adam",
          "SGD",
          "Adam",
          "Adam",
          "Adam",
          "Adam",
          "Adam",
          "Adam",
          "SGD",
          "SGD",
          "SGD",
          "Adam",
          "Adam",
          "SGD",
          "SGD",
          "Adam",
          "SGD",
          "SGD",
          "SGD",
          "SGD",
          "SGD",
          "Adam",
          "Adam",
          "SGD",
          "Adam",
          "SGD",
          "Adam",
          "SGD",
          "SGD",
          "SGD",
          "SGD",
          "SGD",
          "SGD",
          "Adam",
          "Adam",
          "Adam"
         ],
         "xaxis": "x8",
         "y": [
          0.005879989925872635,
          0.0024719670528193585,
          0.0024031549786544732,
          0.006327786652774022,
          0.0031322317396139574,
          0.006033526000415755,
          0.005758977460523916,
          0.006708566067941688,
          0.004322397255187703,
          0.0037187222183707193,
          0.010660814694003077,
          0.004111647517797914,
          0.0033954781656329695,
          0.003842870141631244,
          0.0071582759894128585,
          0.013315531311909089,
          0.004230028506041177,
          0.0017289507369561172,
          0.003714236301823041,
          0.009196693964956983,
          0.004513488207767541,
          0.006797318674019865,
          0.002526282927499631,
          0.005708390120039317,
          0.0030665069384299016,
          0.004319519808239027,
          0.002149103005649522,
          0.014679637850841155,
          0.0031319406368090093,
          0.0031627330054352816,
          0.0061884340012093655,
          0.006725704951866253,
          0.0039537574630230665,
          0.002445549260497697,
          0.006382791476475226,
          0.002545493149915962,
          0.011492869867062246,
          0.003989844874013215,
          0.006546378821587643,
          0.004032165340676501,
          0.006636368387655632,
          0.0028162696681967056,
          0.004318552909771333,
          0.002716551177719658,
          0.0025343818832314698,
          0.0027550872953331753,
          0.003019653065633532
         ],
         "yaxis": "y8"
        },
        {
         "marker": {
          "color": [
           0,
           1,
           6,
           9,
           10,
           11,
           16,
           20,
           23,
           24,
           26,
           29,
           32,
           34,
           35,
           38,
           39,
           40,
           42,
           43,
           46,
           48,
           49,
           50,
           51,
           53,
           54,
           56,
           58,
           59,
           60,
           61,
           63,
           64,
           65,
           70,
           72,
           76,
           77,
           78,
           79,
           80,
           81,
           82,
           83,
           87,
           88
          ],
          "colorbar": {
           "title": {
            "text": "# of Trials"
           },
           "x": 1,
           "xpad": 15
          },
          "colorscale": [
           [
            0,
            "rgb(0, 0, 0)"
           ],
           [
            0.09090909090909091,
            "rgb(50,50,140)"
           ],
           [
            0.18181818181818182,
            "rgb(70,70,160)"
           ],
           [
            0.2727272727272727,
            "rgb(110,110,200)"
           ],
           [
            0.36363636363636365,
            "rgb(130,130,210)"
           ],
           [
            0.45454545454545453,
            "rgb(150,150,230)"
           ],
           [
            0.5454545454545454,
            "rgb(170,170,255)"
           ],
           [
            0.6363636363636364,
            "rgb(190,190,255)"
           ],
           [
            0.7272727272727273,
            "rgb(200,200,255)"
           ],
           [
            0.8181818181818182,
            "rgb(210,210,255)"
           ],
           [
            0.9090909090909091,
            "rgb(220,220,255)"
           ],
           [
            1,
            "rgb(240,240,255)"
           ]
          ],
          "line": {
           "color": "grey",
           "width": 0.65
          },
          "showscale": false
         },
         "mode": "markers",
         "showlegend": false,
         "type": "scatter",
         "x": [
          10,
          20,
          20,
          20,
          20,
          10,
          10,
          20,
          10,
          10,
          10,
          10,
          20,
          10,
          10,
          10,
          20,
          20,
          20,
          10,
          10,
          20,
          20,
          10,
          20,
          20,
          20,
          10,
          20,
          20,
          20,
          10,
          20,
          20,
          10,
          20,
          10,
          20,
          20,
          10,
          10,
          20,
          10,
          20,
          20,
          20,
          20
         ],
         "xaxis": "x9",
         "y": [
          0.005879989925872635,
          0.0024719670528193585,
          0.0024031549786544732,
          0.006327786652774022,
          0.0031322317396139574,
          0.006033526000415755,
          0.005758977460523916,
          0.006708566067941688,
          0.004322397255187703,
          0.0037187222183707193,
          0.010660814694003077,
          0.004111647517797914,
          0.0033954781656329695,
          0.003842870141631244,
          0.0071582759894128585,
          0.013315531311909089,
          0.004230028506041177,
          0.0017289507369561172,
          0.003714236301823041,
          0.009196693964956983,
          0.004513488207767541,
          0.006797318674019865,
          0.002526282927499631,
          0.005708390120039317,
          0.0030665069384299016,
          0.004319519808239027,
          0.002149103005649522,
          0.014679637850841155,
          0.0031319406368090093,
          0.0031627330054352816,
          0.0061884340012093655,
          0.006725704951866253,
          0.0039537574630230665,
          0.002445549260497697,
          0.006382791476475226,
          0.002545493149915962,
          0.011492869867062246,
          0.003989844874013215,
          0.006546378821587643,
          0.004032165340676501,
          0.006636368387655632,
          0.0028162696681967056,
          0.004318552909771333,
          0.002716551177719658,
          0.0025343818832314698,
          0.0027550872953331753,
          0.003019653065633532
         ],
         "yaxis": "y9"
        }
       ],
       "layout": {
        "autosize": false,
        "font": {
         "family": "Times New Roman",
         "size": 15
        },
        "height": 400,
        "margin": {
         "b": 10,
         "l": 0,
         "r": 1,
         "t": 5
        },
        "template": {
         "data": {
          "bar": [
           {
            "error_x": {
             "color": "rgb(36,36,36)"
            },
            "error_y": {
             "color": "rgb(36,36,36)"
            },
            "marker": {
             "line": {
              "color": "rgb(234,234,242)",
              "width": 0.5
             }
            },
            "type": "bar"
           }
          ],
          "barpolar": [
           {
            "marker": {
             "line": {
              "color": "rgb(234,234,242)",
              "width": 0.5
             }
            },
            "type": "barpolar"
           }
          ],
          "carpet": [
           {
            "aaxis": {
             "endlinecolor": "rgb(36,36,36)",
             "gridcolor": "white",
             "linecolor": "white",
             "minorgridcolor": "white",
             "startlinecolor": "rgb(36,36,36)"
            },
            "baxis": {
             "endlinecolor": "rgb(36,36,36)",
             "gridcolor": "white",
             "linecolor": "white",
             "minorgridcolor": "white",
             "startlinecolor": "rgb(36,36,36)"
            },
            "type": "carpet"
           }
          ],
          "choropleth": [
           {
            "colorbar": {
             "outlinewidth": 0,
             "tickcolor": "rgb(36,36,36)",
             "ticklen": 8,
             "ticks": "outside",
             "tickwidth": 2
            },
            "type": "choropleth"
           }
          ],
          "contour": [
           {
            "colorbar": {
             "outlinewidth": 0,
             "tickcolor": "rgb(36,36,36)",
             "ticklen": 8,
             "ticks": "outside",
             "tickwidth": 2
            },
            "colorscale": [
             [
              0,
              "rgb(2,4,25)"
             ],
             [
              0.06274509803921569,
              "rgb(24,15,41)"
             ],
             [
              0.12549019607843137,
              "rgb(47,23,57)"
             ],
             [
              0.18823529411764706,
              "rgb(71,28,72)"
             ],
             [
              0.25098039215686274,
              "rgb(97,30,82)"
             ],
             [
              0.3137254901960784,
              "rgb(123,30,89)"
             ],
             [
              0.3764705882352941,
              "rgb(150,27,91)"
             ],
             [
              0.4392156862745098,
              "rgb(177,22,88)"
             ],
             [
              0.5019607843137255,
              "rgb(203,26,79)"
             ],
             [
              0.5647058823529412,
              "rgb(223,47,67)"
             ],
             [
              0.6274509803921569,
              "rgb(236,76,61)"
             ],
             [
              0.6901960784313725,
              "rgb(242,107,73)"
             ],
             [
              0.7529411764705882,
              "rgb(244,135,95)"
             ],
             [
              0.8156862745098039,
              "rgb(245,162,122)"
             ],
             [
              0.8784313725490196,
              "rgb(246,188,153)"
             ],
             [
              0.9411764705882353,
              "rgb(247,212,187)"
             ],
             [
              1,
              "rgb(250,234,220)"
             ]
            ],
            "type": "contour"
           }
          ],
          "contourcarpet": [
           {
            "colorbar": {
             "outlinewidth": 0,
             "tickcolor": "rgb(36,36,36)",
             "ticklen": 8,
             "ticks": "outside",
             "tickwidth": 2
            },
            "type": "contourcarpet"
           }
          ],
          "heatmap": [
           {
            "colorbar": {
             "outlinewidth": 0,
             "tickcolor": "rgb(36,36,36)",
             "ticklen": 8,
             "ticks": "outside",
             "tickwidth": 2
            },
            "colorscale": [
             [
              0,
              "rgb(2,4,25)"
             ],
             [
              0.06274509803921569,
              "rgb(24,15,41)"
             ],
             [
              0.12549019607843137,
              "rgb(47,23,57)"
             ],
             [
              0.18823529411764706,
              "rgb(71,28,72)"
             ],
             [
              0.25098039215686274,
              "rgb(97,30,82)"
             ],
             [
              0.3137254901960784,
              "rgb(123,30,89)"
             ],
             [
              0.3764705882352941,
              "rgb(150,27,91)"
             ],
             [
              0.4392156862745098,
              "rgb(177,22,88)"
             ],
             [
              0.5019607843137255,
              "rgb(203,26,79)"
             ],
             [
              0.5647058823529412,
              "rgb(223,47,67)"
             ],
             [
              0.6274509803921569,
              "rgb(236,76,61)"
             ],
             [
              0.6901960784313725,
              "rgb(242,107,73)"
             ],
             [
              0.7529411764705882,
              "rgb(244,135,95)"
             ],
             [
              0.8156862745098039,
              "rgb(245,162,122)"
             ],
             [
              0.8784313725490196,
              "rgb(246,188,153)"
             ],
             [
              0.9411764705882353,
              "rgb(247,212,187)"
             ],
             [
              1,
              "rgb(250,234,220)"
             ]
            ],
            "type": "heatmap"
           }
          ],
          "heatmapgl": [
           {
            "colorbar": {
             "outlinewidth": 0,
             "tickcolor": "rgb(36,36,36)",
             "ticklen": 8,
             "ticks": "outside",
             "tickwidth": 2
            },
            "colorscale": [
             [
              0,
              "rgb(2,4,25)"
             ],
             [
              0.06274509803921569,
              "rgb(24,15,41)"
             ],
             [
              0.12549019607843137,
              "rgb(47,23,57)"
             ],
             [
              0.18823529411764706,
              "rgb(71,28,72)"
             ],
             [
              0.25098039215686274,
              "rgb(97,30,82)"
             ],
             [
              0.3137254901960784,
              "rgb(123,30,89)"
             ],
             [
              0.3764705882352941,
              "rgb(150,27,91)"
             ],
             [
              0.4392156862745098,
              "rgb(177,22,88)"
             ],
             [
              0.5019607843137255,
              "rgb(203,26,79)"
             ],
             [
              0.5647058823529412,
              "rgb(223,47,67)"
             ],
             [
              0.6274509803921569,
              "rgb(236,76,61)"
             ],
             [
              0.6901960784313725,
              "rgb(242,107,73)"
             ],
             [
              0.7529411764705882,
              "rgb(244,135,95)"
             ],
             [
              0.8156862745098039,
              "rgb(245,162,122)"
             ],
             [
              0.8784313725490196,
              "rgb(246,188,153)"
             ],
             [
              0.9411764705882353,
              "rgb(247,212,187)"
             ],
             [
              1,
              "rgb(250,234,220)"
             ]
            ],
            "type": "heatmapgl"
           }
          ],
          "histogram": [
           {
            "marker": {
             "colorbar": {
              "outlinewidth": 0,
              "tickcolor": "rgb(36,36,36)",
              "ticklen": 8,
              "ticks": "outside",
              "tickwidth": 2
             }
            },
            "type": "histogram"
           }
          ],
          "histogram2d": [
           {
            "colorbar": {
             "outlinewidth": 0,
             "tickcolor": "rgb(36,36,36)",
             "ticklen": 8,
             "ticks": "outside",
             "tickwidth": 2
            },
            "colorscale": [
             [
              0,
              "rgb(2,4,25)"
             ],
             [
              0.06274509803921569,
              "rgb(24,15,41)"
             ],
             [
              0.12549019607843137,
              "rgb(47,23,57)"
             ],
             [
              0.18823529411764706,
              "rgb(71,28,72)"
             ],
             [
              0.25098039215686274,
              "rgb(97,30,82)"
             ],
             [
              0.3137254901960784,
              "rgb(123,30,89)"
             ],
             [
              0.3764705882352941,
              "rgb(150,27,91)"
             ],
             [
              0.4392156862745098,
              "rgb(177,22,88)"
             ],
             [
              0.5019607843137255,
              "rgb(203,26,79)"
             ],
             [
              0.5647058823529412,
              "rgb(223,47,67)"
             ],
             [
              0.6274509803921569,
              "rgb(236,76,61)"
             ],
             [
              0.6901960784313725,
              "rgb(242,107,73)"
             ],
             [
              0.7529411764705882,
              "rgb(244,135,95)"
             ],
             [
              0.8156862745098039,
              "rgb(245,162,122)"
             ],
             [
              0.8784313725490196,
              "rgb(246,188,153)"
             ],
             [
              0.9411764705882353,
              "rgb(247,212,187)"
             ],
             [
              1,
              "rgb(250,234,220)"
             ]
            ],
            "type": "histogram2d"
           }
          ],
          "histogram2dcontour": [
           {
            "colorbar": {
             "outlinewidth": 0,
             "tickcolor": "rgb(36,36,36)",
             "ticklen": 8,
             "ticks": "outside",
             "tickwidth": 2
            },
            "colorscale": [
             [
              0,
              "rgb(2,4,25)"
             ],
             [
              0.06274509803921569,
              "rgb(24,15,41)"
             ],
             [
              0.12549019607843137,
              "rgb(47,23,57)"
             ],
             [
              0.18823529411764706,
              "rgb(71,28,72)"
             ],
             [
              0.25098039215686274,
              "rgb(97,30,82)"
             ],
             [
              0.3137254901960784,
              "rgb(123,30,89)"
             ],
             [
              0.3764705882352941,
              "rgb(150,27,91)"
             ],
             [
              0.4392156862745098,
              "rgb(177,22,88)"
             ],
             [
              0.5019607843137255,
              "rgb(203,26,79)"
             ],
             [
              0.5647058823529412,
              "rgb(223,47,67)"
             ],
             [
              0.6274509803921569,
              "rgb(236,76,61)"
             ],
             [
              0.6901960784313725,
              "rgb(242,107,73)"
             ],
             [
              0.7529411764705882,
              "rgb(244,135,95)"
             ],
             [
              0.8156862745098039,
              "rgb(245,162,122)"
             ],
             [
              0.8784313725490196,
              "rgb(246,188,153)"
             ],
             [
              0.9411764705882353,
              "rgb(247,212,187)"
             ],
             [
              1,
              "rgb(250,234,220)"
             ]
            ],
            "type": "histogram2dcontour"
           }
          ],
          "mesh3d": [
           {
            "colorbar": {
             "outlinewidth": 0,
             "tickcolor": "rgb(36,36,36)",
             "ticklen": 8,
             "ticks": "outside",
             "tickwidth": 2
            },
            "type": "mesh3d"
           }
          ],
          "parcoords": [
           {
            "line": {
             "colorbar": {
              "outlinewidth": 0,
              "tickcolor": "rgb(36,36,36)",
              "ticklen": 8,
              "ticks": "outside",
              "tickwidth": 2
             }
            },
            "type": "parcoords"
           }
          ],
          "pie": [
           {
            "automargin": true,
            "type": "pie"
           }
          ],
          "scatter": [
           {
            "marker": {
             "colorbar": {
              "outlinewidth": 0,
              "tickcolor": "rgb(36,36,36)",
              "ticklen": 8,
              "ticks": "outside",
              "tickwidth": 2
             }
            },
            "type": "scatter"
           }
          ],
          "scatter3d": [
           {
            "line": {
             "colorbar": {
              "outlinewidth": 0,
              "tickcolor": "rgb(36,36,36)",
              "ticklen": 8,
              "ticks": "outside",
              "tickwidth": 2
             }
            },
            "marker": {
             "colorbar": {
              "outlinewidth": 0,
              "tickcolor": "rgb(36,36,36)",
              "ticklen": 8,
              "ticks": "outside",
              "tickwidth": 2
             }
            },
            "type": "scatter3d"
           }
          ],
          "scattercarpet": [
           {
            "marker": {
             "colorbar": {
              "outlinewidth": 0,
              "tickcolor": "rgb(36,36,36)",
              "ticklen": 8,
              "ticks": "outside",
              "tickwidth": 2
             }
            },
            "type": "scattercarpet"
           }
          ],
          "scattergeo": [
           {
            "marker": {
             "colorbar": {
              "outlinewidth": 0,
              "tickcolor": "rgb(36,36,36)",
              "ticklen": 8,
              "ticks": "outside",
              "tickwidth": 2
             }
            },
            "type": "scattergeo"
           }
          ],
          "scattergl": [
           {
            "marker": {
             "colorbar": {
              "outlinewidth": 0,
              "tickcolor": "rgb(36,36,36)",
              "ticklen": 8,
              "ticks": "outside",
              "tickwidth": 2
             }
            },
            "type": "scattergl"
           }
          ],
          "scattermapbox": [
           {
            "marker": {
             "colorbar": {
              "outlinewidth": 0,
              "tickcolor": "rgb(36,36,36)",
              "ticklen": 8,
              "ticks": "outside",
              "tickwidth": 2
             }
            },
            "type": "scattermapbox"
           }
          ],
          "scatterpolar": [
           {
            "marker": {
             "colorbar": {
              "outlinewidth": 0,
              "tickcolor": "rgb(36,36,36)",
              "ticklen": 8,
              "ticks": "outside",
              "tickwidth": 2
             }
            },
            "type": "scatterpolar"
           }
          ],
          "scatterpolargl": [
           {
            "marker": {
             "colorbar": {
              "outlinewidth": 0,
              "tickcolor": "rgb(36,36,36)",
              "ticklen": 8,
              "ticks": "outside",
              "tickwidth": 2
             }
            },
            "type": "scatterpolargl"
           }
          ],
          "scatterternary": [
           {
            "marker": {
             "colorbar": {
              "outlinewidth": 0,
              "tickcolor": "rgb(36,36,36)",
              "ticklen": 8,
              "ticks": "outside",
              "tickwidth": 2
             }
            },
            "type": "scatterternary"
           }
          ],
          "surface": [
           {
            "colorbar": {
             "outlinewidth": 0,
             "tickcolor": "rgb(36,36,36)",
             "ticklen": 8,
             "ticks": "outside",
             "tickwidth": 2
            },
            "colorscale": [
             [
              0,
              "rgb(2,4,25)"
             ],
             [
              0.06274509803921569,
              "rgb(24,15,41)"
             ],
             [
              0.12549019607843137,
              "rgb(47,23,57)"
             ],
             [
              0.18823529411764706,
              "rgb(71,28,72)"
             ],
             [
              0.25098039215686274,
              "rgb(97,30,82)"
             ],
             [
              0.3137254901960784,
              "rgb(123,30,89)"
             ],
             [
              0.3764705882352941,
              "rgb(150,27,91)"
             ],
             [
              0.4392156862745098,
              "rgb(177,22,88)"
             ],
             [
              0.5019607843137255,
              "rgb(203,26,79)"
             ],
             [
              0.5647058823529412,
              "rgb(223,47,67)"
             ],
             [
              0.6274509803921569,
              "rgb(236,76,61)"
             ],
             [
              0.6901960784313725,
              "rgb(242,107,73)"
             ],
             [
              0.7529411764705882,
              "rgb(244,135,95)"
             ],
             [
              0.8156862745098039,
              "rgb(245,162,122)"
             ],
             [
              0.8784313725490196,
              "rgb(246,188,153)"
             ],
             [
              0.9411764705882353,
              "rgb(247,212,187)"
             ],
             [
              1,
              "rgb(250,234,220)"
             ]
            ],
            "type": "surface"
           }
          ],
          "table": [
           {
            "cells": {
             "fill": {
              "color": "rgb(231,231,240)"
             },
             "line": {
              "color": "white"
             }
            },
            "header": {
             "fill": {
              "color": "rgb(183,183,191)"
             },
             "line": {
              "color": "white"
             }
            },
            "type": "table"
           }
          ]
         },
         "layout": {
          "annotationdefaults": {
           "arrowcolor": "rgb(67,103,167)"
          },
          "coloraxis": {
           "colorbar": {
            "outlinewidth": 0,
            "tickcolor": "rgb(36,36,36)",
            "ticklen": 8,
            "ticks": "outside",
            "tickwidth": 2
           }
          },
          "colorscale": {
           "sequential": [
            [
             0,
             "rgb(2,4,25)"
            ],
            [
             0.06274509803921569,
             "rgb(24,15,41)"
            ],
            [
             0.12549019607843137,
             "rgb(47,23,57)"
            ],
            [
             0.18823529411764706,
             "rgb(71,28,72)"
            ],
            [
             0.25098039215686274,
             "rgb(97,30,82)"
            ],
            [
             0.3137254901960784,
             "rgb(123,30,89)"
            ],
            [
             0.3764705882352941,
             "rgb(150,27,91)"
            ],
            [
             0.4392156862745098,
             "rgb(177,22,88)"
            ],
            [
             0.5019607843137255,
             "rgb(203,26,79)"
            ],
            [
             0.5647058823529412,
             "rgb(223,47,67)"
            ],
            [
             0.6274509803921569,
             "rgb(236,76,61)"
            ],
            [
             0.6901960784313725,
             "rgb(242,107,73)"
            ],
            [
             0.7529411764705882,
             "rgb(244,135,95)"
            ],
            [
             0.8156862745098039,
             "rgb(245,162,122)"
            ],
            [
             0.8784313725490196,
             "rgb(246,188,153)"
            ],
            [
             0.9411764705882353,
             "rgb(247,212,187)"
            ],
            [
             1,
             "rgb(250,234,220)"
            ]
           ],
           "sequentialminus": [
            [
             0,
             "rgb(2,4,25)"
            ],
            [
             0.06274509803921569,
             "rgb(24,15,41)"
            ],
            [
             0.12549019607843137,
             "rgb(47,23,57)"
            ],
            [
             0.18823529411764706,
             "rgb(71,28,72)"
            ],
            [
             0.25098039215686274,
             "rgb(97,30,82)"
            ],
            [
             0.3137254901960784,
             "rgb(123,30,89)"
            ],
            [
             0.3764705882352941,
             "rgb(150,27,91)"
            ],
            [
             0.4392156862745098,
             "rgb(177,22,88)"
            ],
            [
             0.5019607843137255,
             "rgb(203,26,79)"
            ],
            [
             0.5647058823529412,
             "rgb(223,47,67)"
            ],
            [
             0.6274509803921569,
             "rgb(236,76,61)"
            ],
            [
             0.6901960784313725,
             "rgb(242,107,73)"
            ],
            [
             0.7529411764705882,
             "rgb(244,135,95)"
            ],
            [
             0.8156862745098039,
             "rgb(245,162,122)"
            ],
            [
             0.8784313725490196,
             "rgb(246,188,153)"
            ],
            [
             0.9411764705882353,
             "rgb(247,212,187)"
            ],
            [
             1,
             "rgb(250,234,220)"
            ]
           ]
          },
          "colorway": [
           "rgb(76,114,176)",
           "rgb(221,132,82)",
           "rgb(85,168,104)",
           "rgb(196,78,82)",
           "rgb(129,114,179)",
           "rgb(147,120,96)",
           "rgb(218,139,195)",
           "rgb(140,140,140)",
           "rgb(204,185,116)",
           "rgb(100,181,205)"
          ],
          "font": {
           "color": "rgb(36,36,36)"
          },
          "geo": {
           "bgcolor": "white",
           "lakecolor": "white",
           "landcolor": "rgb(234,234,242)",
           "showlakes": true,
           "showland": true,
           "subunitcolor": "white"
          },
          "hoverlabel": {
           "align": "left"
          },
          "hovermode": "closest",
          "paper_bgcolor": "white",
          "plot_bgcolor": "rgb(234,234,242)",
          "polar": {
           "angularaxis": {
            "gridcolor": "white",
            "linecolor": "white",
            "showgrid": true,
            "ticks": ""
           },
           "bgcolor": "rgb(234,234,242)",
           "radialaxis": {
            "gridcolor": "white",
            "linecolor": "white",
            "showgrid": true,
            "ticks": ""
           }
          },
          "scene": {
           "xaxis": {
            "backgroundcolor": "rgb(234,234,242)",
            "gridcolor": "white",
            "gridwidth": 2,
            "linecolor": "white",
            "showbackground": true,
            "showgrid": true,
            "ticks": "",
            "zerolinecolor": "white"
           },
           "yaxis": {
            "backgroundcolor": "rgb(234,234,242)",
            "gridcolor": "white",
            "gridwidth": 2,
            "linecolor": "white",
            "showbackground": true,
            "showgrid": true,
            "ticks": "",
            "zerolinecolor": "white"
           },
           "zaxis": {
            "backgroundcolor": "rgb(234,234,242)",
            "gridcolor": "white",
            "gridwidth": 2,
            "linecolor": "white",
            "showbackground": true,
            "showgrid": true,
            "ticks": "",
            "zerolinecolor": "white"
           }
          },
          "shapedefaults": {
           "fillcolor": "rgb(67,103,167)",
           "line": {
            "width": 0
           },
           "opacity": 0.5
          },
          "ternary": {
           "aaxis": {
            "gridcolor": "white",
            "linecolor": "white",
            "showgrid": true,
            "ticks": ""
           },
           "baxis": {
            "gridcolor": "white",
            "linecolor": "white",
            "showgrid": true,
            "ticks": ""
           },
           "bgcolor": "rgb(234,234,242)",
           "caxis": {
            "gridcolor": "white",
            "linecolor": "white",
            "showgrid": true,
            "ticks": ""
           }
          },
          "xaxis": {
           "automargin": true,
           "gridcolor": "white",
           "linecolor": "white",
           "showgrid": true,
           "ticks": "",
           "title": {
            "standoff": 15
           },
           "zerolinecolor": "white"
          },
          "yaxis": {
           "automargin": true,
           "gridcolor": "white",
           "linecolor": "white",
           "showgrid": true,
           "ticks": "",
           "title": {
            "standoff": 15
           },
           "zerolinecolor": "white"
          }
         }
        },
        "title": {
         "font": {
          "family": "Times New Roman",
          "size": 30
         },
         "x": 0.5,
         "y": 0.98
        },
        "width": 1100,
        "xaxis": {
         "anchor": "y",
         "autorange": true,
         "domain": [
          0,
          0.09135802469135802
         ],
         "range": [
          -0.05777105928272068,
          0.5577710592827206
         ],
         "showgrid": false,
         "tickangle": 0,
         "tickfont": {
          "size": 15
         },
         "ticks": "outside",
         "title": {
          "text": "Dropout"
         },
         "type": "linear",
         "zeroline": false
        },
        "xaxis2": {
         "anchor": "y2",
         "autorange": true,
         "domain": [
          0.11358024691358025,
          0.20493827160493827
         ],
         "range": [
          4.222894071727932,
          65.77710592827206
         ],
         "showgrid": false,
         "tickangle": 0,
         "tickfont": {
          "size": 15
         },
         "ticks": "outside",
         "title": {
          "text": "Freq. Bins"
         },
         "type": "linear",
         "zeroline": false
        },
        "xaxis3": {
         "anchor": "y3",
         "autorange": true,
         "domain": [
          0.2271604938271605,
          0.31851851851851853
         ],
         "range": [
          0.8844578814345587,
          2.1155421185654415
         ],
         "showgrid": false,
         "tickangle": 0,
         "tickfont": {
          "size": 15
         },
         "ticks": "outside",
         "title": {
          "text": "Hidden"
         },
         "type": "linear",
         "zeroline": false
        },
        "xaxis4": {
         "anchor": "y4",
         "autorange": true,
         "domain": [
          0.34074074074074073,
          0.43209876543209874
         ],
         "range": [
          -6.5176959553610265,
          -0.5416080015359359
         ],
         "showgrid": false,
         "tickangle": 0,
         "tickfont": {
          "size": 15
         },
         "ticks": "outside",
         "title": {
          "text": "L2 Regular."
         },
         "type": "log",
         "zeroline": false
        },
        "xaxis5": {
         "anchor": "y5",
         "autorange": true,
         "domain": [
          0.454320987654321,
          0.5456790123456791
         ],
         "range": [
          -2.9325271139264792,
          70.93252711392648
         ],
         "showgrid": false,
         "tickangle": 0,
         "tickfont": {
          "size": 15
         },
         "ticks": "outside",
         "title": {
          "text": "Latent Size"
         },
         "type": "linear",
         "zeroline": false
        },
        "xaxis6": {
         "anchor": "y6",
         "autorange": true,
         "domain": [
          0.5679012345679012,
          0.6592592592592592
         ],
         "range": [
          -0.009273877038215389,
          0.10941818342051246
         ],
         "showgrid": false,
         "tickangle": 0,
         "tickfont": {
          "size": 15
         },
         "ticks": "outside",
         "title": {
          "text": "Learn. Rate"
         },
         "type": "linear",
         "zeroline": false
        },
        "xaxis7": {
         "anchor": "y7",
         "autorange": true,
         "domain": [
          0.6814814814814815,
          0.7728395061728395
         ],
         "range": [
          -0.11554211856544136,
          1.1155421185654413
         ],
         "showgrid": false,
         "tickangle": 0,
         "tickfont": {
          "size": 15
         },
         "ticks": "outside",
         "title": {
          "text": "Model Type"
         },
         "type": "category",
         "zeroline": false
        },
        "xaxis8": {
         "anchor": "y8",
         "autorange": true,
         "domain": [
          0.7950617283950617,
          0.8864197530864197
         ],
         "range": [
          -0.11554211856544136,
          1.1155421185654413
         ],
         "showgrid": false,
         "tickangle": 0,
         "tickfont": {
          "size": 15
         },
         "ticks": "outside",
         "title": {
          "text": "Optimizer"
         },
         "type": "category",
         "zeroline": false
        },
        "xaxis9": {
         "anchor": "y9",
         "autorange": true,
         "domain": [
          0.908641975308642,
          1
         ],
         "range": [
          8.844578814345587,
          21.155421185654415
         ],
         "showgrid": false,
         "tickangle": 0,
         "tickfont": {
          "size": 15
         },
         "ticks": "outside",
         "title": {
          "text": "Time Steps"
         },
         "type": "linear",
         "zeroline": false
        },
        "yaxis": {
         "anchor": "x",
         "autorange": true,
         "domain": [
          0,
          1
         ],
         "range": [
          0.0008275968815407953,
          0.015580991706256478
         ],
         "showgrid": false,
         "tickangle": 0,
         "tickfont": {
          "size": 17
         },
         "title": {
          "text": "Loss"
         },
         "type": "linear"
        },
        "yaxis2": {
         "anchor": "x2",
         "autorange": true,
         "domain": [
          0,
          1
         ],
         "matches": "y",
         "range": [
          0.0008275968815407953,
          0.015580991706256478
         ],
         "showgrid": false,
         "showticklabels": false,
         "tickangle": 0,
         "tickfont": {
          "size": 17
         },
         "type": "linear"
        },
        "yaxis3": {
         "anchor": "x3",
         "autorange": true,
         "domain": [
          0,
          1
         ],
         "matches": "y",
         "range": [
          0.0008275968815407953,
          0.015580991706256478
         ],
         "showgrid": false,
         "showticklabels": false,
         "tickangle": 0,
         "tickfont": {
          "size": 17
         },
         "type": "linear"
        },
        "yaxis4": {
         "anchor": "x4",
         "autorange": true,
         "domain": [
          0,
          1
         ],
         "matches": "y",
         "range": [
          0.0008275968815407953,
          0.015580991706256478
         ],
         "showgrid": false,
         "showticklabels": false,
         "tickangle": 0,
         "tickfont": {
          "size": 17
         },
         "type": "linear"
        },
        "yaxis5": {
         "anchor": "x5",
         "autorange": true,
         "domain": [
          0,
          1
         ],
         "matches": "y",
         "range": [
          0.0008275968815407953,
          0.015580991706256478
         ],
         "showgrid": false,
         "showticklabels": false,
         "tickangle": 0,
         "tickfont": {
          "size": 17
         },
         "type": "linear"
        },
        "yaxis6": {
         "anchor": "x6",
         "autorange": true,
         "domain": [
          0,
          1
         ],
         "matches": "y",
         "range": [
          0.0008275968815407953,
          0.015580991706256478
         ],
         "showgrid": false,
         "showticklabels": false,
         "tickangle": 0,
         "tickfont": {
          "size": 17
         },
         "type": "linear"
        },
        "yaxis7": {
         "anchor": "x7",
         "autorange": true,
         "domain": [
          0,
          1
         ],
         "matches": "y",
         "range": [
          0.0008275968815407953,
          0.015580991706256478
         ],
         "showgrid": false,
         "showticklabels": false,
         "tickangle": 0,
         "tickfont": {
          "size": 17
         },
         "type": "linear"
        },
        "yaxis8": {
         "anchor": "x8",
         "autorange": true,
         "domain": [
          0,
          1
         ],
         "matches": "y",
         "range": [
          0.0008275968815407953,
          0.015580991706256478
         ],
         "showgrid": false,
         "showticklabels": false,
         "tickangle": 0,
         "tickfont": {
          "size": 17
         },
         "type": "linear"
        },
        "yaxis9": {
         "anchor": "x9",
         "autorange": true,
         "domain": [
          0,
          1
         ],
         "matches": "y",
         "range": [
          0.0008275968815407953,
          0.015580991706256478
         ],
         "showgrid": false,
         "showticklabels": false,
         "tickangle": 0,
         "tickfont": {
          "size": 17
         },
         "type": "linear"
        }
       }
      },
      "image/png": "[encoded data removed]",
      "text/html": [
       "<div>\n",
       "        \n",
       "        \n",
       "            <div id=\"32a6257c-2227-4c43-a08a-165f33b414ff\" class=\"plotly-graph-div\" style=\"height:400px; width:1100px;\"></div>\n",
       "            <script type=\"text/javascript\">\n",
       "                require([\"plotly\"], function(Plotly) {\n",
       "                    window.PLOTLYENV=window.PLOTLYENV || {};\n",
       "                    \n",
       "                if (document.getElementById(\"32a6257c-2227-4c43-a08a-165f33b414ff\")) {\n",
       "                    Plotly.newPlot(\n",
       "                        '32a6257c-2227-4c43-a08a-165f33b414ff',\n",
       "                        [{\"marker\": {\"color\": [0, 1, 6, 9, 10, 11, 16, 20, 23, 24, 26, 29, 32, 34, 35, 38, 39, 40, 42, 43, 46, 48, 49, 50, 51, 53, 54, 56, 58, 59, 60, 61, 63, 64, 65, 70, 72, 76, 77, 78, 79, 80, 81, 82, 83, 87, 88], \"colorbar\": {\"title\": {\"text\": \"# of Trials\"}, \"x\": 1.0, \"xpad\": 15}, \"colorscale\": [[0.0, \"rgb(0,0,0)\"], [0.09090909090909091, \"rgb(50,50,140)\"], [0.18181818181818182, \"rgb(70,70,160)\"], [0.2727272727272727, \"rgb(110,110,200)\"], [0.36363636363636365, \"rgb(130,130,210)\"], [0.45454545454545453, \"rgb(150,150,230)\"], [0.5454545454545454, \"rgb(170,170,255)\"], [0.6363636363636364, \"rgb(190,190,255)\"], [0.7272727272727273, \"rgb(200,200,255)\"], [0.8181818181818182, \"rgb(210,210,255)\"], [0.9090909090909091, \"rgb(220,220,255)\"], [1.0, \"rgb(240,240,255)\"]], \"line\": {\"color\": \"grey\", \"width\": 0.65}, \"showscale\": true}, \"mode\": \"markers\", \"showlegend\": false, \"type\": \"scatter\", \"x\": [0.1, 0.5, 0.30000000000000004, 0.2, 0.2, 0.2, 0.1, 0.4, 0.30000000000000004, 0.4, 0.30000000000000004, 0.0, 0.30000000000000004, 0.4, 0.1, 0.1, 0.30000000000000004, 0.0, 0.0, 0.4, 0.2, 0.4, 0.0, 0.30000000000000004, 0.0, 0.30000000000000004, 0.30000000000000004, 0.0, 0.1, 0.1, 0.5, 0.30000000000000004, 0.30000000000000004, 0.1, 0.0, 0.4, 0.5, 0.30000000000000004, 0.0, 0.0, 0.30000000000000004, 0.1, 0.30000000000000004, 0.4, 0.1, 0.0, 0.0], \"xaxis\": \"x\", \"y\": [0.005879989925872635, 0.0024719670528193585, 0.0024031549786544732, 0.006327786652774022, 0.0031322317396139574, 0.006033526000415755, 0.005758977460523916, 0.006708566067941688, 0.004322397255187703, 0.0037187222183707193, 0.010660814694003077, 0.004111647517797914, 0.0033954781656329695, 0.003842870141631244, 0.0071582759894128585, 0.013315531311909089, 0.004230028506041177, 0.0017289507369561172, 0.003714236301823041, 0.009196693964956983, 0.004513488207767541, 0.006797318674019865, 0.002526282927499631, 0.005708390120039317, 0.0030665069384299016, 0.004319519808239027, 0.002149103005649522, 0.014679637850841155, 0.0031319406368090093, 0.0031627330054352816, 0.0061884340012093655, 0.006725704951866253, 0.0039537574630230665, 0.002445549260497697, 0.006382791476475226, 0.002545493149915962, 0.011492869867062246, 0.003989844874013215, 0.006546378821587643, 0.004032165340676501, 0.006636368387655632, 0.0028162696681967056, 0.004318552909771333, 0.002716551177719658, 0.0025343818832314698, 0.0027550872953331753, 0.003019653065633532], \"yaxis\": \"y\"}, {\"marker\": {\"color\": [0, 1, 6, 9, 10, 11, 16, 20, 23, 24, 26, 29, 32, 34, 35, 38, 39, 40, 42, 43, 46, 48, 49, 50, 51, 53, 54, 56, 58, 59, 60, 61, 63, 64, 65, 70, 72, 76, 77, 78, 79, 80, 81, 82, 83, 87, 88], \"colorbar\": {\"title\": {\"text\": \"# of Trials\"}, \"x\": 1.0, \"xpad\": 15}, \"colorscale\": [[0.0, \"rgb(0,0,0)\"], [0.09090909090909091, \"rgb(50,50,140)\"], [0.18181818181818182, \"rgb(70,70,160)\"], [0.2727272727272727, \"rgb(110,110,200)\"], [0.36363636363636365, \"rgb(130,130,210)\"], [0.45454545454545453, \"rgb(150,150,230)\"], [0.5454545454545454, \"rgb(170,170,255)\"], [0.6363636363636364, \"rgb(190,190,255)\"], [0.7272727272727273, \"rgb(200,200,255)\"], [0.8181818181818182, \"rgb(210,210,255)\"], [0.9090909090909091, \"rgb(220,220,255)\"], [1.0, \"rgb(240,240,255)\"]], \"line\": {\"color\": \"grey\", \"width\": 0.65}, \"showscale\": false}, \"mode\": \"markers\", \"showlegend\": false, \"type\": \"scatter\", \"x\": [30, 60, 60, 10, 60, 30, 30, 10, 60, 60, 10, 60, 60, 60, 30, 10, 10, 10, 30, 10, 60, 60, 60, 30, 60, 30, 60, 10, 60, 60, 30, 30, 30, 60, 30, 60, 10, 30, 10, 60, 30, 60, 60, 60, 60, 60, 10], \"xaxis\": \"x2\", \"y\": [0.005879989925872635, 0.0024719670528193585, 0.0024031549786544732, 0.006327786652774022, 0.0031322317396139574, 0.006033526000415755, 0.005758977460523916, 0.006708566067941688, 0.004322397255187703, 0.0037187222183707193, 0.010660814694003077, 0.004111647517797914, 0.0033954781656329695, 0.003842870141631244, 0.0071582759894128585, 0.013315531311909089, 0.004230028506041177, 0.0017289507369561172, 0.003714236301823041, 0.009196693964956983, 0.004513488207767541, 0.006797318674019865, 0.002526282927499631, 0.005708390120039317, 0.0030665069384299016, 0.004319519808239027, 0.002149103005649522, 0.014679637850841155, 0.0031319406368090093, 0.0031627330054352816, 0.0061884340012093655, 0.006725704951866253, 0.0039537574630230665, 0.002445549260497697, 0.006382791476475226, 0.002545493149915962, 0.011492869867062246, 0.003989844874013215, 0.006546378821587643, 0.004032165340676501, 0.006636368387655632, 0.0028162696681967056, 0.004318552909771333, 0.002716551177719658, 0.0025343818832314698, 0.0027550872953331753, 0.003019653065633532], \"yaxis\": \"y2\"}, {\"marker\": {\"color\": [0, 1, 6, 9, 10, 11, 16, 20, 23, 24, 26, 29, 32, 34, 35, 38, 39, 40, 42, 43, 46, 48, 49, 50, 51, 53, 54, 56, 58, 59, 60, 61, 63, 64, 65, 70, 72, 76, 77, 78, 79, 80, 81, 82, 83, 87, 88], \"colorbar\": {\"title\": {\"text\": \"# of Trials\"}, \"x\": 1.0, \"xpad\": 15}, \"colorscale\": [[0.0, \"rgb(0,0,0)\"], [0.09090909090909091, \"rgb(50,50,140)\"], [0.18181818181818182, \"rgb(70,70,160)\"], [0.2727272727272727, \"rgb(110,110,200)\"], [0.36363636363636365, \"rgb(130,130,210)\"], [0.45454545454545453, \"rgb(150,150,230)\"], [0.5454545454545454, \"rgb(170,170,255)\"], [0.6363636363636364, \"rgb(190,190,255)\"], [0.7272727272727273, \"rgb(200,200,255)\"], [0.8181818181818182, \"rgb(210,210,255)\"], [0.9090909090909091, \"rgb(220,220,255)\"], [1.0, \"rgb(240,240,255)\"]], \"line\": {\"color\": \"grey\", \"width\": 0.65}, \"showscale\": false}, \"mode\": \"markers\", \"showlegend\": false, \"type\": \"scatter\", \"x\": [1, 2, 2, 2, 1, 2, 2, 1, 2, 2, 2, 2, 2, 2, 2, 1, 1, 2, 1, 2, 2, 2, 2, 1, 2, 2, 1, 2, 2, 1, 2, 1, 2, 2, 2, 2, 1, 1, 1, 2, 1, 2, 1, 1, 1, 2, 2], \"xaxis\": \"x3\", \"y\": [0.005879989925872635, 0.0024719670528193585, 0.0024031549786544732, 0.006327786652774022, 0.0031322317396139574, 0.006033526000415755, 0.005758977460523916, 0.006708566067941688, 0.004322397255187703, 0.0037187222183707193, 0.010660814694003077, 0.004111647517797914, 0.0033954781656329695, 0.003842870141631244, 0.0071582759894128585, 0.013315531311909089, 0.004230028506041177, 0.0017289507369561172, 0.003714236301823041, 0.009196693964956983, 0.004513488207767541, 0.006797318674019865, 0.002526282927499631, 0.005708390120039317, 0.0030665069384299016, 0.004319519808239027, 0.002149103005649522, 0.014679637850841155, 0.0031319406368090093, 0.0031627330054352816, 0.0061884340012093655, 0.006725704951866253, 0.0039537574630230665, 0.002445549260497697, 0.006382791476475226, 0.002545493149915962, 0.011492869867062246, 0.003989844874013215, 0.006546378821587643, 0.004032165340676501, 0.006636368387655632, 0.0028162696681967056, 0.004318552909771333, 0.002716551177719658, 0.0025343818832314698, 0.0027550872953331753, 0.003019653065633532], \"yaxis\": \"y3\"}, {\"marker\": {\"color\": [0, 1, 6, 9, 10, 11, 16, 20, 23, 24, 26, 29, 32, 34, 35, 38, 39, 40, 42, 43, 46, 48, 49, 50, 51, 53, 54, 56, 58, 59, 60, 61, 63, 64, 65, 70, 72, 76, 77, 78, 79, 80, 81, 82, 83, 87, 88], \"colorbar\": {\"title\": {\"text\": \"# of Trials\"}, \"x\": 1.0, \"xpad\": 15}, \"colorscale\": [[0.0, \"rgb(0,0,0)\"], [0.09090909090909091, \"rgb(50,50,140)\"], [0.18181818181818182, \"rgb(70,70,160)\"], [0.2727272727272727, \"rgb(110,110,200)\"], [0.36363636363636365, \"rgb(130,130,210)\"], [0.45454545454545453, \"rgb(150,150,230)\"], [0.5454545454545454, \"rgb(170,170,255)\"], [0.6363636363636364, \"rgb(190,190,255)\"], [0.7272727272727273, \"rgb(200,200,255)\"], [0.8181818181818182, \"rgb(210,210,255)\"], [0.9090909090909091, \"rgb(220,220,255)\"], [1.0, \"rgb(240,240,255)\"]], \"line\": {\"color\": \"grey\", \"width\": 0.65}, \"showscale\": false}, \"mode\": \"markers\", \"showlegend\": false, \"type\": \"scatter\", \"x\": [0.00022214504767489684, 0.0009039890458283983, 4.075409003334307e-05, 2.802655535287162e-06, 6.002573370507835e-05, 1.4980136375044707e-06, 0.00031234861577260863, 0.00023956117613134834, 0.0009297867044010104, 0.0001711859479056543, 1.1678160604275393e-06, 0.0028284647522457016, 4.831470060412663e-06, 0.00015050776066239326, 1.1045452320007337e-06, 0.07897916498960639, 0.00018943099407416736, 1.6467454129545388e-06, 0.0008483111554625711, 0.005672678235365808, 0.05246031636715549, 0.00014386050447578596, 0.0012572662188850715, 0.00036112948294935083, 0.0002632529079914289, 4.459599702319406e-06, 3.687023232664146e-05, 2.87677921967855e-06, 6.368595738829929e-06, 2.557707276984763e-06, 0.00019468972562386693, 0.012307025314019287, 0.0006102834677983657, 0.0005364031273907507, 1.6398108449177916e-05, 1.3166783302601952e-05, 0.028203025813651333, 4.796144723534623e-05, 2.61759821676798e-06, 0.00046603059267033846, 2.7527799610806048e-05, 1.4066340292701248e-06, 4.585848768680514e-05, 0.002386454426804946, 0.001125625544479838, 0.010011929240931455, 0.00018750403138962865], \"xaxis\": \"x4\", \"y\": [0.005879989925872635, 0.0024719670528193585, 0.0024031549786544732, 0.006327786652774022, 0.0031322317396139574, 0.006033526000415755, 0.005758977460523916, 0.006708566067941688, 0.004322397255187703, 0.0037187222183707193, 0.010660814694003077, 0.004111647517797914, 0.0033954781656329695, 0.003842870141631244, 0.0071582759894128585, 0.013315531311909089, 0.004230028506041177, 0.0017289507369561172, 0.003714236301823041, 0.009196693964956983, 0.004513488207767541, 0.006797318674019865, 0.002526282927499631, 0.005708390120039317, 0.0030665069384299016, 0.004319519808239027, 0.002149103005649522, 0.014679637850841155, 0.0031319406368090093, 0.0031627330054352816, 0.0061884340012093655, 0.006725704951866253, 0.0039537574630230665, 0.002445549260497697, 0.006382791476475226, 0.002545493149915962, 0.011492869867062246, 0.003989844874013215, 0.006546378821587643, 0.004032165340676501, 0.006636368387655632, 0.0028162696681967056, 0.004318552909771333, 0.002716551177719658, 0.0025343818832314698, 0.0027550872953331753, 0.003019653065633532], \"yaxis\": \"y4\"}, {\"marker\": {\"color\": [0, 1, 6, 9, 10, 11, 16, 20, 23, 24, 26, 29, 32, 34, 35, 38, 39, 40, 42, 43, 46, 48, 49, 50, 51, 53, 54, 56, 58, 59, 60, 61, 63, 64, 65, 70, 72, 76, 77, 78, 79, 80, 81, 82, 83, 87, 88], \"colorbar\": {\"title\": {\"text\": \"# of Trials\"}, \"x\": 1.0, \"xpad\": 15}, \"colorscale\": [[0.0, \"rgb(0,0,0)\"], [0.09090909090909091, \"rgb(50,50,140)\"], [0.18181818181818182, \"rgb(70,70,160)\"], [0.2727272727272727, \"rgb(110,110,200)\"], [0.36363636363636365, \"rgb(130,130,210)\"], [0.45454545454545453, \"rgb(150,150,230)\"], [0.5454545454545454, \"rgb(170,170,255)\"], [0.6363636363636364, \"rgb(190,190,255)\"], [0.7272727272727273, \"rgb(200,200,255)\"], [0.8181818181818182, \"rgb(210,210,255)\"], [0.9090909090909091, \"rgb(220,220,255)\"], [1.0, \"rgb(240,240,255)\"]], \"line\": {\"color\": \"grey\", \"width\": 0.65}, \"showscale\": false}, \"mode\": \"markers\", \"showlegend\": false, \"type\": \"scatter\", \"x\": [16, 16, 64, 4, 64, 64, 16, 64, 64, 16, 4, 64, 4, 64, 4, 16, 16, 64, 16, 4, 16, 4, 64, 16, 16, 16, 64, 64, 4, 64, 16, 4, 4, 64, 16, 4, 64, 16, 64, 4, 16, 16, 4, 64, 16, 4, 64], \"xaxis\": \"x5\", \"y\": [0.005879989925872635, 0.0024719670528193585, 0.0024031549786544732, 0.006327786652774022, 0.0031322317396139574, 0.006033526000415755, 0.005758977460523916, 0.006708566067941688, 0.004322397255187703, 0.0037187222183707193, 0.010660814694003077, 0.004111647517797914, 0.0033954781656329695, 0.003842870141631244, 0.0071582759894128585, 0.013315531311909089, 0.004230028506041177, 0.0017289507369561172, 0.003714236301823041, 0.009196693964956983, 0.004513488207767541, 0.006797318674019865, 0.002526282927499631, 0.005708390120039317, 0.0030665069384299016, 0.004319519808239027, 0.002149103005649522, 0.014679637850841155, 0.0031319406368090093, 0.0031627330054352816, 0.0061884340012093655, 0.006725704951866253, 0.0039537574630230665, 0.002445549260497697, 0.006382791476475226, 0.002545493149915962, 0.011492869867062246, 0.003989844874013215, 0.006546378821587643, 0.004032165340676501, 0.006636368387655632, 0.0028162696681967056, 0.004318552909771333, 0.002716551177719658, 0.0025343818832314698, 0.0027550872953331753, 0.003019653065633532], \"yaxis\": \"y5\"}, {\"marker\": {\"color\": [0, 1, 6, 9, 10, 11, 16, 20, 23, 24, 26, 29, 32, 34, 35, 38, 39, 40, 42, 43, 46, 48, 49, 50, 51, 53, 54, 56, 58, 59, 60, 61, 63, 64, 65, 70, 72, 76, 77, 78, 79, 80, 81, 82, 83, 87, 88], \"colorbar\": {\"title\": {\"text\": \"# of Trials\"}, \"x\": 1.0, \"xpad\": 15}, \"colorscale\": [[0.0, \"rgb(0,0,0)\"], [0.09090909090909091, \"rgb(50,50,140)\"], [0.18181818181818182, \"rgb(70,70,160)\"], [0.2727272727272727, \"rgb(110,110,200)\"], [0.36363636363636365, \"rgb(130,130,210)\"], [0.45454545454545453, \"rgb(150,150,230)\"], [0.5454545454545454, \"rgb(170,170,255)\"], [0.6363636363636364, \"rgb(190,190,255)\"], [0.7272727272727273, \"rgb(200,200,255)\"], [0.8181818181818182, \"rgb(210,210,255)\"], [0.9090909090909091, \"rgb(220,220,255)\"], [1.0, \"rgb(240,240,255)\"]], \"line\": {\"color\": \"grey\", \"width\": 0.65}, \"showscale\": false}, \"mode\": \"markers\", \"showlegend\": false, \"type\": \"scatter\", \"x\": [0.04633957288489894, 0.030507494218883397, 0.0244159856401081, 0.04629432206813644, 0.03971699607974676, 0.07634178138592708, 0.07951623828529203, 0.03243105577798813, 0.06479790069228863, 0.0018658416818130843, 0.05593628187185701, 0.0928121266132625, 0.07167952885257582, 0.08277951770155054, 0.07822106708643975, 0.09277548581731376, 0.05011970115883236, 0.004238912656469461, 0.04190069122167564, 0.04565896161404025, 0.07420427616167083, 0.012810755807408798, 0.06929329087330503, 0.09410397624378077, 0.06560321054673998, 0.07788955733312762, 0.044833615618054865, 0.09459630609390461, 0.07402118114835697, 0.07146764153369793, 0.012565884979159716, 0.012086572626750688, 0.0742829446744817, 0.022711291123236013, 0.09057118883874457, 0.061755180159315054, 0.02098807731144159, 0.09827846470048399, 0.08988840446460547, 0.06693313357823383, 0.04647873675291021, 0.08182029909087177, 0.08634732475893898, 0.08220943825342761, 0.036347944600499144, 0.0722848721385622, 0.046670720198932696], \"xaxis\": \"x6\", \"y\": [0.005879989925872635, 0.0024719670528193585, 0.0024031549786544732, 0.006327786652774022, 0.0031322317396139574, 0.006033526000415755, 0.005758977460523916, 0.006708566067941688, 0.004322397255187703, 0.0037187222183707193, 0.010660814694003077, 0.004111647517797914, 0.0033954781656329695, 0.003842870141631244, 0.0071582759894128585, 0.013315531311909089, 0.004230028506041177, 0.0017289507369561172, 0.003714236301823041, 0.009196693964956983, 0.004513488207767541, 0.006797318674019865, 0.002526282927499631, 0.005708390120039317, 0.0030665069384299016, 0.004319519808239027, 0.002149103005649522, 0.014679637850841155, 0.0031319406368090093, 0.0031627330054352816, 0.0061884340012093655, 0.006725704951866253, 0.0039537574630230665, 0.002445549260497697, 0.006382791476475226, 0.002545493149915962, 0.011492869867062246, 0.003989844874013215, 0.006546378821587643, 0.004032165340676501, 0.006636368387655632, 0.0028162696681967056, 0.004318552909771333, 0.002716551177719658, 0.0025343818832314698, 0.0027550872953331753, 0.003019653065633532], \"yaxis\": \"y6\"}, {\"marker\": {\"color\": [0, 1, 6, 9, 10, 11, 16, 20, 23, 24, 26, 29, 32, 34, 35, 38, 39, 40, 42, 43, 46, 48, 49, 50, 51, 53, 54, 56, 58, 59, 60, 61, 63, 64, 65, 70, 72, 76, 77, 78, 79, 80, 81, 82, 83, 87, 88], \"colorbar\": {\"title\": {\"text\": \"# of Trials\"}, \"x\": 1.0, \"xpad\": 15}, \"colorscale\": [[0.0, \"rgb(0,0,0)\"], [0.09090909090909091, \"rgb(50,50,140)\"], [0.18181818181818182, \"rgb(70,70,160)\"], [0.2727272727272727, \"rgb(110,110,200)\"], [0.36363636363636365, \"rgb(130,130,210)\"], [0.45454545454545453, \"rgb(150,150,230)\"], [0.5454545454545454, \"rgb(170,170,255)\"], [0.6363636363636364, \"rgb(190,190,255)\"], [0.7272727272727273, \"rgb(200,200,255)\"], [0.8181818181818182, \"rgb(210,210,255)\"], [0.9090909090909091, \"rgb(220,220,255)\"], [1.0, \"rgb(240,240,255)\"]], \"line\": {\"color\": \"grey\", \"width\": 0.65}, \"showscale\": false}, \"mode\": \"markers\", \"showlegend\": false, \"type\": \"scatter\", \"x\": [\"CNN\", \"CNN\", \"CNN\", \"FC\", \"CNN\", \"CNN\", \"FC\", \"FC\", \"FC\", \"FC\", \"CNN\", \"FC\", \"FC\", \"FC\", \"CNN\", \"CNN\", \"FC\", \"FC\", \"FC\", \"CNN\", \"FC\", \"CNN\", \"CNN\", \"CNN\", \"FC\", \"FC\", \"FC\", \"CNN\", \"FC\", \"FC\", \"FC\", \"FC\", \"CNN\", \"CNN\", \"CNN\", \"FC\", \"FC\", \"CNN\", \"CNN\", \"CNN\", \"FC\", \"CNN\", \"CNN\", \"CNN\", \"FC\", \"CNN\", \"CNN\"], \"xaxis\": \"x7\", \"y\": [0.005879989925872635, 0.0024719670528193585, 0.0024031549786544732, 0.006327786652774022, 0.0031322317396139574, 0.006033526000415755, 0.005758977460523916, 0.006708566067941688, 0.004322397255187703, 0.0037187222183707193, 0.010660814694003077, 0.004111647517797914, 0.0033954781656329695, 0.003842870141631244, 0.0071582759894128585, 0.013315531311909089, 0.004230028506041177, 0.0017289507369561172, 0.003714236301823041, 0.009196693964956983, 0.004513488207767541, 0.006797318674019865, 0.002526282927499631, 0.005708390120039317, 0.0030665069384299016, 0.004319519808239027, 0.002149103005649522, 0.014679637850841155, 0.0031319406368090093, 0.0031627330054352816, 0.0061884340012093655, 0.006725704951866253, 0.0039537574630230665, 0.002445549260497697, 0.006382791476475226, 0.002545493149915962, 0.011492869867062246, 0.003989844874013215, 0.006546378821587643, 0.004032165340676501, 0.006636368387655632, 0.0028162696681967056, 0.004318552909771333, 0.002716551177719658, 0.0025343818832314698, 0.0027550872953331753, 0.003019653065633532], \"yaxis\": \"y7\"}, {\"marker\": {\"color\": [0, 1, 6, 9, 10, 11, 16, 20, 23, 24, 26, 29, 32, 34, 35, 38, 39, 40, 42, 43, 46, 48, 49, 50, 51, 53, 54, 56, 58, 59, 60, 61, 63, 64, 65, 70, 72, 76, 77, 78, 79, 80, 81, 82, 83, 87, 88], \"colorbar\": {\"title\": {\"text\": \"# of Trials\"}, \"x\": 1.0, \"xpad\": 15}, \"colorscale\": [[0.0, \"rgb(0,0,0)\"], [0.09090909090909091, \"rgb(50,50,140)\"], [0.18181818181818182, \"rgb(70,70,160)\"], [0.2727272727272727, \"rgb(110,110,200)\"], [0.36363636363636365, \"rgb(130,130,210)\"], [0.45454545454545453, \"rgb(150,150,230)\"], [0.5454545454545454, \"rgb(170,170,255)\"], [0.6363636363636364, \"rgb(190,190,255)\"], [0.7272727272727273, \"rgb(200,200,255)\"], [0.8181818181818182, \"rgb(210,210,255)\"], [0.9090909090909091, \"rgb(220,220,255)\"], [1.0, \"rgb(240,240,255)\"]], \"line\": {\"color\": \"grey\", \"width\": 0.65}, \"showscale\": false}, \"mode\": \"markers\", \"showlegend\": false, \"type\": \"scatter\", \"x\": [\"SGD\", \"Adam\", \"Adam\", \"SGD\", \"SGD\", \"SGD\", \"Adam\", \"SGD\", \"SGD\", \"Adam\", \"Adam\", \"Adam\", \"SGD\", \"Adam\", \"Adam\", \"Adam\", \"Adam\", \"Adam\", \"Adam\", \"SGD\", \"SGD\", \"SGD\", \"Adam\", \"Adam\", \"SGD\", \"SGD\", \"Adam\", \"SGD\", \"SGD\", \"SGD\", \"SGD\", \"SGD\", \"Adam\", \"Adam\", \"SGD\", \"Adam\", \"SGD\", \"Adam\", \"SGD\", \"SGD\", \"SGD\", \"SGD\", \"SGD\", \"SGD\", \"Adam\", \"Adam\", \"Adam\"], \"xaxis\": \"x8\", \"y\": [0.005879989925872635, 0.0024719670528193585, 0.0024031549786544732, 0.006327786652774022, 0.0031322317396139574, 0.006033526000415755, 0.005758977460523916, 0.006708566067941688, 0.004322397255187703, 0.0037187222183707193, 0.010660814694003077, 0.004111647517797914, 0.0033954781656329695, 0.003842870141631244, 0.0071582759894128585, 0.013315531311909089, 0.004230028506041177, 0.0017289507369561172, 0.003714236301823041, 0.009196693964956983, 0.004513488207767541, 0.006797318674019865, 0.002526282927499631, 0.005708390120039317, 0.0030665069384299016, 0.004319519808239027, 0.002149103005649522, 0.014679637850841155, 0.0031319406368090093, 0.0031627330054352816, 0.0061884340012093655, 0.006725704951866253, 0.0039537574630230665, 0.002445549260497697, 0.006382791476475226, 0.002545493149915962, 0.011492869867062246, 0.003989844874013215, 0.006546378821587643, 0.004032165340676501, 0.006636368387655632, 0.0028162696681967056, 0.004318552909771333, 0.002716551177719658, 0.0025343818832314698, 0.0027550872953331753, 0.003019653065633532], \"yaxis\": \"y8\"}, {\"marker\": {\"color\": [0, 1, 6, 9, 10, 11, 16, 20, 23, 24, 26, 29, 32, 34, 35, 38, 39, 40, 42, 43, 46, 48, 49, 50, 51, 53, 54, 56, 58, 59, 60, 61, 63, 64, 65, 70, 72, 76, 77, 78, 79, 80, 81, 82, 83, 87, 88], \"colorbar\": {\"title\": {\"text\": \"# of Trials\"}, \"x\": 1.0, \"xpad\": 15}, \"colorscale\": [[0.0, \"rgb(0,0,0)\"], [0.09090909090909091, \"rgb(50,50,140)\"], [0.18181818181818182, \"rgb(70,70,160)\"], [0.2727272727272727, \"rgb(110,110,200)\"], [0.36363636363636365, \"rgb(130,130,210)\"], [0.45454545454545453, \"rgb(150,150,230)\"], [0.5454545454545454, \"rgb(170,170,255)\"], [0.6363636363636364, \"rgb(190,190,255)\"], [0.7272727272727273, \"rgb(200,200,255)\"], [0.8181818181818182, \"rgb(210,210,255)\"], [0.9090909090909091, \"rgb(220,220,255)\"], [1.0, \"rgb(240,240,255)\"]], \"line\": {\"color\": \"grey\", \"width\": 0.65}, \"showscale\": false}, \"mode\": \"markers\", \"showlegend\": false, \"type\": \"scatter\", \"x\": [10, 20, 20, 20, 20, 10, 10, 20, 10, 10, 10, 10, 20, 10, 10, 10, 20, 20, 20, 10, 10, 20, 20, 10, 20, 20, 20, 10, 20, 20, 20, 10, 20, 20, 10, 20, 10, 20, 20, 10, 10, 20, 10, 20, 20, 20, 20], \"xaxis\": \"x9\", \"y\": [0.005879989925872635, 0.0024719670528193585, 0.0024031549786544732, 0.006327786652774022, 0.0031322317396139574, 0.006033526000415755, 0.005758977460523916, 0.006708566067941688, 0.004322397255187703, 0.0037187222183707193, 0.010660814694003077, 0.004111647517797914, 0.0033954781656329695, 0.003842870141631244, 0.0071582759894128585, 0.013315531311909089, 0.004230028506041177, 0.0017289507369561172, 0.003714236301823041, 0.009196693964956983, 0.004513488207767541, 0.006797318674019865, 0.002526282927499631, 0.005708390120039317, 0.0030665069384299016, 0.004319519808239027, 0.002149103005649522, 0.014679637850841155, 0.0031319406368090093, 0.0031627330054352816, 0.0061884340012093655, 0.006725704951866253, 0.0039537574630230665, 0.002445549260497697, 0.006382791476475226, 0.002545493149915962, 0.011492869867062246, 0.003989844874013215, 0.006546378821587643, 0.004032165340676501, 0.006636368387655632, 0.0028162696681967056, 0.004318552909771333, 0.002716551177719658, 0.0025343818832314698, 0.0027550872953331753, 0.003019653065633532], \"yaxis\": \"y9\"}],\n",
       "                        {\"autosize\": false, \"font\": {\"family\": \"Times New Roman\", \"size\": 15}, \"height\": 400, \"margin\": {\"b\": 10, \"l\": 0, \"r\": 1, \"t\": 5}, \"template\": {\"data\": {\"bar\": [{\"error_x\": {\"color\": \"rgb(36,36,36)\"}, \"error_y\": {\"color\": \"rgb(36,36,36)\"}, \"marker\": {\"line\": {\"color\": \"rgb(234,234,242)\", \"width\": 0.5}}, \"type\": \"bar\"}], \"barpolar\": [{\"marker\": {\"line\": {\"color\": \"rgb(234,234,242)\", \"width\": 0.5}}, \"type\": \"barpolar\"}], \"carpet\": [{\"aaxis\": {\"endlinecolor\": \"rgb(36,36,36)\", \"gridcolor\": \"white\", \"linecolor\": \"white\", \"minorgridcolor\": \"white\", \"startlinecolor\": \"rgb(36,36,36)\"}, \"baxis\": {\"endlinecolor\": \"rgb(36,36,36)\", \"gridcolor\": \"white\", \"linecolor\": \"white\", \"minorgridcolor\": \"white\", \"startlinecolor\": \"rgb(36,36,36)\"}, \"type\": \"carpet\"}], \"choropleth\": [{\"colorbar\": {\"outlinewidth\": 0, \"tickcolor\": \"rgb(36,36,36)\", \"ticklen\": 8, \"ticks\": \"outside\", \"tickwidth\": 2}, \"type\": \"choropleth\"}], \"contour\": [{\"colorbar\": {\"outlinewidth\": 0, \"tickcolor\": \"rgb(36,36,36)\", \"ticklen\": 8, \"ticks\": \"outside\", \"tickwidth\": 2}, \"colorscale\": [[0.0, \"rgb(2,4,25)\"], [0.06274509803921569, \"rgb(24,15,41)\"], [0.12549019607843137, \"rgb(47,23,57)\"], [0.18823529411764706, \"rgb(71,28,72)\"], [0.25098039215686274, \"rgb(97,30,82)\"], [0.3137254901960784, \"rgb(123,30,89)\"], [0.3764705882352941, \"rgb(150,27,91)\"], [0.4392156862745098, \"rgb(177,22,88)\"], [0.5019607843137255, \"rgb(203,26,79)\"], [0.5647058823529412, \"rgb(223,47,67)\"], [0.6274509803921569, \"rgb(236,76,61)\"], [0.6901960784313725, \"rgb(242,107,73)\"], [0.7529411764705882, \"rgb(244,135,95)\"], [0.8156862745098039, \"rgb(245,162,122)\"], [0.8784313725490196, \"rgb(246,188,153)\"], [0.9411764705882353, \"rgb(247,212,187)\"], [1.0, \"rgb(250,234,220)\"]], \"type\": \"contour\"}], \"contourcarpet\": [{\"colorbar\": {\"outlinewidth\": 0, \"tickcolor\": \"rgb(36,36,36)\", \"ticklen\": 8, \"ticks\": \"outside\", \"tickwidth\": 2}, \"type\": \"contourcarpet\"}], \"heatmap\": [{\"colorbar\": {\"outlinewidth\": 0, \"tickcolor\": \"rgb(36,36,36)\", \"ticklen\": 8, \"ticks\": \"outside\", \"tickwidth\": 2}, \"colorscale\": [[0.0, \"rgb(2,4,25)\"], [0.06274509803921569, \"rgb(24,15,41)\"], [0.12549019607843137, \"rgb(47,23,57)\"], [0.18823529411764706, \"rgb(71,28,72)\"], [0.25098039215686274, \"rgb(97,30,82)\"], [0.3137254901960784, \"rgb(123,30,89)\"], [0.3764705882352941, \"rgb(150,27,91)\"], [0.4392156862745098, \"rgb(177,22,88)\"], [0.5019607843137255, \"rgb(203,26,79)\"], [0.5647058823529412, \"rgb(223,47,67)\"], [0.6274509803921569, \"rgb(236,76,61)\"], [0.6901960784313725, \"rgb(242,107,73)\"], [0.7529411764705882, \"rgb(244,135,95)\"], [0.8156862745098039, \"rgb(245,162,122)\"], [0.8784313725490196, \"rgb(246,188,153)\"], [0.9411764705882353, \"rgb(247,212,187)\"], [1.0, \"rgb(250,234,220)\"]], \"type\": \"heatmap\"}], \"heatmapgl\": [{\"colorbar\": {\"outlinewidth\": 0, \"tickcolor\": \"rgb(36,36,36)\", \"ticklen\": 8, \"ticks\": \"outside\", \"tickwidth\": 2}, \"colorscale\": [[0.0, \"rgb(2,4,25)\"], [0.06274509803921569, \"rgb(24,15,41)\"], [0.12549019607843137, \"rgb(47,23,57)\"], [0.18823529411764706, \"rgb(71,28,72)\"], [0.25098039215686274, \"rgb(97,30,82)\"], [0.3137254901960784, \"rgb(123,30,89)\"], [0.3764705882352941, \"rgb(150,27,91)\"], [0.4392156862745098, \"rgb(177,22,88)\"], [0.5019607843137255, \"rgb(203,26,79)\"], [0.5647058823529412, \"rgb(223,47,67)\"], [0.6274509803921569, \"rgb(236,76,61)\"], [0.6901960784313725, \"rgb(242,107,73)\"], [0.7529411764705882, \"rgb(244,135,95)\"], [0.8156862745098039, \"rgb(245,162,122)\"], [0.8784313725490196, \"rgb(246,188,153)\"], [0.9411764705882353, \"rgb(247,212,187)\"], [1.0, \"rgb(250,234,220)\"]], \"type\": \"heatmapgl\"}], \"histogram\": [{\"marker\": {\"colorbar\": {\"outlinewidth\": 0, \"tickcolor\": \"rgb(36,36,36)\", \"ticklen\": 8, \"ticks\": \"outside\", \"tickwidth\": 2}}, \"type\": \"histogram\"}], \"histogram2d\": [{\"colorbar\": {\"outlinewidth\": 0, \"tickcolor\": \"rgb(36,36,36)\", \"ticklen\": 8, \"ticks\": \"outside\", \"tickwidth\": 2}, \"colorscale\": [[0.0, \"rgb(2,4,25)\"], [0.06274509803921569, \"rgb(24,15,41)\"], [0.12549019607843137, \"rgb(47,23,57)\"], [0.18823529411764706, \"rgb(71,28,72)\"], [0.25098039215686274, \"rgb(97,30,82)\"], [0.3137254901960784, \"rgb(123,30,89)\"], [0.3764705882352941, \"rgb(150,27,91)\"], [0.4392156862745098, \"rgb(177,22,88)\"], [0.5019607843137255, \"rgb(203,26,79)\"], [0.5647058823529412, \"rgb(223,47,67)\"], [0.6274509803921569, \"rgb(236,76,61)\"], [0.6901960784313725, \"rgb(242,107,73)\"], [0.7529411764705882, \"rgb(244,135,95)\"], [0.8156862745098039, \"rgb(245,162,122)\"], [0.8784313725490196, \"rgb(246,188,153)\"], [0.9411764705882353, \"rgb(247,212,187)\"], [1.0, \"rgb(250,234,220)\"]], \"type\": \"histogram2d\"}], \"histogram2dcontour\": [{\"colorbar\": {\"outlinewidth\": 0, \"tickcolor\": \"rgb(36,36,36)\", \"ticklen\": 8, \"ticks\": \"outside\", \"tickwidth\": 2}, \"colorscale\": [[0.0, \"rgb(2,4,25)\"], [0.06274509803921569, \"rgb(24,15,41)\"], [0.12549019607843137, \"rgb(47,23,57)\"], [0.18823529411764706, \"rgb(71,28,72)\"], [0.25098039215686274, \"rgb(97,30,82)\"], [0.3137254901960784, \"rgb(123,30,89)\"], [0.3764705882352941, \"rgb(150,27,91)\"], [0.4392156862745098, \"rgb(177,22,88)\"], [0.5019607843137255, \"rgb(203,26,79)\"], [0.5647058823529412, \"rgb(223,47,67)\"], [0.6274509803921569, \"rgb(236,76,61)\"], [0.6901960784313725, \"rgb(242,107,73)\"], [0.7529411764705882, \"rgb(244,135,95)\"], [0.8156862745098039, \"rgb(245,162,122)\"], [0.8784313725490196, \"rgb(246,188,153)\"], [0.9411764705882353, \"rgb(247,212,187)\"], [1.0, \"rgb(250,234,220)\"]], \"type\": \"histogram2dcontour\"}], \"mesh3d\": [{\"colorbar\": {\"outlinewidth\": 0, \"tickcolor\": \"rgb(36,36,36)\", \"ticklen\": 8, \"ticks\": \"outside\", \"tickwidth\": 2}, \"type\": \"mesh3d\"}], \"parcoords\": [{\"line\": {\"colorbar\": {\"outlinewidth\": 0, \"tickcolor\": \"rgb(36,36,36)\", \"ticklen\": 8, \"ticks\": \"outside\", \"tickwidth\": 2}}, \"type\": \"parcoords\"}], \"pie\": [{\"automargin\": true, \"type\": \"pie\"}], \"scatter\": [{\"marker\": {\"colorbar\": {\"outlinewidth\": 0, \"tickcolor\": \"rgb(36,36,36)\", \"ticklen\": 8, \"ticks\": \"outside\", \"tickwidth\": 2}}, \"type\": \"scatter\"}], \"scatter3d\": [{\"line\": {\"colorbar\": {\"outlinewidth\": 0, \"tickcolor\": \"rgb(36,36,36)\", \"ticklen\": 8, \"ticks\": \"outside\", \"tickwidth\": 2}}, \"marker\": {\"colorbar\": {\"outlinewidth\": 0, \"tickcolor\": \"rgb(36,36,36)\", \"ticklen\": 8, \"ticks\": \"outside\", \"tickwidth\": 2}}, \"type\": \"scatter3d\"}], \"scattercarpet\": [{\"marker\": {\"colorbar\": {\"outlinewidth\": 0, \"tickcolor\": \"rgb(36,36,36)\", \"ticklen\": 8, \"ticks\": \"outside\", \"tickwidth\": 2}}, \"type\": \"scattercarpet\"}], \"scattergeo\": [{\"marker\": {\"colorbar\": {\"outlinewidth\": 0, \"tickcolor\": \"rgb(36,36,36)\", \"ticklen\": 8, \"ticks\": \"outside\", \"tickwidth\": 2}}, \"type\": \"scattergeo\"}], \"scattergl\": [{\"marker\": {\"colorbar\": {\"outlinewidth\": 0, \"tickcolor\": \"rgb(36,36,36)\", \"ticklen\": 8, \"ticks\": \"outside\", \"tickwidth\": 2}}, \"type\": \"scattergl\"}], \"scattermapbox\": [{\"marker\": {\"colorbar\": {\"outlinewidth\": 0, \"tickcolor\": \"rgb(36,36,36)\", \"ticklen\": 8, \"ticks\": \"outside\", \"tickwidth\": 2}}, \"type\": \"scattermapbox\"}], \"scatterpolar\": [{\"marker\": {\"colorbar\": {\"outlinewidth\": 0, \"tickcolor\": \"rgb(36,36,36)\", \"ticklen\": 8, \"ticks\": \"outside\", \"tickwidth\": 2}}, \"type\": \"scatterpolar\"}], \"scatterpolargl\": [{\"marker\": {\"colorbar\": {\"outlinewidth\": 0, \"tickcolor\": \"rgb(36,36,36)\", \"ticklen\": 8, \"ticks\": \"outside\", \"tickwidth\": 2}}, \"type\": \"scatterpolargl\"}], \"scatterternary\": [{\"marker\": {\"colorbar\": {\"outlinewidth\": 0, \"tickcolor\": \"rgb(36,36,36)\", \"ticklen\": 8, \"ticks\": \"outside\", \"tickwidth\": 2}}, \"type\": \"scatterternary\"}], \"surface\": [{\"colorbar\": {\"outlinewidth\": 0, \"tickcolor\": \"rgb(36,36,36)\", \"ticklen\": 8, \"ticks\": \"outside\", \"tickwidth\": 2}, \"colorscale\": [[0.0, \"rgb(2,4,25)\"], [0.06274509803921569, \"rgb(24,15,41)\"], [0.12549019607843137, \"rgb(47,23,57)\"], [0.18823529411764706, \"rgb(71,28,72)\"], [0.25098039215686274, \"rgb(97,30,82)\"], [0.3137254901960784, \"rgb(123,30,89)\"], [0.3764705882352941, \"rgb(150,27,91)\"], [0.4392156862745098, \"rgb(177,22,88)\"], [0.5019607843137255, \"rgb(203,26,79)\"], [0.5647058823529412, \"rgb(223,47,67)\"], [0.6274509803921569, \"rgb(236,76,61)\"], [0.6901960784313725, \"rgb(242,107,73)\"], [0.7529411764705882, \"rgb(244,135,95)\"], [0.8156862745098039, \"rgb(245,162,122)\"], [0.8784313725490196, \"rgb(246,188,153)\"], [0.9411764705882353, \"rgb(247,212,187)\"], [1.0, \"rgb(250,234,220)\"]], \"type\": \"surface\"}], \"table\": [{\"cells\": {\"fill\": {\"color\": \"rgb(231,231,240)\"}, \"line\": {\"color\": \"white\"}}, \"header\": {\"fill\": {\"color\": \"rgb(183,183,191)\"}, \"line\": {\"color\": \"white\"}}, \"type\": \"table\"}]}, \"layout\": {\"annotationdefaults\": {\"arrowcolor\": \"rgb(67,103,167)\"}, \"coloraxis\": {\"colorbar\": {\"outlinewidth\": 0, \"tickcolor\": \"rgb(36,36,36)\", \"ticklen\": 8, \"ticks\": \"outside\", \"tickwidth\": 2}}, \"colorscale\": {\"sequential\": [[0.0, \"rgb(2,4,25)\"], [0.06274509803921569, \"rgb(24,15,41)\"], [0.12549019607843137, \"rgb(47,23,57)\"], [0.18823529411764706, \"rgb(71,28,72)\"], [0.25098039215686274, \"rgb(97,30,82)\"], [0.3137254901960784, \"rgb(123,30,89)\"], [0.3764705882352941, \"rgb(150,27,91)\"], [0.4392156862745098, \"rgb(177,22,88)\"], [0.5019607843137255, \"rgb(203,26,79)\"], [0.5647058823529412, \"rgb(223,47,67)\"], [0.6274509803921569, \"rgb(236,76,61)\"], [0.6901960784313725, \"rgb(242,107,73)\"], [0.7529411764705882, \"rgb(244,135,95)\"], [0.8156862745098039, \"rgb(245,162,122)\"], [0.8784313725490196, \"rgb(246,188,153)\"], [0.9411764705882353, \"rgb(247,212,187)\"], [1.0, \"rgb(250,234,220)\"]], \"sequentialminus\": [[0.0, \"rgb(2,4,25)\"], [0.06274509803921569, \"rgb(24,15,41)\"], [0.12549019607843137, \"rgb(47,23,57)\"], [0.18823529411764706, \"rgb(71,28,72)\"], [0.25098039215686274, \"rgb(97,30,82)\"], [0.3137254901960784, \"rgb(123,30,89)\"], [0.3764705882352941, \"rgb(150,27,91)\"], [0.4392156862745098, \"rgb(177,22,88)\"], [0.5019607843137255, \"rgb(203,26,79)\"], [0.5647058823529412, \"rgb(223,47,67)\"], [0.6274509803921569, \"rgb(236,76,61)\"], [0.6901960784313725, \"rgb(242,107,73)\"], [0.7529411764705882, \"rgb(244,135,95)\"], [0.8156862745098039, \"rgb(245,162,122)\"], [0.8784313725490196, \"rgb(246,188,153)\"], [0.9411764705882353, \"rgb(247,212,187)\"], [1.0, \"rgb(250,234,220)\"]]}, \"colorway\": [\"rgb(76,114,176)\", \"rgb(221,132,82)\", \"rgb(85,168,104)\", \"rgb(196,78,82)\", \"rgb(129,114,179)\", \"rgb(147,120,96)\", \"rgb(218,139,195)\", \"rgb(140,140,140)\", \"rgb(204,185,116)\", \"rgb(100,181,205)\"], \"font\": {\"color\": \"rgb(36,36,36)\"}, \"geo\": {\"bgcolor\": \"white\", \"lakecolor\": \"white\", \"landcolor\": \"rgb(234,234,242)\", \"showlakes\": true, \"showland\": true, \"subunitcolor\": \"white\"}, \"hoverlabel\": {\"align\": \"left\"}, \"hovermode\": \"closest\", \"paper_bgcolor\": \"white\", \"plot_bgcolor\": \"rgb(234,234,242)\", \"polar\": {\"angularaxis\": {\"gridcolor\": \"white\", \"linecolor\": \"white\", \"showgrid\": true, \"ticks\": \"\"}, \"bgcolor\": \"rgb(234,234,242)\", \"radialaxis\": {\"gridcolor\": \"white\", \"linecolor\": \"white\", \"showgrid\": true, \"ticks\": \"\"}}, \"scene\": {\"xaxis\": {\"backgroundcolor\": \"rgb(234,234,242)\", \"gridcolor\": \"white\", \"gridwidth\": 2, \"linecolor\": \"white\", \"showbackground\": true, \"showgrid\": true, \"ticks\": \"\", \"zerolinecolor\": \"white\"}, \"yaxis\": {\"backgroundcolor\": \"rgb(234,234,242)\", \"gridcolor\": \"white\", \"gridwidth\": 2, \"linecolor\": \"white\", \"showbackground\": true, \"showgrid\": true, \"ticks\": \"\", \"zerolinecolor\": \"white\"}, \"zaxis\": {\"backgroundcolor\": \"rgb(234,234,242)\", \"gridcolor\": \"white\", \"gridwidth\": 2, \"linecolor\": \"white\", \"showbackground\": true, \"showgrid\": true, \"ticks\": \"\", \"zerolinecolor\": \"white\"}}, \"shapedefaults\": {\"fillcolor\": \"rgb(67,103,167)\", \"line\": {\"width\": 0}, \"opacity\": 0.5}, \"ternary\": {\"aaxis\": {\"gridcolor\": \"white\", \"linecolor\": \"white\", \"showgrid\": true, \"ticks\": \"\"}, \"baxis\": {\"gridcolor\": \"white\", \"linecolor\": \"white\", \"showgrid\": true, \"ticks\": \"\"}, \"bgcolor\": \"rgb(234,234,242)\", \"caxis\": {\"gridcolor\": \"white\", \"linecolor\": \"white\", \"showgrid\": true, \"ticks\": \"\"}}, \"xaxis\": {\"automargin\": true, \"gridcolor\": \"white\", \"linecolor\": \"white\", \"showgrid\": true, \"ticks\": \"\", \"title\": {\"standoff\": 15}, \"zerolinecolor\": \"white\"}, \"yaxis\": {\"automargin\": true, \"gridcolor\": \"white\", \"linecolor\": \"white\", \"showgrid\": true, \"ticks\": \"\", \"title\": {\"standoff\": 15}, \"zerolinecolor\": \"white\"}}}, \"title\": {\"font\": {\"family\": \"Times New Roman\", \"size\": 30}, \"x\": 0.5, \"y\": 0.98}, \"width\": 1100, \"xaxis\": {\"anchor\": \"y\", \"domain\": [0.0, 0.09135802469135802], \"showgrid\": false, \"tickangle\": 0, \"tickfont\": {\"size\": 15}, \"ticks\": \"outside\", \"title\": {\"text\": \"Dropout\"}, \"zeroline\": false}, \"xaxis2\": {\"anchor\": \"y2\", \"domain\": [0.11358024691358025, 0.20493827160493827], \"showgrid\": false, \"tickangle\": 0, \"tickfont\": {\"size\": 15}, \"ticks\": \"outside\", \"title\": {\"text\": \"Freq. Bins\"}, \"zeroline\": false}, \"xaxis3\": {\"anchor\": \"y3\", \"domain\": [0.2271604938271605, 0.31851851851851853], \"showgrid\": false, \"tickangle\": 0, \"tickfont\": {\"size\": 15}, \"ticks\": \"outside\", \"title\": {\"text\": \"Hidden\"}, \"zeroline\": false}, \"xaxis4\": {\"anchor\": \"y4\", \"domain\": [0.34074074074074073, 0.43209876543209874], \"showgrid\": false, \"tickangle\": 0, \"tickfont\": {\"size\": 15}, \"ticks\": \"outside\", \"title\": {\"text\": \"L2 Regular.\"}, \"type\": \"log\", \"zeroline\": false}, \"xaxis5\": {\"anchor\": \"y5\", \"domain\": [0.454320987654321, 0.5456790123456791], \"showgrid\": false, \"tickangle\": 0, \"tickfont\": {\"size\": 15}, \"ticks\": \"outside\", \"title\": {\"text\": \"Latent Size\"}, \"zeroline\": false}, \"xaxis6\": {\"anchor\": \"y6\", \"domain\": [0.5679012345679012, 0.6592592592592592], \"showgrid\": false, \"tickangle\": 0, \"tickfont\": {\"size\": 15}, \"ticks\": \"outside\", \"title\": {\"text\": \"Learn. Rate\"}, \"zeroline\": false}, \"xaxis7\": {\"anchor\": \"y7\", \"domain\": [0.6814814814814815, 0.7728395061728395], \"showgrid\": false, \"tickangle\": 0, \"tickfont\": {\"size\": 15}, \"ticks\": \"outside\", \"title\": {\"text\": \"Model Type\"}, \"zeroline\": false}, \"xaxis8\": {\"anchor\": \"y8\", \"domain\": [0.7950617283950617, 0.8864197530864197], \"showgrid\": false, \"tickangle\": 0, \"tickfont\": {\"size\": 15}, \"ticks\": \"outside\", \"title\": {\"text\": \"Optimizer\"}, \"zeroline\": false}, \"xaxis9\": {\"anchor\": \"y9\", \"domain\": [0.908641975308642, 1.0], \"showgrid\": false, \"tickangle\": 0, \"tickfont\": {\"size\": 15}, \"ticks\": \"outside\", \"title\": {\"text\": \"Time Steps\"}, \"zeroline\": false}, \"yaxis\": {\"anchor\": \"x\", \"domain\": [0.0, 1.0], \"showgrid\": false, \"tickangle\": 0, \"tickfont\": {\"size\": 17}, \"title\": {\"text\": \"Loss\"}}, \"yaxis2\": {\"anchor\": \"x2\", \"domain\": [0.0, 1.0], \"matches\": \"y\", \"showgrid\": false, \"showticklabels\": false, \"tickangle\": 0, \"tickfont\": {\"size\": 17}}, \"yaxis3\": {\"anchor\": \"x3\", \"domain\": [0.0, 1.0], \"matches\": \"y\", \"showgrid\": false, \"showticklabels\": false, \"tickangle\": 0, \"tickfont\": {\"size\": 17}}, \"yaxis4\": {\"anchor\": \"x4\", \"domain\": [0.0, 1.0], \"matches\": \"y\", \"showgrid\": false, \"showticklabels\": false, \"tickangle\": 0, \"tickfont\": {\"size\": 17}}, \"yaxis5\": {\"anchor\": \"x5\", \"domain\": [0.0, 1.0], \"matches\": \"y\", \"showgrid\": false, \"showticklabels\": false, \"tickangle\": 0, \"tickfont\": {\"size\": 17}}, \"yaxis6\": {\"anchor\": \"x6\", \"domain\": [0.0, 1.0], \"matches\": \"y\", \"showgrid\": false, \"showticklabels\": false, \"tickangle\": 0, \"tickfont\": {\"size\": 17}}, \"yaxis7\": {\"anchor\": \"x7\", \"domain\": [0.0, 1.0], \"matches\": \"y\", \"showgrid\": false, \"showticklabels\": false, \"tickangle\": 0, \"tickfont\": {\"size\": 17}}, \"yaxis8\": {\"anchor\": \"x8\", \"domain\": [0.0, 1.0], \"matches\": \"y\", \"showgrid\": false, \"showticklabels\": false, \"tickangle\": 0, \"tickfont\": {\"size\": 17}}, \"yaxis9\": {\"anchor\": \"x9\", \"domain\": [0.0, 1.0], \"matches\": \"y\", \"showgrid\": false, \"showticklabels\": false, \"tickangle\": 0, \"tickfont\": {\"size\": 17}}},\n",
       "                        {\"responsive\": true}\n",
       "                    ).then(function(){\n",
       "                            \n",
       "var gd = document.getElementById('32a6257c-2227-4c43-a08a-165f33b414ff');\n",
       "var x = new MutationObserver(function (mutations, observer) {{\n",
       "        var display = window.getComputedStyle(gd).display;\n",
       "        if (!display || display === 'none') {{\n",
       "            console.log([gd, 'removed!']);\n",
       "            Plotly.purge(gd);\n",
       "            observer.disconnect();\n",
       "        }}\n",
       "}});\n",
       "\n",
       "// Listen for the removal of the full notebook cells\n",
       "var notebookContainer = gd.closest('#notebook-container');\n",
       "if (notebookContainer) {{\n",
       "    x.observe(notebookContainer, {childList: true});\n",
       "}}\n",
       "\n",
       "// Listen for the clearing of the current output cell\n",
       "var outputEl = gd.closest('.output');\n",
       "if (outputEl) {{\n",
       "    x.observe(outputEl, {childList: true});\n",
       "}}\n",
       "\n",
       "                        })\n",
       "                };\n",
       "                });\n",
       "            </script>\n",
       "        </div>"
      ]
     },
     "metadata": {},
     "output_type": "display_data"
    }
   ],
   "source": [
    "imp.reload(cplot)\n",
    "fig=cplot.get_slice_plot(study,objective_value=\"Loss\",log_loss=False)\n",
    "fig.update_layout(\n",
    "    autosize=False,title_text='Loss vs Hyper-Parameter Slice Plot',title=None, title_x=0.5, title_y=0.98,\n",
    "    template=\"seaborn\",\n",
    "    width=1100,height=400,\n",
    "    font_family=\"Times New Roman\",\n",
    "    font_size=15,\n",
    "    title_font_family=\"Times New Roman\",\n",
    "    title_font_size=30,\n",
    "    margin=dict(l=0, t=5,r=1,  b=10),                                   \n",
    "    )\n",
    "\n",
    "fig.update_xaxes(showgrid=False,zeroline=False,tickangle=0, tickfont=dict(size=15),)\n",
    "\n",
    "fig.update_yaxes(showgrid=False,tickangle=0, tickfont=dict(size=17),)\n",
    "\n",
    "fig.update_traces(marker=dict(colorscale=icy))\n",
    "\n",
    "with open(\"slice_plotround2.pdf\", \"wb\") as f:\n",
    "    f.write(scope.transform(fig, format=\"pdf\", width=1100,height=420,))\n",
    "\n",
    "fig\n"
   ]
  },
  {
   "cell_type": "code",
   "execution_count": 40,
   "metadata": {},
   "outputs": [
    {
     "name": "stdout",
     "output_type": "stream",
     "text": [
      "['rgb(39, 26, 44)', 'rgb(54, 43, 77)', 'rgb(64, 60, 115)', 'rgb(62, 82, 143)', 'rgb(62, 108, 150)', 'rgb(68, 130, 155)', 'rgb(76, 153, 160)', 'rgb(86, 177, 163)', 'rgb(111, 201, 163)', '#338866', 'rgb(206, 236, 179)', 'rgb(253, 253, 204)']\n"
     ]
    },
    {
     "data": {
      "application/vnd.plotly.v1+json": {
       "config": {
        "plotlyServerURL": "https://plot.ly"
       },
       "data": [
        {
         "marker": {
          "color": "rgb(39, 26, 44)",
          "maxdisplayed": 10,
          "size": 10,
          "symbol": 0
         },
         "mode": "lines+markers",
         "name": "Trial1",
         "type": "scatter",
         "x": [
          0,
          1,
          2,
          3
         ],
         "y": [
          0.002461668737924884,
          0.0024710689101846437,
          0.002426425542531384,
          0.0024719670528193585
         ]
        },
        {
         "marker": {
          "color": "rgb(54, 43, 77)",
          "maxdisplayed": 10,
          "size": 10,
          "symbol": 1
         },
         "mode": "lines+markers",
         "name": "Trial6",
         "type": "scatter",
         "x": [
          0,
          1,
          2,
          3
         ],
         "y": [
          0.002428852240366207,
          0.0023879115689998945,
          0.0023974414405136093,
          0.0024031549786544732
         ]
        },
        {
         "marker": {
          "color": "rgb(64, 60, 115)",
          "maxdisplayed": 10,
          "size": 10,
          "symbol": 2
         },
         "mode": "lines+markers",
         "name": "Trial40",
         "type": "scatter",
         "x": [
          0,
          1,
          2,
          3
         ],
         "y": [
          0.0036037705620008244,
          0.0021645634618392717,
          0.001837677406493222,
          0.0017289507369561172
         ]
        },
        {
         "marker": {
          "color": "rgb(62, 82, 143)",
          "maxdisplayed": 10,
          "size": 10,
          "symbol": 3
         },
         "mode": "lines+markers",
         "name": "Trial49",
         "type": "scatter",
         "x": [
          0,
          1,
          2,
          3
         ],
         "y": [
          0.0025021240376313595,
          0.002461587601165111,
          0.002557179137019793,
          0.002526282927499631
         ]
        },
        {
         "marker": {
          "color": "rgb(62, 108, 150)",
          "maxdisplayed": 10,
          "size": 10,
          "symbol": 8
         },
         "mode": "lines+markers",
         "name": "Trial54",
         "type": "scatter",
         "x": [
          0,
          1,
          2,
          3
         ],
         "y": [
          0.002337080390331008,
          0.0021171256682734835,
          0.0022423733387620668,
          0.002149103005649522
         ]
        },
        {
         "marker": {
          "color": "rgb(68, 130, 155)",
          "maxdisplayed": 10,
          "size": 10,
          "symbol": 10
         },
         "mode": "lines+markers",
         "name": "Trial64",
         "type": "scatter",
         "x": [
          0,
          1,
          2,
          3
         ],
         "y": [
          0.002432171909793003,
          0.002416621906229773,
          0.0024470860544415947,
          0.002445549260497697
         ]
        },
        {
         "marker": {
          "color": "rgb(76, 153, 160)",
          "maxdisplayed": 10,
          "size": 10,
          "symbol": 12
         },
         "mode": "lines+markers",
         "name": "Trial70",
         "type": "scatter",
         "x": [
          0,
          1,
          2,
          3
         ],
         "y": [
          0.002526161599136587,
          0.0025532866208310668,
          0.0025223743318378723,
          0.002545493149915962
         ]
        },
        {
         "marker": {
          "color": "rgb(86, 177, 163)",
          "maxdisplayed": 10,
          "size": 10,
          "symbol": 14
         },
         "mode": "lines+markers",
         "name": "Trial82",
         "type": "scatter",
         "x": [
          0,
          1,
          2,
          3
         ],
         "y": [
          0.0032763156593097627,
          0.002918750994738091,
          0.002777195068365718,
          0.002716551177719658
         ]
        },
        {
         "marker": {
          "color": "rgb(111, 201, 163)",
          "maxdisplayed": 10,
          "size": 10,
          "symbol": 16
         },
         "mode": "lines+markers",
         "name": "Trial83",
         "type": "scatter",
         "x": [
          0,
          1,
          2,
          3
         ],
         "y": [
          0.0024853476946166643,
          0.00247570058972751,
          0.0024782597052713704,
          0.0025343818832314698
         ]
        }
       ],
       "layout": {
        "autosize": false,
        "font": {
         "family": "Times New Roman",
         "size": 18
        },
        "height": 500,
        "legend": {
         "bgcolor": "rgba(220,220,230,0.8)",
         "orientation": "v",
         "title": {
          "text": "Trial #"
         },
         "x": 1,
         "xanchor": "right",
         "y": 1,
         "yanchor": "top"
        },
        "margin": {
         "b": 1,
         "l": 0,
         "r": 1,
         "t": 5
        },
        "template": {
         "data": {
          "bar": [
           {
            "error_x": {
             "color": "rgb(36,36,36)"
            },
            "error_y": {
             "color": "rgb(36,36,36)"
            },
            "marker": {
             "line": {
              "color": "rgb(234,234,242)",
              "width": 0.5
             }
            },
            "type": "bar"
           }
          ],
          "barpolar": [
           {
            "marker": {
             "line": {
              "color": "rgb(234,234,242)",
              "width": 0.5
             }
            },
            "type": "barpolar"
           }
          ],
          "carpet": [
           {
            "aaxis": {
             "endlinecolor": "rgb(36,36,36)",
             "gridcolor": "white",
             "linecolor": "white",
             "minorgridcolor": "white",
             "startlinecolor": "rgb(36,36,36)"
            },
            "baxis": {
             "endlinecolor": "rgb(36,36,36)",
             "gridcolor": "white",
             "linecolor": "white",
             "minorgridcolor": "white",
             "startlinecolor": "rgb(36,36,36)"
            },
            "type": "carpet"
           }
          ],
          "choropleth": [
           {
            "colorbar": {
             "outlinewidth": 0,
             "tickcolor": "rgb(36,36,36)",
             "ticklen": 8,
             "ticks": "outside",
             "tickwidth": 2
            },
            "type": "choropleth"
           }
          ],
          "contour": [
           {
            "colorbar": {
             "outlinewidth": 0,
             "tickcolor": "rgb(36,36,36)",
             "ticklen": 8,
             "ticks": "outside",
             "tickwidth": 2
            },
            "colorscale": [
             [
              0,
              "rgb(2,4,25)"
             ],
             [
              0.06274509803921569,
              "rgb(24,15,41)"
             ],
             [
              0.12549019607843137,
              "rgb(47,23,57)"
             ],
             [
              0.18823529411764706,
              "rgb(71,28,72)"
             ],
             [
              0.25098039215686274,
              "rgb(97,30,82)"
             ],
             [
              0.3137254901960784,
              "rgb(123,30,89)"
             ],
             [
              0.3764705882352941,
              "rgb(150,27,91)"
             ],
             [
              0.4392156862745098,
              "rgb(177,22,88)"
             ],
             [
              0.5019607843137255,
              "rgb(203,26,79)"
             ],
             [
              0.5647058823529412,
              "rgb(223,47,67)"
             ],
             [
              0.6274509803921569,
              "rgb(236,76,61)"
             ],
             [
              0.6901960784313725,
              "rgb(242,107,73)"
             ],
             [
              0.7529411764705882,
              "rgb(244,135,95)"
             ],
             [
              0.8156862745098039,
              "rgb(245,162,122)"
             ],
             [
              0.8784313725490196,
              "rgb(246,188,153)"
             ],
             [
              0.9411764705882353,
              "rgb(247,212,187)"
             ],
             [
              1,
              "rgb(250,234,220)"
             ]
            ],
            "type": "contour"
           }
          ],
          "contourcarpet": [
           {
            "colorbar": {
             "outlinewidth": 0,
             "tickcolor": "rgb(36,36,36)",
             "ticklen": 8,
             "ticks": "outside",
             "tickwidth": 2
            },
            "type": "contourcarpet"
           }
          ],
          "heatmap": [
           {
            "colorbar": {
             "outlinewidth": 0,
             "tickcolor": "rgb(36,36,36)",
             "ticklen": 8,
             "ticks": "outside",
             "tickwidth": 2
            },
            "colorscale": [
             [
              0,
              "rgb(2,4,25)"
             ],
             [
              0.06274509803921569,
              "rgb(24,15,41)"
             ],
             [
              0.12549019607843137,
              "rgb(47,23,57)"
             ],
             [
              0.18823529411764706,
              "rgb(71,28,72)"
             ],
             [
              0.25098039215686274,
              "rgb(97,30,82)"
             ],
             [
              0.3137254901960784,
              "rgb(123,30,89)"
             ],
             [
              0.3764705882352941,
              "rgb(150,27,91)"
             ],
             [
              0.4392156862745098,
              "rgb(177,22,88)"
             ],
             [
              0.5019607843137255,
              "rgb(203,26,79)"
             ],
             [
              0.5647058823529412,
              "rgb(223,47,67)"
             ],
             [
              0.6274509803921569,
              "rgb(236,76,61)"
             ],
             [
              0.6901960784313725,
              "rgb(242,107,73)"
             ],
             [
              0.7529411764705882,
              "rgb(244,135,95)"
             ],
             [
              0.8156862745098039,
              "rgb(245,162,122)"
             ],
             [
              0.8784313725490196,
              "rgb(246,188,153)"
             ],
             [
              0.9411764705882353,
              "rgb(247,212,187)"
             ],
             [
              1,
              "rgb(250,234,220)"
             ]
            ],
            "type": "heatmap"
           }
          ],
          "heatmapgl": [
           {
            "colorbar": {
             "outlinewidth": 0,
             "tickcolor": "rgb(36,36,36)",
             "ticklen": 8,
             "ticks": "outside",
             "tickwidth": 2
            },
            "colorscale": [
             [
              0,
              "rgb(2,4,25)"
             ],
             [
              0.06274509803921569,
              "rgb(24,15,41)"
             ],
             [
              0.12549019607843137,
              "rgb(47,23,57)"
             ],
             [
              0.18823529411764706,
              "rgb(71,28,72)"
             ],
             [
              0.25098039215686274,
              "rgb(97,30,82)"
             ],
             [
              0.3137254901960784,
              "rgb(123,30,89)"
             ],
             [
              0.3764705882352941,
              "rgb(150,27,91)"
             ],
             [
              0.4392156862745098,
              "rgb(177,22,88)"
             ],
             [
              0.5019607843137255,
              "rgb(203,26,79)"
             ],
             [
              0.5647058823529412,
              "rgb(223,47,67)"
             ],
             [
              0.6274509803921569,
              "rgb(236,76,61)"
             ],
             [
              0.6901960784313725,
              "rgb(242,107,73)"
             ],
             [
              0.7529411764705882,
              "rgb(244,135,95)"
             ],
             [
              0.8156862745098039,
              "rgb(245,162,122)"
             ],
             [
              0.8784313725490196,
              "rgb(246,188,153)"
             ],
             [
              0.9411764705882353,
              "rgb(247,212,187)"
             ],
             [
              1,
              "rgb(250,234,220)"
             ]
            ],
            "type": "heatmapgl"
           }
          ],
          "histogram": [
           {
            "marker": {
             "colorbar": {
              "outlinewidth": 0,
              "tickcolor": "rgb(36,36,36)",
              "ticklen": 8,
              "ticks": "outside",
              "tickwidth": 2
             }
            },
            "type": "histogram"
           }
          ],
          "histogram2d": [
           {
            "colorbar": {
             "outlinewidth": 0,
             "tickcolor": "rgb(36,36,36)",
             "ticklen": 8,
             "ticks": "outside",
             "tickwidth": 2
            },
            "colorscale": [
             [
              0,
              "rgb(2,4,25)"
             ],
             [
              0.06274509803921569,
              "rgb(24,15,41)"
             ],
             [
              0.12549019607843137,
              "rgb(47,23,57)"
             ],
             [
              0.18823529411764706,
              "rgb(71,28,72)"
             ],
             [
              0.25098039215686274,
              "rgb(97,30,82)"
             ],
             [
              0.3137254901960784,
              "rgb(123,30,89)"
             ],
             [
              0.3764705882352941,
              "rgb(150,27,91)"
             ],
             [
              0.4392156862745098,
              "rgb(177,22,88)"
             ],
             [
              0.5019607843137255,
              "rgb(203,26,79)"
             ],
             [
              0.5647058823529412,
              "rgb(223,47,67)"
             ],
             [
              0.6274509803921569,
              "rgb(236,76,61)"
             ],
             [
              0.6901960784313725,
              "rgb(242,107,73)"
             ],
             [
              0.7529411764705882,
              "rgb(244,135,95)"
             ],
             [
              0.8156862745098039,
              "rgb(245,162,122)"
             ],
             [
              0.8784313725490196,
              "rgb(246,188,153)"
             ],
             [
              0.9411764705882353,
              "rgb(247,212,187)"
             ],
             [
              1,
              "rgb(250,234,220)"
             ]
            ],
            "type": "histogram2d"
           }
          ],
          "histogram2dcontour": [
           {
            "colorbar": {
             "outlinewidth": 0,
             "tickcolor": "rgb(36,36,36)",
             "ticklen": 8,
             "ticks": "outside",
             "tickwidth": 2
            },
            "colorscale": [
             [
              0,
              "rgb(2,4,25)"
             ],
             [
              0.06274509803921569,
              "rgb(24,15,41)"
             ],
             [
              0.12549019607843137,
              "rgb(47,23,57)"
             ],
             [
              0.18823529411764706,
              "rgb(71,28,72)"
             ],
             [
              0.25098039215686274,
              "rgb(97,30,82)"
             ],
             [
              0.3137254901960784,
              "rgb(123,30,89)"
             ],
             [
              0.3764705882352941,
              "rgb(150,27,91)"
             ],
             [
              0.4392156862745098,
              "rgb(177,22,88)"
             ],
             [
              0.5019607843137255,
              "rgb(203,26,79)"
             ],
             [
              0.5647058823529412,
              "rgb(223,47,67)"
             ],
             [
              0.6274509803921569,
              "rgb(236,76,61)"
             ],
             [
              0.6901960784313725,
              "rgb(242,107,73)"
             ],
             [
              0.7529411764705882,
              "rgb(244,135,95)"
             ],
             [
              0.8156862745098039,
              "rgb(245,162,122)"
             ],
             [
              0.8784313725490196,
              "rgb(246,188,153)"
             ],
             [
              0.9411764705882353,
              "rgb(247,212,187)"
             ],
             [
              1,
              "rgb(250,234,220)"
             ]
            ],
            "type": "histogram2dcontour"
           }
          ],
          "mesh3d": [
           {
            "colorbar": {
             "outlinewidth": 0,
             "tickcolor": "rgb(36,36,36)",
             "ticklen": 8,
             "ticks": "outside",
             "tickwidth": 2
            },
            "type": "mesh3d"
           }
          ],
          "parcoords": [
           {
            "line": {
             "colorbar": {
              "outlinewidth": 0,
              "tickcolor": "rgb(36,36,36)",
              "ticklen": 8,
              "ticks": "outside",
              "tickwidth": 2
             }
            },
            "type": "parcoords"
           }
          ],
          "pie": [
           {
            "automargin": true,
            "type": "pie"
           }
          ],
          "scatter": [
           {
            "marker": {
             "colorbar": {
              "outlinewidth": 0,
              "tickcolor": "rgb(36,36,36)",
              "ticklen": 8,
              "ticks": "outside",
              "tickwidth": 2
             }
            },
            "type": "scatter"
           }
          ],
          "scatter3d": [
           {
            "line": {
             "colorbar": {
              "outlinewidth": 0,
              "tickcolor": "rgb(36,36,36)",
              "ticklen": 8,
              "ticks": "outside",
              "tickwidth": 2
             }
            },
            "marker": {
             "colorbar": {
              "outlinewidth": 0,
              "tickcolor": "rgb(36,36,36)",
              "ticklen": 8,
              "ticks": "outside",
              "tickwidth": 2
             }
            },
            "type": "scatter3d"
           }
          ],
          "scattercarpet": [
           {
            "marker": {
             "colorbar": {
              "outlinewidth": 0,
              "tickcolor": "rgb(36,36,36)",
              "ticklen": 8,
              "ticks": "outside",
              "tickwidth": 2
             }
            },
            "type": "scattercarpet"
           }
          ],
          "scattergeo": [
           {
            "marker": {
             "colorbar": {
              "outlinewidth": 0,
              "tickcolor": "rgb(36,36,36)",
              "ticklen": 8,
              "ticks": "outside",
              "tickwidth": 2
             }
            },
            "type": "scattergeo"
           }
          ],
          "scattergl": [
           {
            "marker": {
             "colorbar": {
              "outlinewidth": 0,
              "tickcolor": "rgb(36,36,36)",
              "ticklen": 8,
              "ticks": "outside",
              "tickwidth": 2
             }
            },
            "type": "scattergl"
           }
          ],
          "scattermapbox": [
           {
            "marker": {
             "colorbar": {
              "outlinewidth": 0,
              "tickcolor": "rgb(36,36,36)",
              "ticklen": 8,
              "ticks": "outside",
              "tickwidth": 2
             }
            },
            "type": "scattermapbox"
           }
          ],
          "scatterpolar": [
           {
            "marker": {
             "colorbar": {
              "outlinewidth": 0,
              "tickcolor": "rgb(36,36,36)",
              "ticklen": 8,
              "ticks": "outside",
              "tickwidth": 2
             }
            },
            "type": "scatterpolar"
           }
          ],
          "scatterpolargl": [
           {
            "marker": {
             "colorbar": {
              "outlinewidth": 0,
              "tickcolor": "rgb(36,36,36)",
              "ticklen": 8,
              "ticks": "outside",
              "tickwidth": 2
             }
            },
            "type": "scatterpolargl"
           }
          ],
          "scatterternary": [
           {
            "marker": {
             "colorbar": {
              "outlinewidth": 0,
              "tickcolor": "rgb(36,36,36)",
              "ticklen": 8,
              "ticks": "outside",
              "tickwidth": 2
             }
            },
            "type": "scatterternary"
           }
          ],
          "surface": [
           {
            "colorbar": {
             "outlinewidth": 0,
             "tickcolor": "rgb(36,36,36)",
             "ticklen": 8,
             "ticks": "outside",
             "tickwidth": 2
            },
            "colorscale": [
             [
              0,
              "rgb(2,4,25)"
             ],
             [
              0.06274509803921569,
              "rgb(24,15,41)"
             ],
             [
              0.12549019607843137,
              "rgb(47,23,57)"
             ],
             [
              0.18823529411764706,
              "rgb(71,28,72)"
             ],
             [
              0.25098039215686274,
              "rgb(97,30,82)"
             ],
             [
              0.3137254901960784,
              "rgb(123,30,89)"
             ],
             [
              0.3764705882352941,
              "rgb(150,27,91)"
             ],
             [
              0.4392156862745098,
              "rgb(177,22,88)"
             ],
             [
              0.5019607843137255,
              "rgb(203,26,79)"
             ],
             [
              0.5647058823529412,
              "rgb(223,47,67)"
             ],
             [
              0.6274509803921569,
              "rgb(236,76,61)"
             ],
             [
              0.6901960784313725,
              "rgb(242,107,73)"
             ],
             [
              0.7529411764705882,
              "rgb(244,135,95)"
             ],
             [
              0.8156862745098039,
              "rgb(245,162,122)"
             ],
             [
              0.8784313725490196,
              "rgb(246,188,153)"
             ],
             [
              0.9411764705882353,
              "rgb(247,212,187)"
             ],
             [
              1,
              "rgb(250,234,220)"
             ]
            ],
            "type": "surface"
           }
          ],
          "table": [
           {
            "cells": {
             "fill": {
              "color": "rgb(231,231,240)"
             },
             "line": {
              "color": "white"
             }
            },
            "header": {
             "fill": {
              "color": "rgb(183,183,191)"
             },
             "line": {
              "color": "white"
             }
            },
            "type": "table"
           }
          ]
         },
         "layout": {
          "annotationdefaults": {
           "arrowcolor": "rgb(67,103,167)"
          },
          "coloraxis": {
           "colorbar": {
            "outlinewidth": 0,
            "tickcolor": "rgb(36,36,36)",
            "ticklen": 8,
            "ticks": "outside",
            "tickwidth": 2
           }
          },
          "colorscale": {
           "sequential": [
            [
             0,
             "rgb(2,4,25)"
            ],
            [
             0.06274509803921569,
             "rgb(24,15,41)"
            ],
            [
             0.12549019607843137,
             "rgb(47,23,57)"
            ],
            [
             0.18823529411764706,
             "rgb(71,28,72)"
            ],
            [
             0.25098039215686274,
             "rgb(97,30,82)"
            ],
            [
             0.3137254901960784,
             "rgb(123,30,89)"
            ],
            [
             0.3764705882352941,
             "rgb(150,27,91)"
            ],
            [
             0.4392156862745098,
             "rgb(177,22,88)"
            ],
            [
             0.5019607843137255,
             "rgb(203,26,79)"
            ],
            [
             0.5647058823529412,
             "rgb(223,47,67)"
            ],
            [
             0.6274509803921569,
             "rgb(236,76,61)"
            ],
            [
             0.6901960784313725,
             "rgb(242,107,73)"
            ],
            [
             0.7529411764705882,
             "rgb(244,135,95)"
            ],
            [
             0.8156862745098039,
             "rgb(245,162,122)"
            ],
            [
             0.8784313725490196,
             "rgb(246,188,153)"
            ],
            [
             0.9411764705882353,
             "rgb(247,212,187)"
            ],
            [
             1,
             "rgb(250,234,220)"
            ]
           ],
           "sequentialminus": [
            [
             0,
             "rgb(2,4,25)"
            ],
            [
             0.06274509803921569,
             "rgb(24,15,41)"
            ],
            [
             0.12549019607843137,
             "rgb(47,23,57)"
            ],
            [
             0.18823529411764706,
             "rgb(71,28,72)"
            ],
            [
             0.25098039215686274,
             "rgb(97,30,82)"
            ],
            [
             0.3137254901960784,
             "rgb(123,30,89)"
            ],
            [
             0.3764705882352941,
             "rgb(150,27,91)"
            ],
            [
             0.4392156862745098,
             "rgb(177,22,88)"
            ],
            [
             0.5019607843137255,
             "rgb(203,26,79)"
            ],
            [
             0.5647058823529412,
             "rgb(223,47,67)"
            ],
            [
             0.6274509803921569,
             "rgb(236,76,61)"
            ],
            [
             0.6901960784313725,
             "rgb(242,107,73)"
            ],
            [
             0.7529411764705882,
             "rgb(244,135,95)"
            ],
            [
             0.8156862745098039,
             "rgb(245,162,122)"
            ],
            [
             0.8784313725490196,
             "rgb(246,188,153)"
            ],
            [
             0.9411764705882353,
             "rgb(247,212,187)"
            ],
            [
             1,
             "rgb(250,234,220)"
            ]
           ]
          },
          "colorway": [
           "rgb(76,114,176)",
           "rgb(221,132,82)",
           "rgb(85,168,104)",
           "rgb(196,78,82)",
           "rgb(129,114,179)",
           "rgb(147,120,96)",
           "rgb(218,139,195)",
           "rgb(140,140,140)",
           "rgb(204,185,116)",
           "rgb(100,181,205)"
          ],
          "font": {
           "color": "rgb(36,36,36)"
          },
          "geo": {
           "bgcolor": "white",
           "lakecolor": "white",
           "landcolor": "rgb(234,234,242)",
           "showlakes": true,
           "showland": true,
           "subunitcolor": "white"
          },
          "hoverlabel": {
           "align": "left"
          },
          "hovermode": "closest",
          "paper_bgcolor": "white",
          "plot_bgcolor": "rgb(234,234,242)",
          "polar": {
           "angularaxis": {
            "gridcolor": "white",
            "linecolor": "white",
            "showgrid": true,
            "ticks": ""
           },
           "bgcolor": "rgb(234,234,242)",
           "radialaxis": {
            "gridcolor": "white",
            "linecolor": "white",
            "showgrid": true,
            "ticks": ""
           }
          },
          "scene": {
           "xaxis": {
            "backgroundcolor": "rgb(234,234,242)",
            "gridcolor": "white",
            "gridwidth": 2,
            "linecolor": "white",
            "showbackground": true,
            "showgrid": true,
            "ticks": "",
            "zerolinecolor": "white"
           },
           "yaxis": {
            "backgroundcolor": "rgb(234,234,242)",
            "gridcolor": "white",
            "gridwidth": 2,
            "linecolor": "white",
            "showbackground": true,
            "showgrid": true,
            "ticks": "",
            "zerolinecolor": "white"
           },
           "zaxis": {
            "backgroundcolor": "rgb(234,234,242)",
            "gridcolor": "white",
            "gridwidth": 2,
            "linecolor": "white",
            "showbackground": true,
            "showgrid": true,
            "ticks": "",
            "zerolinecolor": "white"
           }
          },
          "shapedefaults": {
           "fillcolor": "rgb(67,103,167)",
           "line": {
            "width": 0
           },
           "opacity": 0.5
          },
          "ternary": {
           "aaxis": {
            "gridcolor": "white",
            "linecolor": "white",
            "showgrid": true,
            "ticks": ""
           },
           "baxis": {
            "gridcolor": "white",
            "linecolor": "white",
            "showgrid": true,
            "ticks": ""
           },
           "bgcolor": "rgb(234,234,242)",
           "caxis": {
            "gridcolor": "white",
            "linecolor": "white",
            "showgrid": true,
            "ticks": ""
           }
          },
          "xaxis": {
           "automargin": true,
           "gridcolor": "white",
           "linecolor": "white",
           "showgrid": true,
           "ticks": "",
           "title": {
            "standoff": 15
           },
           "zerolinecolor": "white"
          },
          "yaxis": {
           "automargin": true,
           "gridcolor": "white",
           "linecolor": "white",
           "showgrid": true,
           "ticks": "",
           "title": {
            "standoff": 15
           },
           "zerolinecolor": "white"
          }
         }
        },
        "title": {
         "font": {
          "family": "Times New Roman",
          "size": 30
         },
         "x": 0.5,
         "y": 0.98
        },
        "width": 900,
        "xaxis": {
         "autorange": true,
         "range": [
          -0.19563403781979977,
          3.1956340378198
         ],
         "showgrid": false,
         "title": {
          "text": "Step"
         },
         "type": "linear",
         "zeroline": false
        },
        "yaxis": {
         "autorange": true,
         "range": [
          0.0015906040009168413,
          0.0037421172980401005
         ],
         "showgrid": false,
         "title": {
          "text": "Loss"
         },
         "type": "linear",
         "zeroline": false
        }
       }
      },
      "image/png": "[encoded data removed]",
      "text/html": [
       "<div>\n",
       "        \n",
       "        \n",
       "            <div id=\"e0f99c2a-8834-4c88-96db-778c18489653\" class=\"plotly-graph-div\" style=\"height:500px; width:900px;\"></div>\n",
       "            <script type=\"text/javascript\">\n",
       "                require([\"plotly\"], function(Plotly) {\n",
       "                    window.PLOTLYENV=window.PLOTLYENV || {};\n",
       "                    \n",
       "                if (document.getElementById(\"e0f99c2a-8834-4c88-96db-778c18489653\")) {\n",
       "                    Plotly.newPlot(\n",
       "                        'e0f99c2a-8834-4c88-96db-778c18489653',\n",
       "                        [{\"marker\": {\"color\": \"rgb(39, 26, 44)\", \"maxdisplayed\": 10, \"size\": 10, \"symbol\": 0}, \"mode\": \"lines+markers\", \"name\": \"Trial1\", \"type\": \"scatter\", \"x\": [0, 1, 2, 3], \"y\": [0.002461668737924884, 0.0024710689101846437, 0.002426425542531384, 0.0024719670528193585]}, {\"marker\": {\"color\": \"rgb(54, 43, 77)\", \"maxdisplayed\": 10, \"size\": 10, \"symbol\": 1}, \"mode\": \"lines+markers\", \"name\": \"Trial6\", \"type\": \"scatter\", \"x\": [0, 1, 2, 3], \"y\": [0.002428852240366207, 0.0023879115689998945, 0.0023974414405136093, 0.0024031549786544732]}, {\"marker\": {\"color\": \"rgb(64, 60, 115)\", \"maxdisplayed\": 10, \"size\": 10, \"symbol\": 2}, \"mode\": \"lines+markers\", \"name\": \"Trial40\", \"type\": \"scatter\", \"x\": [0, 1, 2, 3], \"y\": [0.0036037705620008244, 0.0021645634618392717, 0.001837677406493222, 0.0017289507369561172]}, {\"marker\": {\"color\": \"rgb(62, 82, 143)\", \"maxdisplayed\": 10, \"size\": 10, \"symbol\": 3}, \"mode\": \"lines+markers\", \"name\": \"Trial49\", \"type\": \"scatter\", \"x\": [0, 1, 2, 3], \"y\": [0.0025021240376313595, 0.002461587601165111, 0.002557179137019793, 0.002526282927499631]}, {\"marker\": {\"color\": \"rgb(62, 108, 150)\", \"maxdisplayed\": 10, \"size\": 10, \"symbol\": 8}, \"mode\": \"lines+markers\", \"name\": \"Trial54\", \"type\": \"scatter\", \"x\": [0, 1, 2, 3], \"y\": [0.002337080390331008, 0.0021171256682734835, 0.0022423733387620668, 0.002149103005649522]}, {\"marker\": {\"color\": \"rgb(68, 130, 155)\", \"maxdisplayed\": 10, \"size\": 10, \"symbol\": 10}, \"mode\": \"lines+markers\", \"name\": \"Trial64\", \"type\": \"scatter\", \"x\": [0, 1, 2, 3], \"y\": [0.002432171909793003, 0.002416621906229773, 0.0024470860544415947, 0.002445549260497697]}, {\"marker\": {\"color\": \"rgb(76, 153, 160)\", \"maxdisplayed\": 10, \"size\": 10, \"symbol\": 12}, \"mode\": \"lines+markers\", \"name\": \"Trial70\", \"type\": \"scatter\", \"x\": [0, 1, 2, 3], \"y\": [0.002526161599136587, 0.0025532866208310668, 0.0025223743318378723, 0.002545493149915962]}, {\"marker\": {\"color\": \"rgb(86, 177, 163)\", \"maxdisplayed\": 10, \"size\": 10, \"symbol\": 14}, \"mode\": \"lines+markers\", \"name\": \"Trial82\", \"type\": \"scatter\", \"x\": [0, 1, 2, 3], \"y\": [0.0032763156593097627, 0.002918750994738091, 0.002777195068365718, 0.002716551177719658]}, {\"marker\": {\"color\": \"rgb(111, 201, 163)\", \"maxdisplayed\": 10, \"size\": 10, \"symbol\": 16}, \"mode\": \"lines+markers\", \"name\": \"Trial83\", \"type\": \"scatter\", \"x\": [0, 1, 2, 3], \"y\": [0.0024853476946166643, 0.00247570058972751, 0.0024782597052713704, 0.0025343818832314698]}],\n",
       "                        {\"autosize\": false, \"font\": {\"family\": \"Times New Roman\", \"size\": 18}, \"height\": 500, \"legend\": {\"bgcolor\": \"rgba(220,220,230,0.8)\", \"orientation\": \"v\", \"title\": {\"text\": \"Trial #\"}, \"x\": 1, \"xanchor\": \"right\", \"y\": 1, \"yanchor\": \"top\"}, \"margin\": {\"b\": 1, \"l\": 0, \"r\": 1, \"t\": 5}, \"template\": {\"data\": {\"bar\": [{\"error_x\": {\"color\": \"rgb(36,36,36)\"}, \"error_y\": {\"color\": \"rgb(36,36,36)\"}, \"marker\": {\"line\": {\"color\": \"rgb(234,234,242)\", \"width\": 0.5}}, \"type\": \"bar\"}], \"barpolar\": [{\"marker\": {\"line\": {\"color\": \"rgb(234,234,242)\", \"width\": 0.5}}, \"type\": \"barpolar\"}], \"carpet\": [{\"aaxis\": {\"endlinecolor\": \"rgb(36,36,36)\", \"gridcolor\": \"white\", \"linecolor\": \"white\", \"minorgridcolor\": \"white\", \"startlinecolor\": \"rgb(36,36,36)\"}, \"baxis\": {\"endlinecolor\": \"rgb(36,36,36)\", \"gridcolor\": \"white\", \"linecolor\": \"white\", \"minorgridcolor\": \"white\", \"startlinecolor\": \"rgb(36,36,36)\"}, \"type\": \"carpet\"}], \"choropleth\": [{\"colorbar\": {\"outlinewidth\": 0, \"tickcolor\": \"rgb(36,36,36)\", \"ticklen\": 8, \"ticks\": \"outside\", \"tickwidth\": 2}, \"type\": \"choropleth\"}], \"contour\": [{\"colorbar\": {\"outlinewidth\": 0, \"tickcolor\": \"rgb(36,36,36)\", \"ticklen\": 8, \"ticks\": \"outside\", \"tickwidth\": 2}, \"colorscale\": [[0.0, \"rgb(2,4,25)\"], [0.06274509803921569, \"rgb(24,15,41)\"], [0.12549019607843137, \"rgb(47,23,57)\"], [0.18823529411764706, \"rgb(71,28,72)\"], [0.25098039215686274, \"rgb(97,30,82)\"], [0.3137254901960784, \"rgb(123,30,89)\"], [0.3764705882352941, \"rgb(150,27,91)\"], [0.4392156862745098, \"rgb(177,22,88)\"], [0.5019607843137255, \"rgb(203,26,79)\"], [0.5647058823529412, \"rgb(223,47,67)\"], [0.6274509803921569, \"rgb(236,76,61)\"], [0.6901960784313725, \"rgb(242,107,73)\"], [0.7529411764705882, \"rgb(244,135,95)\"], [0.8156862745098039, \"rgb(245,162,122)\"], [0.8784313725490196, \"rgb(246,188,153)\"], [0.9411764705882353, \"rgb(247,212,187)\"], [1.0, \"rgb(250,234,220)\"]], \"type\": \"contour\"}], \"contourcarpet\": [{\"colorbar\": {\"outlinewidth\": 0, \"tickcolor\": \"rgb(36,36,36)\", \"ticklen\": 8, \"ticks\": \"outside\", \"tickwidth\": 2}, \"type\": \"contourcarpet\"}], \"heatmap\": [{\"colorbar\": {\"outlinewidth\": 0, \"tickcolor\": \"rgb(36,36,36)\", \"ticklen\": 8, \"ticks\": \"outside\", \"tickwidth\": 2}, \"colorscale\": [[0.0, \"rgb(2,4,25)\"], [0.06274509803921569, \"rgb(24,15,41)\"], [0.12549019607843137, \"rgb(47,23,57)\"], [0.18823529411764706, \"rgb(71,28,72)\"], [0.25098039215686274, \"rgb(97,30,82)\"], [0.3137254901960784, \"rgb(123,30,89)\"], [0.3764705882352941, \"rgb(150,27,91)\"], [0.4392156862745098, \"rgb(177,22,88)\"], [0.5019607843137255, \"rgb(203,26,79)\"], [0.5647058823529412, \"rgb(223,47,67)\"], [0.6274509803921569, \"rgb(236,76,61)\"], [0.6901960784313725, \"rgb(242,107,73)\"], [0.7529411764705882, \"rgb(244,135,95)\"], [0.8156862745098039, \"rgb(245,162,122)\"], [0.8784313725490196, \"rgb(246,188,153)\"], [0.9411764705882353, \"rgb(247,212,187)\"], [1.0, \"rgb(250,234,220)\"]], \"type\": \"heatmap\"}], \"heatmapgl\": [{\"colorbar\": {\"outlinewidth\": 0, \"tickcolor\": \"rgb(36,36,36)\", \"ticklen\": 8, \"ticks\": \"outside\", \"tickwidth\": 2}, \"colorscale\": [[0.0, \"rgb(2,4,25)\"], [0.06274509803921569, \"rgb(24,15,41)\"], [0.12549019607843137, \"rgb(47,23,57)\"], [0.18823529411764706, \"rgb(71,28,72)\"], [0.25098039215686274, \"rgb(97,30,82)\"], [0.3137254901960784, \"rgb(123,30,89)\"], [0.3764705882352941, \"rgb(150,27,91)\"], [0.4392156862745098, \"rgb(177,22,88)\"], [0.5019607843137255, \"rgb(203,26,79)\"], [0.5647058823529412, \"rgb(223,47,67)\"], [0.6274509803921569, \"rgb(236,76,61)\"], [0.6901960784313725, \"rgb(242,107,73)\"], [0.7529411764705882, \"rgb(244,135,95)\"], [0.8156862745098039, \"rgb(245,162,122)\"], [0.8784313725490196, \"rgb(246,188,153)\"], [0.9411764705882353, \"rgb(247,212,187)\"], [1.0, \"rgb(250,234,220)\"]], \"type\": \"heatmapgl\"}], \"histogram\": [{\"marker\": {\"colorbar\": {\"outlinewidth\": 0, \"tickcolor\": \"rgb(36,36,36)\", \"ticklen\": 8, \"ticks\": \"outside\", \"tickwidth\": 2}}, \"type\": \"histogram\"}], \"histogram2d\": [{\"colorbar\": {\"outlinewidth\": 0, \"tickcolor\": \"rgb(36,36,36)\", \"ticklen\": 8, \"ticks\": \"outside\", \"tickwidth\": 2}, \"colorscale\": [[0.0, \"rgb(2,4,25)\"], [0.06274509803921569, \"rgb(24,15,41)\"], [0.12549019607843137, \"rgb(47,23,57)\"], [0.18823529411764706, \"rgb(71,28,72)\"], [0.25098039215686274, \"rgb(97,30,82)\"], [0.3137254901960784, \"rgb(123,30,89)\"], [0.3764705882352941, \"rgb(150,27,91)\"], [0.4392156862745098, \"rgb(177,22,88)\"], [0.5019607843137255, \"rgb(203,26,79)\"], [0.5647058823529412, \"rgb(223,47,67)\"], [0.6274509803921569, \"rgb(236,76,61)\"], [0.6901960784313725, \"rgb(242,107,73)\"], [0.7529411764705882, \"rgb(244,135,95)\"], [0.8156862745098039, \"rgb(245,162,122)\"], [0.8784313725490196, \"rgb(246,188,153)\"], [0.9411764705882353, \"rgb(247,212,187)\"], [1.0, \"rgb(250,234,220)\"]], \"type\": \"histogram2d\"}], \"histogram2dcontour\": [{\"colorbar\": {\"outlinewidth\": 0, \"tickcolor\": \"rgb(36,36,36)\", \"ticklen\": 8, \"ticks\": \"outside\", \"tickwidth\": 2}, \"colorscale\": [[0.0, \"rgb(2,4,25)\"], [0.06274509803921569, \"rgb(24,15,41)\"], [0.12549019607843137, \"rgb(47,23,57)\"], [0.18823529411764706, \"rgb(71,28,72)\"], [0.25098039215686274, \"rgb(97,30,82)\"], [0.3137254901960784, \"rgb(123,30,89)\"], [0.3764705882352941, \"rgb(150,27,91)\"], [0.4392156862745098, \"rgb(177,22,88)\"], [0.5019607843137255, \"rgb(203,26,79)\"], [0.5647058823529412, \"rgb(223,47,67)\"], [0.6274509803921569, \"rgb(236,76,61)\"], [0.6901960784313725, \"rgb(242,107,73)\"], [0.7529411764705882, \"rgb(244,135,95)\"], [0.8156862745098039, \"rgb(245,162,122)\"], [0.8784313725490196, \"rgb(246,188,153)\"], [0.9411764705882353, \"rgb(247,212,187)\"], [1.0, \"rgb(250,234,220)\"]], \"type\": \"histogram2dcontour\"}], \"mesh3d\": [{\"colorbar\": {\"outlinewidth\": 0, \"tickcolor\": \"rgb(36,36,36)\", \"ticklen\": 8, \"ticks\": \"outside\", \"tickwidth\": 2}, \"type\": \"mesh3d\"}], \"parcoords\": [{\"line\": {\"colorbar\": {\"outlinewidth\": 0, \"tickcolor\": \"rgb(36,36,36)\", \"ticklen\": 8, \"ticks\": \"outside\", \"tickwidth\": 2}}, \"type\": \"parcoords\"}], \"pie\": [{\"automargin\": true, \"type\": \"pie\"}], \"scatter\": [{\"marker\": {\"colorbar\": {\"outlinewidth\": 0, \"tickcolor\": \"rgb(36,36,36)\", \"ticklen\": 8, \"ticks\": \"outside\", \"tickwidth\": 2}}, \"type\": \"scatter\"}], \"scatter3d\": [{\"line\": {\"colorbar\": {\"outlinewidth\": 0, \"tickcolor\": \"rgb(36,36,36)\", \"ticklen\": 8, \"ticks\": \"outside\", \"tickwidth\": 2}}, \"marker\": {\"colorbar\": {\"outlinewidth\": 0, \"tickcolor\": \"rgb(36,36,36)\", \"ticklen\": 8, \"ticks\": \"outside\", \"tickwidth\": 2}}, \"type\": \"scatter3d\"}], \"scattercarpet\": [{\"marker\": {\"colorbar\": {\"outlinewidth\": 0, \"tickcolor\": \"rgb(36,36,36)\", \"ticklen\": 8, \"ticks\": \"outside\", \"tickwidth\": 2}}, \"type\": \"scattercarpet\"}], \"scattergeo\": [{\"marker\": {\"colorbar\": {\"outlinewidth\": 0, \"tickcolor\": \"rgb(36,36,36)\", \"ticklen\": 8, \"ticks\": \"outside\", \"tickwidth\": 2}}, \"type\": \"scattergeo\"}], \"scattergl\": [{\"marker\": {\"colorbar\": {\"outlinewidth\": 0, \"tickcolor\": \"rgb(36,36,36)\", \"ticklen\": 8, \"ticks\": \"outside\", \"tickwidth\": 2}}, \"type\": \"scattergl\"}], \"scattermapbox\": [{\"marker\": {\"colorbar\": {\"outlinewidth\": 0, \"tickcolor\": \"rgb(36,36,36)\", \"ticklen\": 8, \"ticks\": \"outside\", \"tickwidth\": 2}}, \"type\": \"scattermapbox\"}], \"scatterpolar\": [{\"marker\": {\"colorbar\": {\"outlinewidth\": 0, \"tickcolor\": \"rgb(36,36,36)\", \"ticklen\": 8, \"ticks\": \"outside\", \"tickwidth\": 2}}, \"type\": \"scatterpolar\"}], \"scatterpolargl\": [{\"marker\": {\"colorbar\": {\"outlinewidth\": 0, \"tickcolor\": \"rgb(36,36,36)\", \"ticklen\": 8, \"ticks\": \"outside\", \"tickwidth\": 2}}, \"type\": \"scatterpolargl\"}], \"scatterternary\": [{\"marker\": {\"colorbar\": {\"outlinewidth\": 0, \"tickcolor\": \"rgb(36,36,36)\", \"ticklen\": 8, \"ticks\": \"outside\", \"tickwidth\": 2}}, \"type\": \"scatterternary\"}], \"surface\": [{\"colorbar\": {\"outlinewidth\": 0, \"tickcolor\": \"rgb(36,36,36)\", \"ticklen\": 8, \"ticks\": \"outside\", \"tickwidth\": 2}, \"colorscale\": [[0.0, \"rgb(2,4,25)\"], [0.06274509803921569, \"rgb(24,15,41)\"], [0.12549019607843137, \"rgb(47,23,57)\"], [0.18823529411764706, \"rgb(71,28,72)\"], [0.25098039215686274, \"rgb(97,30,82)\"], [0.3137254901960784, \"rgb(123,30,89)\"], [0.3764705882352941, \"rgb(150,27,91)\"], [0.4392156862745098, \"rgb(177,22,88)\"], [0.5019607843137255, \"rgb(203,26,79)\"], [0.5647058823529412, \"rgb(223,47,67)\"], [0.6274509803921569, \"rgb(236,76,61)\"], [0.6901960784313725, \"rgb(242,107,73)\"], [0.7529411764705882, \"rgb(244,135,95)\"], [0.8156862745098039, \"rgb(245,162,122)\"], [0.8784313725490196, \"rgb(246,188,153)\"], [0.9411764705882353, \"rgb(247,212,187)\"], [1.0, \"rgb(250,234,220)\"]], \"type\": \"surface\"}], \"table\": [{\"cells\": {\"fill\": {\"color\": \"rgb(231,231,240)\"}, \"line\": {\"color\": \"white\"}}, \"header\": {\"fill\": {\"color\": \"rgb(183,183,191)\"}, \"line\": {\"color\": \"white\"}}, \"type\": \"table\"}]}, \"layout\": {\"annotationdefaults\": {\"arrowcolor\": \"rgb(67,103,167)\"}, \"coloraxis\": {\"colorbar\": {\"outlinewidth\": 0, \"tickcolor\": \"rgb(36,36,36)\", \"ticklen\": 8, \"ticks\": \"outside\", \"tickwidth\": 2}}, \"colorscale\": {\"sequential\": [[0.0, \"rgb(2,4,25)\"], [0.06274509803921569, \"rgb(24,15,41)\"], [0.12549019607843137, \"rgb(47,23,57)\"], [0.18823529411764706, \"rgb(71,28,72)\"], [0.25098039215686274, \"rgb(97,30,82)\"], [0.3137254901960784, \"rgb(123,30,89)\"], [0.3764705882352941, \"rgb(150,27,91)\"], [0.4392156862745098, \"rgb(177,22,88)\"], [0.5019607843137255, \"rgb(203,26,79)\"], [0.5647058823529412, \"rgb(223,47,67)\"], [0.6274509803921569, \"rgb(236,76,61)\"], [0.6901960784313725, \"rgb(242,107,73)\"], [0.7529411764705882, \"rgb(244,135,95)\"], [0.8156862745098039, \"rgb(245,162,122)\"], [0.8784313725490196, \"rgb(246,188,153)\"], [0.9411764705882353, \"rgb(247,212,187)\"], [1.0, \"rgb(250,234,220)\"]], \"sequentialminus\": [[0.0, \"rgb(2,4,25)\"], [0.06274509803921569, \"rgb(24,15,41)\"], [0.12549019607843137, \"rgb(47,23,57)\"], [0.18823529411764706, \"rgb(71,28,72)\"], [0.25098039215686274, \"rgb(97,30,82)\"], [0.3137254901960784, \"rgb(123,30,89)\"], [0.3764705882352941, \"rgb(150,27,91)\"], [0.4392156862745098, \"rgb(177,22,88)\"], [0.5019607843137255, \"rgb(203,26,79)\"], [0.5647058823529412, \"rgb(223,47,67)\"], [0.6274509803921569, \"rgb(236,76,61)\"], [0.6901960784313725, \"rgb(242,107,73)\"], [0.7529411764705882, \"rgb(244,135,95)\"], [0.8156862745098039, \"rgb(245,162,122)\"], [0.8784313725490196, \"rgb(246,188,153)\"], [0.9411764705882353, \"rgb(247,212,187)\"], [1.0, \"rgb(250,234,220)\"]]}, \"colorway\": [\"rgb(76,114,176)\", \"rgb(221,132,82)\", \"rgb(85,168,104)\", \"rgb(196,78,82)\", \"rgb(129,114,179)\", \"rgb(147,120,96)\", \"rgb(218,139,195)\", \"rgb(140,140,140)\", \"rgb(204,185,116)\", \"rgb(100,181,205)\"], \"font\": {\"color\": \"rgb(36,36,36)\"}, \"geo\": {\"bgcolor\": \"white\", \"lakecolor\": \"white\", \"landcolor\": \"rgb(234,234,242)\", \"showlakes\": true, \"showland\": true, \"subunitcolor\": \"white\"}, \"hoverlabel\": {\"align\": \"left\"}, \"hovermode\": \"closest\", \"paper_bgcolor\": \"white\", \"plot_bgcolor\": \"rgb(234,234,242)\", \"polar\": {\"angularaxis\": {\"gridcolor\": \"white\", \"linecolor\": \"white\", \"showgrid\": true, \"ticks\": \"\"}, \"bgcolor\": \"rgb(234,234,242)\", \"radialaxis\": {\"gridcolor\": \"white\", \"linecolor\": \"white\", \"showgrid\": true, \"ticks\": \"\"}}, \"scene\": {\"xaxis\": {\"backgroundcolor\": \"rgb(234,234,242)\", \"gridcolor\": \"white\", \"gridwidth\": 2, \"linecolor\": \"white\", \"showbackground\": true, \"showgrid\": true, \"ticks\": \"\", \"zerolinecolor\": \"white\"}, \"yaxis\": {\"backgroundcolor\": \"rgb(234,234,242)\", \"gridcolor\": \"white\", \"gridwidth\": 2, \"linecolor\": \"white\", \"showbackground\": true, \"showgrid\": true, \"ticks\": \"\", \"zerolinecolor\": \"white\"}, \"zaxis\": {\"backgroundcolor\": \"rgb(234,234,242)\", \"gridcolor\": \"white\", \"gridwidth\": 2, \"linecolor\": \"white\", \"showbackground\": true, \"showgrid\": true, \"ticks\": \"\", \"zerolinecolor\": \"white\"}}, \"shapedefaults\": {\"fillcolor\": \"rgb(67,103,167)\", \"line\": {\"width\": 0}, \"opacity\": 0.5}, \"ternary\": {\"aaxis\": {\"gridcolor\": \"white\", \"linecolor\": \"white\", \"showgrid\": true, \"ticks\": \"\"}, \"baxis\": {\"gridcolor\": \"white\", \"linecolor\": \"white\", \"showgrid\": true, \"ticks\": \"\"}, \"bgcolor\": \"rgb(234,234,242)\", \"caxis\": {\"gridcolor\": \"white\", \"linecolor\": \"white\", \"showgrid\": true, \"ticks\": \"\"}}, \"xaxis\": {\"automargin\": true, \"gridcolor\": \"white\", \"linecolor\": \"white\", \"showgrid\": true, \"ticks\": \"\", \"title\": {\"standoff\": 15}, \"zerolinecolor\": \"white\"}, \"yaxis\": {\"automargin\": true, \"gridcolor\": \"white\", \"linecolor\": \"white\", \"showgrid\": true, \"ticks\": \"\", \"title\": {\"standoff\": 15}, \"zerolinecolor\": \"white\"}}}, \"title\": {\"font\": {\"family\": \"Times New Roman\", \"size\": 30}, \"x\": 0.5, \"y\": 0.98}, \"width\": 900, \"xaxis\": {\"showgrid\": false, \"title\": {\"text\": \"Step\"}, \"zeroline\": false}, \"yaxis\": {\"showgrid\": false, \"title\": {\"text\": \"Loss\"}, \"zeroline\": false}},\n",
       "                        {\"responsive\": true}\n",
       "                    ).then(function(){\n",
       "                            \n",
       "var gd = document.getElementById('e0f99c2a-8834-4c88-96db-778c18489653');\n",
       "var x = new MutationObserver(function (mutations, observer) {{\n",
       "        var display = window.getComputedStyle(gd).display;\n",
       "        if (!display || display === 'none') {{\n",
       "            console.log([gd, 'removed!']);\n",
       "            Plotly.purge(gd);\n",
       "            observer.disconnect();\n",
       "        }}\n",
       "}});\n",
       "\n",
       "// Listen for the removal of the full notebook cells\n",
       "var notebookContainer = gd.closest('#notebook-container');\n",
       "if (notebookContainer) {{\n",
       "    x.observe(notebookContainer, {childList: true});\n",
       "}}\n",
       "\n",
       "// Listen for the clearing of the current output cell\n",
       "var outputEl = gd.closest('.output');\n",
       "if (outputEl) {{\n",
       "    x.observe(outputEl, {childList: true});\n",
       "}}\n",
       "\n",
       "                        })\n",
       "                };\n",
       "                });\n",
       "            </script>\n",
       "        </div>"
      ]
     },
     "metadata": {},
     "output_type": "display_data"
    }
   ],
   "source": [
    "imp.reload(cplot)\n",
    "scope = PlotlyScope()\n",
    "iceice=px.colors.sequential.deep_r.copy()\n",
    "iceice[-3]=\"#338866\"\n",
    "print(iceice)\n",
    "fig=cplot.get_intermediate_plot(study,max_experiments=9,max_num_steps=50,color_scale=iceice)\n",
    "\n",
    "\n",
    "fig.update_layout(\n",
    "    autosize=False,title_text='Loss Per Training Step', title=None, title_x=0.5, title_y=0.98,\n",
    "    template=\"seaborn\",\n",
    "width=900,height=500,\n",
    "    font_family=\"Times New Roman\",\n",
    "    font_size=18,\n",
    "    title_font_family=\"Times New Roman\",\n",
    "    title_font_size=30,\n",
    "    margin=dict(l=0, t=5,r=1,  b=1),\n",
    "    legend_title_text=\"Trial #\",\n",
    "                  legend=dict(\n",
    "                      bgcolor='rgba(220,220,230,0.8)',\n",
    "                  orientation=\"v\",\n",
    "                yanchor=\"top\",\n",
    "                y=1,\n",
    "                xanchor=\"right\",x=1)\n",
    "    )\n",
    "fig.update_xaxes(showgrid=False,zeroline=False,)\n",
    "fig.update_yaxes(showgrid=False,zeroline=False,title_text=\"Loss\")\n",
    "\n",
    "with open(\"loss_per_traininground2.pdf\", \"wb\") as f:\n",
    "    f.write(scope.transform(fig, format=\"pdf\",    width=1000,height=500,))\n",
    "fig"
   ]
  },
  {
   "cell_type": "code",
   "execution_count": 8,
   "metadata": {},
   "outputs": [
    {
     "name": "stderr",
     "output_type": "stream",
     "text": [
      "/home/asalimi/miniconda3/lib/python3.7/site-packages/optuna/_experimental.py:61: ExperimentalWarning:\n",
      "\n",
      "get_param_importances is experimental (supported from v1.3.0). The interface can change in the future.\n",
      "\n",
      "/home/asalimi/miniconda3/lib/python3.7/site-packages/optuna/_experimental.py:83: ExperimentalWarning:\n",
      "\n",
      "MeanDecreaseImpurityImportanceEvaluator is experimental (supported from v1.5.0). The interface can change in the future.\n",
      "\n"
     ]
    },
    {
     "name": "stdout",
     "output_type": "stream",
     "text": [
      "OrderedDict([('Learning Rate', 0.3628395577611599), ('Time Steps', 0.35154250863204983), ('L2 Regularization', 0.1027285014551436), ('Dropout Rate', 0.07839004018459884), ('Frequency Bins', 0.06837312745416778), ('Latent Size', 0.02530950804119573), ('Model Type', 0.005865866194407331), ('Optimizer', 0.002482217925884677), ('Hidden Layers', 0.0024686723513923817)])\n"
     ]
    },
    {
     "data": {
      "application/vnd.plotly.v1+json": {
       "config": {
        "plotlyServerURL": "https://plot.ly"
       },
       "data": [
        {
         "cliponaxis": false,
         "hovertemplate": [
          "Hidden Layers (IntUniformDistribution): 0.0024686723513923817<extra></extra>",
          "Optimizer (CategoricalDistribution): 0.002482217925884677<extra></extra>",
          "Model Type (CategoricalDistribution): 0.005865866194407331<extra></extra>",
          "Latent Size (CategoricalDistribution): 0.02530950804119573<extra></extra>",
          "Frequency Bins (CategoricalDistribution): 0.06837312745416778<extra></extra>",
          "Dropout Rate (DiscreteUniformDistribution): 0.07839004018459884<extra></extra>",
          "L2 Regularization (LogUniformDistribution): 0.1027285014551436<extra></extra>",
          "Time Steps (CategoricalDistribution): 0.35154250863204983<extra></extra>",
          "Learning Rate (UniformDistribution): 0.3628395577611599<extra></extra>"
         ],
         "marker": {
          "color": [
           "rgb(3, 5, 18)",
           "rgb(3, 5, 18)",
           "rgb(3, 5, 18)",
           "rgb(3, 5, 18)",
           "rgb(3, 5, 18)",
           "rgb(3, 5, 18)",
           "rgb(3, 5, 18)",
           "rgb(3, 5, 18)",
           "rgb(3, 5, 18)"
          ]
         },
         "orientation": "h",
         "text": [
          "0.0024686723513923817",
          "0.002482217925884677",
          "0.005865866194407331",
          "0.02530950804119573",
          "0.06837312745416778",
          "0.07839004018459884",
          "0.1027285014551436",
          "0.35154250863204983",
          "0.3628395577611599"
         ],
         "textposition": "outside",
         "texttemplate": "%{text:.2f}",
         "type": "bar",
         "x": [
          0.0024686723513923817,
          0.002482217925884677,
          0.005865866194407331,
          0.02530950804119573,
          0.06837312745416778,
          0.07839004018459884,
          0.1027285014551436,
          0.35154250863204983,
          0.3628395577611599
         ],
         "y": [
          "Hidden Layers",
          "Optimizer",
          "Model Type",
          "Latent Size",
          "Frequency Bins",
          "Dropout Rate",
          "L2 Regularization",
          "Time Steps",
          "Learning Rate"
         ]
        }
       ],
       "layout": {
        "autosize": false,
        "font": {
         "family": "Times New Roman",
         "size": 18
        },
        "height": 420,
        "margin": {
         "b": 1,
         "l": 0,
         "r": 20,
         "t": 5
        },
        "showlegend": false,
        "template": {
         "data": {
          "bar": [
           {
            "error_x": {
             "color": "rgb(36,36,36)"
            },
            "error_y": {
             "color": "rgb(36,36,36)"
            },
            "marker": {
             "line": {
              "color": "rgb(234,234,242)",
              "width": 0.5
             }
            },
            "type": "bar"
           }
          ],
          "barpolar": [
           {
            "marker": {
             "line": {
              "color": "rgb(234,234,242)",
              "width": 0.5
             }
            },
            "type": "barpolar"
           }
          ],
          "carpet": [
           {
            "aaxis": {
             "endlinecolor": "rgb(36,36,36)",
             "gridcolor": "white",
             "linecolor": "white",
             "minorgridcolor": "white",
             "startlinecolor": "rgb(36,36,36)"
            },
            "baxis": {
             "endlinecolor": "rgb(36,36,36)",
             "gridcolor": "white",
             "linecolor": "white",
             "minorgridcolor": "white",
             "startlinecolor": "rgb(36,36,36)"
            },
            "type": "carpet"
           }
          ],
          "choropleth": [
           {
            "colorbar": {
             "outlinewidth": 0,
             "tickcolor": "rgb(36,36,36)",
             "ticklen": 8,
             "ticks": "outside",
             "tickwidth": 2
            },
            "type": "choropleth"
           }
          ],
          "contour": [
           {
            "colorbar": {
             "outlinewidth": 0,
             "tickcolor": "rgb(36,36,36)",
             "ticklen": 8,
             "ticks": "outside",
             "tickwidth": 2
            },
            "colorscale": [
             [
              0,
              "rgb(2,4,25)"
             ],
             [
              0.06274509803921569,
              "rgb(24,15,41)"
             ],
             [
              0.12549019607843137,
              "rgb(47,23,57)"
             ],
             [
              0.18823529411764706,
              "rgb(71,28,72)"
             ],
             [
              0.25098039215686274,
              "rgb(97,30,82)"
             ],
             [
              0.3137254901960784,
              "rgb(123,30,89)"
             ],
             [
              0.3764705882352941,
              "rgb(150,27,91)"
             ],
             [
              0.4392156862745098,
              "rgb(177,22,88)"
             ],
             [
              0.5019607843137255,
              "rgb(203,26,79)"
             ],
             [
              0.5647058823529412,
              "rgb(223,47,67)"
             ],
             [
              0.6274509803921569,
              "rgb(236,76,61)"
             ],
             [
              0.6901960784313725,
              "rgb(242,107,73)"
             ],
             [
              0.7529411764705882,
              "rgb(244,135,95)"
             ],
             [
              0.8156862745098039,
              "rgb(245,162,122)"
             ],
             [
              0.8784313725490196,
              "rgb(246,188,153)"
             ],
             [
              0.9411764705882353,
              "rgb(247,212,187)"
             ],
             [
              1,
              "rgb(250,234,220)"
             ]
            ],
            "type": "contour"
           }
          ],
          "contourcarpet": [
           {
            "colorbar": {
             "outlinewidth": 0,
             "tickcolor": "rgb(36,36,36)",
             "ticklen": 8,
             "ticks": "outside",
             "tickwidth": 2
            },
            "type": "contourcarpet"
           }
          ],
          "heatmap": [
           {
            "colorbar": {
             "outlinewidth": 0,
             "tickcolor": "rgb(36,36,36)",
             "ticklen": 8,
             "ticks": "outside",
             "tickwidth": 2
            },
            "colorscale": [
             [
              0,
              "rgb(2,4,25)"
             ],
             [
              0.06274509803921569,
              "rgb(24,15,41)"
             ],
             [
              0.12549019607843137,
              "rgb(47,23,57)"
             ],
             [
              0.18823529411764706,
              "rgb(71,28,72)"
             ],
             [
              0.25098039215686274,
              "rgb(97,30,82)"
             ],
             [
              0.3137254901960784,
              "rgb(123,30,89)"
             ],
             [
              0.3764705882352941,
              "rgb(150,27,91)"
             ],
             [
              0.4392156862745098,
              "rgb(177,22,88)"
             ],
             [
              0.5019607843137255,
              "rgb(203,26,79)"
             ],
             [
              0.5647058823529412,
              "rgb(223,47,67)"
             ],
             [
              0.6274509803921569,
              "rgb(236,76,61)"
             ],
             [
              0.6901960784313725,
              "rgb(242,107,73)"
             ],
             [
              0.7529411764705882,
              "rgb(244,135,95)"
             ],
             [
              0.8156862745098039,
              "rgb(245,162,122)"
             ],
             [
              0.8784313725490196,
              "rgb(246,188,153)"
             ],
             [
              0.9411764705882353,
              "rgb(247,212,187)"
             ],
             [
              1,
              "rgb(250,234,220)"
             ]
            ],
            "type": "heatmap"
           }
          ],
          "heatmapgl": [
           {
            "colorbar": {
             "outlinewidth": 0,
             "tickcolor": "rgb(36,36,36)",
             "ticklen": 8,
             "ticks": "outside",
             "tickwidth": 2
            },
            "colorscale": [
             [
              0,
              "rgb(2,4,25)"
             ],
             [
              0.06274509803921569,
              "rgb(24,15,41)"
             ],
             [
              0.12549019607843137,
              "rgb(47,23,57)"
             ],
             [
              0.18823529411764706,
              "rgb(71,28,72)"
             ],
             [
              0.25098039215686274,
              "rgb(97,30,82)"
             ],
             [
              0.3137254901960784,
              "rgb(123,30,89)"
             ],
             [
              0.3764705882352941,
              "rgb(150,27,91)"
             ],
             [
              0.4392156862745098,
              "rgb(177,22,88)"
             ],
             [
              0.5019607843137255,
              "rgb(203,26,79)"
             ],
             [
              0.5647058823529412,
              "rgb(223,47,67)"
             ],
             [
              0.6274509803921569,
              "rgb(236,76,61)"
             ],
             [
              0.6901960784313725,
              "rgb(242,107,73)"
             ],
             [
              0.7529411764705882,
              "rgb(244,135,95)"
             ],
             [
              0.8156862745098039,
              "rgb(245,162,122)"
             ],
             [
              0.8784313725490196,
              "rgb(246,188,153)"
             ],
             [
              0.9411764705882353,
              "rgb(247,212,187)"
             ],
             [
              1,
              "rgb(250,234,220)"
             ]
            ],
            "type": "heatmapgl"
           }
          ],
          "histogram": [
           {
            "marker": {
             "colorbar": {
              "outlinewidth": 0,
              "tickcolor": "rgb(36,36,36)",
              "ticklen": 8,
              "ticks": "outside",
              "tickwidth": 2
             }
            },
            "type": "histogram"
           }
          ],
          "histogram2d": [
           {
            "colorbar": {
             "outlinewidth": 0,
             "tickcolor": "rgb(36,36,36)",
             "ticklen": 8,
             "ticks": "outside",
             "tickwidth": 2
            },
            "colorscale": [
             [
              0,
              "rgb(2,4,25)"
             ],
             [
              0.06274509803921569,
              "rgb(24,15,41)"
             ],
             [
              0.12549019607843137,
              "rgb(47,23,57)"
             ],
             [
              0.18823529411764706,
              "rgb(71,28,72)"
             ],
             [
              0.25098039215686274,
              "rgb(97,30,82)"
             ],
             [
              0.3137254901960784,
              "rgb(123,30,89)"
             ],
             [
              0.3764705882352941,
              "rgb(150,27,91)"
             ],
             [
              0.4392156862745098,
              "rgb(177,22,88)"
             ],
             [
              0.5019607843137255,
              "rgb(203,26,79)"
             ],
             [
              0.5647058823529412,
              "rgb(223,47,67)"
             ],
             [
              0.6274509803921569,
              "rgb(236,76,61)"
             ],
             [
              0.6901960784313725,
              "rgb(242,107,73)"
             ],
             [
              0.7529411764705882,
              "rgb(244,135,95)"
             ],
             [
              0.8156862745098039,
              "rgb(245,162,122)"
             ],
             [
              0.8784313725490196,
              "rgb(246,188,153)"
             ],
             [
              0.9411764705882353,
              "rgb(247,212,187)"
             ],
             [
              1,
              "rgb(250,234,220)"
             ]
            ],
            "type": "histogram2d"
           }
          ],
          "histogram2dcontour": [
           {
            "colorbar": {
             "outlinewidth": 0,
             "tickcolor": "rgb(36,36,36)",
             "ticklen": 8,
             "ticks": "outside",
             "tickwidth": 2
            },
            "colorscale": [
             [
              0,
              "rgb(2,4,25)"
             ],
             [
              0.06274509803921569,
              "rgb(24,15,41)"
             ],
             [
              0.12549019607843137,
              "rgb(47,23,57)"
             ],
             [
              0.18823529411764706,
              "rgb(71,28,72)"
             ],
             [
              0.25098039215686274,
              "rgb(97,30,82)"
             ],
             [
              0.3137254901960784,
              "rgb(123,30,89)"
             ],
             [
              0.3764705882352941,
              "rgb(150,27,91)"
             ],
             [
              0.4392156862745098,
              "rgb(177,22,88)"
             ],
             [
              0.5019607843137255,
              "rgb(203,26,79)"
             ],
             [
              0.5647058823529412,
              "rgb(223,47,67)"
             ],
             [
              0.6274509803921569,
              "rgb(236,76,61)"
             ],
             [
              0.6901960784313725,
              "rgb(242,107,73)"
             ],
             [
              0.7529411764705882,
              "rgb(244,135,95)"
             ],
             [
              0.8156862745098039,
              "rgb(245,162,122)"
             ],
             [
              0.8784313725490196,
              "rgb(246,188,153)"
             ],
             [
              0.9411764705882353,
              "rgb(247,212,187)"
             ],
             [
              1,
              "rgb(250,234,220)"
             ]
            ],
            "type": "histogram2dcontour"
           }
          ],
          "mesh3d": [
           {
            "colorbar": {
             "outlinewidth": 0,
             "tickcolor": "rgb(36,36,36)",
             "ticklen": 8,
             "ticks": "outside",
             "tickwidth": 2
            },
            "type": "mesh3d"
           }
          ],
          "parcoords": [
           {
            "line": {
             "colorbar": {
              "outlinewidth": 0,
              "tickcolor": "rgb(36,36,36)",
              "ticklen": 8,
              "ticks": "outside",
              "tickwidth": 2
             }
            },
            "type": "parcoords"
           }
          ],
          "pie": [
           {
            "automargin": true,
            "type": "pie"
           }
          ],
          "scatter": [
           {
            "marker": {
             "colorbar": {
              "outlinewidth": 0,
              "tickcolor": "rgb(36,36,36)",
              "ticklen": 8,
              "ticks": "outside",
              "tickwidth": 2
             }
            },
            "type": "scatter"
           }
          ],
          "scatter3d": [
           {
            "line": {
             "colorbar": {
              "outlinewidth": 0,
              "tickcolor": "rgb(36,36,36)",
              "ticklen": 8,
              "ticks": "outside",
              "tickwidth": 2
             }
            },
            "marker": {
             "colorbar": {
              "outlinewidth": 0,
              "tickcolor": "rgb(36,36,36)",
              "ticklen": 8,
              "ticks": "outside",
              "tickwidth": 2
             }
            },
            "type": "scatter3d"
           }
          ],
          "scattercarpet": [
           {
            "marker": {
             "colorbar": {
              "outlinewidth": 0,
              "tickcolor": "rgb(36,36,36)",
              "ticklen": 8,
              "ticks": "outside",
              "tickwidth": 2
             }
            },
            "type": "scattercarpet"
           }
          ],
          "scattergeo": [
           {
            "marker": {
             "colorbar": {
              "outlinewidth": 0,
              "tickcolor": "rgb(36,36,36)",
              "ticklen": 8,
              "ticks": "outside",
              "tickwidth": 2
             }
            },
            "type": "scattergeo"
           }
          ],
          "scattergl": [
           {
            "marker": {
             "colorbar": {
              "outlinewidth": 0,
              "tickcolor": "rgb(36,36,36)",
              "ticklen": 8,
              "ticks": "outside",
              "tickwidth": 2
             }
            },
            "type": "scattergl"
           }
          ],
          "scattermapbox": [
           {
            "marker": {
             "colorbar": {
              "outlinewidth": 0,
              "tickcolor": "rgb(36,36,36)",
              "ticklen": 8,
              "ticks": "outside",
              "tickwidth": 2
             }
            },
            "type": "scattermapbox"
           }
          ],
          "scatterpolar": [
           {
            "marker": {
             "colorbar": {
              "outlinewidth": 0,
              "tickcolor": "rgb(36,36,36)",
              "ticklen": 8,
              "ticks": "outside",
              "tickwidth": 2
             }
            },
            "type": "scatterpolar"
           }
          ],
          "scatterpolargl": [
           {
            "marker": {
             "colorbar": {
              "outlinewidth": 0,
              "tickcolor": "rgb(36,36,36)",
              "ticklen": 8,
              "ticks": "outside",
              "tickwidth": 2
             }
            },
            "type": "scatterpolargl"
           }
          ],
          "scatterternary": [
           {
            "marker": {
             "colorbar": {
              "outlinewidth": 0,
              "tickcolor": "rgb(36,36,36)",
              "ticklen": 8,
              "ticks": "outside",
              "tickwidth": 2
             }
            },
            "type": "scatterternary"
           }
          ],
          "surface": [
           {
            "colorbar": {
             "outlinewidth": 0,
             "tickcolor": "rgb(36,36,36)",
             "ticklen": 8,
             "ticks": "outside",
             "tickwidth": 2
            },
            "colorscale": [
             [
              0,
              "rgb(2,4,25)"
             ],
             [
              0.06274509803921569,
              "rgb(24,15,41)"
             ],
             [
              0.12549019607843137,
              "rgb(47,23,57)"
             ],
             [
              0.18823529411764706,
              "rgb(71,28,72)"
             ],
             [
              0.25098039215686274,
              "rgb(97,30,82)"
             ],
             [
              0.3137254901960784,
              "rgb(123,30,89)"
             ],
             [
              0.3764705882352941,
              "rgb(150,27,91)"
             ],
             [
              0.4392156862745098,
              "rgb(177,22,88)"
             ],
             [
              0.5019607843137255,
              "rgb(203,26,79)"
             ],
             [
              0.5647058823529412,
              "rgb(223,47,67)"
             ],
             [
              0.6274509803921569,
              "rgb(236,76,61)"
             ],
             [
              0.6901960784313725,
              "rgb(242,107,73)"
             ],
             [
              0.7529411764705882,
              "rgb(244,135,95)"
             ],
             [
              0.8156862745098039,
              "rgb(245,162,122)"
             ],
             [
              0.8784313725490196,
              "rgb(246,188,153)"
             ],
             [
              0.9411764705882353,
              "rgb(247,212,187)"
             ],
             [
              1,
              "rgb(250,234,220)"
             ]
            ],
            "type": "surface"
           }
          ],
          "table": [
           {
            "cells": {
             "fill": {
              "color": "rgb(231,231,240)"
             },
             "line": {
              "color": "white"
             }
            },
            "header": {
             "fill": {
              "color": "rgb(183,183,191)"
             },
             "line": {
              "color": "white"
             }
            },
            "type": "table"
           }
          ]
         },
         "layout": {
          "annotationdefaults": {
           "arrowcolor": "rgb(67,103,167)"
          },
          "coloraxis": {
           "colorbar": {
            "outlinewidth": 0,
            "tickcolor": "rgb(36,36,36)",
            "ticklen": 8,
            "ticks": "outside",
            "tickwidth": 2
           }
          },
          "colorscale": {
           "sequential": [
            [
             0,
             "rgb(2,4,25)"
            ],
            [
             0.06274509803921569,
             "rgb(24,15,41)"
            ],
            [
             0.12549019607843137,
             "rgb(47,23,57)"
            ],
            [
             0.18823529411764706,
             "rgb(71,28,72)"
            ],
            [
             0.25098039215686274,
             "rgb(97,30,82)"
            ],
            [
             0.3137254901960784,
             "rgb(123,30,89)"
            ],
            [
             0.3764705882352941,
             "rgb(150,27,91)"
            ],
            [
             0.4392156862745098,
             "rgb(177,22,88)"
            ],
            [
             0.5019607843137255,
             "rgb(203,26,79)"
            ],
            [
             0.5647058823529412,
             "rgb(223,47,67)"
            ],
            [
             0.6274509803921569,
             "rgb(236,76,61)"
            ],
            [
             0.6901960784313725,
             "rgb(242,107,73)"
            ],
            [
             0.7529411764705882,
             "rgb(244,135,95)"
            ],
            [
             0.8156862745098039,
             "rgb(245,162,122)"
            ],
            [
             0.8784313725490196,
             "rgb(246,188,153)"
            ],
            [
             0.9411764705882353,
             "rgb(247,212,187)"
            ],
            [
             1,
             "rgb(250,234,220)"
            ]
           ],
           "sequentialminus": [
            [
             0,
             "rgb(2,4,25)"
            ],
            [
             0.06274509803921569,
             "rgb(24,15,41)"
            ],
            [
             0.12549019607843137,
             "rgb(47,23,57)"
            ],
            [
             0.18823529411764706,
             "rgb(71,28,72)"
            ],
            [
             0.25098039215686274,
             "rgb(97,30,82)"
            ],
            [
             0.3137254901960784,
             "rgb(123,30,89)"
            ],
            [
             0.3764705882352941,
             "rgb(150,27,91)"
            ],
            [
             0.4392156862745098,
             "rgb(177,22,88)"
            ],
            [
             0.5019607843137255,
             "rgb(203,26,79)"
            ],
            [
             0.5647058823529412,
             "rgb(223,47,67)"
            ],
            [
             0.6274509803921569,
             "rgb(236,76,61)"
            ],
            [
             0.6901960784313725,
             "rgb(242,107,73)"
            ],
            [
             0.7529411764705882,
             "rgb(244,135,95)"
            ],
            [
             0.8156862745098039,
             "rgb(245,162,122)"
            ],
            [
             0.8784313725490196,
             "rgb(246,188,153)"
            ],
            [
             0.9411764705882353,
             "rgb(247,212,187)"
            ],
            [
             1,
             "rgb(250,234,220)"
            ]
           ]
          },
          "colorway": [
           "rgb(76,114,176)",
           "rgb(221,132,82)",
           "rgb(85,168,104)",
           "rgb(196,78,82)",
           "rgb(129,114,179)",
           "rgb(147,120,96)",
           "rgb(218,139,195)",
           "rgb(140,140,140)",
           "rgb(204,185,116)",
           "rgb(100,181,205)"
          ],
          "font": {
           "color": "rgb(36,36,36)"
          },
          "geo": {
           "bgcolor": "white",
           "lakecolor": "white",
           "landcolor": "rgb(234,234,242)",
           "showlakes": true,
           "showland": true,
           "subunitcolor": "white"
          },
          "hoverlabel": {
           "align": "left"
          },
          "hovermode": "closest",
          "paper_bgcolor": "white",
          "plot_bgcolor": "rgb(234,234,242)",
          "polar": {
           "angularaxis": {
            "gridcolor": "white",
            "linecolor": "white",
            "showgrid": true,
            "ticks": ""
           },
           "bgcolor": "rgb(234,234,242)",
           "radialaxis": {
            "gridcolor": "white",
            "linecolor": "white",
            "showgrid": true,
            "ticks": ""
           }
          },
          "scene": {
           "xaxis": {
            "backgroundcolor": "rgb(234,234,242)",
            "gridcolor": "white",
            "gridwidth": 2,
            "linecolor": "white",
            "showbackground": true,
            "showgrid": true,
            "ticks": "",
            "zerolinecolor": "white"
           },
           "yaxis": {
            "backgroundcolor": "rgb(234,234,242)",
            "gridcolor": "white",
            "gridwidth": 2,
            "linecolor": "white",
            "showbackground": true,
            "showgrid": true,
            "ticks": "",
            "zerolinecolor": "white"
           },
           "zaxis": {
            "backgroundcolor": "rgb(234,234,242)",
            "gridcolor": "white",
            "gridwidth": 2,
            "linecolor": "white",
            "showbackground": true,
            "showgrid": true,
            "ticks": "",
            "zerolinecolor": "white"
           }
          },
          "shapedefaults": {
           "fillcolor": "rgb(67,103,167)",
           "line": {
            "width": 0
           },
           "opacity": 0.5
          },
          "ternary": {
           "aaxis": {
            "gridcolor": "white",
            "linecolor": "white",
            "showgrid": true,
            "ticks": ""
           },
           "baxis": {
            "gridcolor": "white",
            "linecolor": "white",
            "showgrid": true,
            "ticks": ""
           },
           "bgcolor": "rgb(234,234,242)",
           "caxis": {
            "gridcolor": "white",
            "linecolor": "white",
            "showgrid": true,
            "ticks": ""
           }
          },
          "xaxis": {
           "automargin": true,
           "gridcolor": "white",
           "linecolor": "white",
           "showgrid": true,
           "ticks": "",
           "title": {
            "standoff": 15
           },
           "zerolinecolor": "white"
          },
          "yaxis": {
           "automargin": true,
           "gridcolor": "white",
           "linecolor": "white",
           "showgrid": true,
           "ticks": "",
           "title": {
            "standoff": 15
           },
           "zerolinecolor": "white"
          }
         }
        },
        "title": {
         "font": {
          "family": "Times New Roman",
          "size": 30
         },
         "x": 0.5,
         "y": 0.98
        },
        "width": 800,
        "xaxis": {
         "autorange": true,
         "range": [
          0,
          0.3819363765906946
         ],
         "showgrid": false,
         "title": {
          "text": "Importance"
         },
         "type": "linear",
         "zeroline": false
        },
        "yaxis": {
         "autorange": true,
         "range": [
          -0.5,
          8.5
         ],
         "showgrid": false,
         "title": {
          "text": "Hyperparameter"
         },
         "type": "category",
         "zeroline": false
        }
       }
      },
      "image/png": "[encoded data removed]",
      "text/html": [
       "<div>\n",
       "        \n",
       "        \n",
       "            <div id=\"1df14b17-b5d6-49cc-8fb2-eab9050eeafa\" class=\"plotly-graph-div\" style=\"height:420px; width:800px;\"></div>\n",
       "            <script type=\"text/javascript\">\n",
       "                require([\"plotly\"], function(Plotly) {\n",
       "                    window.PLOTLYENV=window.PLOTLYENV || {};\n",
       "                    \n",
       "                if (document.getElementById(\"1df14b17-b5d6-49cc-8fb2-eab9050eeafa\")) {\n",
       "                    Plotly.newPlot(\n",
       "                        '1df14b17-b5d6-49cc-8fb2-eab9050eeafa',\n",
       "                        [{\"cliponaxis\": false, \"hovertemplate\": [\"Hidden Layers (IntUniformDistribution): 0.0024686723513923817<extra></extra>\", \"Optimizer (CategoricalDistribution): 0.002482217925884677<extra></extra>\", \"Model Type (CategoricalDistribution): 0.005865866194407331<extra></extra>\", \"Latent Size (CategoricalDistribution): 0.02530950804119573<extra></extra>\", \"Frequency Bins (CategoricalDistribution): 0.06837312745416778<extra></extra>\", \"Dropout Rate (DiscreteUniformDistribution): 0.07839004018459884<extra></extra>\", \"L2 Regularization (LogUniformDistribution): 0.1027285014551436<extra></extra>\", \"Time Steps (CategoricalDistribution): 0.35154250863204983<extra></extra>\", \"Learning Rate (UniformDistribution): 0.3628395577611599<extra></extra>\"], \"marker\": {\"color\": [\"rgb(3, 5, 18)\", \"rgb(3, 5, 18)\", \"rgb(3, 5, 18)\", \"rgb(3, 5, 18)\", \"rgb(3, 5, 18)\", \"rgb(3, 5, 18)\", \"rgb(3, 5, 18)\", \"rgb(3, 5, 18)\", \"rgb(3, 5, 18)\"]}, \"orientation\": \"h\", \"text\": [\"0.0024686723513923817\", \"0.002482217925884677\", \"0.005865866194407331\", \"0.02530950804119573\", \"0.06837312745416778\", \"0.07839004018459884\", \"0.1027285014551436\", \"0.35154250863204983\", \"0.3628395577611599\"], \"textposition\": \"outside\", \"texttemplate\": \"%{text:.2f}\", \"type\": \"bar\", \"x\": [0.0024686723513923817, 0.002482217925884677, 0.005865866194407331, 0.02530950804119573, 0.06837312745416778, 0.07839004018459884, 0.1027285014551436, 0.35154250863204983, 0.3628395577611599], \"y\": [\"Hidden Layers\", \"Optimizer\", \"Model Type\", \"Latent Size\", \"Frequency Bins\", \"Dropout Rate\", \"L2 Regularization\", \"Time Steps\", \"Learning Rate\"]}],\n",
       "                        {\"autosize\": false, \"font\": {\"family\": \"Times New Roman\", \"size\": 18}, \"height\": 420, \"margin\": {\"b\": 1, \"l\": 0, \"r\": 20, \"t\": 5}, \"showlegend\": false, \"template\": {\"data\": {\"bar\": [{\"error_x\": {\"color\": \"rgb(36,36,36)\"}, \"error_y\": {\"color\": \"rgb(36,36,36)\"}, \"marker\": {\"line\": {\"color\": \"rgb(234,234,242)\", \"width\": 0.5}}, \"type\": \"bar\"}], \"barpolar\": [{\"marker\": {\"line\": {\"color\": \"rgb(234,234,242)\", \"width\": 0.5}}, \"type\": \"barpolar\"}], \"carpet\": [{\"aaxis\": {\"endlinecolor\": \"rgb(36,36,36)\", \"gridcolor\": \"white\", \"linecolor\": \"white\", \"minorgridcolor\": \"white\", \"startlinecolor\": \"rgb(36,36,36)\"}, \"baxis\": {\"endlinecolor\": \"rgb(36,36,36)\", \"gridcolor\": \"white\", \"linecolor\": \"white\", \"minorgridcolor\": \"white\", \"startlinecolor\": \"rgb(36,36,36)\"}, \"type\": \"carpet\"}], \"choropleth\": [{\"colorbar\": {\"outlinewidth\": 0, \"tickcolor\": \"rgb(36,36,36)\", \"ticklen\": 8, \"ticks\": \"outside\", \"tickwidth\": 2}, \"type\": \"choropleth\"}], \"contour\": [{\"colorbar\": {\"outlinewidth\": 0, \"tickcolor\": \"rgb(36,36,36)\", \"ticklen\": 8, \"ticks\": \"outside\", \"tickwidth\": 2}, \"colorscale\": [[0.0, \"rgb(2,4,25)\"], [0.06274509803921569, \"rgb(24,15,41)\"], [0.12549019607843137, \"rgb(47,23,57)\"], [0.18823529411764706, \"rgb(71,28,72)\"], [0.25098039215686274, \"rgb(97,30,82)\"], [0.3137254901960784, \"rgb(123,30,89)\"], [0.3764705882352941, \"rgb(150,27,91)\"], [0.4392156862745098, \"rgb(177,22,88)\"], [0.5019607843137255, \"rgb(203,26,79)\"], [0.5647058823529412, \"rgb(223,47,67)\"], [0.6274509803921569, \"rgb(236,76,61)\"], [0.6901960784313725, \"rgb(242,107,73)\"], [0.7529411764705882, \"rgb(244,135,95)\"], [0.8156862745098039, \"rgb(245,162,122)\"], [0.8784313725490196, \"rgb(246,188,153)\"], [0.9411764705882353, \"rgb(247,212,187)\"], [1.0, \"rgb(250,234,220)\"]], \"type\": \"contour\"}], \"contourcarpet\": [{\"colorbar\": {\"outlinewidth\": 0, \"tickcolor\": \"rgb(36,36,36)\", \"ticklen\": 8, \"ticks\": \"outside\", \"tickwidth\": 2}, \"type\": \"contourcarpet\"}], \"heatmap\": [{\"colorbar\": {\"outlinewidth\": 0, \"tickcolor\": \"rgb(36,36,36)\", \"ticklen\": 8, \"ticks\": \"outside\", \"tickwidth\": 2}, \"colorscale\": [[0.0, \"rgb(2,4,25)\"], [0.06274509803921569, \"rgb(24,15,41)\"], [0.12549019607843137, \"rgb(47,23,57)\"], [0.18823529411764706, \"rgb(71,28,72)\"], [0.25098039215686274, \"rgb(97,30,82)\"], [0.3137254901960784, \"rgb(123,30,89)\"], [0.3764705882352941, \"rgb(150,27,91)\"], [0.4392156862745098, \"rgb(177,22,88)\"], [0.5019607843137255, \"rgb(203,26,79)\"], [0.5647058823529412, \"rgb(223,47,67)\"], [0.6274509803921569, \"rgb(236,76,61)\"], [0.6901960784313725, \"rgb(242,107,73)\"], [0.7529411764705882, \"rgb(244,135,95)\"], [0.8156862745098039, \"rgb(245,162,122)\"], [0.8784313725490196, \"rgb(246,188,153)\"], [0.9411764705882353, \"rgb(247,212,187)\"], [1.0, \"rgb(250,234,220)\"]], \"type\": \"heatmap\"}], \"heatmapgl\": [{\"colorbar\": {\"outlinewidth\": 0, \"tickcolor\": \"rgb(36,36,36)\", \"ticklen\": 8, \"ticks\": \"outside\", \"tickwidth\": 2}, \"colorscale\": [[0.0, \"rgb(2,4,25)\"], [0.06274509803921569, \"rgb(24,15,41)\"], [0.12549019607843137, \"rgb(47,23,57)\"], [0.18823529411764706, \"rgb(71,28,72)\"], [0.25098039215686274, \"rgb(97,30,82)\"], [0.3137254901960784, \"rgb(123,30,89)\"], [0.3764705882352941, \"rgb(150,27,91)\"], [0.4392156862745098, \"rgb(177,22,88)\"], [0.5019607843137255, \"rgb(203,26,79)\"], [0.5647058823529412, \"rgb(223,47,67)\"], [0.6274509803921569, \"rgb(236,76,61)\"], [0.6901960784313725, \"rgb(242,107,73)\"], [0.7529411764705882, \"rgb(244,135,95)\"], [0.8156862745098039, \"rgb(245,162,122)\"], [0.8784313725490196, \"rgb(246,188,153)\"], [0.9411764705882353, \"rgb(247,212,187)\"], [1.0, \"rgb(250,234,220)\"]], \"type\": \"heatmapgl\"}], \"histogram\": [{\"marker\": {\"colorbar\": {\"outlinewidth\": 0, \"tickcolor\": \"rgb(36,36,36)\", \"ticklen\": 8, \"ticks\": \"outside\", \"tickwidth\": 2}}, \"type\": \"histogram\"}], \"histogram2d\": [{\"colorbar\": {\"outlinewidth\": 0, \"tickcolor\": \"rgb(36,36,36)\", \"ticklen\": 8, \"ticks\": \"outside\", \"tickwidth\": 2}, \"colorscale\": [[0.0, \"rgb(2,4,25)\"], [0.06274509803921569, \"rgb(24,15,41)\"], [0.12549019607843137, \"rgb(47,23,57)\"], [0.18823529411764706, \"rgb(71,28,72)\"], [0.25098039215686274, \"rgb(97,30,82)\"], [0.3137254901960784, \"rgb(123,30,89)\"], [0.3764705882352941, \"rgb(150,27,91)\"], [0.4392156862745098, \"rgb(177,22,88)\"], [0.5019607843137255, \"rgb(203,26,79)\"], [0.5647058823529412, \"rgb(223,47,67)\"], [0.6274509803921569, \"rgb(236,76,61)\"], [0.6901960784313725, \"rgb(242,107,73)\"], [0.7529411764705882, \"rgb(244,135,95)\"], [0.8156862745098039, \"rgb(245,162,122)\"], [0.8784313725490196, \"rgb(246,188,153)\"], [0.9411764705882353, \"rgb(247,212,187)\"], [1.0, \"rgb(250,234,220)\"]], \"type\": \"histogram2d\"}], \"histogram2dcontour\": [{\"colorbar\": {\"outlinewidth\": 0, \"tickcolor\": \"rgb(36,36,36)\", \"ticklen\": 8, \"ticks\": \"outside\", \"tickwidth\": 2}, \"colorscale\": [[0.0, \"rgb(2,4,25)\"], [0.06274509803921569, \"rgb(24,15,41)\"], [0.12549019607843137, \"rgb(47,23,57)\"], [0.18823529411764706, \"rgb(71,28,72)\"], [0.25098039215686274, \"rgb(97,30,82)\"], [0.3137254901960784, \"rgb(123,30,89)\"], [0.3764705882352941, \"rgb(150,27,91)\"], [0.4392156862745098, \"rgb(177,22,88)\"], [0.5019607843137255, \"rgb(203,26,79)\"], [0.5647058823529412, \"rgb(223,47,67)\"], [0.6274509803921569, \"rgb(236,76,61)\"], [0.6901960784313725, \"rgb(242,107,73)\"], [0.7529411764705882, \"rgb(244,135,95)\"], [0.8156862745098039, \"rgb(245,162,122)\"], [0.8784313725490196, \"rgb(246,188,153)\"], [0.9411764705882353, \"rgb(247,212,187)\"], [1.0, \"rgb(250,234,220)\"]], \"type\": \"histogram2dcontour\"}], \"mesh3d\": [{\"colorbar\": {\"outlinewidth\": 0, \"tickcolor\": \"rgb(36,36,36)\", \"ticklen\": 8, \"ticks\": \"outside\", \"tickwidth\": 2}, \"type\": \"mesh3d\"}], \"parcoords\": [{\"line\": {\"colorbar\": {\"outlinewidth\": 0, \"tickcolor\": \"rgb(36,36,36)\", \"ticklen\": 8, \"ticks\": \"outside\", \"tickwidth\": 2}}, \"type\": \"parcoords\"}], \"pie\": [{\"automargin\": true, \"type\": \"pie\"}], \"scatter\": [{\"marker\": {\"colorbar\": {\"outlinewidth\": 0, \"tickcolor\": \"rgb(36,36,36)\", \"ticklen\": 8, \"ticks\": \"outside\", \"tickwidth\": 2}}, \"type\": \"scatter\"}], \"scatter3d\": [{\"line\": {\"colorbar\": {\"outlinewidth\": 0, \"tickcolor\": \"rgb(36,36,36)\", \"ticklen\": 8, \"ticks\": \"outside\", \"tickwidth\": 2}}, \"marker\": {\"colorbar\": {\"outlinewidth\": 0, \"tickcolor\": \"rgb(36,36,36)\", \"ticklen\": 8, \"ticks\": \"outside\", \"tickwidth\": 2}}, \"type\": \"scatter3d\"}], \"scattercarpet\": [{\"marker\": {\"colorbar\": {\"outlinewidth\": 0, \"tickcolor\": \"rgb(36,36,36)\", \"ticklen\": 8, \"ticks\": \"outside\", \"tickwidth\": 2}}, \"type\": \"scattercarpet\"}], \"scattergeo\": [{\"marker\": {\"colorbar\": {\"outlinewidth\": 0, \"tickcolor\": \"rgb(36,36,36)\", \"ticklen\": 8, \"ticks\": \"outside\", \"tickwidth\": 2}}, \"type\": \"scattergeo\"}], \"scattergl\": [{\"marker\": {\"colorbar\": {\"outlinewidth\": 0, \"tickcolor\": \"rgb(36,36,36)\", \"ticklen\": 8, \"ticks\": \"outside\", \"tickwidth\": 2}}, \"type\": \"scattergl\"}], \"scattermapbox\": [{\"marker\": {\"colorbar\": {\"outlinewidth\": 0, \"tickcolor\": \"rgb(36,36,36)\", \"ticklen\": 8, \"ticks\": \"outside\", \"tickwidth\": 2}}, \"type\": \"scattermapbox\"}], \"scatterpolar\": [{\"marker\": {\"colorbar\": {\"outlinewidth\": 0, \"tickcolor\": \"rgb(36,36,36)\", \"ticklen\": 8, \"ticks\": \"outside\", \"tickwidth\": 2}}, \"type\": \"scatterpolar\"}], \"scatterpolargl\": [{\"marker\": {\"colorbar\": {\"outlinewidth\": 0, \"tickcolor\": \"rgb(36,36,36)\", \"ticklen\": 8, \"ticks\": \"outside\", \"tickwidth\": 2}}, \"type\": \"scatterpolargl\"}], \"scatterternary\": [{\"marker\": {\"colorbar\": {\"outlinewidth\": 0, \"tickcolor\": \"rgb(36,36,36)\", \"ticklen\": 8, \"ticks\": \"outside\", \"tickwidth\": 2}}, \"type\": \"scatterternary\"}], \"surface\": [{\"colorbar\": {\"outlinewidth\": 0, \"tickcolor\": \"rgb(36,36,36)\", \"ticklen\": 8, \"ticks\": \"outside\", \"tickwidth\": 2}, \"colorscale\": [[0.0, \"rgb(2,4,25)\"], [0.06274509803921569, \"rgb(24,15,41)\"], [0.12549019607843137, \"rgb(47,23,57)\"], [0.18823529411764706, \"rgb(71,28,72)\"], [0.25098039215686274, \"rgb(97,30,82)\"], [0.3137254901960784, \"rgb(123,30,89)\"], [0.3764705882352941, \"rgb(150,27,91)\"], [0.4392156862745098, \"rgb(177,22,88)\"], [0.5019607843137255, \"rgb(203,26,79)\"], [0.5647058823529412, \"rgb(223,47,67)\"], [0.6274509803921569, \"rgb(236,76,61)\"], [0.6901960784313725, \"rgb(242,107,73)\"], [0.7529411764705882, \"rgb(244,135,95)\"], [0.8156862745098039, \"rgb(245,162,122)\"], [0.8784313725490196, \"rgb(246,188,153)\"], [0.9411764705882353, \"rgb(247,212,187)\"], [1.0, \"rgb(250,234,220)\"]], \"type\": \"surface\"}], \"table\": [{\"cells\": {\"fill\": {\"color\": \"rgb(231,231,240)\"}, \"line\": {\"color\": \"white\"}}, \"header\": {\"fill\": {\"color\": \"rgb(183,183,191)\"}, \"line\": {\"color\": \"white\"}}, \"type\": \"table\"}]}, \"layout\": {\"annotationdefaults\": {\"arrowcolor\": \"rgb(67,103,167)\"}, \"coloraxis\": {\"colorbar\": {\"outlinewidth\": 0, \"tickcolor\": \"rgb(36,36,36)\", \"ticklen\": 8, \"ticks\": \"outside\", \"tickwidth\": 2}}, \"colorscale\": {\"sequential\": [[0.0, \"rgb(2,4,25)\"], [0.06274509803921569, \"rgb(24,15,41)\"], [0.12549019607843137, \"rgb(47,23,57)\"], [0.18823529411764706, \"rgb(71,28,72)\"], [0.25098039215686274, \"rgb(97,30,82)\"], [0.3137254901960784, \"rgb(123,30,89)\"], [0.3764705882352941, \"rgb(150,27,91)\"], [0.4392156862745098, \"rgb(177,22,88)\"], [0.5019607843137255, \"rgb(203,26,79)\"], [0.5647058823529412, \"rgb(223,47,67)\"], [0.6274509803921569, \"rgb(236,76,61)\"], [0.6901960784313725, \"rgb(242,107,73)\"], [0.7529411764705882, \"rgb(244,135,95)\"], [0.8156862745098039, \"rgb(245,162,122)\"], [0.8784313725490196, \"rgb(246,188,153)\"], [0.9411764705882353, \"rgb(247,212,187)\"], [1.0, \"rgb(250,234,220)\"]], \"sequentialminus\": [[0.0, \"rgb(2,4,25)\"], [0.06274509803921569, \"rgb(24,15,41)\"], [0.12549019607843137, \"rgb(47,23,57)\"], [0.18823529411764706, \"rgb(71,28,72)\"], [0.25098039215686274, \"rgb(97,30,82)\"], [0.3137254901960784, \"rgb(123,30,89)\"], [0.3764705882352941, \"rgb(150,27,91)\"], [0.4392156862745098, \"rgb(177,22,88)\"], [0.5019607843137255, \"rgb(203,26,79)\"], [0.5647058823529412, \"rgb(223,47,67)\"], [0.6274509803921569, \"rgb(236,76,61)\"], [0.6901960784313725, \"rgb(242,107,73)\"], [0.7529411764705882, \"rgb(244,135,95)\"], [0.8156862745098039, \"rgb(245,162,122)\"], [0.8784313725490196, \"rgb(246,188,153)\"], [0.9411764705882353, \"rgb(247,212,187)\"], [1.0, \"rgb(250,234,220)\"]]}, \"colorway\": [\"rgb(76,114,176)\", \"rgb(221,132,82)\", \"rgb(85,168,104)\", \"rgb(196,78,82)\", \"rgb(129,114,179)\", \"rgb(147,120,96)\", \"rgb(218,139,195)\", \"rgb(140,140,140)\", \"rgb(204,185,116)\", \"rgb(100,181,205)\"], \"font\": {\"color\": \"rgb(36,36,36)\"}, \"geo\": {\"bgcolor\": \"white\", \"lakecolor\": \"white\", \"landcolor\": \"rgb(234,234,242)\", \"showlakes\": true, \"showland\": true, \"subunitcolor\": \"white\"}, \"hoverlabel\": {\"align\": \"left\"}, \"hovermode\": \"closest\", \"paper_bgcolor\": \"white\", \"plot_bgcolor\": \"rgb(234,234,242)\", \"polar\": {\"angularaxis\": {\"gridcolor\": \"white\", \"linecolor\": \"white\", \"showgrid\": true, \"ticks\": \"\"}, \"bgcolor\": \"rgb(234,234,242)\", \"radialaxis\": {\"gridcolor\": \"white\", \"linecolor\": \"white\", \"showgrid\": true, \"ticks\": \"\"}}, \"scene\": {\"xaxis\": {\"backgroundcolor\": \"rgb(234,234,242)\", \"gridcolor\": \"white\", \"gridwidth\": 2, \"linecolor\": \"white\", \"showbackground\": true, \"showgrid\": true, \"ticks\": \"\", \"zerolinecolor\": \"white\"}, \"yaxis\": {\"backgroundcolor\": \"rgb(234,234,242)\", \"gridcolor\": \"white\", \"gridwidth\": 2, \"linecolor\": \"white\", \"showbackground\": true, \"showgrid\": true, \"ticks\": \"\", \"zerolinecolor\": \"white\"}, \"zaxis\": {\"backgroundcolor\": \"rgb(234,234,242)\", \"gridcolor\": \"white\", \"gridwidth\": 2, \"linecolor\": \"white\", \"showbackground\": true, \"showgrid\": true, \"ticks\": \"\", \"zerolinecolor\": \"white\"}}, \"shapedefaults\": {\"fillcolor\": \"rgb(67,103,167)\", \"line\": {\"width\": 0}, \"opacity\": 0.5}, \"ternary\": {\"aaxis\": {\"gridcolor\": \"white\", \"linecolor\": \"white\", \"showgrid\": true, \"ticks\": \"\"}, \"baxis\": {\"gridcolor\": \"white\", \"linecolor\": \"white\", \"showgrid\": true, \"ticks\": \"\"}, \"bgcolor\": \"rgb(234,234,242)\", \"caxis\": {\"gridcolor\": \"white\", \"linecolor\": \"white\", \"showgrid\": true, \"ticks\": \"\"}}, \"xaxis\": {\"automargin\": true, \"gridcolor\": \"white\", \"linecolor\": \"white\", \"showgrid\": true, \"ticks\": \"\", \"title\": {\"standoff\": 15}, \"zerolinecolor\": \"white\"}, \"yaxis\": {\"automargin\": true, \"gridcolor\": \"white\", \"linecolor\": \"white\", \"showgrid\": true, \"ticks\": \"\", \"title\": {\"standoff\": 15}, \"zerolinecolor\": \"white\"}}}, \"title\": {\"font\": {\"family\": \"Times New Roman\", \"size\": 30}, \"x\": 0.5, \"y\": 0.98}, \"width\": 800, \"xaxis\": {\"showgrid\": false, \"title\": {\"text\": \"Importance\"}, \"zeroline\": false}, \"yaxis\": {\"showgrid\": false, \"title\": {\"text\": \"Hyperparameter\"}, \"zeroline\": false}},\n",
       "                        {\"responsive\": true}\n",
       "                    ).then(function(){\n",
       "                            \n",
       "var gd = document.getElementById('1df14b17-b5d6-49cc-8fb2-eab9050eeafa');\n",
       "var x = new MutationObserver(function (mutations, observer) {{\n",
       "        var display = window.getComputedStyle(gd).display;\n",
       "        if (!display || display === 'none') {{\n",
       "            console.log([gd, 'removed!']);\n",
       "            Plotly.purge(gd);\n",
       "            observer.disconnect();\n",
       "        }}\n",
       "}});\n",
       "\n",
       "// Listen for the removal of the full notebook cells\n",
       "var notebookContainer = gd.closest('#notebook-container');\n",
       "if (notebookContainer) {{\n",
       "    x.observe(notebookContainer, {childList: true});\n",
       "}}\n",
       "\n",
       "// Listen for the clearing of the current output cell\n",
       "var outputEl = gd.closest('.output');\n",
       "if (outputEl) {{\n",
       "    x.observe(outputEl, {childList: true});\n",
       "}}\n",
       "\n",
       "                        })\n",
       "                };\n",
       "                });\n",
       "            </script>\n",
       "        </div>"
      ]
     },
     "metadata": {},
     "output_type": "display_data"
    }
   ],
   "source": [
    "imp.reload(cplot)\n",
    "importances=optuna.importance.get_param_importances(study,params=[p for p in params if p!=\"\"])\n",
    "fig=cplot.plot_param_importances(importances,study)\n",
    "fig.update_layout(\n",
    "    autosize=False,title_text='Hyper-Parameter Importances', title=None, title_x=0.5, title_y=0.98,\n",
    "    template=\"seaborn\",\n",
    "    width=800,height=420,\n",
    "    font_family=\"Times New Roman\",\n",
    "    font_size=18,\n",
    "    title_font_family=\"Times New Roman\",\n",
    "    title_font_size=30,\n",
    "    margin=dict(l=0, t=5,r=20,  b=1),                                   \n",
    "    )\n",
    "fig.update_xaxes(showgrid=False,zeroline=False,)\n",
    "fig.update_yaxes(showgrid=False,zeroline=False,)\n",
    "with open(\"ParameterImportancesround2.pdf\", \"wb\") as f:\n",
    "    f.write(scope.transform(fig, format=\"pdf\", width=800,height=400,))\n",
    "fig"
   ]
  },
  {
   "cell_type": "code",
   "execution_count": 9,
   "metadata": {},
   "outputs": [
    {
     "data": {
      "application/vnd.plotly.v1+json": {
       "config": {
        "plotlyServerURL": "https://plot.ly"
       },
       "data": [
        {
         "marker": {
          "color": "rgb(11,100,200,0.1)",
          "line": {
           "color": "rgb(86, 177, 163)",
           "width": 2
          },
          "size": 12,
          "symbol": "line-ns"
         },
         "mode": "markers",
         "name": "Objective Value",
         "type": "scatter",
         "x": [
          1,
          2,
          3,
          4,
          5,
          7,
          9,
          11,
          12,
          13,
          14,
          16,
          17,
          18,
          21,
          29,
          30,
          32,
          49,
          53,
          54,
          55,
          57,
          60,
          61,
          64,
          65,
          69,
          71,
          77,
          78,
          80,
          81,
          83,
          90,
          91,
          92,
          93,
          94,
          95,
          96,
          97,
          98,
          101,
          103,
          104,
          105,
          106,
          107,
          109,
          111,
          112,
          113,
          114,
          115,
          116,
          117,
          118,
          119,
          120,
          121,
          122,
          123,
          124,
          125,
          126,
          127,
          129,
          130,
          131,
          132,
          133,
          134,
          135,
          137,
          141,
          142,
          143,
          144,
          146,
          147,
          150,
          152,
          153,
          155,
          156,
          158,
          159,
          160,
          161,
          162,
          164,
          167,
          168,
          170,
          171,
          172,
          174,
          175,
          176,
          177,
          178,
          182,
          184,
          185,
          186,
          187,
          188,
          189,
          193,
          195,
          199,
          200,
          206,
          207,
          213,
          215,
          219,
          220,
          221,
          226,
          228,
          229,
          231,
          234,
          238,
          239,
          240,
          241,
          242,
          243,
          244,
          245,
          246,
          247,
          249,
          250,
          253,
          254,
          255,
          256,
          257,
          259,
          260,
          262,
          265,
          268,
          273,
          274,
          276,
          280,
          281,
          283,
          285,
          287,
          288,
          291,
          297,
          300,
          301,
          303,
          307,
          317,
          319,
          320,
          338,
          346,
          352,
          353,
          356,
          358,
          364,
          367,
          372,
          385,
          386,
          388,
          394,
          411,
          416,
          418,
          419,
          422,
          423,
          424,
          427,
          431,
          432,
          434,
          436,
          437,
          439,
          440,
          442,
          448,
          451,
          452,
          453,
          455,
          459,
          466,
          476,
          477,
          479,
          488,
          492,
          494,
          501
         ],
         "y": [
          0.004806078606634401,
          0.003859467784059234,
          0.006899588188389316,
          0.003954304184298962,
          0.004555044352309778,
          0.002741562863229774,
          0.0040650375682162124,
          0.002703370651579462,
          0.002742584748193622,
          0.0027852259911014697,
          0.002659186704840977,
          0.002721289354667533,
          0.0026697944471379743,
          0.0025738466312759554,
          0.0026675914574298075,
          0.002602053145528771,
          0.0026633764151483773,
          0.0026120231312233956,
          0.002694558328948915,
          0.0025316345621831716,
          0.002547006263921503,
          0.002628549249493517,
          0.0026004576589912175,
          0.00268102710833773,
          0.0026229927301756107,
          0.00260158458549995,
          0.002607858939154539,
          0.002712604831322096,
          0.0025871224483125844,
          0.002581370007828809,
          0.0026379329938208684,
          0.002597467236046214,
          0.0025297268148278818,
          0.002664230727532413,
          0.002524374457425438,
          0.0025590166987967677,
          0.0025106588858761826,
          0.0025755566704901865,
          0.0024912778739235365,
          0.0025447559630265458,
          0.002516635609208606,
          0.0025824604424997235,
          0.002570537364226766,
          0.002558678474451881,
          0.002600178051216062,
          0.0026774371930514463,
          0.002565886380034499,
          0.0025577429041732103,
          0.0025965754699427634,
          0.002610860856657382,
          0.0025278246495872734,
          0.0025263935240218416,
          0.0025278059925767592,
          0.0025331405078759415,
          0.002545112240477465,
          0.0025551880040438845,
          0.002486906338890549,
          0.002503639984934125,
          0.002532156286179088,
          0.002511036762734875,
          0.0025419807352591306,
          0.002518554851121735,
          0.0025358783939736897,
          0.0024965404882095754,
          0.0024954349239123983,
          0.0025065176596399397,
          0.002524984732735902,
          0.002515672043955419,
          0.002560347516555339,
          0.002503455242549535,
          0.0025246641220292077,
          0.0025246715493267404,
          0.0025230704035493546,
          0.002594852457696106,
          0.002544215005764272,
          0.0025232543048332445,
          0.002525589782453608,
          0.0025232009080355055,
          0.0024816282020765357,
          0.0024710931960726158,
          0.0025387234782101586,
          0.002507292445807252,
          0.0026092999716638586,
          0.0025338108782307243,
          0.002495279652066529,
          0.0025297358093666843,
          0.0025481611024588346,
          0.002473583423125092,
          0.0025054411569726655,
          0.002521463204175234,
          0.0024753686171607114,
          0.002527839667163789,
          0.0024821717910526787,
          0.002485939500911627,
          0.002502791627193801,
          0.0024994068226078525,
          0.0025490744796115906,
          0.002493320344365202,
          0.002480317144363653,
          0.002481266902759671,
          0.0025778603987419045,
          0.0024479900108417495,
          0.002596765353519004,
          0.0025157490148558282,
          0.002524034156522248,
          0.0025253817591874396,
          0.0024677264387719332,
          0.002483712813409511,
          0.0024611928216472733,
          0.002481597621954279,
          0.0025413582377950663,
          0.002466008302872069,
          0.0024449393298709766,
          0.0025026218878338113,
          0.0024963988849776796,
          0.002505363873206079,
          0.0024783263113931754,
          0.0026151488738832994,
          0.002541531130555086,
          0.002458727742487099,
          0.0025497915732557884,
          0.002452704231836833,
          0.0025112171060754918,
          0.0025040479769813826,
          0.0025112076284131033,
          0.0024868511376553216,
          0.002488898561568931,
          0.002528205954877194,
          0.002473391787498258,
          0.002456285644439049,
          0.0024976086133392528,
          0.002475754111947026,
          0.0025450832181377336,
          0.002462921675760299,
          0.002481888966576662,
          0.002518774403142743,
          0.0024722979491343723,
          0.002461654991202522,
          0.002448498423473211,
          0.0026844879204872994,
          0.002520435744372662,
          0.002448155228194082,
          0.002474131826602388,
          0.0024686250209924763,
          0.0024612341934698635,
          0.0026365409037680367,
          0.0019065026586758903,
          0.002455324413313065,
          0.002433821248996537,
          0.0019806390744633974,
          0.002493001805851236,
          0.0024601444078143687,
          0.001997707929695025,
          0.0018876087880926207,
          0.0018657921900739893,
          0.0018412562109006102,
          0.001848797163256677,
          0.0035168072759915957,
          0.009319794340990483,
          0.0018551391054643317,
          0.005765578185673803,
          0.005723957138252444,
          0.0015066302170453128,
          0.004205708060180768,
          0.0037705377326346934,
          0.002900230683735572,
          0.001990958502574358,
          0.0025493435518001207,
          0.002563407411798835,
          0.001848109742422821,
          0.0027155940864759033,
          0.0011792142558988417,
          0.0011993015916232253,
          0.0014545244666805957,
          0.001313652344106231,
          0.0010924892700131749,
          0.0015308693851693532,
          0.0008574073977797525,
          0.0008141949008859228,
          0.001034970217733644,
          0.0008491079395753331,
          0.0009988772668293676,
          0.0011126107474410674,
          0.0012214973055961309,
          0.0009071529466382344,
          0.0009500103904429124,
          0.0010838741989573463,
          0.0009170135530439438,
          0.000890154168519075,
          0.0008363658645976102,
          0.0008532279651262797,
          0.0009027145306390594,
          0.0008430311829215498,
          0.001227708035366959,
          0.0008450699835520937,
          0.0009999239300668705,
          0.0008990688354970188,
          0.0009510050433163997,
          0.0010757182179077062,
          0.0009086214035050943,
          0.0007981279288287624,
          0.0008722248006961308,
          0.000914157469719612,
          0.0009715273783513112,
          0.0008542828087229282,
          0.0009161215595668182,
          0.0011063794532674364,
          0.0008737429325265111
         ]
        },
        {
         "line": {
          "width": 2
         },
         "marker": {
          "color": "rgb(10,10,50)",
          "size": 20
         },
         "name": "Best Value",
         "type": "scatter",
         "x": [
          1,
          2,
          3,
          4,
          5,
          7,
          9,
          11,
          12,
          13,
          14,
          16,
          17,
          18,
          21,
          29,
          30,
          32,
          49,
          53,
          54,
          55,
          57,
          60,
          61,
          64,
          65,
          69,
          71,
          77,
          78,
          80,
          81,
          83,
          90,
          91,
          92,
          93,
          94,
          95,
          96,
          97,
          98,
          101,
          103,
          104,
          105,
          106,
          107,
          109,
          111,
          112,
          113,
          114,
          115,
          116,
          117,
          118,
          119,
          120,
          121,
          122,
          123,
          124,
          125,
          126,
          127,
          129,
          130,
          131,
          132,
          133,
          134,
          135,
          137,
          141,
          142,
          143,
          144,
          146,
          147,
          150,
          152,
          153,
          155,
          156,
          158,
          159,
          160,
          161,
          162,
          164,
          167,
          168,
          170,
          171,
          172,
          174,
          175,
          176,
          177,
          178,
          182,
          184,
          185,
          186,
          187,
          188,
          189,
          193,
          195,
          199,
          200,
          206,
          207,
          213,
          215,
          219,
          220,
          221,
          226,
          228,
          229,
          231,
          234,
          238,
          239,
          240,
          241,
          242,
          243,
          244,
          245,
          246,
          247,
          249,
          250,
          253,
          254,
          255,
          256,
          257,
          259,
          260,
          262,
          265,
          268,
          273,
          274,
          276,
          280,
          281,
          283,
          285,
          287,
          288,
          291,
          297,
          300,
          301,
          303,
          307,
          317,
          319,
          320,
          338,
          346,
          352,
          353,
          356,
          358,
          364,
          367,
          372,
          385,
          386,
          388,
          394,
          411,
          416,
          418,
          419,
          422,
          423,
          424,
          427,
          431,
          432,
          434,
          436,
          437,
          439,
          440,
          442,
          448,
          451,
          452,
          453,
          455,
          459,
          466,
          476,
          477,
          479,
          488,
          492,
          494,
          501
         ],
         "y": [
          0.004806078606634401,
          0.003859467784059234,
          0.003859467784059234,
          0.003859467784059234,
          0.003859467784059234,
          0.002741562863229774,
          0.002741562863229774,
          0.002703370651579462,
          0.002703370651579462,
          0.002703370651579462,
          0.002659186704840977,
          0.002659186704840977,
          0.002659186704840977,
          0.0025738466312759554,
          0.0025738466312759554,
          0.0025738466312759554,
          0.0025738466312759554,
          0.0025738466312759554,
          0.0025738466312759554,
          0.0025316345621831716,
          0.0025316345621831716,
          0.0025316345621831716,
          0.0025316345621831716,
          0.0025316345621831716,
          0.0025316345621831716,
          0.0025316345621831716,
          0.0025316345621831716,
          0.0025316345621831716,
          0.0025316345621831716,
          0.0025316345621831716,
          0.0025316345621831716,
          0.0025316345621831716,
          0.0025297268148278818,
          0.0025297268148278818,
          0.002524374457425438,
          0.002524374457425438,
          0.0025106588858761826,
          0.0025106588858761826,
          0.0024912778739235365,
          0.0024912778739235365,
          0.0024912778739235365,
          0.0024912778739235365,
          0.0024912778739235365,
          0.0024912778739235365,
          0.0024912778739235365,
          0.0024912778739235365,
          0.0024912778739235365,
          0.0024912778739235365,
          0.0024912778739235365,
          0.0024912778739235365,
          0.0024912778739235365,
          0.0024912778739235365,
          0.0024912778739235365,
          0.0024912778739235365,
          0.0024912778739235365,
          0.0024912778739235365,
          0.002486906338890549,
          0.002486906338890549,
          0.002486906338890549,
          0.002486906338890549,
          0.002486906338890549,
          0.002486906338890549,
          0.002486906338890549,
          0.002486906338890549,
          0.002486906338890549,
          0.002486906338890549,
          0.002486906338890549,
          0.002486906338890549,
          0.002486906338890549,
          0.002486906338890549,
          0.002486906338890549,
          0.002486906338890549,
          0.002486906338890549,
          0.002486906338890549,
          0.002486906338890549,
          0.002486906338890549,
          0.002486906338890549,
          0.002486906338890549,
          0.0024816282020765357,
          0.0024710931960726158,
          0.0024710931960726158,
          0.0024710931960726158,
          0.0024710931960726158,
          0.0024710931960726158,
          0.0024710931960726158,
          0.0024710931960726158,
          0.0024710931960726158,
          0.0024710931960726158,
          0.0024710931960726158,
          0.0024710931960726158,
          0.0024710931960726158,
          0.0024710931960726158,
          0.0024710931960726158,
          0.0024710931960726158,
          0.0024710931960726158,
          0.0024710931960726158,
          0.0024710931960726158,
          0.0024710931960726158,
          0.0024710931960726158,
          0.0024710931960726158,
          0.0024710931960726158,
          0.0024479900108417495,
          0.0024479900108417495,
          0.0024479900108417495,
          0.0024479900108417495,
          0.0024479900108417495,
          0.0024479900108417495,
          0.0024479900108417495,
          0.0024479900108417495,
          0.0024479900108417495,
          0.0024479900108417495,
          0.0024479900108417495,
          0.0024449393298709766,
          0.0024449393298709766,
          0.0024449393298709766,
          0.0024449393298709766,
          0.0024449393298709766,
          0.0024449393298709766,
          0.0024449393298709766,
          0.0024449393298709766,
          0.0024449393298709766,
          0.0024449393298709766,
          0.0024449393298709766,
          0.0024449393298709766,
          0.0024449393298709766,
          0.0024449393298709766,
          0.0024449393298709766,
          0.0024449393298709766,
          0.0024449393298709766,
          0.0024449393298709766,
          0.0024449393298709766,
          0.0024449393298709766,
          0.0024449393298709766,
          0.0024449393298709766,
          0.0024449393298709766,
          0.0024449393298709766,
          0.0024449393298709766,
          0.0024449393298709766,
          0.0024449393298709766,
          0.0024449393298709766,
          0.0024449393298709766,
          0.0024449393298709766,
          0.0024449393298709766,
          0.0024449393298709766,
          0.0024449393298709766,
          0.0024449393298709766,
          0.0019065026586758903,
          0.0019065026586758903,
          0.0019065026586758903,
          0.0019065026586758903,
          0.0019065026586758903,
          0.0019065026586758903,
          0.0019065026586758903,
          0.0018876087880926207,
          0.0018657921900739893,
          0.0018412562109006102,
          0.0018412562109006102,
          0.0018412562109006102,
          0.0018412562109006102,
          0.0018412562109006102,
          0.0018412562109006102,
          0.0018412562109006102,
          0.0015066302170453128,
          0.0015066302170453128,
          0.0015066302170453128,
          0.0015066302170453128,
          0.0015066302170453128,
          0.0015066302170453128,
          0.0015066302170453128,
          0.0015066302170453128,
          0.0015066302170453128,
          0.0011792142558988417,
          0.0011792142558988417,
          0.0011792142558988417,
          0.0011792142558988417,
          0.0010924892700131749,
          0.0010924892700131749,
          0.0008574073977797525,
          0.0008141949008859228,
          0.0008141949008859228,
          0.0008141949008859228,
          0.0008141949008859228,
          0.0008141949008859228,
          0.0008141949008859228,
          0.0008141949008859228,
          0.0008141949008859228,
          0.0008141949008859228,
          0.0008141949008859228,
          0.0008141949008859228,
          0.0008141949008859228,
          0.0008141949008859228,
          0.0008141949008859228,
          0.0008141949008859228,
          0.0008141949008859228,
          0.0008141949008859228,
          0.0008141949008859228,
          0.0008141949008859228,
          0.0008141949008859228,
          0.0008141949008859228,
          0.0008141949008859228,
          0.0007981279288287624,
          0.0007981279288287624,
          0.0007981279288287624,
          0.0007981279288287624,
          0.0007981279288287624,
          0.0007981279288287624,
          0.0007981279288287624,
          0.0007981279288287624
         ]
        }
       ],
       "layout": {
        "autosize": false,
        "font": {
         "family": "Times New Roman",
         "size": 18
        },
        "height": 400,
        "legend": {
         "bgcolor": "rgba(220,220,230,0.8)",
         "orientation": "v",
         "x": 1,
         "xanchor": "right",
         "y": 1,
         "yanchor": "top"
        },
        "margin": {
         "b": 0,
         "l": 10,
         "r": 10,
         "t": 5
        },
        "template": {
         "data": {
          "bar": [
           {
            "error_x": {
             "color": "rgb(36,36,36)"
            },
            "error_y": {
             "color": "rgb(36,36,36)"
            },
            "marker": {
             "line": {
              "color": "rgb(234,234,242)",
              "width": 0.5
             }
            },
            "type": "bar"
           }
          ],
          "barpolar": [
           {
            "marker": {
             "line": {
              "color": "rgb(234,234,242)",
              "width": 0.5
             }
            },
            "type": "barpolar"
           }
          ],
          "carpet": [
           {
            "aaxis": {
             "endlinecolor": "rgb(36,36,36)",
             "gridcolor": "white",
             "linecolor": "white",
             "minorgridcolor": "white",
             "startlinecolor": "rgb(36,36,36)"
            },
            "baxis": {
             "endlinecolor": "rgb(36,36,36)",
             "gridcolor": "white",
             "linecolor": "white",
             "minorgridcolor": "white",
             "startlinecolor": "rgb(36,36,36)"
            },
            "type": "carpet"
           }
          ],
          "choropleth": [
           {
            "colorbar": {
             "outlinewidth": 0,
             "tickcolor": "rgb(36,36,36)",
             "ticklen": 8,
             "ticks": "outside",
             "tickwidth": 2
            },
            "type": "choropleth"
           }
          ],
          "contour": [
           {
            "colorbar": {
             "outlinewidth": 0,
             "tickcolor": "rgb(36,36,36)",
             "ticklen": 8,
             "ticks": "outside",
             "tickwidth": 2
            },
            "colorscale": [
             [
              0,
              "rgb(2,4,25)"
             ],
             [
              0.06274509803921569,
              "rgb(24,15,41)"
             ],
             [
              0.12549019607843137,
              "rgb(47,23,57)"
             ],
             [
              0.18823529411764706,
              "rgb(71,28,72)"
             ],
             [
              0.25098039215686274,
              "rgb(97,30,82)"
             ],
             [
              0.3137254901960784,
              "rgb(123,30,89)"
             ],
             [
              0.3764705882352941,
              "rgb(150,27,91)"
             ],
             [
              0.4392156862745098,
              "rgb(177,22,88)"
             ],
             [
              0.5019607843137255,
              "rgb(203,26,79)"
             ],
             [
              0.5647058823529412,
              "rgb(223,47,67)"
             ],
             [
              0.6274509803921569,
              "rgb(236,76,61)"
             ],
             [
              0.6901960784313725,
              "rgb(242,107,73)"
             ],
             [
              0.7529411764705882,
              "rgb(244,135,95)"
             ],
             [
              0.8156862745098039,
              "rgb(245,162,122)"
             ],
             [
              0.8784313725490196,
              "rgb(246,188,153)"
             ],
             [
              0.9411764705882353,
              "rgb(247,212,187)"
             ],
             [
              1,
              "rgb(250,234,220)"
             ]
            ],
            "type": "contour"
           }
          ],
          "contourcarpet": [
           {
            "colorbar": {
             "outlinewidth": 0,
             "tickcolor": "rgb(36,36,36)",
             "ticklen": 8,
             "ticks": "outside",
             "tickwidth": 2
            },
            "type": "contourcarpet"
           }
          ],
          "heatmap": [
           {
            "colorbar": {
             "outlinewidth": 0,
             "tickcolor": "rgb(36,36,36)",
             "ticklen": 8,
             "ticks": "outside",
             "tickwidth": 2
            },
            "colorscale": [
             [
              0,
              "rgb(2,4,25)"
             ],
             [
              0.06274509803921569,
              "rgb(24,15,41)"
             ],
             [
              0.12549019607843137,
              "rgb(47,23,57)"
             ],
             [
              0.18823529411764706,
              "rgb(71,28,72)"
             ],
             [
              0.25098039215686274,
              "rgb(97,30,82)"
             ],
             [
              0.3137254901960784,
              "rgb(123,30,89)"
             ],
             [
              0.3764705882352941,
              "rgb(150,27,91)"
             ],
             [
              0.4392156862745098,
              "rgb(177,22,88)"
             ],
             [
              0.5019607843137255,
              "rgb(203,26,79)"
             ],
             [
              0.5647058823529412,
              "rgb(223,47,67)"
             ],
             [
              0.6274509803921569,
              "rgb(236,76,61)"
             ],
             [
              0.6901960784313725,
              "rgb(242,107,73)"
             ],
             [
              0.7529411764705882,
              "rgb(244,135,95)"
             ],
             [
              0.8156862745098039,
              "rgb(245,162,122)"
             ],
             [
              0.8784313725490196,
              "rgb(246,188,153)"
             ],
             [
              0.9411764705882353,
              "rgb(247,212,187)"
             ],
             [
              1,
              "rgb(250,234,220)"
             ]
            ],
            "type": "heatmap"
           }
          ],
          "heatmapgl": [
           {
            "colorbar": {
             "outlinewidth": 0,
             "tickcolor": "rgb(36,36,36)",
             "ticklen": 8,
             "ticks": "outside",
             "tickwidth": 2
            },
            "colorscale": [
             [
              0,
              "rgb(2,4,25)"
             ],
             [
              0.06274509803921569,
              "rgb(24,15,41)"
             ],
             [
              0.12549019607843137,
              "rgb(47,23,57)"
             ],
             [
              0.18823529411764706,
              "rgb(71,28,72)"
             ],
             [
              0.25098039215686274,
              "rgb(97,30,82)"
             ],
             [
              0.3137254901960784,
              "rgb(123,30,89)"
             ],
             [
              0.3764705882352941,
              "rgb(150,27,91)"
             ],
             [
              0.4392156862745098,
              "rgb(177,22,88)"
             ],
             [
              0.5019607843137255,
              "rgb(203,26,79)"
             ],
             [
              0.5647058823529412,
              "rgb(223,47,67)"
             ],
             [
              0.6274509803921569,
              "rgb(236,76,61)"
             ],
             [
              0.6901960784313725,
              "rgb(242,107,73)"
             ],
             [
              0.7529411764705882,
              "rgb(244,135,95)"
             ],
             [
              0.8156862745098039,
              "rgb(245,162,122)"
             ],
             [
              0.8784313725490196,
              "rgb(246,188,153)"
             ],
             [
              0.9411764705882353,
              "rgb(247,212,187)"
             ],
             [
              1,
              "rgb(250,234,220)"
             ]
            ],
            "type": "heatmapgl"
           }
          ],
          "histogram": [
           {
            "marker": {
             "colorbar": {
              "outlinewidth": 0,
              "tickcolor": "rgb(36,36,36)",
              "ticklen": 8,
              "ticks": "outside",
              "tickwidth": 2
             }
            },
            "type": "histogram"
           }
          ],
          "histogram2d": [
           {
            "colorbar": {
             "outlinewidth": 0,
             "tickcolor": "rgb(36,36,36)",
             "ticklen": 8,
             "ticks": "outside",
             "tickwidth": 2
            },
            "colorscale": [
             [
              0,
              "rgb(2,4,25)"
             ],
             [
              0.06274509803921569,
              "rgb(24,15,41)"
             ],
             [
              0.12549019607843137,
              "rgb(47,23,57)"
             ],
             [
              0.18823529411764706,
              "rgb(71,28,72)"
             ],
             [
              0.25098039215686274,
              "rgb(97,30,82)"
             ],
             [
              0.3137254901960784,
              "rgb(123,30,89)"
             ],
             [
              0.3764705882352941,
              "rgb(150,27,91)"
             ],
             [
              0.4392156862745098,
              "rgb(177,22,88)"
             ],
             [
              0.5019607843137255,
              "rgb(203,26,79)"
             ],
             [
              0.5647058823529412,
              "rgb(223,47,67)"
             ],
             [
              0.6274509803921569,
              "rgb(236,76,61)"
             ],
             [
              0.6901960784313725,
              "rgb(242,107,73)"
             ],
             [
              0.7529411764705882,
              "rgb(244,135,95)"
             ],
             [
              0.8156862745098039,
              "rgb(245,162,122)"
             ],
             [
              0.8784313725490196,
              "rgb(246,188,153)"
             ],
             [
              0.9411764705882353,
              "rgb(247,212,187)"
             ],
             [
              1,
              "rgb(250,234,220)"
             ]
            ],
            "type": "histogram2d"
           }
          ],
          "histogram2dcontour": [
           {
            "colorbar": {
             "outlinewidth": 0,
             "tickcolor": "rgb(36,36,36)",
             "ticklen": 8,
             "ticks": "outside",
             "tickwidth": 2
            },
            "colorscale": [
             [
              0,
              "rgb(2,4,25)"
             ],
             [
              0.06274509803921569,
              "rgb(24,15,41)"
             ],
             [
              0.12549019607843137,
              "rgb(47,23,57)"
             ],
             [
              0.18823529411764706,
              "rgb(71,28,72)"
             ],
             [
              0.25098039215686274,
              "rgb(97,30,82)"
             ],
             [
              0.3137254901960784,
              "rgb(123,30,89)"
             ],
             [
              0.3764705882352941,
              "rgb(150,27,91)"
             ],
             [
              0.4392156862745098,
              "rgb(177,22,88)"
             ],
             [
              0.5019607843137255,
              "rgb(203,26,79)"
             ],
             [
              0.5647058823529412,
              "rgb(223,47,67)"
             ],
             [
              0.6274509803921569,
              "rgb(236,76,61)"
             ],
             [
              0.6901960784313725,
              "rgb(242,107,73)"
             ],
             [
              0.7529411764705882,
              "rgb(244,135,95)"
             ],
             [
              0.8156862745098039,
              "rgb(245,162,122)"
             ],
             [
              0.8784313725490196,
              "rgb(246,188,153)"
             ],
             [
              0.9411764705882353,
              "rgb(247,212,187)"
             ],
             [
              1,
              "rgb(250,234,220)"
             ]
            ],
            "type": "histogram2dcontour"
           }
          ],
          "mesh3d": [
           {
            "colorbar": {
             "outlinewidth": 0,
             "tickcolor": "rgb(36,36,36)",
             "ticklen": 8,
             "ticks": "outside",
             "tickwidth": 2
            },
            "type": "mesh3d"
           }
          ],
          "parcoords": [
           {
            "line": {
             "colorbar": {
              "outlinewidth": 0,
              "tickcolor": "rgb(36,36,36)",
              "ticklen": 8,
              "ticks": "outside",
              "tickwidth": 2
             }
            },
            "type": "parcoords"
           }
          ],
          "pie": [
           {
            "automargin": true,
            "type": "pie"
           }
          ],
          "scatter": [
           {
            "marker": {
             "colorbar": {
              "outlinewidth": 0,
              "tickcolor": "rgb(36,36,36)",
              "ticklen": 8,
              "ticks": "outside",
              "tickwidth": 2
             }
            },
            "type": "scatter"
           }
          ],
          "scatter3d": [
           {
            "line": {
             "colorbar": {
              "outlinewidth": 0,
              "tickcolor": "rgb(36,36,36)",
              "ticklen": 8,
              "ticks": "outside",
              "tickwidth": 2
             }
            },
            "marker": {
             "colorbar": {
              "outlinewidth": 0,
              "tickcolor": "rgb(36,36,36)",
              "ticklen": 8,
              "ticks": "outside",
              "tickwidth": 2
             }
            },
            "type": "scatter3d"
           }
          ],
          "scattercarpet": [
           {
            "marker": {
             "colorbar": {
              "outlinewidth": 0,
              "tickcolor": "rgb(36,36,36)",
              "ticklen": 8,
              "ticks": "outside",
              "tickwidth": 2
             }
            },
            "type": "scattercarpet"
           }
          ],
          "scattergeo": [
           {
            "marker": {
             "colorbar": {
              "outlinewidth": 0,
              "tickcolor": "rgb(36,36,36)",
              "ticklen": 8,
              "ticks": "outside",
              "tickwidth": 2
             }
            },
            "type": "scattergeo"
           }
          ],
          "scattergl": [
           {
            "marker": {
             "colorbar": {
              "outlinewidth": 0,
              "tickcolor": "rgb(36,36,36)",
              "ticklen": 8,
              "ticks": "outside",
              "tickwidth": 2
             }
            },
            "type": "scattergl"
           }
          ],
          "scattermapbox": [
           {
            "marker": {
             "colorbar": {
              "outlinewidth": 0,
              "tickcolor": "rgb(36,36,36)",
              "ticklen": 8,
              "ticks": "outside",
              "tickwidth": 2
             }
            },
            "type": "scattermapbox"
           }
          ],
          "scatterpolar": [
           {
            "marker": {
             "colorbar": {
              "outlinewidth": 0,
              "tickcolor": "rgb(36,36,36)",
              "ticklen": 8,
              "ticks": "outside",
              "tickwidth": 2
             }
            },
            "type": "scatterpolar"
           }
          ],
          "scatterpolargl": [
           {
            "marker": {
             "colorbar": {
              "outlinewidth": 0,
              "tickcolor": "rgb(36,36,36)",
              "ticklen": 8,
              "ticks": "outside",
              "tickwidth": 2
             }
            },
            "type": "scatterpolargl"
           }
          ],
          "scatterternary": [
           {
            "marker": {
             "colorbar": {
              "outlinewidth": 0,
              "tickcolor": "rgb(36,36,36)",
              "ticklen": 8,
              "ticks": "outside",
              "tickwidth": 2
             }
            },
            "type": "scatterternary"
           }
          ],
          "surface": [
           {
            "colorbar": {
             "outlinewidth": 0,
             "tickcolor": "rgb(36,36,36)",
             "ticklen": 8,
             "ticks": "outside",
             "tickwidth": 2
            },
            "colorscale": [
             [
              0,
              "rgb(2,4,25)"
             ],
             [
              0.06274509803921569,
              "rgb(24,15,41)"
             ],
             [
              0.12549019607843137,
              "rgb(47,23,57)"
             ],
             [
              0.18823529411764706,
              "rgb(71,28,72)"
             ],
             [
              0.25098039215686274,
              "rgb(97,30,82)"
             ],
             [
              0.3137254901960784,
              "rgb(123,30,89)"
             ],
             [
              0.3764705882352941,
              "rgb(150,27,91)"
             ],
             [
              0.4392156862745098,
              "rgb(177,22,88)"
             ],
             [
              0.5019607843137255,
              "rgb(203,26,79)"
             ],
             [
              0.5647058823529412,
              "rgb(223,47,67)"
             ],
             [
              0.6274509803921569,
              "rgb(236,76,61)"
             ],
             [
              0.6901960784313725,
              "rgb(242,107,73)"
             ],
             [
              0.7529411764705882,
              "rgb(244,135,95)"
             ],
             [
              0.8156862745098039,
              "rgb(245,162,122)"
             ],
             [
              0.8784313725490196,
              "rgb(246,188,153)"
             ],
             [
              0.9411764705882353,
              "rgb(247,212,187)"
             ],
             [
              1,
              "rgb(250,234,220)"
             ]
            ],
            "type": "surface"
           }
          ],
          "table": [
           {
            "cells": {
             "fill": {
              "color": "rgb(231,231,240)"
             },
             "line": {
              "color": "white"
             }
            },
            "header": {
             "fill": {
              "color": "rgb(183,183,191)"
             },
             "line": {
              "color": "white"
             }
            },
            "type": "table"
           }
          ]
         },
         "layout": {
          "annotationdefaults": {
           "arrowcolor": "rgb(67,103,167)"
          },
          "coloraxis": {
           "colorbar": {
            "outlinewidth": 0,
            "tickcolor": "rgb(36,36,36)",
            "ticklen": 8,
            "ticks": "outside",
            "tickwidth": 2
           }
          },
          "colorscale": {
           "sequential": [
            [
             0,
             "rgb(2,4,25)"
            ],
            [
             0.06274509803921569,
             "rgb(24,15,41)"
            ],
            [
             0.12549019607843137,
             "rgb(47,23,57)"
            ],
            [
             0.18823529411764706,
             "rgb(71,28,72)"
            ],
            [
             0.25098039215686274,
             "rgb(97,30,82)"
            ],
            [
             0.3137254901960784,
             "rgb(123,30,89)"
            ],
            [
             0.3764705882352941,
             "rgb(150,27,91)"
            ],
            [
             0.4392156862745098,
             "rgb(177,22,88)"
            ],
            [
             0.5019607843137255,
             "rgb(203,26,79)"
            ],
            [
             0.5647058823529412,
             "rgb(223,47,67)"
            ],
            [
             0.6274509803921569,
             "rgb(236,76,61)"
            ],
            [
             0.6901960784313725,
             "rgb(242,107,73)"
            ],
            [
             0.7529411764705882,
             "rgb(244,135,95)"
            ],
            [
             0.8156862745098039,
             "rgb(245,162,122)"
            ],
            [
             0.8784313725490196,
             "rgb(246,188,153)"
            ],
            [
             0.9411764705882353,
             "rgb(247,212,187)"
            ],
            [
             1,
             "rgb(250,234,220)"
            ]
           ],
           "sequentialminus": [
            [
             0,
             "rgb(2,4,25)"
            ],
            [
             0.06274509803921569,
             "rgb(24,15,41)"
            ],
            [
             0.12549019607843137,
             "rgb(47,23,57)"
            ],
            [
             0.18823529411764706,
             "rgb(71,28,72)"
            ],
            [
             0.25098039215686274,
             "rgb(97,30,82)"
            ],
            [
             0.3137254901960784,
             "rgb(123,30,89)"
            ],
            [
             0.3764705882352941,
             "rgb(150,27,91)"
            ],
            [
             0.4392156862745098,
             "rgb(177,22,88)"
            ],
            [
             0.5019607843137255,
             "rgb(203,26,79)"
            ],
            [
             0.5647058823529412,
             "rgb(223,47,67)"
            ],
            [
             0.6274509803921569,
             "rgb(236,76,61)"
            ],
            [
             0.6901960784313725,
             "rgb(242,107,73)"
            ],
            [
             0.7529411764705882,
             "rgb(244,135,95)"
            ],
            [
             0.8156862745098039,
             "rgb(245,162,122)"
            ],
            [
             0.8784313725490196,
             "rgb(246,188,153)"
            ],
            [
             0.9411764705882353,
             "rgb(247,212,187)"
            ],
            [
             1,
             "rgb(250,234,220)"
            ]
           ]
          },
          "colorway": [
           "rgb(76,114,176)",
           "rgb(221,132,82)",
           "rgb(85,168,104)",
           "rgb(196,78,82)",
           "rgb(129,114,179)",
           "rgb(147,120,96)",
           "rgb(218,139,195)",
           "rgb(140,140,140)",
           "rgb(204,185,116)",
           "rgb(100,181,205)"
          ],
          "font": {
           "color": "rgb(36,36,36)"
          },
          "geo": {
           "bgcolor": "white",
           "lakecolor": "white",
           "landcolor": "rgb(234,234,242)",
           "showlakes": true,
           "showland": true,
           "subunitcolor": "white"
          },
          "hoverlabel": {
           "align": "left"
          },
          "hovermode": "closest",
          "paper_bgcolor": "white",
          "plot_bgcolor": "rgb(234,234,242)",
          "polar": {
           "angularaxis": {
            "gridcolor": "white",
            "linecolor": "white",
            "showgrid": true,
            "ticks": ""
           },
           "bgcolor": "rgb(234,234,242)",
           "radialaxis": {
            "gridcolor": "white",
            "linecolor": "white",
            "showgrid": true,
            "ticks": ""
           }
          },
          "scene": {
           "xaxis": {
            "backgroundcolor": "rgb(234,234,242)",
            "gridcolor": "white",
            "gridwidth": 2,
            "linecolor": "white",
            "showbackground": true,
            "showgrid": true,
            "ticks": "",
            "zerolinecolor": "white"
           },
           "yaxis": {
            "backgroundcolor": "rgb(234,234,242)",
            "gridcolor": "white",
            "gridwidth": 2,
            "linecolor": "white",
            "showbackground": true,
            "showgrid": true,
            "ticks": "",
            "zerolinecolor": "white"
           },
           "zaxis": {
            "backgroundcolor": "rgb(234,234,242)",
            "gridcolor": "white",
            "gridwidth": 2,
            "linecolor": "white",
            "showbackground": true,
            "showgrid": true,
            "ticks": "",
            "zerolinecolor": "white"
           }
          },
          "shapedefaults": {
           "fillcolor": "rgb(67,103,167)",
           "line": {
            "width": 0
           },
           "opacity": 0.5
          },
          "ternary": {
           "aaxis": {
            "gridcolor": "white",
            "linecolor": "white",
            "showgrid": true,
            "ticks": ""
           },
           "baxis": {
            "gridcolor": "white",
            "linecolor": "white",
            "showgrid": true,
            "ticks": ""
           },
           "bgcolor": "rgb(234,234,242)",
           "caxis": {
            "gridcolor": "white",
            "linecolor": "white",
            "showgrid": true,
            "ticks": ""
           }
          },
          "xaxis": {
           "automargin": true,
           "gridcolor": "white",
           "linecolor": "white",
           "showgrid": true,
           "ticks": "",
           "title": {
            "standoff": 15
           },
           "zerolinecolor": "white"
          },
          "yaxis": {
           "automargin": true,
           "gridcolor": "white",
           "linecolor": "white",
           "showgrid": true,
           "ticks": "",
           "title": {
            "standoff": 15
           },
           "zerolinecolor": "white"
          }
         }
        },
        "title": {
         "font": {
          "family": "Times New Roman",
          "size": 28
         },
         "x": 0.5,
         "y": 0.98
        },
        "width": 800,
        "xaxis": {
         "autorange": true,
         "range": [
          -33.42636029998404,
          535.426360299984
         ],
         "showgrid": false,
         "title": {
          "text": "Trial #"
         },
         "type": "linear",
         "zeroline": false
        },
        "yaxis": {
         "autorange": true,
         "dtick": 1,
         "range": [
          -3.1880751799756384,
          -1.9404459827918774
         ],
         "showgrid": false,
         "title": {
          "text": "Loss"
         },
         "type": "log"
        }
       }
      },
      "image/png": "[encoded data removed]",
      "text/html": [
       "<div>\n",
       "        \n",
       "        \n",
       "            <div id=\"c2453616-779f-46e8-a9d6-6984b4aa9752\" class=\"plotly-graph-div\" style=\"height:400px; width:800px;\"></div>\n",
       "            <script type=\"text/javascript\">\n",
       "                require([\"plotly\"], function(Plotly) {\n",
       "                    window.PLOTLYENV=window.PLOTLYENV || {};\n",
       "                    \n",
       "                if (document.getElementById(\"c2453616-779f-46e8-a9d6-6984b4aa9752\")) {\n",
       "                    Plotly.newPlot(\n",
       "                        'c2453616-779f-46e8-a9d6-6984b4aa9752',\n",
       "                        [{\"marker\": {\"color\": \"rgb(11,100,200,0.1)\", \"line\": {\"color\": \"rgb(86, 177, 163)\", \"width\": 2}, \"size\": 12, \"symbol\": \"line-ns\"}, \"mode\": \"markers\", \"name\": \"Objective Value\", \"type\": \"scatter\", \"x\": [1, 2, 3, 4, 5, 7, 9, 11, 12, 13, 14, 16, 17, 18, 21, 29, 30, 32, 49, 53, 54, 55, 57, 60, 61, 64, 65, 69, 71, 77, 78, 80, 81, 83, 90, 91, 92, 93, 94, 95, 96, 97, 98, 101, 103, 104, 105, 106, 107, 109, 111, 112, 113, 114, 115, 116, 117, 118, 119, 120, 121, 122, 123, 124, 125, 126, 127, 129, 130, 131, 132, 133, 134, 135, 137, 141, 142, 143, 144, 146, 147, 150, 152, 153, 155, 156, 158, 159, 160, 161, 162, 164, 167, 168, 170, 171, 172, 174, 175, 176, 177, 178, 182, 184, 185, 186, 187, 188, 189, 193, 195, 199, 200, 206, 207, 213, 215, 219, 220, 221, 226, 228, 229, 231, 234, 238, 239, 240, 241, 242, 243, 244, 245, 246, 247, 249, 250, 253, 254, 255, 256, 257, 259, 260, 262, 265, 268, 273, 274, 276, 280, 281, 283, 285, 287, 288, 291, 297, 300, 301, 303, 307, 317, 319, 320, 338, 346, 352, 353, 356, 358, 364, 367, 372, 385, 386, 388, 394, 411, 416, 418, 419, 422, 423, 424, 427, 431, 432, 434, 436, 437, 439, 440, 442, 448, 451, 452, 453, 455, 459, 466, 476, 477, 479, 488, 492, 494, 501], \"y\": [0.004806078606634401, 0.003859467784059234, 0.006899588188389316, 0.003954304184298962, 0.004555044352309778, 0.002741562863229774, 0.0040650375682162124, 0.002703370651579462, 0.002742584748193622, 0.0027852259911014697, 0.002659186704840977, 0.002721289354667533, 0.0026697944471379743, 0.0025738466312759554, 0.0026675914574298075, 0.002602053145528771, 0.0026633764151483773, 0.0026120231312233956, 0.002694558328948915, 0.0025316345621831716, 0.002547006263921503, 0.002628549249493517, 0.0026004576589912175, 0.00268102710833773, 0.0026229927301756107, 0.00260158458549995, 0.002607858939154539, 0.002712604831322096, 0.0025871224483125844, 0.002581370007828809, 0.0026379329938208684, 0.002597467236046214, 0.0025297268148278818, 0.002664230727532413, 0.002524374457425438, 0.0025590166987967677, 0.0025106588858761826, 0.0025755566704901865, 0.0024912778739235365, 0.0025447559630265458, 0.002516635609208606, 0.0025824604424997235, 0.002570537364226766, 0.002558678474451881, 0.002600178051216062, 0.0026774371930514463, 0.002565886380034499, 0.0025577429041732103, 0.0025965754699427634, 0.002610860856657382, 0.0025278246495872734, 0.0025263935240218416, 0.0025278059925767592, 0.0025331405078759415, 0.002545112240477465, 0.0025551880040438845, 0.002486906338890549, 0.002503639984934125, 0.002532156286179088, 0.002511036762734875, 0.0025419807352591306, 0.002518554851121735, 0.0025358783939736897, 0.0024965404882095754, 0.0024954349239123983, 0.0025065176596399397, 0.002524984732735902, 0.002515672043955419, 0.002560347516555339, 0.002503455242549535, 0.0025246641220292077, 0.0025246715493267404, 0.0025230704035493546, 0.002594852457696106, 0.002544215005764272, 0.0025232543048332445, 0.002525589782453608, 0.0025232009080355055, 0.0024816282020765357, 0.0024710931960726158, 0.0025387234782101586, 0.002507292445807252, 0.0026092999716638586, 0.0025338108782307243, 0.002495279652066529, 0.0025297358093666843, 0.0025481611024588346, 0.002473583423125092, 0.0025054411569726655, 0.002521463204175234, 0.0024753686171607114, 0.002527839667163789, 0.0024821717910526787, 0.002485939500911627, 0.002502791627193801, 0.0024994068226078525, 0.0025490744796115906, 0.002493320344365202, 0.002480317144363653, 0.002481266902759671, 0.0025778603987419045, 0.0024479900108417495, 0.002596765353519004, 0.0025157490148558282, 0.002524034156522248, 0.0025253817591874396, 0.0024677264387719332, 0.002483712813409511, 0.0024611928216472733, 0.002481597621954279, 0.0025413582377950663, 0.002466008302872069, 0.0024449393298709766, 0.0025026218878338113, 0.0024963988849776796, 0.002505363873206079, 0.0024783263113931754, 0.0026151488738832994, 0.002541531130555086, 0.002458727742487099, 0.0025497915732557884, 0.002452704231836833, 0.0025112171060754918, 0.0025040479769813826, 0.0025112076284131033, 0.0024868511376553216, 0.002488898561568931, 0.002528205954877194, 0.002473391787498258, 0.002456285644439049, 0.0024976086133392528, 0.002475754111947026, 0.0025450832181377336, 0.002462921675760299, 0.002481888966576662, 0.002518774403142743, 0.0024722979491343723, 0.002461654991202522, 0.002448498423473211, 0.0026844879204872994, 0.002520435744372662, 0.002448155228194082, 0.002474131826602388, 0.0024686250209924763, 0.0024612341934698635, 0.0026365409037680367, 0.0019065026586758903, 0.002455324413313065, 0.002433821248996537, 0.0019806390744633974, 0.002493001805851236, 0.0024601444078143687, 0.001997707929695025, 0.0018876087880926207, 0.0018657921900739893, 0.0018412562109006102, 0.001848797163256677, 0.0035168072759915957, 0.009319794340990483, 0.0018551391054643317, 0.005765578185673803, 0.005723957138252444, 0.0015066302170453128, 0.004205708060180768, 0.0037705377326346934, 0.002900230683735572, 0.001990958502574358, 0.0025493435518001207, 0.002563407411798835, 0.001848109742422821, 0.0027155940864759033, 0.0011792142558988417, 0.0011993015916232253, 0.0014545244666805957, 0.001313652344106231, 0.0010924892700131749, 0.0015308693851693532, 0.0008574073977797525, 0.0008141949008859228, 0.001034970217733644, 0.0008491079395753331, 0.0009988772668293676, 0.0011126107474410674, 0.0012214973055961309, 0.0009071529466382344, 0.0009500103904429124, 0.0010838741989573463, 0.0009170135530439438, 0.000890154168519075, 0.0008363658645976102, 0.0008532279651262797, 0.0009027145306390594, 0.0008430311829215498, 0.001227708035366959, 0.0008450699835520937, 0.0009999239300668705, 0.0008990688354970188, 0.0009510050433163997, 0.0010757182179077062, 0.0009086214035050943, 0.0007981279288287624, 0.0008722248006961308, 0.000914157469719612, 0.0009715273783513112, 0.0008542828087229282, 0.0009161215595668182, 0.0011063794532674364, 0.0008737429325265111]}, {\"line\": {\"width\": 2}, \"marker\": {\"color\": \"rgb(10,10,50)\", \"size\": 20}, \"name\": \"Best Value\", \"type\": \"scatter\", \"x\": [1, 2, 3, 4, 5, 7, 9, 11, 12, 13, 14, 16, 17, 18, 21, 29, 30, 32, 49, 53, 54, 55, 57, 60, 61, 64, 65, 69, 71, 77, 78, 80, 81, 83, 90, 91, 92, 93, 94, 95, 96, 97, 98, 101, 103, 104, 105, 106, 107, 109, 111, 112, 113, 114, 115, 116, 117, 118, 119, 120, 121, 122, 123, 124, 125, 126, 127, 129, 130, 131, 132, 133, 134, 135, 137, 141, 142, 143, 144, 146, 147, 150, 152, 153, 155, 156, 158, 159, 160, 161, 162, 164, 167, 168, 170, 171, 172, 174, 175, 176, 177, 178, 182, 184, 185, 186, 187, 188, 189, 193, 195, 199, 200, 206, 207, 213, 215, 219, 220, 221, 226, 228, 229, 231, 234, 238, 239, 240, 241, 242, 243, 244, 245, 246, 247, 249, 250, 253, 254, 255, 256, 257, 259, 260, 262, 265, 268, 273, 274, 276, 280, 281, 283, 285, 287, 288, 291, 297, 300, 301, 303, 307, 317, 319, 320, 338, 346, 352, 353, 356, 358, 364, 367, 372, 385, 386, 388, 394, 411, 416, 418, 419, 422, 423, 424, 427, 431, 432, 434, 436, 437, 439, 440, 442, 448, 451, 452, 453, 455, 459, 466, 476, 477, 479, 488, 492, 494, 501], \"y\": [0.004806078606634401, 0.003859467784059234, 0.003859467784059234, 0.003859467784059234, 0.003859467784059234, 0.002741562863229774, 0.002741562863229774, 0.002703370651579462, 0.002703370651579462, 0.002703370651579462, 0.002659186704840977, 0.002659186704840977, 0.002659186704840977, 0.0025738466312759554, 0.0025738466312759554, 0.0025738466312759554, 0.0025738466312759554, 0.0025738466312759554, 0.0025738466312759554, 0.0025316345621831716, 0.0025316345621831716, 0.0025316345621831716, 0.0025316345621831716, 0.0025316345621831716, 0.0025316345621831716, 0.0025316345621831716, 0.0025316345621831716, 0.0025316345621831716, 0.0025316345621831716, 0.0025316345621831716, 0.0025316345621831716, 0.0025316345621831716, 0.0025297268148278818, 0.0025297268148278818, 0.002524374457425438, 0.002524374457425438, 0.0025106588858761826, 0.0025106588858761826, 0.0024912778739235365, 0.0024912778739235365, 0.0024912778739235365, 0.0024912778739235365, 0.0024912778739235365, 0.0024912778739235365, 0.0024912778739235365, 0.0024912778739235365, 0.0024912778739235365, 0.0024912778739235365, 0.0024912778739235365, 0.0024912778739235365, 0.0024912778739235365, 0.0024912778739235365, 0.0024912778739235365, 0.0024912778739235365, 0.0024912778739235365, 0.0024912778739235365, 0.002486906338890549, 0.002486906338890549, 0.002486906338890549, 0.002486906338890549, 0.002486906338890549, 0.002486906338890549, 0.002486906338890549, 0.002486906338890549, 0.002486906338890549, 0.002486906338890549, 0.002486906338890549, 0.002486906338890549, 0.002486906338890549, 0.002486906338890549, 0.002486906338890549, 0.002486906338890549, 0.002486906338890549, 0.002486906338890549, 0.002486906338890549, 0.002486906338890549, 0.002486906338890549, 0.002486906338890549, 0.0024816282020765357, 0.0024710931960726158, 0.0024710931960726158, 0.0024710931960726158, 0.0024710931960726158, 0.0024710931960726158, 0.0024710931960726158, 0.0024710931960726158, 0.0024710931960726158, 0.0024710931960726158, 0.0024710931960726158, 0.0024710931960726158, 0.0024710931960726158, 0.0024710931960726158, 0.0024710931960726158, 0.0024710931960726158, 0.0024710931960726158, 0.0024710931960726158, 0.0024710931960726158, 0.0024710931960726158, 0.0024710931960726158, 0.0024710931960726158, 0.0024710931960726158, 0.0024479900108417495, 0.0024479900108417495, 0.0024479900108417495, 0.0024479900108417495, 0.0024479900108417495, 0.0024479900108417495, 0.0024479900108417495, 0.0024479900108417495, 0.0024479900108417495, 0.0024479900108417495, 0.0024479900108417495, 0.0024449393298709766, 0.0024449393298709766, 0.0024449393298709766, 0.0024449393298709766, 0.0024449393298709766, 0.0024449393298709766, 0.0024449393298709766, 0.0024449393298709766, 0.0024449393298709766, 0.0024449393298709766, 0.0024449393298709766, 0.0024449393298709766, 0.0024449393298709766, 0.0024449393298709766, 0.0024449393298709766, 0.0024449393298709766, 0.0024449393298709766, 0.0024449393298709766, 0.0024449393298709766, 0.0024449393298709766, 0.0024449393298709766, 0.0024449393298709766, 0.0024449393298709766, 0.0024449393298709766, 0.0024449393298709766, 0.0024449393298709766, 0.0024449393298709766, 0.0024449393298709766, 0.0024449393298709766, 0.0024449393298709766, 0.0024449393298709766, 0.0024449393298709766, 0.0024449393298709766, 0.0024449393298709766, 0.0019065026586758903, 0.0019065026586758903, 0.0019065026586758903, 0.0019065026586758903, 0.0019065026586758903, 0.0019065026586758903, 0.0019065026586758903, 0.0018876087880926207, 0.0018657921900739893, 0.0018412562109006102, 0.0018412562109006102, 0.0018412562109006102, 0.0018412562109006102, 0.0018412562109006102, 0.0018412562109006102, 0.0018412562109006102, 0.0015066302170453128, 0.0015066302170453128, 0.0015066302170453128, 0.0015066302170453128, 0.0015066302170453128, 0.0015066302170453128, 0.0015066302170453128, 0.0015066302170453128, 0.0015066302170453128, 0.0011792142558988417, 0.0011792142558988417, 0.0011792142558988417, 0.0011792142558988417, 0.0010924892700131749, 0.0010924892700131749, 0.0008574073977797525, 0.0008141949008859228, 0.0008141949008859228, 0.0008141949008859228, 0.0008141949008859228, 0.0008141949008859228, 0.0008141949008859228, 0.0008141949008859228, 0.0008141949008859228, 0.0008141949008859228, 0.0008141949008859228, 0.0008141949008859228, 0.0008141949008859228, 0.0008141949008859228, 0.0008141949008859228, 0.0008141949008859228, 0.0008141949008859228, 0.0008141949008859228, 0.0008141949008859228, 0.0008141949008859228, 0.0008141949008859228, 0.0008141949008859228, 0.0008141949008859228, 0.0007981279288287624, 0.0007981279288287624, 0.0007981279288287624, 0.0007981279288287624, 0.0007981279288287624, 0.0007981279288287624, 0.0007981279288287624, 0.0007981279288287624]}],\n",
       "                        {\"autosize\": false, \"font\": {\"family\": \"Times New Roman\", \"size\": 18}, \"height\": 400, \"legend\": {\"bgcolor\": \"rgba(220,220,230,0.8)\", \"orientation\": \"v\", \"x\": 1, \"xanchor\": \"right\", \"y\": 1, \"yanchor\": \"top\"}, \"margin\": {\"b\": 0, \"l\": 10, \"r\": 10, \"t\": 5}, \"template\": {\"data\": {\"bar\": [{\"error_x\": {\"color\": \"rgb(36,36,36)\"}, \"error_y\": {\"color\": \"rgb(36,36,36)\"}, \"marker\": {\"line\": {\"color\": \"rgb(234,234,242)\", \"width\": 0.5}}, \"type\": \"bar\"}], \"barpolar\": [{\"marker\": {\"line\": {\"color\": \"rgb(234,234,242)\", \"width\": 0.5}}, \"type\": \"barpolar\"}], \"carpet\": [{\"aaxis\": {\"endlinecolor\": \"rgb(36,36,36)\", \"gridcolor\": \"white\", \"linecolor\": \"white\", \"minorgridcolor\": \"white\", \"startlinecolor\": \"rgb(36,36,36)\"}, \"baxis\": {\"endlinecolor\": \"rgb(36,36,36)\", \"gridcolor\": \"white\", \"linecolor\": \"white\", \"minorgridcolor\": \"white\", \"startlinecolor\": \"rgb(36,36,36)\"}, \"type\": \"carpet\"}], \"choropleth\": [{\"colorbar\": {\"outlinewidth\": 0, \"tickcolor\": \"rgb(36,36,36)\", \"ticklen\": 8, \"ticks\": \"outside\", \"tickwidth\": 2}, \"type\": \"choropleth\"}], \"contour\": [{\"colorbar\": {\"outlinewidth\": 0, \"tickcolor\": \"rgb(36,36,36)\", \"ticklen\": 8, \"ticks\": \"outside\", \"tickwidth\": 2}, \"colorscale\": [[0.0, \"rgb(2,4,25)\"], [0.06274509803921569, \"rgb(24,15,41)\"], [0.12549019607843137, \"rgb(47,23,57)\"], [0.18823529411764706, \"rgb(71,28,72)\"], [0.25098039215686274, \"rgb(97,30,82)\"], [0.3137254901960784, \"rgb(123,30,89)\"], [0.3764705882352941, \"rgb(150,27,91)\"], [0.4392156862745098, \"rgb(177,22,88)\"], [0.5019607843137255, \"rgb(203,26,79)\"], [0.5647058823529412, \"rgb(223,47,67)\"], [0.6274509803921569, \"rgb(236,76,61)\"], [0.6901960784313725, \"rgb(242,107,73)\"], [0.7529411764705882, \"rgb(244,135,95)\"], [0.8156862745098039, \"rgb(245,162,122)\"], [0.8784313725490196, \"rgb(246,188,153)\"], [0.9411764705882353, \"rgb(247,212,187)\"], [1.0, \"rgb(250,234,220)\"]], \"type\": \"contour\"}], \"contourcarpet\": [{\"colorbar\": {\"outlinewidth\": 0, \"tickcolor\": \"rgb(36,36,36)\", \"ticklen\": 8, \"ticks\": \"outside\", \"tickwidth\": 2}, \"type\": \"contourcarpet\"}], \"heatmap\": [{\"colorbar\": {\"outlinewidth\": 0, \"tickcolor\": \"rgb(36,36,36)\", \"ticklen\": 8, \"ticks\": \"outside\", \"tickwidth\": 2}, \"colorscale\": [[0.0, \"rgb(2,4,25)\"], [0.06274509803921569, \"rgb(24,15,41)\"], [0.12549019607843137, \"rgb(47,23,57)\"], [0.18823529411764706, \"rgb(71,28,72)\"], [0.25098039215686274, \"rgb(97,30,82)\"], [0.3137254901960784, \"rgb(123,30,89)\"], [0.3764705882352941, \"rgb(150,27,91)\"], [0.4392156862745098, \"rgb(177,22,88)\"], [0.5019607843137255, \"rgb(203,26,79)\"], [0.5647058823529412, \"rgb(223,47,67)\"], [0.6274509803921569, \"rgb(236,76,61)\"], [0.6901960784313725, \"rgb(242,107,73)\"], [0.7529411764705882, \"rgb(244,135,95)\"], [0.8156862745098039, \"rgb(245,162,122)\"], [0.8784313725490196, \"rgb(246,188,153)\"], [0.9411764705882353, \"rgb(247,212,187)\"], [1.0, \"rgb(250,234,220)\"]], \"type\": \"heatmap\"}], \"heatmapgl\": [{\"colorbar\": {\"outlinewidth\": 0, \"tickcolor\": \"rgb(36,36,36)\", \"ticklen\": 8, \"ticks\": \"outside\", \"tickwidth\": 2}, \"colorscale\": [[0.0, \"rgb(2,4,25)\"], [0.06274509803921569, \"rgb(24,15,41)\"], [0.12549019607843137, \"rgb(47,23,57)\"], [0.18823529411764706, \"rgb(71,28,72)\"], [0.25098039215686274, \"rgb(97,30,82)\"], [0.3137254901960784, \"rgb(123,30,89)\"], [0.3764705882352941, \"rgb(150,27,91)\"], [0.4392156862745098, \"rgb(177,22,88)\"], [0.5019607843137255, \"rgb(203,26,79)\"], [0.5647058823529412, \"rgb(223,47,67)\"], [0.6274509803921569, \"rgb(236,76,61)\"], [0.6901960784313725, \"rgb(242,107,73)\"], [0.7529411764705882, \"rgb(244,135,95)\"], [0.8156862745098039, \"rgb(245,162,122)\"], [0.8784313725490196, \"rgb(246,188,153)\"], [0.9411764705882353, \"rgb(247,212,187)\"], [1.0, \"rgb(250,234,220)\"]], \"type\": \"heatmapgl\"}], \"histogram\": [{\"marker\": {\"colorbar\": {\"outlinewidth\": 0, \"tickcolor\": \"rgb(36,36,36)\", \"ticklen\": 8, \"ticks\": \"outside\", \"tickwidth\": 2}}, \"type\": \"histogram\"}], \"histogram2d\": [{\"colorbar\": {\"outlinewidth\": 0, \"tickcolor\": \"rgb(36,36,36)\", \"ticklen\": 8, \"ticks\": \"outside\", \"tickwidth\": 2}, \"colorscale\": [[0.0, \"rgb(2,4,25)\"], [0.06274509803921569, \"rgb(24,15,41)\"], [0.12549019607843137, \"rgb(47,23,57)\"], [0.18823529411764706, \"rgb(71,28,72)\"], [0.25098039215686274, \"rgb(97,30,82)\"], [0.3137254901960784, \"rgb(123,30,89)\"], [0.3764705882352941, \"rgb(150,27,91)\"], [0.4392156862745098, \"rgb(177,22,88)\"], [0.5019607843137255, \"rgb(203,26,79)\"], [0.5647058823529412, \"rgb(223,47,67)\"], [0.6274509803921569, \"rgb(236,76,61)\"], [0.6901960784313725, \"rgb(242,107,73)\"], [0.7529411764705882, \"rgb(244,135,95)\"], [0.8156862745098039, \"rgb(245,162,122)\"], [0.8784313725490196, \"rgb(246,188,153)\"], [0.9411764705882353, \"rgb(247,212,187)\"], [1.0, \"rgb(250,234,220)\"]], \"type\": \"histogram2d\"}], \"histogram2dcontour\": [{\"colorbar\": {\"outlinewidth\": 0, \"tickcolor\": \"rgb(36,36,36)\", \"ticklen\": 8, \"ticks\": \"outside\", \"tickwidth\": 2}, \"colorscale\": [[0.0, \"rgb(2,4,25)\"], [0.06274509803921569, \"rgb(24,15,41)\"], [0.12549019607843137, \"rgb(47,23,57)\"], [0.18823529411764706, \"rgb(71,28,72)\"], [0.25098039215686274, \"rgb(97,30,82)\"], [0.3137254901960784, \"rgb(123,30,89)\"], [0.3764705882352941, \"rgb(150,27,91)\"], [0.4392156862745098, \"rgb(177,22,88)\"], [0.5019607843137255, \"rgb(203,26,79)\"], [0.5647058823529412, \"rgb(223,47,67)\"], [0.6274509803921569, \"rgb(236,76,61)\"], [0.6901960784313725, \"rgb(242,107,73)\"], [0.7529411764705882, \"rgb(244,135,95)\"], [0.8156862745098039, \"rgb(245,162,122)\"], [0.8784313725490196, \"rgb(246,188,153)\"], [0.9411764705882353, \"rgb(247,212,187)\"], [1.0, \"rgb(250,234,220)\"]], \"type\": \"histogram2dcontour\"}], \"mesh3d\": [{\"colorbar\": {\"outlinewidth\": 0, \"tickcolor\": \"rgb(36,36,36)\", \"ticklen\": 8, \"ticks\": \"outside\", \"tickwidth\": 2}, \"type\": \"mesh3d\"}], \"parcoords\": [{\"line\": {\"colorbar\": {\"outlinewidth\": 0, \"tickcolor\": \"rgb(36,36,36)\", \"ticklen\": 8, \"ticks\": \"outside\", \"tickwidth\": 2}}, \"type\": \"parcoords\"}], \"pie\": [{\"automargin\": true, \"type\": \"pie\"}], \"scatter\": [{\"marker\": {\"colorbar\": {\"outlinewidth\": 0, \"tickcolor\": \"rgb(36,36,36)\", \"ticklen\": 8, \"ticks\": \"outside\", \"tickwidth\": 2}}, \"type\": \"scatter\"}], \"scatter3d\": [{\"line\": {\"colorbar\": {\"outlinewidth\": 0, \"tickcolor\": \"rgb(36,36,36)\", \"ticklen\": 8, \"ticks\": \"outside\", \"tickwidth\": 2}}, \"marker\": {\"colorbar\": {\"outlinewidth\": 0, \"tickcolor\": \"rgb(36,36,36)\", \"ticklen\": 8, \"ticks\": \"outside\", \"tickwidth\": 2}}, \"type\": \"scatter3d\"}], \"scattercarpet\": [{\"marker\": {\"colorbar\": {\"outlinewidth\": 0, \"tickcolor\": \"rgb(36,36,36)\", \"ticklen\": 8, \"ticks\": \"outside\", \"tickwidth\": 2}}, \"type\": \"scattercarpet\"}], \"scattergeo\": [{\"marker\": {\"colorbar\": {\"outlinewidth\": 0, \"tickcolor\": \"rgb(36,36,36)\", \"ticklen\": 8, \"ticks\": \"outside\", \"tickwidth\": 2}}, \"type\": \"scattergeo\"}], \"scattergl\": [{\"marker\": {\"colorbar\": {\"outlinewidth\": 0, \"tickcolor\": \"rgb(36,36,36)\", \"ticklen\": 8, \"ticks\": \"outside\", \"tickwidth\": 2}}, \"type\": \"scattergl\"}], \"scattermapbox\": [{\"marker\": {\"colorbar\": {\"outlinewidth\": 0, \"tickcolor\": \"rgb(36,36,36)\", \"ticklen\": 8, \"ticks\": \"outside\", \"tickwidth\": 2}}, \"type\": \"scattermapbox\"}], \"scatterpolar\": [{\"marker\": {\"colorbar\": {\"outlinewidth\": 0, \"tickcolor\": \"rgb(36,36,36)\", \"ticklen\": 8, \"ticks\": \"outside\", \"tickwidth\": 2}}, \"type\": \"scatterpolar\"}], \"scatterpolargl\": [{\"marker\": {\"colorbar\": {\"outlinewidth\": 0, \"tickcolor\": \"rgb(36,36,36)\", \"ticklen\": 8, \"ticks\": \"outside\", \"tickwidth\": 2}}, \"type\": \"scatterpolargl\"}], \"scatterternary\": [{\"marker\": {\"colorbar\": {\"outlinewidth\": 0, \"tickcolor\": \"rgb(36,36,36)\", \"ticklen\": 8, \"ticks\": \"outside\", \"tickwidth\": 2}}, \"type\": \"scatterternary\"}], \"surface\": [{\"colorbar\": {\"outlinewidth\": 0, \"tickcolor\": \"rgb(36,36,36)\", \"ticklen\": 8, \"ticks\": \"outside\", \"tickwidth\": 2}, \"colorscale\": [[0.0, \"rgb(2,4,25)\"], [0.06274509803921569, \"rgb(24,15,41)\"], [0.12549019607843137, \"rgb(47,23,57)\"], [0.18823529411764706, \"rgb(71,28,72)\"], [0.25098039215686274, \"rgb(97,30,82)\"], [0.3137254901960784, \"rgb(123,30,89)\"], [0.3764705882352941, \"rgb(150,27,91)\"], [0.4392156862745098, \"rgb(177,22,88)\"], [0.5019607843137255, \"rgb(203,26,79)\"], [0.5647058823529412, \"rgb(223,47,67)\"], [0.6274509803921569, \"rgb(236,76,61)\"], [0.6901960784313725, \"rgb(242,107,73)\"], [0.7529411764705882, \"rgb(244,135,95)\"], [0.8156862745098039, \"rgb(245,162,122)\"], [0.8784313725490196, \"rgb(246,188,153)\"], [0.9411764705882353, \"rgb(247,212,187)\"], [1.0, \"rgb(250,234,220)\"]], \"type\": \"surface\"}], \"table\": [{\"cells\": {\"fill\": {\"color\": \"rgb(231,231,240)\"}, \"line\": {\"color\": \"white\"}}, \"header\": {\"fill\": {\"color\": \"rgb(183,183,191)\"}, \"line\": {\"color\": \"white\"}}, \"type\": \"table\"}]}, \"layout\": {\"annotationdefaults\": {\"arrowcolor\": \"rgb(67,103,167)\"}, \"coloraxis\": {\"colorbar\": {\"outlinewidth\": 0, \"tickcolor\": \"rgb(36,36,36)\", \"ticklen\": 8, \"ticks\": \"outside\", \"tickwidth\": 2}}, \"colorscale\": {\"sequential\": [[0.0, \"rgb(2,4,25)\"], [0.06274509803921569, \"rgb(24,15,41)\"], [0.12549019607843137, \"rgb(47,23,57)\"], [0.18823529411764706, \"rgb(71,28,72)\"], [0.25098039215686274, \"rgb(97,30,82)\"], [0.3137254901960784, \"rgb(123,30,89)\"], [0.3764705882352941, \"rgb(150,27,91)\"], [0.4392156862745098, \"rgb(177,22,88)\"], [0.5019607843137255, \"rgb(203,26,79)\"], [0.5647058823529412, \"rgb(223,47,67)\"], [0.6274509803921569, \"rgb(236,76,61)\"], [0.6901960784313725, \"rgb(242,107,73)\"], [0.7529411764705882, \"rgb(244,135,95)\"], [0.8156862745098039, \"rgb(245,162,122)\"], [0.8784313725490196, \"rgb(246,188,153)\"], [0.9411764705882353, \"rgb(247,212,187)\"], [1.0, \"rgb(250,234,220)\"]], \"sequentialminus\": [[0.0, \"rgb(2,4,25)\"], [0.06274509803921569, \"rgb(24,15,41)\"], [0.12549019607843137, \"rgb(47,23,57)\"], [0.18823529411764706, \"rgb(71,28,72)\"], [0.25098039215686274, \"rgb(97,30,82)\"], [0.3137254901960784, \"rgb(123,30,89)\"], [0.3764705882352941, \"rgb(150,27,91)\"], [0.4392156862745098, \"rgb(177,22,88)\"], [0.5019607843137255, \"rgb(203,26,79)\"], [0.5647058823529412, \"rgb(223,47,67)\"], [0.6274509803921569, \"rgb(236,76,61)\"], [0.6901960784313725, \"rgb(242,107,73)\"], [0.7529411764705882, \"rgb(244,135,95)\"], [0.8156862745098039, \"rgb(245,162,122)\"], [0.8784313725490196, \"rgb(246,188,153)\"], [0.9411764705882353, \"rgb(247,212,187)\"], [1.0, \"rgb(250,234,220)\"]]}, \"colorway\": [\"rgb(76,114,176)\", \"rgb(221,132,82)\", \"rgb(85,168,104)\", \"rgb(196,78,82)\", \"rgb(129,114,179)\", \"rgb(147,120,96)\", \"rgb(218,139,195)\", \"rgb(140,140,140)\", \"rgb(204,185,116)\", \"rgb(100,181,205)\"], \"font\": {\"color\": \"rgb(36,36,36)\"}, \"geo\": {\"bgcolor\": \"white\", \"lakecolor\": \"white\", \"landcolor\": \"rgb(234,234,242)\", \"showlakes\": true, \"showland\": true, \"subunitcolor\": \"white\"}, \"hoverlabel\": {\"align\": \"left\"}, \"hovermode\": \"closest\", \"paper_bgcolor\": \"white\", \"plot_bgcolor\": \"rgb(234,234,242)\", \"polar\": {\"angularaxis\": {\"gridcolor\": \"white\", \"linecolor\": \"white\", \"showgrid\": true, \"ticks\": \"\"}, \"bgcolor\": \"rgb(234,234,242)\", \"radialaxis\": {\"gridcolor\": \"white\", \"linecolor\": \"white\", \"showgrid\": true, \"ticks\": \"\"}}, \"scene\": {\"xaxis\": {\"backgroundcolor\": \"rgb(234,234,242)\", \"gridcolor\": \"white\", \"gridwidth\": 2, \"linecolor\": \"white\", \"showbackground\": true, \"showgrid\": true, \"ticks\": \"\", \"zerolinecolor\": \"white\"}, \"yaxis\": {\"backgroundcolor\": \"rgb(234,234,242)\", \"gridcolor\": \"white\", \"gridwidth\": 2, \"linecolor\": \"white\", \"showbackground\": true, \"showgrid\": true, \"ticks\": \"\", \"zerolinecolor\": \"white\"}, \"zaxis\": {\"backgroundcolor\": \"rgb(234,234,242)\", \"gridcolor\": \"white\", \"gridwidth\": 2, \"linecolor\": \"white\", \"showbackground\": true, \"showgrid\": true, \"ticks\": \"\", \"zerolinecolor\": \"white\"}}, \"shapedefaults\": {\"fillcolor\": \"rgb(67,103,167)\", \"line\": {\"width\": 0}, \"opacity\": 0.5}, \"ternary\": {\"aaxis\": {\"gridcolor\": \"white\", \"linecolor\": \"white\", \"showgrid\": true, \"ticks\": \"\"}, \"baxis\": {\"gridcolor\": \"white\", \"linecolor\": \"white\", \"showgrid\": true, \"ticks\": \"\"}, \"bgcolor\": \"rgb(234,234,242)\", \"caxis\": {\"gridcolor\": \"white\", \"linecolor\": \"white\", \"showgrid\": true, \"ticks\": \"\"}}, \"xaxis\": {\"automargin\": true, \"gridcolor\": \"white\", \"linecolor\": \"white\", \"showgrid\": true, \"ticks\": \"\", \"title\": {\"standoff\": 15}, \"zerolinecolor\": \"white\"}, \"yaxis\": {\"automargin\": true, \"gridcolor\": \"white\", \"linecolor\": \"white\", \"showgrid\": true, \"ticks\": \"\", \"title\": {\"standoff\": 15}, \"zerolinecolor\": \"white\"}}}, \"title\": {\"font\": {\"family\": \"Times New Roman\", \"size\": 28}, \"x\": 0.5, \"y\": 0.98}, \"width\": 800, \"xaxis\": {\"showgrid\": false, \"title\": {\"text\": \"Trial #\"}, \"zeroline\": false}, \"yaxis\": {\"dtick\": 1, \"showgrid\": false, \"title\": {\"text\": \"Loss\"}, \"type\": \"log\"}},\n",
       "                        {\"responsive\": true}\n",
       "                    ).then(function(){\n",
       "                            \n",
       "var gd = document.getElementById('c2453616-779f-46e8-a9d6-6984b4aa9752');\n",
       "var x = new MutationObserver(function (mutations, observer) {{\n",
       "        var display = window.getComputedStyle(gd).display;\n",
       "        if (!display || display === 'none') {{\n",
       "            console.log([gd, 'removed!']);\n",
       "            Plotly.purge(gd);\n",
       "            observer.disconnect();\n",
       "        }}\n",
       "}});\n",
       "\n",
       "// Listen for the removal of the full notebook cells\n",
       "var notebookContainer = gd.closest('#notebook-container');\n",
       "if (notebookContainer) {{\n",
       "    x.observe(notebookContainer, {childList: true});\n",
       "}}\n",
       "\n",
       "// Listen for the clearing of the current output cell\n",
       "var outputEl = gd.closest('.output');\n",
       "if (outputEl) {{\n",
       "    x.observe(outputEl, {childList: true});\n",
       "}}\n",
       "\n",
       "                        })\n",
       "                };\n",
       "                });\n",
       "            </script>\n",
       "        </div>"
      ]
     },
     "metadata": {},
     "output_type": "display_data"
    }
   ],
   "source": [
    "imp.reload(cplot)\n",
    "fig = cplot.get_optimization_history_plot(study)\n",
    "fig.update_layout(\n",
    "    autosize=False,title_text='Optimization History', title=None, title_x=0.5, title_y=0.98, yaxis_type=\"log\",\n",
    "    template=\"seaborn\",\n",
    "    width=800,\n",
    "    height=400,\n",
    "    font_family=\"Times New Roman\",\n",
    "    font_size=18,\n",
    "    title_font_family=\"Times New Roman\",\n",
    "    title_font_size=28,\n",
    "    \n",
    "     margin=dict( r=10, l=10, b=0, t=5),\n",
    "    \n",
    "              legend=dict(\n",
    "                  bgcolor='rgba(220,220,230,0.8)',\n",
    "                  orientation=\"v\",\n",
    "                yanchor=\"top\",\n",
    "                y=1,\n",
    "                xanchor=\"right\",x=1)\n",
    "    )\n",
    "\n",
    "\n",
    "fig.update_xaxes(showgrid=False,zeroline=False,title_text=\"Trial #\")\n",
    "\n",
    "fig.update_yaxes(showgrid=False,title_text=\"Loss\",dtick=1)\n",
    "with open(\"Optimization_Historyround2.pdf\", \"wb\") as f:\n",
    "    f.write(scope.transform(fig, format=\"pdf\", width=800,height=500,  ))\n",
    "\n",
    "fig"
   ]
  },
  {
   "cell_type": "code",
   "execution_count": 10,
   "metadata": {},
   "outputs": [
    {
     "name": "stdout",
     "output_type": "stream",
     "text": [
      "Best trial until now:\n",
      " Value:  0.0007981279288287624\n",
      " Params: \n",
      "    Dropout Rate: 0.5\n",
      "    Frequency Bins: 30\n",
      "    Hidden Layers: 2\n",
      "    L2 Regularization: 2.6830891055883253e-06\n",
      "    Latent Size: 64\n",
      "    Learning Rate: 0.0017938275091888398\n",
      "    Model Type: CNN\n",
      "    Optimizer: Adam\n",
      "    Time Steps: 20\n"
     ]
    }
   ],
   "source": [
    "print('Best trial until now:')\n",
    "print(' Value: ', study.best_trial.value)\n",
    "print(' Params: ')\n",
    "for key, value in study.best_trial.params.items():\n",
    "    print(f'    {key}: {value}')\n",
    "df=study.trials_dataframe()\n",
    "df=df.sort_values(by=[\"value\"],ascending=True).reset_index()\n",
    "df[[\"value\"]+[\"params_\"+p for p in params]].to_csv(\"../../csvs/bestparams_round2.csv\")\n"
   ]
  },
  {
   "cell_type": "code",
   "execution_count": 11,
   "metadata": {},
   "outputs": [
    {
     "data": {
      "application/vnd.plotly.v1+json": {
       "config": {
        "plotlyServerURL": "https://plot.ly"
       },
       "data": [
        {
         "marker": {
          "color": "#00CC78"
         },
         "name": "Test Loss",
         "showlegend": true,
         "type": "scatter",
         "x": [
          0,
          1,
          2,
          3,
          4,
          5,
          6,
          7,
          8,
          9,
          10,
          11,
          12,
          13,
          14,
          15,
          16,
          17,
          18,
          19,
          20,
          21,
          22,
          23,
          24,
          25,
          26,
          27,
          28,
          29,
          30,
          31,
          32,
          33,
          34,
          35,
          36,
          37,
          38,
          39,
          40,
          41,
          42,
          43,
          44,
          45,
          46,
          47,
          48,
          49,
          50,
          51,
          52,
          53,
          54,
          55,
          56,
          57,
          58,
          59,
          60,
          61,
          62,
          63,
          64,
          65,
          66,
          67,
          68,
          69,
          70,
          71,
          72,
          73,
          74,
          75,
          76,
          77,
          78,
          79,
          80,
          81,
          82,
          83,
          84,
          85,
          86,
          87,
          88,
          89,
          90,
          91,
          92,
          93,
          94,
          95,
          96,
          97,
          98,
          99
         ],
         "y": [
          0.015733003098931574,
          0.013418490722499513,
          0.011642659910851054,
          0.010958640140561778,
          0.01099351046744872,
          0.010713393541259898,
          0.010680105301471036,
          0.010734813506312576,
          0.01025231022755673,
          0.010218075097159105,
          0.010001690351162796,
          0.010182479534436156,
          0.009814543879510444,
          0.00957345108812054,
          0.010031892708215265,
          0.009693448885953351,
          0.009810105776759209,
          0.00933183547983199,
          0.009641931104807206,
          0.009296995889464464,
          0.0091681481183817,
          0.009523613246180762,
          0.009192559336323613,
          0.008871683175388126,
          0.008998391379452781,
          0.009012290055254177,
          0.00881779812604051,
          0.00903440475532854,
          0.009193243338140072,
          0.009093399642518272,
          0.008892099462150608,
          0.009415544351033958,
          0.00885228516051063,
          0.009006277238375243,
          0.00880090472932307,
          0.008939042575312433,
          0.00873328984519582,
          0.008756119387086344,
          0.00861928157542867,
          0.008508422973215073,
          0.008592591339285359,
          0.008954152585593638,
          0.008534522459807771,
          0.008581257683949338,
          0.008431526208526375,
          0.008295974633828909,
          0.008517577140419572,
          0.008469528668088677,
          0.008560075369996973,
          0.00835995252508624,
          0.008356384703038651,
          0.008319083802448009,
          0.008703478772975044,
          0.008433049475705182,
          0.008446288082380722,
          0.008207241421059509,
          0.008096852078229005,
          0.008283393980682266,
          0.008115965559687695,
          0.008343662695821237,
          0.008606435570084019,
          0.008155247912293783,
          0.008154605470747216,
          0.008179542792524084,
          0.008080739418711558,
          0.008174163987860084,
          0.008214345885969606,
          0.00821719050154458,
          0.008296848944514806,
          0.008191142645147111,
          0.008395580615112443,
          0.008151438584505224,
          0.008082835174763553,
          0.008382449725665797,
          0.007945964268098274,
          0.00809159471342961,
          0.008049716118056282,
          0.008292979181364731,
          0.00801682405254263,
          0.008070968620387125,
          0.008208598932941203,
          0.008055364437125347,
          0.008241294400283584,
          0.008245662642343913,
          0.008196029932824549,
          0.008073821974297365,
          0.008211791360129913,
          0.007993516147159685,
          0.00825784101875292,
          0.00819055549800396,
          0.008056113824110341,
          0.008028949375183862,
          0.007988892969916816,
          0.008155588618261211,
          0.008200342496742069,
          0.008195013598320476,
          0.008844415237552222,
          0.007922402657798411,
          0.007971133231932733,
          0.008099604311778589
         ]
        },
        {
         "marker": {
          "color": "#0055AA"
         },
         "mode": "lines",
         "name": "Train Loss",
         "showlegend": true,
         "type": "scatter",
         "x": [
          0,
          1,
          2,
          3,
          4,
          5,
          6,
          7,
          8,
          9,
          10,
          11,
          12,
          13,
          14,
          15,
          16,
          17,
          18,
          19,
          20,
          21,
          22,
          23,
          24,
          25,
          26,
          27,
          28,
          29,
          30,
          31,
          32,
          33,
          34,
          35,
          36,
          37,
          38,
          39,
          40,
          41,
          42,
          43,
          44,
          45,
          46,
          47,
          48,
          49,
          50,
          51,
          52,
          53,
          54,
          55,
          56,
          57,
          58,
          59,
          60,
          61,
          62,
          63,
          64,
          65,
          66,
          67,
          68,
          69,
          70,
          71,
          72,
          73,
          74,
          75,
          76,
          77,
          78,
          79,
          80,
          81,
          82,
          83,
          84,
          85,
          86,
          87,
          88,
          89,
          90,
          91,
          92,
          93,
          94,
          95,
          96,
          97,
          98,
          99
         ],
         "y": [
          0.02486479732663461,
          0.013538150881298141,
          0.01166804757323174,
          0.010897047459394484,
          0.010478794146793377,
          0.010252531213146223,
          0.009939804529579722,
          0.009760313240138124,
          0.00962489543517477,
          0.00957508789262273,
          0.009394418736890748,
          0.009295112710167593,
          0.00913588188420343,
          0.009080018925065656,
          0.009071596869850687,
          0.00906793695854203,
          0.008982650902284733,
          0.008885560623251156,
          0.008864228726825981,
          0.008814095773348277,
          0.008755462601014945,
          0.008640393456647237,
          0.00857780247091133,
          0.008553860467536567,
          0.008492883877985389,
          0.008457947185123773,
          0.00856018256732608,
          0.008469684954697842,
          0.008467181597334388,
          0.00837601191723992,
          0.008360389490231778,
          0.008397891538687677,
          0.008361297072059362,
          0.008350552164882747,
          0.008295724395447849,
          0.008272817628922353,
          0.008257284959940664,
          0.008179963532272391,
          0.00819407625129661,
          0.008152815388556209,
          0.008157178758849559,
          0.008119475628855722,
          0.008141365520238319,
          0.008105590054620278,
          0.008083321722050276,
          0.008018186542922138,
          0.007954030595081525,
          0.007980097147615807,
          0.007927518713685489,
          0.00789353285910347,
          0.007920212775317959,
          0.007794601027491122,
          0.007900347051172985,
          0.007917961962317983,
          0.00782429261025726,
          0.007792642601182528,
          0.007776483627198688,
          0.007723509478368259,
          0.0077824636878927374,
          0.007831652852564446,
          0.007746403713382756,
          0.007749157588540162,
          0.007765691062273035,
          0.007787904689071056,
          0.007705743062655176,
          0.007702386032824762,
          0.007758676136098222,
          0.0076395847161541295,
          0.007757569584891061,
          0.007716462843706164,
          0.007691863293953913,
          0.0076437051592226435,
          0.007595378989672921,
          0.007646763403508291,
          0.0075779395486950596,
          0.007567742141689003,
          0.007676882714300048,
          0.007578286195081017,
          0.007575277839656745,
          0.007614862329741458,
          0.007656510487761684,
          0.00756414465655535,
          0.007631148569970579,
          0.007557569136204795,
          0.007596533844897354,
          0.007581853848153789,
          0.007506856034768055,
          0.0075837709365058625,
          0.007531317972905956,
          0.007511647189662695,
          0.007489091457038932,
          0.007533819067967922,
          0.00759900188816253,
          0.0075569999320113405,
          0.007530096190839402,
          0.007571268499599671,
          0.007546962469502865,
          0.007522364584380917,
          0.0075110961201475986,
          0.007434252864243086
         ]
        }
       ],
       "layout": {
        "autosize": false,
        "font": {
         "family": "Times New Roman",
         "size": 16
        },
        "height": 400,
        "legend": {
         "bgcolor": "rgba(220,220,230,0.8)",
         "font": {
          "size": 15
         },
         "orientation": "v",
         "title": {
          "font": {
           "size": 14
          },
          "text": "Drum Types:"
         },
         "x": 1,
         "xanchor": "right",
         "y": 1,
         "yanchor": "top"
        },
        "margin": {
         "b": 0,
         "l": 10,
         "r": 5,
         "t": 5
        },
        "template": {
         "data": {
          "bar": [
           {
            "error_x": {
             "color": "rgb(36,36,36)"
            },
            "error_y": {
             "color": "rgb(36,36,36)"
            },
            "marker": {
             "line": {
              "color": "rgb(234,234,242)",
              "width": 0.5
             }
            },
            "type": "bar"
           }
          ],
          "barpolar": [
           {
            "marker": {
             "line": {
              "color": "rgb(234,234,242)",
              "width": 0.5
             }
            },
            "type": "barpolar"
           }
          ],
          "carpet": [
           {
            "aaxis": {
             "endlinecolor": "rgb(36,36,36)",
             "gridcolor": "white",
             "linecolor": "white",
             "minorgridcolor": "white",
             "startlinecolor": "rgb(36,36,36)"
            },
            "baxis": {
             "endlinecolor": "rgb(36,36,36)",
             "gridcolor": "white",
             "linecolor": "white",
             "minorgridcolor": "white",
             "startlinecolor": "rgb(36,36,36)"
            },
            "type": "carpet"
           }
          ],
          "choropleth": [
           {
            "colorbar": {
             "outlinewidth": 0,
             "tickcolor": "rgb(36,36,36)",
             "ticklen": 8,
             "ticks": "outside",
             "tickwidth": 2
            },
            "type": "choropleth"
           }
          ],
          "contour": [
           {
            "colorbar": {
             "outlinewidth": 0,
             "tickcolor": "rgb(36,36,36)",
             "ticklen": 8,
             "ticks": "outside",
             "tickwidth": 2
            },
            "colorscale": [
             [
              0,
              "rgb(2,4,25)"
             ],
             [
              0.06274509803921569,
              "rgb(24,15,41)"
             ],
             [
              0.12549019607843137,
              "rgb(47,23,57)"
             ],
             [
              0.18823529411764706,
              "rgb(71,28,72)"
             ],
             [
              0.25098039215686274,
              "rgb(97,30,82)"
             ],
             [
              0.3137254901960784,
              "rgb(123,30,89)"
             ],
             [
              0.3764705882352941,
              "rgb(150,27,91)"
             ],
             [
              0.4392156862745098,
              "rgb(177,22,88)"
             ],
             [
              0.5019607843137255,
              "rgb(203,26,79)"
             ],
             [
              0.5647058823529412,
              "rgb(223,47,67)"
             ],
             [
              0.6274509803921569,
              "rgb(236,76,61)"
             ],
             [
              0.6901960784313725,
              "rgb(242,107,73)"
             ],
             [
              0.7529411764705882,
              "rgb(244,135,95)"
             ],
             [
              0.8156862745098039,
              "rgb(245,162,122)"
             ],
             [
              0.8784313725490196,
              "rgb(246,188,153)"
             ],
             [
              0.9411764705882353,
              "rgb(247,212,187)"
             ],
             [
              1,
              "rgb(250,234,220)"
             ]
            ],
            "type": "contour"
           }
          ],
          "contourcarpet": [
           {
            "colorbar": {
             "outlinewidth": 0,
             "tickcolor": "rgb(36,36,36)",
             "ticklen": 8,
             "ticks": "outside",
             "tickwidth": 2
            },
            "type": "contourcarpet"
           }
          ],
          "heatmap": [
           {
            "colorbar": {
             "outlinewidth": 0,
             "tickcolor": "rgb(36,36,36)",
             "ticklen": 8,
             "ticks": "outside",
             "tickwidth": 2
            },
            "colorscale": [
             [
              0,
              "rgb(2,4,25)"
             ],
             [
              0.06274509803921569,
              "rgb(24,15,41)"
             ],
             [
              0.12549019607843137,
              "rgb(47,23,57)"
             ],
             [
              0.18823529411764706,
              "rgb(71,28,72)"
             ],
             [
              0.25098039215686274,
              "rgb(97,30,82)"
             ],
             [
              0.3137254901960784,
              "rgb(123,30,89)"
             ],
             [
              0.3764705882352941,
              "rgb(150,27,91)"
             ],
             [
              0.4392156862745098,
              "rgb(177,22,88)"
             ],
             [
              0.5019607843137255,
              "rgb(203,26,79)"
             ],
             [
              0.5647058823529412,
              "rgb(223,47,67)"
             ],
             [
              0.6274509803921569,
              "rgb(236,76,61)"
             ],
             [
              0.6901960784313725,
              "rgb(242,107,73)"
             ],
             [
              0.7529411764705882,
              "rgb(244,135,95)"
             ],
             [
              0.8156862745098039,
              "rgb(245,162,122)"
             ],
             [
              0.8784313725490196,
              "rgb(246,188,153)"
             ],
             [
              0.9411764705882353,
              "rgb(247,212,187)"
             ],
             [
              1,
              "rgb(250,234,220)"
             ]
            ],
            "type": "heatmap"
           }
          ],
          "heatmapgl": [
           {
            "colorbar": {
             "outlinewidth": 0,
             "tickcolor": "rgb(36,36,36)",
             "ticklen": 8,
             "ticks": "outside",
             "tickwidth": 2
            },
            "colorscale": [
             [
              0,
              "rgb(2,4,25)"
             ],
             [
              0.06274509803921569,
              "rgb(24,15,41)"
             ],
             [
              0.12549019607843137,
              "rgb(47,23,57)"
             ],
             [
              0.18823529411764706,
              "rgb(71,28,72)"
             ],
             [
              0.25098039215686274,
              "rgb(97,30,82)"
             ],
             [
              0.3137254901960784,
              "rgb(123,30,89)"
             ],
             [
              0.3764705882352941,
              "rgb(150,27,91)"
             ],
             [
              0.4392156862745098,
              "rgb(177,22,88)"
             ],
             [
              0.5019607843137255,
              "rgb(203,26,79)"
             ],
             [
              0.5647058823529412,
              "rgb(223,47,67)"
             ],
             [
              0.6274509803921569,
              "rgb(236,76,61)"
             ],
             [
              0.6901960784313725,
              "rgb(242,107,73)"
             ],
             [
              0.7529411764705882,
              "rgb(244,135,95)"
             ],
             [
              0.8156862745098039,
              "rgb(245,162,122)"
             ],
             [
              0.8784313725490196,
              "rgb(246,188,153)"
             ],
             [
              0.9411764705882353,
              "rgb(247,212,187)"
             ],
             [
              1,
              "rgb(250,234,220)"
             ]
            ],
            "type": "heatmapgl"
           }
          ],
          "histogram": [
           {
            "marker": {
             "colorbar": {
              "outlinewidth": 0,
              "tickcolor": "rgb(36,36,36)",
              "ticklen": 8,
              "ticks": "outside",
              "tickwidth": 2
             }
            },
            "type": "histogram"
           }
          ],
          "histogram2d": [
           {
            "colorbar": {
             "outlinewidth": 0,
             "tickcolor": "rgb(36,36,36)",
             "ticklen": 8,
             "ticks": "outside",
             "tickwidth": 2
            },
            "colorscale": [
             [
              0,
              "rgb(2,4,25)"
             ],
             [
              0.06274509803921569,
              "rgb(24,15,41)"
             ],
             [
              0.12549019607843137,
              "rgb(47,23,57)"
             ],
             [
              0.18823529411764706,
              "rgb(71,28,72)"
             ],
             [
              0.25098039215686274,
              "rgb(97,30,82)"
             ],
             [
              0.3137254901960784,
              "rgb(123,30,89)"
             ],
             [
              0.3764705882352941,
              "rgb(150,27,91)"
             ],
             [
              0.4392156862745098,
              "rgb(177,22,88)"
             ],
             [
              0.5019607843137255,
              "rgb(203,26,79)"
             ],
             [
              0.5647058823529412,
              "rgb(223,47,67)"
             ],
             [
              0.6274509803921569,
              "rgb(236,76,61)"
             ],
             [
              0.6901960784313725,
              "rgb(242,107,73)"
             ],
             [
              0.7529411764705882,
              "rgb(244,135,95)"
             ],
             [
              0.8156862745098039,
              "rgb(245,162,122)"
             ],
             [
              0.8784313725490196,
              "rgb(246,188,153)"
             ],
             [
              0.9411764705882353,
              "rgb(247,212,187)"
             ],
             [
              1,
              "rgb(250,234,220)"
             ]
            ],
            "type": "histogram2d"
           }
          ],
          "histogram2dcontour": [
           {
            "colorbar": {
             "outlinewidth": 0,
             "tickcolor": "rgb(36,36,36)",
             "ticklen": 8,
             "ticks": "outside",
             "tickwidth": 2
            },
            "colorscale": [
             [
              0,
              "rgb(2,4,25)"
             ],
             [
              0.06274509803921569,
              "rgb(24,15,41)"
             ],
             [
              0.12549019607843137,
              "rgb(47,23,57)"
             ],
             [
              0.18823529411764706,
              "rgb(71,28,72)"
             ],
             [
              0.25098039215686274,
              "rgb(97,30,82)"
             ],
             [
              0.3137254901960784,
              "rgb(123,30,89)"
             ],
             [
              0.3764705882352941,
              "rgb(150,27,91)"
             ],
             [
              0.4392156862745098,
              "rgb(177,22,88)"
             ],
             [
              0.5019607843137255,
              "rgb(203,26,79)"
             ],
             [
              0.5647058823529412,
              "rgb(223,47,67)"
             ],
             [
              0.6274509803921569,
              "rgb(236,76,61)"
             ],
             [
              0.6901960784313725,
              "rgb(242,107,73)"
             ],
             [
              0.7529411764705882,
              "rgb(244,135,95)"
             ],
             [
              0.8156862745098039,
              "rgb(245,162,122)"
             ],
             [
              0.8784313725490196,
              "rgb(246,188,153)"
             ],
             [
              0.9411764705882353,
              "rgb(247,212,187)"
             ],
             [
              1,
              "rgb(250,234,220)"
             ]
            ],
            "type": "histogram2dcontour"
           }
          ],
          "mesh3d": [
           {
            "colorbar": {
             "outlinewidth": 0,
             "tickcolor": "rgb(36,36,36)",
             "ticklen": 8,
             "ticks": "outside",
             "tickwidth": 2
            },
            "type": "mesh3d"
           }
          ],
          "parcoords": [
           {
            "line": {
             "colorbar": {
              "outlinewidth": 0,
              "tickcolor": "rgb(36,36,36)",
              "ticklen": 8,
              "ticks": "outside",
              "tickwidth": 2
             }
            },
            "type": "parcoords"
           }
          ],
          "pie": [
           {
            "automargin": true,
            "type": "pie"
           }
          ],
          "scatter": [
           {
            "marker": {
             "colorbar": {
              "outlinewidth": 0,
              "tickcolor": "rgb(36,36,36)",
              "ticklen": 8,
              "ticks": "outside",
              "tickwidth": 2
             }
            },
            "type": "scatter"
           }
          ],
          "scatter3d": [
           {
            "line": {
             "colorbar": {
              "outlinewidth": 0,
              "tickcolor": "rgb(36,36,36)",
              "ticklen": 8,
              "ticks": "outside",
              "tickwidth": 2
             }
            },
            "marker": {
             "colorbar": {
              "outlinewidth": 0,
              "tickcolor": "rgb(36,36,36)",
              "ticklen": 8,
              "ticks": "outside",
              "tickwidth": 2
             }
            },
            "type": "scatter3d"
           }
          ],
          "scattercarpet": [
           {
            "marker": {
             "colorbar": {
              "outlinewidth": 0,
              "tickcolor": "rgb(36,36,36)",
              "ticklen": 8,
              "ticks": "outside",
              "tickwidth": 2
             }
            },
            "type": "scattercarpet"
           }
          ],
          "scattergeo": [
           {
            "marker": {
             "colorbar": {
              "outlinewidth": 0,
              "tickcolor": "rgb(36,36,36)",
              "ticklen": 8,
              "ticks": "outside",
              "tickwidth": 2
             }
            },
            "type": "scattergeo"
           }
          ],
          "scattergl": [
           {
            "marker": {
             "colorbar": {
              "outlinewidth": 0,
              "tickcolor": "rgb(36,36,36)",
              "ticklen": 8,
              "ticks": "outside",
              "tickwidth": 2
             }
            },
            "type": "scattergl"
           }
          ],
          "scattermapbox": [
           {
            "marker": {
             "colorbar": {
              "outlinewidth": 0,
              "tickcolor": "rgb(36,36,36)",
              "ticklen": 8,
              "ticks": "outside",
              "tickwidth": 2
             }
            },
            "type": "scattermapbox"
           }
          ],
          "scatterpolar": [
           {
            "marker": {
             "colorbar": {
              "outlinewidth": 0,
              "tickcolor": "rgb(36,36,36)",
              "ticklen": 8,
              "ticks": "outside",
              "tickwidth": 2
             }
            },
            "type": "scatterpolar"
           }
          ],
          "scatterpolargl": [
           {
            "marker": {
             "colorbar": {
              "outlinewidth": 0,
              "tickcolor": "rgb(36,36,36)",
              "ticklen": 8,
              "ticks": "outside",
              "tickwidth": 2
             }
            },
            "type": "scatterpolargl"
           }
          ],
          "scatterternary": [
           {
            "marker": {
             "colorbar": {
              "outlinewidth": 0,
              "tickcolor": "rgb(36,36,36)",
              "ticklen": 8,
              "ticks": "outside",
              "tickwidth": 2
             }
            },
            "type": "scatterternary"
           }
          ],
          "surface": [
           {
            "colorbar": {
             "outlinewidth": 0,
             "tickcolor": "rgb(36,36,36)",
             "ticklen": 8,
             "ticks": "outside",
             "tickwidth": 2
            },
            "colorscale": [
             [
              0,
              "rgb(2,4,25)"
             ],
             [
              0.06274509803921569,
              "rgb(24,15,41)"
             ],
             [
              0.12549019607843137,
              "rgb(47,23,57)"
             ],
             [
              0.18823529411764706,
              "rgb(71,28,72)"
             ],
             [
              0.25098039215686274,
              "rgb(97,30,82)"
             ],
             [
              0.3137254901960784,
              "rgb(123,30,89)"
             ],
             [
              0.3764705882352941,
              "rgb(150,27,91)"
             ],
             [
              0.4392156862745098,
              "rgb(177,22,88)"
             ],
             [
              0.5019607843137255,
              "rgb(203,26,79)"
             ],
             [
              0.5647058823529412,
              "rgb(223,47,67)"
             ],
             [
              0.6274509803921569,
              "rgb(236,76,61)"
             ],
             [
              0.6901960784313725,
              "rgb(242,107,73)"
             ],
             [
              0.7529411764705882,
              "rgb(244,135,95)"
             ],
             [
              0.8156862745098039,
              "rgb(245,162,122)"
             ],
             [
              0.8784313725490196,
              "rgb(246,188,153)"
             ],
             [
              0.9411764705882353,
              "rgb(247,212,187)"
             ],
             [
              1,
              "rgb(250,234,220)"
             ]
            ],
            "type": "surface"
           }
          ],
          "table": [
           {
            "cells": {
             "fill": {
              "color": "rgb(231,231,240)"
             },
             "line": {
              "color": "white"
             }
            },
            "header": {
             "fill": {
              "color": "rgb(183,183,191)"
             },
             "line": {
              "color": "white"
             }
            },
            "type": "table"
           }
          ]
         },
         "layout": {
          "annotationdefaults": {
           "arrowcolor": "rgb(67,103,167)"
          },
          "coloraxis": {
           "colorbar": {
            "outlinewidth": 0,
            "tickcolor": "rgb(36,36,36)",
            "ticklen": 8,
            "ticks": "outside",
            "tickwidth": 2
           }
          },
          "colorscale": {
           "sequential": [
            [
             0,
             "rgb(2,4,25)"
            ],
            [
             0.06274509803921569,
             "rgb(24,15,41)"
            ],
            [
             0.12549019607843137,
             "rgb(47,23,57)"
            ],
            [
             0.18823529411764706,
             "rgb(71,28,72)"
            ],
            [
             0.25098039215686274,
             "rgb(97,30,82)"
            ],
            [
             0.3137254901960784,
             "rgb(123,30,89)"
            ],
            [
             0.3764705882352941,
             "rgb(150,27,91)"
            ],
            [
             0.4392156862745098,
             "rgb(177,22,88)"
            ],
            [
             0.5019607843137255,
             "rgb(203,26,79)"
            ],
            [
             0.5647058823529412,
             "rgb(223,47,67)"
            ],
            [
             0.6274509803921569,
             "rgb(236,76,61)"
            ],
            [
             0.6901960784313725,
             "rgb(242,107,73)"
            ],
            [
             0.7529411764705882,
             "rgb(244,135,95)"
            ],
            [
             0.8156862745098039,
             "rgb(245,162,122)"
            ],
            [
             0.8784313725490196,
             "rgb(246,188,153)"
            ],
            [
             0.9411764705882353,
             "rgb(247,212,187)"
            ],
            [
             1,
             "rgb(250,234,220)"
            ]
           ],
           "sequentialminus": [
            [
             0,
             "rgb(2,4,25)"
            ],
            [
             0.06274509803921569,
             "rgb(24,15,41)"
            ],
            [
             0.12549019607843137,
             "rgb(47,23,57)"
            ],
            [
             0.18823529411764706,
             "rgb(71,28,72)"
            ],
            [
             0.25098039215686274,
             "rgb(97,30,82)"
            ],
            [
             0.3137254901960784,
             "rgb(123,30,89)"
            ],
            [
             0.3764705882352941,
             "rgb(150,27,91)"
            ],
            [
             0.4392156862745098,
             "rgb(177,22,88)"
            ],
            [
             0.5019607843137255,
             "rgb(203,26,79)"
            ],
            [
             0.5647058823529412,
             "rgb(223,47,67)"
            ],
            [
             0.6274509803921569,
             "rgb(236,76,61)"
            ],
            [
             0.6901960784313725,
             "rgb(242,107,73)"
            ],
            [
             0.7529411764705882,
             "rgb(244,135,95)"
            ],
            [
             0.8156862745098039,
             "rgb(245,162,122)"
            ],
            [
             0.8784313725490196,
             "rgb(246,188,153)"
            ],
            [
             0.9411764705882353,
             "rgb(247,212,187)"
            ],
            [
             1,
             "rgb(250,234,220)"
            ]
           ]
          },
          "colorway": [
           "rgb(76,114,176)",
           "rgb(221,132,82)",
           "rgb(85,168,104)",
           "rgb(196,78,82)",
           "rgb(129,114,179)",
           "rgb(147,120,96)",
           "rgb(218,139,195)",
           "rgb(140,140,140)",
           "rgb(204,185,116)",
           "rgb(100,181,205)"
          ],
          "font": {
           "color": "rgb(36,36,36)"
          },
          "geo": {
           "bgcolor": "white",
           "lakecolor": "white",
           "landcolor": "rgb(234,234,242)",
           "showlakes": true,
           "showland": true,
           "subunitcolor": "white"
          },
          "hoverlabel": {
           "align": "left"
          },
          "hovermode": "closest",
          "paper_bgcolor": "white",
          "plot_bgcolor": "rgb(234,234,242)",
          "polar": {
           "angularaxis": {
            "gridcolor": "white",
            "linecolor": "white",
            "showgrid": true,
            "ticks": ""
           },
           "bgcolor": "rgb(234,234,242)",
           "radialaxis": {
            "gridcolor": "white",
            "linecolor": "white",
            "showgrid": true,
            "ticks": ""
           }
          },
          "scene": {
           "xaxis": {
            "backgroundcolor": "rgb(234,234,242)",
            "gridcolor": "white",
            "gridwidth": 2,
            "linecolor": "white",
            "showbackground": true,
            "showgrid": true,
            "ticks": "",
            "zerolinecolor": "white"
           },
           "yaxis": {
            "backgroundcolor": "rgb(234,234,242)",
            "gridcolor": "white",
            "gridwidth": 2,
            "linecolor": "white",
            "showbackground": true,
            "showgrid": true,
            "ticks": "",
            "zerolinecolor": "white"
           },
           "zaxis": {
            "backgroundcolor": "rgb(234,234,242)",
            "gridcolor": "white",
            "gridwidth": 2,
            "linecolor": "white",
            "showbackground": true,
            "showgrid": true,
            "ticks": "",
            "zerolinecolor": "white"
           }
          },
          "shapedefaults": {
           "fillcolor": "rgb(67,103,167)",
           "line": {
            "width": 0
           },
           "opacity": 0.5
          },
          "ternary": {
           "aaxis": {
            "gridcolor": "white",
            "linecolor": "white",
            "showgrid": true,
            "ticks": ""
           },
           "baxis": {
            "gridcolor": "white",
            "linecolor": "white",
            "showgrid": true,
            "ticks": ""
           },
           "bgcolor": "rgb(234,234,242)",
           "caxis": {
            "gridcolor": "white",
            "linecolor": "white",
            "showgrid": true,
            "ticks": ""
           }
          },
          "xaxis": {
           "automargin": true,
           "gridcolor": "white",
           "linecolor": "white",
           "showgrid": true,
           "ticks": "",
           "title": {
            "standoff": 15
           },
           "zerolinecolor": "white"
          },
          "yaxis": {
           "automargin": true,
           "gridcolor": "white",
           "linecolor": "white",
           "showgrid": true,
           "ticks": "",
           "title": {
            "standoff": 15
           },
           "zerolinecolor": "white"
          }
         }
        },
        "title": {
         "font": {
          "family": "Times New Roman",
          "size": 28
         },
         "text": "",
         "x": 0.5,
         "y": 0.98
        },
        "width": 800,
        "xaxis": {
         "autorange": true,
         "range": [
          0,
          99
         ],
         "showgrid": false,
         "title": {
          "text": "Epoch"
         },
         "type": "linear",
         "zeroline": false
        },
        "yaxis": {
         "autorange": true,
         "range": [
          0.006465889282999112,
          0.025833160907878582
         ],
         "showgrid": false,
         "title": {
          "text": "Loss"
         },
         "type": "linear",
         "zeroline": false
        }
       }
      },
      "image/png": "[encoded data removed]",
      "text/html": [
       "<div>\n",
       "        \n",
       "        \n",
       "            <div id=\"1a4bb073-5826-4b27-92f3-f8559fc6bc16\" class=\"plotly-graph-div\" style=\"height:400px; width:800px;\"></div>\n",
       "            <script type=\"text/javascript\">\n",
       "                require([\"plotly\"], function(Plotly) {\n",
       "                    window.PLOTLYENV=window.PLOTLYENV || {};\n",
       "                    \n",
       "                if (document.getElementById(\"1a4bb073-5826-4b27-92f3-f8559fc6bc16\")) {\n",
       "                    Plotly.newPlot(\n",
       "                        '1a4bb073-5826-4b27-92f3-f8559fc6bc16',\n",
       "                        [{\"marker\": {\"color\": \"#00CC78\"}, \"name\": \"Test Loss\", \"showlegend\": true, \"type\": \"scatter\", \"x\": [0, 1, 2, 3, 4, 5, 6, 7, 8, 9, 10, 11, 12, 13, 14, 15, 16, 17, 18, 19, 20, 21, 22, 23, 24, 25, 26, 27, 28, 29, 30, 31, 32, 33, 34, 35, 36, 37, 38, 39, 40, 41, 42, 43, 44, 45, 46, 47, 48, 49, 50, 51, 52, 53, 54, 55, 56, 57, 58, 59, 60, 61, 62, 63, 64, 65, 66, 67, 68, 69, 70, 71, 72, 73, 74, 75, 76, 77, 78, 79, 80, 81, 82, 83, 84, 85, 86, 87, 88, 89, 90, 91, 92, 93, 94, 95, 96, 97, 98, 99], \"y\": [0.015733003098931574, 0.013418490722499513, 0.011642659910851054, 0.010958640140561778, 0.01099351046744872, 0.010713393541259898, 0.010680105301471036, 0.010734813506312576, 0.01025231022755673, 0.010218075097159105, 0.010001690351162796, 0.010182479534436156, 0.009814543879510444, 0.00957345108812054, 0.010031892708215265, 0.009693448885953351, 0.009810105776759209, 0.00933183547983199, 0.009641931104807206, 0.009296995889464464, 0.0091681481183817, 0.009523613246180762, 0.009192559336323613, 0.008871683175388126, 0.008998391379452781, 0.009012290055254177, 0.00881779812604051, 0.00903440475532854, 0.009193243338140072, 0.009093399642518272, 0.008892099462150608, 0.009415544351033958, 0.00885228516051063, 0.009006277238375243, 0.00880090472932307, 0.008939042575312433, 0.00873328984519582, 0.008756119387086344, 0.00861928157542867, 0.008508422973215073, 0.008592591339285359, 0.008954152585593638, 0.008534522459807771, 0.008581257683949338, 0.008431526208526375, 0.008295974633828909, 0.008517577140419572, 0.008469528668088677, 0.008560075369996973, 0.00835995252508624, 0.008356384703038651, 0.008319083802448009, 0.008703478772975044, 0.008433049475705182, 0.008446288082380722, 0.008207241421059509, 0.008096852078229005, 0.008283393980682266, 0.008115965559687695, 0.008343662695821237, 0.008606435570084019, 0.008155247912293783, 0.008154605470747216, 0.008179542792524084, 0.008080739418711558, 0.008174163987860084, 0.008214345885969606, 0.00821719050154458, 0.008296848944514806, 0.008191142645147111, 0.008395580615112443, 0.008151438584505224, 0.008082835174763553, 0.008382449725665797, 0.007945964268098274, 0.00809159471342961, 0.008049716118056282, 0.008292979181364731, 0.00801682405254263, 0.008070968620387125, 0.008208598932941203, 0.008055364437125347, 0.008241294400283584, 0.008245662642343913, 0.008196029932824549, 0.008073821974297365, 0.008211791360129913, 0.007993516147159685, 0.00825784101875292, 0.00819055549800396, 0.008056113824110341, 0.008028949375183862, 0.007988892969916816, 0.008155588618261211, 0.008200342496742069, 0.008195013598320476, 0.008844415237552222, 0.007922402657798411, 0.007971133231932733, 0.008099604311778589]}, {\"marker\": {\"color\": \"#0055AA\"}, \"mode\": \"lines\", \"name\": \"Train Loss\", \"showlegend\": true, \"type\": \"scatter\", \"x\": [0, 1, 2, 3, 4, 5, 6, 7, 8, 9, 10, 11, 12, 13, 14, 15, 16, 17, 18, 19, 20, 21, 22, 23, 24, 25, 26, 27, 28, 29, 30, 31, 32, 33, 34, 35, 36, 37, 38, 39, 40, 41, 42, 43, 44, 45, 46, 47, 48, 49, 50, 51, 52, 53, 54, 55, 56, 57, 58, 59, 60, 61, 62, 63, 64, 65, 66, 67, 68, 69, 70, 71, 72, 73, 74, 75, 76, 77, 78, 79, 80, 81, 82, 83, 84, 85, 86, 87, 88, 89, 90, 91, 92, 93, 94, 95, 96, 97, 98, 99], \"y\": [0.02486479732663461, 0.013538150881298141, 0.01166804757323174, 0.010897047459394484, 0.010478794146793377, 0.010252531213146223, 0.009939804529579722, 0.009760313240138124, 0.00962489543517477, 0.00957508789262273, 0.009394418736890748, 0.009295112710167593, 0.00913588188420343, 0.009080018925065656, 0.009071596869850687, 0.00906793695854203, 0.008982650902284733, 0.008885560623251156, 0.008864228726825981, 0.008814095773348277, 0.008755462601014945, 0.008640393456647237, 0.00857780247091133, 0.008553860467536567, 0.008492883877985389, 0.008457947185123773, 0.00856018256732608, 0.008469684954697842, 0.008467181597334388, 0.00837601191723992, 0.008360389490231778, 0.008397891538687677, 0.008361297072059362, 0.008350552164882747, 0.008295724395447849, 0.008272817628922353, 0.008257284959940664, 0.008179963532272391, 0.00819407625129661, 0.008152815388556209, 0.008157178758849559, 0.008119475628855722, 0.008141365520238319, 0.008105590054620278, 0.008083321722050276, 0.008018186542922138, 0.007954030595081525, 0.007980097147615807, 0.007927518713685489, 0.00789353285910347, 0.007920212775317959, 0.007794601027491122, 0.007900347051172985, 0.007917961962317983, 0.00782429261025726, 0.007792642601182528, 0.007776483627198688, 0.007723509478368259, 0.0077824636878927374, 0.007831652852564446, 0.007746403713382756, 0.007749157588540162, 0.007765691062273035, 0.007787904689071056, 0.007705743062655176, 0.007702386032824762, 0.007758676136098222, 0.0076395847161541295, 0.007757569584891061, 0.007716462843706164, 0.007691863293953913, 0.0076437051592226435, 0.007595378989672921, 0.007646763403508291, 0.0075779395486950596, 0.007567742141689003, 0.007676882714300048, 0.007578286195081017, 0.007575277839656745, 0.007614862329741458, 0.007656510487761684, 0.00756414465655535, 0.007631148569970579, 0.007557569136204795, 0.007596533844897354, 0.007581853848153789, 0.007506856034768055, 0.0075837709365058625, 0.007531317972905956, 0.007511647189662695, 0.007489091457038932, 0.007533819067967922, 0.00759900188816253, 0.0075569999320113405, 0.007530096190839402, 0.007571268499599671, 0.007546962469502865, 0.007522364584380917, 0.0075110961201475986, 0.007434252864243086]}],\n",
       "                        {\"autosize\": false, \"font\": {\"family\": \"Times New Roman\", \"size\": 16}, \"height\": 400, \"legend\": {\"bgcolor\": \"rgba(220,220,230,0.8)\", \"font\": {\"size\": 15}, \"orientation\": \"v\", \"title\": {\"font\": {\"size\": 14}, \"text\": \"Drum Types:\"}, \"x\": 1, \"xanchor\": \"right\", \"y\": 1, \"yanchor\": \"top\"}, \"margin\": {\"b\": 0, \"l\": 10, \"r\": 5, \"t\": 5}, \"template\": {\"data\": {\"bar\": [{\"error_x\": {\"color\": \"rgb(36,36,36)\"}, \"error_y\": {\"color\": \"rgb(36,36,36)\"}, \"marker\": {\"line\": {\"color\": \"rgb(234,234,242)\", \"width\": 0.5}}, \"type\": \"bar\"}], \"barpolar\": [{\"marker\": {\"line\": {\"color\": \"rgb(234,234,242)\", \"width\": 0.5}}, \"type\": \"barpolar\"}], \"carpet\": [{\"aaxis\": {\"endlinecolor\": \"rgb(36,36,36)\", \"gridcolor\": \"white\", \"linecolor\": \"white\", \"minorgridcolor\": \"white\", \"startlinecolor\": \"rgb(36,36,36)\"}, \"baxis\": {\"endlinecolor\": \"rgb(36,36,36)\", \"gridcolor\": \"white\", \"linecolor\": \"white\", \"minorgridcolor\": \"white\", \"startlinecolor\": \"rgb(36,36,36)\"}, \"type\": \"carpet\"}], \"choropleth\": [{\"colorbar\": {\"outlinewidth\": 0, \"tickcolor\": \"rgb(36,36,36)\", \"ticklen\": 8, \"ticks\": \"outside\", \"tickwidth\": 2}, \"type\": \"choropleth\"}], \"contour\": [{\"colorbar\": {\"outlinewidth\": 0, \"tickcolor\": \"rgb(36,36,36)\", \"ticklen\": 8, \"ticks\": \"outside\", \"tickwidth\": 2}, \"colorscale\": [[0.0, \"rgb(2,4,25)\"], [0.06274509803921569, \"rgb(24,15,41)\"], [0.12549019607843137, \"rgb(47,23,57)\"], [0.18823529411764706, \"rgb(71,28,72)\"], [0.25098039215686274, \"rgb(97,30,82)\"], [0.3137254901960784, \"rgb(123,30,89)\"], [0.3764705882352941, \"rgb(150,27,91)\"], [0.4392156862745098, \"rgb(177,22,88)\"], [0.5019607843137255, \"rgb(203,26,79)\"], [0.5647058823529412, \"rgb(223,47,67)\"], [0.6274509803921569, \"rgb(236,76,61)\"], [0.6901960784313725, \"rgb(242,107,73)\"], [0.7529411764705882, \"rgb(244,135,95)\"], [0.8156862745098039, \"rgb(245,162,122)\"], [0.8784313725490196, \"rgb(246,188,153)\"], [0.9411764705882353, \"rgb(247,212,187)\"], [1.0, \"rgb(250,234,220)\"]], \"type\": \"contour\"}], \"contourcarpet\": [{\"colorbar\": {\"outlinewidth\": 0, \"tickcolor\": \"rgb(36,36,36)\", \"ticklen\": 8, \"ticks\": \"outside\", \"tickwidth\": 2}, \"type\": \"contourcarpet\"}], \"heatmap\": [{\"colorbar\": {\"outlinewidth\": 0, \"tickcolor\": \"rgb(36,36,36)\", \"ticklen\": 8, \"ticks\": \"outside\", \"tickwidth\": 2}, \"colorscale\": [[0.0, \"rgb(2,4,25)\"], [0.06274509803921569, \"rgb(24,15,41)\"], [0.12549019607843137, \"rgb(47,23,57)\"], [0.18823529411764706, \"rgb(71,28,72)\"], [0.25098039215686274, \"rgb(97,30,82)\"], [0.3137254901960784, \"rgb(123,30,89)\"], [0.3764705882352941, \"rgb(150,27,91)\"], [0.4392156862745098, \"rgb(177,22,88)\"], [0.5019607843137255, \"rgb(203,26,79)\"], [0.5647058823529412, \"rgb(223,47,67)\"], [0.6274509803921569, \"rgb(236,76,61)\"], [0.6901960784313725, \"rgb(242,107,73)\"], [0.7529411764705882, \"rgb(244,135,95)\"], [0.8156862745098039, \"rgb(245,162,122)\"], [0.8784313725490196, \"rgb(246,188,153)\"], [0.9411764705882353, \"rgb(247,212,187)\"], [1.0, \"rgb(250,234,220)\"]], \"type\": \"heatmap\"}], \"heatmapgl\": [{\"colorbar\": {\"outlinewidth\": 0, \"tickcolor\": \"rgb(36,36,36)\", \"ticklen\": 8, \"ticks\": \"outside\", \"tickwidth\": 2}, \"colorscale\": [[0.0, \"rgb(2,4,25)\"], [0.06274509803921569, \"rgb(24,15,41)\"], [0.12549019607843137, \"rgb(47,23,57)\"], [0.18823529411764706, \"rgb(71,28,72)\"], [0.25098039215686274, \"rgb(97,30,82)\"], [0.3137254901960784, \"rgb(123,30,89)\"], [0.3764705882352941, \"rgb(150,27,91)\"], [0.4392156862745098, \"rgb(177,22,88)\"], [0.5019607843137255, \"rgb(203,26,79)\"], [0.5647058823529412, \"rgb(223,47,67)\"], [0.6274509803921569, \"rgb(236,76,61)\"], [0.6901960784313725, \"rgb(242,107,73)\"], [0.7529411764705882, \"rgb(244,135,95)\"], [0.8156862745098039, \"rgb(245,162,122)\"], [0.8784313725490196, \"rgb(246,188,153)\"], [0.9411764705882353, \"rgb(247,212,187)\"], [1.0, \"rgb(250,234,220)\"]], \"type\": \"heatmapgl\"}], \"histogram\": [{\"marker\": {\"colorbar\": {\"outlinewidth\": 0, \"tickcolor\": \"rgb(36,36,36)\", \"ticklen\": 8, \"ticks\": \"outside\", \"tickwidth\": 2}}, \"type\": \"histogram\"}], \"histogram2d\": [{\"colorbar\": {\"outlinewidth\": 0, \"tickcolor\": \"rgb(36,36,36)\", \"ticklen\": 8, \"ticks\": \"outside\", \"tickwidth\": 2}, \"colorscale\": [[0.0, \"rgb(2,4,25)\"], [0.06274509803921569, \"rgb(24,15,41)\"], [0.12549019607843137, \"rgb(47,23,57)\"], [0.18823529411764706, \"rgb(71,28,72)\"], [0.25098039215686274, \"rgb(97,30,82)\"], [0.3137254901960784, \"rgb(123,30,89)\"], [0.3764705882352941, \"rgb(150,27,91)\"], [0.4392156862745098, \"rgb(177,22,88)\"], [0.5019607843137255, \"rgb(203,26,79)\"], [0.5647058823529412, \"rgb(223,47,67)\"], [0.6274509803921569, \"rgb(236,76,61)\"], [0.6901960784313725, \"rgb(242,107,73)\"], [0.7529411764705882, \"rgb(244,135,95)\"], [0.8156862745098039, \"rgb(245,162,122)\"], [0.8784313725490196, \"rgb(246,188,153)\"], [0.9411764705882353, \"rgb(247,212,187)\"], [1.0, \"rgb(250,234,220)\"]], \"type\": \"histogram2d\"}], \"histogram2dcontour\": [{\"colorbar\": {\"outlinewidth\": 0, \"tickcolor\": \"rgb(36,36,36)\", \"ticklen\": 8, \"ticks\": \"outside\", \"tickwidth\": 2}, \"colorscale\": [[0.0, \"rgb(2,4,25)\"], [0.06274509803921569, \"rgb(24,15,41)\"], [0.12549019607843137, \"rgb(47,23,57)\"], [0.18823529411764706, \"rgb(71,28,72)\"], [0.25098039215686274, \"rgb(97,30,82)\"], [0.3137254901960784, \"rgb(123,30,89)\"], [0.3764705882352941, \"rgb(150,27,91)\"], [0.4392156862745098, \"rgb(177,22,88)\"], [0.5019607843137255, \"rgb(203,26,79)\"], [0.5647058823529412, \"rgb(223,47,67)\"], [0.6274509803921569, \"rgb(236,76,61)\"], [0.6901960784313725, \"rgb(242,107,73)\"], [0.7529411764705882, \"rgb(244,135,95)\"], [0.8156862745098039, \"rgb(245,162,122)\"], [0.8784313725490196, \"rgb(246,188,153)\"], [0.9411764705882353, \"rgb(247,212,187)\"], [1.0, \"rgb(250,234,220)\"]], \"type\": \"histogram2dcontour\"}], \"mesh3d\": [{\"colorbar\": {\"outlinewidth\": 0, \"tickcolor\": \"rgb(36,36,36)\", \"ticklen\": 8, \"ticks\": \"outside\", \"tickwidth\": 2}, \"type\": \"mesh3d\"}], \"parcoords\": [{\"line\": {\"colorbar\": {\"outlinewidth\": 0, \"tickcolor\": \"rgb(36,36,36)\", \"ticklen\": 8, \"ticks\": \"outside\", \"tickwidth\": 2}}, \"type\": \"parcoords\"}], \"pie\": [{\"automargin\": true, \"type\": \"pie\"}], \"scatter\": [{\"marker\": {\"colorbar\": {\"outlinewidth\": 0, \"tickcolor\": \"rgb(36,36,36)\", \"ticklen\": 8, \"ticks\": \"outside\", \"tickwidth\": 2}}, \"type\": \"scatter\"}], \"scatter3d\": [{\"line\": {\"colorbar\": {\"outlinewidth\": 0, \"tickcolor\": \"rgb(36,36,36)\", \"ticklen\": 8, \"ticks\": \"outside\", \"tickwidth\": 2}}, \"marker\": {\"colorbar\": {\"outlinewidth\": 0, \"tickcolor\": \"rgb(36,36,36)\", \"ticklen\": 8, \"ticks\": \"outside\", \"tickwidth\": 2}}, \"type\": \"scatter3d\"}], \"scattercarpet\": [{\"marker\": {\"colorbar\": {\"outlinewidth\": 0, \"tickcolor\": \"rgb(36,36,36)\", \"ticklen\": 8, \"ticks\": \"outside\", \"tickwidth\": 2}}, \"type\": \"scattercarpet\"}], \"scattergeo\": [{\"marker\": {\"colorbar\": {\"outlinewidth\": 0, \"tickcolor\": \"rgb(36,36,36)\", \"ticklen\": 8, \"ticks\": \"outside\", \"tickwidth\": 2}}, \"type\": \"scattergeo\"}], \"scattergl\": [{\"marker\": {\"colorbar\": {\"outlinewidth\": 0, \"tickcolor\": \"rgb(36,36,36)\", \"ticklen\": 8, \"ticks\": \"outside\", \"tickwidth\": 2}}, \"type\": \"scattergl\"}], \"scattermapbox\": [{\"marker\": {\"colorbar\": {\"outlinewidth\": 0, \"tickcolor\": \"rgb(36,36,36)\", \"ticklen\": 8, \"ticks\": \"outside\", \"tickwidth\": 2}}, \"type\": \"scattermapbox\"}], \"scatterpolar\": [{\"marker\": {\"colorbar\": {\"outlinewidth\": 0, \"tickcolor\": \"rgb(36,36,36)\", \"ticklen\": 8, \"ticks\": \"outside\", \"tickwidth\": 2}}, \"type\": \"scatterpolar\"}], \"scatterpolargl\": [{\"marker\": {\"colorbar\": {\"outlinewidth\": 0, \"tickcolor\": \"rgb(36,36,36)\", \"ticklen\": 8, \"ticks\": \"outside\", \"tickwidth\": 2}}, \"type\": \"scatterpolargl\"}], \"scatterternary\": [{\"marker\": {\"colorbar\": {\"outlinewidth\": 0, \"tickcolor\": \"rgb(36,36,36)\", \"ticklen\": 8, \"ticks\": \"outside\", \"tickwidth\": 2}}, \"type\": \"scatterternary\"}], \"surface\": [{\"colorbar\": {\"outlinewidth\": 0, \"tickcolor\": \"rgb(36,36,36)\", \"ticklen\": 8, \"ticks\": \"outside\", \"tickwidth\": 2}, \"colorscale\": [[0.0, \"rgb(2,4,25)\"], [0.06274509803921569, \"rgb(24,15,41)\"], [0.12549019607843137, \"rgb(47,23,57)\"], [0.18823529411764706, \"rgb(71,28,72)\"], [0.25098039215686274, \"rgb(97,30,82)\"], [0.3137254901960784, \"rgb(123,30,89)\"], [0.3764705882352941, \"rgb(150,27,91)\"], [0.4392156862745098, \"rgb(177,22,88)\"], [0.5019607843137255, \"rgb(203,26,79)\"], [0.5647058823529412, \"rgb(223,47,67)\"], [0.6274509803921569, \"rgb(236,76,61)\"], [0.6901960784313725, \"rgb(242,107,73)\"], [0.7529411764705882, \"rgb(244,135,95)\"], [0.8156862745098039, \"rgb(245,162,122)\"], [0.8784313725490196, \"rgb(246,188,153)\"], [0.9411764705882353, \"rgb(247,212,187)\"], [1.0, \"rgb(250,234,220)\"]], \"type\": \"surface\"}], \"table\": [{\"cells\": {\"fill\": {\"color\": \"rgb(231,231,240)\"}, \"line\": {\"color\": \"white\"}}, \"header\": {\"fill\": {\"color\": \"rgb(183,183,191)\"}, \"line\": {\"color\": \"white\"}}, \"type\": \"table\"}]}, \"layout\": {\"annotationdefaults\": {\"arrowcolor\": \"rgb(67,103,167)\"}, \"coloraxis\": {\"colorbar\": {\"outlinewidth\": 0, \"tickcolor\": \"rgb(36,36,36)\", \"ticklen\": 8, \"ticks\": \"outside\", \"tickwidth\": 2}}, \"colorscale\": {\"sequential\": [[0.0, \"rgb(2,4,25)\"], [0.06274509803921569, \"rgb(24,15,41)\"], [0.12549019607843137, \"rgb(47,23,57)\"], [0.18823529411764706, \"rgb(71,28,72)\"], [0.25098039215686274, \"rgb(97,30,82)\"], [0.3137254901960784, \"rgb(123,30,89)\"], [0.3764705882352941, \"rgb(150,27,91)\"], [0.4392156862745098, \"rgb(177,22,88)\"], [0.5019607843137255, \"rgb(203,26,79)\"], [0.5647058823529412, \"rgb(223,47,67)\"], [0.6274509803921569, \"rgb(236,76,61)\"], [0.6901960784313725, \"rgb(242,107,73)\"], [0.7529411764705882, \"rgb(244,135,95)\"], [0.8156862745098039, \"rgb(245,162,122)\"], [0.8784313725490196, \"rgb(246,188,153)\"], [0.9411764705882353, \"rgb(247,212,187)\"], [1.0, \"rgb(250,234,220)\"]], \"sequentialminus\": [[0.0, \"rgb(2,4,25)\"], [0.06274509803921569, \"rgb(24,15,41)\"], [0.12549019607843137, \"rgb(47,23,57)\"], [0.18823529411764706, \"rgb(71,28,72)\"], [0.25098039215686274, \"rgb(97,30,82)\"], [0.3137254901960784, \"rgb(123,30,89)\"], [0.3764705882352941, \"rgb(150,27,91)\"], [0.4392156862745098, \"rgb(177,22,88)\"], [0.5019607843137255, \"rgb(203,26,79)\"], [0.5647058823529412, \"rgb(223,47,67)\"], [0.6274509803921569, \"rgb(236,76,61)\"], [0.6901960784313725, \"rgb(242,107,73)\"], [0.7529411764705882, \"rgb(244,135,95)\"], [0.8156862745098039, \"rgb(245,162,122)\"], [0.8784313725490196, \"rgb(246,188,153)\"], [0.9411764705882353, \"rgb(247,212,187)\"], [1.0, \"rgb(250,234,220)\"]]}, \"colorway\": [\"rgb(76,114,176)\", \"rgb(221,132,82)\", \"rgb(85,168,104)\", \"rgb(196,78,82)\", \"rgb(129,114,179)\", \"rgb(147,120,96)\", \"rgb(218,139,195)\", \"rgb(140,140,140)\", \"rgb(204,185,116)\", \"rgb(100,181,205)\"], \"font\": {\"color\": \"rgb(36,36,36)\"}, \"geo\": {\"bgcolor\": \"white\", \"lakecolor\": \"white\", \"landcolor\": \"rgb(234,234,242)\", \"showlakes\": true, \"showland\": true, \"subunitcolor\": \"white\"}, \"hoverlabel\": {\"align\": \"left\"}, \"hovermode\": \"closest\", \"paper_bgcolor\": \"white\", \"plot_bgcolor\": \"rgb(234,234,242)\", \"polar\": {\"angularaxis\": {\"gridcolor\": \"white\", \"linecolor\": \"white\", \"showgrid\": true, \"ticks\": \"\"}, \"bgcolor\": \"rgb(234,234,242)\", \"radialaxis\": {\"gridcolor\": \"white\", \"linecolor\": \"white\", \"showgrid\": true, \"ticks\": \"\"}}, \"scene\": {\"xaxis\": {\"backgroundcolor\": \"rgb(234,234,242)\", \"gridcolor\": \"white\", \"gridwidth\": 2, \"linecolor\": \"white\", \"showbackground\": true, \"showgrid\": true, \"ticks\": \"\", \"zerolinecolor\": \"white\"}, \"yaxis\": {\"backgroundcolor\": \"rgb(234,234,242)\", \"gridcolor\": \"white\", \"gridwidth\": 2, \"linecolor\": \"white\", \"showbackground\": true, \"showgrid\": true, \"ticks\": \"\", \"zerolinecolor\": \"white\"}, \"zaxis\": {\"backgroundcolor\": \"rgb(234,234,242)\", \"gridcolor\": \"white\", \"gridwidth\": 2, \"linecolor\": \"white\", \"showbackground\": true, \"showgrid\": true, \"ticks\": \"\", \"zerolinecolor\": \"white\"}}, \"shapedefaults\": {\"fillcolor\": \"rgb(67,103,167)\", \"line\": {\"width\": 0}, \"opacity\": 0.5}, \"ternary\": {\"aaxis\": {\"gridcolor\": \"white\", \"linecolor\": \"white\", \"showgrid\": true, \"ticks\": \"\"}, \"baxis\": {\"gridcolor\": \"white\", \"linecolor\": \"white\", \"showgrid\": true, \"ticks\": \"\"}, \"bgcolor\": \"rgb(234,234,242)\", \"caxis\": {\"gridcolor\": \"white\", \"linecolor\": \"white\", \"showgrid\": true, \"ticks\": \"\"}}, \"xaxis\": {\"automargin\": true, \"gridcolor\": \"white\", \"linecolor\": \"white\", \"showgrid\": true, \"ticks\": \"\", \"title\": {\"standoff\": 15}, \"zerolinecolor\": \"white\"}, \"yaxis\": {\"automargin\": true, \"gridcolor\": \"white\", \"linecolor\": \"white\", \"showgrid\": true, \"ticks\": \"\", \"title\": {\"standoff\": 15}, \"zerolinecolor\": \"white\"}}}, \"title\": {\"font\": {\"family\": \"Times New Roman\", \"size\": 28}, \"text\": \"\", \"x\": 0.5, \"y\": 0.98}, \"width\": 800, \"xaxis\": {\"showgrid\": false, \"title\": {\"text\": \"Epoch\"}, \"zeroline\": false}, \"yaxis\": {\"showgrid\": false, \"title\": {\"text\": \"Loss\"}, \"zeroline\": false}},\n",
       "                        {\"responsive\": true}\n",
       "                    ).then(function(){\n",
       "                            \n",
       "var gd = document.getElementById('1a4bb073-5826-4b27-92f3-f8559fc6bc16');\n",
       "var x = new MutationObserver(function (mutations, observer) {{\n",
       "        var display = window.getComputedStyle(gd).display;\n",
       "        if (!display || display === 'none') {{\n",
       "            console.log([gd, 'removed!']);\n",
       "            Plotly.purge(gd);\n",
       "            observer.disconnect();\n",
       "        }}\n",
       "}});\n",
       "\n",
       "// Listen for the removal of the full notebook cells\n",
       "var notebookContainer = gd.closest('#notebook-container');\n",
       "if (notebookContainer) {{\n",
       "    x.observe(notebookContainer, {childList: true});\n",
       "}}\n",
       "\n",
       "// Listen for the clearing of the current output cell\n",
       "var outputEl = gd.closest('.output');\n",
       "if (outputEl) {{\n",
       "    x.observe(outputEl, {childList: true});\n",
       "}}\n",
       "\n",
       "                        })\n",
       "                };\n",
       "                });\n",
       "            </script>\n",
       "        </div>"
      ]
     },
     "metadata": {},
     "output_type": "display_data"
    }
   ],
   "source": [
    "#test/train plot\n",
    "\n",
    "import plotly.express as px \n",
    "import pandas as pd \n",
    "import numpy as np \n",
    "scope = PlotlyScope()\n",
    "# Get some data\n",
    "df = pd.read_csv('../../feature_extraction/csvs/training/both.csv')\n",
    "\n",
    "# Plot \n",
    "fig = go.Figure()\n",
    "\n",
    "fig.add_trace(go.Scatter(\n",
    "    x=df.index,\n",
    "    y=df['test_loss'],\n",
    "    marker=dict(\n",
    "        color=\"#00CC78\"\n",
    "    ),\n",
    "    name=\"Test Loss\",\n",
    "    showlegend=True\n",
    "))\n",
    "\n",
    "fig.add_trace(go.Scatter(\n",
    "    x=df.index,\n",
    "    y=df['train_loss'],\n",
    "    mode='lines',\n",
    "    marker=dict(\n",
    "       color=\"#0055AA\"\n",
    "    ),\n",
    "    name=\"Train Loss\",\n",
    "    showlegend=True\n",
    "))\n",
    "\n",
    "fig.update_layout(\n",
    " autosize=False,title_text='',title=None,title_x=0.5, title_y=0.98,\n",
    "                    template=\"seaborn\",\n",
    "                    width=800,\n",
    "                    height=400, margin=dict( r=5, l=10, b=0, t=5),\n",
    "                    font_family=\"Times New Roman\",\n",
    "                    font_size=16,\n",
    "                    title_font_family=\"Times New Roman\",\n",
    "                    title_font_size=28,\n",
    "                    legend=dict(bgcolor='rgba(220,220,230,0.8)',orientation=\"v\",yanchor=\"top\",y=1,xanchor=\"right\",x=1,\n",
    "                        font = dict(size=15),title_font = dict(size=14)),\n",
    "                    legend_title_text=\"Drum Types:\",\n",
    "                )\n",
    "\n",
    "fig.update_xaxes(showgrid=False,zeroline=False,title_text=\"Epoch\")\n",
    "fig.update_yaxes(showgrid=False,zeroline=False,title_text=\"Loss\")\n",
    "fig.show()\n",
    "with open(\"best_training\", \"wb\") as f:\n",
    "    f.write(scope.transform(fig, format=\"pdf\", width=700,height=400,  ))"
   ]
  },
  {
   "cell_type": "code",
   "execution_count": null,
   "metadata": {},
   "outputs": [],
   "source": [
    "\n",
    "scope = PlotlyScope()\n",
    "\n",
    "df=pd.read_csv(\"../feature_extraction/csvs/df_8_2D.csv\",index_col=False)\n",
    "\n",
    "# fig = px.scatter_3d(df, x=\"D1\",y=\"D2\",z=\"D3\",color=\"label\",symbol=\"drum_type\",hover_data=[\"path\"],color_discrete_sequence=px.colors.qualitative.Dark2)\n",
    "s_map={\"tom_mid\":\"x\",\"hihat_closed\":\"circle\",\"synth_noise\":\"cross\",\"tom_low\":\"diamond\",\"tom_high\":\"diamond\"}\n",
    "fig = px.scatter(df, x=\"D1\",y=\"D2\",color=\"drum_type\",symbol=\"drum_type\",hover_data=[\"path\"],\n",
    "                    color_discrete_sequence= px.colors.sequential.RdBu_r,symbol_map=s_map)\n",
    "# title_text='2 Dimensional Projection of Latent Variables'\n",
    "fig.update_layout(\n",
    " autosize=False,title_text='',title=None,title_x=0.5, title_y=0.98,\n",
    "                    template=\"seaborn\",\n",
    "                    width=600,\n",
    "                    height=600, margin=dict( r=5, l=10, b=0, t=5),\n",
    "                    font_family=\"Times New Roman\",\n",
    "                    font_size=16,\n",
    "                    title_font_family=\"Times New Roman\",\n",
    "                    title_font_size=28,\n",
    "                    legend=dict(bgcolor='rgba(220,220,230,0.8)',orientation=\"v\",yanchor=\"top\",y=1,xanchor=\"right\",x=1,\n",
    "                        font = dict(size=15),title_font = dict(size=14)),\n",
    "                    legend_title_text=\"Drum Types:\",\n",
    "                )\n",
    "\n",
    "fig.update_traces(marker=dict(size=10,opacity=1,line=dict(width=1,color='rgba(30,40,40,0.8)')))\n",
    "fig.update_xaxes(showgrid=False,zeroline=False,)\n",
    "\n",
    "fig.update_yaxes(showgrid=False,zeroline=False,)\n",
    "\n",
    "g=fig\n",
    "fig.show()\n",
    "with open(\"t-SNE_2dround2.pdf\", \"wb\") as f:\n",
    "    f.write(scope.transform(fig, format=\"pdf\", width=600,height=600,  ))\n"
   ]
  },
  {
   "cell_type": "code",
   "execution_count": null,
   "metadata": {},
   "outputs": [],
   "source": [
    "\n",
    "scope = PlotlyScope()\n",
    "df=pd.read_csv(\"../feature_extraction/csvs/df_8.csv\",index_col=False)\n",
    "df[\"size\"]=24\n",
    "s_map={\"tom_mid\":\"diamond\",\"hihat_closed\":\"circle\",\"synth_noise\":\"circle-open\",\"tom_low\":\"diamond\",\"tom_high\":\"circle\",\"kick\":\"circle\"}\n",
    "def tsne3d(symboling,coloring,cam):\n",
    "    cameras= [dict(eye=dict(x=-0.3, y=1.1, z=0.1)),dict(eye=dict(x=-0.8, y=-0.8, z=0.5)),\n",
    "              dict(eye=dict(x=-0.2, y=0.6, z=-0.5)),dict(eye=dict(x=0.5, y=0.4, z=-0.9))]\n",
    "    camera_angle=cameras[cam]\n",
    "\n",
    "    fig = px.scatter_3d(df, x=\"D1\",y=\"D2\",z=\"D3\",color=coloring,symbol=symboling,hover_data=[\"path\"],\n",
    "                        color_discrete_sequence= px.colors.sequential.RdBu_r,\n",
    "                        symbol_map=s_map ,size_max=24,size=\"size\" )\n",
    "    fig.update_layout( legend=dict(bgcolor='rgba(220,220,230,0.9)',orientation=\"v\",yanchor=\"top\",y=1,xanchor=\"left\",\n",
    "                                   x=0,font = dict(size=19),title_font = dict(size=19)),\n",
    "                        legend_title_text=\"Drum Types:\",\n",
    "                        scene = dict(\n",
    "                        camera=camera_angle,aspectmode=\"auto\",\n",
    "                        xaxis = dict(\n",
    "                         backgroundcolor=\"rgb(200, 200, 230)\",\n",
    "                         gridcolor=\"white\",\n",
    "                         showbackground=True,\n",
    "                         zerolinecolor=\"white\",                            \n",
    "                        ),\n",
    "                    yaxis = dict(\n",
    "                        backgroundcolor=\"rgb(230, 200,230)\",\n",
    "                        gridcolor=\"white\",\n",
    "                        showbackground=True,\n",
    "                        zerolinecolor=\"white\"),\n",
    "                    zaxis = dict(\n",
    "                        backgroundcolor=\"rgb(230, 230,200)\",\n",
    "                        gridcolor=\"white\",\n",
    "                        showbackground=True,\n",
    "                        zerolinecolor=\"white\",),),\n",
    "                        \n",
    "                        template=\"seaborn\",\n",
    "                        width=500,height=400,  \n",
    "                        margin=dict( r=0, l=0, b=0, t=0),\n",
    "                        showlegend= cam == 0,\n",
    "                     )\n",
    "    fig.update_traces(marker=dict(opacity=1,line=dict(width=1,color='#111111')))\n",
    "    fig.update_xaxes(showgrid=False,zeroline=False,)\n",
    "    fig.update_yaxes(showgrid=False,zeroline=False,)\n",
    "    g=fig\n",
    "\n",
    "\n",
    "    name=\"3d_t-SNE_sym%s_cam%dround2.pdf\"%(symboling,cam)\n",
    "    if cam == 0:\n",
    "        w,h=1000,500\n",
    "    elif cam == 3:\n",
    "        w,h=1000,500\n",
    "    else:\n",
    "        w,h=500,500\n",
    "    with open(name, \"wb\") as f:\n",
    "        f.write(scope.transform(fig, format=\"pdf\", width=w,height=h,  ))\n",
    "    return fig\n",
    "\n",
    "for sym in [\"drum_type\",\"label\"]:\n",
    "    for cam in range(4):\n",
    "        tsne3d(sym,\"drum_type\",cam)\n",
    "\n",
    "# fig = tsne3d(\"drum_type\",\"drum_type\",0)\n",
    "\n"
   ]
  },
  {
   "cell_type": "code",
   "execution_count": null,
   "metadata": {},
   "outputs": [],
   "source": [
    "scope = PlotlyScope()\n",
    "df=pd.read_csv(\"../feature_extraction/csvs/df_8.csv\",index_col=False)\n",
    "df[\"size\"]=12\n",
    "s_map={\"tom_mid\":\"diamond\",\"hihat_closed\":\"circle\",\"synth_noise\":\"circle-open\",\"tom_low\":\"diamond\",\"tom_high\":\"circle\",\"kick\":\"circle\"}\n",
    "def tsne3d(symboling,coloring,cam):\n",
    "    cameras= [dict(eye=dict(x=-0.1, y=1.5, z=0.1)),dict(eye=dict(x=-1, y=-1, z=0.5)),\n",
    "              dict(eye=dict(x=-0.2, y=0.8, z=-0.6)),dict(eye=dict(x=0.5, y=0.4, z=-1.2))]\n",
    "    camera_angle=cameras[cam]\n",
    "\n",
    "    fig = px.scatter_3d(df, x=\"D1\",y=\"D2\",z=\"D3\",color=coloring,symbol=symboling,hover_data=[\"path\"],\n",
    "                        color_discrete_sequence= px.colors.sequential.RdBu_r,\n",
    "                        symbol_map=s_map ,size_max=12,size=\"size\" )\n",
    "    fig.update_layout( legend=dict(bgcolor='rgba(220,220,230,0.9)',orientation=\"v\",yanchor=\"top\",y=1,xanchor=\"right\",\n",
    "                                   x=1,font = dict(size=15),title_font = dict(size=14)),\n",
    "                        legend_title_text=\"Drum Types:\",\n",
    "                        scene = dict(\n",
    "                        camera=camera_angle,aspectmode=\"cube\",\n",
    "                        xaxis = dict(\n",
    "                         backgroundcolor=\"rgb(200, 200, 230)\",\n",
    "                         gridcolor=\"white\",\n",
    "                         showbackground=True,\n",
    "                         zerolinecolor=\"white\",                            \n",
    "                        ),\n",
    "                    yaxis = dict(\n",
    "                        backgroundcolor=\"rgb(230, 200,230)\",\n",
    "                        gridcolor=\"white\",\n",
    "                        showbackground=True,\n",
    "                        zerolinecolor=\"white\"),\n",
    "                    zaxis = dict(\n",
    "                        backgroundcolor=\"rgb(230, 230,200)\",\n",
    "                        gridcolor=\"white\",\n",
    "                        showbackground=True,\n",
    "                        zerolinecolor=\"white\",),),\n",
    "                        \n",
    "                        template=\"seaborn\",\n",
    "                        width=500,height=400,  \n",
    "                        margin=dict( r=0, l=0, b=0, t=0),\n",
    "                        showlegend= cam == 0,\n",
    "                     )\n",
    "    fig.update_traces(marker=dict(opacity=1,line=dict(width=1,color='#111111')))\n",
    "    g=fig\n",
    "\n",
    "\n",
    "    name=\"3d_t-SNE_sym%s_cam%dround2.pdf\"%(symboling,cam)\n",
    "    with open(name, \"wb\") as f:\n",
    "        f.write(scope.transform(fig, format=\"pdf\", width=600,height=600,  ))\n",
    "\n",
    "for sym in [\"drum_type\",\"label\"]:\n",
    "    for cam in range(4):\n",
    "        tsne3d(sym,\"drum_type\",cam)\n",
    "\n"
   ]
  }
 ],
 "metadata": {
  "kernelspec": {
   "display_name": "Python 3",
   "language": "python",
   "name": "python3"
  },
  "language_info": {
   "codemirror_mode": {
    "name": "ipython",
    "version": 3
   },
   "file_extension": ".py",
   "mimetype": "text/x-python",
   "name": "python",
   "nbconvert_exporter": "python",
   "pygments_lexer": "ipython3",
   "version": "3.7.5"
  }
 },
 "nbformat": 4,
 "nbformat_minor": 4
}
