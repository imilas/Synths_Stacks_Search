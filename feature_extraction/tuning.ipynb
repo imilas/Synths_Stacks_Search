{
 "cells": [
  {
   "cell_type": "code",
   "execution_count": 2,
   "metadata": {},
   "outputs": [
    {
     "name": "stdout",
     "output_type": "stream",
     "text": [
      "loading data base from ./drum_dbs/dk_data ./drum_dbs/dk_data.dill\n"
     ]
    }
   ],
   "source": [
    "import numpy as np\n",
    "import matplotlib.pyplot as plt\n",
    "import time\n",
    "import torch\n",
    "import torch.utils.data as data\n",
    "import torch.optim as optim\n",
    "import torch.nn as nn\n",
    "import torch.nn.functional as F\n",
    "from torch.autograd import Variable\n",
    "import pytorch_models\n",
    "import imp\n",
    "import torchaudio as ta\n",
    "import torchaudio\n",
    "import torchvision as tv\n",
    "import matplotlib.pyplot as plt\n",
    "from IPython.display import Audio\n",
    "import os, random\n",
    "import pandas as pd\n",
    "import mir_utils as miru\n",
    "from torch.utils.data import Dataset, DataLoader\n",
    "from pytorch_models import *\n",
    "import librosa\n",
    "import librosa.display\n",
    "import pytorch_models as pm\n",
    "import optuna\n",
    "\n",
    "imp.reload(miru)\n",
    "imp.reload(pytorch_models)\n",
    "SR=44100\n",
    "#functions\n",
    "spec=torchaudio.functional.spectrogram\n",
    "\n",
    "audio_frames=miru.audioFrames(loadCache=True)\n",
    "\n",
    "def getMeanLength(x):\n",
    "    gl=x.apply(lambda z: len(z[\"audio\"]),axis=1)\n",
    "    print(gl.mean()/SR,gl.mean(),x[\"label\"].iloc[0])\n",
    "    \n",
    "# audio_frames.groupby(by=[\"label_num\"]).apply(lambda x:getMeanLength(x))\n",
    "# getMeanLength(audio_frames)\n",
    "\n",
    "\n",
    "def getRandAud():\n",
    "    classes=os.listdir(\"./dk_data/\")\n",
    "    rand_class=random.choice(classes)\n",
    "#     rand_class=\"synth_noise\"\n",
    "    rand_sample=random.choice(os.listdir(\"./dk_data/%s/\"%(rand_class,)))\n",
    "    return \"./dk_data/\"+rand_class+\"/\"+rand_sample\n",
    "device = torch.device(\"cuda\" if torch.cuda.is_available() else \"cpu\")\n",
    "# list(zip(uniques,range(0,len(uniques))))\n",
    "\n",
    "audio_frames=audio_frames.loc[~audio_frames[\"label\"].isin([\"shake\",\"guitar\",\"piano\"])]        \n",
    "#split the dataframe into 2 seperate ones:\n",
    "drum_frames=audio_frames.loc[~audio_frames[\"label\"].isin([\"synth_noise\",\"guitar\",\"piano\"])]\n",
    "#split the dataframe into 2 seperate ones:\n",
    "not_drum_frames=audio_frames.loc[audio_frames[\"label\"].isin([\"synth_noise\",\"guitar\",\"piano\"])]\n"
   ]
  },
  {
   "cell_type": "code",
   "execution_count": 3,
   "metadata": {},
   "outputs": [
    {
     "name": "stderr",
     "output_type": "stream",
     "text": [
      "/home/asalimi/miniconda3/lib/python3.7/site-packages/ipykernel_launcher.py:10: SettingWithCopyWarning: \n",
      "A value is trying to be set on a copy of a slice from a DataFrame.\n",
      "Try using .loc[row_indexer,col_indexer] = value instead\n",
      "\n",
      "See the caveats in the documentation: http://pandas.pydata.org/pandas-docs/stable/user_guide/indexing.html#returning-a-view-versus-a-copy\n",
      "  # Remove the CWD from sys.path while we load stuff.\n",
      "/home/asalimi/miniconda3/lib/python3.7/site-packages/ipykernel_launcher.py:11: SettingWithCopyWarning: \n",
      "A value is trying to be set on a copy of a slice from a DataFrame.\n",
      "Try using .loc[row_indexer,col_indexer] = value instead\n",
      "\n",
      "See the caveats in the documentation: http://pandas.pydata.org/pandas-docs/stable/user_guide/indexing.html#returning-a-view-versus-a-copy\n",
      "  # This is added back by InteractiveShellApp.init_path()\n"
     ]
    },
    {
     "name": "stdout",
     "output_type": "stream",
     "text": [
      "label\n",
      "clap             115\n",
      "hihat_closed     185\n",
      "hihat_open       230\n",
      "kick             614\n",
      "rim              102\n",
      "snare            700\n",
      "synth_noise     8000\n",
      "tom_high         144\n",
      "tom_low          165\n",
      "tom_mid          122\n",
      "Name: path, dtype: int64\n"
     ]
    }
   ],
   "source": [
    "#make two label series, one for drum vs not drum classification, one for drum type classification\n",
    "#add the series to the dataframe \n",
    "# print(drum_labels,not_drum_labels)\n",
    "\n",
    "#drum only classification\n",
    "# audio_frames[\"label_num\"].isin(not_drum_labels)\n",
    "dLabels, dUniques=pd.factorize(drum_frames[\"label\"].tolist())\n",
    "ndLabels, ndUniques=pd.factorize(not_drum_frames[\"label\"].tolist())\n",
    "\n",
    "drum_frames[\"label_num\"]=dLabels\n",
    "not_drum_frames[\"label_num\"]=ndLabels+len(dUniques)\n",
    "\n",
    "allU=np.concatenate([dUniques,ndUniques])\n",
    "lmap=list(zip(allU,range(len(allU))))\n",
    "\n",
    "#get weights for each group\n",
    "# x=drum_frames.groupby([\"label\"]).agg(\"count\")[\"path\"]\n",
    "y=audio_frames.groupby([\"label\"]).agg(\"count\")[\"path\"]\n",
    "print(y)\n",
    "weights=torch.tensor([1000/w for w in y.tolist()])\n"
   ]
  },
  {
   "cell_type": "code",
   "execution_count": 4,
   "metadata": {},
   "outputs": [
    {
     "data": {
      "text/plain": [
       "{'signal': tensor([ 0.0004, -0.0012,  0.0390,  ...,  0.0000,  0.0000,  0.0000]),\n",
       " 'label': tensor(0),\n",
       " 'path': './drum_dbs/dk_data/tom_high/Roland Tr-909-TR-909Tom Hi 01.wav',\n",
       " 'drum_type': 'tom_high'}"
      ]
     },
     "execution_count": 4,
     "metadata": {},
     "output_type": "execute_result"
    }
   ],
   "source": [
    "class audioDataset(torch.utils.data.Dataset):\n",
    "    def __init__(self,audio_frame,root_dir, task=\"keep_all\",transform=None):\n",
    "        self.root_dir=root_dir\n",
    "        self.task=task\n",
    "        self.audio_frame=audio_frame\n",
    "        self.transform = transform\n",
    "        self.minLength=SR\n",
    "#         self.minLength=SR//4\n",
    "        self.frame_pruning()\n",
    "    def __len__(self):\n",
    "        return len(self.audio_frame)\n",
    "    def __getitem__(self, idx):\n",
    "        if torch.is_tensor(idx):\n",
    "            idx = idx.tolist()\n",
    "        rows=self.audio_frame.iloc[idx]\n",
    "\n",
    "        signals,labels=rows[\"audio\"].tolist()[0:SR],rows[\"label_num\"].tolist()\n",
    "        signals,labels=torch.tensor(signals),torch.tensor(labels)\n",
    "        \n",
    "        nz=np.max((self.minLength-signals.shape[0],0))\n",
    "        signals=torch.cat([signals[0:self.minLength],torch.zeros(nz)],dim=0)\n",
    "\n",
    "        sound={\"signal\":signals,\"label\":labels,\"path\":rows[\"path\"],\"drum_type\":rows[\"label\"]}\n",
    "        \n",
    "        if self.transform:\n",
    "            sound = self.transform(sound)\n",
    "\n",
    "        return sound\n",
    "    \n",
    "    def frame_pruning(self):\n",
    "        #drum vs not drum classification:\n",
    "        drum_label_numbers=range(len(dUniques))\n",
    "        if self.task==\"dvn\":\n",
    "            self.audio_frame.loc[self.audio_frame[\"label_num\"].isin(drum_label_numbers),\"label_num\"]=0\n",
    "            self.audio_frame.loc[~self.audio_frame[\"label_num\"].isin(drum_label_numbers),\"label_num\"]=1\n",
    "        #drum type classification\n",
    "        if self.task==\"dvd\":\n",
    "            self.audio_frame=self.audio_frame.loc[self.audio_frame[\"label_num\"].isin(drum_label_numbers)]\n",
    "        if self.task==\"keep_all\":\n",
    "            pass\n",
    "            \n",
    "ds=audioDataset(pd.concat([drum_frames,not_drum_frames]),\"./\",task=\"dvn\",)\n",
    "idx=np.random.randint(0,len(ds),5)\n",
    "all_frames=pd.concat([drum_frames,not_drum_frames])\n",
    "train=all_frames.sample(frac=0.80,random_state=420) #random state is a seed value\n",
    "test=all_frames.drop(train.index)\n",
    "ds[0]"
   ]
  },
  {
   "cell_type": "code",
   "execution_count": 5,
   "metadata": {},
   "outputs": [
    {
     "name": "stdout",
     "output_type": "stream",
     "text": [
      "{'signal': tensor([ 0.0000e+00, -3.0518e-05, -3.0518e-05,  ...,  0.0000e+00,\n",
      "         0.0000e+00,  0.0000e+00]), 'label': tensor(1), 'path': './drum_dbs/dk_data/synth_noise/HYJZ-3239-4.wav', 'drum_type': 'synth_noise'}\n",
      "torch.Size([1, 30, 20]) tensor([3.7909e-07, 5.0741e-07, 7.7629e-07, 1.3659e-06, 2.7968e-06, 1.9363e-05,\n",
      "        8.4242e-04, 2.3242e-03, 2.3834e-04, 2.2146e-05, 8.9346e-06, 5.1134e-06,\n",
      "        3.3995e-06, 2.4830e-06, 1.9094e-06, 1.5283e-06, 1.2478e-06, 1.0442e-06,\n",
      "        8.9443e-07, 7.8342e-07, 8.1766e-07, 2.9007e-05, 1.5309e-04, 1.0328e-04,\n",
      "        8.5892e-07, 1.5714e-06, 4.7181e-05, 1.3926e-05, 5.4379e-07, 5.0643e-07])\n"
     ]
    },
    {
     "data": {
      "text/html": [
       "\n",
       "                <audio  controls=\"controls\" autoplay=\"autoplay\">\n",
       "                    <source src=\"data:audio/wav;base64,UklGRqxYAQBXQVZFZm10IBAAAAABAAEARKwAAIhYAQACABAAZGF0YYhYAQAAAP/////////////+//7//f/8//v/+v/5//j/+P/3//b/9v/2//f/9//4//n/+v/7//7///8BAAQABgAIAAwADwAQABQAFwAYABoAHQAdAB4AIAAgACAAIAAcABsAHAAZABMADwALAAoACAD9//T/9P/w/+v/5v/Z/9L/1//V/8r/xP/A/8H/xP+//7n/vv/B/8D/w//H/9H/2f/R/9H/7P/+//r/8v/2/xIANAAvABYAHABBAF0AWwBBADsAWwB0AG4AXgBRAFcAawBnAFUAUQBIADcANgA5ADIAIAD7/+X/+/8MAO//uP+X/6//3P/I/4L/Yf95/6f/tP94/0X/bP+f/6D/kv95/3X/rP/R/7v/u//R/9j/9/8YABUAHwA0ADYAUgB4AHUAcQB9AIMAnwC1AJoAjQCiAKQAoQCgAIYAdwB+AG8AWwBSADkAIAAUAAIA9P/i/7v/qP+n/5H/gP90/1f/Tv9X/0j/Pf9B/zn/Ov9L/03/U/9j/2f/fP+X/6H/t//R/9n/+/8hACMAPQBjAGIAfQCtAKIApgDVAM8AyADvAOQAzgDqAN4AvgDQAMAAlQCXAIYAXQBXADoACwAJAO//uv+0/5//bf9m/1r/MP8r/yT/A/8F/wv/+f7+/gj/Bv8Z/yj/L/9O/2H/cf+c/7H/wf/3/w4AGABXAHIAawCnAMwAuQDnAA4B8gAOATEBDQEYATQBCAH9AA8B4QDKAM0AmAB7AHcAOQAWABQA1v+q/6r/df9I/0j/Hf/4/v/+4/7F/s/+xf66/sn+yv7U/u7+8/4N/zX/QP9n/5n/of/R/xIAEgA8AI0AigCfAPQA9AD1AD8BPwEuAWoBZAE+AWcBXwErAT0BKgHuAPAA0ACLAIgAYgAQAAYA6P+U/4P/a/8h/xD/AP/C/rb+tf6N/of+jv5//oz+mP6a/r/+1f7j/hn/Nv9M/5f/uP/H/yMATQBIAKQA3wDKABIBUwEzAWMBngFyAYkBvAGFAXwBnQFhAUUBUAEJAeEA3wCLAFgAUQD6/8X/vP9g/y//Nf/Z/qn+y/5+/kj+gP5U/iL+aP5c/jf+iv6b/oH+3P4K/wH/W/+V/53/+f8yAD4AnADUANgALQFZAVIBoAG6AZgB3QHuAaQB0wHmAYEBjAGbASgBFAEbAaAAdQB6AAIAw//D/1v/HP8a/77+jv6W/kf+Jv5D/gn+//0x/gb+E/5m/kf+X/7Z/s7+3P5s/3//iP8ZAEAAQgDMAPsA7wBlAZkBggHXAfwB2gEVAh8C6AEOAgICswHAAZwBOQE8AQYBiQCKAFUAvf+4/57/AP/t/uz+Xv5I/mD+7P3e/RT+wv26/Qb+3/3t/Uf+PP5l/tH+1/4N/4n/nP/d/1wAaACqADEBKwFWAeYB0gHNAVECOgILAm8CUQL+AUACFQKhAb8BkQEMAQYBzABGADEA7P9m/1X/F/+X/o7+W/7t/QH+4/2A/bn9w/1k/bf9+v2u/Qb+d/5J/qP+MP8a/3L/EgAPAFUA8AD8ADYBugG9AeoBVQI+Ak4CoAJuAmQClgI9AhcCOgK6AW4BlQEDAYcAqQAmAI//qP87/6D+u/5q/tb99/3U/V79h/2F/Tr9ff2W/W790/0M/v/9ev7I/tD+Zv+//8L/aQDRALoAVgHJAZcBGwKMAi0CigL/AnECjwIOA2UCLQKhAvsBgAHXATsBlADUAEkAhf+w/0n/iP6h/lf+sv3S/ab9If1b/Vj99vxK/Wr9MP2r/ez9xv1n/s/+pv5T/+3/xf9cAAsB6QBfAQoC4QEvAsoCkwKrAhwD2QLIAgYDpAJ1AowCBQK0AbIBFQG0AKEA7v+I/4b/yP5b/oD+2P1o/bX9Mv3L/FL9Av2a/Fr9VP3h/L79Fv6s/YD+Hv/K/or/TwAMAKoAhQFLAbQBfQJMAocCJgPiAvQCaAMBA98CKQOmAl0CfQLTAWwBgAG3AC8ATQCF/+T+EP9a/rL9B/54/cf8T/0J/U789vwY/XD8HP2U/Rf9wf14/iT+xf6q/3r//f/pANgAQwEYAgUCVQIJA9sC+wKIAzsDLwOLAwoD0gIRA14C7gEjAlkBtQDiABIATP+M/8/+6f1L/sn9yfxB/SX9NPys/O38Lfyr/Dr9svw3/Qn+u/02/ij/FP+N/38AgQD1ANsB1QEoAvQC2wIJA6gDXQNdA9sDVAMRA3gDywI/AogCwAH/AEkBdwBu/8H/MP8T/lf+1/2l/D39aP0f/DT8ifzs+8v8gP0B/AP87f1T/kr+kv7z/en+gQF7AQcAiADKARADCgTRApkBOwPgBIcEogObAqMCRwRVBFYCZAGCAcUBGgK8AKD+6/7O//H+8f0E/VH8cP3T/bX7EvuC/M78lfxT/Hb7kfze/jb+uvzY/Yb/hADXALX/wP90ArYDfwL+AaAC3QMMBSAEqwKGA4oEAwRvA7QCLgLAAkoCxgDBAKYAP//y/v/+AP60/Uj9+fuN/H/90Pvc+hb8evyT/Lb8c/sI/A3/Ev8X/cn9fv/VACgC1AAb//MBDwX7A4sCZwLaAl8FmwZ4A5oBggOgBF4EhgMhAUIAEQIaAlQAe/9r/pn9Yf5a/in9lPyb+/f6Yfwu/Qb8Ifvd+rP7/P1k/pj8kfwZ/mL/2gDhAI7/dwBsAswCjwMcBLACuQK/BDYF9wSFBHcCewJgBRcF7QHDAOcAmwGgAkwAufyr/dv/qP6V/F37Uvs3/WP9aPrA+Tz8Sv1z/D77Ffu5/ff/Uv7T/KL+FQFWArcBEgBZAaAEygQ5A04D8APpBKwFJAQmA6gEaQSLArwC3wK5AU4BGQC8/hUAJADR/NH7U/06/a38r/un+dH6rf04/Oz5M/uP/E/9Wv4T/WD8rv9nAd3/TgCfAdQBiANnBLICWAN8BbwEOAQ2BWcE0gOuBMYDvwJFAygCjwAPAdMATv+Z/qH9+vzY/Tr9EPu/+oX77/sl/M/6pfmm+6b9/Pw4/Ev8hv1pABIByv4s/yUCfAOoA/0C8QEeBPcGSAUhA0EENgVyBUIFtwKYAQ8E2wOnAPH/EwBd/7f/av6V+2T80P2w+6f6fPu7+vH6Efyn+oH6C/3h/Nf7q/2M/nj+ZQDXAMz/pwGbA0UDxwMSBD8D4wTpBoEFygPIA14E3gWpBfkBCQD4AVgDNgIQ/wf8Pv1fAAb///pT+Wb6Gf3M/dn5XveX+rf9Wv2T++n5wfvCAEMBif2e/Q0BewNpBHoCdwAIBO8HtAUhAysEigW6BhUGTAL8AdIF7wRyAH7/ggBIATsBKf2Z+Q39JgCR/Or4vPhV+oj9bP1C+HP3m/yt/lf9hvyv+5r9HwIKAlv/5QAHAzkD1wRHBZMDwQRZBu8EOwWPBoYEPgNkBLADuwLBApQA8P4nAKT/fv34/DX8Sfvn+3H7Efp0+qL6F/r3+o77T/st/L/87/y6/tH/cv+PANkBIAKVA3MEqQOoBPwFLAV6BVcG/gS1BI4FDQQvA9kDBQJqAD8BAAAE/nf+X/1i+078CPzX+Yf6Fvtn+Ub6nvs7+uz69Pwn/ML8Uf/n/vv+sQHeAZYBFARiBG4DjgU+BrYE9gWiBq4EQAX7BYIDIgMtBO8BjQAMAQT/+v1S/yP9Q/qC++/7r/oM+6P5v/fL+jD9w/rp+VT7KvwG/9wA6/2Q/eABjwNwAzgEDQMyA+0GUwf5BNQFKAZ2BIEFHgbLA1gD4QL5/3kAigKI/zD8Ofzo+5H8rf37+cn22/kU/Ln6YPqI+Q35yfze/n789/yB/5n/HwFgA0MCoAJZBeAEmgQDB3oGBwWiBjAGNwSIBYYFyAKUAh0Cm/9cABsBUP1R+2j8s/uB++T7A/mW90b6MPt6+ur6/vm/+Rn9UP/H/pr+g/7d//EDkwVkA3kC5gN0BsgIPgffA3sE2gYGB/UFiQNeAaACVQOrACz/s/7O/Ib84Pzp+lL62/rU+H348vqA+lD5lvqh+i37Yv6B/uP8Wf+NAXEBWwMvBLoC4QRxB9cFtQUhB8gF6wVyB/AEJAPNBH8DGgGaAQ8Am/2k/sr9o/pH+6f7//hX+Yv6wPg++fn6Zvn1+TL9uPxQ/Af/Yv+h/wwDeQPsATsE3wVhBVoHfwdgBJAFdwjiBjcFYwTwAeYCYgWNAQz98P12/rX9j/0Y+j33gvoW/O74Y/gw+bH4+vqm/H76fPvS/lD+1P4VAhYC+QGJBHwEbASzB4wH5wRmBo0HKwb8BkYGegLOApkEKwJ5AMf/gvxW/Pf+cvzP+Eb5Ifk3+Vn7fPmG9nj5EvwI+0L8cv1//OP+sgHtAJUCOwU1AxcDUwdQCCgH0gaRBAAF2gnSCIUCOQHyAo0DFgRVAD36mPu2/4X9Nfrm+Cj37fgm/JH5+vZJ+Rf6WvqE/Z/95fuU/soAxgCfA+IEgAI0BKEH6AYGBwEIswXCBW0IdgYABN0EFQPUACYCvwBF/Zf92Pz9+Qb7Y/sJ+Bf4tfkk+OP4FPtJ+Vz5DP1D/fr8CgCvACcARgPoBOgDtwVJB+kFyQawCCgHHgYWB9MFSATkBIMDqQCOAC8AiP3H/Mv8WfpP+Uz65/jM9235A/m79+T5Lftw+nL8AP4I/YP/CgMcAiICrwQBBWwGGwmtBnQEDAiACR4HNgYVBD8ClgXXBW//z/xQ/gf+d/76/L325PVZ+7v7lvhf97j1ufc8/g7+6Pj7+QD+rQAeBCgD2f4JAlYITAgWB9QGzwTNBvsKUgiCBEMFPATmAp8EVAKw/QH+2f1P+zj8rfs+9133uvlP+Iz45PmR9z/4pPya/BH8//4z/1n/nwO5BEIDxwUEB60FKgiWCZwGzwYlCK0FdQVpBq4CqQALAqT/Tv01/q/7zPiL+uv5P/ey+Nf4lvbL+Mv6C/my+mP9Wfwp/uABFwGoATcF8AQDBWcI2gc4BsUIoggkBp0HXgewA+kDUQSsAKf/HgDC/Br7Q/wV+vz3RPlz+LD2dPhL+eb3Xfl3+xH7evxd/3P/FgA8AxYE8gOABpEHcQb6BzQJUgd1B3AI5wW7BMIFLQOoAGEBT/9J/BX92fuI+Gr5kvml9qj3SfkQ9wP46Pqv+Y76U/7V/Sz+awK9AjkCBgbABlkFWwg5CbsGeghdCfkFUQZLB3kDbgJlA6n/xv0O/937W/ki+zL5lfbI+FT4Cfap+Lr52/en+hX9lfsS/oMBWQAIAtwF0AQtBd4ICgjOBpAJ/Ah2BuMHcgcMBCoECgReAEr/mv93/JT6Tvtn+WX3hvgR+Fj23PcR+ev3a/kE/LD70fwkAIsADQF4BEgFyASlB7cICQevCNcJQQdpB2IIJwXyA+sEjgEq/0kAhP1l+rT7G/r09p/4fPil9bD3O/n39gz5G/yj+mn8XAB//58A8wRsBGUEdgghCK0G2QmWCbQGpwibCJgEAAVVBQAB+f+rAN/8+/od/Gr5KvfV+Nv3w/Wz95T4K/cQ+WT72vqA/MP/7v/QAEsEEAXZBKYHwAh3B/wIAAqxB7sHpAikBR0E9gT4ATD/9P+g/U76PfsL+q/29vdq+IH1+fYq+S33o/gj/A/7RvypAEsAuABMBXkFtgSuCBsJ9QbBCWUK8Ab+B9AItwT2A9IE3ADP/r7/ify8+ez6Ofld9rb33vex9RH33fjE9yD5NPwo/BL9wgCyAdEBJwW8Bv8FOAjeCSQI3AhfCtEHwgYACC4FhwJiA+wAY/0T/m78jfhv+V75u/WH9i34yfX69vn5HvgD+cf9xv0H/h4CNAJpAsMHegibBVkIVgqeCE4KPgpNBXoFQgj2BLUBFQGu/Uf8nP7n+5n2lPaX9w/3bPjH9xP0o/VT+7n8wPtD/Kf83v9XBikH5ALPA38IuArTCysKYwVUBnwLxgmiBPUC2QDN/xkCYf8S+aP4J/kS98n4J/nN84TzdPh4+Tf6lvu6+Ef6AQMwBTAB/gEcBc8H1wvACmwFSweZDNoK3Aa9BU0E9wOQBGUAmPu8/D39IvlD98H3b/Zw9lX3XfXo9W/6jvqG+On7o/+LAN4CZAM1AisHUQz8CDMG9ghZChALNQuHBZgB+QVWB1sBPf26+736qfzo+171PPNf9zv4ZPa49rD2c/ea+139HPzh/swCkAK/A5EHIgglCCkKUwl4CGYLlArqBeQFegYmA/4BAAE6/CP7kPzA+FP2RPgg9hD0a/ea97P17fiF+q/5P/5WAb3+OAEUBzYHyAZ1CAwIIwr9DRcKWAQUB6EKuAcMA97++fx2AGwBfvmv88D2evkC+EP28vO286n4Kfu7+Gf6if5E/qH/sAQSBh8GAAghB/sHvw0bDW4GiAbVCWIIPgY1A3z+Xf+mAdr7cfaz+LH5vPYg9QH0v/R5+Rj6JPVf9vX9IQEkAPH/lQDcBFkLqwqjBXIHHwzeC4YKIgmqBVkFNgfJA1j/HP8z/bP5Bfqc+d717vQb9nj1OPbD92T2VvfU/KP+nPyp/lYDHgbnBxkH/QRECaMPuAw0BlMGOgmeCkcJowFT+97/9wPA/Sz3S/Uj9fL4BPsm9NfvW/Xu+br6tvuY+d74xQBjBzAF/gKxBJcHxAz6DuAI5QT3CVgNdwmxBJYB+QBvA14BKfnT9hv7APrO9K7z0fSU9o346fWM8z762gDc/Rz7zv/hBVMJdwgQBLQFug6tELsIpAQFCDMLcAqaBDP9g/3KAjIAKviP9Xj25fYN+DP2GvI69O34jfgd+Xr8f/wW/tED2ATjA/cH9gm5CDcLCAzaCEAK9AvtBt0DPwVKA10A3P46+mX3gPrx+Rr0zfIv9eP1KvfG99X1KviL/p//JP6aAT8FSQbTCM8JNgjTCu8NgQrAB3YJYgiNBbMEXQFY/cz97Pxp+Db3Zvc99HHzb/a79pz1ivYd95/5DwDxAef9Lv9ZBoUKIQtmCQEGqggrEAwP8gaGBDkGaAbhBYgBZ/rC+bn88Pnw9aT1XPRJ88v15PYA9g74BPrz+aT96wIOA7ACGQZrCNAJjwyfC6AIrApxDMsItQZ4Br0CPQBZANH8SPnP+cL30fOq9AD2jvRs9cb2jPXl96v9MP+Z/tsAGwPABeIKTAxXCJYHeQvNDVIN/AnzA9MB/QUWB3UAL/mk9kL4evty+u3yNe7w8jX5wPly9471+vZ4/t8EKAMTAWQEnQd8ChoObAxACKEJrws7CrkJLAd3AJ7+fAGi/9D6ifcf9PXzPfjE9y7ylfGk9aD4jfvc/Kr6bPzoA7sHMQflB9oHZgjyDXMQlgqQBu0Hcgh1CF4GO/4/+VT92/4t+X30f/K68vb2XPhW8zvy9/eN+5L84f7F/+gAAwY2CWIIQgqaDIkKagoyDUYLtgcZB1QEGgHyAaL/HPml95X44PW09Eb19PLx8tj2fvc59xn7m/3K/aUBzwUYBpYHlgqxCi8LcQ0oDFgJxgkmCUMFCAMHAvf+DPz2+eb2xvVE9331JPHX8ZH2p/g3+Lf3o/iX/gAGRgXnAGUEsAtyDrANBArGBl4LcBCZCnsClAEzAqsBSwDT+aTzwPVn+HD1gvNt8zjytvT5+Z765vkD/d//KwIJB38JxQfiCIAM8wxLDGoMTQrBB0IHMAWOAXwAEf/G+dj1bfYO9wH2SvQn8ZLwvvY0/BX6SPdE+mAAhAYoCcoFyAO5CRcQdA/ECxAJ5we3CfQKGwa4//b9Jf3w+h763/fz8vjxXPRJ9Nv0+/ad9e71ffx5AD8A1gI2BckFYQonDqALrwrYDH8LFArMCj8HNgKkASsAAvyw+ib5XfQC8yD1SPQp87709PSg9Zf6TP4A/nT/YQOhBhQKAAy0CQ4J9g16EPcL/QbXBcQGgweLA0z6M/ZH+1/9YPZh7x7vMPSR+QH4H/Hk8XX8YANlAZT+hgArB5QO2w6ICHoHyw15EH8MxweTBOwDNAUfAr/60Pcr+Yn3K/QI86PyLPNS9Xn1+fRB+Vf+gv4E/6IDdwdpCTEL5ArLCicOBA+LCikIEQk7B08DJgDE/OH64/pr9/bxTfKU9Yr0gvJ782T1KvnD/Y39E/0xA0kI6wegCVwMowu9DJMObQuNCbUKogaJAQMCTwC5+p34Lvfk8yz06PTG8drx1PUk9nj2q/ve/qP+fwHpBaUIqwtWDIMJCQueELcP2QhdBSgG7AYEBTL+k/bS9oL7KfmN8b3uXPFJ9VX47vZd88z2zf88BLkDcwN4BPMIFhAkEQ0LMQhYC98NwQyeB+b/GP3XAJcAE/lq86LyMvPr9H71V/Iz8Vf1Mvmp+1f/1wAnAOoDvQqEDdYMqAshCq0LKxDQDucGNQItAtcBEgHK/b31qPCb8yz3TvYN8+vuAu/094gAfv4Z+Tz7kQM4DJQPLAqVBLwJohLfEpMMYQbQAs4EhQgmBPP5nfQ49XD34/gd9Vjtyuxi9SH7h/kD97X3u/2EB+0KdwXvAzQLfBGBET4N0wehBwcN1Qx8A6j7S/vU/YH9b/d371DuTfQI+Mb0IvCb8S/54v8fARr/ZP/IBdUN+Q4WC1wKjAxoDk8PtgvCBKIC6gMnAbH8cfke9Q7zC/U89OnwvPEK9Lz08Pex+zX8GP8ZBeMG2QaiCuQNZg7nDsMM9AinCrsNnwiZ/2r7Bvxw/oj98PMz6jzucfml+gHyFuyI8DD+OwhEAtb3S/2VDSYVnQ+OBh8F2g7qFq8PkAL7/5wEMwVwAA75A/OI8472R/Tu8PTxmfKL8hT3W/xX/QL+1gCnBE0KZA4/DIYJlgy6EBQQdwsvBrYDqwRRBOD+Mfdb8zn1hfcj9ePv7OyN8IT5Xf2L97z0hf2dCFkMZwgqA5MHVBQ1F/sLTQQBCMANNw3fAy34Y/f+/tf9avOx7S3vC/Pf9on1avDQ8k/8XQFhAd8BVAMrCPAPDRHvCqkJ0g69ENsMfgYAAV4BjwQ4/yD0mvE+9nb2VfI37xvv6PN3+eP4vfd2/YUDrgSjBhoLrg2NDYIM5wzKD/8PVwlCAkwCmgWZAoH4l/HH89f3Dfb37zXsePD7+IP6Yfac+GoAOAVaB5oINgn5DA8RyQ7CC6UNJg0aCB0F/gIU/9D8EPpS9H7yqvRo8hbvkfGX9EP16Pfs+gn9KwL7BgoHeAjCDfUPMQ5JDWkNLA1/C5oGYAFVAFsAp/ss9DTxOfTv9cjxZu0673v2tvxB+6f2DPwaCZsNZggCBvwK/RKbFScNaQSFCE4PcQlT/Tj44/p4/Vj4Ou7m65Tzvvdg8hfusfNQ/a4AXP73/rsFYQ3XDskKDguREU0S8wp5B6EJ7QhHAz/7R/bT+eb84fOh6b3sp/Va+Or0JvA58t/+gQjABBYAEgXmDAgSNhPIDVUIRwt0D1cMzgVj/1n66fo2/Rr4aO867R7xoPRN9IDxXPKI+RsAbQCW/9oEYw2tDzQL+QlxDxMUQBGzB6kAxAShCgoDzPQX8J30Mflv9wzu9een78P6yPuy95733fzbBcwMLQz7CGwK/g4vEuIRhA1gBzQEbgWYBZ3/evdS89jyTvQf9fPwauzs75b2Mvkh+2b9VP4DA9IKqQ34DJQNdw3yDQQRBhDKCB8DLQISAnr/KvlF8pjwpPNv9Djwbe238fj3svn4+RX9kgLfCFcLqwiCCssSWhQjDQkJngpIDPoJ3gCa9wv5Av5n+M3tmOtj8RX2BPQf76nxZvxBA3YAB/6TBXEQ9hHxC/0JvQ6ZE4YRlwdiAKIDHgZf/rL1AfNw8vHyDfPk79juvfI39QH3E/0iAhoC/wJbCBEPrRIQEO8KRQtmEF8R4wmu/yD80/9RADr4N+//7DHxy/WM81jtVO8u+eH+Ev+l/ysC3gjLEB4Q8gpBDQ8SthDXDAAIWQL7AUgDq/y/82DxOvIF8zfzv++U7GfxJvr2/fj82fysAYoK9hDFD6gKuwqcEQMVjw6vBeYBrwJRBMj/2/Oa7dPyp/aI8pbta+w68cb6j/5b+gX7JAQWDKMOjw2WC2oNMBKnEmINfgdDBFYDsQHc/MP2bPLs8PTxLfJ178Lu//JM9875tvyu/2EEDguUDA4K0A0vFMQSRw2nCcEHLQmYCBP+CfTz9V353PTk7kjsxO2i8xP3+vRd9sb9HQMdBUYIXwwUD5QP8A6sD68Q7Q0vCNcDNQLEANb7Y/Q88QrzWfLP7mTu6/Bz9I74Dvpn+6sCaQkWCSAKjA9dEV0QCxB2DUQLMgu6BWf9gvxz/TD3wu/E7fbvtfOV8zruFO5k+H8CRQNH/4UAPgo4FKsUzw2yCeIMgBJgEUAHtv0C/IP9nPzM91DvJ+pO7u7z8PPy8gDzn/QQ/f8G6AfVBQ4JTQ1JET8VKRKlClsJ/gogCKUDav4f9zPz9vOZ81TxJ+8L7RvuxfQs/HX+XfzK/FYF1hA4FEgOwAipC7UUlxdgDDb+xPwVBKcEJfp87cbpKvHu9zjz6urP7JL28P2xAL4AcQHfB+wP9hBfDw0RLhClDLoMmgtYBVEAU/zB9m71QPby8ITrgu1Q8ZjzKvY39yH5eQDdB54J3gm/DPcQYRNcESENoQvBC64I0AG4+vn3PPnG9o7uP+pR7ozzl/TY8p/yBPnCA6AIOgaYBskMdxKPFJISpAxICc4LdQtABP78g/fD85f1lPbS7rzoOO3W8yf3pvh397r5AAWtDcwL7AnoDRoSzhPVEREMXggfCCMF1P6/+X/2l/Oc8Gfu0u6V8N7w3PEX9lP7FgAfBE4GQAkKD3ES8RDQDy0QWg4hC+UHAQPe/a/6DPdr8kzwDvCY7vDtrPBH9BD32/o5/9gCvQcKDYsO3g7FEVwSQg/lDdQL5AUFAqn/bPnC9CP0hvDf7PruhfD776nzVfim+qj/yAVJCBcLig81ER0RdREmEDINCQoZBsIBfP3i+AD1EvJl73buE+8l77PwG/Xa+PX7LgEQBgAJ2AxzEAMRGxHFEbUP0QsfCagFHAB7+yf4DfSc8G7vk+7W7aXvEPOy9Q/5Vv4FA5IG2AqfDjUQXBFVEr0Q1w3gCz8IbAKC/kT7q/X48SbxXO7I7NrvcfH98Xr30PzS/h0EVArVC1EOoRIaEjEQuRALDroIyQUBAvn78ff19P3wqO5P7k/uZu/Y8S71dvnB/Q8CFgcSC60NvxB8EnURmhCED3MLAgfYA+v+SfkT9gbzJO/g7aTup+4C8BP05fdH+28AsAUcCZsMaxDhEY8RmhFfEKcM4whyBWYAG/t99+Pz9u9B7lvuMO4+78Xyfvbm+dj+MwT5B5sLqg+hEaMR8REnEbYNAArABtEBWfyS+L30ePC57ozufO2A7ofyRfUh+Gf+YAP2BWMLDBD5D3kR4RO3EEMNnAyoBwABiv5A+n3zafF58PLs7+zq7+7wjvMn+U79LQHHBjcLDA7CEFkSeBJwEesO0QsZCO0CIP4n+in1IvG77w7usOyt7njxbfPF93r9VAGcBUALkQ4HEF8SQxMhEecOqQwNCMICyP4v+s30fPHC75Xtyuy+7gzxbvP09z/9WgHrBTwLnQ5aEHESOhNQEegOdAz8B6ACbP7t+Zz0JPGC74Ttrey07kLxqvMz+LP91QFNBrQLEA+WEJ8SWhMqEZ8OIgx0B/oB1/1J+fPzrfAp70HtsOzt7pfxOvTw+Hb+qwIrB24Mqg8OEdISTBPqEBgOYAuVBvoAxPxJ+A7z7u+x7hHtwexS70nyIfUJ+rH/5gNWCHoNeRCREQUTIxNjEEENRQpDBY3/V/vx9uXxD+8p7uzsBu3971DzdPaR+1MBhQXUCbwOZhEWEhcTwBKNDwYMugiDA7X9ivlR9Y7wG+6u7fPsj+0F8cT0OfiL/WADfAeSCyMQWBJ+EvASCBJODlYKtwZNAXT7aPd38yDvNO1g7UPtfO6C8rb2ffr6/88FvAl6DZARLROpEmwS3hCNDB4IMgSm/tn4DfWI8b/tfuxm7QTu7e+M9Db5RP3XAo8IKQxoD9oSuRNpEmQRHw80ClQFKgGW+/n1lvKp75rsK+zt7V3vAvI590v8iAAQBoALmw4rEc8TyROQEbIPsAwxB/UBrf05+PzyNvAS7ujrbuwl73Xx0/SU+vH/NQSBCXYO2hCJEjIUJRPuDzANewmBAw/+2vm/9B7wLO4D7ejrgu098Wj0bfiV/g4EIAjxDCsRnRI4E78TlRFZDcgJfgU1/8X55PVo8aftx+zJ7N7sm+9V9EX4x/wfA3EIBgwUEE0TkhPsEjgS6g67CXoFzwB7+ln1HvKR7vXrW+yu7QXv3/J7+P78vAHzB8gMjA+GEnoUYRNeEWkPDQsUBWMAp/uh9S3x9e6l7GnrQO3174PyVveZ/WAC/AavDKMQOxLUE04UuBFWDjwLBgaR/836afYg8cPt5ewU7GbsvO/D81v33vxpAwgIDgzMEHoTkROPE3ESYg7GCcgFFACQ+TP1pPGN7ajrbOxI7TPv8PMP+Vj9HANxCWQNVRCsE7gUERNbEbAOWAnTA1//rvmo8z/wCO6N62zr/e2K8OjzwfmM/wQEdwkAD7cRGBOpFNgTYBAMDRgJ4wL0/IH4ePPh7ubs4+up6yHuk/E59Q/7/QCFBT4LDxC8EQoUcBUzEkcPTQ3CBhwA7vza9jPwFe9b7ebpSux08Jzxe/Y4/jsCxQbZDS0RKBLEFOgUfBF7DtoK4AT1/uH5rPQR8A7t1+vY68Ls3e/U9Gj5eP4cBXoKBw4hEtQUGxQAE7URGw1EB94CW/2g9j3yWu/v67Pqn+yW7hLxkva6/GYB6AYPDawQtBL1FOwU4hHgDm8LVgX1/kH6EvWy7wDtB+wb62PsdvCB9LL4D/+JBQEKZw7aEo8UOxTTE2ERQwyBB+ACYfwu9rvxAu5h7FnsOutX7HXyDfka/mICGQXqCjMVjhiFEjAP1RCBEUMPkAUA9y7zCPln9pfry+U+51buO/eE+KH11vssCEQPkhHjEt4S7hJ0E6AR8QxlBn/+u/dt9DDzMPAe6m3m5eod81D3sfgp/KwCYAu+EgQUHRIoE40UrxEHDUEIOwHk+Yz1QPJY7tLroOoz6qHt0fQz+gz9/QH7CM4OaRMKFpsU4xH7EAsP+wkoA/H6RfR58vfwW+xP6ZLpsuxZ9Pj64vtM/zYIKg8RFBUX+xLuDtMSrBPiCikBc/lO9KP1G/Xq6oDjaOgh8bj2DfnL+Er8HQjeE4wWkxItD8YQkBWyFRUMrv1h9fX3tvsg9PDlKOH06av1FfnL83nyf/90EEAUTw73DfQUJhkIFSkMJQYaBfYAXvUG7avvf/Kc65jjb+eM9hQC3P0J9pgAAhc6H1AUQghvC9MayB3zB3/zsvZDAKH79exg4QnkJfIH9+DujO+u/UAIFgvuDM8P6xQyGaIVWQ7yC50KDwRQ+6j0MPAg7Wjrb+tr7FftifDn93oADQe7CkAM+Q+CF8kavhT2DMkJSgicBL38OPJV7OLsJu2765nr2uwi8rH7TQKOBZIKFQ8QEwMZuRgNEAEMcw1xCaYAGPcp7oztxvKY7rTkTubB8Qf7B/89/2YBBAzDF9EYORNCEYcSBREFC3kDIv0Q9z7wgeuQ6xbub+2G6ZjrIvg0BbkISQXoBe4RcB8EHQ4PogjmCw4OSAg7+cbrGe3t8iPupedJ6cPtFPSA/PsAsATDDLMR7hG0FW8ZIxVkDTkIsAT9ALH6PfFY6vTpTezn7HTs8u6p9Vn9EwRVCh8PCxIdFI4VtxYMFQcNEASMAMr9nvc+8PPoteaS7Ofv/eyH8OP6PwHrBYoMDBFMFW0YvRP6DpUSqBH2A+f2BPQl9vf0tetC4f3jUfLJ+n73GPWc/oQOwBYEFGAQ0hIyF7kVMg2YBMz/nfrZ89/u8+ur6k3qcuk27cv31v7Z/9cEUw1MEx4YdhhOEtgPLhFOCy0CovwQ9WLt4exp7TLqSuka7H/xZfsOBGQFBgecD3UYXBrFFZMPrA1mDrEIaPyI8wjxge9c7Lzojedx7Hj0j/hX+7QDGQ32EA4T0hU9FnAVOROdCzQD0v9P+4zy2OzF6kPoMOmT7jDyiPRh+sMCoAvyEhAUFBEzE48ZeBjIDD4Ayvss/k38wO6E4VDktO9I82/vGe5s9kQHixEqDSILUhUzHP8XARGcCsAGjgUn/Rnvd+us7+fs/ubz513uOfcA/0QB8wN4DQQWjxcvF6gVwhC3DMwJvQNr/Cb0Feq+5+nu1O9q6BLo3fHS/p0JCAqoBJIMgx31H0sUXQu0CUoM8QrM+9bpBOmG8kjyGOiX4XTo1fqWB4cCoPt7BnEaRyOnGjcKrQXYEs8YEQa57nPoXe+Y9jvyo+I53uzuY/49AOQATwURC0YUERs/GXkVtRHECXwEJQXs/wLykOeE5m/rG/Do7c3p2fBJ/2wH3ApwD1kS9xSXGPgWCRKgDv8FQPoA+E747O7L5e7lr+kX7/nzKPQD+aoHjhBzDg4QTxgQHCMXKw3DBbEGSQal+O/oN+ds7SHvU+s65wzs2vvUBsEF0weKEUsXhBhYGFITEw6WC28DM/mZ9gjzi+mk5Wnou+sE8bX0HfaO/3sMZBDSEQgWsxatFiAWWQ2mBOwC6vuh8FXtjOsv527poe3g7d3zkv6ZBPcKzBJjE3wSVxh6G2QUogiC/tX7kv8a+innKdw15d7zY/h28ALpbfb7EtMdUhBoBqUOnh7rJBcUN/lm9HwD4ASD8f7eS9xg6tX5MfYq6SrvmAYmFrsU2QznDHoZHyJWFoQDv/72AosAEPS45M7gfezl8znskugl9AMD1Ax0DykM8g9tHBoe5RLHCwYJfQMh/Wb0oeti6/fruOXg5YHwfPl9/rgAVQK/DnUf5R2uEFsNaxGhEwQPrfwG6tjrIfV38ZPniOFO5Jv0RwRXBDEBgwZlEPgclSK6Fl4JdAkODB0JyP9g7TnhZOmt8rXtwuc66WPxvgFPDmUMYgp0Es0ZVBssGV8QTAXMANb+EvlM8Sbol+GO5vrwz/KY8Kn1CQFoDuQWShMRD1QX3R1SFTwJBwIP/bD69fQU6Nji1elX7Wrst/DR978AUQtFD6gQ8hf+GtUV7hJAD5sGrAAA+h7viut37PLmaeU77WryxPa+/yoGVgy5Ff0XUBV4F68Waw8rCfIAg/dw9NjvtuYQ5ovqhOqZ7u/32v15BZEOLRAoE3scqBy6EpsL3Qf8BVgCIvNX4+jlou9Z70jp6OVv7scEpxFuCXkFfRIxHxYhYxdNB5YCTQnDBEb0t+ho5LXmIO4076rrB/DV+ZMFKxPoFRAOjxBVHIQe2RRJBSz5xfwRAiPy1d2O35vtTvTH78LpBPUmDm8WdwuaCgEZLiPhHDAJ9P0XCNkL9PS73xzjq+8Y88DpjODd7d0I0w9OBU4GTRXaIUMgmBCWBsAM0Awd/BHuteor6yjsEeii4+vtovym/XP+jQtUF+QZrxamEaAU2ho1D8L4iPFq94X46O3M3BraTe/0/275TfLw+wgPnB9PHwUQKwyPFy8Z5Axe/5fzU+4C8OrsBOdk55fo5Ovp+D8FSQl4DEIPRhPhHQkhThMYB8EEwQE//bf1KOfo31bnwu3T7qnx2fSi/NgLwhS6FJgWzRf5Fa4V5g/lA8f9dPiX7Djnb+ot6ifp9+px7aL5jQwOEUUKlwxBGJsiDSGbDfb7awCwCLj+gerD20Ley/Af+crs3+er95EKPRYBGJsQ2g+rGS0cjBS6Cmf8vvDj8X70me4I5QvdcOIj+U0HpP+c+hEHChodJhwfgAvyB1sUNhL8/ljvr+ni6wnuuuZ24oftNfj/+XD/jAovFcwb8xeIELYUqBrLEK7+RPM98QPz8+5c5PPfgOdq88P7xP6NAmMMwRVtGR8bdRnLEkINSQj7/3v4avF86NfkGOcM6XLtAvQ6+AgA2QvZEqUXXRvhFlISrRR0EG0DTvnH8Inqb+yB67Xj7uRz73D4iAFcCFEKthGLG4sbLxiTFQ8NagWnAb/38u3w6wXn8OFq6Gzwg/N8+ucBfweoE1Qd4xkWFToUchHfDskH8fZ06xfsCexS6czn0OUA64z6QwYGCckL5hGaGWoeTBoZEekKrgbf/yr10Ore6GvrAudH4mvqzflFBMYFpQOGDEMgeSa3F3MJ8QiED2ENf/iZ4mXjEO/U7sHmu+Tr7Tn+qAjICQ4OuxcfHBQZuhSmEkMPbQNJ9PjuO/Cb7FTlHuHd5bn06f8j/0oBZA7PGrweuxlfEd0QAxP2CBn5q+9z66vrqOsR5MLhG+/L+zcACAbyC8IRWhzaH+IWyxCLDiUHfv+J9y3sLOep58/kF+cH8WH23fnnAuMMDheTHuQZzBDhEVQWQxAK/27tvehF7zfwz+Zn38fkbfbvBf0GEQUxDiwa8h6tHH8UuQxECS4CnfdK8TXrK+S846/nyuwu9Vj7J/8RCqUWCRr5GJAYkxaDEr8Kwv+x92/ykesL5Zriruao76v02fW9/l4NghauGcQYtBWRFikW9AvV/9D3v+856kTotOXv5jjsEe819tEFzhCJEh4T5BVqG+we1RUmBND5xvlT+Y/vyOCk3DXnafJI9m33CPwvCcUYhBzGF/cW2BZ/EjMMPgIj9yTwOOkl5J/nJut+6WvtOflMBioR1RPlEFIWtyCQHkwPCAHi/H/++vdB57bczOHS7efzh/AJ8QcCiBVIGagUgBTpGHIcsRWqBLD5EfgI82HqSOTK4eHmHvBm9N/5/AUmD6oTCRmpG/oZuBaQD74F2P0u9mHuaOlu5XLiz+Va7zT5EADgA8UItBRHImEiehQsCqcLFQ5BBn7zZ+Di3drrivOU69/kP+yR/8UUfxsSEjYN1hW1H/EfoBBW+LvtrPRi91rtLOA12qjkg/ntA2cBSwKzDHMauSLnHgIUfAyECEoD7vvd8ejmt+H543Hole3I9I/7uAE6C7EVzBt6HhocVBFMCJgJUgiR+QDnVt1a4mbwd/PO57zmL/uUEiAcYBX/C9QTxCMEIMwKffrK9Qz3+fNW5vjbqeJ577X0FPa1/EILiRlvG6MUqxTaG/oazAt3+NHuKfJg9SbqwtlG20TvBwDBAkP/8QFyElcm2ybmFOAImwrgDfQHqfQJ4NHeVetP79zpSOdX76ADlRQ5E9AOXBewIBQeMhKtBNH+v/7e9RzltN0d5I7tsfBx7p7yTgTyFlAbmxVWExoY4ByXFzwF6vKP79vzuO6E4l7d8uOn8q3/NAHdAAwOhh4vIfYZnxKID0IQtAjv9K3nieh56r7op+U25LnugAIKDVYN3w8GFhsdVCFLGpQKrP78+dz33PJR50rcSd6w65X3WPwi/p0DiRDMHpUiGBtxEoYNBArOBNv6Me1/4g/g5OXl7ULwLvAJ+DkHJxWQHN8akBWyFooYxA8AA7r5du/L5jflZua56Prry+z/8+oHchdvFwsT2xN7Gy0irRZT/fzwhPXg9onsIt6l2drm0fgj/23+RwOkDzMdCiNxHX0TqAwrCFwDP/yR7+XgVdxv5X7wDfNm8Jn0AQY8GhkhAxpmEkoTTRgHFeoEg/Kl6CbnNull6i/owOWx6kX73w85GUoU6A5PFAchLiViEhP1hesB90v7f+ys2AvUn+hYA/EGS/sF/ncSoCZ1KZYXWAfnChoQdQRp8Ubj6N9v503s1+j46g736AOwDqkWuRmUGjEaBxeYEuMKwPw/70vqsuni5nHjXuST7D/62AVgC24QSBiwHUYd1hjXEWQIxvyO8kvu4OtW5HPdceID8nr/bwIKAssL4h0gJ2QeBg8lCooO7wll9kfkWeH055rq/OYF6AT0OwP5DNcRxBbXHKMegBj3DyoKIwPJ9urpduT65dLmKuaJ6tb0LwGUDPgSABYWHJMfnRgNEHcLTAIK9T7rTOXf5BTogOYO56X0wQRaDWwSJxWwGOwf6h6GEcUFfv6w9b3u6+l54wPgqONn7VH7tgWiB+MKXxcBJEEkUBcxCFsDXQY6AOLrKdu03BDpBPEl8Hjv+vkJDVEbYh5MGvAVYhUJFRMOZgDs8FnlGuM/6DvrEeiu5mjxNwYPFgoY4xP2FFwcGiBeFoMDSPXN8HXvNeqC4hDgyeXX77X7fgcqD5gSeBbtHEshAxztDCL+Evhd92TxJuMx2ePfVvAO+vr5y/yXC00d1CL8G34UuBLXEQwJSvhy6jHmpObW5bTkOugj8mn+lgnLEhUY0BmSG6scEBjSC9X8GPMR8Mrs5ORX3Y/fR+6M/joEvQOkCs0a2CaNIjAT2giNCHUH1/q05pnbwOFq7BztHek48KoEBhbLF2gTxxeDIYAg+Q5p+6L2xfrB89rfjNSN4Pn1oPxc9c/3UQ29I7QmuhhxDisSdhZxCyT1FeUV5NDo3eeQ5PXnuvLu/54LYBQZGi0cPRv/GGkUrAuC/2Tyu+hL5QXl/eTx5ufsqva5AjsPkhkVHUEZRhatGA4Y2Qq69E3l0OZj7yDtY9+/2e/rPQr/FywOmgUCEx4qhy37FGT5QvQI/w3/6+mt03TVduvT+377g/g4AocVDiMRIy0byRLTDHsImQGQ9TXnHt0L3tHo5fEZ8gDy1/5DFmck7x0LEnkTWhxBGMgBHOuE5rHtCe1D4Srb4+f7/XUJowj+C64Z4iSyIbYUPQsKCJcBYfPT5HHfI+S66dbpbuto9zcK+RcgGqEWlhcIHXwdVRG/+z3rVOo78KnsAd9P2GbmdwAmENQNOAgjEC0jViwrHt0FFvmf+nX7d/Al4MTYzt6C7F760QIvBmIKtxOIIE8oNiFzDbD8sfodAG75SOLS0AjZKfGn/4D7DPb0AmEctyp2I6UT7wz5DqQKLvvr627kW+H/3xHkte9++8r/rgLeDhwh1ym6H4ENsAbvC4kJP/X03XjYiOS87nnt9uvc9TIIihf5HEMclRsAGh0UkQo0ABH20eqs4LPeTuUe7JzvMPWVAX0ROhw3HvMbdxlKFqMPqAPg9czrl+XA4cLhfOYl7nb2v//5CzYYXR4hHiYbzxabEAIHBfqk7bXlpOLD4rDkGupS9Mj/4QnOE1Ec6h+jHZMXrxD5CCH+KvEf5sTgeuIH59LpfO58+tYK6hZKGs0Z5Bu/HfAXbwkL+X3vZO2e6aXgGtyl5DP1JgFCBQMLVRdRIgojkBmYD+kLDQUe9F3m8OOQ5LnkR+W96Kr4Hg7pE3gQNRfQIVQjtBleB4T5rvf18hbmod443zXkNu9G+5AE4Q61FgIZox3+IiccCAqb+r70YfPD7DffM9gv4ljz5P1cAhkILBMYIFMkIR0/FFwNkwOt9+rt5eYA4nrfQuLn7Hf6awSDCzgTHhyQIqMgeRYnC5wCb/rB7+Hkqt/y4BrlNuwl9+gCMQ2rFfobxB87H60Yzw33AdH3mu835wngCN/S5KvtRve8AfUMuBbzHKkfAh7GF+wOQwOI9vftZ+dO4KrfieXs6+j2/QQBDYkU4x7NIBgcNBi9DlQB9/fm7ffjdOF64Wjjj+1T+ScC5A2vGCYdvB+gHr8VxQuZAzr4n+sq41zfH+E76NPv0vbjAB0OkBvgIxkg2hRKEPsRNQvw9qfgStkB5fvwueuL4U/rAAoKIwAh8hD3D60flCVGEvD0uOYr6+Pu6OVt23/fOfFjAQ0JIRCuGWgfRx90Gh8TgwyuAEftm+Jo5d3l/+L45bjtSPxPDwIYPhgxHIkeAxuYFVgJxvdz7NLmd+NG5P7j/OPU8I8F/xCPE7EX5B4qI7scHAzh/jT7pfS+5NDY+tyV6+f0H/Mi9lcMBiUJJ/4X/g9UFsQaNgsP7ifdJ+II7EXqeeFI4w32rwwSGjwcmBd/FgMdax7xEYv8aOb23qTrr/HS4e3WNObXBEYcNxpfCncPSycMLfMWXPp67CDyH/YT5nvVPdtB7WH7FQR4CiQTBx4TInkdGhh2EdwDYPNC6ALlE+ZG5P7f5+Xn+b8NRRasFQoVQR3FJiUeIwYF9LDuAfCt7creaNNL4hL8+wa/B/kKpxV+Js0q/hhJB8MCEP8x9Z3mmNku2yXoCPD/9D4A9AxOF/0fbCLdHaMWNwxs/5f19+215CXd5NxB5Wvz7v9UBu0McRjJIp0lVR6WDl0BnPzf9lDrNt9n1z7dWvGh/kT+JgNwEhQioCr+IbMN4QXiCFcAjezn29vXYuPE77XvCPLRAlMVRx8FIZMc7BjlFlgMjfo97o3o1eJC3u/fW+kf900ChwleE4sfoiTSHwEWfAs2A3n6l+xk4KLdNeB15lbxk/qQA7cReRw6INciLB1HDvkFpQEj9Bjk9trV24Xo9/LH8FD1UQyxIjsnaxtwD80UeB67DcXpBNi14u/wSey925DcIPtvG7Ue3RBeEekgwSdmGg8BbO6L7cfu7uJX2uHhnez89YwDuxASGyUhLB05GGIajhNv/XzqmuS35q3n1t++2wfvbgvkExcNZxCtIncvFiIMAhzxX/wFA7nptMqHzZvt0wafAnXxPfx4Jlc8ZyQCBmYDwxBiEIzzj9LL0pfpWPEH6j3r2Py9FZ8isRxOGLceHB2sDE/72e+t6FrkGuBl3gTmxPOy//ELhRniHgkcfBxvHUYUmAPW8F/imuNT69rkZdtx5Wv9fBO/HDEWsRJ7H4Mn7RkLAkzuu+ds7K7pQNwp2lPqdv1mCnERJhYbHhkltx84EbUG9/7V8SbkWN0o3Y7kmO/K9IH7IQ6dHvMh9CCGHNASswt4A8rzM+ZK3iralOH076z2RfpsBQ0XzCfRKbwZ+gvpCwUMAP9M5ZrRAdmx7c7y7ey98LMDGR74KwwizRMcEp4TTA0V/Jjk5Nf+3LXm4uyn8OHzq/9bFx4pjCYfGZ8QqhC1D18AleXi1iPfHup26DrngfPXCJcbZR8uGE0bDCWXGi8AAPCj7VrtVuXR1p/XnvBBBh8I+AcPFBwmwyxlHZ0InwK5AdT1f+Kw1Urbsuvq8S3yAf+aEsMfnCTuH8kXyBP2C/38pe/N42Haftzr5jrwpvdV/t0J4x4sLfgjbxGXCxkPZwmW8mjYtdJH5GPyWO3x6ZP7thUIJZYkkhrFFa0Y/A8I+lHse+ee38rapt9Z7L/9xQfnB34RFCY9LpwhCQwU/Yv8aPzJ7I3Y6dF43S/0kwPRA+EFLhMlI5gt2yZGDa/5Xvms+oHvpNs+z9Pbz/a3A+EBHQY5FwcpGipJGvAMzwcE/9/vAuHn2oTh7ueu5zDyoQleGaEcEByKHAsg8xu+BhnxHOot6MbiTd1q3p7r0v1mCYIRMRujIkMkZhxJDgUFkPw+7P/ehtze3ljmPfGJ+eME8BQ0IDQlQSP5Fr4KDAb5/R3t8tt11Enes/Gt+Gbz6ftxGAwvPCsHFuYIpQ8jFTn+69n1z7jhj++I7WnoQ/EbDsAnZCUsGCkYHhuSEyEDJe6B4FfgdeFe4aboPfNt/tAOQx6vJKghNRhdEmwRKQWj7NXaBNk15CzvU+uP59P74BoIKiwl2RbxD2wWUxYJAuPmUdX21UXmffMc8lLtmfYwFFAy9TGgF24Flwn5FGwM8Oa9yHjSJ+wf9v/yI/Ag/msduyz4IngckRijCRD+/PcA7HrhmNmr1JPldALBCl0Gtw3QHpYt1yoJEsz8Bfot92Xq4ty319nfce2t91AGfherHIcbQB+YIcQaWAfx7cnj7On551fbdNkw69MEthJqETkVrCTZKnAcpAaE+/76TPD52C7SbuOa8pH0bPafBkYjPzAQHrEMxxRmHIUHROIe0OLgVfWD6iPWXOQsEVEuICFdCGIRKy59K+ECvt193PDyHfVj2GfLGunBD9cbpBE6DeIePTC+I9cFMvRd8Uru7OIk2D/cluqv9iMD6BHfHHgi2iBlGrYXuw+F9yfiQ+CB5dzkg9/R4Qf50xb0HnIWthboIgko/BUl98jnHOvD6mTfjda637L5rgvXC/YRDySOK00hNw7E/zABhf3m3wHKc9if8K/6nfiH9foJNjCcN0QboQc+CYkNLgRd5mDN/NX16sPvi+9J+sEOYSGPI2oc3x1UHrQNDPQE4nPiqOwM5wXWb9tj+2YaByQqGDgOpRrPKqIhcAFI4RbXzuQW8XzpjdvC37v+CCMZLFocphGiFggf1Bew+VXefdz44crgd+Tt7fj6SQxhFAwYdinsME4YB/6i94v44vVH5BjLss+c8SwHrgi0CdARDSJxLX0jbxDDAhP0EOYu4Z3iC+Vc487il/bZGBkqhyKxE6cQ8h5FIj8CEt061L3eP+zS7q3iEueOCAEi3yRuIiAclRUJFJAH1/Fx5kPftddF3R/rEfdfBFQPMBfEIsoo9SBcE+cDf/WA7CPjidtL3knk8+tN/XQPdhsqJIwhChkQGnoUFv3b6VXgrdrg4Cvoz+a28gIM6RnhHmkisB/sHBQWN/8t6qPm2eW93+va7N4n9FUPVBmmFuAYqCFbKH4dmP/e6djn8udz4x/dsto27LkIxBTvFwwggyG5HkQchwu39VDsqOLE2OTd8uZL7UD7vwnvFEkk3CpNINYTAwoS//j09eYC2FfWruAS72z+xwcbD0cdYyfHJSUeNQ7N+4/yqujS3KHdw+E747fyhgj9FF8gYCWfHHQZvxmxCBnyleT027bcmONn5ZbujQTEE2sZ9x+SJWYlVRjD/lDuhe7W6wPfZ9Px19vzDRBoE34P0hieJfgqLh+QAY7uge5854TcgN2X4JTpzf99D4kYyyVWJCQYfxl3FJn7ZOm130nYJ+G36r/mUfLTDjIexCI6I/4arxdiFvEBIeiz3SvcLOBo5+vpufF+Bjkbcye3J/Eb3RIjEG4GbfUs4mPSLtaM6ODyj/g0AoYMox98MrwptxLqBkH+tvaB8Bfcicxl3ADyN/xpCZQRmhUPJycuxxplC1ICku8w5N/h09p53bvqBvMiA9gbJyT6H34ePRtoFSwJsO99263bUuIf5WbmN+2UA2YdbSQXIDceqBtnFqAHa+3i3tbgj97R3bvo3fOqA5sZESGQIAgl8xwhDdgGIveC3vLYYd0t4dPuf/bs9/0Rci9mK7YbuxJcC/wMOQP723/Hh9w/7pDwXPSS+FoMTC4eM4AcMhEtDWwEh/sY6LzRUtPL4z3wAfzrBJgMPh7RLVIqYhnfBYn6w/jy7ZDY+s9p28vxTAVoB34HQRzAMA0tRRpiApbzUPij86rYwMxN2ybwRQZKENsKoxZoLrwrWxkuCsz1YeqJ6xHfONRM4evtXvhIELwdiB3DJRMk/hIBDcsCcucH23rde9vm44zz7vmlCHcf4CUXJJMiYBWLBTn7v+vi3eDad9tp4nHy4gEmEOwcXyIBJfcijhTFA6T2Oego33jbV9jW46r60QUKDX8beyQWKRgnlw7S9VH0n/AV4ezXLNTY350CMRUTDYUSciQKK1Yo2BEh7qbnyvJr5m7VK9bs4RMAthy0FXkNGSNuMJ0j1Qsi7cLhJfKB7FDPmdCK7R4I9ho2GNQNyCGhNVofef/Q7ynmTef75ULU9dci+AcIHQxNHDUmzSX5IrEQRf1a+yrw7dbG0C7erO2b+wgCvwnIIC8xDieeFGoKDgW7+cvh4s832PPpK/Ft9M/+qBYAMFsu9hiGD3gNYQMI9Kvdr81U2YbrUfEF/rEOfxWzIQstJSSEFsAGFez34qHs7eLw0j7bT/AXDAskXBz0D44iOy46GVf+SOZZ2g7nGOkg1jrdHfzlDgQcJSMXHZwhjyUnC0TywO+t5ZzYqtmH3KPsRAw4FEEN1hzJLbIq7hzC/dngq+mg9evgVc5j1f3vOxmsKpcSJQrgJCMxQB+t/C/Yn9Zf8IzshdWY24n2ixNbKXUiTBSfINQlpAx19ZLmAtp/3pnjiN1b6woHjxJTHdApxSI8GrMXZQQL8NToydlM0VHiCPAu9skHzhTjHGMuFS0tEzUFiv2W7NHk5t4m0prbLvWQAnAR8CCiHYseAynlG8YBW/FW4OjZc+Sl4Xbcc/M2DXAYECQDJcIc/h+oFuL1cOW55Q7ekNvG31fk2/7LHsUeXhh8IhIkbBuFDSjuRtg84HrjVN1k5vPxQ/+gHKssqyMlH34ZngmgAxj4JNkJzWvbf+ja9pcB9P9aEkU1nzVnGs0Hffxx+sf5wt3VwmHU1/PoAqsMFg6bEf8qpDYgHegDpvWv5l7l8eUw10PYh++0ANQT7SdkI+sa3CDyGIEEmPVy4KDS/d2F5MPjr/iCD44WOyFJJ/8gLiCDErbtct0R5ink+90A3vviywGAKCsoqhfZG9cf4xgeC3DrxtKG2hbi/t8r7nL9rATrGSssxyh1I90WD/3H8/rxm9140sbcE+VZ9JYM8hZ6IEEtvSDBDrASrgtY7QrUIMmE2EX9ogHF59r0RydxRPY3Xgy27O0C6Ror9A6/5rvl38EInxEr9yT6yCttQyYqWQqj9hX1uPp75GzIW9Ud7yX3fgT5Fo8h5Ss+JjQPBgzaDTzv78/yzu7cGvIL/cHwqPpRKTY/lip9EOn/ewFUCYLtJ8S9yAHoO/mWAh0GbQw4KMA3TiEfDccGh/Xi5VPeONSo237wAvRH/RYe1S5BJ/8d4RAMCk8LdvBvyfvLV+ac8vb2bfc9AugpZUHdJSoIPwXfBBL+oedjxebHBu+cAOf9fQdMFiooCjY6I1oFPv9z9h7hEtv/2jra1Ovk/loIqB4PLzYjFBqEGMQHqvb06FTTH9Hx5BXsJPSODW8a7xz6KBwpHRpEDZvztddP3gntMeBP1qTnBQdyKb00nxpDCrUcciLYBQzk3sy0y8TlDfhD8l72dwsBHvcxtTkjHJz4QvLN9WXyreQYyJzD6/QYImQdbgypD8gk/DrpJu3qutHy54DwJOG61M7Yiv39KBInCBPsHBgpGR6JB+3mnNNR4gbpv9gX39b7WRJvJTkpZRr9G6giOwp67LPfKNah2ivp2ebQ7KQOBiW1JuAmhxyhEQISDP2i2FfS3N2u4qTslfQn/NccODhZKfcUtBLdC3EAy+5VzmzFN+XH+qv2D/yZD0kn3zoKLZ0FafkMBJz3Btsdy37OxuqOC+QLjQPqGoE1WzG6GqP9XepC8XPwiNKcxz/jDwDDEX8ZrhRoHrI03ieoAYTuf+bh30jiA9yg1vDxnBFdGUUi9ynaHwgZsBFN+AjnNeE00b/RJu09/XQESRSWHGMl2DO1I8v+rO/16Rzh3OGn2ynUBu+PE3oenyNuJSYa/Rm3GqH8b92/13/Wc9yE7+z1HfoAFl4t1ysvJdwXRwJ++q3z3dlNzMXaMOpt+JoLvhMzG+Qu6y/wFm4DwPSL5BXjJOHU0crYlPrmEg0gVyU6Gt0ZDylyGU7vIddu0izcJPBm7Rjh1vzhJ8QzpCwTHLoGTAe3CRHqvMzR0BrcFOuYA2cNpRASJBguEiNzGj4KzOp43FPfJtu73SfsXfTLBRomkTBjJDkddxLLAe75sujqze7PqOVq7wb81w8QGsQnhjKBHjsHnwVx+ZffptL5zlbcQ//yC3sAxA/1LrI2ASsrDBXmc+RS9vLnts/t0V7ksgbULKksBRVXFXAgdRxdDNboOMNTypTsX/Wi7xD4KgsyKC891SnACdkF2AIX69HYzdLf1l7tWf39+5UQpjN7NIse/Q42AWT7WPaF2KLCitj+8+T+DQ6nGCodvSy4LNkR9gFB917cktF43Rvi4+oj/00JfRiwM54yWxgaCwYB5+6R5VPbwM3O2mb3UwS0EY4lIyeRIV0iyxJ7+KnqVtws0GTcTeua7rMBNhygJAAqXyr0FKQEngDT6YfRC9So3OjnSADGC/8MlCQFOXwp3w/e/N/r6el26arSVsnv6GgKMxg8IAkf1xwqKB4iGf0M43bdn9Ya2mTouu1J+6oXJyTQJpMumiADA+v3pO5j24PX6NpQ3Mv0exNZGMgd/i3NKBoWiwgy8j7f6+Bx3MbR2uJiAQcTUSLtKGEdmBtfITYLWehu19jQx9eq7vf19fJdCvMoyzDWLY0d/P8/9rH2S+CKzoLX+OI49D0QTxqGHLQtni35EnEC8vdh5HTb3tgK0lPjNQhNF9gY3SLFJS8iVh+oBYPfXdbj3azcEePH8HP5ZhCkLj4w7CHuGscK9PTY7I/h/s9L1N3nVPcqDR8i5CIeInEoIRyaAhDyo+B/0Y/YhuQC6UH89hVTH5QnhS7cHjcLfAAU6s3Widr625PcTPR0C0MVYCf3LxAghBYFDxfz894z3SLVctYv7uf+kwoNIiMsCyRCIhoYc/vd6RjihtNh1BPnX/GO/zcbPCeKJXEpGx+HBPz1G+q91e3S3t+05lD2PBLxH4UkfCyUJD0POQLX8RXadNSO20Denu2pCDEW+R9PLlQpPhc8Dez6Q+DP2GHaUNcZ5Z7+GAxyGs8sNiueHs8WZQNa6Yrf5dmU0vHeFfWIAbYTRylQKmojyx8mDInyveeJ2wPQsttC7Kv1MQ0VJGIlvCeAKL8RO/yk8pvd/M9k2wvj0epHBwIcqR/yKt0sXRdzBxv7suHV1DvaYNr343AA6REwGsoqfS0HHgEUrAII5ELZoN7X2W/crPDYA60b5DOkK2ITThPUFm4Ayt/YxovFaehaCML+hvThEn45J0IwKLL47N7t8d/8Rd3ZwsrPHvTKHlMzmB9kDn8d4yY9FMf1/tGwvmnW+/el+zv3VwO2Gtk3CkF7HL3xRe0481XmsdaJzzTaLwBBHzsdXR2JLDcoXBGs/ffo/NpM3V3a9NUx7jIRfh9QJdYoRh9YFncQbvjU24jS69CS2N/2cg7SDF8S9CbuMXouGBWL5QPP5+MU8Dnfi9Xm5NMKVDdPPjQbvQdlEzQTMfqV2UXB/8qK8fkDTf8jDdgmei+WK2MbFf8L8M3pbNRUynLhn/c9/1INNR7qKkw1CidZ/wbqDe2o5b3VL9Pq3hb5XxllJkoiZCSsJRwVYv3/6tnbnNP/1u/gwPJLDnAhOyJgI40o2x30BUvvLdmqzsjaN+gI7rn+5BPPIGow8zXHGo/5q+4B65rjINqjzX3XrgZFK4IkTxddHQgm7yFJAwDTwMRx4YrvmONW6K0ErSWeO0QvrA5JCAcPY/eK1BTKK9NV6EAAkAeKDR4njjaRJyMUwAJY6lHdod3D103ZLu5kAmoXqTFVMVYYrxD5EhgAteI2y1rEZOCTBVoGdPwLFdY36jwrIyX7ZeO87MDxn9aww1Lcvwd2IgYkKRrfHMMrlSMx+Z7UEdLZ3o3lfeZt6vsADyltPK4psBPuDFMEmfVS4bfIwcj96ZMD7AicFN0kGSyzLLEbefl85onkUtlE0MjdUvT6CCEc+CSQJlwqJCE9AhrnV9973IPXQNqY6SYElCBmKpch+CAiJrgRMutB1QzVWN+66EjlPOsqFp8+jTUHF/UKaQyKCs3yBcZIt23fMQdzCQ0EQA9gKN8/dTLg/jresOR86ZveFdbC2ELzeh+FMkAl3x3uHsMSY/+m6fzQz8sv3r3sUvhLEDUjnSaMKaImPRIV+oDl49LV0cniO+yw758E9SNWNbIxxRz2A+H5n/Y643XK2Mrg5M0BtRQ/HWchHyj+KV0Y7/r15a/ZjtFU163oKPjDCTkeICiGK18rBxZv9S7mVt9+1TjYAOS6758J1SYYLAkn/CRjFJb7Ju0k3sTPY9Ui5U/zRwvtI7gpECekJKkWsf/E6/jZPs+V1k3novWfCJQffyoeKosmoxZO/OXpzNyl0PXV8OdH9MQGoiERLIMp+iZmFcb5Q+s43xvQpdTO5j/0PwkrIwcrjij7JRoVkPsP66jc0M/q1O/mg/dqCmkfBCtlLAYmMxOH+bHnUN631SzTVOCy+CAROyPVKQMmcyH/GI8AYOMB1b/SAtkQ6uT5LwdfH0syWCxJH7kSgvpx5ObaFtJU1WzsMPwzBdIfVDc9MZMc7QWl8pHvL+qGzcC/HuIQEaQjrxyrEz0fGTb+KGDus8JSzlDtiPCW3mPhfwzkPUJCJhz6AkgNvQ//6iLChsK+5DQAAwFJ/04cr0ISO9gMvfPQ+DL14Nscwg7Js/jMHVYUDg1WKv48wSSb+27f7d406mnbIMa74mYaUyyIHlUaqiQBKmQSLOBdxZ7Zrey74bHf8ACiKdg35iibFfcSlxCF8gDL/8Ua4czyjfGy+zQdxTrvN60ZjwDT/oX7P90dwCnM8PHDCKMM9xPEJ2w4xywMBi7p2+eI5ajTts0u48kDzB0nJqshpiXbKccQZ+st3ADZmdWd3CnqLP3dHL4vVCauINUicg1K6xHYOtFn15fovO/U9xAaYjmpMzEdSg1GAVf2vOS1yiPFWeNHBbkRmBbAIQctbC1SGsH3bdze1pvaidue4gr3fQ/GI8Uw7i45HisKnvZE41nYpNYa11niiADAHhwq0CgBJI0bvw51+K3Zeck01WLnhfC3/hcYAS1cMownNxLh/+Hygd7gyozQyugY+lQGWBpBLvozaSa/Cqn0aO6O4zTMlMhP51QJFxidGz0gliz5MWwTheNe1Xjhht9k17LgbfvBIIM2kyerF4YfBBaD7fjQGM+E2bDpdPLA+IsY3zzeNlQY5Al/A33zZt2UyWrKr+juBrMP7xccKxszbyS2C0T0ruKF2BvTb9WQ6EkGgxr6IYop/C22IMgFTOyh2iHUVthl3wjsygZ1IoksxCqrJZoWvv4I6R3Y4s+V13PnyPbGDHom4DBJKvYeMw7k9jPjF9Zbz1TYte6eAloUHimDMkkoOxcZBcDvst741HHP3Nh59vgS8x+LJpIp0SMnGGMEJeXuzMzNLt0R7U/+vA4XHC4sQDYoJ9MF9ukp2+DXmN0w4f3i0feZH/I5ETVZHmgIlv6X+8Doc8cwv6vgFQpjHNUb1Bo5JQMxFSEf84nPic4g3E/l1uz793cM/yl7OyowJBX5++foleDH35LXp9At53gU6zFeL+wd7xQQGocTN+lkuybA0uscA8j4CPfEGTVHZ0kTE4PgOOcUAXDte77BuYPvpip0NbYX6gthKNs1jAl0z7LCRdo+62zpzOsOCVkyFj0dI2EOMw4iAlffSsUcyqHkWP5PCPANuCOyOswxyA/P9LTmm9tT1cbWT+FJ+YcV9SUsLZovWCEyBA/uT+PG2ALStNfF6QgIqidbMZMlNxz8F6QIpu260lDE09Bo8sEJbQ2XFVIqGjfsK2cJ+uEq06PeneOD2arfoQKIKGg4FC7nFx0Mkwja85DRRcSW1E/taAPXFSMhiij9LEwjLAux8bjZW8inzw3rn/3/AukP5ycoOmk1BhPV50zXieAC4/7ZB92688cUazNmPFIpkA5j/J7vTuYN3k3QfMzy6kMbsTSgLgEeLxSuE8ELJusdxgvCCdwx9uYIZhnVI5YoxykTHxwH5utn0hvFw9Qm9FgCFQMGFKsyqD/CKeP9Cd9Q4qbradntxV3eBBQGNAku/BpQF7wgLxSM5Li+k8iy5nzzO/jrCsgmbTe8LlcVawON+HneNMIPyijvAwegBmEJgCWvRlI7+gD61lfeae8L5M7KStDsBBg3IjW2HOUapx7yC7HppMyUytvf2uqL78gPnzSpM9UfuxZHDwb9bt3bvurGbvKaB2X9qQgRMRZG8S5XAH3hDua+7n/YIcKY2+cQiy3PKdoguCDOH3kMueY1yz7Ort1X5433uBNxKIkteys0IXUKMe4m1hDNF9n96b3vfvwZIHk+CjnKGlT/1vL47jri/8ogxx7oDBJqJ68rBShBHl8UOAjh7xzUf8ehzWXlMwr1I4kj9h0UJIEm6hTF8DXL58B112Pxa/5kCZ8YuipPNtEppAoe73raR84n1Hfi/PCCCN4e5CaGLRMv2Bf39fTcI8zgzxjoAvQQ9dELOy6mPSY02hKv617h9+l33t3KUtXm+iQhhTRQLP0a5Bg8FQz2JNDuxRXVyOmj+4QKrxvYMDY49SI4A1Tv6eF21B7RXNtg7v4JMiXkL/Ur8yLLEYX52eN50uvKvdjH8ogH4RcUJ/YwOzBMGl70h9yX2jXaYdib30T1PBsiOsEz3xtuEkYJSPK92lrJcMn15ugGERNmIL8w2CysHLgL5O8Q1QbPMNTu32v5aRHpHfUsjTZ4JDwEh+4s4TvW+tH41mrrcBBjLVUtFyJVIPIZD//t3GDI+Mpw4RT5FAUtE4srCDgyKrUQDfjn4YDUx9Hq1kbpxAUHHBgpWjBPKlEXpf9Q5drRWM9m1zroAQNEGL8jhy9RMFsc/AGo5jfPa8/j3vrmuvV/Ewwoxy8BMn8gqgDT6KvVFMtL24LxU/QO/aUfAEGTQ1IgresW1kDs7vZf1/i8Xdi7HLVPP0FyDNT6bBOZGPDugbkxrafcLRYsIZsSLBgdK8YxxR6/8L7JhcqN21jk+PItB7EXyi6EPfcnqAMT7/bizdnd1cfRtN+gD/Q3mjGwGX0VHRy2EWTnabZsturpARC3CzoDRRc4POFFrRic3kXQrN5Z4QvbHuAS/GQm/DjWKKkdQR0sBBPbb8bazLXlNfyD+30BmCxtTeE0eQNg5pXiduhQ3+DITtMMCZMxMjCPI9ofdxtzCMPit8TYzF7m6+9J99cQ1zDPQAUvKAbG7kjuTOMlz4vMmN8LBP0psTKkJTQhRBrAARbpotRgxSvS8fJIB5gV0CncMWsqaBub/IXbINSV2evXjuCm/SYeLzU9N4Eg+wkTAVfxetftxwLMquZGDtIlGijNJ/gjGRiLCILrFcicwarZmvTCC8YaIR6rKf42ZSH09N3ZXdAn0Qrgke4++/YXDjPmMkcnHBkn+qrZn9Bj1gDfgetN+tgT+ji1RPojef3B8BzxXOeazFe9PuA0HX82wydzGIwaHyOEEkPcBbTVxWbtJgDaBY0NYCGUPsQ8swze4IjXcttq3uXd29+q/DIs8UCWMfQXNANB+IfsJdPjwzXWfPaCEb0lRi3iLKkn1gyj6K/chtxX0pDSNev3EIs11DzvHxYLWw+tBj3jecC7uzvg/g5pHR8YoSC9L1sujREk4+7I89FG3lLj6/SHDyAo8TmuMUYTWP/48WvZj8q40eHh4v0VH0orYClBKykgRQE75XDTQst+1obsR/7sFMcvcjfoKGIS0vnH5qPaMM07zDnoIA0MJM4sVSngIbIbuwMq2xvHDs/z3aDyGArbGYorMzkAKTIJb/Sm4MHNuc523eTxiw5DJHss1DHHKFAJh+qC2f7SkdZC3XzrKBCeNOI3GiZvFBUFNPlX5MjC1b2x5gQPdhzXH0oj/ipBLUINidnCxALSkuIQ7e/2UA3XMcRBVyobCr/2+elr3ejMtsdb5wkVGCfpJskoNiWaGfIBvdlmwYXPquVx8zUIKh95Lnw1fydFCJbvG90DzVbOKODn99MTTifDK6ItvibUCRvnatFMy4TWq+sK/fENRCXJN7E1uRz5+NbbYNG02BXizON08MwWDz1UQzMoYf9X6KnuxOyOzUi+juCYF5A5azQWG8UU7BpbBNTY58GyyrHk8/uECokitjwTNJURRP389WPnR88UvMzQbRAdNw0kRRFvIaAwORsL4RevWL368qkGX/mJ/3okX0jGQaYLUdyC1xDgqt3I2bDhlgH2LFg9fTDvHksG+enn3fbXis+u2Tb1bBHsLj890yoSEbEBW+5/2SzOgs124UYFeh9JLbszbSgMER37MuRY0lTPHtXq5iELZSzqNOYqmhstDEr7wuMeyuLB+9g6Ak8fvSXjJcQn8iKUEb7vcchKvm/YUfQEBMUTXyO7MJg1Bx728+3ZI9LI0GbaZ+1/BmIkwTMWLVYiohLm9IPYz8nMylPhwwAzFPEggy4GMWoi5QcM58HMIshg2O7uSgJpFTIpMjSIL7oZ4/UI2OvQXtO/15ztCQ9qJRIv8S3eIOcQLPlv0469qM387R0HPxPZGBQpizrPK6kAtdgXxBLMd+cN90j8Kg8CKEA5XDyhGqbgFcdE1djj0ufz6Ub42yJgSow+FRPU9ebp2eGT1Q/KPdplBTkj4CkCLe0qmRsvAK3cQsb3zb7hZvGsBtchJDKAMOIiKA9Q9WrW7MC2yNTrRA2jFh8VZSOCO2U2pwI8yMW7/dmp85fyJu8kCcA5J09PLHz5UeU246zZRdAX1q3xoRmvLlwq+yl/KZQKQNzUxBnNvuUX9aj1IwhgM6NJXDIPBUXijNso4QDYiNB16UYTsy7INbgt7hxkB8Pp+cwxyCbdg/KQ+8gJFSqIRf07qA6G3qjOGeFQ7B/ZqNIQ/jc5FlBaNZwEPO5T+U3zhc1FupzWUAvwMJAwmCC1IesgWQLJ2YTEn8pJ5OP5UwXTHEg6RzsRHiT9Mufj2/XTMc5E2t//nCdcNbIqzh0wF6kHP+SqwNu9ad/zBRsXcxgyIF4zqDY/EUjaNsDyzErljvJT+EAK/SvnQv011w0R6Y7ZXNZL1ETaCu+1DA0qqDhCL8Yb4wfs6cHMGcmq2E7sdARVGRMndjaKNioUf+kZ09bOvNdr5Yjw+wbgKIQ7Kjb8HjT6ddwe1E7UGdkh6Z7+FBkFN/8/fieoAyXqw9y31QfSntjm8tsYWDOCNbonmhZUAtDmrMz6xTrYavQVDAUf8S1fM6ApwQ3l6BrQH8zR1KnlM/76FxIrJzM8Lp8aMvqV2X/IB8y24Aj7eQw8GiUwEDyKKNECod9uyubOmuEQ65L3TBcTNFo7wC57DSzod9d91HzUuN7b8Y8M6C42QFAw2BLK9x/joNm30iPO2eIHDgAufTVhLescugkH9NHZ58YFyzjkkAO/HWcumTKYKJoTJfop4dzMbcaa1/H5rBjUKNktEStYIEIKFehEyknFv9Zv7yUJ1CGhMVMwvyCnDa/4Ht29w6fAe977DW0ryCbyGiAitSocEn7aoLFZvLfpQg3xFJ0TOSGLNpoykAvl3RrFsMWy2Df0zQ1oHmomXCtlK2IbVvdhzeu4estC880NXxQ0Gw0s6DYuJl/7DdGgwPjNEOg4/GYLPR/UMXA1/yQnBE3gEMurygbZre7/B3Uh2jGyMRYkmg3z8JTWg8etyfXhFghDJZksQCdNI6Qd8wWT3O+7I76u4+sNhBsPFyAjSjeWLm0F5dVCvWvM+uqL9Uz9qBxfOqE65yK//9Lj69mQ0WXL6d+XBwsnvzSKLt0dXhEi/erZ18Lzx2rg5gOHITIq3ilBKk8ePwCs3F/EMsXq3hX/DBW0IaUshDKdJhcFX92YxgvKDN7W9CQIgBq9L4A8mywMBNfeFM8g0i3c9uWn95UZEzsyQPokKgJ47VXh+9GxyQXZ4fxVIbUylC9QJqUZ0v6G2hLEZMqO47z7LA99JE01vDTxH3T9A9zjyl7Mmds99JMNJCCBLeo1ry3bCQzaXMLSzjzmDfJb+SQQtzVuSeov+ftG2fzWmN332InYkPO7H3495juYIo0GG/PG4FHNTshJ3P7+9ByFLB4xtSwhGyL8R9ikwmHLzeaN/bwN0h4pMes8oSoF9ivMeMpB2WzlAvD8/Fwc9kPTQ7MZ9PPX4D3WV9Nu1e7j2ge3Kdsz5DAaJk0MwOgSyhbD/dqV9x4ClA2gK11ELTjfCJbYR8qV2rrkYd736YMXcUIJRCQiu//j8C7nH9IxwzjVogEKJ/UvnChqJjcgdgCC1Em/2Mss6EL/Fw/mIpw3rThNHBfzQtflz0PRttly8b4RFCtZNmsxCh2H/lbeDcr0yzjebvNzByQg3ToEQKkf0PEZ2l3aZdtU1H3ZwP8cNbpLkDG6B/L2Pfle6djFxrlC3rwYzjqrMx4e/BZaFCn8aNKfubnIhO9DECAjvS3cLzAmzA5S7mbTtsggzvjigASjJaw1HDCcIMIPcvfc17zCsce05SoLUiLAKHss3i1OHGTz/MqOwIDU3O4xAYwQbCavPDw5/RJo52vQc83413jlY/OWEds1hj0dK0IS3fE41rDOu88r26/7ehuQK3o1EzFgFir1UdiyxyXOkOLd+C4UpC1jN0EwZxir9EfY8sxEzVvb5PjNF1QsxzXhL+QXVPhi3O3Jj8k13cL5ghWYK9s19C96Gdv43NtyyzTK+Noz+EcVEywnNzwvuhd1+kDeB8sjyW3auPdpFRksmjYlL7wYjftK3SvKa8uA2nT0fhbtLTc0dzCqGmT3f94Yz+fGg9gA+rsTDiscOp4uGBb4/DfeTsmvy+famPQkFuEtJTZ9MIoYRPh93pXM5Mj02un3XRSgLRA5Zi6wFs36V93DyQjLYdyU9vIVKy9UN2oulxeB+P3bBMv+ym3cIviEFoIv8TfHLc8WOfdd2vPLYcsg2xT7MBkCLcQ4ey83EqT2Ct0Ux7nK0OFB+W0XeDP5NlsqBhaj9LHWSsuyzJfdif14GygwdjiTK4EQ4/MX2IPHXc0I4iz9lhyFM082SClzEdTwQ9QvycvOreE8AJAf4DI+Nvco2w1D7jTUYcgOz0jkdwJ2ITY0lTWNJzAL9err00vIHM5Y6J8GcSAnNnY3AyIdCS7s8M0uxyrVpueHBpEoUzVZMg8lxAVI5PrQx8h80UDtOwzCJs43vDO6HogDI+QkzDLJjNY07ggPtiubNmoxtx4P/yrfA823yXLW3/PvE80qDDjVMi4YTvpJ4IvJF8i+3Wb2fxNBMg053ypmGGD5+dZSysvNUtvc+rocui84Nywu4hFX8jfY78ebzKrimf6RHeU0AzcyKJsP4O6U0tfI7c/Q49oDpyN9NMU1jicRCbHoEtPbxwXPcesDCgsj7zccNxsfOgV66DvLBccY2GjsxgsILRM3ejB9IKf/Lt6UzaXJ/dUJ9EITsCu5OeQxqhfj+I/bIMppzfDcgvP1FLc0gD3zLI0OsO4l2obSl86F1Y72PCO9PT07jSALAeTxN+Vays2/HN0xCgwuYzpSKoMZ1xI49YfHwLsT1qP2NA3EGb4rWkNYNgv4y8Pnxo/mgvCn3xLnbSWYYk9TWQNQyOTUlfij7PHE7srRDGVS0Vt/I2DtBOgO7mLdEcxZ0SHxbiCzPww/ViolB0Dg7c5l1HvdjuXN9RgXDD/dSqYpu/Vf1FjSn9uE2/nhrgE/KZ9BOT69GnDxTd3D0kTMKNmA8zwQEC/PPqYxQxS68qDW4sxv0cncCfYhG2Q5fT/iKFwF1+n32WXRis++2iH+uCsUQIg2JSBIAJDiUdWkz3bS5unlCGAknD6sQtsfk+4dzx3ONOBG6BflNvq8LiZWlUW9BsLSn88W5OPmZ9hC3nsRfEzrUA4jzva14FzaHtl20zHbSwE6KZs5SjqhKOX/8NZhxeDPLehT9dD7MRrqRsBOxRwc29XE9tsq6+Tc2dlFBghJRFynJfXoVeOp8Wjh8cG2wqL7hESnUQkiHADBBbkG8eMntFyvpeuiMdtCBijTEIkSKRaI+cPEmahgxVIJIz3aOjwcfw7uEy0SovCFtkyhldjoJeJDTjCNEYAMkhzNDZHS8aYyuaH2KC3nOComCxtTG7cN2eoHxnG60NE8/O4khzonNCYgwAyt9ajeks6jxKTTNgXUMlQ+8DH2GN7+ge6Z20vFaMf36MMUCzbjPPIqEROG+6/hLc3Ux/XWuPfIHOs4tT5iJ8gFIO1D2prOQ8+G2oz8fjDeSIc1ChR+9nvmrOJE0dLAuN8SGzlBw0bDKGr8C/CJ8l7ZJ8H8zJjzhyl/Ti492BJM+xnv9+Fe1NnHrtSjByw7qknjMgoMmvD954Tey8xGyCfoFSK1RtM7MR3pBpz3DebQyuy4cNd2FmI5LzPyIbEXtxJm/TvN6qtcw6P/1C/ANxIiNRX9HMsW/er0tCip/9rpHcg5PyyyGPsYsiBEBszK46vZxYX3KiC9L30rBisNIz39NNkF0MTN2dSP8QgW2TxVUGoqO/Dg4Grm8dvjzzzTcvRIMTdTwzvdEV/xodmu0o7Y6t7b6xAFFSi7SjZLthS0zq22D9fS+TTxVt9g/0RD52SjOMTgErY31JryvuVT2Tv22TJdW588afof4S7k7NU/yH3UTPwFM9ZFSSVzEHcTuPmqynqyOMNC/u0xHCorGM4qMy4yBbrRQLBMv4r3qBNJDiAiSEAGN40M99pYv0zNQuR96oP+MikvRXs8PRZw65bWtNO70ezW5vDxGvQ8V0B7KW4HcuJIzdzQldkr5E3+tiAnQK1KxyMJ5uPMZ9TE3DPjb+dC/JM0bFnGOeABqtw8y7zUOeVH4lbtzhmJP+pHQTG5+r7KwMXt143ndvLX/UIaaEQnT/Uh8d9YvdzKueen7zjtawFsMd1XjEKN+tvH08o14B3owuF46q4fCle7TD8TD+Uo1DTcr+ES0DjYuRa7SVlGvyZoASLrO+mZ1l+6uc6qC2E3Aj4JKj4UvQ7+/ZXPbbAyxn36ICPbLAkoXyubKZYJYda3t2XGj+u5AOMN4SqWQ906eRFy3qvIMtfU3mja2/JKIzNHVkpAIenrTt4q4v/Racyl5HoIljO8TBo2AA929Jva4suh027eKu/0EnE2+EUqOZYMLd0+zf/T4Noh4tf2YR3qQGNF0yiq/QHbLc94z2zU0+v2DvQoGTr2Or4fWfsM2wbBe8UF5dn8DBNZMHI5cy9uHeHzEspsxPvO0N+3BkgpwzFSMrYonQ388IbS57f1wjPytx3tMKstxiJZIDIXwO+1vHirRtDeC4UrDCjoIJsljinJEUPXBqsouinqFBFtJEElxCYMMhQjQ/KPyn6618Kh7RgYwCIjKScyYij/E9zxvr5krnfWdwKtFb8dByZaNho5QwoXyOKysc3I7tb87AESG8ND8kujHRzf8cNA0tvgl9xu5scQqT84T90uavkj4bbhidV2x97Sb/j8LTpNKDZZEWIDZ/JK2GPHasAp2dYWzT1XNnon7xkoBV7v2M9EtG/G9fmYH0Qu7C/xKnUi9waz1oq4tcRk5WL+mw0BJN8/cEGqGhjlvsO1yOrfdOYG6iUM7TlxTIw4pwaC16nLkNQp2bjgofVDF5k8BkrzLv7/a9kvyW/Ox9qh53/9ax7FPe5EqyeP++zagsjJx47Z+u5oCNkofTrJNpomHwFm1M3C1ceH2GX5/BQvI404sj4OHSb179jUwRnFtOBf+KEUEDXYOusr9BkK+mvU78A4wzrdewYaIpErPDMoMzocv/GgyTm9Uc7I6bsD3BnOLuo/mTbsDLjjac3zxHvQ4Op5AigcnzdxPzUvjw3L4BrDacb62U7u8QMkHCc2DUSLMdYEttm/xOTIq9nQ7nEKaSQ/NJI7sC5wB5jdf8KVvAXXof63FDcioi8hMsct2xYi3ZCu4rf74KAKgyB5FlgYlUDvSfsK0b80prHIHADCC0j1fAkFR1VdwCuS3327ONH/6SrfL9r+BFZBYVTNMfkFEvMO6CvSmsAqy6f3eyiuN6swfy7EIHv7/NZLw6nE+9xO/K0Y8DR5QP8u5xIE+Vnebsexv0jTJAATKX82sTBKKAkeKwMU1mO4jMIC4v4C8x/qL9w1GTSkGiryT9dDyILBvdXzABsoGzrIMpwhtBjoB2HdNLQ3tIzgWRSbKXol5iZEMaIq9wBsyO6wosfq6SoFdR2jLJozFDRxHdb0xdRUwdS+QtvQBfwjdjPHNAcpxxd4/RHacMBCvujUBv8PKSs9wzV4H5wOvwJP6EbEFLN2x6cArDm0QcklyRYoF34N5+wZu6ekzM4TEZ0yKTIEJcwe7SKID1PaErSJuSrZaQEUIowweTWJL2EWGvg/4V7NrL95xursIyZQR1M6xBv0Ci4GUPXMykWquMGT/TYrbjklLssfWB9pD0rgyr3ovb/Ph/K1GnQv+zfxNnkcTPlE4q7OzcKQzALnlg27NcZExTSMF/b5gOMf1QXKEchH25AG4DiGTXg2NBHt9ibpp+Hoz/O57stSC3BCIk3GMMAJ9Pp8/W/oLb8hsG7StRHHP6o/4SebGY0QVPlH1Xi83sIy31wAOyPcPXRBBi0zBvbhQNm72WrKDsgM7jwlbkpAR5EhlQG29pXl/ck1v5DRg/caHbUzhT4gOwQc/etazOLMztoL3C7dhADKOYhXwELIDH3hkt7U5ErRWsLY2sEMwzvuTPI13xPS/aDoz9HtxXvKheNECmUq0DxyQIcr9wNC4FPMD8q71cLjYfWIGaNEQFCxL4T+8dyN1mrbdtOUyz/o+iErTDlORCrF+xfqU+zW2lbBQcQv5/QfEVCjSikfRwQB/sjyvdqiu0a1J+V2KVVJSzwCH18Prg87/6nQjKsOuU3xDCV5MrIqKiuHLeAb+O8VwES2/tSQ7+D8ORjzOpBJADc8B/vdMtln3BHMvMXB6Mcm7VElRs0ZUwPGBcz29cqCqqzAkgCYL24znicEKCsu+hjI3g+ypLsM3qj2HwkBHak1GkjwNMMBD9zWz6LL3M0+3AH7RyYLQ04+9SY2Dsb1CtwlxMm8OtMT/mwmZThKMocpGSOLCLncirx9twnTAACmGc4goDENP4MugAc83Q/DdMRk0l7jjwPIKuI+SzkoJM0MLviL2i+4IbUf3h0PmielKwUtGzHOKIQC7s5RtxvEgdsW9M0SNC8GPk83zhrr/7LwTdOHsDW5o+xhHv003CwqH1oqBy2k+uW6caoeyAjywQoTEVkjuUH7QW4aL+3f0s7K5ciszJrnHRhYPXs/eyiYFdUOZvc8yOSr5r2F7p8eny5eIwwnjzcdJ/fy18DKrhHHo+9YBKUOciZBP4NAbSIA86bQf8f2yGHQsucbD5M0uz/vMEcfZA0Z8HzOgrYAuvXkGxexKZUqvi4vLogiGgTb0IysQLdC4S4LEyBPHzIkbDm6PJITXdJNqMS2gehmBC//6gY4MMdTuEX2CbXQBsTE1SLavtIl57sZo0NVSbQtFA3g/Zvrasb2syHMpPNxFi4u6DIsM30y1BRe4xbG17+MyKvk9wQIHLMwdj0bOMMh2PjUy7q7aMvt4GfxTATqIi1HoU9dJxvxEtpX24/UwsVMzBP55jSQTuk2+xjsEq8JoeXfupisc8+ICuolryDSKaM9NzZuELXcGbd0vlTdiOwO+20b4zhRRIM58xWM7c3SisPqxADbIvcXEc8qTD4tQbIr7wIL3ILG4sTd0jvl5fyeIfM+NEBVMU4YHPM11FDEJcCy1Bn8ZRgFKAw3Qz0pMXIO9tseu9rAtNhF7Wr+TRM0Mq1MrkJnFBHnZdBOynbNRdd36VwKMTEZRWA+5Cf8BVvhz8vaxXrKb+Bp//kZdTYOSYQ42hTc9avX6sQgyVTTd+WZDMEwoj5XPvcrUAjV5z7QEsK5x9HcM/inGlY4lkH4N3EeffmG2k3KvcM/y4Hm7AllKFs9WUAZLRkPaO9C0aXBgsZi1hvycxgFNMU90TtLJPT9UeLczbG9sccL5cYAbSHmPfo+Qy8MGWr1MdRkxZTCJ8887k4QBS29P4A86ia/Cm3pJcwRwXPG6Ngn+kseaDUcPgI40h7Z+6DdYse0vsTLgeZwBWsnsz1CPFAu4hW674PRasXwwKPPxvS/FK8rPUB4PRkjrQeT6BDJQr9AyOzaWvxEIBI2zT6wNsobvftL3VrEu76hzXHmQAdEKSA8ijyjL+gTS+9j0m3DdsHe0VzyRxT8Los+2DsGJwoIk+bYy7i/J8UL3PL89RzvNTFAfzbZHo7+EdxfxkDBQclP5F8J+iQjOTpCuTCXEin3TNaIvvnCs9My6xERcDDYO9E8ES0LCwjq/c9HvxPEI9rr9hQZATUQP5I67SVJASTfXctBwk7HP9+9AGMhxjrbQYUzHBsj/fDZ/cGWwWvQUunwCIYjKDrtSTA4kwkX5+LXG83rySzNAt4AENpEfEqoL2caYwx7+lDbXrYxsvPaUQjBH9srSDfrPekuhgNa2cHLCsv1xpPSQPzQLZBFwDk7IpQaSRWg7tq0FaSezuQDYRapERcgA0b+URMkX+CLv77KO9sv1/LYJv89NDNO80HXIjcKMPh/2e67976t2OLzrhIULrU9GETLMJ4CSeH91a7IJsIy0yv01xyDPB5A+jNIJQsK1OXFyYq9lsbL4Bb9jhpUOf1FqDcOHdr/reFOyhzAc8Xn3kgGISftN809+zaOHmP7BdrHxMDACMyS5DEHfSgtPQ5AqDA6F4f6stmzv6+8tM6+7T4Q4yYjNUxCFDmKE67tlNEbwI7FrdbN55kJ1jEgQdc8DC8BEIrrPdFQwf7CLdas7bUMqjL9RjM+MiRuBvfugtr+vwyzKs9MArUiqClULhA6ZDoMGATcCLVpv1DcpOTc5CwBjDfRWcdFcBMC89/rueDkxJOyBMv8AtUqgjKaMiM2Jy+fDuXaO7v7xAfVN9iX7A0Yqz4fTVg4TRHK/WvyptAStMi9uN4zAigfDTKgQL4/Ax989r7ir9YTw4a35MxJBco4oDxlJZ4lCzTvHJncTKo0sETb1vc/91oCoDFtWcNIRxJN68/iPdsSw7q2aNQOCWEsoDQ0NMQ2Ti3qBUPUO77cxZTRaNvb84seekLrRvAx1RjbAgbp8cgGtYvCfOXiA4QcPzNhQNM+XCaF+rDa+86BwvDA2tuW/ycgoDsNQPMy2yWhCTjes8PQvwXIit6A/EQaETguRro5LCGkBBPkisrjvlzCwdqt/6MdbzJOQeE+Wia9BGDkZ8qZvxfG4tht9yYcdTc1QUc70CcbCs7nkMprvgzFU9hS9soYpTOhQXQ/CiqZCdbpks+7vyPBb9WP9TkWFDGBQcA/Nyz1Dtns4860wLzCldI+8DgTQzDfQOE/gS7bEt/wsdHOwMHAxdCt7ZQOxyxuQM9AbzEYFzXzcNSxxPe+78rG63UMrybBPgdEdDINGnz6GddDw6rAAMoW5EAH0SX8O81CczZ1Hmf+y9tBxYq/dMdP3zcC2CEiOB1DTjtiIasB8OJeyMK8o8UR3Kz6qRzrNt1BcjxvJwwIV+b3ysi+SsOA1bP0WBiuMhRAVT92LAcN/OvjzxW/lr/t0RHwbRCwLK0/ikFlMfEUd/C0z/PBesWlz1HhWgF5KztKAkiRKRMKtfrs7kjQw6sIr8TkUx+zMy0mEyFVOwVGShDnxJyq68JM42Xq/eE+//tDN2HLOi8Nmv0z+CHgsrQfpfnTjBC9IOEYTSduSZxPnhhFzaS2PdOW4mvQlclN9PQ73GG+RXkSQAH0B/b1nMZTpTW0uOn7Gz4tXyo5Ls84dzNSDljXMbP/tanRduyd+e8FLif8T69UuigA8uHYF9u+1ofAg7mF4CwiLEkcPj8lVST5JsIGiM31qV22Ct0r960AghRoOc1R6UEiFTnvqNzHzsvBX8Iq1xj7oCGgPI9EYTkbIU8FgetV0429ZLVuzBv95SOYLVcuAznaPnIk1+sWva+4P9DP37/g8fDyIaNRPFMNLuwK+vkt63HQ9raiufzbqQWRIsIz9T/zPwEpqQU16KDRfcC1vHPMlvEqHT4zCDf8PKQ3nRmd9BXT87wlwebQFt/EALotO0H7PZI0jiGRB+Pn0cJJstfEKeNT/TYWVi08QbRHizFKCqzpf9EtwNC//tBd67UL8ioAPnRDxToKHu31N9fOxyLCTMfh2o371yANPN5E6DzIJiIIC+kyzha/0sF70WbrHBGrNdFFgj5QK20Wkv763rK/u7Kvw+Xqlw4DICAtqD9ORrwvowIy2N/F0cepy9LPYOXWEsI/9EqrNnEijBgmBajc9LIhq0LO6/rLDiQS8CTqSPBVCTB+8YbJ8sd31sfWH8ru1LoKV0oOYMQ+Tg5u/A0FyPu+ysKYv6SR8ZU01DWPF1gbekMkUFQXocRppB7CQ+Qd4xjd5v+OOTBS+j+8JpsW7/za0DawPbvL3+7wEe5FBEBBvGt9SzIC0eA/8rX1Uchomyuy2gHqOv00OB59KzpHYzTs7+y6tbv40AzUp9Fh7Tsm/E24RU0oNhydGGv6PcQjpmO7DuRx+RoCWxlRQIBWoD+cDEHox96y12HDXbUAyvL8zSw+QSo7ZiwAJcYc6/5gzz6s6q1O0TX7eRM+HBwo+z0cSg4zYf820HW6l71+z3XiVPGeBIAjUUaAVjZAQwvr2fnJz9VQ2T3GEsGy624vkFeRTAAoHxFZDEb+ldlDtPutw8rf8g4VHC+gPKM7hTIjIt0FI+F4wbS1J8F12jP5rRkYNipEoTuwJcUVSAZJ4DavzqDwyEoCTBmPDo8ThD74YlpId/g3vZPCTN/Y287DS8vJAglBRlWCP84kfhjJCrbpTsIfs0TCrdyZ9/wTry+NRMFIyDRYEKHtH9iJzIHCOL8x0pP9Vy5fSB0/PCkyI+QgjwHayKWj5rKU4RMAQwNxDLgy7FrFU0MbmOhR3j/gxsyXs4O9YPFOJi84pTKcNO09fy8L/RzKbby8yHTQPtT56WAWFUG/Tbg8ECUeEzL+DN3cu9iyNcaX5ZEFPiEWNDc/DELDM9oQuuVYxzHA+MYa0LDep/zxKDZMbkvVLugXVA1u9xzOc6yKsTrY+v2TEN4drDWKTK5F+h2Z9Wvfes0RugK5RdbK/iMXfyFoNctPjUwsGujcH8nC2i3a/rk9tE7uYDmKTyoxNR4+MmQ5+wN0t5Sh/sv/7bjdcdMoCi5ZmGoQMyX+2AJ3F7z1vKori5G/1gskIjANXhKlQNVeR0B0/OnNocqQ0nfJYMBY1g4I7jEvP3c9XDlpKqgKp+OlxSO8MMP7z7LjnASDK1xFNEZvNXAfDwUs5j3KELlyuqjQtO9sDA4oHkGjSg466RfA+e7mwdOou7aug8OC+RgqiDLeJaItRkarQEoF073Kp2jHEOda4e7Rr+9ZOQhqT1SpG8f7Pf6k+3/XcKpRpDPQhgnNJzoqBS7HPMtAwigD+4XOobpawKLM1dZc6j0QXDpWTfdAuicPFDAFL+tlwFSio7Rm6hwSsxWUEkwt7VcnW64f+dM+uUvUfee7zEWyQtWuJRdbUk/MJhQZCSTcFtzgca2gqijN+ue08lEKUTPFTq5H6CqIEl4CcOdawMOqerzS5GkCEhB5JIJCgU+wPCoXR/O52mnJfLwqvm3V2fdZFmItPEFgS3M8SxgY9fDcdcspv0K9MM5w8jMatjTbP25BdTmZIXf9at3px7K6sr17093wuBJCM75AKj+9O8kndP873dnH9rm+v0HV6Ou6C/gv8EFgRDw9FCR5AjvkE8hgulbBF8+q5ncMlSz3PspHtj0zI7IH3+mgyki6I70vzG3mfwgiKMA970XfPtMpqQvQ6hvOV7xeukjJqeTeA7ohRDteR45A9iyqEAbuNdBIv9S6LcWo3h3/gB7SN95FqENnMFUTNPTO1Xq/3blYw8HY6PjkGtk0ckMTRDw1whlf+O3ZcsNvuDW/8tUk8yUTLzGdQklExDgqIK7++t3+xXu6/bwNz2nt/w2BKgtAzkadO5ckLga55F7JHrvDu3DKEOUZB7AmrztSRZ9AvyrLC1vsVs8RvJe5cMbA3pb+aB/nOIpE/kEXMikUjfEY1vnAfLbrwYbavvR6Fpo2eEL0QZQ5pxzi96Pd5cUstoy+MtMs7LoPFy/bPvxFWD08IowEpOVIx526n72tyLXkcgkFJc06R0hsQP8pCA/l7YrOZb2ZunrEXdxa/fodNTfbROlDrzOXF4P2JtgLwom4w7+P1YjyLxPjMTVDpkRdOqQixwCs4F7IS7qXu//MNel/CfYnCj9/R84+oSoBDnbrJc7pvUi6LcWM3uj+ux4qOPNFo0RiM74Xdfgv2FPAp7ptwUDS8PKAFoYukkEnSn06kyC+BqLjMsW7vPO9p8iN594JjyTiPV9Jyj/VLeARVe0y0sHATbcpw/ndNPo7G5U3D0I7RF09kh+Q9rTXmcbwwCHDkcqQ4V0OUjvySvE8Ryw3KKweRPhiwVukVLZA3Qb02PchBqcw8lpEWZouZgSp7hfhBM+AvCO55syw7n8T+TUsTEtJSC99FTEMvf7O1PGlBqF2zbkBXhSBDqwcVEjWYulDrQFR1xbY29tNxvew+L788jUsBkAdMu8w50AaOBwNS9lPtcG2ANFo2bHVgu+dImxMWVeCPVEa0w1JBBDjcLwgqi63c97NACARKSexQhhKRzyMI+kDcuarzKC0cbA2zLPx/wdSFGYqi0pBWfs9OAbE24rUXdo3za+yhbPN5k8roUqNPDYojirBNngnKu2GrlegB8JA5T/tB+wKBNg2K14KWKcrYgBx8ODpsNL3th+w88Mo7gkcRjJ7NiY+VT9PLtsTDO4wxGG1YMBYyhfXOvJIFnE8bE/3PgEo9iBnEbXogrg7oUe7G+rm9ePruAZ6RLlqUlP6FK7vuPrB/RrNhpd7oRniHBR8FtEREDGuWl5VoB567jflseOfxrak6bCM6jAXuxpTHeo8oFmhSpMUS+NX2UjecMUcp0G76PK7GTMndS66Pd1PakEKChbendbY0C2+mbSYxl71ayOEMpE1gUK2RPktkwn14lPJRsHcu4i+EdtzAusdTTGqQglK4D6RIPr5k9twyqy/jrr9xKXiJwiXJzY86kY4RboyERUS+Abd2sJGtL65gtA28nQTISplOSNFPEY2NcYSj+j3xoS78MRW0GXRCt6KDTBGClvCRPYgBhSCHk4MfMepk0Col97S/Kn7yvtrIlxcU2V5NREJkPeO6p7UjLohsqjHy+MJ/Q4laUoxTJ42MyaxHwwSC+aLrIWfFsht6yfsEPAFGSVOEl21PgwdkBJHB7Hdv6ysqYfRluct4MPxXiy9XhpdPy6iCKcQCRZA4/GjIpt/w+nv2QHLAzYcs0ZtVbFCTSe+BwTnr8wWukO6wcxB2tTnPQ6aPQpTvUloMa0ZAwhu8g3TH7cCroK7j9wJB9snTTISMZg5oElNPzMGlMMwsOrJnNvtzIa/6OBtK/RcSEz4KJcngy2WEe/f0bn2sgPDL8uN0WL88TVtRKoxAC5tPmY/Zg4FwJKfocGy4pjZZcgK3v4g2l0/Xbo0YBygFgYJH+0DyYusL6vVxIjrRBKcKukvFTNEQqZK/Czv8QbGyrwExArKGMsQ1Nj53yw3RTtFMkPKNfQX6vgl3GXGdb4muZ+8F9+fD6YumzqAO3o7YT4uK9D5Q8+ovvW6sMBWzqzf3fz4Is0+X0tRSjk1vBLx9urlUtFctfunRsA38mgWNh25Ih8/TFvPTV0VDOH+1mLfJMyuqp+vzODwFJ8uqzDANN1H6UknI8j2pN/gyaq0n7b+y7PmWP8SEb8sxVZ4YN40SAVi92z5r+ZntJGScLX9+Qca4xQ8F4c2bV1BWxYj5Okt2b/aT85uuPKy9M1q/lcn5DfFOlJBkUTHML0KMOYYyhS8h74+w+zMz+/LHIk2O0FWRPU8eDE4Gizt28W9use93cU805XlrAjaNBlKhUcIP8gtrxQc+obYoLp4tLO+Ts4o6XELXyg4PQVJz0YBNgMbMvp52HzANrrzvfXGHOA1BYIj4ToySwhHXDXfIaYC+t22x6i6K7UqxCbfyvs7Hb83e0P3SI9AHiXcBnzocskmugq6Wb8P1Lj2axVTLytF3Ur3P1Qs3Q8A7j/Rub4jtly6ic8d78EMPShMQXhKnkIANB0ZzfMV2EPFprR/ttDLUuTYAnAkMjnMRWhLQTu+HDT+W9+ZyD+96LSrvFXcrf01Gmk2J0QARahB7inTBJLthNV9s8SqhcFn3QD46ApiGPQ7FWOOVskgB/hj7vHwQNuJp4CTo8QqBeId2BeXGh4/jWUcUTUNfOHm4DbgssQ2pZisWeGUFHEgehwKM2RZJlo8J+fwId3f3bHUn7eConC/av/pJbEpMC+dPnNKpkNMHEPq3tDwxne70bk6xpzenANYIy81s0brTm8+wCE2AQHfaMvbxOC6ebeDyzTy9x7aP8RDQDaVM4Y7mC3I+Fy8N6ZAvPTayt4tz6HgaCdWZGRe6TJqGCMbZh9C/Bm5bpidsi3YJOo186gF4ivbUJ1U7UANKrELX+zj1ujDHbj5upXEqODUE1s1yzfaPAJGvD/zKkYCxtDlvg/G3sD8vB/SnvXsHfw85UKwQQZExDNjEQLvds+jvNS7872Hx9/lpAnmJiRBUU0tRHAzqSEJCXnoY8X3rISv68u46eL1DAHLJWxTm2AaRl0c2/5M+hfzJcntnXukTNCg+hcS7RYuI5VH8V7XSRIdBPRY3bjYVcvosPutAc7W+oYgzC1SLiNE7llWQBMLx+aR2fTXl8i6o6CjxuYxJYYp5hl7JedPPWwBQSbqHsK91e7lMc+rpWeh0eDrLcxHwTfIJWUse0vDTeILY7w1owe9P+B13wS6zL4uFCBjQWC6LxwXTi1LQkoSELr6mWO8idqU08nGUuRIKvlU2EUBMrA4bDgFGJDlqcCLu9rBHr3TwZHlpxEiKaczQ0VqU7JC7hcF9LvkcNrXwWSj9qg/3i0M0xHFFvE1BlbUWSo34QTq7DXo9ND2sm6tPb423MH+/BoYNXtH/0JYORA3oCAT8WjGLrJausbONc0Hyi/0Hy9+R6xGWEAoN68u8RSx5FvHHMUNutquScNY72AZtyu6KO42aVhlVpoj5eyA0sPUd9XruDqks8Qx+hQbri7IOidBwUnyP+gax/yc6KjGcausrxXHU+Qg+nUD4xytS6BjJ1DsJXMACvZe9oXYc6pjnBO3a+nEFvsdrRWILxpYuF4DP+AHaNfW0fTdNcvkrF2tn9GYCrU1FzkoMvg9DkkFP2AcAOkIxdq+ub5Mv2rKatmk9OMiFEQnSgRJwj0LJoETUfqA0HG2trX1uQ7JWOZ2AvYf2TsFRjpIoEfdMDUJIeYxzUnD+cDctgm7GOKoDnYqmTs3QIZBb0hANzMHDOI/0Aa/ubfivCjGQeFFCekktjmETNRLHzyxKA4MAu1c0my4I6/HvdHOd+IgBCckjTsNTbtJ0zgPLjcUDORQxRzAAb2BvRTFotZMAxA2XkS6O008QEBzOC8ZJuSFvQK5177bw+TMG9jQ82gkLEmQUvJJLDCnGTkZUwli066lj6FBvHvhJfLK7JADUz0fYVVXtTZ+GHIMCwEN3L61ga0nt7jGqt6B/FkibkFbP/M0nkS7SucgFOEVtjC589kc13upwKnG+OpHI1UJL+cX+DskY2Y57NzXqym8RNr90Sau3rPq9IsvRz+APAA7PEBnQZ8kVffz2uLDi6xTszzODttk5U4BBCvNVSRfcTliGkYhHCD584a1s5YBs1fgH+Jy0efsqC2hXiRc6zKJHjQwZSeP6123g6xXuvnLJ8+M0kT7ujEHRA5Bg0WtRHIySg+N5e/P+MowuXmp7rvY5bgMNCDzI0Y4kFzFW2QtjAFo7HXk49lSuJuZl7EV6toJmxMlIJM1lFNbXpQ8qQ5V9VLkTdINwEOu7bAvz0HyQRLpLXI530BhTgZJTCoiBnPhlciYxni/ZK6tvMbohAxNI4szrD9tUb1Tpi2rARnxquVty8OszaGnwEzxCgS3BXwfAEmzYWFVzShiB7cEpvQbyWGtzq1Mu8XVxfGgCBMqcEV/Qrc/rUtpOzgGkdbpwtrGoc5qvv2pkMj6Dzc+Nj/6Me0ycUdbUDgpvuc7voW44MZh0b/DgbcI2R4cRVBLWDU3Sx2yNTFQyCXH0ECcvaZJ1yPrJcPVq5Pqy0Y0ao5MNB8oHe9E3UWx/MKuGJyWvCneydUxvNjSyRefTtNYv0DwKTEyoDmcE9HZibaMrQW8rM+tzTXQ4fmhLnBMA1GIPowsEzHHKnr8gMTGp56wZc2X1QrJatnGEB5GIVqCRxwsLi6INdwUud/uui6rTLRZyiPSINuy+wQe0TmxV8ZarTdLGfoQ4gVx6he+1ZVzoG3YuPeN60ft4RwuWuBv4kgnFRoQZyDgBvPIYpxNoLzGduFF4C/s7xX9OgpOB1aCSZcs+Q4x8p/hBN1av5GTsp4d4c0T9hfqCLIWJVS1f99UuQQx5hX3LPxH0hqXZJElyb74DwIkB9UfcUZxXvdN1i6bIL8KCeF0xEW7Q7fQvL/G/NW3AMcx1T4FPB9Hq0onOUkdx/aq0gbFrL0dseO3H9QO7roHzycpQSlPJFB/PdAlehR/+ErS57i7sBe3GMni1w7qaxJsOvxHCEl4RUk5MS3mFC7jHb2fuoe+Pr4TxtTS0u8BJN5IEUqIQZY7sTY5MDMRU9mfso6vkL/Vz1HPjMxd758sPFN0VShAryqgL7Q1dA3szqGtLqxvvmHUINSW0sP4qy/bTk1XNEozLXch/iTYDJDXN6v+nry3cd0e5IPW/u5PME5hIV++OYAgwCt8Lqr97b/bqb61a8V8x9rI6uqrH2g06TPuR7JbpUrRHg/0p+RX7EvVrZogjhDIXP5dB0IA0w/QQ4FyxV4DIlMJ3xDW/+DS5qzpo/C4f9G02r7uKBqEOsNC7UbESY5CQCoL/nTYiM8LyGCybqsMvhvewwREH4wpDz+wVt1NtTTJIWAFTONzzHi3E6zrutrLXtXm9HYhbDksRExMdkbXOBIoeQWZ3TjJHr1usMKzGMYk3VT8ORv7MKFGp1MkSdw1HSK9BMLm7s3MtFKserq6x0bYOfuDG6Yw1Ud7USBGSDuBKKwBA+Mz0lq6KayQtufETNgL/JYaIS3KRN5TRUrvOYonugeN547QhLoNr0a2zsJ81tz32RatLm1F8k7oSRxBpSqZB4HsKdTBuXCxLbdbvRDU9fcCEckpBEcdT4VIIUTtLs0KifHk2LS66LC6t468Js9P8jUOXCazQphPVku9RJQyMBJ+9VTbKcBYs/Czl7nuzW/s4gbVI8A/DkvBTVNKxDP+Fk3/Hd9VwTu44LPbs8DKn+fz/QEf6z3bRrBMS08WOZ0bFAZ55tfF77mEtK6xYMRd4YP4WBa6NnBG70y3TsY+4yT3C1js5s2KvdaygrDNwE/X9+8TEqkuBj+wTqRR/T9eLbMWpfG91BPFfLJtrcG+Ks9J5IQKDCiXN/JLDFQWRIozLyDd+xjcYcqltjasnbiPye3bSP0xH3YzgUVpUn5LpjleJjoJy+ZHzuS8Wa8asZvB79X18CcS3SykQAJPUU5jQZQvKRMq8rTYj8GssLixtrolycrn/AfmHgE6lE63TENGDTwtHZr8j+ZfyTiyJbPltmW9fduU/Z8TLy/nR+1LYkvHRgMqjAXZ7qbY1r/JsXSs3LQ21IX0cgbsHFk7XFD+VbNHbSv4F9sGQ+NkwPuy/7BDuDHIdtc/9BUhmzmIPO5J8VMIQzEn7wii6XHYbMdSqLyieMUc4N/lAPrWIRVJtlxSTKAubi6INagP7tCksdK2m8KOwhy7oMca96YobzpRPWtI8k16QVAtABWy9CzR1bNFrMG+9cybxjDPH/74NsBTDEhFMew6YFGAOqL9Ks5ovS3D88hYt2erUszu/NIasTJGQ/BDtEi7TB43sxZL+e7TgLnPu3m9yLRqv6jeBgAoItw730OrSppRm0HpIcELJvfT1CS00agls+LIHtp94Qr2YiXhT79X0ElsO6kxYSfXDgPoy8YqsA6knLNh1pfoZOgA8zkdnV7+fFBMNA2pE4g8ETFl4pyNtYRPzJT4XM9squXWkCndXNJYITeNLx5GN0DCFJPxf9gstn6iLrGuzPbcp90s42MPz1MfbaRJqidULkw6OyLv7Be+/a70tQy5i7y104Xvuv0WExk+ImSqY7E6yBQZG0kpXAE0uaqUc6b1zfjba8h/zUMIqD79Su9InEbxQGU75yTp+hbfTM/Ms6qlT7bPx1LVAPF9D/QoaESWUohMsEVqOPwUvvKS45vR+7RmpLOrWcXI5f37TwgcIgJJS1t4T20+3i9SF9P30tzZx7e4Iq7RqOe5Z+c8DbsRoRXvOPti/2g2QsQR8QO3DV74WL8GmCig8MOb3BjbZeJ3DoM9sE6nTtVI1j4KNF0aFvKR2V7McbLmo9C0p8v03575+Q50KP5NeVxDSUk6vDI4Gvb5T90IwB6wgrPntr++MdzB/SET+CqnRshTBlEYRZsumBSo/hzjecEdrw+xSbfMwYDZffYIEi8v9UU0TrdPUEr0MwAW4f0c5P7GVLQ9rvGx78Lo2bjwpw4MLnNCE094Ul1HozY6IBH/KeLHzV+3BqwZtCC/KtE88twNPyP8QKRSI065SaY+yx+iA/bsMsy1tcq0/bIitorP1exuBdUl4D+lRlpM0FH2QyIoPAn25ZTM+MenwC2qVKPJwhr0mBbKHRwc1jQUZaxyeEF4CPD9Zwrl+CzCq5IWmZrJEuUU2B7b2Q4/RsNUC0eVPrFFikXLIfDqg9By0+XHPKm9n5C6neLP/t0J7xjWPNlbRVkbROsxwiBXCn/qpMgvuJ+0Ta55swbOV+xsCC0i0jGFQ05afFcQO6Qj8AxY71Lb0MezqzakWrZAyQLhg/8REg4mgknnWx1PGz+FMWMaPf+w4BPAGbOYuHy0wK8Xy0T7LBt3JJcrdEE7YCdl3Dn/BEX54gI160u0oZHooAjNVOb8257cTBLCU0lfJ0AxMTpCAk2PKSLjsLjGyDrb/rqZkc+iqOSEFsMXgAm+I0xi7nnfSLISqxKtItgFU8RnmPClsc2/0aK1FMEyBjY/60CGMJQ6KFk1YT427/kG5gTwudynqzmVqa2702Tlj+Sl9vosyFnlVCo9DTy+R1U8+gkg0hDF8dHcw2yj6Z9YxLb2ThD/CY8XJU70blRXgDIdIaUefBdv7Zewt5+aubjFP8GIyAPd2gFDMmhMf0qYR/tEkDyLN8ckfPCgvWSz6cBTxWO6w6/OwTf5JC61OsMzYD29UOVV7kYpJhz9ht4KzhHBrrhythiy97Yi2+MOtS3LM6w19kCHVnlglUH8CBrm2OHI3ITGi6kjm6mvP92t/IwEtBMONLZPWlrYU7Y+cyhQFsD5CdZ1wtS7ObC2qSi4YdU1+OwWviTOLe9HlWEtW7g7gBtOA9z0vuYdxySjuJ36tb7PS+JH8k0E2yPoS9Fdi1GsQI415CWjDwHydM2Ts/etd7B7uInJstuk8QoTKjSoSm9UY0zrPjw6xCtwCInj4sXDsy624rkwsli8zN5E/9Ud8zk1Qd1DC1OrUrk5yh1o/CbauM7tyFKwXqADrzzLcuvuCI8VViKpRBlht1raQbcqnRYgBjTx28znqjKlFLPuv2XNi+Dr9vkVgjumUTNRQEo3Qlc0HCOYCSjhk72ss3622bX0tw3DutlgANInfzmOPn9KK1RDTfA5eh0L+9bgENATvP6ra62pt2rFruDFAg8cBjGoRR5Qu1GMThM72Rl//6vqj8/luHivEazSsoDJwuJg+d4WsTPEQzpP7FYCTeg2+SFhCCvpFNGTvi2t2qk7t9PG+9kg+KAVJSxpQ+RT5FKdSmo/YCf2CDDwjNYfvKqvWK8fshLAJ9rD8hMM0yuIQ8lMolKFUZJACCpnE+T0L9ZfwzC1jqodsLTAPtHv6YELOSbhOQ9NUlX9TiNFbzRiFpD4guEOyCOzba7ksPK2TssU6A0BARyvOCZJvk8tVP1LITUcHr8FuOUmyz+8ea8bqqa1yMc822v4BxgFLoJB/VKtVHlKyD5yKb0JrO6j12S+3a4WrmyxR7yw1R7xxgiyJUNAC0xLUctSDEU9LfUW2/vu25nFnLc7q3Wr4br0y/zg7QB6HsUywkaaVPZRCEj9OpYhqwI16mPRZbjfrcOulbGjv8HagPR1DYcrW0JQTAZTylFHQB0qkhRn9k/XKMR+tZCpFK0tvFzMgOSxBKcexTM4SkdVN1CXR445Jh94A7rq6MyztLav+LHeshC+yNW+8t8UHjLWPBhDTVPqWU5Hlil8DNjxTN/9zte1d6Jdp7K62dD66m0BLRKvLIhNY10CV1tERy9OIW4TlPQAzTSzXqsUr5y4FsOd0nfqhQQ1JB9KhltuTMQ7bD4eRNwyCv0BwLS0jNH/z4anfpO+svLwWx0MF5UKvTLAaCNrWElkLdohoh7yBUfPzK8dvBe+CqmPqtrJuvC6ER4b+BysQRptr2NVPOQoTCNQGHb988sLpqeuhcGfuNCxusg/7koTvCwHNPc+tFgYYZhI4yubGncH0+xYzzm0E6hgr/e5uMHN1OryOg09JkBEkVfeU3hG1z1fOIYq4gRUzlCxbcCWzr62LpmVp3zikxz5KFMS2BhlU/9/xmayKrUKrxF2GbP4krefkuqmJMY/x8O/mM7+8iIeqTzKRBRIJVIjUc4/vC7XGWX1N9LbwH+4ILKMr6Cw9b+q5A0HIhZpJ8ZFJ1meVZNIDTs5LpkcM/hsyuu2V78NvlerqaUIvaznPxC+IOwgyDJcVollz1QoOi8hKwuv+WPjUcUgsDKo66REsdnTFvF++KkC6SO4T7pqKV6gNRgj1jVqNykDMcGRpuq1gsrrwEKjMqdM3jUUyCK4IyA0Tk21Xb5YP0CtKF0Xz/mS1dXFGMPWsnmf2qSzxLTsPQYwCUYSoztKZuFmXEm9MR8oLSL9EJvoeroGp4etDrgNwJ7DWcUY3ggWOERYSEQ5CDuZUoJlKk6BDSneQuNq7yLSs6AmjHuludRK7lXmNukeFxxNn1+mU7lC9jzTQpI6Lg9r3MzHQMf4vieuc6PTrbfRWPU5ADAKdy/JVnVdwEyEPyE/hD5JIinpoMGuxifQYblzm2SdVMPA80gMXwjLEDw8JWU6ZxNP7zXXJlgiGBU57HG9Qqovrzy4Mr2au9DAm+RVGYQ0qjN+OR5Qx2IrXFc3OQ+JBUkHg+avrwOZx6zExezHN7vSxDb7ODfCQ04yFTj9VYpl7FOdKoADvfMb7U7Vn7aZpw2keKoFxQDk+fNuAnwa+zYHWORou1DPMmQ0NTSHFlHu+MbLr/e4bL6NqeGoXMqN5rL8BBpyL01CvlfgVMxDdUbrQhYbLe6p1mvMs8e0uQ2dlJeCv+frj/lh+/gNpTSwXBxoGk8mNEw0czkKIBnu98R+toW75b2crv6h+bdw5TYGJBWeIiA1Z00GYphd60HyKRUcOwqw8WLThbGToZSuXb3Tu3y/ldq1A6goITnKN6JCEmDjZVhBwhpRDxQLD/Ovxfaet6GWwC7GGbDstgfrQR7YL6IshDOpUrFs/1kOLi4bNBs3BOjXRrhMsc21n7MXqfexIt37BXwOuRMuM9FXK2TuVlQ/cTC9LCkb8/GMzYS9f7LiqrywarpNwcvSlfIXFnc1akUtQwBHgVogXVc+cBhf/VPrY+C9zF+qCJtYq+i8OMyO5GP10gV6LFxO7VRdVY1Paz5VOmA0EQrh21/McMP4tg6xxKfLqJvKo+0B+loNUy47RMhQSlmkUx5HNzuRIvMAd+oy2Yi/WKpEp8iuwbnQybPduvU6FV8zUEOzS0RWBFjFST43ISNPB0rrlNT9vQuuZ6xurvGxlcRy4WT5IhF+LJ9A4k34WE1X4EfhODwnmgkF7OnWTMHerleqYazIsYnE6d2i8k4MCCynQBJLoFVRV5pLPj1nKTcLwvBO3IfCMK/IrI6rda3XwV/Z4ut6CuQo8DbZSPJaIVVJSixF0ywnDWr7NeGwwAq2crBipP2sQsI3zj3l8wiSHt8wKUvAVeVRM1LZSB4vFhgDAl/jNcoQvOqteKWZrBa6tchh4P398RY8LdBDCVIgVQlU00tKN9cfAwrp7TjRf794sj6nBKlVtYbCH9el9BwOVSTNPSxPZlNOVVtR7j75KOgUlPiz2f7F6rdUq0mp064rtzDOwe/hBTEWKzBGSDNX8V5hUTk4RzO8Ln8JEd6lxr+6mro9uLSgT50Jy4Xzo/lsAyceBD/jXwJjukWIPOJJxTlFDxTujtY6xnu+oa/JoN+qccFi0OblYQdtIP8us0EGVn1fq1jMQo8qMx+4FV/0jsQhrdi067sNskOnTLKz2p0IbRkTF60qpVJaZyRdokeINgouUCKQAR/ZocRVu/2spai3sTG4ZsXh4bf9oxlUNsg+RULMW/lnUEytLpkguxHHAH3h0rHqoWG5dr0AqhOuLsuE7r4RvCJmJ4Q/rVtiW2NRzU1ZOhgX+/0K8Ufhi8Y4pMiTWavjzeDOkb+D1ZwRXz+oQug1zD4VXihsOkzfHPsM2w6y9jLKkq4wrAWy/rGErQ258t0DAPwL6RruOoRT8FgrVbVKGkB7N1ccRfRq4FfVZbosp3yo06sTt3nLkdbE62MYkjMvNrtE7FaiWB9WtEZwIm0LLQX97EDKprOio/6iMbmZxRy+zsiM8twfmTq/PNM11EW9Z0lq4j5cE+gIiwoS97vMwKa6n+mx/rudtF26pdqx+20QICaJPnZP4VW7UYRJA0dnPBMXie1E3pDZwcUZq8Cb6aL9v2zV2dPO4bYPoTNWPsFFrUxMVW9ekUodIvIT8w/47XLH6bZ+r/qwqrQkqi+xeN+mA20HCRNkMXBObmKfXptDPzd2PhQxWQnf41vKzrzqu024hql7oyy1NtX09nwQcBl8His5vWEicBFXSTRPJfErhSw5BEbDWac3ur/HxrlvpOCfmsKO+soQHQuCHBs+SVMwYIlcYUV0OVgzNRZz+Bnq688nsgas/KxdrI+5ZcgE02Hv4BI1JUo2BU/7Vx9QYksZSeE+gyfy/5XZUdB116nFVZ1wjr2sYdYO5mre6+MfEYVKQlqfQyM9w1IjXlRLwSPg/tn0C/Lc0NyqwKeVsF6wfLYqwmXV1vuvGCscti4aUv9bmVP8TipCMDLXJmgJ1eI90yXJfLHjpUasfbGIuzHQTeS7/O8cLzIkO2hKX1r9WGZL2zzcKqIUFv6h5NjJ2riAsRiqaKgLtY/FONXa7XgJzB5INmZKQU6MUWdYyEt1NFUl6w1y71bezcp2sDerpq8cqhK0lM4T3iPxdBLEJ0U29U0rV5tPV1BuSzoyjBt+CdTsgtOGxbi0tafRqsOx1rjXzN7mmvrTEQ0uQj+5SSZXAljaSrBCOzV8F+L/Ou7m0M67WbeLq5WkjrTfwRzL/ufPBMkT4SyJRtRL6VHNWmhOvjt8Mb8aXfu35xvUtbuBsCqu4anrr5bC+NO45tIBjhvHLuJBZ1EUVUZSF0/iQy0tuhT9/WjmB9M6wtCtaaQzr1W5Qb7jzy7of//iHn82uTpGR79bW1qrTbNBpyfcECYLPfNEyIyzTLIbspy3k7QoqmDExPsQFQ4QgRePNc1cs3C5VYotGTHWSZU3uPv3y5nF/dU10Q6nqIjnpTDYcOJE1yLnDhHdOq9M2EA+P8hcqmSAQA0kQh4rEH32SdXys9axRsKns5ebi6xs0i3sBv2RBXQSazmTXWpaz0gaRhZHI0EbMAEMvOXY1szSSMJIrvSkA6WUs5DOKd+a56YA3B/zMrhGKFZZUBtLhk+AQswp/hao+lzdlNWJyHCquKGGrzC37L/SzlnciPoxJBEyyS5vQfRb3V/QUOg6IiknI08V4+6ly5nDeL8vrsykZ60hu6fKKNpd6bkJvzHwOcwx40bvY/ZgZkhdLAkbHCCWFcLdzbFQuvvG47fMo5GepreF5uj4UuzO/VEyp1KBUNVFVkVwU5VZFTvhDZT8FPyd6D/HnK+Vphys+7gUux+8e9Tv8/kGux5GOHE/2kY0WFZZdU2bQncp7Q3jByb5GdGVtlWyXq8ps0+47rEEvYLlQgQnD0YeNTFeQw9ZkWCST6w+LjkWLhgZ7//x33nE3b7hvlGwY6X6rB28udMG8CL7OgSyJgFHSU2IT1JRZ0upTKpFuh+g/3v7ae2gzby2SqnrqIe62r5bsrLCKfAOD+8YVyC8LrlLfmcRYPQ/CDMCO7M1VBeO7GvJMsSm0R/Fhp8rlOKubtGc6Y7rouPXAcw/Olq0SS49WEJbVHNiR0QwCfzzIP/R82bSDrJxneyn3cD8vI+zaM0P7Sf9yBUjL706VErKU3RKc04vWB47mhGtBXP+I+rW04C0Tp1NrTTCBrj7sVfH1ePLA4kgqSXwJ+NCql3nXhVRjz2ELEEqdyQ9AO/St8FLxcDCsrOjn7KcTr+75ynp+d9T/FgsqksrUIQ9LDiQWjlt1kIXEJUDnwfnAmjk4a0Nlk+0esqmuU2qI7Kq0dkFGyM4FB4Sojh7XU5qhVxPNJYi3j9ZRb8Nj9R9wtXNwN1ExReLNYaJxbnsitooyTHi2x/gUg1HVyF4NctuE3VXQmYX5hYfKWAa7NzSrIG5jNP9vm2YM5r3wNfiYugi4Gn1CS88T5E86jPrUGdmdFvqOnoZChYJIUAB2McZtjHBpr4Cswyoaqb0wafjh+pz9FcVHSugNdtLH1h/UTdP50eiNR4v7CA29qzaXNuwzByz+qoCqbKutMPly6DMgOw9FLQe/yXpO5BMwVe1XPpL9TdYNa4smRF+95HfmsUSuxq/erjFpzmkQ7XE1JvzCPqi870ObERXWgJLYkBTR8pVGVejMo8GhgOzBzrk/LzBtJa3hLe3r5CiTbSb5Ib1kubN9/MoqEpqUD5BmzdQVBBuNEnsEiUKDhKTBOzjArhao0a7Vsc4qvKftr0a2Wbq/PqaBvYe6EGFSIRAEVJ0YKVM1TQaKB0bWBLs/OnMLrPfwzjGT60uom+oErzD4PnyfOvP/SMocT0MR59SX00vRiFOzkidMcMe/QSl5JLbhtvfw3en46COqqy8bMxjzM/PCPACGOYpfTAzPMZHnlLmWsJQazulMGsjbwj89fvoUs2Dtyy0Va6orA25Z7xAv6PcMfspB28Zzy9xOmtKP1pPUlhITkk+OTwgHxUiAZLhJtNrx56xJ675tPStI7NPytbVzeWaCCEbOx8SNeRLolNHWmZSeDkPNqA+wCXx+0HjvtTVzwbPLbTFlRel/cTyyh3OH9wl7F4NBzHxNFA2G07BVt1MWE/5S/0zmx/UC4Tyreo340e+FaL8q9K4y7p6vua7YMWy8i0YFxgrHOYx0kO1Wf1leUxSM+I6IDvqIj8It+fWzJrQxtCRsX6e5qq5uPrE/tFq1S3p8BWJKdMh1zIuU/Nc1VYPRsUyrjsHRZ0ZBONO2wrkmtkAwYGfjJOntp/UssVDvD/Ys/wAHEgurygzLuxRYGIpUZ9Gs0CnMN4n5Rh88+jc59p+xw2xr6+hrKyrer/CymrIVd/YBGEYnCWGMeI1pkkfZjteGjyHLgU0sDEnHAPyaMsMyUjXAcmupnmZ2ahPwiHW09g61+PwmBtIMMM0LEDkSAdOgFfOUL46BjLiJ7gIgPG/6OTVYcNgueOnRqKSuFDGYMKKzGnhM/fvGSozay+tM+hK0FRFV5xZSEFRIF0bPhr/B8bxi80/p3uvBc+MxaOj9pr9sgvj1Ajc+zXnqgyfR0RZH00KQOw/dFVDXEo1JRThGMkOt+YCzETFH8ZGxgerWYvGqMPkFuvTzALOmfo+OB1WrDWcF90/bnXWbfFBviABGh4rqSYc8FXExclYzbG6dq41qLesTcVxzufImOZNEAIYwxx8MHo/FFYsZdFJmjP0RVtHCic2CwfxFd8d5vrXT6n5nd63b79MuXa4Bb4a4ocRChHQ/+4eqk0uXN9UJ0HJNhxR513sLkIAAP2Z/JHt29cdtZWi2LVUvwyvYLKdx+bTk+c8AqAOUB+QOS5ASEL4VdtZ50caQpQ6UCGGE68KUe3w1FfK6bYhsGC+7bVMoUKxRNO95rHzwvjj/7gnz1BmSm45H0eqVjpVB0m1KwIUOxgADUnhv8rmzdjBnbBgqt+m5rVD0EfNlcYa68YVxB+wIh0txjyWWOtjpEj0NSpCyT/jJX8O1fNF3afdltXytWGns6wjrnm7J82SxbXH4PERF4MfoiL8Joo56GEAbPdC0Cq1PsFKzTV2C7Pf69lJ8tLi5qwVmcOrJ7z/xBDB47bFz6n+kQ0QDtsidzXpQAJUj1ZNR9BI1Es/NrogGhOa/U7w/ud5xomo2rNCw0q5RK3VqRW6murxCaH2jO+CGGhEBVo/VAI1gzPRXndn+TqzF+8IGQTPCXzxB7yBr5LCELoNrKmxj7USw7fb297X57MU5S/tJWkqpELaVt9lt1f1LQQpPEa2OykM1Oi/1rvYsOMwyA+aMZ03vJTC/MAyx1fPTet7DrsURxllOCxLyUXoSRBS4E/eTXE8YRhRDt8XXwDG1xPFxrtguYPBWbVLoKGvw8vw00XjsPplAaAORy2YP9xJEFXwSVE74Es6V3I8xBp5A0j09Pio9UbJNqM8q866Mb0MvQSxMa+J1Tv5Pf5MCUYZjR/GOg1b1FTZRn5Ij0CvPgNGZyep+XjyEPJU3vfP+rtdol2rKsCXtyK0NsdR02LlnQUFEaoU3S62QZZEGVOCVltCK0F/SuE1phliCRf1WOv76QjJV6OrrbLEm7y2rByqA7w76J8DZ/Bj7AEdKUh6S7k/IjcwRdBmx2DkLI8WoCanI04HtOIewq3GFtt+wACY6aCPvK7Jz9DgyHrLiv69KOAcLhe+MdFJTF3IXsE9kDHNTYhMiCOSBpv3l+/s8DrY3qudqZPBWru2rO2xjbwA1DHx1PCG8JAXeDg9OFs8xUY7SqlXpFskPsoovC3cJLAMxfiU3EbGb82WzQiyJKO/qpO1Lcok2RnO69S+AjEhdCLvKLczkENJXSVayz1VQTJPcDbjGEUOJQH590/nQbsvq/LKJcy1pWubH7Hszqjq0uPvz3X0+zBdOsYrsTEJQfdWmmTtS8Ixhzr+NzEahwvjAF/jRtChyT+9krwJu8Oh9KDryB7am9Dw2KXshAjoLWUyOyIQOs1aL1TESpJLkD53N2UzDxV5/vYAuOvExyrCecKntS+z+q+sqBq9T9aE05/cBP4hDYEUWSylO6ND7FIaTZo8dEy0WeA6bxj2DNMGnAXx9wbIQqcKuzXOi75Nqemeq6v/2On17+L92Zz8qCRxP1tHGzKnK+BSmGwjV/04ayLvGzkwcinm7ODFBtFk2cfQu7nqldOapMvW1VG6cL+n3sD7zxfxGhYQCC02VVxRkET0S+ZLUEeXQ9wqWRUyGOcF+dwL0wjZ/cjeta+o2aF5urTUSsH8sezUg/3ZEY0ZDw72FBdKJWjtThg8ej8JRR5U0EwbGZD5iQQ+AgjuE9oJuHyk47r9xw22iq7wstm7n97F/Q/3e/bnEuQp8D38UuNJpTkpSa1W4k2HRN4rOAnsCewSYfZh1ubFbbQ3uS3KBLeYoL6wAcOTz6npnPD26F0EWypgNS8+TkR/OwFIsmENVWA4HDF1KOYbQBfS/VLZd9Se1C2+CLWcuFOtb6yxvPzC4dC36FTntutmF2Y0ii60MAU7/kiZY+RdFzLRK8ZGCz1XGUb9O+eu6GzyP9CYpAesbsAqu7a0VLEotHbUaPGW6k3vMxHWJNYutUBTQl1An1KTVgJGOUJ7OPsfEh2qGdb1ktw82jTNvsNmwKSpnqIovAfCVLuGzW/bMOIT/w8U6xjuLrw6JDJGSNRkqFP2O1E5UDaoO902EASt3JXuivi/2ZK6TacqqAzEgMiKqe6pCs303tPobPmP/5wOGC4LOKE4Nk36UpFDFUjGTwBCeTZqJZcGzgJ0Ch7rGcfrwNm8pr0PxaSu+ZhRtrPYXNr+2uvfnOv/FwM9pS3uHsk3PVPJYARdQjsvJ+xA2ErmJbUDw/Lk57PsO+W/vc+pALY/tq60CsBUuwq5TNR26Knx/QpbFoARrCrxSQxMTk3eSzw9x0etWAg+fR5/F1MJP/8H/tbd67uowTPDb7SUt1O1iahKu2fVFNYa4Wb3D/13Dvou3TWsNQ5HYUvYR8pUwFE8OSgzLDAcGrwNRwSU5mrV3tXfxG62vroisaSoQrtMxNbB0tVl5mPpGwPtHB0dyCoUQklB8kUYV0BOxUCWRmo86ybVIjcU0PY17t7mXM2AwxvDQLHqq3e5hrYStfTIG9JF1+LxIQOcBqcdVzF/Mf5AXlEUSJ5IiFKUQ3g3pDhKI0INCgtF9/rd09uxzZi2kLrEuTKqwbNcvwu5QslK4b/hCfG2DrETpB3SOY4+Jz22T3pRfUWlS0dHdTAyK8YkJQl7+zP2eNzpy87MH701ryK3lLQfrpu+BcmtyPTdRPJj9QoKzSKxJDYxp0frRcJGy1QZTGJAhUUlN9cgBR8DD8nyJe4Q4/3HjsSqwo+uobDJu5Cx8LfzzvDPOtjC9WL/cwV7IbYuhy+KQ/1NvEXITU9T3kElPHo8gCVYFJ4Rm/vO5LrhYNKUvf++g7rtqxq07ryMtjXEB9kk2uTobQR+CqUVMjCqNQg5gE0rThhGI1ENTEE4IzmIMOcU2g1OBbXn1t0m297BkLjKv3ixkquwvEK8/Lqb0ozeTuFz+g4NpQ+zJOA4NjfIQURSoEpOR1dQoENNM5QzSyQ1DBIHGfmA3pLYv9HQurC3J7wErjmvb7/ZvGfCrdpI4SLpPwVtEFsVZS+zOgE4CEr4UX1FZ0vRTS454jP1MKUW3QneBenqFdvp2oXFS7eKvruz5Krouve7frjmz8XcndyT9XwKIQsCH7M1VzTvPcZPwElAR0dRj0V0NmQ4ISrUESAN7QDa5cDd89eQwaG6o71YsEWu6LtjudS7b9JF2sLeQflSCF8LzyK4M5IyD0IkT0RGEkt7UvdAnzn+O5AlUhQVE4z8+eYU5njUDMCHw/u6xKu4tsK6iLJWwhPQkc815rv7+Ph0ChUoHSziMyFEgUBbR3dcpU52NhI+MkHKL7Yg2whi86H8hflAz5y3fsKdxeK+E7QuokCtqtMy10nC/8/C8IkFZRQEFGYSADS5UTNDTzsWTs5RSEs9RjU0Cy7VNDwZXvYx+/X7KeEgzUi9/bVsyH/Fp6IapHLDRszIzlPUM9UU8BcSdA5OEJkvtTksNxZHv00zTfZTP0LmLUdCXEhuHd3+O/8GABf9R+NktPSwRNQ0z/CpDqCyrizFite2ykm9qOESCvQFCQJAGNMtDz/2Q+01N0A1YS1YMzWxMwc/7DpbLesKkuwx+8sEgt95wE68Wrolw3nEjahVo+3APsq0ySvZZt7D51gHURNzEj8pzTcYNzFIs06xQOxJ51TUQhw2Hy7hG5IeqR9v9hbWNtwD3z3Z58gyoRyaXMZo1KC2eKmYtH3TAv2Y+nXbOPFVJoI12y4ZLtkzTk1gX4ZGBjWATCVSgDMFHvkX/BZPF3j6a82UzWzlZtXItJuqwqzkuuHHzrdysJ/PzuCk2mTsNwbIDq8ZXiBZJThGR1uBQIozj0uTVsxQV0ErIQsagy6SHon4Ze3l40fV8tV/yYu0FbomuQiom7WjynvE5cZG1LnaPfU6ES8Lng2HJswv1DyAVCBMzDrNQ6pKWk62UoAx0AlSFVonJhVr9gfSwL9t3ATpx73kn/OozbXfxgnMw7R1tvTbauoy61sAAQ2yDtUgWDDaON1NQlCZNyw7ZFeyVxFD2y5jGqkcAC32FeDojNyN38DZx9XQw6ioPK6Hvx+4jbepw6O/yMVM4WjtVPWQBwsI8g3RM9NFJzj0OKtByUmgXetU1CxkKlpC1TnxHjoDJ+yf+Q4IDN2Bsfq6fMuNysm8bZ6ynj7Mq9nLv/7ARdgs78wIvgg3/eEaEDxpNoo2MUU9RzFO2FBjPUc9hUoyNAMbqhtXEdABcPv74mzORNVyzPO3ELyGuVaqRLSqwMG/NM1x05HLE+ZnCxsKuQYBF4QjHzr9UOdBTTM0SVdVH0tJSEE9ZyhLJxAmHRN6Cfb8uNoUz8/hJtz+vWarCKeat8rR3MNhop6yRd0S6xrpDOe+7AUR3TCPI4AdhDuWStxG0UnQRXtGcVO0Q8so0jBaMu8UNgZdAaXw3eim237BHsZy0qm2QaLesknAU8fZx82zeLy/70EDW/Ki8qgAyRtEQ/pCEyYiL45KllQ4XONOIC1vL7RF1zzPKI0SGPRO9RcHuu/izdzFub0/vbfIcLpTqRC2DLu1uf7Qm92O1iPidfF+/QEepixoGMYdvz2OTf5UNU1BMlE5kVmyUh02VCRYEoMViSeZDW3ehtMC2VfdcN1tuvaXHLHb0BHDRq/uq9u7HuTO78DQkdeQCVcfwRmpFDwZoT7OX2ZDCiYjQxBgvlcIQaYkNyHjP2o5dARG7yr68/S56H3ZVcA3u/rD6rdJsm/CJruJppa259bY43ji19VF2GALyTdzIcQCVhghRFxgvlc2LTUl8lZ7a0RF6iXJIOUmIjKlHhXyD+pj9RnjNtLxz+6/m7cIvVGysrEzxTe+mbGex7TaVd+27djwpvLKE+QoSh8KKbg7PzwXR95QAUTJRVhPmj5zNts88ymgFxoYhAfU9WH1EOOsznjTQ8rptSe7sLyRsU25trzctf3JPNwJ03jbpfNg/d4NFRwcFFEhN0I1RG89fkUWQ4tHxFgjSmswpjOGM28orSSRDI/u7fXC+qngIc/CxBC5SMU9yqiuu6cPu+y/McaRzz3HwdHU8hv51fiYDQ0WYhtiMyE72jcMRlhHQz9bUPNUczwKNiI5Yy5SKxofM/+0+mMDoOsH1rvUW8n7wkXE6bFmrZXD775irV67Ns1i1n/jVt7g3OUDph5CEiAURiYTMhFGXEzmOZI/t1LXSMBBHkcKNyspXCpZG7UPKRHL91jcSuOg4qDP3sZfuMyt7sDlxNCt6rDnwYPD9c542oTXoukmASj8gwQUI1krEizENFoyDUB/XnlTxTN1N5NHl05kSuAi8v9fGO8vPhHU6CvSI9KX7a7rDLeNn5G3HsY7xsi7OaVbsIbWoNmsz/Xem+lS8lIKeBKmFMAqWjBWKbk/X1FyRhhF1kayP1tKqUzWL8okKCu3Gw4PWwvr9BfnY+jn1NfHA9PaxjGuIrG4uIu+n8lNuZan4MnG7kzo7N0u4c3zkx//MKQSvA/BNYRK7ExORkU1qUD7W1BNyTTqOkI47if9IRwUlwixDN31INNu2ynoPtJgvVKy5q/PxnjMfqsipuPDLdCo09zX5dFY48UFZAYsAp4ZUSVEJww4AD3nPFxNlUpUO7RJIVL8Pf01wTKLJLQlyyAmAmP3jfuk6OXbzNuqyFa9hcSXugu0yL/otrysf8G2zRfLYNUp2AbcVf0CDxkBYAjPHrYqXD0kQjAurzYNVKNTGkldQjcyjTiwTKM2uxO+ELUQQgwWCM3oWs0o3HThzchlvTa4tbFuv8fBA67jtdbJ8cSMyS3cjeAa7Gj7vfZ9BZIp6ykqHPgqsDwFSttTyj4ML79MJl2RRKoxoygnJto1oyun/hTxpf6A+DfsfNpdvTTABNYqx0OwBrFAsUO7Fc7ZwHuyH8wp4kDk+Ot77HzzCRhFJnESLBuQOKNCD0YUP+EypEpxY6tImC36Nf49YT8tM4YLLv06F30TOvC23drTX9My4BbPUa6fs3bAnrmOvUm+XLEmvu/TG9NT2prmweIU9AwUehIWDaAf7itQOE1HvTkQMhBPR1lORec9OTtwO09IqDeyEBUS+iFEEcP7GesN25LkK+lox2i1S8OlwaW6GryjsE6ySMn5xrK9LtHC3Uff9u8a9pz2uhEoIv4Y3CJxMwU2fkWqTVM6aDsOUElOXEd0P1onJiiQP9QuKQni/XX85ADPA6jfQrtUzMzeeM2guvCrCKoWxqLNL7Akr7/IANDi1f7dD9z67TMFKP0/AtAk+iyzIskpujNjRZ5ZIEVfKntBmFqNT1E9uCcqHW81HjupEoX5M/pM9v/5ufMMz36+ksv2yRvGc8VLrcKjqb/qyivBXcFbvrTGq+gR8WrhYu/vBNEJTxliJKkgeDDwPo40Jj1aUipK4kDTRGE+gELZS2EyFhu6JXIkghNtC+r3ieca8VXpGM8tzurMCbsbvS7Cd7Wot6++7bQmvBbQU85tzRXbJOOi7+oAKgJlBfAX7CN9KS8y1zYjPNBDAkU+RwlLM0bpQa1AWToNNyEyrSGAGMYWYglA/qH4ROce3U3fy9GAxJTHar+9tdC9E7tls2m/08Flu3rMAdgz0lLg/u/E7rb+cRBCDPkXriyOKQwwrEIUPeI8uk2FRzdATkwuRBg25j35NXQjtSa2HfUGjAisA/bq6udZ5uXQ8M0+0Gi95br5wgy1krOrwaC5PbiwyrXJp8mz3n7iMeJt+LYAx//gFNUe/xp6LVQ57DEDPkxJTT8eRR5Ov0A/QOtGNzZtLxA1LCMBFhMatgkm+Rj8/e0C3I/fldXuwznJ48SvtAe86r6rsRC6tMPwumXEQdNmzofYiesi6QnyLAjbByoN7iOGJY8lcDm/PCg4H0YPSfZAdkhQST8+uz+/PSQwoSy8KGUasRJ5DHj/5vbO7lfjudzH1BLLEsi3wo+7YrxCuoe2ebzqvUi8Lcc2zZ/MsNpx5Q/lffPZAdcBDw+hHiMdpifAN68zDTmWSB1CoUAtTntGID6oR68++DA6N4QtzBpgHvQVuf/fALn7U+T/4hvi6czAyg7OGLyUumLDt7WptBXD5LrUuc3MLssnygPfoeL84d/3F/8l/WUSZhznFyYqBDaBLhw7F0dnPf1DEE5aQfJBS0rSOgs16TsWKz8fHiVwFT4EDwgf/CXpi+qe4jLRetE3zSy/X8BxwIa2sbjzvOu4Gr3Ww+TE18s31A/ZkuJc643y4P6cBtALVxmGIj8mVTBfNW43UEOsRcw+wEbKSoJA5EF1Qgs1GzT+MzoigBwRHGcITAHrBYPxzt8H4zbbHNTg1B2+qq/5xsPMrrbur9awELrp1EDQvbGlv3/jPepO6qHoReTBANgfehQvDqoglibmMXRGdzwWMR9CPUnaSHFQgz8WLqpDOUzWMdUjOyB7HV8nPBes7NDtuQl+/CfZLcbQyLbghOMstmGbxrmJ12zNUq6dnkC5LN+52ri+BL5U2qL1A/e26MnwGwsbFecUHRz1JlozkTXxLCU6xlL+Snc4Tj2dRzFOVksjMtonHj0uOiwd/RUkFxYQRgtH9q7hGvMX+bvSCr6OykDThtULwjieEquZ1p/QVrEkrB22C9HM6W3T17zv2aT2w/oDAXr7sfh0GOsrcCBIJ34z6y3fOWdLYkN4QJlG+z7rQf9NAkKOMgkzZy8oK64pMxp3CpMITgR+++ny2OUS3RHafdJOzQnKuL9Mu/y91rpxu/W9Jbc3uzrJ28YRxnjUDdr23vPrvepK79gK/RJTCGURXh/zKkc+kzeHITI1Q1RCT29COTmQM5JLY1srOnAiVi6iMQQwwSvLDML7zQ2RC+D1be9d4tvSOdv33IzMssTxu2CzCsKbzLW7Sq1SsQfBo9OZ0bG+S8Af2UPvLfRS52njG/2PFhIZkhRNE9YebTfpPBUx2jecQ11BbETHRrtBhkkMSZcxNDB7Ql081yoYG0AJERW8K2MPJ+PU4JfvbvqX9cLIKqkEyg/nytK5tmujv6di0WPeULQIolG76dGb307bMMRrzGjxDv2c9wn6iPwuCUMfiyQHIvYnXSzXM5tBDkVMQIc9cD5NSXlQLELbNPs4VT4vPYgvQRlxGnEpbxpd/0b5W/pm/DD35djkxzHdvuKNyly80bYQu3vPXMg+qfmtXsRGxs3J+siTuyfKjeTB4Rbj7+9k6erwjhBxFqIPPhdHFkEfQkHHRcQrrykiO5RMVVnCR2AqgDQ7UJxQwj1zKechzi5YNDgjaBKPCagDaAJy/eH0FO4d3dXMp9T93sXUBMGVrkWyr9By1GawUaLDt0zN2dWTxZKvq8Ze7P/lCNd34YXugP8bDOL+oQGUItgnzRl1JtA1czfvO7Y5UTpaTCpL2DVdPFhRDUzXNT8npDBeSMc+ohEj/z0ZrDA9HazpZNMy9pkRGvTzxLu2edFP7mzY86kzqXjG780bwxizA60Uw+TQsb/cv9HU69Vh1BXePeLD8eEClPMy714SLiTGGmEYyhc+J3ZKNkZuJKwrCkhEURpTkkC9JTI6QF1AUE4xwyEcIJY3XEf6I/f6kPyfEWweeg874u7JWOK//IPyT8zirPG3v9pM3/DB76VzpGXBrtjQyS+yNrBavQ/WveVM1WrHE9bF5/T4Hwci+bPsugQnHWckfSirG6AUJzXHSzA8szTuOI064EsmUyg8lDZ8RVVB0DlMOq0wbCtHLHcebBY3HboTJP9U+Ov50vrl8DLZ3dD53trggs3uuRa4+cuT1H+51KQctY/Lmc+Fvu+oLbln4XPhx8ZEx5fbRPAc/DXvbOZPAAoWzxGFEcEYOSCCLd0xAS1ONfY/fT6RPitByEHgRaxFL0B3P9o7xjYNO1I4JSkZIe0ekB7/H88O1fZX/EUHdvjL5nzcPtg55NHhdcK+uijOkc30wRC6U6+Iu/3Rk8FfrFa8b8sqzQ3TVswvx3jd2uzN6PbtdPLx8XMDXRUTFI4S6xX+HGAvhDr1Mt8tEzMqPm1LNEpBPZY6GD8tRURNYkTkL3ctsjQHNzM3iSRFCvsQeCHBFUMDKvU/6s71jfyQ4BjQPtpF1ifO9c3IwDS+Ds08wGusDbwly9PDILyhs/24R9gL4RHGxL1u1KLtOvnQ69razOwzDqEXbA0pBBsNSic7M5YqbigFL9o26UD7QHc8gUO4Qzw7P0M9Sqg/NzssOZowsTb7OtIm5xrnH1AbNBXsEFEBcPlZ/cn0p+n25z/gD9c01cTQ/sw9y2nCYb36wC/Air7nvZy4ZrtCxJbCtcJZyaDIoM382fnYAdul6fDqDuuv+9QB9v/vC38SxRI1IF0nhyPtK3g0gTPxOT8/qztCP01Ew0GbQl9Dbj83P2M9ZzhoOEM0ciu3KbIlZR1dGxUUjgh/CMQDMvbv9GHxj+KG4TLi09NU0ELTpMeOw5bIoMBnvJ3Bm7yBug/Cyr8/vbnEvMZlx3DOUtFW1Ancs98F5bHtsfBX9uj/JwOICVITyRR0GiUlUyWAKcw06DKzMyxAcj5QOvxEwUSUPWxESUQxPNtAyj8xNO40CjYyLcspSiQeGc4ZOxtyDsEBKvwO/Kn+ivNz36TboeLf4pXZLccxv2DO3dNAwgq3V7gBwLXLa8IJrRe4us/Dy5zBusFyxh7ZTOVb1a7PeOWo9Cr3Uvbj8eL7GhKkFlUQWxTqHCAmWC3nLDsw3jepNtk2Ij+wQz1FfUH2Nk48jEw0SJk5ATNJL4k400O4LzYXWh2OJecgtxoQCa/6wQQJCH73iu7N6ZLhQeKH4MLVYNKXzzfGUMX5yADGz8DAufu3rcJYxgi9Bbr0vRbF6s5BywrDqs5A2+7a9N/T4uzgZvD3/Q33SfqiB1QJLxGdHVEZThkFJ+ss9DAgNoQvdjABQsBHiT6MOGw6RUaBTsJB0DPUN9NAe0PROU0oOCelMY0sfSH4G/cSCBCNEWoGswDKA9ny+OKG7kfzAOSr1vvLRs4q4L3Yc7ortw/J882WxIC1RLNjx/PNp7jQsHzFSNgj0Y24h7hh3z/2iN1xwl/PuPoMFDD3CtSu7JAdeiYhD+T6Ngd0MiBAlx9yFc0wkkAIPrc2UTHQPm1MdT48NZVE5kqDQAk4fTZIP+NEtzRhJcQrFjS5LqgeyRDzFiQhWBK0/dT8jwI7Aaj1rePN4I/sQOnq1sPMqc791DjUU8biuxLAysbYxrm/7bfHuoPB9sEvxAnFTb7DwPrMv9It1mbU8MrX1a7vEvE45h3o5+y1+6gRLQz0+xYGRhYMH68qCCfpF98ejzNmQFhD6DJmIK8yAlb5WO06IiG4LlRYK2EtOf4Z4ChjTeBV0y45DOgeij3XNUMYjQRrDPwiOBg99KDzFgjm/xHrxuFu4+7vTuv7yt3CTty84R7Ma7qRuSrLCtZbwcmtKbnvydnJT74UtjfAQM5oyS/D9sqD0QTUotbm1ove3OlK52vkFPEd/cX+y/ya/ckJmBkxGVIQ4xPbI+Yxiy8YIxQmujeFQY0/GjZjL608c03cR0A8dTh7N5NDEE9GPmwswjHzNj06OD2eKA8U2CBQLrMlGxgdB4P/SBCnFooA8e6/7BLwl/bS8KDdLNUB2ODZldrW0+/HC8QRxIrGS87MyPK187JewazMAss3ulGuDr9L1tfT+cHdukrJAOD94kXT584Y3s/vefPZ6BrohvooBf4AEAKkCNwP5BiLGdgWbCA7KaAnlyqBMesycTPcNPI4vkEvQt03qDWnQGVLjkd+NTov7T8aSj8/fTANKcAvIDweM0AgnCCgIuQalxtzGVQN5QoZBjD5mACGCUj0AuHR5J/refCs6IXNFsXw2bDiF9V6wyi4Y8Fu1cPSkrz6rui128wa11LA6qlstI/POd65zguwobMi3QHyCdsTvszCVepDBrjxJdHP2ET+ihRyBzDwBvWID9kdbBsSFTcTJRz7JWApXTIlN8cniiCwNpJNHkouMdsghzcxXCpXRDBbIAk6Q1m4UpQt3B66Ng1MbEGhJGYZwS25O0om0Q8+Fcch5x/6Dar7YQGMEiMLF/J75s/tdvo2+Dzh18951nzlbOfc1Cy/MMIJ1TjZl8sKuSWzsMad1kPGkLLKtFvBLNAXzwm2dbF8zV7YjMzWxVXDks4v5mLi2cwF0w7oifHs8frm6uFU+Z8NeQNi9tT7lg7mH6EabQlfDmIkwDCMLKUepx3AM8hAtzWfLXQysToNQto/uThRPOlAXDwePOpBQUKJO+Ay1jNBQANCcTFxI2YmLTbGO/gjNAx7FxIsCCc8EPn9kgJsF8UVAPmb6o717v8c+pXnXdy25GPrm+Bm1KbT89hO1znKPMV80OLResPAvO7BzcnVy7m+87MJwQjPH8fMunC7h8d+0tTLXb7OxJfXCt1P0uTIzdM86svsad2O2dfmsPkBAvXy6uW2+HQSdhNPBbP8hghGI4oqFBcHDUYcyDFLOGMqDR4QKZI8DEKlOKEspzCuQhRH+zw8OaE5TTv0QuVD4jsSOdc3VzbBPPI+IDQHK3gqMC9vNBou/x4gGdAdLCOcIFISOgiHDKUNrQe4BSwAb/YE9N7ycPH19A3uftuM1m/hj+kE5EDPib9Zy0zgxt4jx8Cyfbq51BDaQsQEsr6zocbV1ljKtLI2tQLIedCQzJfBvr1jy+rVadA4zJrQJNeG3NXbCtqv4G/o2ur46pvpAu8D/Kv+lvkZ/YIC9QaOEO0SRw2yEOsY7x3cI/gjwh4KI8YsCDG/MWEv+i3ZM7w5VDsdO/c2pTaoPlFAXzzxPTA8HzhnPUNArTqmOA43DzTBN384eDBZLJUsuyunK6onTCANHi0eMB0/GggRXwtuEOkP0AYYAcr7RfpkAW791+uT5Wfs+vF975DfttDl2D7oBuRn0XfEc8qc2n/aBcn4vVzB18zi0sPGLLpiwIPHeMVzxtzFecDswDXELciEzzvMXL/qwUrTmdwv1erGGsgO3obrteBA0irVseru+g7uGt3f6VT/aQGG+KHzU/0AENQPLACbA+kXpiA/GOUMVRJGKRYzpyN+FrAf6jVIP9wucCDELO49mz/rOKMwnjHYPvFB4jhIOds90jq8OPA5gTwxQEM6cy6hMGQ8rz7GM+UlOCbdMwo2ZikDIEQdZCF/KFEhERO1EsYV/RGPEIwNNAbSA9kBvP0j/9v9PvRZ7vvuqPDI77Tn/98R4cLhmt9S3l7XotEh1gHWas/Pz+DO78jmyarLqsjLyBDHFcKsxNHIVsb0wy3Ds8NMx8PHFcaIxwLHrsd/zUTNmcrnz6vRW8871UXZ09bT2V/dtt0T41nmVORt6Jjtne3M8Zv2RPUB+OD+4v/oAHIGegj2CCQOuRHNEcMVwxmqGOIb+SL/IfsgJiiYKf0mjy3NMEEsbjCxNRkyKDT1OKE1aTYBO2g4jDh6PJk5XjjQO3M6GzkAOtI37Te+OCg1TjULNqowkzAfM0Yt7SqCLYkoOSVTJyMjLx/+HwcckxhgGW4VAhGlEMUNjwrUCA8FIwNKAVH8jfuY+rHzhvLO8+/sMepS7IfmseKt5FTgjdzr3QTaj9Y82ETVjdFY0ojQGc7zzRDMbss4yz/IC8kPyrHFisbYyYXFA8V2yZ/GX8WfyRLIEcf7yijK7skEzvvMisyw0bbRNdAz1SvXedVi2ffc6Nta3ovieOJN5Fbpxunv6dnvLPJp8ML1mvq+91H74QKKAPsARQkpCQIIaA/QEDkPjRW3Fy8WyRs5Hk8c+iA5JPoiKiaeKHwokiuLLJIsdjA0MEsviDRVND0xQTZ8N5YzJjcGOVs1pjdXOS42yDeTOD81JjcsOMgzpTSmNloyXjGnM2owzC1iL3otQSrxKpQpZCWEJbwloSDlHu8gOxztFwAb9hfqEGMTShNoC6ALCw3zBXIEFAYcAAP+XP+M+eT29Pif9ADxP/Fx7TPrAuzc6Bvm5eMH4InibuQT3GvX4dnL2fDb4tpizvXKDddN2/7SqMj1w9rOP9wG067Aqr8czHzXpNUew0a4IcjP2jHWXsR7u77EztcN3a7Kcbv8xp3aFN0d0nfG1cYf2hLnAdjsycDTZOCp40rh0tgn2ZDnTetC42Lk3enc68vudO777Zn0T/cx9L72UvuZ/UT/b/0RAGQJjgdqAOEH0BF/EesNCQk+DJQdcSPQE20KVhREJnsv+iB4DFkVwDCYOJ8o9RbwFwAv5ED8M44c+BwlMWY+iTnjKWchfy0DPok6ni7cLSMvvi9uOFw72TG8LJgs4y5/O2g/hCtJHrkqjDwOQK0tkhavHrU8gkEyJzYRhBkMNu085yCvDJsYRyx2LzUdGAqYE0QnLiBrDtgNqBXYF/APfgWdC6gXAQ1q+rz9bw1UEfkB3+3Q8VsLmA9M84fgXO+eBbYDOes82t3n3P9B+nne5dfc6KHxI+vq3qfWa99z68rh49Q82hDfNdvB2XbXU9ZP2p3WMNAL1qzZUNLwz7DSm9I/1L/Tis0IzsrUetMEzlbPAtIA0UnRZdEPz6PRotWT0BPOMNbY1jrQftMR1xrUiNeq2fzTPNfV3bHZx9iT3Xncyt2x4Sve2t735QTk6+C+5tnop+ah6VzrBeqV7bDwHu4o72z0RvT78lH30/jX9hD7zv3b+ej9/wSe/yT97QU4CIEGhAi/BCQFYxIXFaMJMgaSDIcXSyDPFJkCRwwYJUYp4BjjCP8LTiXXNTEj/Qg5DhUprTb0KvIUBg+pJMU5xi/nGl8a3iTrLF4yLCtiHoIiQywTLPstOi7nI4Ihvir4L64xiix2Hl8f2DFXN0wr5R80HYkoTzhfMiIcYBcgKJI0NC8NHzYVICCvMrUujhnAFNMgpycPJ6QffRNzFngkViJOGLsXxhVNFJIbCxxGFF0Rgg7nDh8Z2xi+CfoEZAx0EZcSwQuY/wwBoA2NDkwEvP41//4BCgbDA/764vkO/1r8aPnO/Xj6OvKa9SX5KvUl9r30Xew374X2fvHZ7CvtUerS7BXxV+oV5oLqLOnD5gDqYedi4rvlrudk45Ti2+My4qTijOMD38bda+QY5Hfbetsf4RfhGuGO3gzW2dr16BLj6NOP1U/f7OXQ5JHVCM7K38Ts6+EW1EjR7Nul7Bjpg9JIziXheuyt5TXYZtI53jLuCemJ1j7VO+Vq7cTmXts/11zl//VR6pPT7tl48G/2Rev12brWDfC+An7vJdfk2g7xdwPs+p3cnNag818HFf2E58nc8+sOBzkIn+784Bvu5QHZCFP9IOvX6tf+iAqPAt74PPTJ9P8Cxg/LBUX3Kver/awKdhU1B2byXfj1DIoYEBPU/BbyVwhyHlAXMAU//MYCIxZQHlwPjQJjB2UQvBUMGIQTagsiCewO9RmHIBAWJgVZB7AaNCbYHYMKrwMaFjwo/CC+EJ0LgBHaHikkIhiPEQ0XtBUqF3cjyiHGEj4OfRR2IW0rJByNBXgNhSUeLGEeeQrQCA4hpi7THJYL1xCSHdgiVx14E3sTBxxmHBgWHRgKHRUYmxIjFisauRvWGmgRMQ3CGuwgShStDpsToxW1GPgXYQ8oEPEWbhMKEcUULRKoD+IRnw+bD/QUDRFjCTMN2BJWEO4McgvOCp0NQA9sCz4J8AqkCt4JbgrkCCAILgnTBq8FCQnkBzIECAVgBNoDlwdOBGn+lQOZBRX/LgG3A4P97f4GA5P9b/19AUT8lfqM/8H94PuY/Bv4WfnpAMb8IPQr9gr7G/3T/OT0cu5990wCAPyj7s/sm/ZuANz9Ju1e5Un3BwZ89xbm1eq0+F0ACvjL4xTlAf/iAxvtMuF06+b8zgHm7e7cMOwUANf6O+zr5XbqI/fE+rfuLOha7ovxr/BX88ryYuyd6tjutvL19fbyDueK5qv2ePrd7WnpZuw+71v2XPUU6jHrUPPw8AbwL/Nm7/ftBfF47/DxjfYU74rpV/JU9ynyAe/07i7xVfap9JHsde45+FD3pu7+7QLzyfYW+dryPOnL8H/+Xvlt7xzw8/BQ9WT+S/lo7YLuufRR+2gBy/Zb5kLtXAAOBhf8cOk94//63hF1A6DlM+GS+PsP0gvM7ercsvLYD8oMq/Qk50DtXAG7Dy4ClOvL7DH7MwQYCY//ruu17bMCsgugBHn1KesC+WcNGgjd9iHzkfq1AzcE/fvb++0Ao/yI+az/kAU2Bt37KO9c+8sS1gz980ztP/7/Ep0Py/Ps6gwEihXEB1LyB/O7CZETR/8/7wr9/xE0EC73ieoPBbQetArc6hTv4gw1HtUKeuiu7G4TpB/fA2Drl/MQEf4bcQOd7Yv5TREuFRQCb/J2/uQReg4NAF/6MP/gDOMR9AEq91IBJg1pD10HUfmE+rkM+BOgCD/7jvmHB2UUYg0u/t/5+QICEUkR3gEV/LEDagiLDMcNVgPX/HIDrwqID1ANvf4X+fYHkBQnELsBWfhNAr0TRBNPBM/6dwD/DzYTuATJ/n8GvQk6CnwKugXdBbwJlgUDBQgN1Ax9BUEC2gMWDJISrwl//aX/QAx9FQoOo/zv++QLpBQAEGUCl/jbBcYYoxGJ/xT93gYnEtsRtAKD/WgKoxC5CRAEqQUTDJsMDAQoA6IMzg9GCTYA+f+MD1EXLQap+foDmRDUEg8K/PwkAIsP+xAOCLkEhQStBvcKmgvuCkAIdAGDAhYNBhK1C6X+dvprDH0aXAt5+eH8ewveF64POPfq+eYTShSHA9v/RgKFC1oUHAQ498QKsBVqBv/9VAHeCXIUFgoj9gb/dhOsEcIDvPps/1UQEBMIAjX68wIIDlsQ6wKL+J8F6REwCZT+dP56Bi0QEgoL+rT8aAyGD14F+voF/U4LvQ+FAzj7CwBuCVELfAGJ/Q0H7Aco/2wApgYkCXoGP/n49gwOABWK/RnysfuZCToVNAdH6rjz8xKmEXv+wvWv9skFehDSAM/18/+oAnT+nAJzBMMAevsa9ub+kg7MB9ny+e11/q0SFg197qbmHQGGEhYJX/Nn58n6UhK6BFnwtfXO+1D9qQIX/Ab3yf6l9uvuZwRLC0n0P+zO8tX7Ww0ZBCvhBubGBk4JAfvs7x7ndPWxCUL+G+4C8WvyV/asAEH7n+7Y7Yvy3vpJ/9fyK+mi8Vj63vlO8qPqCfNj/b3x7udB8sT6K/ky7tDfn+2rCbH8otyl3+r1bgK1/I7h4NcB92UHHfCp3yTnKPWf+9TsE96g7gUA+PAb3f/hzfgjBJjsUdFg4OUBOQUd6qXQa9vAAUYId+ZO1EPhPPbLATrwhNbI4Qb49/Li6wDrK+SQ6lPz2uhH6mL1WefN3z/xJfP36zfuXOTK4pb4k/Wc4T/pDPBd6XTxx/BL48vuZPb341Ln9/g58erou+pb5xzyrf567M/di+yd+OT3o/H95KXmiPj9+k/vv+pf7YH0kvfR7w3v8PaP9Gvv3/Bq80n7vfwK7JPonPpHAAX77PWW6fvtowYfBgvzMPDK8Mn3dgy7BSDrf+/A/gMB/gg5AsPq7fO9Ci8GQgLGAM7wBPkEEg4KZPz3/4T57v7RFnYNIvba/c0GsAl5FXMI5fInBr0YjgtaB9wHUwGBEOkZigRlA2UVdg9UC3ASGQpJDf0cxQ74AugWwRu1EJMScQ0aDRQjNx9iBX0NNR8aHAscsRQLB58aHy4+GaQLABa8Ggglryh2Dh8JoiZ9K5gc/hnXE9cWXy0TK6sUoRVEH7gilirAJBUUFhlMJ2MoWyWiHjIYwSCZKlMnAiF8HF0eDigbKI8gNiJfI6QgLiRaJFwjsSl0Io8VGSMuMmQoBx0cFxIa3zKmOB8WVQmwIt8y3zFZIH0FUBQ7Pbg0pBEUDlwavCrMNWobhQOAHHkv8SFUHOEWSA8CIvYqYBXXElscqRTAGlwkSxJbDVkchBY6E2kdWBFCCWoZaBbtC5QWOBLcBCARsBW3CvwPQAyt/RAOexvFBUX8WwV2B0cR0A8S8/3zahK2D4H8IfnO9QgALRJV/0fon/hxBMr8Dv0f9HXqdfy9ARTuVvAO+B7tzvA++BPsQ+139HXme+dV97ns5eKJ6+DlR+Ri84Xpadh75Njpu+FR6XrlBNPX3Vru1OGm2Rzdr9c93njqedozzUfdDeN82GPZmtfo0SPeUeEFzsvOU9/S2rHTdtURzhLSmuMu2fnFUdC62RTWM9vU0y/DttHs4irWHM8O0VDK4NWB5IfRi8bE1ufWZNIV3CzVyswF2RzWf87D4F7hsMlozWndud8F5I/X9cC/1uP2QeXry4HO7dpC8HzyLs11xXTuWPlC4PPU59d86lb+geaPygnlhf9I8SnjU9955er+qP5j3lThl/wg+1PztPId7Eb3eAUw9HHuugPiAFv0Iv66AAD/eAljAH7zPAlAFR0BVP47CisJdQ6HEskD3QUIGfoSPwjHE0oW6Q4OFkwXTxAdG/IfHxAJE6kjWx/jGYgd2xYZG+QtlyWDE1QdjSbhJLMs0yVgEyshLjUnLN4kxSJkGpAq7z6bKvAX/iTGLGIx9Dc0JCUXOy8POZ4rlCsqJycgjTJzOLgkyCYfL6Ak/yoqNs8m+SINL6EmwiQbNFkqrBtIKFcs0iNtKg0o9xmDI5UtLyByHncmmxz3Gl8n9h+WFqUfzBxOFN4e2R43EK4Voxu4EDsUGhqnC7gLchhBDroHCxL5Cv8DSg+qCff+XwqECNH6pASMB4L4Vf4fBPz17Pk6AozyZPKxAHT0Zuvt97nzxOuO9SvvLuJE8Dn2zORr48bprOQ269PuS9ng1XDtf+2F3FnZH9eE3FjvGeV3xzbPkua55PPcadIxxd3XBPAV2+vDMs9C2G/beOHiz5vA/NY+49HR7M9l1dnMktJ/3YDSRM/L2I3PHcxv3zze78snz5PWwdYK4VvdZsc1z3HnuOHV1W/X4NOM2wXti+D6z1vfBueN3uTmSehP2sbiAe7g5FHq7fLg4ITfEPmg+QzrE+zn6uDvZAUaAJvl/OxKA40Ctf9Y/bXxqPvyEWwIl/mZBLMIcAS2D7IQ/APHC/AUfwtZEBodBxL/CgYZfhzgGAoeWBgWEjwjuipIGfMXSCYyJrAkEybPHFwidTfdLYUW5CFJNv40+i3hIV4aHDQ/SqYvphQqJDM7E0HGNzYf0BkKO4pKSC8eH2AqDTTaOn84mySVI386WjjUJa4qQzJkLr4wWyrwHr0vfDwQJZ4ZGyjMK60tiy44GPoRGi7nMc4b9xipGeUWqiZ8KLwOwgvNGwkZzBa2GeAJ9AOZFtwWNQjFCfMGuP5BDO0Rlfx092oDZABv/zsDg/OO7IP/WwB77hLv7fL87DjyG/RR5Vrlb/D+53nh5uo35p/bIePZ5ADcAuEc4RrTPdk95kXZENCJ2enXm9Q43C7UF8mz1urc0M0azTrV8M800J7V68x6yizWdNNKyQPPUdQHzw/PZtFWzs3Qq9Vw0BLN0NT+1rLQk9Kc137UQtWW2mzWJdVy3q7cpdUd3rbiCds539HlGt+j4TTryOQj4rTtnezD5obvdfE36x/zufdM78j0bP519jf2CwIn/nL6kQUeBKr9OglfDDkC3Qm3ErIJxQuIFn0Qyg4XGhkXsRF1HFgeNBbHHBgjeByCHu8lzSG0ICAoFSd/I+8o3SrEJuIp/S3xKRsqIDCSLQYqeDBAMdoqOy9iM1csGS7GNJYtjSu8NAcwVykqMtwxjyiFLvYxSSjJKuMw3SczJlsugyh/Imgp4idEIAkkeiVMHsceviEvHAUacB2pGdkUAxhAF3IQjxEGFO0MwgqQDxEKfAT0CeoGa/6fA1sEh/ny+9MAQ/Zh9L77y/Pn7Yr1JPGC6CLvyu495KHnauv/4Q/hheY/4CPcDeE93rXY4Nuh27bVNdey2QDUcdIS15vT1s7B07fTyMw50KnTJMxPzebTxMw3ylLTOs+9yLXRD9JOye7PgtShy+fOgdbkzk/OB9jq03zPUti82N3S2ti63KHXZNoI4OzcAt1D4w/jzOBd5YLokeZR6OHs8eyV7LzwHfMF8sT0lvh39xj5o/6x/d/8ywPFBD4B5AfPC4gGTwsUEngMxw4MGNoSVBGDHD8atBQsHxghPRnkIKUmjh56ItQq0yOOI5It1ylzJR4unC6MKPMtiTEALM8txjL+Lsct8DLUMQouGzEDM0ovSi9lMjEwVS31L9QwJy2pLK4tDStyKy4ujyiPIogobS0iJvAeHR8fIqMm2iS/FvkP1h1EJzMazArDCngU9Bx7F1YDMvs6DJMYpQuY+vr30P6xB6sH0/f16zr0lv1B+cPyue0V52Xp3fKx8Ibln+DX32fi4+oA6J7WZ9N03xrhtNya2iTRuc5I3JbcMtDM0abS1MpB05/cK8/Pxg/Ons8P1FLaB8r5vFfRruEQ1VHH7MS7zGjgmuPQyAm9cdVS6QThV886yKbUcerb6x3WNc3h3uDuJ+sK4aHepeR27uryJe0R6cvv2PUg9Un3X/qD9xf5JAKoA5b+AQGdB4wKBQzNCSEG6w6EHFUXYgnoDVMehyR0HrMUBBN8ImMxqCfRFsocki3jMIgq6iSIJOMtjDV8LW0mWDBGN5AumSmAMJ82DDfiMPcm9yrnPHw++SoEIhYtYjiDOYAwnSKrIRExAThvLb8jyiBHIHEoDjL9KLIV5xETHtwpOikQFoIBxAqIJlwnhwqR+OACXRfVHI4HZe6k9eEQlxHs9u/on/NIAmoCGfBF32Xp3v1D9+/es9nD55PwrOoF23TRFt1S7MDi4s4Qz3vbGd/h2erQeco60f/bANcuyyjLy88T0cLUKtRDyYPFltC32K7Vwc0uxa/HE9vv5F3Sir9JyFff+uq93ijGNMQL4R71Ieka0rzKyd30+I/42uDR1rLhxPPeATr65uT95G/3ZgKmB6YDuPCE7tIHJhfOERAH1fjV+xkdcy6NFdL9gwQ5HD0zxy9xDYT/kiDxPgo1ehowD6ce+DteQcokIRNKJ4Q/JjztKSohVyrbOxg+VyvCIYMxeD5KNQkpdSmyMNM2OzRuKBklADAzM/kocCXKKe0nAyTFJDgkZSJ7IZcbrBa+HZoirRaWCwIQBxcTFjAOxgNuAxwNaAyfAIn7Uf1F/7T+l/bg8Eb3uvd87I/pb+0d7QftSOaa2QTg/e6U5aPUMdWN2gfgm+P+0+HE5tMs437XIMt/y/fNd9UP2Y3LlMSj0STWBMxzy8jRlNA2zjbOBc4U1D/aMdHTxs3RruKi3y/RsswS15vnL+uA2jrQ3N488N/w4uYx3kfkDfZZ+t3wLO+58ir21f9lAzb8jv3vAqUBDgqxFLUKnAKHDhAXmxhyG74SpAwxHwksZx8vGL0eBSNNKmovKiT3HW4r7zI2LVks0SxvKWUuNjZKMm8seS6gL5cvfjTCNBUsVCmJL1AyuzCcLU8nayZmLe4tnidZJJYhaSFmJtkjwht/G9Aa7xZ+GroZQw+aDv8RYgvjCqAOVgQp/o8FugJJ+xH+1fl28XD2tffU7uLtiO2N51jpa+oi487hUeJx3aXewN/W2EzYONpf1HfVytnX0ePOjtWX0f3NhtSk0PLJltHz0p3L5tAW1MjKWM2L183TbM+30ljRR9Qi3ynbQs7E09PirObu4CjXJdak6X34D+tK2o3f+fLcAhD86eMe46X/Fg/uBBn2N/ACADMaHxfh/jD+kQ8EGQ8dpRcdC00SdCSCI3McsB6cH/ciySnYJoUkeisSLHcoEiubLBMvhTMjLXEnujB9NScwkC8jLTwqpDObNQkoBigMMkgulCheKCAl9CixLgAjERiDHxInMyWdHG4PvQ+iHvEfFhLiBzoEhwtFF0sOIfs0+ur/0wDZBCv+KOwS7Fr3V/bU8hjuhOBR39zs8e0G5CncydVR2tXlsOEE1UTR0dEG13TdzdUszLbP8NDRzz/XcdWHyQ7LYNF30ZnXVNfVx+3H49nV3sDXo9ABzETXrug847zTl9QX4K3rn+1U4Mfbd+vN9Hbxou8a7Xfwcf6T//f1G/zDBDQBngSiC5AI+grBEWUOZxB2GvIYRxW6Gpwd/R9RJNYg2R8LKF0ppyZeKssqbCl9Ll4vniu6LqMxUi4mLksx8zBCLz8vMC9RLoAuPS9TLMoofSu+LJ0mKSUTKGwjRiCLIzofoBkSHdsapRONFUwVVQ72DW8NsQehB8UGVADk/3P/F/ng+FD5EfJn8Hryoez36I3qBece5E/lquDE2q7dgeHY3JfU6tGM1s/bR9pz0FfHus1P3XTbzcl1xMTN3NY220/Tf8RhyJPZzdxZ1qbR9sxY0uPgBORw3MvVm9ND4BXzxO6622LZyujU+lb/s+wC3ovwKwv/CeH2J+8j/ecRBxVvBZ/9NAvDG2gbiRDDDuYZriJ5H9Mavx+YJuUl/iIEJWIrFTCgKvwh9ynJOZI1xyUhJWEwYDnsOFEpBR6hLhRA1TPWIewhCivnM0QxHCBVGo8mZiq+IgAd6hiZGe0cUBdOEqEVMRGqB88JWw4BCvgClvzB+hUBWgI39p7s5PAV95zyz+iK5eLo+eiJ4iPeZ+Gr4zXc7dLi1OHfkuLg0oPDks1t4yTiT8oHvWjLleIk48HKOrvmygrkaORszdbBi9Hv40jjcNcD0J7Wk+a46frdgN2R6ErqT+l/7iLvze9r9qj1pPPb/ZsDcP4X/9QDiAfRDs4PywmNDbcVwheYGrMaeRZUHJQlNiOPIIUkFCauJ10rJCp1KJgsYy/eLFEr1y2xMDQwRS20K00toi84L+srgSgAKPgq6ytwJnIhqiLAI1whuh5ZG5IYGRmwFw8SYQ9FERgQRgimAYUEtgm4BL34RfLa9qX/ovwI66vgyupz91vxCt6u1QfhMOyD5cfVl8+Z2LLiMNwYzYHMZ9hN2+3QRckczwjZetduzObHO9Ec3Tvan8vmyBzYR+MJ3cHRQdKM3pfnguSL3T/eaefP7sjsvukD79v0oPRi9Yf66P7K/5z/jQJJCLMLrgsTDE0QwBZhF1cSphV4IrEmBB0pFmcfJjBaM3UkzxjnIpQ48T1LKroZpCUyPBI+PCyUH8AmWzafOLIrOyLNJhwv0iywI5siVScYJO4b0hqcH48glBgpDqoNLBYeGCUM5/7eAHkMgQu6+xPybveF/3n8Ce5h5Krrt/Yc8WHeKNbG4q3v5ual0ujLltiW50bjQs0/whLRV+NN3/rKpMFLzuzdgtxPzlrGsc+03RHcOdGa0FDYr97G3yTZC9hg5Wvq8eCE4Wjqu+008kryxerp8UkBsv7V90n9ewPnB/EKGQfDCEMUyxZlEPoQRxmmIrQj+Re9E4Ql1zS/K7UaSxo/LP88GTbJHV0YgDFGRH01mRwSHLYy0ECMMdIZvxsXMsE5hCadEhcaHjDiLmIVRAlqGAwoSh/4Bj/+bQ//HaoQO/ev8mwFkA+T/5Trneq89un8QPKQ4tziMetj6NzituH13PPa7txB2DfY5N4V1k3KAdOu26zW8tEczZPL+9Zc3KfRf8zd0ffWANvG2VXUAtea3VLeod+b4sbhcOMO6TTqceoY8Nvzl/Ln8z74J/zNAVMF/wCb/hAIMRTZFXMNPggBEh8iHCUMGjsSjRocLGcwmSING4UlATIHM7soniFeLYk5ei6lIhorPDXtNL0rsR3xIhA7UTkaHNAROSJWM0QyMBn8A6YSVSzIKMcOLfwFA84ZiB3dBAnyNPjvBdkIovyz65bpkfVa+GLsrOOl5H3mkuWE4d7baNxy30zZgtM/2JnZq9Q01A3Sjc/g1pjXuswvz9TY3dRH0djUudTA2Lfewtcd08zdOOYf5Vzhtt0I49XwWfVc7s/p7+3B+PUB7wE6/EH4H/6JDnkWag3lBaAI3hJSIwgmHBMeDMod8yzpLdAk1RimHQgxUTaCK9cjxCTHLEU02zDCKQspayoKKw4sfCxDKxwl8x5IIxEp3SR4HmgYuBN/GgIgcBSZCiwM4AodCr0M4gVp+wn5Ifp4/Zv+bfLE5BLoh/Ok9Bbn/dfH2cvn7+p33WLPw9E84LLgRdEozjjXO9fm0dfP0NGm2qjaN8kcxwrfxOk/2GvGt8wn6MX24OBpyAHW4vbK/93p7Na55K8BxQf89UPq9PY8DZcObP/BAH4PIxPAEKURLRRQHFogjBcvGJMn8irEIb4f+SUILh4w7SeIJMot7TJQLa8oJCsAMKEuDSiCJ+Mr6CuWJ/0gFh9rJxUodBkbFDwbThtJFz8TZwqfCKcOMgtyA1ABzPyH+A37Uvud9VTuAeh26Z3wYe504UnYXtzo5rrl39fb0J7UD9oG3mLYY8wwzi3XQ9bS1VPWiM4nz5TZf9oB2pfaI9G+1KjpV+lm2tnbKeNh7Ln4e+493V7t+QSWARP2nPJ9+p4OVxSRAov9Og/zG7oZgBHbDwEchSYxIdsZcB8YKzosciFhILUuvjPsKXQjHiawMBc4qiphHGsndTO2LSMm+h4hHfwpiCpnGPsWPR4hF9kVaxhDDQ4KzQ5uBrkEJQqe/Ff0+v6z+x3yVfM+67jmPPPL7FnaquB95yve7tzn21fU49nx3cXSBtED2CrVptKy1BvT9NNO1sLT4NR92l3aitax16HfQOUZ4DXcP+Qw7BvuZu0H6TTtuvx+/h/1DPkUAbgEsgu+CbYDpA86GI4QTxVpHk8YUhpuI8cghyR4KpIfPCE2M+4v9SSaJ/Qn+y6nOsspNRiYKi45Ri8oJXUabxsqM2Az7xS3DY4b0CH4Iw8Vd/29CAAebhAW/2r+M/xJARMGPfQZ6t/2Yfbn6JPmK+gd6ZXoRNwu1F3gwOj03DbOSc032s7jHtq3yXjINtem4xXbU8lmzP7cLuGS3DTXhdSY3zfq8OIl4NToHOlQ6zP0W/Ep8dX7a/mu98QGSAh5/7oHYw70Dc4WMxVcDCUaTyXSG44c3CGYHusoCDDmIK8gbi9uLN4pXC4uJrwmWDKDKtAjHS32Jwcg7CffJNMdfyRBHXQQOxuuH6ARew24CmkG/xBPDv335/eOAuv7QPg79a7o9eww9RXmr9/I6TfkH9x13V/YBtwC5WHUWsdJ2DXgUdcv0zjLlMy64UbhYsxnzu/ZitzN4k7e8tLn33DsCuM65cjum+kj7dz2vfK194UCMvrK+bcJcQpyCI4PVwtVDS0eWBspEmQdhyFDHR0msCbeH08pAixxI3wrZjBOJuQpsC5/Jm0rgDAkIzojyizlI30griZ2HC0YNSKnGR4P0xfgExIHKg0+DQIAOgLoA0r3MPgV/YTwgOzH8g7qCeXU66LjS9sR5PDgBtbH3LvdltIX113b3tHx1MHaeNFk06fcONWA1JbeG9mO19jjUuBw2wHo8ehO4w/uB/GD65X1H/o99Nn9RgRb/TcFzw04B0QNHBcqEGMTxx65GV0aliQ4IO0fKiq1JVIjny2vKekk9y48LPEktC2rLNkjkyqLKuwg3SVHJgwcByAAIU8V7Bd+GhgOvQ7hElYGVAS1CXr+5fryAGT1Tu/++PzwR+U67Ibp/d/a5jjkT9U120vjktif1YnYh9EH1ivfwNLHy6nYB9p91R7bKdYt0ajhFuck2VnbE+Wz5dftHvC84nDp+/1W/EP2NvmP9+8CyBV8Ckb7qgrsGKkZtxtbElANwyRVL3McQhrcJu0mcCpoLVchriQ1NZgrMh4FKnYwOym4Jugerhv8LWYvQxStDaIcUSChHigUbP3/ARscfhV9++30aPfE/2QJFfbI3dTpP/gF71zned/x153lL+s/1onSjd9k2j7Vhtjx0VXVb+Hx0xnIBNvK4xLYLNcA2M3XLOj37H3aD9yk7qTvae4V8+jtgvLjAn/+yPcQB6ML/wLzCmkSbxDNGUcb6w0CGNUrrCRYHAUiEyFFJ6A1hyrgGlMoyDLZKuYq7SnVIKonLi/mIs4fCidPHXAXEiFwHLES4hXmDioG7hFQEfb8v/s1Au36h/sB+4bp8ejs9vnsgeDx5jHjbtv54z7hQtP62JnezNT21q/bm9Am0gLf3dil0qXZL9fY2PvneeHP0ZTfXe9O64PqvOcq46b3/Aeu9G3r/v6aCDMJ4AtRAjoD+BsFH9cLQBGNIdkgayAcIOAaYyfjM7siexlZLMYyKSrwJw4hGCEgNOUxhhlgGukmDyPxIqUgvA76DsAenRcADGsNwwLd+yEN4g2V9YDt2vKd9cX9Q/b02DPXC/Lu81Tf7dQq0ybb1+nh4ADJtcw936Pd+tT705XSgNcN4N/Y19LA4BnmTdvp3Vnn/Odh7mzx+OWS64EAQP8c95T9t/44AnAT2hFAA0gNpxr7FtUb3iAvFoUaVCvYJnkgyShaJmUiZy6bLqQilifjLAUksCU6LM0iWx24I/kf0RnjHcAZYA9XEjoUtQrSCIYJd/93/SYD5PmK8fH23vGB6FjueuxN4LLjoeVy2l7d+uJ61r7U4d57153Sz9xF2JHQ6NvG3U7U/9vD4XzZgN9b6f/hX+OY70DsYOoc9074FfPh/AoDkv79BBcN/QjgCxEWWhQ3E8ccCB72GVohRCYQIccjWSpuJmYlLCwZKj4lFyqaKlwk3SbyKAIh1B9TJPodTxgLHHMYTBAdEnkRZAj7BlAIUQBL/GH+0vfr8az09e9C6ILrfOnV32fiYuRm2tXaFOA21zzVFN3N1r7SFNx82AXSftyC3c3UrN3B4wnb4+D76uTj6eVn8qXuZO07+sb5svUJAggGuP+6CN0QzwozD6EZzxWpFe4fLh/MGywkOybWIGsmDSuOJMslYyxGJ8Aj3CmpJ+ogbyT6JPQc/hxxH9sXZRR9FyARggrQDVcK6gAJAiUCkPhQ9rT4CfHD6+fuS+oQ45jlWeSs3PPdsd9k2OHX59xk1yvT59me2kXV/dc32r7Xh93e4rLbqdqD5uLqH+j26Tjq6eyA+jz/HvTH9AEExgk5CBMKvgnoDGoYWhr0E3oa+yJBHQQcVCajKeImzSUNId8i/DGEM48gFBpjJpgthCtQI28VwRRTJJIlThUSDmIOsgssD78R0gQz+Yf7uvwu+3b8BvO24z/mufAS7ibm1N7Z1s/aeeYZ5LrXp9Bb0cnboeU+3aLOTs/g2+vnEeda13LSUuQJ8mzur+b84p/sy/9s/wTwSvV5Bh8J6gbqBooHRxRdHkwRtQt2HwEpuB/BGxAdLyNPMcQu5RoVHQMxWzFfJYEh1iC8JSAtlSIGFJIcuSUSGcgOTBLtEl4QigzoAMH8sgfMBVjz4O5P9lP0D++76vbhG+Ln6l/k9Nbq2mjhANtS16rYHtYm2Xve8daw0bzbU+Fp3Xvd3d3o3nvo2+266N7nYO1N9JP8d/yW9Uj66QaCDDQMRwj3B5wVqR9hFxETzRuCIRIl9SUyHXQeGS5lLccg9CIuKA0n/ymdJXMa4CCmKTIddhQLG34ZKhO7EqYL9wXJDegKT/l59z0AMPyU9E3vbOau6FT0Bexv2HzZa+S+45neINgI0S3YieO22h/PJteF39vbJNkW2iHfIuhB5bTaO+Ju9Ln3rO1i5p3vYgb1DBv76PIPA3YWjRtsDs0BzhBlKN4k+RZiGHkfSycALQgkZx1AKRktHCP8JHkq6SRkIqcinR60IH4izBjKEowVshSTEREOIgfvAuwBKACdAMX8e/D46r3v5PJ38anmltbb2qft9Opp2CXRpNM83TXoat5tzJHRxt444MPhO+Hn2MnZGuVe7aLxHe044nvnd/xmByYAxPLv8vEIoxp5EuEEJwZGE7gjciVPFa0SNSMSKTglMCZHIw4iwSr5KTAi2SfgKmwgEx40I2wiRCEsHMAQ1BDyGR8YwgzdAaf+egf2C2b+de+a7cT0q/vq8oPeVdyA6tnrW+KY2iDUqdkl5t3efdA41Ujc9doM3vjcC9Yk3JzlnuNs47rmNOZR66nzG/S586/2/flMAf0GQwWNBjUMHQ/mEwkZaRcgF5wcwB+fIVAlQiQBIIcijimeKqYlHiL6IRIk3iawIyUbRBp9HucYLxKtFSAUpAkGBhcGQQQ6BkP/Ze2a7j7+8fiO5jzgn+OL63PtXdyRz1LcYOi13xbSg88A2xzmWN0iz+nUueNi5+rgCNri3mfuxfI46Qjp3fTh+or5D/vEAFcGfwgyB6YJmBQWHIoVUQ+sGNkl3yZ4H18bPyCvKdYswCZiIE4hmiZJKEQl9yFaHbIYixv/HyIa3RC1DEgKpwyUEMMFh/Ze+f//EPof9FTvQ+d/6RXvFOaG3kTit9+M2tbdEN4j2h3ac9jy1xXenN9C22Tbl94i4yTopObI5Gnr7vCs8Z/1S/nb+Tr+AwTQBcQICQ6cDwYQXxUJG3AboBvgHuMgeyLRJe4ldSMAJd0n3SbyJKkk7yPaIS0ghB9XHaYZhRcKFcgQGA+8DbAHtAImAqP/hfoG9y/0mvCw7bLr4Oj85PPiNeIR3/XcSd6E3MTYL9pE3MTa0Nos3DDcb9564j/jB+KU5Fzr5e9U7zjvA/Op+VgBHAOb/Rn/kQwaFtQSXQwqDq8ZpyRuIy0ZDxb2IcIuRCv9HmscFySDK4IrFiJfGfAcZSQFIkkZ5BMKE88SAxGxDX0IJAPSANn+/PoL+XX27O4t6gTso+um5j3iTt/L3ZHeNN+m3HPYq9d/2gjcetwM3cLaS9p94VHn9eTG4obmU+1u89H0PPLu85X9gwZFBV4AowWBEQEW6RLBEOAURx8BJekd/hefIKkrRykyH64duyb7K1ElrRsuG9QjnCaCGYgNaRRNHiIWPQX9/74IRw/NBOLxZu1b+lsBTPKD3sXfz+4P8XDiodSs1uTkDuid2M3P2tju4fbhr9pw07jcLOyS5nfb7OJn7Wvx+fM77t7shP7aB2f9UfydB+4NWxHOEdwO8hQMHxkeMho3HiQkhCW8IiYhhyVhKa8l4yB/IQwkDiTkH2sZoBdrG/EZfhBbCxgNgAslBtwBHP00+pH6QvZk7tzsG+7w6UXkjOK+4knhVt5b3LbbGNxW3SLcttla3AfgIt/R3+viROQb6KXrWOqv7ob2gvXO9mP/lwC8ASwKagq2CXEUMhcfEjkZeR/4G18fAiSXILAisCdLJKMi6SWsJBUi8CF3IIcedhz9GA0XshW5EdMNBAtbB6oEbwLv/L73V/ef9RvvW+sv69vnMeR34/rgeN5i3r7brtrW3gLd/Nbo2bjfseG34i7d79l86cT1devE42brRvZ0AsYD5PN98zoLuhYBDzEJ4QnUEtQgbiKDGfQXZh2MInEnvCiMIyUdNB1rJWUsRCe/GOcP/RgzKFMiRwvAAY8K+hTbFO4BAO6K9ksHrv7K7WDoqOea7NDvc+N42o7hcOJn2vDaOd/Z3dTZa9bc2Q/ko+XP253YA+Ra8DbvKuat5oLz+P4L/in1rPeICeAQRQcSBqMQXxg1HGwY3BGTHLAqNyNPGjAgZiVXKN8nGh1RHCIo2iNBGSoczhp8FQEYjRG1CI4PWg2w/Vf+RAM7+o31YvSH7MHsaPAw5wrgrOOO44HfGN5Y3Nnbqd2r3OXaK91H4O3fMd/14l7nF+he6ubti+7M82r7wPkj+ucDjQYDBhoOmBBzDh4WehplGGIeWCA1GyAihChyIpYiPiRfHwMmGCuLHC4XniD1Htka+hgCDDkJGBd5Enj/zvuu/2IAaf8I9GLnrOxb9STubeE23dbhb+fX41DZPNY+3uHjG94E2HDcmeKx4wDknuJL5P3uYvLM6njv7Pvt/P38nwB7AG8IchPaDuQLQRVKGJIa4SFCHTYZESP4JFYi6iidI48YKSLbKhEjhh3+FrARPR7rIkMPQAQpCMoKOQ+/B7nx7vBE/4f6RvD/64Pjp+V07mXkyNoP4dTf0drp3Zzb9Nu140jcFNRc4aXqGucG5njg++HQ+EgBWPCg69L2vQMkEQUMZfqkAocYyhzlGW0UvA4XHeMrrSFEG3Ii6iB+IbQnziGtHjUjyRrFFbwfxB3TEvMOpgjDCbUU8Qkf9Wf3NP7T+w76E+2C3/nqIvTj5qbd/9u723/lnOVn1YrVcuDu3t3f1+Ei2kbfGeyc59/lMO8G7lTv5Po7+zr6KgLsAaQEJxLhEEgKgRNYGUIaVSE/HPQUiSNCLE8htx2rH6QgkimPJgAVThZbIb8dKhi+EC8GGg7TFqoGZPqR/VL72PtH/dntuuRP7VftwOgG6MXccNe/46flH95A3e/WSNaX5zbq99tr3PHiGecB80Tz4eag7Pb5x/yKApcDvvsDBM4R4hCaE0cXpg92FTAlbCI2HXUgJR2/ICYsviVAHFsgiB+KHvUjghtsEa4WrhS9DcoRcQuv/UoBjgMf+3r6jPTW59Xu0/Ug5yjgGuSX363ioegv2gbT+OFw5CjdL+Ez3/Pa5+eY7ubm9ul67gHs8/euA536ifd3AS4GGRBhGA4KdgTzGa0khx7TG24WtxgDLAAuCxwIGl4h+yJ5JzkikhMCF3QeCxY0E0kTLAfzBMILNwTs/A78q/Jc8Tr6C/F44kPk0+eN6UDo5dfE0ZXlMOxI3OLT1NU54aTxjuiS0ifcPPOe9hvyEOuM5837eg0pAEb4Kgb/C2YO2hbXEqUPPhz6HakXuiGeJiIcER12I9QhgCXqI5MVFRiLJDwcOhLVEzgOBAzIERYHh/uxAnwAH/T89Qr1Q+uB7TLsud+74+bqB94m2QniMd5J25PiAd0m2BDlJuf63a3kFOyv6fPvkfPM7a339ASW/rf8SQaZCP4PjhlvDkQJoRz4JOAdshyZGOEZdyxtLXMYzRauIRciTySbH2wMrg0fH5MYRwmEB/ABEACyCuQCLO447+/1BfG/8FHrLttQ36zuO+bK2JPbz9yp3pznBuEV1Pretuwt573kQem86Lnww/u69eryRf8NA4wDQg3wC7cGkROgGzIWOBphHOEWOyIULMwdORh5IwwljiRSIz0UyxNzJ6UhfwpKCo8R0hDoELQCRPC//Z8Nl/mw5dbp2u9q9PrwE9pa01nrovCb23/VWdwe4I/n0uXh13/d4e5c6pXjUe+P9E3w0PRz+db9fAkmB+j6tAdiHEEYfg/1EPAUUyNCLMIZuRDIJEIs4yEqH9QbAhvuJewgAxDRFXMcOg4UCkcPDQctAxIEG/eb9KEA0vXG45HqO/Bn6Bzm79+D2EPlqOv62C3UKuMh5Y7hxOOE3kbgsPGj8r7ll+yB+QX5cPx3AUP9mwNREd4NXwq3FSAYHhT9HNAgjhk6HgAlWB65Hq8lix6sGVwhJR5fFZMYNRbMDAcQTRBAA0oBbwWq+0z2zfqx8m/ppu717KfjHOaT5Vvbe9755b7eQNsA4Lfc095x6jDmgdxS5o3w9+7N8nv1VfDx+B4I5ASEAIcJvgyUDeQXXxn6EloZ0x5aGp8gJihLHVYXdyH4Iwcgqx9dFqIOdxpcH6oOhAU/CFsGKQdCBtb2re9z+af2derX68jrduL/4pDl796r4Fblntp/1lvkFOiu4Nvg++BS4zPy+fU46H7q9Ppv/nD+RgOtABsDzxGGE1UMFRUmHZQWpBc/IP8gHiMQI8EWIRg+LGsrqxW7DiEWQx57I1QUmPlT/mEY3hVN/MLttu5y/IoHw/M817fdcfMG85Xk6tcO1Ujjoe5R4yLWB9qx5JLrfOrO44bkMe5K9Rn3Xfbp9sH9BQXZBoQJXAy4DBITSxqNF3sXeB4NHmod8yOOIYUbSCFkIyQd3R3LG1UToRcYHPgOCgc7CxIIrwT1BGf41+5L+WX7V+zc5jfoQeXu6Ffp49sH2snls+NE3UviIeIx3xzoX+sz5efrkvRl7wjyj/58/ub8jAVnB74H4RIXFSIOOBVYHgIb1BuQIM8dfh4xIy8geR2pH3EdzRldGVoXZRRyEaQMpAktCGMEVgCw+7X2UPaX9P/sjOqQ67nlBOME5lXhl9224s3gSdzJ4pjkYN/n5DbqpOZ1697yKfD48lD8//zT/QQFywdJCcoOuRE7E9sWJBm2GsQc2x0vH3wfmB7dH1of7RtiHK4brxUPFeEVAg41Cm4MUQXH/mEB+Ptm88z1+/Kn6ZbrtOsh4oviXOaF3/3dzuJ339/d8uLQ4g3ideaH6K7ptO2o8HfzXPdU+kT+NAKmBEoJdw02DtMRDhd5F20YyhzaHfccLB9cIEge4R2/HkocZRlQGfsWGRKbEL0O3wg7BuEE+P11+uz7HfU07crvye4f58rmlOXw3t3iUed33YXalOO64/3hXuZq4zbj5u8W8//rbfBu+U/8EQBGAhgCsAhlEMkQihAKFOYYqxxrHF8b2h35H2MgqSDhHQkbAR0/HVsYMRXCE4QPKAzpC6EIawEg/d37E/k09sDy9Ov66Drspema4TLhM+We45Xf/d0O4G/myulZ4+vdSOeE9r73+eyT6hT3Rwa1CikB5fkVB5IZ+RhjEH4RZBaBHHsj/h/JGYcffyEsGsceHSbgG/QR2xMqFQEYRhdgBST6JgdoDWf/bvNE8DLylfYU8cHksuMa6ZvmR+As3+bjk+ZD4N3a9OF97NTt4Oap4UjqDfwlAOzzwe9B/SoMGA/5COMEqAtZGa0e4hdTFIwaph95ICMhpR5RG3gdqR6iGuwYshiUE2YO6w31DGkInAOE/7b6Bvg6+J30Oe0s6qbp++Z85iDmo+AQ3jrileNH4fPh9uOZ5GrmJeqD7e3vgvJu9Ff2Hv2BBZAFVAIYB84PvhWFFz8TyBFjG6UiiB/pG+kZQBvjItohshYZFhQaqRQcErkR9wnpB6sIA/7n+SQBtvqA7fLsMe6v7Eftj+UG2zjg4On85UfdrNtB4OfmuOm95dniBulD8lb0f/K59df7UP9UAsEGPQqqDIEPUxIdFSgZJhySGlwZ6h0VISgeRBw/HE0aIRrVGQoUPBDMEXgOQgYuAy0EvAEO+/zzSfDO8Uf0Ue544VreMeiu7Ivkx9rI2GXiHO5a6dnbnN1h67v0q/T76yTq1fpwBsz/3P0iBR0KJRHWE/QNEhTyHx4axhR4HkciyB5PHp0ZEBh0IZ4gERKzDc8TTxSDDsoGNQDt/z4C0v249ELwV/BT7jjrieqe5+bgG9/75OroMeSJ3JfcuOac8NLt7uHX4bn0nQKl+vXuJvQ/BmQTeQ2B/wIFPxqvIf8X2A8zFEwjRykaG1gTDR+TJG0dqheGE5IV6RvfEeMC1QhwD10EOvvy+G32Q/mk95rpkOQL7RPtSOTQ4AjiuOMQ5WbjFeHS4+3oyukB6cLsivE684X2cfvj/QYBnQT0BjMO7RN4DkAOpBq3H/cbyxmeFr0btil8JI8RWxJ1HtQguht/Da4BCg3FGK8LgPqB9IH3NgNTATvpGd846/Lx8+8F5mrV09lA72nuct6/2qneSumD9gTvqd/a6Ar84/9Z+zH45frZB1cS3g3xB7YOKBlcG48YIxj2Gt8etx92G/kZIx7SHB4WhxRlFHQSnRHrCQcAeAS/CBv97fM/80LxF/SW89fjpt206RLsqOP13tPbjeEM7VTnk9yg427t2/DT8tPsyOz8/mQGefxj/RsGFQz0FLkTzAnqEWkgGh4pGccYnhgNIEQjhRhoFVoa1RbRFFkUSwv3CBgMNgPN/YwBRvrx8fjzafCw64Ptduc+4Tvm0uVB4aPjmeHP373n5+eN4wXrcO6467Pzh/iW9Sn9gQNnANsG4Q5jDKQPpBVeFNEYch2IGLgaISArG0Ib6x7zF1IWcBq/EmUOWBLXCqADwAaXAVf6qftF9ozv7PHw7YDn5+mx5pPhVOaz5C7fIOVL5mnhIOjY627nFe5V9ADxuvZF/lb8DAE1CDIHIwyLEhUQNhTjGlwXoxnLH+Ya9hrdIBMbZhi8HZ8X0xHtFSERFgrcC+AG8/9tAWX8LvXM9lnykutl7rjqYuPy56Xnb+An5LXl4+BQ5yrrA+Qb6IHxRvGh81n22PSZ/tsI7AMmA88K1Q59Fs8Ztg8ZEmghXSH0GsUa9xeVHJYluxrwDeYUoBg3E4sQxAV6/TAJvgqU97Lxx/XQ8ZHzxPJ24rbfk+zH6WTiDOXn4P7enOpr7Prl7+mB66HruPgN/rj1tfinAL0DjQ5AEl4GzQnXGX0b/xkLG5gUSBgiJe0feRZ0GhAZIhUBGmgUkAlVDrENYQDdAFcE2fkr9rT27utT65v0reu332zj5ORM5VXr+uNs2XbjX+737PbsnemR55b3mQKj+W34qAChA5YMlBMbC60LSRh0GIEXEh4tGpcWPx4eHaMYvR07GFsNsRSMGLsLLAcLBxkAIQORBMfy0et497L1T+tE6EnideJK7lHqdNuK3Q3lrOd67Zfput8O6X72D/Y2+Fz5VPNc/bMOmwyMB6oK3woLFCIi1BqKD4sWsBx0HgEjvBnMDVYX8R1zE4cQZA99BG0FSguJAH35APwM83rtWvUj8frl6ubE5ajiFOk+5xfe8eLj53DkIOpz7vvoGO4H9ovzIPrzAwL+2v1JCrwNug/SFMYO9A52HlUgahdbGY0Z/Rc/ITkfuQ+AEa4YjRBZDUwOHwOU/5AFKv0d9VX5BfOg6cruHu6Z5fznweYv3iPl3+zt4qvgGOpd6bbqL/S08CHtd/o4ALX78QKZCA8FqgwBFRYQEhOwG8YWhBa5IDEdsRZ/HS4cGxSeGQcadw2RDVwRLgcBBI4HMv1b9lb7gPVN7s/yHe1k4t3ooOzc44HkIeYQ317maPK46Jjh6+2C9Hv1ZPsC9/nz+wW6DwIFrgUrEFASKBcqGvIRqhYPJSEdXRGCG+shfBolF1wR6QtkF+0ZeQNs+gAGQAbL/pj5Ne5F7JD30vF/4ynoOutX4Qrju+kZ5qrneunZ3+blafsb+ZDps+2d+UoDJw1GBSv3uAWdG/gY2RGUEeUPDRq7J8QdgBFmGUAc0xb8GxQaxQuIC0YQAgkTCNYIWflU8sv8Ifvx8Knu6Oc74/zt7e+34erdTOTn5pHq2OsG5WnkC+/W9tL2CfXJ9X77zQTJCvYIGwauC7sUkRcwF7UWGhUwGVQgbRyBFcoYZBm/ExgVLBSiCncJMgthAhn/0wGl+HHxefWJ8f3qj+3n6IXhL+jj6bTgsuNZ6Y/jkeaY7wLrk+q19fb1uPSo/20BAv2RB04PlwpfDmUUChLcF6IezBW9EjAeMCDtF9sTpBLvFA0ZshF0A+UB4AoqC7r9HPHB8Zr5Mvqf7j3hZ+IM7/rv+eJJ3QviiufX7Fbr5OLc5sbzA/Q98jT6fvvy+ckDhgnwBxwOmRAFDHUU9R1vFy8VbBs2GfQXCR21GZ8TABT2EMUMrw97DisDuPqY/FABK/5V8tXodep18qfylOUP3DTkU+4I6pLhbuFn6Fzwq/Dh6cDri/mlAH/64Pe/AZgMyA6BC98JJRBFG9gcwxRAFDkbvhx9G3IaQBWRExMXsxKWDMMOBQrf/i8B8gTi+vTzNfOm7srwhfPy5aneyure7SXlruON46/lLvHe8QjmuunI+OP85PoZ+8D8agQ6DggPLQuJDYUU1hiXGbUZyBivF3kaPR3tGfYVrhSVEdUPTBECDdMDjwCGAdf++fnd9Szx9O2e7s3tuOhW5n3nFea65Srp4+gX5xvriO787srzQvhX90n6NgKiBVQGQArvDY0PUhNxFy8X9RZTGgAbBRmhGp4ayRXTFIEVhBAxDfwMTAfsAYQCS/++9071BPUK8SPtJOuh6M/n0ulK6MDigeO/6kDt/epB6kDrx/Gk/GL98vUW+RgF6QtbDTcM7Ql1DlcZhB0wGBkU2BVlGTsdaB7WFicNVA7xFI4Ujg21AvT50v7/B0YAUO/d6anuO/Nc8jDpU99v4QrrCe0L5wHk3+U46X/v+vQT8+Xw4vVq/MQC2Ah+BtoBQQqhFjYXmhJKEj8VixoNHrsZrhNnFV8Z0xWyD5wOfw3xCIUF6wFn/fX89/pJ8vftGPBN7tTq7OjX5FLkLuiv51nnO+kH5r/np/II9UDxSvRp9xX9wgiAB9z+gQcHFBsUuBOWEjIQYhp1ItYWRQ8aGAocxxbHEQYMVgpsD5YMmv92+vf+4v0S9o7w7e1t7d/u/+o440Tkeeo26TnlEOUY55DttvJg7hrtl/Vx+03/bwO0/yUAhg1oE+UP9RHnESIRpRsMIM8WtxSgFooTrhjiHCsP8QOqCJEM7QrbBRb4ue6u9y4Aa/bP54Tjreeh7mvwy+ab3d/iqeyE7sHtvew66u7u9vmE/7j/H/14+uQExxUBFQ0Kzwn9EeYd6COUFVoJmxfuJJAcxhCtCiUNKRmJFcv+OPk2BisIZP1R8DrqhfSU+wntSeBG5HLrzu8669LeFuJv8RXyh+zs7uHw0PaMAC/+0PuXBuoK3getDqQULxJzFA4YTxYcGYQdhBh7E9kWUBiTEwEQaw0pCaYH5AZ7ALf6pfrP9xzy3/Bb717raurX6Jrmr+kn6gzmA+k+7S/sW/DH9GTyVPfX/2H+tgBTCecICgqpEqASShFTGKIYZBUeGq8aoxbwFxEWABKREyUQdgnwCbYGxP8wANn81fSg9Rv0KOwp7fPtxeaZ5wnrXeZA5+Dreekc67XwnfCb8/z4/Phf/esDXQMgB/oNuwx5D5AWHhQbFKUaOxguFvwavRapEZUWmBSmDLYLBQkDBf0FGgA+9+f38vYr8ofxG+yF5rzrrOvL5APoYOre5azp8e127NHyovZK8Ab2mQNpBOcCKwSaA5APMB1YEosHtxNvHZ8cChuEEN0LShzAH1sMYwZzDLoK0gngBPf2hvfX/y/2Huyf78/uvOqM6Zrk3eZm7w3oHN9z6f/y6fEI8G3rMfB6BEYIs/hC+SMIZBGAFUIPtwV/EMgg+Rx5E3MRExPwGaobGRHLC0kNEAq+CVEJ/P6F+W77BPev9CD1susj5wLuyet55fDnpucS55fs6Okr5yrzqveo79HzAv1G/z0G2QcN/68HPBnKFMMMdBI7FYwYvh6HFdEMgRcZGxQQ8QyHDG8IkQkdBYX6LfwU/kH0f/Az8WbsU+2D7UDkauWs7fHoA+Yb7Ifr9OzZ9DjztfL1/Bf/XP2sBSYJFQi6D7cRxw0ZFu0a4hJJFbYbXRV5FMIYkxACDdUSiQswA3kHQwPW+fD7avnJ8PTy1fFW6NDqke5U5pfmBO3W5+znLfEz7uvrHvfu+An1vv7mA9T/hweBDvQJ7w4rF1oSJxPmGuMW0hQJGzkW3RDoFh0TaglKDVcM6ADCAS4Dvff+9e35FfD06x3ysevV5erszOre5CHsBe7i6FjvOPQS8eH2v/zi+sYAGQfqBCMK9xDsDUgRJBhFFBMVOBuAFpIU3xm0FMgPwxMZDy8ITwrtBYH+XQBq/OrzP/aH9F7rvO1s78zmpejx7QPn0uc98CjsrevM9eX0WfPf/dH/KP2hBsEKNAfBDmIUiA9TE/gZhBW+FCcaFxfSElcVtxPCDdkMCgwUBlwC5wE1/bj3R/fM9PHuWu567rLpF+lc6yDoRuhl7ZTr/urE8szzuvFD+qX+VvukAuQJ7wViCkUTWw8XEA0ZrBWUEjYaqRc8EXkW4hR4DEgPGA7fA/kEtgVw+gX5ffxM8iLu6/PY7KXm0+0U6/Xja+tM7XrmN+0r857t0/Kq+wf4NPsEBekCZgS9DkYNhguNFZEVDBDcF8sZTRFaFfYY/Q6dDkMTdwn3BOkJxQEy+tr+dflI8EL0IPLn6HXsI+6k5arnWe0M6BTomu+t7r7tCPX/9zf33PxIAlMCmAW3C7sMbQ2bElcUrhK1Fa8XNRSOFFMWYRGaDnYQ/wsHBlgGvAPg/AH7BPpl9PrwBfHv7TXq0urF6vDnxuiE63PqUesi8Cvx5vGs95n6Z/tzAQoFmQR7CnEPBA2PEMwWNhPvEmIZwRVdEcAW+xMtDIYPNg5ZBDkFpwVc++j5HPz78t7vtfOm7E3oHO4D66zld+sP7cHoM+1O8pnwU/Ov+c/6nPwCA/4F9QWSCvQPRhBOEXkUKRQNFUUZnRaXEOUSkxX/EO8MUAkDBDgF2Qef/g7zA/ST+U/3Mu+5523mNO4e9EzrSuAx5oDzkPZ38XrsMO+7/cUH3v+I+bkD4A70EMIPvg1VD24Xnxo3FDESGhjoFygQuQ3gED8Q3wrXAoH8mwCQBhv8Zezc7E/1tvac8E3lseBr7av3gO2g4u3ozvTd+dj33vL79DQCPwu6BQABawkaE4oUwRJ3EHIRiBl6HM0TvQ8GFKITthBBD5EItAIZBZ8Ecf1Z+bb2WvHM8Hb0yPAX6LLmeeu27qfvb+wY51Hsa/lx+/H0wvVP/PcDXQvACSUERAqUFBUWKRRdEigSxBeyGZAT2hFiEkcOyQ3dDAsF/QLPA9T7HviR+lv0Qe938T/t5emY7rzrvubV7BLvGutQ8GP1ifIv9t396v2w/9sGHgjQB4QOkhJlEGwSExY2FIMUxBdsFE0QwhGGD/YKvwueCMr/5v1R/8X7e/fS8aPsM/Dm8gHsq+eJ6KjpP+8N8c3phutZ9Zz24fd0/WX8Sf53BxYJ3gn0EAEP/Ap7FKAaChWrEt0RwQ+UFRsYPQtZAlcISQuaBMn96ffH9KD4d/gQ7jrp4O117dPpMeve6pTp3u2373nu5/PG+E73+/kDAE0DlAc6CdIHxg3hE1sRDhJZFb4S2hOXFtwQHg80EmMLBwaCCYYFW/7j/Sr5KfRl9yv0GOu16z7uoOvL6q7pn+mJ7rzuRewO8of3EfhQ+sf6FP4tCvwMeAT7BvYQPxVfF7oSnwoNEkIdARcaDTQLBwuwDZINzwNf/Zn9+vqK+V74jfE47uvt0Olo7Mjx3uoU5SPqJu5B8xH4dvAe7UT7qgTnArUCwwG0BCcRkRUSD1oO3hGuFNkXnBRaEHsTWRHICZgKAAwDCFsE+/pv89j8JwKd88vnW+gM7hr33fN34ereLfDm+Ev02Ox/6hr2RQNBAeL8MQClBMIL1xCnDTIPnhQtEVgRIhk7F2ER7BBJDScNARPqCy3/sv/LAW7+z/yR9kvufu8Q8sbwve+W6drknOxw86nxge8q7Bnvv/5FBPL5DvmUAnsKuhE6D5UFYAxbGocYxxJAEsgQ7BQnGOoNRgnFD2sKXQGeAw0BI/vK/Jv1h+v886v41OuB53PrKuvR8Qv1Xuig5wH4+fzK+Rj6r/dX/kIPtQ6cA0YI3xDoE6cZdxUGCtYRsx0zFWgN7g6cCswKNQ/ZA+H5xgCy/7z1yPXE8zntMPHe8bToC+pl8NLtne0y8EHvsPRu+xz5EvpEANcCVwjQDFkIhwo4FGQUThJbFNER4hKNGJASGQsND9IOZQg3BqABkv2/APr7SPH+8p/1ke9m7ivtqOfk7U70yuq96LTzX/Vn9Rb7MvgX+RQHrgmMA1MJtw1hDCcUuxfhDxYQNRRjEmkWzxbIB+EC2g1WDmAGfP+A8yHzkQPYAKbqBuVU7DTxLffL8GrfyuND9uD3fPOx87vvvfTGBK4HigI5BDEDvAbCFwUbBgwWCdkQzxWyHMoX/AMEBA0VYRIbBcAA2vvw+40Cd/ny7JDz1fUs6lbpO++t7mHve+sN5Hzv6/649j/tPvX+/YAFjQqcAGT9QxBbF0UMRQ2kExMSxRQAFHoL0BB8F+8Ibf90CJoKwQOH/CfxSPEoAN/8zOdN48ntSvNF8y7ssuGv57j52fsh8FHuOfd8ALcHCwZZ/b0BwxGQFakOmQy8DWkSWRr2FY4J3wrPEQIPhQrWBHf87//uBQv6m+/T9Ln0p+/38JvrReaO8DLzyuev6o/0RfOI9YH5JvW++0QJMwVEAJkJ6A1CDuoT5RBwCx4UCxk5EHANrRAADR8K/ApzBUX/YQBY/hP3JfbY9oDwR+0F8P3treuV7iPtA+tc8Yb0h/G59WX7nvqR/oEFqQSTBQQNkg7ZDI4RVRTmEI8RnRSZEQoPRBCLDJAHsQiDBin/vv04/QL3BfWj9Tvw4u1P8A/tdOsR8JDueOwi89f0WfKq+Sn+g/rXALYIAQX3B6UQaw1XDeQV8BLrDuUV8RPyDGwRbxB3Bw8J+gib/3L/3QBS95D0aPgX8k7tnPF/76HquO7s8FXtJ/CE9XP06vW+/EX+VP7MBFIIRgcoDKgQYQ5+ECIVSxJaEfMUlhGYDcEPRw23B/EGMgTM///+HfvS9Y31z/Mn8Zvxfu0C6ijw0PKg7k3vovDT8v781v9t9+X5dwXhCmcN1QpHBJ4MuBtmGIcN0QzuDxUVTBntDicBjgWODv0IQf+K+gr3aPji++f01Ot77lfxke2f7gHxoO3+7nD0a/RA9+D9EvwF+4cE5gkHCOEKxw3VDG4Rexb7EYoO0hIwE84OeQ6yDH0GzAXWBiIAGPum+6b33fOH9YXxmOs+72zx3Ox17SrwvO/T87D3dvX79xX/mgFHA0cFmwbmDAoR/wzTDX0TPhPQEhQSLwyBDSwTJwyHAzIEngK4ADoBOvjE7yH1nPcq8SfuuOsq6ubwcfSj7ljsrfB795b9wfv099v9TgZ6CswLfAfpBooSGxi0EBMNJQ5CEEQWlhIuBPMCawtsCTICXft+9P33cP4S9qzqFus78G3zifDk6DrqEPNf9Vj0r/Rg9ZP8kQNZADQB1wnLCgUK9w6fD0sQOBQ/DyQLUhOaFFMKxwX6BYYGjAiqAQb1TfSt+sH6TPS56knoDfGE9KPu4OuZ62julPfX+fn0Q/jz/Nn9+wXoC6sGbQZEDJQO5hNpFrgM2QiBEcQUCRCcCQoDvwMyCB0Ekvzl93r0I/aL9xvxmO3E7tPrSu0j8/7vGO1L8kj0B/cj/m38GfqrAz8J1ga5Cc0MGw2BEToS5Q3RDwITbxDQDOUI8Qc5C9kGR/3Z+1n8+/kq+SLzMez+8AP0Qu2p7LnvDe5B8fX0A/IJ9s/9pPvm+7YDgQbXCFYMjQiCCmYVDBQvDWgQERANDa0Spw/sA5AF8QcSADwAfQB69APyq/hF9F/wkvHC6lvqoPWi9MnsTPCa9JX3J//u/Rz5cAIbCtcGjwo1DxcLsQ4CFaoPyA97FU8N8QdSEK4OdQUJBDr/aPsgA87/ee9K7uL16vRf8zXvJuc37Vb5z/XM7onxJfe1/tkCAP0w/a4IUA3hChwLFQwTETUXRRHoCdEPGRXQEN4KtwR5Ay0KPwj6+qf1D/kX+pn4tvI56zHu5vSl8dft2PDj8Wzzk/n1+aT33f4UBZgCNQVmC8QKRA06E10PdAxoEyAUIQ+/D7YMKgcjC4gLbAG8/X7+L/rP+eL5yvEJ76nyqO+u7xj1xe8a60H0+fjK96r8Iftt98MEwA6qBgkFkAvoDC4TVhdeDLEJuRSSE0sM1AwtCREFJwg/Ayr7gf4y/XTzePNI9f3w2/IO8jPpMO4g+XzzSu929vH3JvvwA9b/NfwNCWsOsggGDAwPSg3tEzwVtgprCxITXw+5ChsIGwDIAC0J9wEv80fy9/bx90n40fDl5CHqPvrx+drtrupy8Ef7uQXd/9bypPo7DUoQPQqcBmIGfxC4Gh4SMgdXDOgRDRA1DTYFFQB1BygHAvoY9wP67fVz9s/1WOrb6hb31/Mr7JbvRfDA80f/nvuk8RX8TQizBuQGuwYKBQsQWxc6DG4I3RGhEowOHA0OB88FyAw2BzL5Wvo4Aaz73POn8bjvLfJm9jXvo+eP7wD3LvOP8pf1//Vu/HQD0f93/58HhQn+CeAPeQ7LCdsOJxMOEJINOwpPB7sKBAvlAmP8B/sU/Un+e/a87VfwTvRX8n3wHe3X61bzo/Y68jP1iPqQ+S79ngMmBG0G7whPBnMLTBUgEcwIqAs2EFgRsxCNB+3+UQZODR0CP/Zn9z76Bfp291zu5eko89H2qu3e6x/yt/Pk9cH4ePby+dICCwKBAGsIcAuoCEUMNA++DccQORExCrsKJxE9DFEDzwNVBBsAu/4y+9Dz/vSy+OHxT+2+8Q/xc+508rnyFvFI99v59/bs/GsDIgE5A1cJkgleC18Pgw0GDasQDBDFDdsMeQq4CYwIWANYAfAAo/sS+Rf5XvTY8or05u9J7h3zhfGR74P0IPXX9Eb77vyp+zACAwY9BJAI/QyvC2cNHBDvDhcPhw+3DZQMfQofCHUHlgN2/5//K/wW9/r3IvZD8dfyZfIi7vjxH/Wv8JLy7/fM98L7fQAG/VT/UQkBC+0I/wqhCxgOdBPYEWMMTwvrDCkPPQ0eBQwBPgINAf3/tPym87nxTPf/9Z3ywfHY7A7uh/hT+Q/ze/T29xn9gQZwBVL9fgKbDSsQww7gCywK9g/GFMoQOAvFCBAKWAxhBxoAz//s/iP7dfrE9u7x7PQC9Qvv4vBI9ILx6/PL92j1uvh9/1z+9/90BkYGLwdGDYANGQ1KEL4NWw13E3UPhAeOCtUKmQUsBgUB5Pd6/ecApPQ78Mv0GPOB9Hj11usA7ez6mfqR8/L2W/q5/r0HqwVf/9cGTA5RDVkPJw/xCrwOixG1DPQN2A0FA5wBGgm6BIz9BPvX85/0qf4Y+IrqEu4K9MrzwPad89vtcfciAJf6UfsgA68DUwVNCTIIYwwcE2wNdAjADqgR5w/HDfUEyQF8Cx0K9Pxp+h77uve/+v34CO537xv2xPAF8FL2P/Mm8ub42viA+pMDDAIF/SsFWAzZCz4NKgtRCPEPRhRoDY4KAQotBlIJ3Ap+APP7WP4F+ez3zfzF9CTsMfFY88PyPPef8dXpCPVKAID8Hfp++qn7EAhgEGYGZwGLCqUQPRIYEJsHCAhpEXgOZgW0BEMDawEzA3T70PLy+YH8KvE97qrxJfHa9U/2Xuvp7Yz8Uv3o+Bz7/PoyAA4MTArmAhIIFQ3xDAQRvA9ECAsKgA0ICYEIEgmp/yb6n/+L/0D5Avdh8jHt/PMS+rjxneup77/yCPg4/sD33fG3/IAG8AWGBu4EjAITDDMU3w2mCaoLDwpHDHgQ7gjEALAC6gGr/uwAWfyp8HXxKflk9k/xmfBx7Z/vbPlo+LfwhvW2/Hz8mQDJBI4BagQ3C2UJxQqPEUUNKQdKDF4P0wwbC6IDhP1GBcoIf/yt9BL3d/fo96T3DO8i66b0Cfiw8FTxSPdm9//5aP5Z/Gr/oAjgBt4CUQqiDiAMKg41DYMIIA1gEJ0IOAVABn4BkgDmAr/7gfUS+C32W/Ir9kv1cO0+7032yfUm9mn5NfYs9/oC2wY6AacCmwZpCPUPFRIFCPQGQBCoEJgMVQq2A7ACyQmiBZP6GvqC+1P4C/iI9f3vL/Is9jDzGvG78x73ovlv+db5wP6fAiYEWgZABsgHRQ7lDsMK3AxMDsALcg1VDIQFfgXaBiEBC/8K/8r4vPZS+U31Z/IJ9QLz2/Dp9JD2tfUH+O35SPsk/xgDWgXUBFMEQQpKECUOEgu6CmcL9hBJEu4GFQG+B1YJfARQ/2f39vZa/wz80vCo8EH0hvTa9uH0U/AD9s38kvrD+hQAhQLMA+EFFAhvC84M+AuVDBwNLQ55D/UKqwaUCb8I1ALLAZ//sPrn+976DfTe9F/3SPL48e71FPQx9ZT5YveB+I8AyQEaAGAEJwf5B74LVQ0ODDQMAw0wDvYNygr2CHEHOwS8BEIE0vxI+Q77kfhX99T3jPF977P2WffS8//1G/Yg96//xgEL/a0AYQZtByILQgyWCI8Lww9ODScNvwxLB0YIrwp8A34AvgIx/Kv41fzN95jyJ/eO9MLvOfYb97HxDvfY+mb3Ef2XArH+BALECJ4GighADuEKyQlHD7sNjArbC7EIJAZGCJ8D5v3k/5D9ZPjb+bz2CfEm9sH3RPAq8vb2SvQJ+Oj80Pdc+lUEJQP1ASwIqgfDB+4OJw0kCEINlQ5ICdEJ7AjxAxAFPwTQ/Gr7ovzc+KD3DPbL8Irz+Pdn8kPxLPcY9uz2iv3Q+0v7AQRsBJcBgwkIDAgH7grhDTsKKg2mDXwFZAYmC7cExP9+AHT8xPp4/LH2g/IR9hH1JPIN9C3zRvO++Pb38vVI/R4ATv0KA9gGsAOFCOcMOwiyCkEPFQluCOwNfAiQA0IGOQJu/mwBBvyr9J/4RflX86fzlvO58CT1zvcX8yr1MfuV+sb8jAK4AEYATAh+CjAHowpWDC0IdAuLD3sInAQ6CC4FywG0A6H9pvZE+8j7gPR99Lb0NPDz8z749/LO8nb4LviP+rkAp/6v/SYFrQfTBuAKCApWBoQMghDjCC8G7AnPBjoE4AV3/4j5lf6i/cf0afVd9z/ynvOr9oXxxvJr+Wj2//Vm/sL+JPzTAbIETQX/Cr0JBgRQCnYRvwzLB8cGBAaJCQAL+QGQ+Xv7YQA3/+H3/vFU8if1wveJ993xzu9U9m36Hfv2/TT87PlQAr0J+gdzB+YGRwXWDDMTlAsIBe8GGAhCCgIKdv9C+UP/rgBH+1z4sfPx8A74c/qZ8TTwMvf391j4mvzW+pD6lAMIBpUBMQb8CvsHeAo7DoIJYQmMDc0IzwVKCZgEif5iASwAi/px+sn3T/O/9775TfKq8Aj2N/iA+T/6Dfgq+tkB1AWMA6UB6AUzDHEM/AlFCmYKrgt/DWgIuwOKB/cGzP9z/gH+efqM+/P5n/L58wj5qvUe9Mf2O/Vi9/L9Kv3K+4AAZAIRBJwJlAntBqgJYQuDDHEPcQo4BAUJBQsOBaUDeQAQ+if+rQAf94v0EPgp9C/1YfrG9Fby7Pmr+mr6ugA5/3D8PwX4CasGhgimCVgILQ5DEGQIdAZ5CvIJAwjnA5b9Xv/LApv8gfdu94b1CPjh+hvzQfAI+bP6ZvgY/P36lvqDBBYHkwG1Bd4JrwdCDAkPgAjzCFgNawn3B0YJ+AIVALED7v9o+hr7U/nZ9kv4Dvad8wj3gvca9nj5KPow+m8AkwGQ/sMELAmkBdUItgzWCPEKew5VCNIHwwzYBuYBGgW6AZr9zP8M+1X1z/nm+f7zg/Xa9jj04Pft+gX4T/ry/sP+TQEgBbgEBAfHCd4HcwpFDs0JWAi7C/EHxAXICBoDn/2GAdb+m/hy+9/5YfOa9jz4UPO99gv6x/QC9x3+jv0M/6ACcP/aAaYL0QvOBlQHQQh5C+IQRwszAXkD6Ai0BoQDKv579sP5hAE3+/nx3PON9XT1U/qt+BDycveG/v/7av7RA1gAHQHFCLEIYwi9DIoInAQpDEUOVAf3BBEDmgD5BCEEefmt9uH6t/lE+Bf3rvEP8676O/hO8zf5If3Q+qf+EQKm/4YEYwoDBZwE9gycC18HlApeCKgEjQlcBx7+zP8RAqb7jvry+vf05PUh+nP0xvF59+73HPdK+tn4SPkoArkETf99AIwGmgnlClwJXwVaBpgM0g31Bbr/xgL5BeoClv53+Tz2Gvsa/dr06vFI9qH11vVX+d32mPYE/Sr9XvxaA7sE5gD9BDEJhAijCqQJ4gSVCJsMZgZRAoADMwGQAAgBgflR9er7bPvW8nLzN/db9W33PPn/8y73OQEX/w77RwHiA7gDfgmxCIMDIgkTDXYHkgdaCd0DfgMgBlMACv0n/9P6XfdS+gz4+PNK9nL2ePR49/T45/dz+hD8Nv1bAjgD4QBKBYIIBwf+CSYKJAXQCIgMVwXfAsAFqAETADsB5vll96n97Pnf8rj16Pbd9V35BPco8/L6nwBr/Mj8+QB+ArQGrwh0BPQFuguLCpgHlQc4BxUIbAbu/6H/LwOv/vb52/n49rr3wvvN9fTwsPeZ+QX3d/us+0f4+f74A2MBzQT+Bl8C9wavDmcKLQZ6B0YGgQhHC98CJ/zZADgCh/31+uP3jPbE+Y34oPR29jj40ffS+fn5+PpZAZYBXv0UA+cIgAbOBzgJrgXOCUMO1gb+A3EI0QTmAVcE3/4X+g/+9fvr9n35Gvi68z74nPos9u331fuo+wL/iwGi/okBcQg7CAEGrAY9CFkMtQx8BQEE8wjHB34E9wHi+6T83ALa/Ib02/c6+Tz3VPrD9yDzYPrs/if6xfxwAWX/7wL1B8cECAZFC2IIUwfJC3oJMgZFCOUFNgLbA8oB3Pxv/cL8bvjw+LD6Sfce9RD4bvrZ+RH6n/tt/Lf/5gRRA9z//AXiC98IhgdtCDQHVAt/DcsD4/80B7AGdAA9/ib6x/k2AF/8sfJ39bj6N/nL+WT5y/ZS/PwB4f5L/ygE8ANJBYgJ+weVB6ILxwgrBY0KvQrSApQCXwR9/5b/EgEt+bT2wvzi+bH1Bvpv+J/0Tvs2/iD6uv2vAOL9lAOoCZMEuQNUCQsJmAkeDLsGvwMlCVMIrQIZAiMA9fwc/zL+HfjG91X6Afiu9oD58vkZ+Av60P00/gr/iAJ2AiQC9gf+CYwFLgewCv4HiQgGCu0DewL1BtQC8f3C/3b8xfi5/DL7ZfWv9x75rvZy+lr8D/i3+p4ANgBYAS8EtgKSBKcJzwj8Bk0IAAguCDgIjQT8AycFDgBr/f//8vzw+UH7+fYj9Q78u/oy9PT3X/uU+oj/AQDX+sUAAQiCBI0EDwi0BZUH4gseB4EENQhtBcQBzgNUAfv87P0W/HT4XPpe+nz2ufZy+LH4M/oj+iX6IP5z/+n+KwOxBMICmwZ8CE8FoAisCl4EvwTICAEE0AFWA239pPubABH8QvZq+Z34IvZm+ln5zPRy+R/9Jftb/tEACf5PAbkGngXNBY4HPwUmBk4KgghQBLYCFwLjA7QDPf0C+sv7vfqy+tf61vQe9Cz7P/rv9vj6DvsZ+vQAEQIt/oEDtwa9AkAGAwqTBTwGzwgRBBEEbQfhARD+sgAQ/hn7yPyL+QD2N/lG+UP2YPh2+ez3Fvv2/ZD8af5eAgQC8wHkBZsHbAXaBTgIhgYVBUkH0ATW/7YBKwLm/Nb8Fv0i9+P3ifzS9//0Gfnw9zL4M/7z+3D4fv8UA7MAvgO6BFICVwdQCvsE8QT1B/wEGAQVBdEADP+PALf8Mvp3/OH5vfZW+U34wvWJ+pn7hfZa+moAkP2S/qMD/QDyAWAJswaJAkwIcAjLA0AHrAYJAFwC0QPw/Pf8Rv84+f33ufs0+K32YPry98L2lfzx/Hj6Uf5lAOn/7ANwBdUCHwVHCNsGhQYLB1EFZATSA9ICmwJp/5T7BP0k/ef5Kfq2+CL1lfkV/cb37PfS/AX8d/4CAxr/Ov/6BmEGsAPSBwUHeQSXCHEHPgK4BOcEMP+A/1YA6/um+y/83Pc4+JL75/hW9zr6ufp7+0T+Bf4t/rQB4QOnBLIE4gP1BucJJAZ7BCQHPQUABEsF6f/a/OkBZf/I+Br7U/ur99z6zvrL9VL6m/7a+Xv7NgGt/7sAiwQ8Av0DHQr4Bh0DVwd8CE8GcQb5At3/mQN2Axn9b/up/Kb7Pvse+jf4XflS+hv6B/yY/KL8AgBPAGP/PwV4B28CPgSdCAIHbAiwCI8BsgKgCawEZf69/8T9MP3eAEf7DPW4+ir93fgZ+gX7g/ky/n0ArfzI/0AFOgPCAgkGVwaxByEJFgXAA+MHXweBA+YBif9I/2cCy/4g+H/6Mf1x+RH6/fv697X5uP/n/AD8ewJnARz/6AUeBywDKwdSCPUDxAf8CSYD+AIyBo0BKQA7AiD94vqP/qj7cPi0+9f6UPjW+8n84/oy/lAA0/6FAUYEEgP9BOQH1QUtBRoIagf6BAIGPgXrADQB0gOH/wj7Of3Q/O75YvyD+1r2Sfo1/wj7YfsXAPL9cf/KBR0DMwFmB/UG/wOaCCkIVAMoBqIGmgEGA5oDqf2J/cz/wvuo+oP8Yvnf+Ib8NvsB+nX99P1D/X0AVQILAmwDsASsBZ0G8QWDBjAHjQSDBEIGUAIaAG8CAP/f+xn/ofxC+O77wPuz9+D7if3u+GX8wQDq/UsADwSOAH0CjQjQBcQDJQeoBcwEDAiSBOb/ngK9Agj/7v5C/fz5Cfz9/Fb5MvlJ+876YPsH/XL9ff6J/8kAYwOMAycDGwb8BeUDLQd7B60COASdBW0A1QDGAs78xPta/9D66fhO/Q36RPev/Gr81fl9/tP+NfzKAXcEqAD/Ag0G/wP6BbYHZAOGA8UGugMnAf0Bs/9E/nP/rPzp+YD7QPvM+cf69PmZ+Y/91v0V+9b+HwKt/w8CrgUxAh8DeQgcBZMCCQeVBLkA5ATvAof8qP+XAKf6yfv4/OP3G/r8/a34+veb/eb8tfwoAPr9Gf4bBUgFEAE/A1kFIgUxBz4FewC4ArgFHgLt/iT++Pw1/p3+s/mI97n7pPwm+Y35+vu6+5H9VQCe/X/9jQRCBXcASgMlBoUD5QUJB5MAbgFyBkUB8P0sAW/9jvrr/jT8hveb+5X7svfk+6f9hfmJ/EYA6P0iAIwDwQDnAU4GWAQ5A98FGQRzArkEIQPn/4cAif8C/cL9dP0v+h353/pk/D77pPj8+ZD9Ev7K/m7/Mv1mAPoGBwQTAFEESwXxA/oG5gOP/lID3AQ//oT+w//Y+vT7b/5S+Sv59vxq+f/4bf73/O767v5v/2L/xwP3AuP/8gOmBiQEGgT8AxQC4AN9BAQATP6u/8X+wf2O/NL5k/qs/GX62fmA/BH7C/v8/zf/nPycAVIDLAALBDMGYwG/A5cHgAIPAsgF7QDK/vYCN/9t+yr/4/y/+Nj8xvxQ+G/7VP09+hv93f8N/Uv/MAPJADYBMAU9BHkDMAVfA8oCyQX4A6j/6P+3AO//ef9n/Cr53/u3/oj7Lfkj+8r7cvzB/+H+ifvq/9IEoAFYAS4F9gLZAtkHiwQtANgEaQRI/wIClAFy+yH+egBc+qH67/3n+Y/6Cv9M+0/6KACI//r9IQKmATYAIAWnBesBEgSxBWIDYgRRBGMA0QCuAqr/uv0N/lj8YPz3/Xr7oPm1/Jv9i/uS/ff/7P0X/5gDIQKRADgFNgWjAVsFwwaLASUDpwUlABQAmwMv/gT8iAAV/d35av6l/Ab58f1w/pr6yf4AAYf9wwANBNoAjgIDBhMDSwOLBtcDXQLMBKwCZgAaAm0Aov3p/kz+0vvL/Cv9dPse/BT96vxb/t/+f/4iAUACpgA8A04FVAK4A+wGKQNkAi4GlgLI/8YDHgGr/IAAi/9c+sX90f6y+W78Yv8M++/8OwHc/aT+mQNHAcQAcQXnAyQC+AUDBSYCvAQ8BMQAKgIlAqT+If+r/7z8zvz//QX8+vu9/eb89fzu/vL+af+sAZABHQHQA50EgQL7Ax8GOANdAlgF2gKe/7kCrwHG/Fj/XADq+pP8u//K+k77OQCP/Nf7uQGh/6n9kAP3AtP/1wRkBUsBzgQiBnkBPAMNBWIAkACzAqT+xf0wACX9rvtz/vr8cvsP/sT9sfya/1IA4P7kAJoCIQJ0Ax0EcgIwA4AFmwQCArcB+QIiAh0AKwAs/4f8Xv4AAG/70/r6/vP81vtKAH/+MfzyAVgCvP5qA9AEDgCHA7kGAwLtAk8FZwAEARYFFQAd/ZMAmv7M/KX/yPzH+UD+Ef/x+9b91/6M/cUAcQKr//AA0QPrAj4DTgR1AoQCewT2AuAAFAG+AEUA2f/C/Qr9Bv4N/fb8G/6w+277UAC//1r8z/+NAXX/LANlBET/GAL2BoICeQGwBOUASQDLBG0ARPyiAKH/6fvy/uL91PnI/YT/YPtH/eH/bv11/3AClf8yAAUEjQK7AQMEswLZARgEhwLd/zwBTQFH/yr/R/6j/N79fP5t/AP8Af0y/XH+Qv94/Sz+HwLRAXD/GwLAAzYB3gLXBMAACQEDBdQAAf55AlcAKfzV/9b+SPp2/mn/u/m1/FUA8ftr/X4B5f22/qoDoACl/5YEugI0AAYERANKAMUC6gFS/qsATQE4/XL9r/6W/D39Vf6/+wP82v40/qv9Vf9J/5H/pgGcAcwAHQLmAmICLQLtATECDwLp/7P/XwEd/yD9M/+9/V77y/57/ib6Yv0FABj8Hv6SAaT95P7rA2wAhv+fBA4Cnf9ZBNkCCv+OAtkBiv2GAAwBKfyo/YP/5/vI/Pz+4ftg/LL/zP1h/YkAy/8r/+QBkgGBALACrAL4AC4CfwLHAPkA+QBU/0z/j/8j/qT9xf3a/Dj9Mv7U/KH8Of/R/ib9JwCLAZ/+lQCwA1wAhACcBF0BZf8LBM4Byv36AUEBM/yu/5EAB/uC/T4APvt8/F0AX/y2/IMBjf5v/U8C/gAs/xoDIQKE/zEDbQPA/0wBFQJe/3sA+gB9/dH91P/J/fz8Kv4D/Rz9D/89/n79XP/e/37/tAAhAa4AhAE2AuUBrAGRAcsBaAHF/0cAowHO/iD98P/h/kL8/f6Q/hH7yf7IABT8Ev72AUf+LP+CA8z/Sf+VBMABD//EA2YC1/53AqsBbf2xAGkBmPwh/goAq/zT/eP/avzx/KcA5f4O/pMAsv+a/5wCqgHJ//YBkwI6AQUCsgEHAOsAWQGA/zb/m/+B/kP+xv40/gj+Rf67/Wz+4v8V/77+5ACmAEv/JwIcA5L/9QD7A7IAXQCwA/n/9v3hAtUAgvxUAPP/wPvI/7sAMvsP/pYBMf1p/iUCZf77/qQDYgAU/8sDFgKO//MCCwJ+/3YCvgHt/S8AgQFg/rb+cv9W/a7+cADL/V792P+i/3P/oADJ/73/8QHwAcAAfQHYAVgBzQGnAYwAjwD+AGsAc/8g/8L/cv+y/XT+UwBQ/oH9lACU/7b9hAGcAQX+cAFkAxv/TAFsBJf/7v9BBFsADf8sA6b/NP1GAoMATvz+/wsAsfw2AMcAc/xK/yUCu/6q/zUCpP94AGgDvwD8/wEDpgEZAPwBBAGE/z8BlQB0/rT/LQCX/g3/cv9g/ib/LQBB/0b/TAA9AIUAVAH4ALEAhwHfAU4B9wBNAWQBcABYAH0BFAAc/lYAAAGv/db+GQHC/Sf+EQLu/ob9cQKvAMz9rwJPAin+TwJeA4X+eAHNA73+DgBBA8X+1v6hAtv+f/2KAVn/Z/0OAb3/TP3iAA0BSP60AKMBRv8SAVsC8//YAH0CcQBcAO0BiADx/wcB4v83/4IA5v+1/nb/p/8o/7z/xv8u/9j/igAyADEAnADpAEoB7wBjAHEBvQHa/1QAKgL+/97+pQEtAKD9CAH4ANr8zf/WAV79HP99AiP+pv5KA4j/Pf5TA+EARP4BA6gB+/0xAkgC7/3bAAgC5v30//gB5f2w/qABwP6V/kQBBP+A/qkBSQCt/iAB6QCU/2UBKgFy//4AmgHc/0oA8ADK/wsAnABz/2D/PgCi/zf/z/+r/3f/9P/o/7H/PwCFAPT/0P/IADQB9//b/5EBtQDy/hUBhAFJ/tn/KgJn/nf+QwL9/nH9KAIKAOP8rgErAfX8NgFBAk79YwD5AiL+tv8WA6j+7P4EA2r/LP49AuX/3/2gAUsAmf3cAMIA4v1NAAYBTP7x/0kB5v68/10Bbv+T/0gB5/9///kAFwBn/6QAMwBU/zcAJwBX/+z/IQB1/7r/CwCf/8T/HwDO/7f/DQD5/83/OQB8ALX/ZP+1AKwAwf63/5cBOv+E/qcBDQCz/WEBGQEp/YkAKgJj/X3/sALz/Zv+AAAAAAAAAAAAAAAAAAAAAAAAAAAAAAAAAAAAAAAAAAAAAAAAAAAAAAAAAAAAAAAAAAAAAAAAAAAAAAAAAAAAAAAAAAAAAAAAAAAAAAAAAAAAAAAAAAAAAAAAAAAAAAAAAAAAAAAAAAAAAAAAAAAAAAAAAAAAAAAAAAAAAAAAAAAAAAAAAAAAAAAAAAAAAAAAAAAAAAAAAAAAAAAAAAAAAAAAAAAAAAAAAAAAAAAAAAAAAAAAAAAAAAAAAAAAAAAAAAAAAAAAAAAAAAAAAAAAAAAAAAAAAAAAAAAAAAAAAAAAAAAAAAAAAAAAAAAAAAAAAAAAAAAAAAAAAAAAAAAAAAAAAAAAAAAAAAAAAAAAAAAAAAAAAAAAAAAAAAAAAAAAAAAAAAAAAAAAAAAAAAAAAAAAAAAAAAAAAAAAAAAAAAAAAAAAAAAAAAAAAAAAAAAAAAAAAAAAAAAAAAAAAAAAAAAAAAAAAAAAAAAAAAAAAAAAAAAAAAAAAAAAAAAAAAAAAAAAAAAAAAAAAAAAAAAAAAAAAAAAAAAAAAAAAAAAAAAAAAAAAAAAAAAAAAAAAAAAAAAAAAAAAAAAAAAAAAAAAAAAAAAAAAAAAAAAAAAAAAAAAAAAAAAAAAAAAAAAAAAAAAAAAAAAAAAAAAAAAAAAAAAAAAAAAAAAAAAAAAAAAAAAAAAAAAAAAAAAAAAAAAAAAAAAAAAAAAAAAAAAAAAAAAAAAAAAAAAAAAAAAAAAAAAAAAAAAAAAAAAAAAAAAAAAAAAAAAAAAAAAAAAAAAAAAAAAAAAAAAAAAAAAAAAAAAAAAAAAAAAAAAAAAAAAAAAAAAAAAAAAAAAAAAAAAAAAAAAAAAAAAAAAAAAAAAAAAAAAAAAAAAAAAAAAAAAAAAAAAAAAAAAAAAAAAAAAAAAAAAAAAAAAAAAAAAAAAAAAAAAAAAAAAAAAAAAAAAAAAAAAAAAAAAAAAAAAAAAAAAAAAAAAAAAAAAAAAAAAAAAAAAAAAAAAAAAAAAAAAAAAAAAAAAAAAAAAAAAAAAAAAAAAAAAAAAAAAAAAAAAAAAAAAAAAAAAAAAAAAAAAAAAAAAAAAAAAAAAAAAAAAAAAAAAAAAAAAAAAAAAAAAAAAAAAAAAAAAAAAAAAAAAAAAAAAAAAAAAAAAAAAAAAAAAAAAAAAAAAAAAAAAAAAAAAAAAAAAAAAAAAAAAAAAAAAAAAAAAAAAAAAAAAAAAAAAAAAAAAAAAAAAAAAAAAAAAAAAAAAAAAAAAAAAAAAAAAAAAAAAAAAAAAAAAAAAAAAAAAAAAAAAAAAAAAAAAAAAAAAAAAAAAAAAAAAAAAAAAAAAAAAAAAAAAAAAAAAAAAAAAAAAAAAAAAAAAAAAAAAAAAAAAAAAAAAAAAAAAAAAAAAAAAAAAAAAAAAAAAAAAAAAAAAAAAAAAAAAAAAAAAAAAAAAAAAAAAAAAAAAAAAAAAAAAAAAAAAAAAAAAAAAAAAAAAAAAAAAAAAAAAAAAAAAAAAAAAAAAAAAAAAAAAAAAAAAAAAAAAAAAAAAAAAAAAAAAAAAAAAAAAAAAAAAAAAAAAAAAAAAAAAAAAAAAAAAAAAAAAAAAAAAAAAAAAAAAAAAAAAAAAAAAAAAAAAAAAAAAAAAAAAAAAAAAAAAAAAAAAAAAAAAAAAAAAAAAAAAAAAAAAAAAAAAAAAAAAAAAAAAAAAAAAAAAAAAAAAAAAAAAAAAAAAAAAAAAAAAAAAAAAAAAAAAAAAAAAAAAAAAAAAAAAAAAAAAAAAAAAAAAAAAAAAAAAAAAAAAAAAAAAAAAAAAAAAAAAAAAAAAAAAAAAAAAAAAAAAAAAAAAAAAAAAAAAAAAAAAAAAAAAAAAAAAAAAAAAAAAAAAAAAAAAAAAAAAAAAAAAAAAAAAAAAAAAAAAAAAAAAAAAAAAAAAAAAAAAAAAAAAAAAAAAAAAAAAAAAAAAAAAAAAAAAAAAAAAAAAAAAAAAAAAAAAAAAAAAAAAAAAAAAAAAAAAAAAAAAAAAAAAAAAAAAAAAAAAAAAAAAAAAAAAAAAAAAAAAAAAAAAAAAAAAAAAAAAAAAAAAAAAAAAAAAAAAAAAAAAAAAAAAAAAAAAAAAAAAAAAAAAAAAAAAAAAAAAAAAAAAAAAAAAAAAAAAAAAAAAAAAAAAAAAAAAAAAAAAAAAAAAAAAAAAAAAAAAAAAAAAAAAAAAAAAAAAAAAAAAAAAAAAAAAAAAAAAAAAAAAAAAAAAAAAAAAAAAAAAAAAAAAAAAAAAAAAAAAAAAAAAAAAAAAAAAAAAAAAAAAAAAAAAAAAAAAAAAAAAAAAAAAAAAAAAAAAAAAAAAAAAAAAAAAAAAAAAAAAAAAAAAAAAAAAAAAAAAAAAAAAAAAAAAAAAAAAAAAAAAAAAAAAAAAAAAAAAAAAAAAAAAAAAAAAAAAAAAAAAAAAAAAAAAAAAAAAAAAAAAAAAAAAAAAAAAAAAAAAAAAAAAAAAAAAAAAAAAAAAAAAAAAAAAAAAAAAAAAAAAAAAAAAAAAAAAAAAAAAAAAAAAAAAAAAAAAAAAAAAAAAAAAAAAAAAAAAAAAAAAAAAAAAAAAAAAAAAAAAAAAAAAAAAAAAAAAAAAAAAAAAAAAAAAAAAAAAAAAAAAAAAAAAAAAAAAAAAAAAAAAAAAAAAAAAAAAAAAAAAAAAAAAAAAAAAAAAAAAAAAAAAAAAAAAAAAAAAAAAAAAAAAAAAAAAAAAAAAAAAAAAAAAAAAAAAAAAAAAAAAAAAAAAAAAAAAAAAAAAAAAAAAAAAAAAAAAAAAAAAAAAAAAAAAAAAAAAAAAAAAAAAAAAAAAAAAAAAAAAAAAAAAAAAAAAAAAAAAAAAAAAAAAAAAAAAAAAAAAAAAAAAAAAAAAAAAAAAAAAAAAAAAAAAAAAAAAAAAAAAAAAAAAAAAAAAAAAAAAAAAAAAAAAAAAAAAAAAAAAAAAAAAAAAAAAAAAAAAAAAAAAAAAAAAAAAAAAAAAAAAAAAAAAAAAAAAAAAAAAAAAAAAAAAAAAAAAAAAAAAAAAAAAAAAAAAAAAAAAAAAAAAAAAAAAAAAAAAAAAAAAAAAAAAAAAAAAAAAAAAAAAAAAAAAAAAAAAAAAAAAAAAAAAAAAAAAAAAAAAAAAAAAAAAAAAAAAAAAAAAAAAAAAAAAAAAAAAAAAAAAAAAAAAAAAAAAAAAAAAAAAAAAAAAAAAAAAAAAAAAAAAAAAAAAAAAAAAAAAAAAAAAAAAAAAAAAAAAAAAAAAAAAAAAAAAAAAAAAAAAAAAAAAAAAAAAAAAAAAAAAAAAAAAAAAAAAAAAAAAAAAAAAAAAAAAAAAAAAAAAAAAAAAAAAAAAAAAAAAAAAAAAAAAAAAAAAAAAAAAAAAAAAAAAAAAAAAAAAAAAAAAAAAAAAAAAAAAAAAAAAAAAAAAAAAAAAAAAAAAAAAAAAAAAAAAAAAAAAAAAAAAAAAAAAAAAAAAAAAAAAAAAAAAAAAAAAAAAAAAAAAAAAAAAAAAAAAAAAAAAAAAAAAAAAAAAAAAAAAAAAAAAAAAAAAAAAAAAAAAAAAAAAAAAAAAAAAAAAAAAAAAAAAAAAAAAAAAAAAAAAAAAAAAAAAAAAAAAAAAAAAAAAAAAAAAAAAAAAAAAAAAAAAAAAAAAAAAAAAAAAAAAAAAAAAAAAAAAAAAAAAAAAAAAAAAAAAAAAAAAAAAAAAAAAAAAAAAAAAAAAAAAAAAAAAAAAAAAAAAAAAAAAAAAAAAAAAAAAAAAAAAAAAAAAAAAAAAAAAAAAAAAAAAAAAAAAAAAAAAAAAAAAAAAAAAAAAAAAAAAAAAAAAAAAAAAAAAAAAAAAAAAAAAAAAAAAAAAAAAAAAAAAAAAAAAAAAAAAAAAAAAAAAAAAAAAAAAAAAAAAAAAAAAAAAAAAAAAAAAAAAAAAAAAAAAAAAAAAAAAAAAAAAAAAAAAAAAAAAAAAAAAAAAAAAAAAAAAAAAAAAAAAAAAAAAAAAAAAAAAAAAAAAAAAAAAAAAAAAAAAAAAAAAAAAAAAAAAAAAAAAAAAAAAAAAAAAAAAAAAAAAAAAAAAAAAAAAAAAAAAAAAAAAAAAAAAAAAAAAAAAAAAAAAAAAAAAAAAAAAAAAAAAAAAAAAAAAAAAAAAAAAAAAAAAAAAAAAAAAAAAAAAAAAAAAAAAAAAAAAAAAAAAAAAAAAAAAAAAAAAAAAAAAAAAAAAAAAAAAAAAAAAAAAAAAAAAAAAAAAAAAAAAAAAAAAAAAAAAAAAAAAAAAAAAAAAAAAAAAAAAAAAAAAAAAAAAAAAAAAAAAAAAAAAAAAAAAAAAAAAAAAAAAAAAAAAAAAAAAAAAAAAAAAAAAAAAAAAAAAAAAAAAAAAAAAAAAAAAAAAAAAAAAAAAAAAAAAAAAAAAAAAAAAAAAAAAAAAAAAAAAAAAAAAAAAAAAAAAAAAAAAAAAAAAAAAAAAAAAAAAAAAAAAAAAAAAAAAAAAAAAAAAAAAAAAAAAAAAAAAAAAAAAAAAAAAAAAAAAAAAAAAAAAAAAAAAAAAAAAAAAAAAAAAAAAAAAAAAAAAAAAAAAAAAAAAAAAAAAAAAAAAAAAAAAAAAAAAAAAAAAAAAAAAAAAAAAAAAAAAAAAAAAAAAAAAAAAAAAAAAAAAAAAAAAAAAAAAAAAAAAAAAAAAAAAAAAAAAAAAAAAAAAAAAAAAAAAAAAAAAAAAAAAAAAAAAAAAAAAAAAAAAAAAAAAAAAAAAAAAAAAAAAAAAAAAAAAAAAAAAAAAAAAAAAAAAAAAAAAAAAAAAAAAAAAAAAAAAAAAAAAAAAAAAAAAAAAAAAAAAAAAAAAAAAAAAAAAAAAAAAAAAAAAAAAAAAAAAAAAAAAAAAAAAAAAAAAAAAAAAAAAAAAAAAAAAAAAAAAAAAAAAAAAAAAAAAAAAAAAAAAAAAAAAAAAAAAAAAAAAAAAAAAAAAAAAAAAAAAAAAAAAAAAAAAAAAAAAAAAAAAAAAAAAAAAAAAAAAAAAAAAAAAAAAAAAAAAAAAAAAAAAAAAAAAAAAAAAAAAAAAAAAAAAAAAAAAAAAAAAAAAAAAAAAAAAAAAAAAAAAAAAAAAAAAAAAAAAAAAAAAAAAAAAAAAAAAAAAAAAAAAAAAAAAAAAAAAAAAAAAAAAAAAAAAAAAAAAAAAAAAAAAAAAAAAAAAAAAAAAAAAAAAAAAAAAAAAAAAAAAAAAAAAAAAAAAAAAAAAAAAAAAAAAAAAAAAAAAAAAAAAAAAAAAAAAAAAAAAAAAAAAAAAAAAAAAAAAAAAAAAAAAAAAAAAAAAAAAAAAAAAAAAAAAAAAAAAAAAAAAAAAAAAAAAAAAAAAAAAAAAAAAAAAAAAAAAAAAAAAAAAAAAAAAAAAAAAAAAAAAAAAAAAAAAAAAAAAAAAAAAAAAAAAAAAAAAAAAAAAAAAAAAAAAAAAAAAAAAAAAAAAAAAAAAAAAAAAAAAAAAAAAAAAAAAAAAAAAAAAAAAAAAAAAAAAAAAAAAAAAAAAAAAAAAAAAAAAAAAAAAAAAAAAAAAAAAAAAAAAAAAAAAAAAAAAAAAAAAAAAAAAAAAAAAAAAAAAAAAAAAAAAAAAAAAAAAAAAAAAAAAAAAAAAAAAAAAAAAAAAAAAAAAAAAAAAAAAAAAAAAAAAAAAAAAAAAAAAAAAAAAAAAAAAAAAAAAAAAAAAAAAAAAAAAAAAAAAAAAAAAAAAAAAAAAAAAAAAAAAAAAAAAAAAAAAAAAAAAAAAAAAAAAAAAAAAAAAAAAAAAAAAAAAAAAAAAAAAAAAAAAAAAAAAAAAAAAAAAAAAAAAAAAAAAAAAAAAAAAAAAAAAAAAAAAAAAAAAAAAAAAAAAAAAAAAAAAAAAAAAAAAAAAAAAAAAAAAAAAAAAAAAAAAAAAAAAAAAAAAAAAAAAAAAAAAAAAAAAAAAAAAAAAAAAAAAAAAAAAAAAAAAAAAAAAAAAAAAAAAAAAAAAAAAAAAAAAAAAAAAAAAAAAAAAAAAAAAAAAAAAAAAAAAAAAAAAAAAAAAAAAAAAAAAAAAAAAAAAAAAAAAAAAAAAAAAAAAAAAAAAAAAAAAAAAAAAAAAAAAAAAAAAAAAAAAAAAAAAAAAAAAAAAAAAAAAAAAAAAAAAAAAAAAAAAAAAAAAAAAAAAAAAAAAAAAAAAAAAAAAAAAAAAAAAAAAAAAAAAAAAAAAAAAAAAAAAAAAAAAAAAAAAAAAAAAAAAAAAAAAAAAAAAAAAAAAAAAAAAAAAAAAAAAAAAAAAAAAAAAAAAAAAAAAAAAAAAAAAAAAAAAAAAAAAAAAAAAAAAAAAAAAAAAAAAAAAAAAAAAAAAAAAAAAAAAAAAAAAAAAAAAAAAAAAAAAAAAAAAAAAAAAAAAAAAAAAAAAAAAAAAAAAAAAAAAAAAAAAAAAAAAAAAAAAAAAAAAAAAAAAAAAAAAAAAAAAAAAAAAAAAAAAAAAAAAAAAAAAAAAAAAAAAAAAAAAAAAAAAAAAAAAAAAAAAAAAAAAAAAAAAAAAAAAAAAAAAAAAAAAAAAAAAAAAAAAAAAAAAAAAAAAAAAAAAAAAAAAAAAAAAAAAAAAAAAAAAAAAAAAAAAAAAAAAAAAAAAAAAAAAAAAAAAAAAAAAAAAAAAAAAAAAAAAAAAAAAAAAAAAAAAAAAAAAAAAAAAAAAAAAAAAAAAAAAAAAAAAAAAAAAAAAAAAAAAAAAAAAAAAAAAAAAAAAAAAAAAAAAAAAAAAAAAAAAAAAAAAAAAAAAAAAAAAAAAAAAAAAAAAAAAAAAAAAAAAAAAAAAAAAAAAAAAAAAAAAAAAAAAAAAAAAAAAAAAAAAAAAAAAAAAAAAAAAAAAAAAAAAAAAAAAAAAAAAAAAAAAAAAAAAAAAAAAAAAAAAAAAAAAAAAAAAAAAAAAAAAAAAAAAAAAAAAAAAAAAAAAAAAAAAAAAAAAAAAAAAAAAAAAAAAAAAAAAAAAAAAAAAAAAAAAAAAAAAAAAAAAAAAAAAAAAAAAAAAAAAAAAAAAAAAAAAAAAAAAAAAAAAAAAAAAAAAAAAAAAAAAAAAAAAAAAAAAAAAAAAAAAAAAAAAAAAAAAAAAAAAAAAAAAAAAAAAAAAAAAAAAAAAAAAAAAAAAAAAAAAAAAAAAAAAAAAAAAAAAAAAAAAAAAAAAAAAAAAAAAAAAAAAAAAAAAAAAAAAAAAAAAAAAAAAAAAAAAAAAAAAAAAAAAAAAAAAAAAAAAAAAAAAAAAAAAAAAAAAAAAAAAAAAAAAAAAAAAAAAAAAAAAAAAAAAAAAAAAAAAAAAAAAAAAAAAAAAAAAAAAAAAAAAAAAAAAAAAAAAAAAAAAAAAAAAAAAAAAAAAAAAAAAAAAAAAAAAAAAAAAAAAAAAAAAAAAAAAAAAAAAAAAAAAAAAAAAAAAAAAAAAAAAAAAAAAAAAAAAAAAAAAAAAAAAAAAAAAAAAAAAAAAAAAAAAAAAAAAAAAAAAAAAAAAAAAAAAAAAAAAAAAAAAAAAAAAAAAAAAAAAAAAAAAAAAAAAAAAAAAAAAAAAAAAAAAAAAAAAAAAAAAAAAAAAAAAAAAAAAAAAAAAAAAAAAAAAAAAAAAAAAAAAAAAAAAAAAAAAAAAAAAAAAAAAAAAAAAAAAAAAAAAAAAAAAAAAAAAAAAAAAAAAAAAAAAAAAAAAAAAAAAAAAAAAAAAAAAAAAAAAAAAAAAAAAAAAAAAAAAAAAAAAAAAAAAAAAAAAAAAAAAAAAAAAAAAAAAAAAAAAAAAAAAAAAAAAAAAAAAAAAAAAAAAAAAAAAAAAAAAAAAAAAAAAAAAAAAAAAAAAAAAAAAAAAAAAAAAAAAAAAAAAAAAAAAAAAAAAAAAAAAAAAAAAAAAAAAAAAAAAAAAAAAAAAAAAAAAAAAAAAAAAAAAAAAAAAAAAAAAAAAAAAAAAAAAAAAAAAAAAAAAAAAAAAAAAAAAAAAAAAAAAAAAAAAAAAAAAAAAAAAAAAAAAAAAAAAAAAAAAAAAAAAAAAAAAAAAAAAAAAAAAAAAAAAAAAAAAAAAAAAAAAAAAAAAAAAAAAAAAAAAAAAAAAAAAAAAAAAAAAAAAAAAAAAAAAAAAAAAAAAAAAAAAAAAAAAAAAAAAAAAAAAAAAAAAAAAAAAAAAAAAAAAAAAAAAAAAAAAAAAAAAAAAAAAAAAAAAAAAAAAAAAAAAAAAAAAAAAAAAAAAAAAAAAAAAAAAAAAAAAAAAAAAAAAAAAAAAAAAAAAAAAAAAAAAAAAAAAAAAAAAAAAAAAAAAAAAAAAAAAAAAAAAAAAAAAAAAAAAAAAAAAAAAAAAAAAAAAAAAAAAAAAAAAAAAAAAAAAAAAAAAAAAAAAAAAAAAAAAAAAAAAAAAAAAAAAAAAAAAAAAAAAAAAAAAAAAAAAAAAAAAAAAAAAAAAAAAAAAAAAAAAAAAAAAAAAAAAAAAAAAAAAAAAAAAAAAAAAAAAAAAAAAAAAAAAAAAAAAAAAAAAAAAAAAAAAAAAAAAAAAAAAAAAAAAAAAAAAAAAAAAAAAAAAAAAAAAAAAAAAAAAAAAAAAAAAAAAAAAAAAAAAAAAAAAAAAAAAAAAAAAAAAAAAAAAAAAAAAAAAAAAAAAAAAAAAAAAAAAAAAAAAAAAAAAAAAAAAAAAAAAAAAAAAAAAAAAAAAAAAAAAAAAAAAAAAAAAAAAAAAAAAAAAAAAAAAAAAAAAAAAAAAAAAAAAAAAAAAAAAAAAAAAAAAAAAAAAAAAAAAAAAAAAAAAAAAAAAAAAAAAAAAAAAAAAAAAAAAAAAAAAAAAAAAAAAAAAAAAAAAAAAAAAAAAAAAAAAAAAAAAAAAAAAAAAAAAAAAAAAAAAAAAAAAAAAAAAAAAAAAAAAAAAAAAAAAAAAAAAAAAAAAAAAAAAAAAAAAAAAAAAAAAAAAAAAAAAAAAAAAAAAAAAAAAAAAAAAAAAAAAAAAAAAAAAAAAAAAAAAAAAAAAAAAAAAAAAAAAAAAAAAAAAAAAAAAAAAAAAAAAAAAAAAAAAAAAAAAAAAAAAAAAAAAAAAAAAAAAAAAAAAAAAAAAAAAAAAAAAAAAAAAAAAAAAAAAAAAAAAAAAAAAAAAAAAAAAAAAAAAAAAAAAAAAAAAAAAAAAAAAAAAAAAAAAAAAAAAAAAAAAAAAAAAAAAAAAAAAAAAAAAAAAAAAAAAAAAAAAAAAAAAAAAAAAAAAAAAAAAAAAAAAAAAAAAAAAAAAAAAAAAAAAAAAAAAAAAAAAAAAAAAAAAAAAAAAAAAAAAAAAAAAAAAAAAAAAAAAAAAAAAAAAAAAAAAAAAAAAAAAAAAAAAAAAAAAAAAAAAAAAAAAAAAAAAAAAAAAAAAAAAAAAAAAAAAAAAAAAAAAAAAAAAAAAAAAAAAAAAAAAAAAAAAAAAAAAAAAAAAAAAAAAAAAAAAAAAAAAAAAAAAAAAAAAAAAAAAAAAAAAAAAAAAAAAAAAAAAAAAAAAAAAAAAAAAAAAAAAAAAAAAAAAAAAAAAAAAAAAAAAAAAAAAAAAAAAAAAAAAAAAAAAAAAAAAAAAAAAAAAAAAAAAAAAAAAAAAAAAAAAAAAAAAAAAAAAAAAAAAAAAAAAAAAAAAAAAAAAAAAAAAAAAAAAAAAAAAAAAAAAAAAAAAAAAAAAAAAAAAAAAAAAAAAAAAAAAAAAAAAAAAAAAAAAAAAAAAAAAAAAAAAAAAAAAAAAAAAAAAAAAAAAAAAAAAAAAAAAAAAAAAAAAAAAAAAAAAAAAAAAAAAAAAAAAAAAAAAAAAAAAAAAAAAAAAAAAAAAAAAAAAAAAAAAAAAAAAAAAAAAAAAAAAAAAAAAAAAAAAAAAAAAAAAAAAAAAAAAAAAAAAAAAAAAAAAAAAAAAAAAAAAAAAAAAAAAAAAAAAAAAAAAAAAAAAAAAAAAAAAAAAAAAAAAAAAAAAAAAAAAAAAAAAAAAAAAAAAAAAAAAAAAAAAAAAAAAAAAAAAAAAAAAAAAAAAAAAAAAAAAAAAAAAAAAAAAAAAAAAAAAAAAAAAAAAAAAAAAAAAAAAAAAAAAAAAAAAAAAAAAAAAAAAAAAAAAAAAAAAAAAAAAAAAAAAAAAAAAAAAAAAAAAAAAAAAAAAAAAAAAAAAAAAAAAAAAAAAAAAAAAAAAAAAAAAAAAAAAAAAAAAAAAAAAAAAAAAAAAAAAAAAAAAAAAAAAAAAAAAAAAAAAAAAAAAAAAAAAAAAAAAAAAAAAAAAAAAAAAAAAAAAAAAAAAAAAAAAAAAAAAAAAAAAAAAAAAAAAAAAAAAAAAAAAAAAAAAAAAAAAAAAAAAAAAAAAAAAAAAAAAAAAAAAAAAAAAAAAAAAAAA=\" type=\"audio/wav\" />\n",
       "                    Your browser does not support the audio element.\n",
       "                </audio>\n",
       "              "
      ],
      "text/plain": [
       "<IPython.lib.display.Audio object>"
      ]
     },
     "execution_count": 5,
     "metadata": {},
     "output_type": "execute_result"
    },
    {
     "data": {
      "image/png": "[encoded data removed]",
      "text/plain": [
       "<Figure size 1440x288 with 3 Axes>"
      ]
     },
     "metadata": {
      "needs_background": "light"
     },
     "output_type": "display_data"
    }
   ],
   "source": [
    "FREQ_BINS=30\n",
    "TIME_STEPS=20\n",
    "#defining transformations\n",
    "class freqTrans(object):\n",
    "    def __init__(self,num_mels=50,SR=SR):\n",
    "        self.num_mels=num_mels\n",
    "        self.ampT=torchaudio.transforms.AmplitudeToDB(stype='power', top_db=30)\n",
    "        self.melF=torchaudio.transforms.MelScale(n_mels=self.num_mels, sample_rate=SR, f_min=30.0, f_max=None, n_stft=None)\n",
    "        \n",
    "    def __call__(self, sample):\n",
    "        wf,label=sample[\"signal\"],sample[\"label\"]\n",
    "        wf=wf.reshape(-1,len(wf))\n",
    "        sample_length=SR//4\n",
    "        wf=wf[:,0:24000]\n",
    "        num_bins=wf[0].shape[0]\n",
    "        win_length=num_bins\n",
    "        hop_step=sample_length//(self.num_mels)\n",
    "        window=torch.tensor([1]*win_length)\n",
    "        s=spec(wf, 100, window, num_bins, hop_step, win_length,2,normalized=False)\n",
    "        s=self.melF(s)\n",
    "        s=self.ampT(s)\n",
    "        freq=s.sum(axis=0).sum(axis=1)\n",
    "        freq=freq-freq.min()\n",
    "        freq=freq/freq.max()\n",
    "        freq[torch.isnan(freq)]=0\n",
    "        return {\"feats\":freq.detach(),\"label\":label}\n",
    "\n",
    "class envTrans(object):\n",
    "    def __init__(self,num_mels=10,SR=SR):\n",
    "        self.env_size=9\n",
    "        self.num_mels=num_mels\n",
    "        self.amp=torchaudio.transforms.AmplitudeToDB(stype='power', top_db=60)\n",
    "        self.melEnv=torchaudio.transforms.MelScale(n_mels=self.num_mels, sample_rate=SR, f_min=30.0, f_max=None, n_stft=None)\n",
    "#         self.norm= transforms.Normalize((0.5, 0.5, 0.5), (0.5, 0.5, 0.5))\n",
    "    def __call__(self, sample):\n",
    "        wf,label=sample[\"signal\"],sample[\"label\"]\n",
    "        \n",
    "        wf=wf.reshape(-1,len(wf))\n",
    "        sample_length=SR\n",
    "        num_bins=wf[0].shape[0]\n",
    "        win_length=SR//20\n",
    "        hop_step=SR//self.env_size\n",
    "        window=torch.tensor([1]*win_length)\n",
    "        s=spec(wf, 0, window,win_length, hop_step, win_length,2,normalized=False)\n",
    "        s=self.melEnv(s)\n",
    "        s=self.amp(s)\n",
    "#         s=self.norm(s)\n",
    "        #normalizing\n",
    "        env=s.sum(axis=0).sum(axis=0)\n",
    "        env=env-env.min()\n",
    "        env=env/env.max()\n",
    "        env[torch.isnan(env)]=0\n",
    "\n",
    "        num_padding=torch.max(torch.tensor([self.env_size+1-env.shape[0],0]))\n",
    "        env_vec=torch.cat([env.detach(),torch.zeros(num_padding)],dim=0)\n",
    "        return {\"feats\":env_vec.detach(),\"label\":label}\n",
    "\n",
    "class feats_and_env(object):\n",
    "    def __init__(self,feat_mels=50,env_mels=1):\n",
    "        self.ft=freqTrans(num_mels=feat_mels)\n",
    "        self.et=envTrans(num_mels=env_mels)\n",
    "\n",
    "    def __call__(self, sample):\n",
    "            combined_feats=torch.cat((self.ft(sample)[\"feats\"],self.et(sample)[\"feats\"]))\n",
    "            return {\"feats\":combined_feats,\"label\":sample[\"label\"]}\n",
    "        \n",
    "\n",
    "class specTrans(object):\n",
    "    def __init__(self,num_mels=50,SR=SR,time_steps=20,amp_to_power=False):\n",
    "        self.amp_to_power=amp_to_power\n",
    "        self.num_mels=num_mels\n",
    "        self.ampP=torchaudio.transforms.AmplitudeToDB(stype='power',top_db=60)\n",
    "        self.melP=torchaudio.transforms.MelScale(n_mels=self.num_mels, sample_rate=SR,n_stft=None)\n",
    "        self.hop_step=time_steps-1\n",
    "    def __call__(self, sample):\n",
    "        \n",
    "        wf,label,p,drum_type=sample[\"signal\"],sample[\"label\"],sample[\"path\"],sample[\"drum_type\"]\n",
    "        wf=wf.reshape(-1,len(wf))\n",
    "        sample_length=SR\n",
    "\n",
    "        num_bins=wf[0].shape[0]\n",
    "        win_length=SR//17\n",
    "        hop_step=SR//self.hop_step\n",
    "        window=torch.tensor([1]*win_length)\n",
    "        s=spec(wf, 0, window, num_bins, hop_step, win_length,2,normalized=False)\n",
    "        s=self.melP(s)\n",
    "        self.amps=self.ampP(s)\n",
    "        s = s - s.min()\n",
    "        s = s/s.abs().max()\n",
    "\n",
    "        freq=s\n",
    "        freq[torch.isnan(freq)]=0\n",
    "        return {\"feats\":freq.detach(),\"label\":label,\"path\":p,\"drum_type\":drum_type}\n",
    "\n",
    "#Apply each of the above transforms on sample.\n",
    "fig = plt.figure(figsize=(20,4))\n",
    "# while True:\n",
    "sample = ds[np.random.randint(len(ds))]\n",
    "#     print(sample[\"label\"].item())\n",
    "#     if sample[\"label\"].item()==1:\n",
    "#         break\n",
    "# freq_train = audioDataset(train,\".\",task=\"dvd\")\n",
    "# f_train_loader= DataLoader(freq_train, batch_size=16, num_workers=1)\n",
    "# sample=iter(f_train_loader).next()\n",
    "# s={\"signal\":sample[\"signal\"][0],\"label\":sample[\"label\"][0],\"path\":sample[\"path\"],\"drum_type\":sample[\"drum_type\"]}\n",
    "# sample=s\n",
    "tfList=[freqTrans(50),envTrans(num_mels=10,SR=SR),specTrans(FREQ_BINS,time_steps=TIME_STEPS)]\n",
    "print(sample)\n",
    "for i, tsfrm in enumerate(tfList):\n",
    "\n",
    "    transformed_sample = tsfrm(sample)\n",
    "    ax = plt.subplot(1, 3, i + 1)\n",
    "    plt.tight_layout()\n",
    "    ft=transformed_sample[\"feats\"]\n",
    "    if i==0:\n",
    "        plt.title(\"Frequency Features\",fontsize=20)\n",
    "        plt.xlabel(\"Frequency Bin\",fontsize=20)\n",
    "        plt.ylabel(\"Scaled Magnitude\",fontsize=20)\n",
    "                   \n",
    "        plt.scatter(y=ft,x=range(0,len(ft)))\n",
    "    if i==1:\n",
    "        plt.title(\"Envelope Features\",fontsize=20)\n",
    "        plt.xlabel(\"Time Step\",fontsize=20)\n",
    "        plt.ylabel(\"Scaled Magnitude\",fontsize=20)            \n",
    "        plt.scatter(y=ft,x=range(0,len(ft)))\n",
    "    if i==2:\n",
    "        print(ft.shape,ft[0,:,0])\n",
    "        sf=ft.detach().numpy()[0]\n",
    "        ft=ft.detach().numpy()[0]\n",
    "        plt.title(\"Spectrum Features\",fontsize=20)\n",
    "        librosa.display.specshow(sf,cmap='gray_r',)\n",
    "        plt.xlabel(\"Time Step\",fontsize=20)\n",
    "        plt.ylabel(\"Magnitude of Bin\",fontsize=20)\n",
    "\n",
    "#         plt.savefig(\"./plots/ff3.pdf\",bbox_inches = \"tight\")\n",
    "# plt.show()\n",
    "# print(lmap[transformed_sample[\"label\"].item()],transformed_sample[\"label\"],len(sample[\"signal\"]))\n",
    "\n",
    "\n",
    "Audio(sample[\"signal\"],rate=SR,autoplay=True)\n"
   ]
  },
  {
   "cell_type": "markdown",
   "metadata": {},
   "source": [
    "# SPEC ENCODER"
   ]
  },
  {
   "cell_type": "code",
   "execution_count": 6,
   "metadata": {},
   "outputs": [],
   "source": [
    "class AE_Linear_1H(nn.Module):\n",
    "    def __init__(self,compression_dim=64,dropout_rate=0.5,input_shape=[30,20]):\n",
    "        super().__init__()\n",
    "        self.dropout = nn.Dropout(dropout_rate)\n",
    "        self.encoder_hidden_layer = nn.Linear(\n",
    "            in_features=input_shape, out_features=128\n",
    "        )\n",
    "        self.encoder_output_layer = nn.Linear(\n",
    "            in_features=128, out_features=compression_dim\n",
    "        )\n",
    "        self.decoder_hidden_layer = nn.Linear(\n",
    "            in_features=compression_dim, out_features=128\n",
    "        )\n",
    "        self.decoder_output_layer = nn.Linear(\n",
    "            in_features=128, out_features=input_shape\n",
    "        )\n",
    "    def forward(self, features):\n",
    "        activation = self.encoder_hidden_layer(features)\n",
    "        activation = self.dropout(torch.relu(activation))\n",
    "        code = self.encoder_output_layer(activation)\n",
    "        code = torch.relu(code)\n",
    "        self.encoding=code\n",
    "        activation = self.decoder_hidden_layer(code)\n",
    "        activation = self.dropout(torch.relu(activation))\n",
    "        activation = self.decoder_output_layer(activation)\n",
    "        reconstructed = torch.relu(activation)\n",
    "        return reconstructed\n",
    "    \n",
    "class AE_Linear_2H(nn.Module):\n",
    "    def __init__(self,compression_dim=8,dropout_rate=0.5,input_shape=[30,20]):\n",
    "        super().__init__()\n",
    "        self.dropout = nn.Dropout(dropout_rate)\n",
    "        self.encoder_hidden_layer1 = nn.Linear(\n",
    "            in_features=input_shape, out_features=128\n",
    "        )\n",
    "        self.encoder_hidden_layer2 = nn.Linear(\n",
    "            in_features=128, out_features=32\n",
    "        )\n",
    "        self.encoder_output_layer = nn.Linear(\n",
    "            in_features=32, out_features=compression_dim\n",
    "        )\n",
    "        self.decoder_hidden_layer1 = nn.Linear(\n",
    "            in_features=compression_dim, out_features=32\n",
    "        )\n",
    "        self.decoder_hidden_layer2 = nn.Linear(\n",
    "            in_features=32, out_features=128\n",
    "        )\n",
    "        self.decoder_output_layer = nn.Linear(\n",
    "            in_features=128, out_features=input_shape\n",
    "        )\n",
    "    def forward(self, features):\n",
    "        activation = self.encoder_hidden_layer1(features)\n",
    "        activation = self.dropout(torch.relu(activation))\n",
    "        h1_out = self.encoder_hidden_layer2(activation)\n",
    "        h1_out = self.dropout(torch.relu(h1_out))\n",
    "        code = self.encoder_output_layer(h1_out)\n",
    "        code = torch.relu(code)\n",
    "        self.encoding=code\n",
    "        activation = self.decoder_hidden_layer1(code)\n",
    "        activation = self.dropout(torch.relu(activation))\n",
    "        activation = self.decoder_hidden_layer2(activation)\n",
    "        activation = self.dropout(torch.relu(activation))\n",
    "        activation = self.decoder_output_layer(activation)\n",
    "        reconstructed = torch.relu(activation)\n",
    "        return reconstructed\n",
    "    \n",
    "class AE_Conv(nn.Module):\n",
    "    def __init__(self,input_shape,compression_dim,dropout_rate,num_channels=5):\n",
    "        super(AE_Conv, self).__init__()\n",
    "        self.W=input_shape[0]\n",
    "        self.H=input_shape[1]\n",
    "\n",
    "        self.dropout = nn.Dropout(dropout_rate)\n",
    "        self.Encoder_Conv= nn.Sequential(\n",
    "            nn.Conv2d(1, 8, kernel_size=num_channels, stride=1, padding=2),\n",
    "            nn.ReLU(),\n",
    "            nn.MaxPool2d(kernel_size=2, stride=2))\n",
    "        self.encoder_output_layer = nn.Linear(\n",
    "            in_features=(self.H//2 * self.W//2) * 8, out_features=compression_dim\n",
    "        )\n",
    "        self.decoder_hidden_layer = nn.Linear(\n",
    "            in_features=compression_dim, out_features=256\n",
    "        )\n",
    "        self.decoder_output_layer = nn.Linear(\n",
    "            in_features=256, out_features=self.W*self.H)\n",
    "        \n",
    "    def forward(self, features):\n",
    "        features=features.reshape([-1,1,self.W,self.H])\n",
    "        activation = self.Encoder_Conv(features)\n",
    "        activation = self.dropout(torch.relu(activation))\n",
    "        activation = activation.reshape(activation.size(0), -1)\n",
    "        code = self.encoder_output_layer(activation)\n",
    "        code = torch.relu(code)\n",
    "        self.encoding=code\n",
    "        activation = self.decoder_hidden_layer(code)\n",
    "        activation = self.dropout(torch.relu(activation))\n",
    "        activation = self.decoder_output_layer(activation)\n",
    "        reconstructed = torch.relu(activation)\n",
    "        return reconstructed"
   ]
  },
  {
   "cell_type": "code",
   "execution_count": 7,
   "metadata": {},
   "outputs": [
    {
     "name": "stderr",
     "output_type": "stream",
     "text": [
      "/home/asalimi/miniconda3/lib/python3.7/site-packages/pandas/core/indexing.py:494: SettingWithCopyWarning: \n",
      "A value is trying to be set on a copy of a slice from a DataFrame.\n",
      "Try using .loc[row_indexer,col_indexer] = value instead\n",
      "\n",
      "See the caveats in the documentation: http://pandas.pydata.org/pandas-docs/stable/user_guide/indexing.html#returning-a-view-versus-a-copy\n",
      "  self.obj[item] = s\n"
     ]
    }
   ],
   "source": [
    "compression_dim=8\n",
    "spec_dimension=FREQ_BINS*TIME_STEPS\n",
    "\n",
    "device = torch.device(\"cuda\" if torch.cuda.is_available() else \"cpu\")\n",
    "\n",
    "pt=tv.transforms.Compose([specTrans(FREQ_BINS,time_steps=TIME_STEPS)])\n",
    "\n",
    "train=all_frames.sample(frac=0.50,random_state=420) #random state is a seed value\n",
    "test=all_frames.drop(train.index)\n",
    "spec_data_train = audioDataset(train,\".\",\"dvn\", transform=pt)\n",
    "spec_data_test = audioDataset(test,\".\",task=\"dvn\", transform=pt)\n",
    "spec_train_loader= DataLoader(spec_data_train, batch_size=64,shuffle=True, num_workers=32)\n",
    "spec_test_loader= DataLoader(spec_data_test, batch_size=8,shuffle=True, num_workers=6)\n",
    "\n",
    "train_synthless=train[train[\"label_num\"]==0]\n",
    "test_synthless=test[test[\"label_num\"]==0]\n",
    "spec_data_train_nosynth = audioDataset(train_synthless,\".\",task=\"dvn\", transform=pt)\n",
    "spec_train_nosynth_loader= DataLoader(spec_data_train_nosynth, batch_size=16,shuffle=True, num_workers=8)\n"
   ]
  },
  {
   "cell_type": "code",
   "execution_count": 9,
   "metadata": {
    "scrolled": true
   },
   "outputs": [
    {
     "name": "stderr",
     "output_type": "stream",
     "text": [
      "[I 2020-09-15 13:24:54,820] A new study created with name: study_1\n"
     ]
    },
    {
     "name": "stdout",
     "output_type": "stream",
     "text": [
      "epoch : 0/4, loss = 0.007685, test_loss = 0.006799\n",
      "epoch : 1/4, loss = 0.006178, test_loss = 0.006072\n",
      "epoch : 2/4, loss = 0.005704, test_loss = 0.005940\n",
      "epoch : 3/4, loss = 0.005655, test_loss = 0.005880\n"
     ]
    },
    {
     "name": "stderr",
     "output_type": "stream",
     "text": [
      "[I 2020-09-15 13:25:12,443] Finished trial#0 with value: 0.005879989925872635 with parameters: {'Learning Rate': 0.04633957288489894, 'Dropout Rate': 0.1, 'Latent Size': 16, 'Optimizer': 'SGD', 'Frequency Bins': 30, 'Time Steps': 10, 'Hidden Layers': 1, 'L2 Regularization': 0.00022214504767489684, 'Model Type': 'CNN'}. Best is trial#0 with value: 0.005879989925872635.\n"
     ]
    },
    {
     "name": "stdout",
     "output_type": "stream",
     "text": [
      "epoch : 0/4, loss = 0.002441, test_loss = 0.002462\n",
      "epoch : 1/4, loss = 0.002329, test_loss = 0.002471\n",
      "epoch : 2/4, loss = 0.002355, test_loss = 0.002426\n",
      "epoch : 3/4, loss = 0.002346, test_loss = 0.002472\n"
     ]
    },
    {
     "name": "stderr",
     "output_type": "stream",
     "text": [
      "[I 2020-09-15 13:25:41,265] Finished trial#1 with value: 0.0024719670528193585 with parameters: {'Learning Rate': 0.030507494218883397, 'Dropout Rate': 0.5, 'Latent Size': 16, 'Optimizer': 'Adam', 'Frequency Bins': 60, 'Time Steps': 20, 'Hidden Layers': 2, 'L2 Regularization': 0.0009039890458283983, 'Model Type': 'CNN'}. Best is trial#1 with value: 0.0024719670528193585.\n"
     ]
    },
    {
     "name": "stdout",
     "output_type": "stream",
     "text": [
      "epoch : 0/4, loss = 0.003140, test_loss = 0.002913\n",
      "epoch : 1/4, loss = 0.002811, test_loss = 0.003108\n"
     ]
    },
    {
     "name": "stderr",
     "output_type": "stream",
     "text": [
      "[I 2020-09-15 13:26:01,753] Setting status of trial#2 as TrialState.PRUNED. \n"
     ]
    },
    {
     "name": "stdout",
     "output_type": "stream",
     "text": [
      "epoch : 0/4, loss = 0.007613, test_loss = 0.006468\n",
      "epoch : 1/4, loss = 0.005835, test_loss = 0.005903\n"
     ]
    },
    {
     "name": "stderr",
     "output_type": "stream",
     "text": [
      "[I 2020-09-15 13:26:15,046] Setting status of trial#3 as TrialState.PRUNED. \n"
     ]
    },
    {
     "name": "stdout",
     "output_type": "stream",
     "text": [
      "epoch : 0/4, loss = 0.003132, test_loss = 0.002873\n",
      "epoch : 1/4, loss = 0.002701, test_loss = 0.002807\n"
     ]
    },
    {
     "name": "stderr",
     "output_type": "stream",
     "text": [
      "[I 2020-09-15 13:26:36,722] Setting status of trial#4 as TrialState.PRUNED. \n"
     ]
    },
    {
     "name": "stdout",
     "output_type": "stream",
     "text": [
      "epoch : 0/4, loss = 0.009307, test_loss = 0.008874\n",
      "epoch : 1/4, loss = 0.008848, test_loss = 0.009025\n"
     ]
    },
    {
     "name": "stderr",
     "output_type": "stream",
     "text": [
      "[I 2020-09-15 13:26:48,252] Setting status of trial#5 as TrialState.PRUNED. \n"
     ]
    },
    {
     "name": "stdout",
     "output_type": "stream",
     "text": [
      "epoch : 0/4, loss = 0.002371, test_loss = 0.002429\n",
      "epoch : 1/4, loss = 0.002286, test_loss = 0.002388\n",
      "epoch : 2/4, loss = 0.002292, test_loss = 0.002397\n",
      "epoch : 3/4, loss = 0.002304, test_loss = 0.002403\n"
     ]
    },
    {
     "name": "stderr",
     "output_type": "stream",
     "text": [
      "[I 2020-09-15 13:27:17,355] Finished trial#6 with value: 0.0024031549786544732 with parameters: {'Learning Rate': 0.0244159856401081, 'Dropout Rate': 0.30000000000000004, 'Latent Size': 64, 'Optimizer': 'Adam', 'Frequency Bins': 60, 'Time Steps': 20, 'Hidden Layers': 2, 'L2 Regularization': 4.075409003334307e-05, 'Model Type': 'CNN'}. Best is trial#6 with value: 0.0024031549786544732.\n"
     ]
    },
    {
     "name": "stdout",
     "output_type": "stream",
     "text": [
      "epoch : 0/4, loss = 0.009281, test_loss = 0.008773\n",
      "epoch : 1/4, loss = 0.008576, test_loss = 0.008808\n"
     ]
    },
    {
     "name": "stderr",
     "output_type": "stream",
     "text": [
      "[I 2020-09-15 13:27:37,054] Setting status of trial#7 as TrialState.PRUNED. \n"
     ]
    },
    {
     "name": "stdout",
     "output_type": "stream",
     "text": [
      "epoch : 0/4, loss = 0.004366, test_loss = 0.004057\n",
      "epoch : 1/4, loss = 0.003933, test_loss = 0.004028\n"
     ]
    },
    {
     "name": "stderr",
     "output_type": "stream",
     "text": [
      "[I 2020-09-15 13:27:52,911] Setting status of trial#8 as TrialState.PRUNED. \n"
     ]
    },
    {
     "name": "stdout",
     "output_type": "stream",
     "text": [
      "epoch : 0/4, loss = 0.010313, test_loss = 0.009585\n",
      "epoch : 1/4, loss = 0.008923, test_loss = 0.008391\n",
      "epoch : 2/4, loss = 0.007170, test_loss = 0.006753\n",
      "epoch : 3/4, loss = 0.006258, test_loss = 0.006328\n"
     ]
    },
    {
     "name": "stderr",
     "output_type": "stream",
     "text": [
      "[I 2020-09-15 13:28:19,520] Finished trial#9 with value: 0.006327786652774022 with parameters: {'Learning Rate': 0.04629432206813644, 'Dropout Rate': 0.2, 'Latent Size': 4, 'Optimizer': 'SGD', 'Frequency Bins': 10, 'Time Steps': 20, 'Hidden Layers': 2, 'L2 Regularization': 2.802655535287162e-06, 'Model Type': 'FC'}. Best is trial#6 with value: 0.0024031549786544732.\n"
     ]
    },
    {
     "name": "stdout",
     "output_type": "stream",
     "text": [
      "epoch : 0/4, loss = 0.003640, test_loss = 0.003607\n",
      "epoch : 1/4, loss = 0.003388, test_loss = 0.003400\n",
      "epoch : 2/4, loss = 0.003214, test_loss = 0.003253\n",
      "epoch : 3/4, loss = 0.003080, test_loss = 0.003132\n"
     ]
    },
    {
     "name": "stderr",
     "output_type": "stream",
     "text": [
      "[I 2020-09-15 13:28:48,649] Finished trial#10 with value: 0.0031322317396139574 with parameters: {'Learning Rate': 0.03971699607974676, 'Dropout Rate': 0.2, 'Latent Size': 64, 'Optimizer': 'SGD', 'Frequency Bins': 60, 'Time Steps': 20, 'Hidden Layers': 1, 'L2 Regularization': 6.002573370507835e-05, 'Model Type': 'CNN'}. Best is trial#6 with value: 0.0024031549786544732.\n"
     ]
    },
    {
     "name": "stdout",
     "output_type": "stream",
     "text": [
      "epoch : 0/4, loss = 0.006955, test_loss = 0.006576\n",
      "epoch : 1/4, loss = 0.006087, test_loss = 0.006228\n",
      "epoch : 2/4, loss = 0.005903, test_loss = 0.006137\n",
      "epoch : 3/4, loss = 0.005816, test_loss = 0.006034\n"
     ]
    },
    {
     "name": "stderr",
     "output_type": "stream",
     "text": [
      "[I 2020-09-15 13:29:06,160] Finished trial#11 with value: 0.006033526000415755 with parameters: {'Learning Rate': 0.07634178138592708, 'Dropout Rate': 0.2, 'Latent Size': 64, 'Optimizer': 'SGD', 'Frequency Bins': 30, 'Time Steps': 10, 'Hidden Layers': 2, 'L2 Regularization': 1.4980136375044707e-06, 'Model Type': 'CNN'}. Best is trial#6 with value: 0.0024031549786544732.\n"
     ]
    },
    {
     "name": "stdout",
     "output_type": "stream",
     "text": [
      "epoch : 0/4, loss = 0.003374, test_loss = 0.002837\n",
      "epoch : 1/4, loss = 0.002715, test_loss = 0.002826\n"
     ]
    },
    {
     "name": "stderr",
     "output_type": "stream",
     "text": [
      "[I 2020-09-15 13:29:27,763] Setting status of trial#12 as TrialState.PRUNED. \n"
     ]
    },
    {
     "name": "stdout",
     "output_type": "stream",
     "text": [
      "epoch : 0/4, loss = 0.011217, test_loss = 0.004444\n",
      "epoch : 1/4, loss = 0.004206, test_loss = 0.004235\n"
     ]
    },
    {
     "name": "stderr",
     "output_type": "stream",
     "text": [
      "[I 2020-09-15 13:29:43,694] Setting status of trial#13 as TrialState.PRUNED. \n"
     ]
    },
    {
     "name": "stdout",
     "output_type": "stream",
     "text": [
      "epoch : 0/4, loss = 0.005971, test_loss = 0.006020\n",
      "epoch : 1/4, loss = 0.005827, test_loss = 0.006015\n"
     ]
    },
    {
     "name": "stderr",
     "output_type": "stream",
     "text": [
      "[I 2020-09-15 13:29:56,738] Setting status of trial#14 as TrialState.PRUNED. \n"
     ]
    },
    {
     "name": "stdout",
     "output_type": "stream",
     "text": [
      "epoch : 0/4, loss = 0.007305, test_loss = 0.007237\n",
      "epoch : 1/4, loss = 0.007028, test_loss = 0.007312\n"
     ]
    },
    {
     "name": "stderr",
     "output_type": "stream",
     "text": [
      "[I 2020-09-15 13:30:09,929] Setting status of trial#15 as TrialState.PRUNED. \n"
     ]
    },
    {
     "name": "stdout",
     "output_type": "stream",
     "text": [
      "epoch : 0/4, loss = 0.005739, test_loss = 0.005646\n",
      "epoch : 1/4, loss = 0.005497, test_loss = 0.005869\n",
      "epoch : 2/4, loss = 0.005470, test_loss = 0.005868\n",
      "epoch : 3/4, loss = 0.005494, test_loss = 0.005759\n"
     ]
    },
    {
     "name": "stderr",
     "output_type": "stream",
     "text": [
      "[I 2020-09-15 13:30:27,114] Finished trial#16 with value: 0.005758977460523916 with parameters: {'Learning Rate': 0.07951623828529203, 'Dropout Rate': 0.1, 'Latent Size': 16, 'Optimizer': 'Adam', 'Frequency Bins': 30, 'Time Steps': 10, 'Hidden Layers': 2, 'L2 Regularization': 0.00031234861577260863, 'Model Type': 'FC'}. Best is trial#6 with value: 0.0024031549786544732.\n"
     ]
    },
    {
     "name": "stdout",
     "output_type": "stream",
     "text": [
      "epoch : 0/4, loss = 0.003535, test_loss = 0.003377\n",
      "epoch : 1/4, loss = 0.003155, test_loss = 0.004008\n"
     ]
    },
    {
     "name": "stderr",
     "output_type": "stream",
     "text": [
      "[I 2020-09-15 13:30:42,748] Setting status of trial#17 as TrialState.PRUNED. \n"
     ]
    },
    {
     "name": "stdout",
     "output_type": "stream",
     "text": [
      "epoch : 0/4, loss = 0.012187, test_loss = 0.011932\n",
      "epoch : 1/4, loss = 0.011281, test_loss = 0.011114\n"
     ]
    },
    {
     "name": "stderr",
     "output_type": "stream",
     "text": [
      "[I 2020-09-15 13:31:02,675] Setting status of trial#18 as TrialState.PRUNED. \n"
     ]
    },
    {
     "name": "stdout",
     "output_type": "stream",
     "text": [
      "epoch : 0/4, loss = 0.012670, test_loss = 0.009986\n",
      "epoch : 1/4, loss = 0.009394, test_loss = 0.009358\n"
     ]
    },
    {
     "name": "stderr",
     "output_type": "stream",
     "text": [
      "[I 2020-09-15 13:31:14,023] Setting status of trial#19 as TrialState.PRUNED. \n"
     ]
    },
    {
     "name": "stdout",
     "output_type": "stream",
     "text": [
      "epoch : 0/4, loss = 0.009410, test_loss = 0.008590\n",
      "epoch : 1/4, loss = 0.007808, test_loss = 0.007522\n",
      "epoch : 2/4, loss = 0.007048, test_loss = 0.007060\n",
      "epoch : 3/4, loss = 0.006626, test_loss = 0.006709\n"
     ]
    },
    {
     "name": "stderr",
     "output_type": "stream",
     "text": [
      "[I 2020-09-15 13:31:40,559] Finished trial#20 with value: 0.006708566067941688 with parameters: {'Learning Rate': 0.03243105577798813, 'Dropout Rate': 0.4, 'Latent Size': 64, 'Optimizer': 'SGD', 'Frequency Bins': 10, 'Time Steps': 20, 'Hidden Layers': 1, 'L2 Regularization': 0.00023956117613134834, 'Model Type': 'FC'}. Best is trial#6 with value: 0.0024031549786544732.\n"
     ]
    },
    {
     "name": "stdout",
     "output_type": "stream",
     "text": [
      "epoch : 0/4, loss = 0.009647, test_loss = 0.007164\n",
      "epoch : 1/4, loss = 0.006424, test_loss = 0.006450\n"
     ]
    },
    {
     "name": "stderr",
     "output_type": "stream",
     "text": [
      "[I 2020-09-15 13:31:53,445] Setting status of trial#21 as TrialState.PRUNED. \n"
     ]
    },
    {
     "name": "stdout",
     "output_type": "stream",
     "text": [
      "epoch : 0/4, loss = 0.006401, test_loss = 0.006308\n",
      "epoch : 1/4, loss = 0.006065, test_loss = 0.006303\n"
     ]
    },
    {
     "name": "stderr",
     "output_type": "stream",
     "text": [
      "[I 2020-09-15 13:32:06,263] Setting status of trial#22 as TrialState.PRUNED. \n"
     ]
    },
    {
     "name": "stdout",
     "output_type": "stream",
     "text": [
      "epoch : 0/4, loss = 0.005922, test_loss = 0.005330\n",
      "epoch : 1/4, loss = 0.004910, test_loss = 0.004738\n",
      "epoch : 2/4, loss = 0.004489, test_loss = 0.004482\n",
      "epoch : 3/4, loss = 0.004268, test_loss = 0.004322\n"
     ]
    },
    {
     "name": "stderr",
     "output_type": "stream",
     "text": [
      "[I 2020-09-15 13:32:27,574] Finished trial#23 with value: 0.004322397255187703 with parameters: {'Learning Rate': 0.06479790069228863, 'Dropout Rate': 0.30000000000000004, 'Latent Size': 64, 'Optimizer': 'SGD', 'Frequency Bins': 60, 'Time Steps': 10, 'Hidden Layers': 2, 'L2 Regularization': 0.0009297867044010104, 'Model Type': 'FC'}. Best is trial#6 with value: 0.0024031549786544732.\n"
     ]
    },
    {
     "name": "stdout",
     "output_type": "stream",
     "text": [
      "epoch : 0/4, loss = 0.003940, test_loss = 0.003731\n",
      "epoch : 1/4, loss = 0.003634, test_loss = 0.003727\n",
      "epoch : 2/4, loss = 0.003604, test_loss = 0.003728\n",
      "epoch : 3/4, loss = 0.003604, test_loss = 0.003719\n"
     ]
    },
    {
     "name": "stderr",
     "output_type": "stream",
     "text": [
      "[I 2020-09-15 13:32:48,690] Finished trial#24 with value: 0.0037187222183707193 with parameters: {'Learning Rate': 0.0018658416818130843, 'Dropout Rate': 0.4, 'Latent Size': 16, 'Optimizer': 'Adam', 'Frequency Bins': 60, 'Time Steps': 10, 'Hidden Layers': 2, 'L2 Regularization': 0.0001711859479056543, 'Model Type': 'FC'}. Best is trial#6 with value: 0.0024031549786544732.\n"
     ]
    },
    {
     "name": "stdout",
     "output_type": "stream",
     "text": [
      "epoch : 0/4, loss = 0.013421, test_loss = 0.013398\n",
      "epoch : 1/4, loss = 0.013636, test_loss = 0.013846\n"
     ]
    },
    {
     "name": "stderr",
     "output_type": "stream",
     "text": [
      "[I 2020-09-15 13:33:00,318] Setting status of trial#25 as TrialState.PRUNED. \n"
     ]
    },
    {
     "name": "stdout",
     "output_type": "stream",
     "text": [
      "epoch : 0/4, loss = 0.012101, test_loss = 0.010597\n",
      "epoch : 1/4, loss = 0.010393, test_loss = 0.010574\n",
      "epoch : 2/4, loss = 0.010600, test_loss = 0.010513\n",
      "epoch : 3/4, loss = 0.010272, test_loss = 0.010661\n"
     ]
    },
    {
     "name": "stderr",
     "output_type": "stream",
     "text": [
      "[I 2020-09-15 13:33:15,955] Finished trial#26 with value: 0.010660814694003077 with parameters: {'Learning Rate': 0.05593628187185701, 'Dropout Rate': 0.30000000000000004, 'Latent Size': 4, 'Optimizer': 'Adam', 'Frequency Bins': 10, 'Time Steps': 10, 'Hidden Layers': 2, 'L2 Regularization': 1.1678160604275393e-06, 'Model Type': 'CNN'}. Best is trial#6 with value: 0.0024031549786544732.\n"
     ]
    },
    {
     "name": "stdout",
     "output_type": "stream",
     "text": [
      "epoch : 0/4, loss = 0.008406, test_loss = 0.005986\n",
      "epoch : 1/4, loss = 0.004840, test_loss = 0.004489\n"
     ]
    },
    {
     "name": "stderr",
     "output_type": "stream",
     "text": [
      "[I 2020-09-15 13:33:36,711] Setting status of trial#27 as TrialState.PRUNED. \n"
     ]
    },
    {
     "name": "stdout",
     "output_type": "stream",
     "text": [
      "epoch : 0/4, loss = 0.011783, test_loss = 0.009752\n",
      "epoch : 1/4, loss = 0.009349, test_loss = 0.009516\n"
     ]
    },
    {
     "name": "stderr",
     "output_type": "stream",
     "text": [
      "[I 2020-09-15 13:33:48,521] Setting status of trial#28 as TrialState.PRUNED. \n"
     ]
    },
    {
     "name": "stdout",
     "output_type": "stream",
     "text": [
      "epoch : 0/4, loss = 0.004031, test_loss = 0.003983\n",
      "epoch : 1/4, loss = 0.003888, test_loss = 0.004012\n",
      "epoch : 2/4, loss = 0.003843, test_loss = 0.004065\n",
      "epoch : 3/4, loss = 0.003857, test_loss = 0.004112\n"
     ]
    },
    {
     "name": "stderr",
     "output_type": "stream",
     "text": [
      "[I 2020-09-15 13:34:10,007] Finished trial#29 with value: 0.004111647517797914 with parameters: {'Learning Rate': 0.0928121266132625, 'Dropout Rate': 0.0, 'Latent Size': 64, 'Optimizer': 'Adam', 'Frequency Bins': 60, 'Time Steps': 10, 'Hidden Layers': 2, 'L2 Regularization': 0.0028284647522457016, 'Model Type': 'FC'}. Best is trial#6 with value: 0.0024031549786544732.\n"
     ]
    },
    {
     "name": "stdout",
     "output_type": "stream",
     "text": [
      "epoch : 0/4, loss = 0.009558, test_loss = 0.009681\n",
      "epoch : 1/4, loss = 0.009162, test_loss = 0.009344\n"
     ]
    },
    {
     "name": "stderr",
     "output_type": "stream",
     "text": [
      "[I 2020-09-15 13:34:21,610] Setting status of trial#30 as TrialState.PRUNED. \n"
     ]
    },
    {
     "name": "stdout",
     "output_type": "stream",
     "text": [
      "epoch : 0/4, loss = 0.019915, test_loss = 0.019014\n",
      "epoch : 1/4, loss = 0.018060, test_loss = 0.017292\n"
     ]
    },
    {
     "name": "stderr",
     "output_type": "stream",
     "text": [
      "[I 2020-09-15 13:34:37,351] Setting status of trial#31 as TrialState.PRUNED. \n"
     ]
    },
    {
     "name": "stdout",
     "output_type": "stream",
     "text": [
      "epoch : 0/4, loss = 0.006958, test_loss = 0.005135\n",
      "epoch : 1/4, loss = 0.004384, test_loss = 0.004065\n",
      "epoch : 2/4, loss = 0.003741, test_loss = 0.003639\n",
      "epoch : 3/4, loss = 0.003378, test_loss = 0.003395\n"
     ]
    },
    {
     "name": "stderr",
     "output_type": "stream",
     "text": [
      "[I 2020-09-15 13:35:06,812] Finished trial#32 with value: 0.0033954781656329695 with parameters: {'Learning Rate': 0.07167952885257582, 'Dropout Rate': 0.30000000000000004, 'Latent Size': 4, 'Optimizer': 'SGD', 'Frequency Bins': 60, 'Time Steps': 20, 'Hidden Layers': 2, 'L2 Regularization': 4.831470060412663e-06, 'Model Type': 'FC'}. Best is trial#6 with value: 0.0024031549786544732.\n"
     ]
    },
    {
     "name": "stdout",
     "output_type": "stream",
     "text": [
      "epoch : 0/4, loss = 0.005443, test_loss = 0.005285\n",
      "epoch : 1/4, loss = 0.004821, test_loss = 0.004805\n"
     ]
    },
    {
     "name": "stderr",
     "output_type": "stream",
     "text": [
      "[I 2020-09-15 13:35:27,438] Setting status of trial#33 as TrialState.PRUNED. \n"
     ]
    },
    {
     "name": "stdout",
     "output_type": "stream",
     "text": [
      "epoch : 0/4, loss = 0.003814, test_loss = 0.003825\n",
      "epoch : 1/4, loss = 0.003698, test_loss = 0.003885\n",
      "epoch : 2/4, loss = 0.003737, test_loss = 0.003787\n",
      "epoch : 3/4, loss = 0.003725, test_loss = 0.003843\n"
     ]
    },
    {
     "name": "stderr",
     "output_type": "stream",
     "text": [
      "[I 2020-09-15 13:35:48,673] Finished trial#34 with value: 0.003842870141631244 with parameters: {'Learning Rate': 0.08277951770155054, 'Dropout Rate': 0.4, 'Latent Size': 64, 'Optimizer': 'Adam', 'Frequency Bins': 60, 'Time Steps': 10, 'Hidden Layers': 2, 'L2 Regularization': 0.00015050776066239326, 'Model Type': 'FC'}. Best is trial#6 with value: 0.0024031549786544732.\n"
     ]
    },
    {
     "name": "stdout",
     "output_type": "stream",
     "text": [
      "epoch : 0/4, loss = 0.008320, test_loss = 0.007140\n",
      "epoch : 1/4, loss = 0.006907, test_loss = 0.007149\n",
      "epoch : 2/4, loss = 0.006921, test_loss = 0.007156\n",
      "epoch : 3/4, loss = 0.006909, test_loss = 0.007158\n"
     ]
    },
    {
     "name": "stderr",
     "output_type": "stream",
     "text": [
      "[I 2020-09-15 13:36:06,171] Finished trial#35 with value: 0.0071582759894128585 with parameters: {'Learning Rate': 0.07822106708643975, 'Dropout Rate': 0.1, 'Latent Size': 4, 'Optimizer': 'Adam', 'Frequency Bins': 30, 'Time Steps': 10, 'Hidden Layers': 2, 'L2 Regularization': 1.1045452320007337e-06, 'Model Type': 'CNN'}. Best is trial#6 with value: 0.0024031549786544732.\n"
     ]
    },
    {
     "name": "stdout",
     "output_type": "stream",
     "text": [
      "epoch : 0/4, loss = 0.008629, test_loss = 0.008048\n",
      "epoch : 1/4, loss = 0.007264, test_loss = 0.007142\n"
     ]
    },
    {
     "name": "stderr",
     "output_type": "stream",
     "text": [
      "[I 2020-09-15 13:36:17,827] Setting status of trial#36 as TrialState.PRUNED. \n"
     ]
    },
    {
     "name": "stdout",
     "output_type": "stream",
     "text": [
      "epoch : 0/4, loss = 0.005906, test_loss = 0.006009\n",
      "epoch : 1/4, loss = 0.005677, test_loss = 0.005870\n"
     ]
    },
    {
     "name": "stderr",
     "output_type": "stream",
     "text": [
      "[I 2020-09-15 13:36:37,626] Setting status of trial#37 as TrialState.PRUNED. \n"
     ]
    },
    {
     "name": "stdout",
     "output_type": "stream",
     "text": [
      "epoch : 0/4, loss = 0.013219, test_loss = 0.013273\n",
      "epoch : 1/4, loss = 0.013167, test_loss = 0.013261\n",
      "epoch : 2/4, loss = 0.013286, test_loss = 0.013985\n",
      "epoch : 3/4, loss = 0.013278, test_loss = 0.013316\n"
     ]
    },
    {
     "name": "stderr",
     "output_type": "stream",
     "text": [
      "[I 2020-09-15 13:36:53,172] Finished trial#38 with value: 0.013315531311909089 with parameters: {'Learning Rate': 0.09277548581731376, 'Dropout Rate': 0.1, 'Latent Size': 16, 'Optimizer': 'Adam', 'Frequency Bins': 10, 'Time Steps': 10, 'Hidden Layers': 1, 'L2 Regularization': 0.07897916498960639, 'Model Type': 'CNN'}. Best is trial#6 with value: 0.0024031549786544732.\n"
     ]
    },
    {
     "name": "stdout",
     "output_type": "stream",
     "text": [
      "epoch : 0/4, loss = 0.004946, test_loss = 0.004859\n",
      "epoch : 1/4, loss = 0.004086, test_loss = 0.004321\n",
      "epoch : 2/4, loss = 0.004100, test_loss = 0.004505\n",
      "epoch : 3/4, loss = 0.004049, test_loss = 0.004230\n"
     ]
    },
    {
     "name": "stderr",
     "output_type": "stream",
     "text": [
      "[I 2020-09-15 13:37:19,683] Finished trial#39 with value: 0.004230028506041177 with parameters: {'Learning Rate': 0.05011970115883236, 'Dropout Rate': 0.30000000000000004, 'Latent Size': 16, 'Optimizer': 'Adam', 'Frequency Bins': 10, 'Time Steps': 20, 'Hidden Layers': 1, 'L2 Regularization': 0.00018943099407416736, 'Model Type': 'FC'}. Best is trial#6 with value: 0.0024031549786544732.\n"
     ]
    },
    {
     "name": "stdout",
     "output_type": "stream",
     "text": [
      "epoch : 0/4, loss = 0.004817, test_loss = 0.003604\n",
      "epoch : 1/4, loss = 0.002646, test_loss = 0.002165\n",
      "epoch : 2/4, loss = 0.001916, test_loss = 0.001838\n",
      "epoch : 3/4, loss = 0.001631, test_loss = 0.001729\n"
     ]
    },
    {
     "name": "stderr",
     "output_type": "stream",
     "text": [
      "[I 2020-09-15 13:37:46,017] Finished trial#40 with value: 0.0017289507369561172 with parameters: {'Learning Rate': 0.004238912656469461, 'Dropout Rate': 0.0, 'Latent Size': 64, 'Optimizer': 'Adam', 'Frequency Bins': 10, 'Time Steps': 20, 'Hidden Layers': 2, 'L2 Regularization': 1.6467454129545388e-06, 'Model Type': 'FC'}. Best is trial#40 with value: 0.0017289507369561172.\n"
     ]
    },
    {
     "name": "stdout",
     "output_type": "stream",
     "text": [
      "epoch : 0/4, loss = 0.008763, test_loss = 0.006772\n",
      "epoch : 1/4, loss = 0.006389, test_loss = 0.006613\n"
     ]
    },
    {
     "name": "stderr",
     "output_type": "stream",
     "text": [
      "[I 2020-09-15 13:37:58,943] Setting status of trial#41 as TrialState.PRUNED. \n"
     ]
    },
    {
     "name": "stdout",
     "output_type": "stream",
     "text": [
      "epoch : 0/4, loss = 0.003631, test_loss = 0.003708\n",
      "epoch : 1/4, loss = 0.003536, test_loss = 0.003758\n",
      "epoch : 2/4, loss = 0.003541, test_loss = 0.003748\n",
      "epoch : 3/4, loss = 0.003543, test_loss = 0.003714\n"
     ]
    },
    {
     "name": "stderr",
     "output_type": "stream",
     "text": [
      "[I 2020-09-15 13:38:26,699] Finished trial#42 with value: 0.003714236301823041 with parameters: {'Learning Rate': 0.04190069122167564, 'Dropout Rate': 0.0, 'Latent Size': 16, 'Optimizer': 'Adam', 'Frequency Bins': 30, 'Time Steps': 20, 'Hidden Layers': 1, 'L2 Regularization': 0.0008483111554625711, 'Model Type': 'FC'}. Best is trial#40 with value: 0.0017289507369561172.\n"
     ]
    },
    {
     "name": "stdout",
     "output_type": "stream",
     "text": [
      "epoch : 0/4, loss = 0.013158, test_loss = 0.009773\n",
      "epoch : 1/4, loss = 0.009189, test_loss = 0.009348\n",
      "epoch : 2/4, loss = 0.009039, test_loss = 0.009167\n",
      "epoch : 3/4, loss = 0.009060, test_loss = 0.009197\n"
     ]
    },
    {
     "name": "stderr",
     "output_type": "stream",
     "text": [
      "[I 2020-09-15 13:38:42,213] Finished trial#43 with value: 0.009196693964956983 with parameters: {'Learning Rate': 0.04565896161404025, 'Dropout Rate': 0.4, 'Latent Size': 4, 'Optimizer': 'SGD', 'Frequency Bins': 10, 'Time Steps': 10, 'Hidden Layers': 2, 'L2 Regularization': 0.005672678235365808, 'Model Type': 'CNN'}. Best is trial#40 with value: 0.0017289507369561172.\n"
     ]
    },
    {
     "name": "stdout",
     "output_type": "stream",
     "text": [
      "epoch : 0/4, loss = 0.005325, test_loss = 0.005166\n",
      "epoch : 1/4, loss = 0.004820, test_loss = 0.004824\n"
     ]
    },
    {
     "name": "stderr",
     "output_type": "stream",
     "text": [
      "[I 2020-09-15 13:39:02,964] Setting status of trial#44 as TrialState.PRUNED. \n"
     ]
    },
    {
     "name": "stdout",
     "output_type": "stream",
     "text": [
      "epoch : 0/4, loss = 0.008245, test_loss = 0.008637\n",
      "epoch : 1/4, loss = 0.008252, test_loss = 0.008371\n"
     ]
    },
    {
     "name": "stderr",
     "output_type": "stream",
     "text": [
      "[I 2020-09-15 13:39:23,363] Setting status of trial#45 as TrialState.PRUNED. \n"
     ]
    },
    {
     "name": "stdout",
     "output_type": "stream",
     "text": [
      "epoch : 0/4, loss = 0.004813, test_loss = 0.004515\n",
      "epoch : 1/4, loss = 0.004364, test_loss = 0.004507\n",
      "epoch : 2/4, loss = 0.004355, test_loss = 0.004485\n",
      "epoch : 3/4, loss = 0.004482, test_loss = 0.004513\n"
     ]
    },
    {
     "name": "stderr",
     "output_type": "stream",
     "text": [
      "[I 2020-09-15 13:39:44,505] Finished trial#46 with value: 0.004513488207767541 with parameters: {'Learning Rate': 0.07420427616167083, 'Dropout Rate': 0.2, 'Latent Size': 16, 'Optimizer': 'SGD', 'Frequency Bins': 60, 'Time Steps': 10, 'Hidden Layers': 2, 'L2 Regularization': 0.05246031636715549, 'Model Type': 'FC'}. Best is trial#40 with value: 0.0017289507369561172.\n"
     ]
    },
    {
     "name": "stdout",
     "output_type": "stream",
     "text": [
      "epoch : 0/4, loss = 0.009629, test_loss = 0.007399\n",
      "epoch : 1/4, loss = 0.006807, test_loss = 0.006989\n"
     ]
    },
    {
     "name": "stderr",
     "output_type": "stream",
     "text": [
      "[I 2020-09-15 13:39:57,541] Setting status of trial#47 as TrialState.PRUNED. \n"
     ]
    },
    {
     "name": "stdout",
     "output_type": "stream",
     "text": [
      "epoch : 0/4, loss = 0.011721, test_loss = 0.010670\n",
      "epoch : 1/4, loss = 0.009650, test_loss = 0.008904\n",
      "epoch : 2/4, loss = 0.008183, test_loss = 0.007698\n",
      "epoch : 3/4, loss = 0.007143, test_loss = 0.006797\n"
     ]
    },
    {
     "name": "stderr",
     "output_type": "stream",
     "text": [
      "[I 2020-09-15 13:40:26,565] Finished trial#48 with value: 0.006797318674019865 with parameters: {'Learning Rate': 0.012810755807408798, 'Dropout Rate': 0.4, 'Latent Size': 4, 'Optimizer': 'SGD', 'Frequency Bins': 60, 'Time Steps': 20, 'Hidden Layers': 2, 'L2 Regularization': 0.00014386050447578596, 'Model Type': 'CNN'}. Best is trial#40 with value: 0.0017289507369561172.\n"
     ]
    },
    {
     "name": "stdout",
     "output_type": "stream",
     "text": [
      "epoch : 0/4, loss = 0.002735, test_loss = 0.002502\n",
      "epoch : 1/4, loss = 0.002394, test_loss = 0.002462\n",
      "epoch : 2/4, loss = 0.002398, test_loss = 0.002557\n",
      "epoch : 3/4, loss = 0.002421, test_loss = 0.002526\n"
     ]
    },
    {
     "name": "stderr",
     "output_type": "stream",
     "text": [
      "[I 2020-09-15 13:40:55,476] Finished trial#49 with value: 0.002526282927499631 with parameters: {'Learning Rate': 0.06929329087330503, 'Dropout Rate': 0.0, 'Latent Size': 64, 'Optimizer': 'Adam', 'Frequency Bins': 60, 'Time Steps': 20, 'Hidden Layers': 2, 'L2 Regularization': 0.0012572662188850715, 'Model Type': 'CNN'}. Best is trial#40 with value: 0.0017289507369561172.\n"
     ]
    },
    {
     "name": "stdout",
     "output_type": "stream",
     "text": [
      "epoch : 0/4, loss = 0.007972, test_loss = 0.006713\n",
      "epoch : 1/4, loss = 0.006305, test_loss = 0.005877\n",
      "epoch : 2/4, loss = 0.005494, test_loss = 0.006436\n",
      "epoch : 3/4, loss = 0.005498, test_loss = 0.005708\n"
     ]
    },
    {
     "name": "stderr",
     "output_type": "stream",
     "text": [
      "[I 2020-09-15 13:41:12,824] Finished trial#50 with value: 0.005708390120039317 with parameters: {'Learning Rate': 0.09410397624378077, 'Dropout Rate': 0.30000000000000004, 'Latent Size': 16, 'Optimizer': 'Adam', 'Frequency Bins': 30, 'Time Steps': 10, 'Hidden Layers': 1, 'L2 Regularization': 0.00036112948294935083, 'Model Type': 'CNN'}. Best is trial#40 with value: 0.0017289507369561172.\n"
     ]
    },
    {
     "name": "stdout",
     "output_type": "stream",
     "text": [
      "epoch : 0/4, loss = 0.004388, test_loss = 0.004049\n",
      "epoch : 1/4, loss = 0.003671, test_loss = 0.003565\n",
      "epoch : 2/4, loss = 0.003282, test_loss = 0.003263\n",
      "epoch : 3/4, loss = 0.003075, test_loss = 0.003067\n"
     ]
    },
    {
     "name": "stderr",
     "output_type": "stream",
     "text": [
      "[I 2020-09-15 13:41:41,626] Finished trial#51 with value: 0.0030665069384299016 with parameters: {'Learning Rate': 0.06560321054673998, 'Dropout Rate': 0.0, 'Latent Size': 16, 'Optimizer': 'SGD', 'Frequency Bins': 60, 'Time Steps': 20, 'Hidden Layers': 2, 'L2 Regularization': 0.0002632529079914289, 'Model Type': 'FC'}. Best is trial#40 with value: 0.0017289507369561172.\n"
     ]
    },
    {
     "name": "stdout",
     "output_type": "stream",
     "text": [
      "epoch : 0/4, loss = 0.009850, test_loss = 0.010068\n",
      "epoch : 1/4, loss = 0.009721, test_loss = 0.009773\n"
     ]
    },
    {
     "name": "stderr",
     "output_type": "stream",
     "text": [
      "[I 2020-09-15 13:41:53,275] Setting status of trial#52 as TrialState.PRUNED. \n"
     ]
    },
    {
     "name": "stdout",
     "output_type": "stream",
     "text": [
      "epoch : 0/4, loss = 0.006248, test_loss = 0.005626\n",
      "epoch : 1/4, loss = 0.005009, test_loss = 0.004856\n",
      "epoch : 2/4, loss = 0.004472, test_loss = 0.004511\n",
      "epoch : 3/4, loss = 0.004279, test_loss = 0.004320\n"
     ]
    },
    {
     "name": "stderr",
     "output_type": "stream",
     "text": [
      "[I 2020-09-15 13:42:20,746] Finished trial#53 with value: 0.004319519808239027 with parameters: {'Learning Rate': 0.07788955733312762, 'Dropout Rate': 0.30000000000000004, 'Latent Size': 16, 'Optimizer': 'SGD', 'Frequency Bins': 30, 'Time Steps': 20, 'Hidden Layers': 2, 'L2 Regularization': 4.459599702319406e-06, 'Model Type': 'FC'}. Best is trial#40 with value: 0.0017289507369561172.\n"
     ]
    },
    {
     "name": "stdout",
     "output_type": "stream",
     "text": [
      "epoch : 0/4, loss = 0.002203, test_loss = 0.002337\n",
      "epoch : 1/4, loss = 0.002121, test_loss = 0.002117\n",
      "epoch : 2/4, loss = 0.002083, test_loss = 0.002242\n",
      "epoch : 3/4, loss = 0.002129, test_loss = 0.002149\n"
     ]
    },
    {
     "name": "stderr",
     "output_type": "stream",
     "text": [
      "[I 2020-09-15 13:42:49,905] Finished trial#54 with value: 0.002149103005649522 with parameters: {'Learning Rate': 0.044833615618054865, 'Dropout Rate': 0.30000000000000004, 'Latent Size': 64, 'Optimizer': 'Adam', 'Frequency Bins': 60, 'Time Steps': 20, 'Hidden Layers': 1, 'L2 Regularization': 3.687023232664146e-05, 'Model Type': 'FC'}. Best is trial#40 with value: 0.0017289507369561172.\n"
     ]
    },
    {
     "name": "stdout",
     "output_type": "stream",
     "text": [
      "epoch : 0/4, loss = 0.006510, test_loss = 0.005602\n",
      "epoch : 1/4, loss = 0.005238, test_loss = 0.005288\n"
     ]
    },
    {
     "name": "stderr",
     "output_type": "stream",
     "text": [
      "[I 2020-09-15 13:43:03,013] Setting status of trial#55 as TrialState.PRUNED. \n"
     ]
    },
    {
     "name": "stdout",
     "output_type": "stream",
     "text": [
      "epoch : 0/4, loss = 0.014952, test_loss = 0.014789\n",
      "epoch : 1/4, loss = 0.014589, test_loss = 0.014735\n",
      "epoch : 2/4, loss = 0.014502, test_loss = 0.014721\n",
      "epoch : 3/4, loss = 0.014490, test_loss = 0.014680\n"
     ]
    },
    {
     "name": "stderr",
     "output_type": "stream",
     "text": [
      "[I 2020-09-15 13:43:18,472] Finished trial#56 with value: 0.014679637850841155 with parameters: {'Learning Rate': 0.09459630609390461, 'Dropout Rate': 0.0, 'Latent Size': 64, 'Optimizer': 'SGD', 'Frequency Bins': 10, 'Time Steps': 10, 'Hidden Layers': 2, 'L2 Regularization': 2.87677921967855e-06, 'Model Type': 'CNN'}. Best is trial#40 with value: 0.0017289507369561172.\n"
     ]
    },
    {
     "name": "stdout",
     "output_type": "stream",
     "text": [
      "epoch : 0/4, loss = 0.004118, test_loss = 0.004108\n",
      "epoch : 1/4, loss = 0.004024, test_loss = 0.004116\n"
     ]
    },
    {
     "name": "stderr",
     "output_type": "stream",
     "text": [
      "[I 2020-09-15 13:43:34,416] Setting status of trial#57 as TrialState.PRUNED. \n"
     ]
    },
    {
     "name": "stdout",
     "output_type": "stream",
     "text": [
      "epoch : 0/4, loss = 0.005004, test_loss = 0.004256\n",
      "epoch : 1/4, loss = 0.003789, test_loss = 0.003618\n",
      "epoch : 2/4, loss = 0.003358, test_loss = 0.003314\n",
      "epoch : 3/4, loss = 0.003129, test_loss = 0.003132\n"
     ]
    },
    {
     "name": "stderr",
     "output_type": "stream",
     "text": [
      "[I 2020-09-15 13:44:03,450] Finished trial#58 with value: 0.0031319406368090093 with parameters: {'Learning Rate': 0.07402118114835697, 'Dropout Rate': 0.1, 'Latent Size': 4, 'Optimizer': 'SGD', 'Frequency Bins': 60, 'Time Steps': 20, 'Hidden Layers': 2, 'L2 Regularization': 6.368595738829929e-06, 'Model Type': 'FC'}. Best is trial#40 with value: 0.0017289507369561172.\n"
     ]
    },
    {
     "name": "stdout",
     "output_type": "stream",
     "text": [
      "epoch : 0/4, loss = 0.003979, test_loss = 0.003849\n",
      "epoch : 1/4, loss = 0.003563, test_loss = 0.003516\n",
      "epoch : 2/4, loss = 0.003306, test_loss = 0.003308\n",
      "epoch : 3/4, loss = 0.003135, test_loss = 0.003163\n"
     ]
    },
    {
     "name": "stderr",
     "output_type": "stream",
     "text": [
      "[I 2020-09-15 13:44:32,387] Finished trial#59 with value: 0.0031627330054352816 with parameters: {'Learning Rate': 0.07146764153369793, 'Dropout Rate': 0.1, 'Latent Size': 64, 'Optimizer': 'SGD', 'Frequency Bins': 60, 'Time Steps': 20, 'Hidden Layers': 1, 'L2 Regularization': 2.557707276984763e-06, 'Model Type': 'FC'}. Best is trial#40 with value: 0.0017289507369561172.\n"
     ]
    },
    {
     "name": "stdout",
     "output_type": "stream",
     "text": [
      "epoch : 0/4, loss = 0.007196, test_loss = 0.007175\n",
      "epoch : 1/4, loss = 0.006773, test_loss = 0.006767\n",
      "epoch : 2/4, loss = 0.006419, test_loss = 0.006441\n",
      "epoch : 3/4, loss = 0.006159, test_loss = 0.006188\n"
     ]
    },
    {
     "name": "stderr",
     "output_type": "stream",
     "text": [
      "[I 2020-09-15 13:44:59,855] Finished trial#60 with value: 0.0061884340012093655 with parameters: {'Learning Rate': 0.012565884979159716, 'Dropout Rate': 0.5, 'Latent Size': 16, 'Optimizer': 'SGD', 'Frequency Bins': 30, 'Time Steps': 20, 'Hidden Layers': 2, 'L2 Regularization': 0.00019468972562386693, 'Model Type': 'FC'}. Best is trial#40 with value: 0.0017289507369561172.\n"
     ]
    },
    {
     "name": "stdout",
     "output_type": "stream",
     "text": [
      "epoch : 0/4, loss = 0.013862, test_loss = 0.010607\n",
      "epoch : 1/4, loss = 0.008940, test_loss = 0.008027\n",
      "epoch : 2/4, loss = 0.007246, test_loss = 0.007067\n",
      "epoch : 3/4, loss = 0.006575, test_loss = 0.006726\n"
     ]
    },
    {
     "name": "stderr",
     "output_type": "stream",
     "text": [
      "[I 2020-09-15 13:45:17,263] Finished trial#61 with value: 0.006725704951866253 with parameters: {'Learning Rate': 0.012086572626750688, 'Dropout Rate': 0.30000000000000004, 'Latent Size': 4, 'Optimizer': 'SGD', 'Frequency Bins': 30, 'Time Steps': 10, 'Hidden Layers': 1, 'L2 Regularization': 0.012307025314019287, 'Model Type': 'FC'}. Best is trial#40 with value: 0.0017289507369561172.\n"
     ]
    },
    {
     "name": "stdout",
     "output_type": "stream",
     "text": [
      "epoch : 0/4, loss = 0.004107, test_loss = 0.004179\n",
      "epoch : 1/4, loss = 0.004071, test_loss = 0.004185\n"
     ]
    },
    {
     "name": "stderr",
     "output_type": "stream",
     "text": [
      "[I 2020-09-15 13:45:33,020] Setting status of trial#62 as TrialState.PRUNED. \n"
     ]
    },
    {
     "name": "stdout",
     "output_type": "stream",
     "text": [
      "epoch : 0/4, loss = 0.004766, test_loss = 0.003708\n",
      "epoch : 1/4, loss = 0.003559, test_loss = 0.003823\n",
      "epoch : 2/4, loss = 0.003547, test_loss = 0.003780\n",
      "epoch : 3/4, loss = 0.003558, test_loss = 0.003954\n"
     ]
    },
    {
     "name": "stderr",
     "output_type": "stream",
     "text": [
      "[I 2020-09-15 13:46:00,740] Finished trial#63 with value: 0.0039537574630230665 with parameters: {'Learning Rate': 0.0742829446744817, 'Dropout Rate': 0.30000000000000004, 'Latent Size': 4, 'Optimizer': 'Adam', 'Frequency Bins': 30, 'Time Steps': 20, 'Hidden Layers': 2, 'L2 Regularization': 0.0006102834677983657, 'Model Type': 'CNN'}. Best is trial#40 with value: 0.0017289507369561172.\n"
     ]
    },
    {
     "name": "stdout",
     "output_type": "stream",
     "text": [
      "epoch : 0/4, loss = 0.002379, test_loss = 0.002432\n",
      "epoch : 1/4, loss = 0.002323, test_loss = 0.002417\n",
      "epoch : 2/4, loss = 0.002309, test_loss = 0.002447\n",
      "epoch : 3/4, loss = 0.002359, test_loss = 0.002446\n"
     ]
    },
    {
     "name": "stderr",
     "output_type": "stream",
     "text": [
      "[I 2020-09-15 13:46:30,068] Finished trial#64 with value: 0.002445549260497697 with parameters: {'Learning Rate': 0.022711291123236013, 'Dropout Rate': 0.1, 'Latent Size': 64, 'Optimizer': 'Adam', 'Frequency Bins': 60, 'Time Steps': 20, 'Hidden Layers': 2, 'L2 Regularization': 0.0005364031273907507, 'Model Type': 'CNN'}. Best is trial#40 with value: 0.0017289507369561172.\n"
     ]
    },
    {
     "name": "stdout",
     "output_type": "stream",
     "text": [
      "epoch : 0/4, loss = 0.007062, test_loss = 0.006449\n",
      "epoch : 1/4, loss = 0.006121, test_loss = 0.006435\n",
      "epoch : 2/4, loss = 0.006069, test_loss = 0.006352\n",
      "epoch : 3/4, loss = 0.006097, test_loss = 0.006383\n"
     ]
    },
    {
     "name": "stderr",
     "output_type": "stream",
     "text": [
      "[I 2020-09-15 13:46:47,475] Finished trial#65 with value: 0.006382791476475226 with parameters: {'Learning Rate': 0.09057118883874457, 'Dropout Rate': 0.0, 'Latent Size': 16, 'Optimizer': 'SGD', 'Frequency Bins': 30, 'Time Steps': 10, 'Hidden Layers': 2, 'L2 Regularization': 1.6398108449177916e-05, 'Model Type': 'CNN'}. Best is trial#40 with value: 0.0017289507369561172.\n"
     ]
    },
    {
     "name": "stdout",
     "output_type": "stream",
     "text": [
      "epoch : 0/4, loss = 0.004738, test_loss = 0.003927\n",
      "epoch : 1/4, loss = 0.003903, test_loss = 0.003997\n"
     ]
    },
    {
     "name": "stderr",
     "output_type": "stream",
     "text": [
      "[I 2020-09-15 13:47:03,809] Setting status of trial#66 as TrialState.PRUNED. \n"
     ]
    },
    {
     "name": "stdout",
     "output_type": "stream",
     "text": [
      "epoch : 0/4, loss = 0.011958, test_loss = 0.009491\n",
      "epoch : 1/4, loss = 0.008947, test_loss = 0.008646\n"
     ]
    },
    {
     "name": "stderr",
     "output_type": "stream",
     "text": [
      "[I 2020-09-15 13:47:15,123] Setting status of trial#67 as TrialState.PRUNED. \n"
     ]
    },
    {
     "name": "stdout",
     "output_type": "stream",
     "text": [
      "epoch : 0/4, loss = 0.004783, test_loss = 0.004370\n",
      "epoch : 1/4, loss = 0.004165, test_loss = 0.004090\n"
     ]
    },
    {
     "name": "stderr",
     "output_type": "stream",
     "text": [
      "[I 2020-09-15 13:47:35,888] Setting status of trial#68 as TrialState.PRUNED. \n"
     ]
    },
    {
     "name": "stdout",
     "output_type": "stream",
     "text": [
      "epoch : 0/4, loss = 0.009900, test_loss = 0.010052\n",
      "epoch : 1/4, loss = 0.009954, test_loss = 0.009887\n"
     ]
    },
    {
     "name": "stderr",
     "output_type": "stream",
     "text": [
      "[I 2020-09-15 13:47:47,449] Setting status of trial#69 as TrialState.PRUNED. \n"
     ]
    },
    {
     "name": "stdout",
     "output_type": "stream",
     "text": [
      "epoch : 0/4, loss = 0.002535, test_loss = 0.002526\n",
      "epoch : 1/4, loss = 0.002395, test_loss = 0.002553\n",
      "epoch : 2/4, loss = 0.002398, test_loss = 0.002522\n",
      "epoch : 3/4, loss = 0.002396, test_loss = 0.002545\n"
     ]
    },
    {
     "name": "stderr",
     "output_type": "stream",
     "text": [
      "[I 2020-09-15 13:48:16,337] Finished trial#70 with value: 0.002545493149915962 with parameters: {'Learning Rate': 0.061755180159315054, 'Dropout Rate': 0.4, 'Latent Size': 4, 'Optimizer': 'Adam', 'Frequency Bins': 60, 'Time Steps': 20, 'Hidden Layers': 2, 'L2 Regularization': 1.3166783302601952e-05, 'Model Type': 'FC'}. Best is trial#40 with value: 0.0017289507369561172.\n"
     ]
    },
    {
     "name": "stdout",
     "output_type": "stream",
     "text": [
      "epoch : 0/4, loss = 0.010822, test_loss = 0.010278\n",
      "epoch : 1/4, loss = 0.009274, test_loss = 0.008995\n"
     ]
    },
    {
     "name": "stderr",
     "output_type": "stream",
     "text": [
      "[I 2020-09-15 13:48:27,919] Setting status of trial#71 as TrialState.PRUNED. \n"
     ]
    },
    {
     "name": "stdout",
     "output_type": "stream",
     "text": [
      "epoch : 0/4, loss = 0.014185, test_loss = 0.012753\n",
      "epoch : 1/4, loss = 0.011999, test_loss = 0.011829\n",
      "epoch : 2/4, loss = 0.011546, test_loss = 0.011500\n",
      "epoch : 3/4, loss = 0.011276, test_loss = 0.011493\n"
     ]
    },
    {
     "name": "stderr",
     "output_type": "stream",
     "text": [
      "[I 2020-09-15 13:48:43,337] Finished trial#72 with value: 0.011492869867062246 with parameters: {'Learning Rate': 0.02098807731144159, 'Dropout Rate': 0.5, 'Latent Size': 64, 'Optimizer': 'SGD', 'Frequency Bins': 10, 'Time Steps': 10, 'Hidden Layers': 1, 'L2 Regularization': 0.028203025813651333, 'Model Type': 'FC'}. Best is trial#40 with value: 0.0017289507369561172.\n"
     ]
    },
    {
     "name": "stdout",
     "output_type": "stream",
     "text": [
      "epoch : 0/4, loss = 0.014028, test_loss = 0.012764\n",
      "epoch : 1/4, loss = 0.012600, test_loss = 0.012546\n"
     ]
    },
    {
     "name": "stderr",
     "output_type": "stream",
     "text": [
      "[I 2020-09-15 13:48:54,880] Setting status of trial#73 as TrialState.PRUNED. \n"
     ]
    },
    {
     "name": "stdout",
     "output_type": "stream",
     "text": [
      "epoch : 0/4, loss = 0.005640, test_loss = 0.005672\n",
      "epoch : 1/4, loss = 0.005599, test_loss = 0.005795\n"
     ]
    },
    {
     "name": "stderr",
     "output_type": "stream",
     "text": [
      "[I 2020-09-15 13:49:08,054] Setting status of trial#74 as TrialState.PRUNED. \n"
     ]
    },
    {
     "name": "stdout",
     "output_type": "stream",
     "text": [
      "epoch : 0/4, loss = 0.006821, test_loss = 0.004541\n",
      "epoch : 1/4, loss = 0.004370, test_loss = 0.004499\n"
     ]
    },
    {
     "name": "stderr",
     "output_type": "stream",
     "text": [
      "[I 2020-09-15 13:49:23,906] Setting status of trial#75 as TrialState.PRUNED. \n"
     ]
    },
    {
     "name": "stdout",
     "output_type": "stream",
     "text": [
      "epoch : 0/4, loss = 0.004838, test_loss = 0.004334\n",
      "epoch : 1/4, loss = 0.004012, test_loss = 0.004179\n",
      "epoch : 2/4, loss = 0.003852, test_loss = 0.004129\n",
      "epoch : 3/4, loss = 0.003818, test_loss = 0.003990\n"
     ]
    },
    {
     "name": "stderr",
     "output_type": "stream",
     "text": [
      "[I 2020-09-15 13:49:51,593] Finished trial#76 with value: 0.003989844874013215 with parameters: {'Learning Rate': 0.09827846470048399, 'Dropout Rate': 0.30000000000000004, 'Latent Size': 16, 'Optimizer': 'Adam', 'Frequency Bins': 30, 'Time Steps': 20, 'Hidden Layers': 1, 'L2 Regularization': 4.796144723534623e-05, 'Model Type': 'CNN'}. Best is trial#40 with value: 0.0017289507369561172.\n"
     ]
    },
    {
     "name": "stdout",
     "output_type": "stream",
     "text": [
      "epoch : 0/4, loss = 0.007973, test_loss = 0.006891\n",
      "epoch : 1/4, loss = 0.006460, test_loss = 0.006663\n",
      "epoch : 2/4, loss = 0.006537, test_loss = 0.006619\n",
      "epoch : 3/4, loss = 0.006347, test_loss = 0.006546\n"
     ]
    },
    {
     "name": "stderr",
     "output_type": "stream",
     "text": [
      "[I 2020-09-15 13:50:18,647] Finished trial#77 with value: 0.006546378821587643 with parameters: {'Learning Rate': 0.08988840446460547, 'Dropout Rate': 0.0, 'Latent Size': 64, 'Optimizer': 'SGD', 'Frequency Bins': 10, 'Time Steps': 20, 'Hidden Layers': 1, 'L2 Regularization': 2.61759821676798e-06, 'Model Type': 'CNN'}. Best is trial#40 with value: 0.0017289507369561172.\n"
     ]
    },
    {
     "name": "stdout",
     "output_type": "stream",
     "text": [
      "epoch : 0/4, loss = 0.006118, test_loss = 0.004111\n",
      "epoch : 1/4, loss = 0.003940, test_loss = 0.004050\n",
      "epoch : 2/4, loss = 0.003976, test_loss = 0.004035\n",
      "epoch : 3/4, loss = 0.003931, test_loss = 0.004032\n"
     ]
    },
    {
     "name": "stderr",
     "output_type": "stream",
     "text": [
      "[I 2020-09-15 13:50:39,733] Finished trial#78 with value: 0.004032165340676501 with parameters: {'Learning Rate': 0.06693313357823383, 'Dropout Rate': 0.0, 'Latent Size': 4, 'Optimizer': 'SGD', 'Frequency Bins': 60, 'Time Steps': 10, 'Hidden Layers': 2, 'L2 Regularization': 0.00046603059267033846, 'Model Type': 'CNN'}. Best is trial#40 with value: 0.0017289507369561172.\n"
     ]
    },
    {
     "name": "stdout",
     "output_type": "stream",
     "text": [
      "epoch : 0/4, loss = 0.009121, test_loss = 0.008088\n",
      "epoch : 1/4, loss = 0.007252, test_loss = 0.007145\n",
      "epoch : 2/4, loss = 0.006692, test_loss = 0.006806\n",
      "epoch : 3/4, loss = 0.006436, test_loss = 0.006636\n"
     ]
    },
    {
     "name": "stderr",
     "output_type": "stream",
     "text": [
      "[I 2020-09-15 13:50:57,122] Finished trial#79 with value: 0.006636368387655632 with parameters: {'Learning Rate': 0.04647873675291021, 'Dropout Rate': 0.30000000000000004, 'Latent Size': 16, 'Optimizer': 'SGD', 'Frequency Bins': 30, 'Time Steps': 10, 'Hidden Layers': 1, 'L2 Regularization': 2.7527799610806048e-05, 'Model Type': 'FC'}. Best is trial#40 with value: 0.0017289507369561172.\n"
     ]
    },
    {
     "name": "stdout",
     "output_type": "stream",
     "text": [
      "epoch : 0/4, loss = 0.004322, test_loss = 0.003817\n",
      "epoch : 1/4, loss = 0.003392, test_loss = 0.003236\n",
      "epoch : 2/4, loss = 0.003000, test_loss = 0.002968\n",
      "epoch : 3/4, loss = 0.002768, test_loss = 0.002816\n"
     ]
    },
    {
     "name": "stderr",
     "output_type": "stream",
     "text": [
      "[I 2020-09-15 13:51:26,033] Finished trial#80 with value: 0.0028162696681967056 with parameters: {'Learning Rate': 0.08182029909087177, 'Dropout Rate': 0.1, 'Latent Size': 16, 'Optimizer': 'SGD', 'Frequency Bins': 60, 'Time Steps': 20, 'Hidden Layers': 2, 'L2 Regularization': 1.4066340292701248e-06, 'Model Type': 'CNN'}. Best is trial#40 with value: 0.0017289507369561172.\n"
     ]
    },
    {
     "name": "stdout",
     "output_type": "stream",
     "text": [
      "epoch : 0/4, loss = 0.007833, test_loss = 0.005067\n",
      "epoch : 1/4, loss = 0.004610, test_loss = 0.004536\n",
      "epoch : 2/4, loss = 0.004335, test_loss = 0.004395\n",
      "epoch : 3/4, loss = 0.004261, test_loss = 0.004319\n"
     ]
    },
    {
     "name": "stderr",
     "output_type": "stream",
     "text": [
      "[I 2020-09-15 13:51:47,107] Finished trial#81 with value: 0.004318552909771333 with parameters: {'Learning Rate': 0.08634732475893898, 'Dropout Rate': 0.30000000000000004, 'Latent Size': 4, 'Optimizer': 'SGD', 'Frequency Bins': 60, 'Time Steps': 10, 'Hidden Layers': 1, 'L2 Regularization': 4.585848768680514e-05, 'Model Type': 'CNN'}. Best is trial#40 with value: 0.0017289507369561172.\n"
     ]
    },
    {
     "name": "stdout",
     "output_type": "stream",
     "text": [
      "epoch : 0/4, loss = 0.003448, test_loss = 0.003276\n",
      "epoch : 1/4, loss = 0.002955, test_loss = 0.002919\n",
      "epoch : 2/4, loss = 0.002741, test_loss = 0.002777\n",
      "epoch : 3/4, loss = 0.002633, test_loss = 0.002717\n"
     ]
    },
    {
     "name": "stderr",
     "output_type": "stream",
     "text": [
      "[I 2020-09-15 13:52:16,407] Finished trial#82 with value: 0.002716551177719658 with parameters: {'Learning Rate': 0.08220943825342761, 'Dropout Rate': 0.4, 'Latent Size': 64, 'Optimizer': 'SGD', 'Frequency Bins': 60, 'Time Steps': 20, 'Hidden Layers': 1, 'L2 Regularization': 0.002386454426804946, 'Model Type': 'CNN'}. Best is trial#40 with value: 0.0017289507369561172.\n"
     ]
    },
    {
     "name": "stdout",
     "output_type": "stream",
     "text": [
      "epoch : 0/4, loss = 0.002439, test_loss = 0.002485\n",
      "epoch : 1/4, loss = 0.002390, test_loss = 0.002476\n",
      "epoch : 2/4, loss = 0.002384, test_loss = 0.002478\n",
      "epoch : 3/4, loss = 0.002359, test_loss = 0.002534\n"
     ]
    },
    {
     "name": "stderr",
     "output_type": "stream",
     "text": [
      "[I 2020-09-15 13:52:45,936] Finished trial#83 with value: 0.0025343818832314698 with parameters: {'Learning Rate': 0.036347944600499144, 'Dropout Rate': 0.1, 'Latent Size': 16, 'Optimizer': 'Adam', 'Frequency Bins': 60, 'Time Steps': 20, 'Hidden Layers': 1, 'L2 Regularization': 0.001125625544479838, 'Model Type': 'FC'}. Best is trial#40 with value: 0.0017289507369561172.\n"
     ]
    },
    {
     "name": "stdout",
     "output_type": "stream",
     "text": [
      "epoch : 0/4, loss = 0.020059, test_loss = 0.015637\n",
      "epoch : 1/4, loss = 0.015580, test_loss = 0.015582\n"
     ]
    },
    {
     "name": "stderr",
     "output_type": "stream",
     "text": [
      "[I 2020-09-15 13:52:57,401] Setting status of trial#84 as TrialState.PRUNED. \n"
     ]
    },
    {
     "name": "stdout",
     "output_type": "stream",
     "text": [
      "epoch : 0/4, loss = 0.005414, test_loss = 0.005173\n",
      "epoch : 1/4, loss = 0.004822, test_loss = 0.004795\n"
     ]
    },
    {
     "name": "stderr",
     "output_type": "stream",
     "text": [
      "[I 2020-09-15 13:53:13,428] Setting status of trial#85 as TrialState.PRUNED. \n"
     ]
    },
    {
     "name": "stdout",
     "output_type": "stream",
     "text": [
      "epoch : 0/4, loss = 0.007304, test_loss = 0.005034\n",
      "epoch : 1/4, loss = 0.004508, test_loss = 0.004414\n"
     ]
    },
    {
     "name": "stderr",
     "output_type": "stream",
     "text": [
      "[I 2020-09-15 13:53:29,198] Setting status of trial#86 as TrialState.PRUNED. \n"
     ]
    },
    {
     "name": "stdout",
     "output_type": "stream",
     "text": [
      "epoch : 0/4, loss = 0.002995, test_loss = 0.002756\n",
      "epoch : 1/4, loss = 0.002615, test_loss = 0.002747\n",
      "epoch : 2/4, loss = 0.002630, test_loss = 0.002761\n",
      "epoch : 3/4, loss = 0.002609, test_loss = 0.002755\n"
     ]
    },
    {
     "name": "stderr",
     "output_type": "stream",
     "text": [
      "[I 2020-09-15 13:53:58,397] Finished trial#87 with value: 0.0027550872953331753 with parameters: {'Learning Rate': 0.0722848721385622, 'Dropout Rate': 0.0, 'Latent Size': 4, 'Optimizer': 'Adam', 'Frequency Bins': 60, 'Time Steps': 20, 'Hidden Layers': 2, 'L2 Regularization': 0.010011929240931455, 'Model Type': 'CNN'}. Best is trial#40 with value: 0.0017289507369561172.\n"
     ]
    },
    {
     "name": "stdout",
     "output_type": "stream",
     "text": [
      "epoch : 0/4, loss = 0.005483, test_loss = 0.004495\n",
      "epoch : 1/4, loss = 0.004124, test_loss = 0.004632\n",
      "epoch : 2/4, loss = 0.003831, test_loss = 0.003895\n",
      "epoch : 3/4, loss = 0.002957, test_loss = 0.003020\n"
     ]
    },
    {
     "name": "stderr",
     "output_type": "stream",
     "text": [
      "[I 2020-09-15 13:54:25,188] Finished trial#88 with value: 0.003019653065633532 with parameters: {'Learning Rate': 0.046670720198932696, 'Dropout Rate': 0.0, 'Latent Size': 64, 'Optimizer': 'Adam', 'Frequency Bins': 10, 'Time Steps': 20, 'Hidden Layers': 2, 'L2 Regularization': 0.00018750403138962865, 'Model Type': 'CNN'}. Best is trial#40 with value: 0.0017289507369561172.\n"
     ]
    },
    {
     "name": "stdout",
     "output_type": "stream",
     "text": [
      "epoch : 0/4, loss = 0.006581, test_loss = 0.004281\n",
      "epoch : 1/4, loss = 0.003912, test_loss = 0.004058\n"
     ]
    },
    {
     "name": "stderr",
     "output_type": "stream",
     "text": [
      "[I 2020-09-15 13:54:45,893] Setting status of trial#89 as TrialState.PRUNED. \n"
     ]
    },
    {
     "name": "stdout",
     "output_type": "stream",
     "text": [
      "epoch : 0/4, loss = 0.013106, test_loss = 0.009734\n",
      "epoch : 1/4, loss = 0.009674, test_loss = 0.009866\n",
      "epoch : 2/4, loss = 0.009562, test_loss = 0.009601\n",
      "epoch : 3/4, loss = 0.009102, test_loss = 0.009058\n"
     ]
    },
    {
     "name": "stderr",
     "output_type": "stream",
     "text": [
      "[I 2020-09-15 13:55:01,377] Finished trial#90 with value: 0.009057926923363796 with parameters: {'Learning Rate': 0.0567861803542144, 'Dropout Rate': 0.0, 'Latent Size': 4, 'Optimizer': 'Adam', 'Frequency Bins': 10, 'Time Steps': 10, 'Hidden Layers': 2, 'L2 Regularization': 0.0015510501947574003, 'Model Type': 'CNN'}. Best is trial#40 with value: 0.0017289507369561172.\n"
     ]
    },
    {
     "name": "stdout",
     "output_type": "stream",
     "text": [
      "epoch : 0/4, loss = 0.006012, test_loss = 0.004152\n",
      "epoch : 1/4, loss = 0.004009, test_loss = 0.004176\n",
      "epoch : 2/4, loss = 0.004024, test_loss = 0.004327\n",
      "epoch : 3/4, loss = 0.003693, test_loss = 0.003782\n"
     ]
    },
    {
     "name": "stderr",
     "output_type": "stream",
     "text": [
      "[I 2020-09-15 13:55:29,056] Finished trial#91 with value: 0.0037817658944609197 with parameters: {'Learning Rate': 0.05774220522908608, 'Dropout Rate': 0.0, 'Latent Size': 4, 'Optimizer': 'Adam', 'Frequency Bins': 30, 'Time Steps': 20, 'Hidden Layers': 1, 'L2 Regularization': 0.0002778236777765246, 'Model Type': 'CNN'}. Best is trial#40 with value: 0.0017289507369561172.\n"
     ]
    },
    {
     "name": "stdout",
     "output_type": "stream",
     "text": [
      "epoch : 0/4, loss = 0.008264, test_loss = 0.006084\n",
      "epoch : 1/4, loss = 0.005473, test_loss = 0.005645\n"
     ]
    },
    {
     "name": "stderr",
     "output_type": "stream",
     "text": [
      "[I 2020-09-15 13:55:42,232] Setting status of trial#92 as TrialState.PRUNED. \n"
     ]
    },
    {
     "name": "stdout",
     "output_type": "stream",
     "text": [
      "epoch : 0/4, loss = 0.010256, test_loss = 0.010251\n",
      "epoch : 1/4, loss = 0.010102, test_loss = 0.010830\n"
     ]
    },
    {
     "name": "stderr",
     "output_type": "stream",
     "text": [
      "[I 2020-09-15 13:55:53,726] Setting status of trial#93 as TrialState.PRUNED. \n"
     ]
    },
    {
     "name": "stdout",
     "output_type": "stream",
     "text": [
      "epoch : 0/4, loss = 0.013863, test_loss = 0.011206\n",
      "epoch : 1/4, loss = 0.010405, test_loss = 0.010192\n"
     ]
    },
    {
     "name": "stderr",
     "output_type": "stream",
     "text": [
      "[I 2020-09-15 13:56:05,258] Setting status of trial#94 as TrialState.PRUNED. \n"
     ]
    },
    {
     "name": "stdout",
     "output_type": "stream",
     "text": [
      "epoch : 0/4, loss = 0.007088, test_loss = 0.004559\n",
      "epoch : 1/4, loss = 0.004225, test_loss = 0.004212\n"
     ]
    },
    {
     "name": "stderr",
     "output_type": "stream",
     "text": [
      "[I 2020-09-15 13:56:25,924] Setting status of trial#95 as TrialState.PRUNED. \n"
     ]
    },
    {
     "name": "stdout",
     "output_type": "stream",
     "text": [
      "epoch : 0/4, loss = 0.005455, test_loss = 0.005389\n",
      "epoch : 1/4, loss = 0.005154, test_loss = 0.005157\n",
      "epoch : 2/4, loss = 0.004966, test_loss = 0.004983\n",
      "epoch : 3/4, loss = 0.004783, test_loss = 0.004860\n"
     ]
    },
    {
     "name": "stderr",
     "output_type": "stream",
     "text": [
      "[I 2020-09-15 13:56:47,276] Finished trial#96 with value: 0.004859731771756668 with parameters: {'Learning Rate': 0.02726572423978673, 'Dropout Rate': 0.4, 'Latent Size': 64, 'Optimizer': 'SGD', 'Frequency Bins': 60, 'Time Steps': 10, 'Hidden Layers': 2, 'L2 Regularization': 3.0493806940119736e-05, 'Model Type': 'CNN'}. Best is trial#40 with value: 0.0017289507369561172.\n"
     ]
    },
    {
     "name": "stdout",
     "output_type": "stream",
     "text": [
      "epoch : 0/4, loss = 0.007669, test_loss = 0.007729\n",
      "epoch : 1/4, loss = 0.007663, test_loss = 0.007711\n"
     ]
    },
    {
     "name": "stderr",
     "output_type": "stream",
     "text": [
      "[I 2020-09-15 13:57:08,982] Setting status of trial#97 as TrialState.PRUNED. \n"
     ]
    },
    {
     "name": "stdout",
     "output_type": "stream",
     "text": [
      "epoch : 0/4, loss = 0.004357, test_loss = 0.004505\n",
      "epoch : 1/4, loss = 0.004322, test_loss = 0.004523\n",
      "epoch : 2/4, loss = 0.004363, test_loss = 0.004496\n",
      "epoch : 3/4, loss = 0.004295, test_loss = 0.004517\n"
     ]
    },
    {
     "name": "stderr",
     "output_type": "stream",
     "text": [
      "[I 2020-09-15 13:57:36,638] Finished trial#98 with value: 0.00451710939759741 with parameters: {'Learning Rate': 0.004132048352405128, 'Dropout Rate': 0.4, 'Latent Size': 64, 'Optimizer': 'Adam', 'Frequency Bins': 30, 'Time Steps': 20, 'Hidden Layers': 1, 'L2 Regularization': 0.02954321207933394, 'Model Type': 'CNN'}. Best is trial#40 with value: 0.0017289507369561172.\n"
     ]
    },
    {
     "name": "stdout",
     "output_type": "stream",
     "text": [
      "epoch : 0/4, loss = 0.002888, test_loss = 0.002729\n",
      "epoch : 1/4, loss = 0.002649, test_loss = 0.002755\n",
      "epoch : 2/4, loss = 0.002717, test_loss = 0.002741\n",
      "epoch : 3/4, loss = 0.002620, test_loss = 0.002755\n"
     ]
    },
    {
     "name": "stderr",
     "output_type": "stream",
     "text": [
      "[I 2020-09-15 13:58:05,771] Finished trial#99 with value: 0.0027554193716118665 with parameters: {'Learning Rate': 0.06761653927164371, 'Dropout Rate': 0.4, 'Latent Size': 16, 'Optimizer': 'Adam', 'Frequency Bins': 60, 'Time Steps': 20, 'Hidden Layers': 2, 'L2 Regularization': 1.61146526725673e-05, 'Model Type': 'CNN'}. Best is trial#40 with value: 0.0017289507369561172.\n"
     ]
    }
   ],
   "source": [
    "def objective(trial):\n",
    "\n",
    "    #hyper params\n",
    "    learning_rate = trial.suggest_uniform('Learning Rate', 1e-4,1e-1)\n",
    "    dropout_rate = trial.suggest_discrete_uniform('Dropout Rate', 0,0.5,0.1)\n",
    "    latent_size = trial.suggest_categorical('Latent Size',[4, 16, 64])\n",
    "    optimizer_type = trial.suggest_categorical('Optimizer', ['Adam', 'SGD'])\n",
    "    FREQ_BINS = trial.suggest_categorical('Frequency Bins', [10, 30, 60])\n",
    "    TIME_STEPS = trial.suggest_categorical('Time Steps', [10, 20])\n",
    "    hidden_layers= trial.suggest_int('Hidden Layers', 1, 2)\n",
    "    l2=trial.suggest_loguniform('L2 Regularization', 1e-6,1e-1)\n",
    "    model_type=trial.suggest_categorical('Model Type', ['CNN', 'FC'])\n",
    "\n",
    "    num_channels=5\n",
    "\n",
    "    spec_dimension=FREQ_BINS*TIME_STEPS\n",
    "\n",
    "    criterion=nn.MSELoss()\n",
    "    \n",
    "    #make model\n",
    "    if hidden_layers==1:\n",
    "        model = AE_Linear_1H(input_shape=spec_dimension,compression_dim=latent_size,dropout_rate=dropout_rate).to(device)\n",
    "    else:\n",
    "        model = AE_Linear_2H(input_shape=spec_dimension,compression_dim=latent_size,dropout_rate=dropout_rate).to(device)\n",
    "    if model_type==\"CNN\":\n",
    "        model = AE_Conv(input_shape=[FREQ_BINS,TIME_STEPS],compression_dim=latent_size,dropout_rate=dropout_rate,num_channels=num_channels).to(device)\n",
    "        \n",
    "    if optimizer_type==\"Adam\":\n",
    "        optimizer = optim.Adam(model.parameters(), lr=learning_rate,weight_decay=l2)\n",
    "    elif optimizer_type==\"SGD\":\n",
    "        optimizer=optim.SGD(model.parameters(), lr=learning_rate, momentum=0.9,weight_decay=l2)\n",
    "    #make dataloader \n",
    "    ptTune=tv.transforms.Compose([specTrans(FREQ_BINS,time_steps=TIME_STEPS)])\n",
    "    spec_data_train_nosynth = audioDataset(train_synthless,\".\",task=\"dvn\", transform=ptTune)\n",
    "    spec_train_nosynth_loader= DataLoader(spec_data_train_nosynth, batch_size=16,shuffle=True, num_workers=8)\n",
    "    spec_data_test_nosynth = audioDataset(test_synthless,\".\",task=\"dvn\", transform=ptTune)\n",
    "    spec_test_nosynth_loader= DataLoader(spec_data_test_nosynth, batch_size=16,shuffle=True, num_workers=8)\n",
    "    #train\n",
    "    epochs=4\n",
    "    for epoch in range(epochs):\n",
    "        loss = 0\n",
    "        for batch_features in spec_train_nosynth_loader:\n",
    "            batch_features=batch_features[\"feats\"]\n",
    "            batch_features = batch_features.view(-1, spec_dimension).to(device)\n",
    "            optimizer.zero_grad()\n",
    "            outputs = model(batch_features)\n",
    "            train_loss = criterion(outputs, batch_features)\n",
    "            train_loss.backward()\n",
    "            optimizer.step()\n",
    "            loss += train_loss.item()\n",
    "\n",
    "        loss = loss / len(spec_train_nosynth_loader)\n",
    "        test_loss=0\n",
    "        with torch.no_grad():\n",
    "            for batch_features in spec_test_nosynth_loader:\n",
    "                batch_features=batch_features[\"feats\"]\n",
    "                batch_features = batch_features.view(-1, spec_dimension).to(device)\n",
    "                outputs = model(batch_features)\n",
    "                temp_loss = criterion(outputs, batch_features)\n",
    "                test_loss += temp_loss.item()\n",
    "        test_loss = test_loss / len(spec_test_nosynth_loader) \n",
    "        trial.report(test_loss, epoch)   \n",
    "        if epoch%2==0:\n",
    "            if trial.should_prune():\n",
    "                raise optuna.TrialPruned()\n",
    "        print(\"epoch : {}/{}, loss = {:.6f}, test_loss = {:.6f}\".format(epoch, epochs, loss,test_loss))\n",
    "    return test_loss\n",
    "study = optuna.create_study(study_name='study_1',sampler=optuna.samplers.RandomSampler(), \n",
    "                            pruner=optuna.pruners.HyperbandPruner(), storage='sqlite:///optuna_median.db',load_if_exists=True)\n",
    "study.optimize(objective, n_trials=100)"
   ]
  },
  {
   "cell_type": "code",
   "execution_count": 17,
   "metadata": {},
   "outputs": [
    {
     "data": {
      "text/plain": [
       "AE_Linear_1H(\n",
       "  (dropout): Dropout(p=0.5, inplace=False)\n",
       "  (encoder_hidden_layer): Linear(in_features=600, out_features=128, bias=True)\n",
       "  (encoder_output_layer): Linear(in_features=128, out_features=8, bias=True)\n",
       "  (decoder_hidden_layer): Linear(in_features=8, out_features=128, bias=True)\n",
       "  (decoder_output_layer): Linear(in_features=128, out_features=600, bias=True)\n",
       ")"
      ]
     },
     "execution_count": 17,
     "metadata": {},
     "output_type": "execute_result"
    }
   ],
   "source": [
    "AE_Linear_1H(input_shape=spec_dimension,compression_dim=latent_size,dropout_rate=dropout_rate)"
   ]
  },
  {
   "cell_type": "code",
   "execution_count": 13,
   "metadata": {},
   "outputs": [
    {
     "ename": "NameError",
     "evalue": "name 'spec_test_loader' is not defined",
     "output_type": "error",
     "traceback": [
      "\u001b[0;31m---------------------------------------------------------------------------\u001b[0m",
      "\u001b[0;31mNameError\u001b[0m                                 Traceback (most recent call last)",
      "\u001b[0;32m<ipython-input-13-9e0da91a7e9e>\u001b[0m in \u001b[0;36m<module>\u001b[0;34m\u001b[0m\n\u001b[1;32m     14\u001b[0m \u001b[0;31m# model = AE_Linear_2H(input_shape=FREQ_BINS*TIME_STEPS,compression_dim=latent_size,dropout_rate=dropout_rate).to(device)\u001b[0m\u001b[0;34m\u001b[0m\u001b[0;34m\u001b[0m\u001b[0;34m\u001b[0m\u001b[0m\n\u001b[1;32m     15\u001b[0m \u001b[0;34m\u001b[0m\u001b[0m\n\u001b[0;32m---> 16\u001b[0;31m \u001b[0mdataiter\u001b[0m\u001b[0;34m=\u001b[0m\u001b[0miter\u001b[0m\u001b[0;34m(\u001b[0m\u001b[0mspec_test_loader\u001b[0m\u001b[0;34m)\u001b[0m\u001b[0;34m\u001b[0m\u001b[0;34m\u001b[0m\u001b[0m\n\u001b[0m\u001b[1;32m     17\u001b[0m \u001b[0;31m#does it work?\u001b[0m\u001b[0;34m\u001b[0m\u001b[0;34m\u001b[0m\u001b[0;34m\u001b[0m\u001b[0m\n\u001b[1;32m     18\u001b[0m \u001b[0mxy\u001b[0m\u001b[0;34m=\u001b[0m\u001b[0mdataiter\u001b[0m\u001b[0;34m.\u001b[0m\u001b[0mnext\u001b[0m\u001b[0;34m(\u001b[0m\u001b[0;34m)\u001b[0m\u001b[0;34m\u001b[0m\u001b[0;34m\u001b[0m\u001b[0m\n",
      "\u001b[0;31mNameError\u001b[0m: name 'spec_test_loader' is not defined"
     ]
    }
   ],
   "source": [
    "from torchsummary import summary\n",
    "from torchviz import make_dot, make_dot_from_trace\n",
    "#optimized params\n",
    "learning_rate = 0.0011451089315356296\n",
    "dropout_rate = 0.5\n",
    "latent_size = 8\n",
    "FREQ_BINS = 30\n",
    "TIME_STEPS = 20\n",
    "hidden_layers = 2\n",
    "l2 = 3.2473701348597023e-06\n",
    "\n",
    "model = AE_Conv(input_shape=[FREQ_BINS,TIME_STEPS],compression_dim=latent_size,dropout_rate=dropout_rate,num_channels=5).to(device)\n",
    "# model = AE_Linear_1H(input_shape=spec_dimension,compression_dim=latent_size,dropout_rate=dropout_rate).to(device)\n",
    "# model = AE_Linear_2H(input_shape=FREQ_BINS*TIME_STEPS,compression_dim=latent_size,dropout_rate=dropout_rate).to(device)\n",
    "\n",
    "dataiter=iter(spec_test_loader)\n",
    "#does it work?\n",
    "xy=dataiter.next()\n",
    "def imshow(img):\n",
    "    img = img      # unnormalize\n",
    "    npimg = img.numpy()\n",
    "    plt.imshow(np.transpose(npimg, (1, 2, 0)))\n",
    "    plt.show()\n",
    "images=xy[\"feats\"].detach()[0:1].reshape([FREQ_BINS*TIME_STEPS]).to(device)\n",
    "\n",
    "summary(model,images.shape)\n",
    "\n",
    "make_dot(model(images), params=dict(model.named_parameters()))"
   ]
  },
  {
   "cell_type": "code",
   "execution_count": 14,
   "metadata": {},
   "outputs": [
    {
     "data": {
      "text/html": [
       "<div>\n",
       "<style scoped>\n",
       "    .dataframe tbody tr th:only-of-type {\n",
       "        vertical-align: middle;\n",
       "    }\n",
       "\n",
       "    .dataframe tbody tr th {\n",
       "        vertical-align: top;\n",
       "    }\n",
       "\n",
       "    .dataframe thead th {\n",
       "        text-align: right;\n",
       "    }\n",
       "</style>\n",
       "<table border=\"1\" class=\"dataframe\">\n",
       "  <thead>\n",
       "    <tr style=\"text-align: right;\">\n",
       "      <th></th>\n",
       "      <th>number</th>\n",
       "      <th>value</th>\n",
       "      <th>datetime_start</th>\n",
       "      <th>datetime_complete</th>\n",
       "      <th>duration</th>\n",
       "      <th>params_Dropout Rate</th>\n",
       "      <th>params_Frequency Bins</th>\n",
       "      <th>params_Hidden Layers</th>\n",
       "      <th>params_L2 Regularization</th>\n",
       "      <th>params_Latent Size</th>\n",
       "      <th>params_Learning Rate</th>\n",
       "      <th>params_Model Type</th>\n",
       "      <th>params_Optimizer</th>\n",
       "      <th>params_Time Steps</th>\n",
       "      <th>system_attrs_completed_rung_0</th>\n",
       "      <th>system_attrs_completed_rung_1</th>\n",
       "      <th>system_attrs_completed_rung_2</th>\n",
       "      <th>system_attrs_completed_rung_3</th>\n",
       "      <th>system_attrs_fail_reason</th>\n",
       "      <th>state</th>\n",
       "    </tr>\n",
       "  </thead>\n",
       "  <tbody>\n",
       "    <tr>\n",
       "      <td>0</td>\n",
       "      <td>0</td>\n",
       "      <td>NaN</td>\n",
       "      <td>2020-07-19 23:44:47.488514</td>\n",
       "      <td>NaT</td>\n",
       "      <td>NaT</td>\n",
       "      <td>0.1</td>\n",
       "      <td>60.0</td>\n",
       "      <td>2.0</td>\n",
       "      <td>0.011836</td>\n",
       "      <td>16.0</td>\n",
       "      <td>0.076707</td>\n",
       "      <td>CNN</td>\n",
       "      <td>SGD</td>\n",
       "      <td>10.0</td>\n",
       "      <td>NaN</td>\n",
       "      <td>NaN</td>\n",
       "      <td>NaN</td>\n",
       "      <td>NaN</td>\n",
       "      <td>NaN</td>\n",
       "      <td>RUNNING</td>\n",
       "    </tr>\n",
       "    <tr>\n",
       "      <td>1</td>\n",
       "      <td>1</td>\n",
       "      <td>0.004806</td>\n",
       "      <td>2020-07-19 23:45:12.358015</td>\n",
       "      <td>2020-07-19 23:47:41.014338</td>\n",
       "      <td>00:02:28.656323</td>\n",
       "      <td>0.2</td>\n",
       "      <td>30.0</td>\n",
       "      <td>1.0</td>\n",
       "      <td>0.096801</td>\n",
       "      <td>64.0</td>\n",
       "      <td>0.074591</td>\n",
       "      <td>FC</td>\n",
       "      <td>SGD</td>\n",
       "      <td>20.0</td>\n",
       "      <td>NaN</td>\n",
       "      <td>NaN</td>\n",
       "      <td>NaN</td>\n",
       "      <td>NaN</td>\n",
       "      <td>NaN</td>\n",
       "      <td>COMPLETE</td>\n",
       "    </tr>\n",
       "    <tr>\n",
       "      <td>2</td>\n",
       "      <td>2</td>\n",
       "      <td>0.003859</td>\n",
       "      <td>2020-07-19 23:47:41.043024</td>\n",
       "      <td>2020-07-19 23:50:07.245773</td>\n",
       "      <td>00:02:26.202749</td>\n",
       "      <td>0.2</td>\n",
       "      <td>30.0</td>\n",
       "      <td>2.0</td>\n",
       "      <td>0.000012</td>\n",
       "      <td>4.0</td>\n",
       "      <td>0.013977</td>\n",
       "      <td>FC</td>\n",
       "      <td>Adam</td>\n",
       "      <td>20.0</td>\n",
       "      <td>NaN</td>\n",
       "      <td>NaN</td>\n",
       "      <td>NaN</td>\n",
       "      <td>NaN</td>\n",
       "      <td>NaN</td>\n",
       "      <td>COMPLETE</td>\n",
       "    </tr>\n",
       "    <tr>\n",
       "      <td>3</td>\n",
       "      <td>3</td>\n",
       "      <td>0.006900</td>\n",
       "      <td>2020-07-19 23:50:07.270084</td>\n",
       "      <td>2020-07-19 23:51:43.623728</td>\n",
       "      <td>00:01:36.353644</td>\n",
       "      <td>0.4</td>\n",
       "      <td>30.0</td>\n",
       "      <td>1.0</td>\n",
       "      <td>0.029560</td>\n",
       "      <td>4.0</td>\n",
       "      <td>0.053458</td>\n",
       "      <td>CNN</td>\n",
       "      <td>Adam</td>\n",
       "      <td>10.0</td>\n",
       "      <td>NaN</td>\n",
       "      <td>NaN</td>\n",
       "      <td>NaN</td>\n",
       "      <td>NaN</td>\n",
       "      <td>NaN</td>\n",
       "      <td>COMPLETE</td>\n",
       "    </tr>\n",
       "    <tr>\n",
       "      <td>4</td>\n",
       "      <td>4</td>\n",
       "      <td>0.003954</td>\n",
       "      <td>2020-07-19 23:51:43.648375</td>\n",
       "      <td>2020-07-19 23:53:39.791822</td>\n",
       "      <td>00:01:56.143447</td>\n",
       "      <td>0.4</td>\n",
       "      <td>60.0</td>\n",
       "      <td>2.0</td>\n",
       "      <td>0.000001</td>\n",
       "      <td>16.0</td>\n",
       "      <td>0.042069</td>\n",
       "      <td>FC</td>\n",
       "      <td>SGD</td>\n",
       "      <td>10.0</td>\n",
       "      <td>NaN</td>\n",
       "      <td>NaN</td>\n",
       "      <td>NaN</td>\n",
       "      <td>NaN</td>\n",
       "      <td>NaN</td>\n",
       "      <td>COMPLETE</td>\n",
       "    </tr>\n",
       "    <tr>\n",
       "      <td>...</td>\n",
       "      <td>...</td>\n",
       "      <td>...</td>\n",
       "      <td>...</td>\n",
       "      <td>...</td>\n",
       "      <td>...</td>\n",
       "      <td>...</td>\n",
       "      <td>...</td>\n",
       "      <td>...</td>\n",
       "      <td>...</td>\n",
       "      <td>...</td>\n",
       "      <td>...</td>\n",
       "      <td>...</td>\n",
       "      <td>...</td>\n",
       "      <td>...</td>\n",
       "      <td>...</td>\n",
       "      <td>...</td>\n",
       "      <td>...</td>\n",
       "      <td>...</td>\n",
       "      <td>...</td>\n",
       "      <td>...</td>\n",
       "    </tr>\n",
       "    <tr>\n",
       "      <td>647</td>\n",
       "      <td>647</td>\n",
       "      <td>0.007335</td>\n",
       "      <td>2020-07-22 02:04:23.593977</td>\n",
       "      <td>2020-07-22 02:04:53.234266</td>\n",
       "      <td>00:00:29.640289</td>\n",
       "      <td>0.0</td>\n",
       "      <td>30.0</td>\n",
       "      <td>2.0</td>\n",
       "      <td>0.059851</td>\n",
       "      <td>4.0</td>\n",
       "      <td>0.062219</td>\n",
       "      <td>CNN</td>\n",
       "      <td>Adam</td>\n",
       "      <td>10.0</td>\n",
       "      <td>0.007335</td>\n",
       "      <td>NaN</td>\n",
       "      <td>NaN</td>\n",
       "      <td>NaN</td>\n",
       "      <td>NaN</td>\n",
       "      <td>PRUNED</td>\n",
       "    </tr>\n",
       "    <tr>\n",
       "      <td>648</td>\n",
       "      <td>648</td>\n",
       "      <td>0.006327</td>\n",
       "      <td>2020-07-22 02:04:53.391752</td>\n",
       "      <td>2020-07-22 02:05:22.971342</td>\n",
       "      <td>00:00:29.579590</td>\n",
       "      <td>0.5</td>\n",
       "      <td>30.0</td>\n",
       "      <td>2.0</td>\n",
       "      <td>0.000001</td>\n",
       "      <td>64.0</td>\n",
       "      <td>0.034023</td>\n",
       "      <td>FC</td>\n",
       "      <td>SGD</td>\n",
       "      <td>10.0</td>\n",
       "      <td>0.006327</td>\n",
       "      <td>NaN</td>\n",
       "      <td>NaN</td>\n",
       "      <td>NaN</td>\n",
       "      <td>NaN</td>\n",
       "      <td>PRUNED</td>\n",
       "    </tr>\n",
       "    <tr>\n",
       "      <td>649</td>\n",
       "      <td>649</td>\n",
       "      <td>0.011782</td>\n",
       "      <td>2020-07-22 02:05:23.133426</td>\n",
       "      <td>2020-07-22 02:05:39.353421</td>\n",
       "      <td>00:00:16.219995</td>\n",
       "      <td>0.5</td>\n",
       "      <td>10.0</td>\n",
       "      <td>1.0</td>\n",
       "      <td>0.000015</td>\n",
       "      <td>4.0</td>\n",
       "      <td>0.016447</td>\n",
       "      <td>FC</td>\n",
       "      <td>Adam</td>\n",
       "      <td>10.0</td>\n",
       "      <td>0.011782</td>\n",
       "      <td>NaN</td>\n",
       "      <td>NaN</td>\n",
       "      <td>NaN</td>\n",
       "      <td>NaN</td>\n",
       "      <td>PRUNED</td>\n",
       "    </tr>\n",
       "    <tr>\n",
       "      <td>650</td>\n",
       "      <td>650</td>\n",
       "      <td>0.006013</td>\n",
       "      <td>2020-07-22 02:05:39.510486</td>\n",
       "      <td>2020-07-22 02:05:57.269154</td>\n",
       "      <td>00:00:17.758668</td>\n",
       "      <td>0.0</td>\n",
       "      <td>30.0</td>\n",
       "      <td>2.0</td>\n",
       "      <td>0.000096</td>\n",
       "      <td>64.0</td>\n",
       "      <td>0.090374</td>\n",
       "      <td>CNN</td>\n",
       "      <td>SGD</td>\n",
       "      <td>10.0</td>\n",
       "      <td>0.006013</td>\n",
       "      <td>NaN</td>\n",
       "      <td>NaN</td>\n",
       "      <td>NaN</td>\n",
       "      <td>NaN</td>\n",
       "      <td>PRUNED</td>\n",
       "    </tr>\n",
       "    <tr>\n",
       "      <td>651</td>\n",
       "      <td>651</td>\n",
       "      <td>0.007654</td>\n",
       "      <td>2020-07-22 02:05:57.425609</td>\n",
       "      <td>2020-07-22 02:06:22.912512</td>\n",
       "      <td>00:00:25.486903</td>\n",
       "      <td>0.1</td>\n",
       "      <td>10.0</td>\n",
       "      <td>1.0</td>\n",
       "      <td>0.000006</td>\n",
       "      <td>64.0</td>\n",
       "      <td>0.034167</td>\n",
       "      <td>CNN</td>\n",
       "      <td>Adam</td>\n",
       "      <td>20.0</td>\n",
       "      <td>0.007654</td>\n",
       "      <td>NaN</td>\n",
       "      <td>NaN</td>\n",
       "      <td>NaN</td>\n",
       "      <td>NaN</td>\n",
       "      <td>PRUNED</td>\n",
       "    </tr>\n",
       "  </tbody>\n",
       "</table>\n",
       "<p>652 rows × 20 columns</p>\n",
       "</div>"
      ],
      "text/plain": [
       "     number     value             datetime_start          datetime_complete  \\\n",
       "0         0       NaN 2020-07-19 23:44:47.488514                        NaT   \n",
       "1         1  0.004806 2020-07-19 23:45:12.358015 2020-07-19 23:47:41.014338   \n",
       "2         2  0.003859 2020-07-19 23:47:41.043024 2020-07-19 23:50:07.245773   \n",
       "3         3  0.006900 2020-07-19 23:50:07.270084 2020-07-19 23:51:43.623728   \n",
       "4         4  0.003954 2020-07-19 23:51:43.648375 2020-07-19 23:53:39.791822   \n",
       "..      ...       ...                        ...                        ...   \n",
       "647     647  0.007335 2020-07-22 02:04:23.593977 2020-07-22 02:04:53.234266   \n",
       "648     648  0.006327 2020-07-22 02:04:53.391752 2020-07-22 02:05:22.971342   \n",
       "649     649  0.011782 2020-07-22 02:05:23.133426 2020-07-22 02:05:39.353421   \n",
       "650     650  0.006013 2020-07-22 02:05:39.510486 2020-07-22 02:05:57.269154   \n",
       "651     651  0.007654 2020-07-22 02:05:57.425609 2020-07-22 02:06:22.912512   \n",
       "\n",
       "           duration  params_Dropout Rate  params_Frequency Bins  \\\n",
       "0               NaT                  0.1                   60.0   \n",
       "1   00:02:28.656323                  0.2                   30.0   \n",
       "2   00:02:26.202749                  0.2                   30.0   \n",
       "3   00:01:36.353644                  0.4                   30.0   \n",
       "4   00:01:56.143447                  0.4                   60.0   \n",
       "..              ...                  ...                    ...   \n",
       "647 00:00:29.640289                  0.0                   30.0   \n",
       "648 00:00:29.579590                  0.5                   30.0   \n",
       "649 00:00:16.219995                  0.5                   10.0   \n",
       "650 00:00:17.758668                  0.0                   30.0   \n",
       "651 00:00:25.486903                  0.1                   10.0   \n",
       "\n",
       "     params_Hidden Layers  params_L2 Regularization  params_Latent Size  \\\n",
       "0                     2.0                  0.011836                16.0   \n",
       "1                     1.0                  0.096801                64.0   \n",
       "2                     2.0                  0.000012                 4.0   \n",
       "3                     1.0                  0.029560                 4.0   \n",
       "4                     2.0                  0.000001                16.0   \n",
       "..                    ...                       ...                 ...   \n",
       "647                   2.0                  0.059851                 4.0   \n",
       "648                   2.0                  0.000001                64.0   \n",
       "649                   1.0                  0.000015                 4.0   \n",
       "650                   2.0                  0.000096                64.0   \n",
       "651                   1.0                  0.000006                64.0   \n",
       "\n",
       "     params_Learning Rate params_Model Type params_Optimizer  \\\n",
       "0                0.076707               CNN              SGD   \n",
       "1                0.074591                FC              SGD   \n",
       "2                0.013977                FC             Adam   \n",
       "3                0.053458               CNN             Adam   \n",
       "4                0.042069                FC              SGD   \n",
       "..                    ...               ...              ...   \n",
       "647              0.062219               CNN             Adam   \n",
       "648              0.034023                FC              SGD   \n",
       "649              0.016447                FC             Adam   \n",
       "650              0.090374               CNN              SGD   \n",
       "651              0.034167               CNN             Adam   \n",
       "\n",
       "     params_Time Steps  system_attrs_completed_rung_0  \\\n",
       "0                 10.0                            NaN   \n",
       "1                 20.0                            NaN   \n",
       "2                 20.0                            NaN   \n",
       "3                 10.0                            NaN   \n",
       "4                 10.0                            NaN   \n",
       "..                 ...                            ...   \n",
       "647               10.0                       0.007335   \n",
       "648               10.0                       0.006327   \n",
       "649               10.0                       0.011782   \n",
       "650               10.0                       0.006013   \n",
       "651               20.0                       0.007654   \n",
       "\n",
       "     system_attrs_completed_rung_1  system_attrs_completed_rung_2  \\\n",
       "0                              NaN                            NaN   \n",
       "1                              NaN                            NaN   \n",
       "2                              NaN                            NaN   \n",
       "3                              NaN                            NaN   \n",
       "4                              NaN                            NaN   \n",
       "..                             ...                            ...   \n",
       "647                            NaN                            NaN   \n",
       "648                            NaN                            NaN   \n",
       "649                            NaN                            NaN   \n",
       "650                            NaN                            NaN   \n",
       "651                            NaN                            NaN   \n",
       "\n",
       "     system_attrs_completed_rung_3 system_attrs_fail_reason     state  \n",
       "0                              NaN                      NaN   RUNNING  \n",
       "1                              NaN                      NaN  COMPLETE  \n",
       "2                              NaN                      NaN  COMPLETE  \n",
       "3                              NaN                      NaN  COMPLETE  \n",
       "4                              NaN                      NaN  COMPLETE  \n",
       "..                             ...                      ...       ...  \n",
       "647                            NaN                      NaN    PRUNED  \n",
       "648                            NaN                      NaN    PRUNED  \n",
       "649                            NaN                      NaN    PRUNED  \n",
       "650                            NaN                      NaN    PRUNED  \n",
       "651                            NaN                      NaN    PRUNED  \n",
       "\n",
       "[652 rows x 20 columns]"
      ]
     },
     "execution_count": 14,
     "metadata": {},
     "output_type": "execute_result"
    }
   ],
   "source": [
    "study.trials_dataframe()"
   ]
  },
  {
   "cell_type": "code",
   "execution_count": 23,
   "metadata": {},
   "outputs": [
    {
     "name": "stdout",
     "output_type": "stream",
     "text": [
      "Best trial until now:\n",
      " Value:  0.0007111432947567664\n",
      " Params: \n",
      "    Dropout Rate: 0.5\n",
      "    Frequency Bins: 30\n",
      "    Hidden Layers: 2\n",
      "    L2 Regularization: 3.2473701348597023e-06\n",
      "    Latent Size: 64\n",
      "    Learning Rate: 0.0011451089315356296\n",
      "    Model Type: CNN\n",
      "    Optimizer: Adam\n",
      "    Time Steps: 20\n"
     ]
    }
   ],
   "source": [
    "import joblib\n",
    "joblib.dump(study, 'study2.pkl')\n",
    "study2 = joblib.load('study2.pkl')\n",
    "print('Best trial until now:')\n",
    "print(' Value: ', study2.best_trial.value)\n",
    "print(' Params: ')\n",
    "for key, value in study2.best_trial.params.items():\n",
    "    print(f'    {key}: {value}')"
   ]
  }
 ],
 "metadata": {
  "kernelspec": {
   "display_name": "Python 3",
   "language": "python",
   "name": "python3"
  },
  "language_info": {
   "codemirror_mode": {
    "name": "ipython",
    "version": 3
   },
   "file_extension": ".py",
   "mimetype": "text/x-python",
   "name": "python",
   "nbconvert_exporter": "python",
   "pygments_lexer": "ipython3",
   "version": "3.7.5"
  }
 },
 "nbformat": 4,
 "nbformat_minor": 4
}
