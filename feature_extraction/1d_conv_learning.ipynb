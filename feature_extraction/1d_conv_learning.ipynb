{
 "cells": [
  {
   "cell_type": "code",
   "execution_count": null,
   "metadata": {},
   "outputs": [],
   "source": [
    "import numpy as np\n",
    "import matplotlib.pyplot as plt\n",
    "import time\n",
    "import torch\n",
    "import torch.utils.data as data\n",
    "import torch.optim as optim\n",
    "import torch.nn as nn\n",
    "import torch.nn.functional as F\n",
    "from torch.nn.functional import interpolate \n",
    "from torch.autograd import Variable\n",
    "import imp\n",
    "import torchaudio\n",
    "import torchvision as tv\n",
    "import matplotlib.pyplot as plt\n",
    "from IPython.display import Audio\n",
    "import os, random\n",
    "import pandas as pd\n",
    "import mir_utils as miru\n",
    "from torch.utils.data import Dataset, DataLoader\n",
    "import librosa\n",
    "import pytorch_utils\n",
    "import pytorch_models\n",
    "#reload these libraries because I change them often-ish\n",
    "imp.reload(pytorch_utils)\n",
    "imp.reload(miru)\n",
    "imp.reload(pytorch_models)\n",
    "from scipy.signal import resample\n",
    "from sklearn import preprocessing\n",
    "le_major = preprocessing.LabelEncoder()\n",
    "\n",
    "SR = 22050//2\n",
    "#functions\n",
    "spec = torchaudio.functional.spectrogram\n",
    "\n",
    "def getMeanLength(x):\n",
    "    gl=x.apply(lambda z: len(z[\"audio\"]),axis=1)\n",
    "    print(gl.mean()/SR,gl.mean(),x[\"label\"].iloc[0])\n",
    "\n",
    "audio_df = pd.read_csv(\"../csvs/audio_df.csv\")\n",
    "device = torch.device(\"cuda\" if torch.cuda.is_available() else \"cpu\")\n"
   ]
  },
  {
   "cell_type": "code",
   "execution_count": 2,
   "metadata": {},
   "outputs": [
    {
     "data": {
      "text/plain": [
       "(array(['drums', 'not_drums'], dtype=object),\n",
       " array(['drums', 'not_drums', 'drums', 'drums'], dtype=object))"
      ]
     },
     "execution_count": 2,
     "metadata": {},
     "output_type": "execute_result"
    }
   ],
   "source": [
    "le_major.fit(audio_df[\"maj\"])\n",
    "le_major.classes_,le_major.inverse_transform([0,1,0,0])"
   ]
  },
  {
   "cell_type": "code",
   "execution_count": 176,
   "metadata": {},
   "outputs": [
    {
     "name": "stdout",
     "output_type": "stream",
     "text": [
      "CPU times: user 1.2 s, sys: 3.99 ms, total: 1.2 s\n",
      "Wall time: 1.2 s\n"
     ]
    }
   ],
   "source": [
    "%%time\n",
    "#define a dataset\n",
    "class audioDataset(torch.utils.data.Dataset):\n",
    "    def __init__(self,audio_df,RSR=SR,transform=None):\n",
    "        self.audio_df = audio_df\n",
    "        self.minLength = SR\n",
    "    def __len__(self):\n",
    "        return len(self.audio_df)\n",
    "    def __getitem__(self, idx):\n",
    "        if torch.is_tensor(idx):\n",
    "            idx = idx.tolist()\n",
    "        row = self.audio_df.iloc[idx]\n",
    "        try:\n",
    "            signal,sr = librosa.load(row[\"path\"])\n",
    "        except:\n",
    "            signal = np.zeros(self.minLength)\n",
    "            sr = self.minLength\n",
    "        # resample to global SR\n",
    "        signal = librosa.resample(signal,sr,self.minLength)\n",
    "        # pad the audio length if too short\n",
    "        nz = np.max((self.minLength-signal.shape[0],0))\n",
    "        signal = np.concatenate([signal[0:self.minLength],np.zeros(nz)])\n",
    "        sound={\"signal\":signal,\"major\":row[\"maj\"],\"minor\":row[\"min\"],\"path\":row[\"path\"],\"sr\":SR}\n",
    "        return sound\n",
    "    \n",
    "data_train = audioDataset(audio_df,SR)\n",
    "train_loader = DataLoader(data_train, batch_size=32,shuffle=True, num_workers=0)\n",
    "d = next(iter(train_loader))\n",
    "# d"
   ]
  },
  {
   "cell_type": "code",
   "execution_count": 184,
   "metadata": {},
   "outputs": [
    {
     "name": "stdout",
     "output_type": "stream",
     "text": [
      "torch.Size([32, 11025])\n",
      "torch.Size([5512])\n",
      "stacks_1\n",
      "torch.Size([1, 50, 20])\n",
      "5512\n"
     ]
    },
    {
     "data": {
      "text/html": [
       "\n",
       "                <audio  controls=\"controls\" autoplay=\"autoplay\">\n",
       "                    <source src=\"data:audio/wav;base64,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\" type=\"audio/wav\" />\n",
       "                    Your browser does not support the audio element.\n",
       "                </audio>\n",
       "              "
      ],
      "text/plain": [
       "<IPython.lib.display.Audio object>"
      ]
     },
     "execution_count": 184,
     "metadata": {},
     "output_type": "execute_result"
    },
    {
     "data": {
      "image/png": "[encoded data removed]",
      "text/plain": [
       "<Figure size 1440x288 with 1 Axes>"
      ]
     },
     "metadata": {},
     "output_type": "display_data"
    }
   ],
   "source": [
    "FREQ_BINS=50\n",
    "TIME_STEPS=20\n",
    "RESAMPLE_SR = 8000\n",
    "#defining transformations\n",
    "\n",
    "class specTrans(object):\n",
    "    def __init__(self,num_mels=50,sr=SR,time_steps=20,amp_to_power=True):\n",
    "        self.sr = sr\n",
    "        self.amp_to_power=amp_to_power\n",
    "        self.num_mels=num_mels\n",
    "        self.ampP=torchaudio.transforms.AmplitudeToDB(stype='power',top_db=60)\n",
    "        self.melP=torchaudio.transforms.MelScale(n_mels=self.num_mels, sample_rate=sr,n_stft=None)\n",
    "        self.hop_step=time_steps-1\n",
    "    def __call__(self, sample):\n",
    "        \n",
    "        wf=sample\n",
    "        wf=wf.reshape(-1,len(wf))\n",
    "        sample_length=self.sr\n",
    "\n",
    "        num_bins=wf[0].shape[0]\n",
    "        win_length=self.sr//17\n",
    "        hop_step=self.sr//self.hop_step\n",
    "        window=torch.tensor([1]*win_length)\n",
    "        s=spec(wf, 0, window, num_bins, hop_step, win_length,2,normalized=True)\n",
    "        s=self.melP(s)\n",
    "        if self.amp_to_power:\n",
    "            s=self.ampP(s)\n",
    "        s = s - s.min()\n",
    "        s = s/s.abs().max()\n",
    "\n",
    "        freq=s\n",
    "        freq[torch.isnan(freq)]=0\n",
    "        freq=freq\n",
    "        return freq.detach()\n",
    "    \n",
    "    \n",
    "\n",
    "SCALE_FACTOR = 0.5\n",
    "i = np.random.randint(len(d[\"signal\"]))\n",
    "\n",
    "original = d[\"signal\"]\n",
    "print(original.shape)\n",
    "resampled_d = interpolate(d[\"signal\"].reshape([len(d[\"signal\"]),1,-1]),scale_factor = SCALE_FACTOR,recompute_scale_factor=False).reshape([len(d[\"signal\"]),-1])\n",
    "signal = resampled_d[i]\n",
    "label = d[\"minor\"][i]\n",
    "fig = plt.figure(figsize=(20,4))\n",
    "spec_tf = specTrans(FREQ_BINS,time_steps=TIME_STEPS,sr=SR,amp_to_power=True)\n",
    "print(signal.shape)\n",
    "transformed_sample = spec_tf(original[i].float())\n",
    "ax = plt.subplot(1, 3, 1)\n",
    "plt.tight_layout()\n",
    "\n",
    "ft=transformed_sample[0]\n",
    "sf=ft.detach().numpy()\n",
    "plt.title(\"Spectrum Features\",fontsize=20)\n",
    "librosa.display.specshow(sf,cmap='gray_r',)\n",
    "plt.xlabel(\"Time Step\",fontsize=20)\n",
    "plt.ylabel(\"Magnitude of Bin\",fontsize=20)\n",
    "\n",
    "\n",
    "print(label)\n",
    "print(transformed_sample.shape)\n",
    "print(len(signal))\n",
    "Audio(signal[0:5000],rate=SR*0.5,autoplay=True)\n"
   ]
  },
  {
   "cell_type": "code",
   "execution_count": 186,
   "metadata": {},
   "outputs": [
    {
     "data": {
      "text/plain": [
       "torch.Size([1, 50, 20])"
      ]
     },
     "execution_count": 186,
     "metadata": {},
     "output_type": "execute_result"
    },
    {
     "data": {
      "image/png": "[encoded data removed]",
      "text/plain": [
       "<Figure size 432x288 with 1 Axes>"
      ]
     },
     "metadata": {},
     "output_type": "display_data"
    }
   ],
   "source": [
    "z =  torch.stack(list(map(spec_tf,d[\"signal\"].float())),0)[i]\n",
    "librosa.display.specshow(z[0].numpy(),cmap='gray_r',)\n",
    "z.shape"
   ]
  },
  {
   "cell_type": "code",
   "execution_count": 6,
   "metadata": {},
   "outputs": [],
   "source": [
    "      \n",
    "spec_tf = specTrans(FREQ_BINS,time_steps=TIME_STEPS,amp_to_power=True)\n",
    "\n",
    "adf = audio_df.copy()\n",
    "train = adf.sample(frac=0.95,random_state=420) \n",
    "test_and_valid = adf.drop(train.index)\n",
    "test = test_and_valid.sample(frac=0.90,random_state=420) \n",
    "# valid = test_and_valid.drop(test.index)\n",
    "\n",
    "train_loader = DataLoader(audioDataset(train,SR), batch_size=128,shuffle=True, num_workers=0)\n",
    "test_loader = DataLoader(audioDataset(test,SR), batch_size=256,shuffle=True, num_workers=0)"
   ]
  },
  {
   "cell_type": "code",
   "execution_count": 7,
   "metadata": {},
   "outputs": [
    {
     "data": {
      "text/plain": [
       "(13095, 620)"
      ]
     },
     "execution_count": 7,
     "metadata": {},
     "output_type": "execute_result"
    }
   ],
   "source": [
    "len(train),len(test)"
   ]
  },
  {
   "cell_type": "code",
   "execution_count": 37,
   "metadata": {},
   "outputs": [],
   "source": [
    "class ConvSig_Classifier_DVN(nn.Module):\n",
    "    def __init__(self,embed_only=False,dropout=0.15):\n",
    "        super(ConvSig_Classifier_DVN, self).__init__()\n",
    "        self.embed_only = embed_only\n",
    "        self.dropout = dropout\n",
    "        self.l1 = nn.Sequential(\n",
    "                nn.Conv1d(1,128,500, stride=2, padding=5),\n",
    "                nn.BatchNorm1d(128),\n",
    "                nn.ReLU(),\n",
    "                nn.Conv1d(128, 128, 250, stride=2, padding=4),\n",
    "#                 nn.MaxPool1d(kernel_size=3, stride=1, padding=1),\n",
    "                nn.BatchNorm1d(128),\n",
    "                nn.ReLU(),\n",
    "                nn.Conv1d(128, 256, 100, stride=2, padding=3),\n",
    "                nn.BatchNorm1d(256),\n",
    "                nn.ReLU(),\n",
    "                nn.Conv1d(256, 256, 100, stride=2, padding=2),\n",
    "                nn.MaxPool1d(kernel_size=3, stride=2, padding=1),\n",
    "                nn.BatchNorm1d(256),\n",
    "                nn.ReLU(),\n",
    "                nn.Conv1d(256, 128, 80, stride=1, padding=3),\n",
    "#                 nn.MaxPool1d(kernel_size=3, stride=2, padding=1),\n",
    "                nn.BatchNorm1d(128),\n",
    "                nn.ReLU(),\n",
    "                nn.Conv1d(128, 128, 40, stride=1, padding=3),\n",
    "                nn.MaxPool1d(kernel_size=3, stride=2, padding=1),\n",
    "                nn.BatchNorm1d(128),\n",
    "                nn.ReLU())\n",
    "        self.l2 = nn.Sequential(\n",
    "                nn.Linear(128,128),\n",
    "                nn.ReLU(),\n",
    "                nn.Dropout(self.dropout),\n",
    "                nn.Linear(128,128),\n",
    "                nn.Dropout(self.dropout),\n",
    "                nn.Linear(128,64),\n",
    "                nn.ReLU(),\n",
    "                nn.Dropout(self.dropout),\n",
    "                )\n",
    "        self.l3 = nn.Sequential(\n",
    "                  nn.Linear(64,32),\n",
    "                  nn.ReLU(),\n",
    "                  nn.Dropout(self.dropout),\n",
    "                  nn.Linear(32,16),\n",
    "                  nn.ReLU(),\n",
    "                  nn.Linear(16,2),\n",
    "                )\n",
    "        self.spec_l1\n",
    "    def forward(self, x_sig):\n",
    "        \n",
    "        x_sig = x_sig.float()\n",
    "        bs = x_sig.shape[0]\n",
    "        x_sig = x_sig.reshape(bs,1,-1).to(device)\n",
    "        x1 = self.l1(x_sig)\n",
    "        x1 = x1.reshape(bs,-1)\n",
    "        x2 = self.l2(x1)\n",
    "        x_agg = torch.cat((x2,), dim=1)\n",
    "        x_final = self.l3(x_agg)\n",
    "        return x_final\n",
    "\n",
    "    def init_weights(self):\n",
    "        initrange = 0.1\n",
    "        self.encoder.weight.data.uniform_(-initrange, initrange)\n",
    "        self.decoder.bias.data.zero_()\n",
    "        self.decoder.weight.data.uniform_(-initrange, initrange)\n",
    "try:\n",
    "    del cnet\n",
    "except:\n",
    "    pass\n",
    "cnet = ConvSig_Classifier_DVN(embed_only=False).to(device)"
   ]
  },
  {
   "cell_type": "code",
   "execution_count": 39,
   "metadata": {},
   "outputs": [],
   "source": [
    "# checkpoint = torch.load(\"models/1d_conv/0.025_0.0013_ensemble.checkpoint\")"
   ]
  },
  {
   "cell_type": "code",
   "execution_count": 40,
   "metadata": {},
   "outputs": [],
   "source": [
    "# criterion = nn.BCEWithLogitsLoss(pos_weight=torch.tensor(np.log(len(ecg_paths)/np.sum(ecg_paths).to_numpy()))).to(device)\n",
    "loss_func = nn.CrossEntropyLoss()\n",
    "lr = 0.001 # learning rate\n",
    "optimizer = torch.optim.Adam(cnet.parameters(), lr=lr)\n",
    "smallest_loss,smallest_vloss = 1,1\n",
    "# scheduler = torch.optim.lr_scheduler.StepLR(optimizer, 1.0, gamma=0.95)"
   ]
  },
  {
   "cell_type": "code",
   "execution_count": null,
   "metadata": {},
   "outputs": [],
   "source": [
    "SCALE_FACTOR = 0.5\n",
    "num_windows = 5\n",
    "window_shift = 300\n",
    "smallest_loss,smallest_vloss = 1000,1000\n",
    "step = 0\n",
    "for epoch in range(40): \n",
    "    for i, data in enumerate(train_loader, 0):\n",
    "        train_loss = 0\n",
    "        bs = len(data[\"signal\"]) # batch size\n",
    "        signal = interpolate(data[\"signal\"].reshape([bs,1,-1]),scale_factor = SCALE_FACTOR,recompute_scale_factor=False).reshape([bs,1,-1])\n",
    "      \n",
    "        optimizer.zero_grad()\n",
    "        outputs = cnet(signal,)\n",
    "        y = torch.tensor(le_major.transform(data[\"major\"])).to(device)\n",
    "        loss = loss_func(outputs,y.long())\n",
    "        loss.backward()\n",
    "        optimizer.step()\n",
    "        train_loss += loss.item()\n",
    "        if i%5==0:\n",
    "            with torch.no_grad():\n",
    "                val_loss = 0\n",
    "                for iv,datav in enumerate(test_loader, 0):\n",
    "                    signalv = interpolate(datav[\"signal\"].reshape([len(datav[\"signal\"]),1,-1]),scale_factor = SCALE_FACTOR,recompute_scale_factor=False).reshape([len(datav[\"signal\"]),-1])\n",
    "                    # zero the parameter gradients\n",
    "                    optimizer.zero_grad()\n",
    "                    voutputs = cnet(signalv,)\n",
    "                    vy = torch.tensor(le_major.transform(datav[\"major\"])).to(device)\n",
    "                    vloss = loss_func(voutputs,vy.long())\n",
    "                    val_loss += vloss\n",
    "            print('[%d, %d] val loss: %.5f, loss: %.5f'%(epoch + 1, i , val_loss,train_loss))\n",
    "    #         writer.add_scalar('Loss/Training', train_loss,)\n",
    "    #         writer.add_scalar('Loss/Validation', val_loss)\n",
    "            if val_loss < smallest_vloss:        \n",
    "                torch.save({\n",
    "                'epoch': epoch,\n",
    "                'vloss': vloss,\n",
    "                'model_state_dict': cnet.state_dict(),\n",
    "                'optimizer_state_dict': optimizer.state_dict(),\n",
    "                }, \"models/1d_conv//%.3f_%.4f_.checkpoint\"%(val_loss,train_loss,))\n",
    "                smallest_vloss = val_loss\n",
    "                smallest_loss = train_loss "
   ]
  }
 ],
 "metadata": {
  "kernelspec": {
   "display_name": "Python 3",
   "language": "python",
   "name": "python3"
  },
  "language_info": {
   "codemirror_mode": {
    "name": "ipython",
    "version": 3
   },
   "file_extension": ".py",
   "mimetype": "text/x-python",
   "name": "python",
   "nbconvert_exporter": "python",
   "pygments_lexer": "ipython3",
   "version": "3.7.10"
  }
 },
 "nbformat": 4,
 "nbformat_minor": 4
}
