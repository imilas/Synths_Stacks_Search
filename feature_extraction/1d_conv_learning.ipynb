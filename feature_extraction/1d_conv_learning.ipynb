{
 "cells": [
  {
   "cell_type": "code",
   "execution_count": null,
   "metadata": {},
   "outputs": [],
   "source": [
    "import numpy as np\n",
    "import matplotlib.pyplot as plt\n",
    "import time\n",
    "import torch\n",
    "import torch.utils.data as data\n",
    "import torch.optim as optim\n",
    "import torch.nn as nn\n",
    "import torch.nn.functional as F\n",
    "from torch.nn.functional import interpolate \n",
    "from torch.autograd import Variable\n",
    "import imp\n",
    "import torchaudio\n",
    "import torchvision as tv\n",
    "import matplotlib.pyplot as plt\n",
    "from IPython.display import Audio\n",
    "import os, random\n",
    "import pandas as pd\n",
    "import mir_utils as miru\n",
    "from torch.utils.data import Dataset, DataLoader\n",
    "import librosa\n",
    "import pytorch_utils\n",
    "import pytorch_models\n",
    "#reload these libraries because I change them often-ish\n",
    "imp.reload(pytorch_utils)\n",
    "imp.reload(miru)\n",
    "imp.reload(pytorch_models)\n",
    "from scipy.signal import resample\n",
    "from sklearn import preprocessing\n",
    "le_major = preprocessing.LabelEncoder()\n",
    "\n",
    "SR = 22050//2\n",
    "#functions\n",
    "spec = torchaudio.functional.spectrogram\n",
    "\n",
    "def getMeanLength(x):\n",
    "    gl=x.apply(lambda z: len(z[\"audio\"]),axis=1)\n",
    "    print(gl.mean()/SR,gl.mean(),x[\"label\"].iloc[0])\n",
    "\n",
    "audio_df = pd.read_csv(\"../csvs/audio_df.csv\")\n",
    "device = torch.device(\"cuda\" if torch.cuda.is_available() else \"cpu\")\n"
   ]
  },
  {
   "cell_type": "code",
   "execution_count": 3,
   "metadata": {},
   "outputs": [
    {
     "data": {
      "text/plain": [
       "(array(['drums', 'not_drums'], dtype=object),\n",
       " array(['drums', 'not_drums', 'drums', 'drums'], dtype=object))"
      ]
     },
     "execution_count": 3,
     "metadata": {},
     "output_type": "execute_result"
    }
   ],
   "source": [
    "le_major.fit(audio_df[\"maj\"])\n",
    "le_major.classes_,le_major.inverse_transform([0,1,0,0])"
   ]
  },
  {
   "cell_type": "code",
   "execution_count": 44,
   "metadata": {},
   "outputs": [
    {
     "name": "stdout",
     "output_type": "stream",
     "text": [
      "CPU times: user 1.09 s, sys: 8.05 ms, total: 1.1 s\n",
      "Wall time: 1.34 s\n"
     ]
    },
    {
     "data": {
      "text/plain": [
       "{'signal': tensor([[-7.2022e-02,  1.8523e-01,  6.8540e-01,  ...,  0.0000e+00,\n",
       "           0.0000e+00,  0.0000e+00],\n",
       "         [ 1.5417e-01,  2.3702e-01,  4.0159e-02,  ..., -1.2339e-01,\n",
       "          -9.9234e-02, -7.1169e-02],\n",
       "         [ 2.1071e-02, -2.5648e-02,  3.1506e-02,  ...,  0.0000e+00,\n",
       "           0.0000e+00,  0.0000e+00],\n",
       "         ...,\n",
       "         [ 1.5172e-02, -2.0102e-02,  2.5713e-02,  ...,  0.0000e+00,\n",
       "           0.0000e+00,  0.0000e+00],\n",
       "         [-8.3637e-03,  3.3483e-02,  2.0285e-01,  ...,  0.0000e+00,\n",
       "           0.0000e+00,  0.0000e+00],\n",
       "         [-2.1334e-03,  5.1861e-03, -9.6408e-03,  ...,  2.8142e-03,\n",
       "          -3.1955e-04, -6.1840e-05]], dtype=torch.float64),\n",
       " 'major': ['drums',\n",
       "  'not_drums',\n",
       "  'not_drums',\n",
       "  'not_drums',\n",
       "  'drums',\n",
       "  'drums',\n",
       "  'not_drums',\n",
       "  'drums',\n",
       "  'not_drums',\n",
       "  'drums',\n",
       "  'drums',\n",
       "  'drums',\n",
       "  'not_drums',\n",
       "  'drums',\n",
       "  'not_drums',\n",
       "  'drums',\n",
       "  'not_drums',\n",
       "  'not_drums',\n",
       "  'drums',\n",
       "  'not_drums',\n",
       "  'drums',\n",
       "  'drums',\n",
       "  'not_drums',\n",
       "  'not_drums',\n",
       "  'not_drums',\n",
       "  'not_drums',\n",
       "  'not_drums',\n",
       "  'not_drums',\n",
       "  'drums',\n",
       "  'not_drums',\n",
       "  'drums',\n",
       "  'drums'],\n",
       " 'minor': ['snare',\n",
       "  'piano',\n",
       "  'n_stacks',\n",
       "  'stacks_1',\n",
       "  'clap',\n",
       "  'snare',\n",
       "  'stacks_1',\n",
       "  'kick',\n",
       "  'guitar',\n",
       "  'hat',\n",
       "  'hat',\n",
       "  'snare',\n",
       "  'piano',\n",
       "  'snare',\n",
       "  'stacks_5',\n",
       "  'kick',\n",
       "  'guitar',\n",
       "  'stacks_1',\n",
       "  'kick',\n",
       "  'n_stacks',\n",
       "  'clap',\n",
       "  'kick',\n",
       "  'stacks_5',\n",
       "  'stacks_3',\n",
       "  'n_stacks',\n",
       "  'n_stacks',\n",
       "  'n_stacks',\n",
       "  'stacks_5',\n",
       "  'hat',\n",
       "  'n_stacks',\n",
       "  'tom_high',\n",
       "  'hat'],\n",
       " 'path': ['/home/asalimi/Synths_Stacks_Search/drum_dbs/drums/snare/MultiMoog-MaxV_-_Tiny_Punch_Snare.wav',\n",
       "  '/home/asalimi/Synths_Stacks_Search/drum_dbs/not_drums/piano/100_0.wav',\n",
       "  '/home/asalimi/Synths_Stacks_Search/drum_dbs/not_drums/n_stacks/87-8-QGD2.wav',\n",
       "  '/home/asalimi/Synths_Stacks_Search/drum_dbs/not_drums/stacks_1/1520.wav',\n",
       "  '/home/asalimi/Synths_Stacks_Search/drum_dbs/drums/clap/24831-Korg_DDM110-Ddm110Clap.wav',\n",
       "  '/home/asalimi/Synths_Stacks_Search/drum_dbs/drums/snare/Boss_DR-202-202snr47.wav',\n",
       "  '/home/asalimi/Synths_Stacks_Search/drum_dbs/not_drums/stacks_1/1708.wav',\n",
       "  '/home/asalimi/Synths_Stacks_Search/drum_dbs/drums/kick/Kick05.wav.~8~',\n",
       "  '/home/asalimi/Synths_Stacks_Search/drum_dbs/not_drums/guitar/77_4.wav',\n",
       "  '/home/asalimi/Synths_Stacks_Search/drum_dbs/drums/hat/Closedhat18.wav',\n",
       "  '/home/asalimi/Synths_Stacks_Search/drum_dbs/drums/hat/Yamaha_RY30-RY30Hat_C1.wav',\n",
       "  '/home/asalimi/Synths_Stacks_Search/drum_dbs/drums/snare/Snare_24.wav',\n",
       "  '/home/asalimi/Synths_Stacks_Search/drum_dbs/not_drums/piano/10_11.wav',\n",
       "  '/home/asalimi/Synths_Stacks_Search/drum_dbs/drums/snare/Snare_5.wav',\n",
       "  '/home/asalimi/Synths_Stacks_Search/drum_dbs/not_drums/stacks_5/1297.wav',\n",
       "  '/home/asalimi/Synths_Stacks_Search/drum_dbs/drums/kick/Kick09.wav.~3~',\n",
       "  '/home/asalimi/Synths_Stacks_Search/drum_dbs/not_drums/guitar/51_5.wav',\n",
       "  '/home/asalimi/Synths_Stacks_Search/drum_dbs/not_drums/stacks_1/1223.wav',\n",
       "  '/home/asalimi/Synths_Stacks_Search/drum_dbs/drums/kick/XE8-XE8_Tom_3_ext_8.wav',\n",
       "  '/home/asalimi/Synths_Stacks_Search/drum_dbs/not_drums/n_stacks/396-8-2BVH.wav',\n",
       "  '/home/asalimi/Synths_Stacks_Search/drum_dbs/drums/clap/STK_WiderClapE-01.wav',\n",
       "  '/home/asalimi/Synths_Stacks_Search/drum_dbs/drums/kick/Kick_2.wav',\n",
       "  '/home/asalimi/Synths_Stacks_Search/drum_dbs/not_drums/stacks_5/1111.wav',\n",
       "  '/home/asalimi/Synths_Stacks_Search/drum_dbs/not_drums/stacks_3/1157.wav',\n",
       "  '/home/asalimi/Synths_Stacks_Search/drum_dbs/not_drums/n_stacks/1028-4-NKP3.wav',\n",
       "  '/home/asalimi/Synths_Stacks_Search/drum_dbs/not_drums/n_stacks/958-4-CJF2.wav',\n",
       "  '/home/asalimi/Synths_Stacks_Search/drum_dbs/not_drums/n_stacks/997-4-H63B.wav',\n",
       "  '/home/asalimi/Synths_Stacks_Search/drum_dbs/not_drums/stacks_5/1734.wav',\n",
       "  '/home/asalimi/Synths_Stacks_Search/drum_dbs/drums/hat/DHitE-ClHat03.wav',\n",
       "  '/home/asalimi/Synths_Stacks_Search/drum_dbs/not_drums/n_stacks/1369-4-TTC8.wav',\n",
       "  '/home/asalimi/Synths_Stacks_Search/drum_dbs/drums/tom_high/Roland_MC303-MaxV_-_78hitom.wav',\n",
       "  '/home/asalimi/Synths_Stacks_Search/drum_dbs/drums/hat/CYCdh_Kurz04-OpHat.wav'],\n",
       " 'sr': tensor([11025, 11025, 11025, 11025, 11025, 11025, 11025, 11025, 11025, 11025,\n",
       "         11025, 11025, 11025, 11025, 11025, 11025, 11025, 11025, 11025, 11025,\n",
       "         11025, 11025, 11025, 11025, 11025, 11025, 11025, 11025, 11025, 11025,\n",
       "         11025, 11025])}"
      ]
     },
     "execution_count": 44,
     "metadata": {},
     "output_type": "execute_result"
    }
   ],
   "source": [
    "%%time\n",
    "#define a dataset\n",
    "class audioDataset(torch.utils.data.Dataset):\n",
    "    def __init__(self,audio_df,RSR=SR,transform=None):\n",
    "        self.audio_df = audio_df\n",
    "        self.minLength = SR\n",
    "    def __len__(self):\n",
    "        return len(self.audio_df)\n",
    "    def __getitem__(self, idx):\n",
    "        if torch.is_tensor(idx):\n",
    "            idx = idx.tolist()\n",
    "        row = self.audio_df.iloc[idx]\n",
    "        try:\n",
    "            signal,sr = librosa.load(row[\"path\"])\n",
    "        except:\n",
    "            signal = np.zeros(self.minLength)\n",
    "            sr = self.minLength\n",
    "        # resample to global SR\n",
    "        signal = librosa.resample(signal,sr,self.minLength)\n",
    "        # pad the audio length if too short\n",
    "        nz = np.max((self.minLength-signal.shape[0],0))\n",
    "        signal = np.concatenate([signal[0:self.minLength],np.zeros(nz)])\n",
    "\n",
    "        sound={\"signal\":signal,\"major\":row[\"maj\"],\"minor\":row[\"min\"],\"path\":row[\"path\"],\"sr\":SR}\n",
    "        return sound\n",
    "    \n",
    "data_train = audioDataset(audio_df,SR)\n",
    "train_loader = DataLoader(data_train, batch_size=32,shuffle=True, num_workers=0)\n",
    "d = next(iter(train_loader))\n",
    "d"
   ]
  },
  {
   "cell_type": "code",
   "execution_count": 5,
   "metadata": {},
   "outputs": [
    {
     "name": "stdout",
     "output_type": "stream",
     "text": [
      "snare\n",
      "torch.Size([1, 50, 10])\n",
      "5512\n"
     ]
    },
    {
     "name": "stderr",
     "output_type": "stream",
     "text": [
      "/home/asalimi/miniconda3/lib/python3.7/site-packages/torch/functional.py:516: UserWarning: stft will require the return_complex parameter be explicitly  specified in a future PyTorch release. Use return_complex=False  to preserve the current behavior or return_complex=True to return  a complex output. (Triggered internally at  /pytorch/aten/src/ATen/native/SpectralOps.cpp:653.)\n",
      "  normalized, onesided, return_complex)\n",
      "/home/asalimi/miniconda3/lib/python3.7/site-packages/torch/functional.py:516: UserWarning: The function torch.rfft is deprecated and will be removed in a future PyTorch release. Use the new torch.fft module functions, instead, by importing torch.fft and calling torch.fft.fft or torch.fft.rfft. (Triggered internally at  /pytorch/aten/src/ATen/native/SpectralOps.cpp:590.)\n",
      "  normalized, onesided, return_complex)\n"
     ]
    },
    {
     "data": {
      "text/html": [
       "\n",
       "                <audio  controls=\"controls\" autoplay=\"autoplay\">\n",
       "                    <source src=\"data:audio/wav;base64,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\" type=\"audio/wav\" />\n",
       "                    Your browser does not support the audio element.\n",
       "                </audio>\n",
       "              "
      ],
      "text/plain": [
       "<IPython.lib.display.Audio object>"
      ]
     },
     "execution_count": 5,
     "metadata": {},
     "output_type": "execute_result"
    },
    {
     "data": {
      "image/png": "[encoded data removed]",
      "text/plain": [
       "<Figure size 1440x288 with 1 Axes>"
      ]
     },
     "metadata": {},
     "output_type": "display_data"
    }
   ],
   "source": [
    "FREQ_BINS=50\n",
    "TIME_STEPS=20\n",
    "RESAMPLE_SR = 8000\n",
    "#defining transformations\n",
    "\n",
    "class specTrans(object):\n",
    "    def __init__(self,num_mels=50,sr=SR,time_steps=20,amp_to_power=True):\n",
    "        self.sr = sr\n",
    "        self.amp_to_power=amp_to_power\n",
    "        self.num_mels=num_mels\n",
    "        self.ampP=torchaudio.transforms.AmplitudeToDB(stype='power',top_db=60)\n",
    "        self.melP=torchaudio.transforms.MelScale(n_mels=self.num_mels, sample_rate=sr,n_stft=None)\n",
    "        self.hop_step=time_steps-1\n",
    "    def __call__(self, sample):\n",
    "        \n",
    "        wf=sample\n",
    "        wf=wf.reshape(-1,len(wf))\n",
    "        sample_length=self.sr\n",
    "\n",
    "        num_bins=wf[0].shape[0]\n",
    "        win_length=self.sr//17\n",
    "        hop_step=self.sr//self.hop_step\n",
    "        window=torch.tensor([1]*win_length)\n",
    "        s=spec(wf, 0, window, num_bins, hop_step, win_length,2,normalized=True)\n",
    "        s=self.melP(s.float())\n",
    "        if self.amp_to_power:\n",
    "            s=self.ampP(s)\n",
    "        s = s - s.min()\n",
    "        s = s/s.abs().max()\n",
    "\n",
    "        freq=s\n",
    "        freq[torch.isnan(freq)]=0\n",
    "        freq=freq\n",
    "        return freq.detach()\n",
    "    \n",
    "    \n",
    "\n",
    "SCALE_FACTOR = 0.5\n",
    "i = np.random.randint(len(d[\"signal\"]))\n",
    "\n",
    "resampled_d = interpolate(d[\"signal\"].reshape([len(d[\"signal\"]),1,-1]),scale_factor = SCALE_FACTOR,recompute_scale_factor=False).reshape([len(d[\"signal\"]),-1])\n",
    "signal = resampled_d[i]\n",
    "label = d[\"minor\"][i]\n",
    "fig = plt.figure(figsize=(20,4))\n",
    "spec_tf = specTrans(FREQ_BINS,time_steps=TIME_STEPS,sr=SR,amp_to_power=True)\n",
    "transformed_sample = spec_tf(signal)\n",
    "ax = plt.subplot(1, 3, 1)\n",
    "plt.tight_layout()\n",
    "\n",
    "ft=transformed_sample[0]\n",
    "sf=ft.detach().numpy()\n",
    "ft=ft.detach().numpy()\n",
    "plt.title(\"Spectrum Features\",fontsize=20)\n",
    "librosa.display.specshow(sf,cmap='gray_r',)\n",
    "plt.xlabel(\"Time Step\",fontsize=20)\n",
    "plt.ylabel(\"Magnitude of Bin\",fontsize=20)\n",
    "\n",
    "\n",
    "print(label)\n",
    "print(transformed_sample.shape)\n",
    "print(len(signal))\n",
    "Audio(signal[0:5000],rate=SR*0.5,autoplay=True)\n"
   ]
  },
  {
   "cell_type": "code",
   "execution_count": 6,
   "metadata": {},
   "outputs": [
    {
     "data": {
      "text/plain": [
       "torch.Size([32, 11025])"
      ]
     },
     "execution_count": 6,
     "metadata": {},
     "output_type": "execute_result"
    }
   ],
   "source": [
    "d[\"signal\"].shape"
   ]
  },
  {
   "cell_type": "code",
   "execution_count": 37,
   "metadata": {},
   "outputs": [],
   "source": [
    "      \n",
    "spec_tf = specTrans(FREQ_BINS,time_steps=TIME_STEPS,amp_to_power=True)\n",
    "\n",
    "adf = audio_df.copy()\n",
    "train = adf.sample(frac=0.95,random_state=420) \n",
    "test_and_valid = adf.drop(train.index)\n",
    "test = test_and_valid.sample(frac=0.90,random_state=420) \n",
    "# valid = test_and_valid.drop(test.index)\n",
    "\n",
    "train_loader = DataLoader(audioDataset(train,SR), batch_size=128,shuffle=True, num_workers=0)\n",
    "test_loader = DataLoader(audioDataset(test,SR), batch_size=256,shuffle=True, num_workers=0)"
   ]
  },
  {
   "cell_type": "code",
   "execution_count": 38,
   "metadata": {},
   "outputs": [
    {
     "data": {
      "text/plain": [
       "(13095, 620)"
      ]
     },
     "execution_count": 38,
     "metadata": {},
     "output_type": "execute_result"
    }
   ],
   "source": [
    "len(train),len(test)"
   ]
  },
  {
   "cell_type": "code",
   "execution_count": 39,
   "metadata": {},
   "outputs": [],
   "source": [
    "class ConvSig_Classifier_DVN(nn.Module):\n",
    "    def __init__(self,embed_only=False,dropout=0.15):\n",
    "        super(ConvSig_Classifier_DVN, self).__init__()\n",
    "        self.embed_only = embed_only\n",
    "        self.dropout = dropout\n",
    "        self.l1 = nn.Sequential(\n",
    "                nn.Conv1d(1,128,500, stride=2, padding=5),\n",
    "                nn.BatchNorm1d(128),\n",
    "                nn.ReLU(),\n",
    "                nn.Conv1d(128, 128, 250, stride=2, padding=4),\n",
    "#                 nn.MaxPool1d(kernel_size=3, stride=1, padding=1),\n",
    "                nn.BatchNorm1d(128),\n",
    "                nn.ReLU(),\n",
    "                nn.Conv1d(128, 256, 100, stride=2, padding=3),\n",
    "                nn.BatchNorm1d(256),\n",
    "                nn.ReLU(),\n",
    "                nn.Conv1d(256, 256, 100, stride=2, padding=2),\n",
    "                nn.MaxPool1d(kernel_size=3, stride=2, padding=1),\n",
    "                nn.BatchNorm1d(256),\n",
    "                nn.ReLU(),\n",
    "                nn.Conv1d(256, 128, 80, stride=1, padding=3),\n",
    "#                 nn.MaxPool1d(kernel_size=3, stride=2, padding=1),\n",
    "                nn.BatchNorm1d(128),\n",
    "                nn.ReLU(),\n",
    "                nn.Conv1d(128, 128, 40, stride=1, padding=3),\n",
    "                nn.MaxPool1d(kernel_size=3, stride=2, padding=1),\n",
    "                nn.BatchNorm1d(128),\n",
    "                nn.ReLU())\n",
    "        self.l2 = nn.Sequential(\n",
    "                nn.Linear(128,128),\n",
    "                nn.ReLU(),\n",
    "                nn.Dropout(self.dropout),\n",
    "                nn.Linear(128,128),\n",
    "                nn.Dropout(self.dropout),\n",
    "                nn.Linear(128,64),\n",
    "                nn.ReLU(),\n",
    "                nn.Dropout(self.dropout),\n",
    "                )\n",
    "        self.l3 = nn.Sequential(\n",
    "                  nn.Linear(64,32),\n",
    "                  nn.ReLU(),\n",
    "                  nn.Dropout(self.dropout),\n",
    "                  nn.Linear(32,16),\n",
    "                  nn.ReLU(),\n",
    "                  nn.Linear(16,2),\n",
    "                )\n",
    "\n",
    "    def forward(self, x_sig):\n",
    "        \n",
    "        x_sig = x_sig.float()\n",
    "        bs = x_sig.shape[0]\n",
    "        x_sig = x_sig.reshape(bs,1,-1).to(device)\n",
    "        x1 = self.l1(x_sig)\n",
    "        x1 = x1.reshape(bs,-1)\n",
    "        x2 = self.l2(x1)\n",
    "        x_agg = torch.cat((x2,), dim=1)\n",
    "        x_final = self.l3(x_agg)\n",
    "        return x_final\n",
    "\n",
    "    def init_weights(self):\n",
    "        initrange = 0.1\n",
    "        self.encoder.weight.data.uniform_(-initrange, initrange)\n",
    "        self.decoder.bias.data.zero_()\n",
    "        self.decoder.weight.data.uniform_(-initrange, initrange)\n",
    "try:\n",
    "    del cnet\n",
    "except:\n",
    "    pass\n",
    "cnet = ConvSig_Classifier_DVN(embed_only=False).to(device)"
   ]
  },
  {
   "cell_type": "code",
   "execution_count": 40,
   "metadata": {},
   "outputs": [],
   "source": [
    "# criterion = nn.BCEWithLogitsLoss(pos_weight=torch.tensor(np.log(len(ecg_paths)/np.sum(ecg_paths).to_numpy()))).to(device)\n",
    "loss_func = nn.CrossEntropyLoss()\n",
    "lr = 0.001 # learning rate\n",
    "optimizer = torch.optim.Adam(cnet.parameters(), lr=lr)\n",
    "smallest_loss,smallest_vloss = 1,1\n",
    "# scheduler = torch.optim.lr_scheduler.StepLR(optimizer, 1.0, gamma=0.95)"
   ]
  },
  {
   "cell_type": "code",
   "execution_count": null,
   "metadata": {},
   "outputs": [],
   "source": [
    "SCALE_FACTOR = 0.5\n",
    "num_windows = 5\n",
    "window_shift = 300\n",
    "smallest_loss,smallest_vloss = 1000,1000\n",
    "step = 0\n",
    "for epoch in range(40): \n",
    "    for i, data in enumerate(train_loader, 0):\n",
    "        train_loss = 0 \n",
    "        signal = interpolate(data[\"signal\"].reshape([len(data[\"signal\"]),1,-1]),scale_factor = SCALE_FACTOR,recompute_scale_factor=False).reshape([len(data[\"signal\"]),-1])\n",
    "\n",
    "        optimizer.zero_grad()\n",
    "        outputs = cnet(signal,)\n",
    "        y = torch.tensor(le_major.transform(data[\"major\"])).to(device)\n",
    "        loss = loss_func(outputs,y.long())\n",
    "        loss.backward()\n",
    "        optimizer.step()\n",
    "        train_loss += loss.item()\n",
    "        if i%5:\n",
    "            with torch.no_grad():\n",
    "                val_loss = 0\n",
    "                for iv,datav in enumerate(test_loader, 0):\n",
    "                    signalv = interpolate(datav[\"signal\"].reshape([len(datav[\"signal\"]),1,-1]),scale_factor = SCALE_FACTOR,recompute_scale_factor=False).reshape([len(datav[\"signal\"]),-1])\n",
    "                    # zero the parameter gradients\n",
    "                    optimizer.zero_grad()\n",
    "                    voutputs = cnet(signalv,)\n",
    "                    vy = torch.tensor(le_major.transform(datav[\"major\"])).to(device)\n",
    "                    vloss = loss_func(voutputs,vy.long())\n",
    "                    val_loss += vloss\n",
    "            print('[%d, %d] val loss: %.5f, loss: %.5f'%(epoch + 1, i , val_loss,train_loss))\n",
    "    #         writer.add_scalar('Loss/Training', train_loss,)\n",
    "    #         writer.add_scalar('Loss/Validation', val_loss)\n",
    "            if val_loss < smallest_vloss:        \n",
    "                torch.save({\n",
    "                'epoch': epoch,\n",
    "                'vloss': vloss,\n",
    "                'model_state_dict': cnet.state_dict(),\n",
    "                'optimizer_state_dict': optimizer.state_dict(),\n",
    "                }, \"models/1d_conv//%.3f_%.4f_ensemble.checkpoint\"%(val_loss,train_loss,))\n",
    "                smallest_vloss = val_loss\n",
    "                smallest_loss = train_loss "
   ]
  },
  {
   "cell_type": "code",
   "execution_count": 31,
   "metadata": {},
   "outputs": [
    {
     "data": {
      "text/plain": [
       "128"
      ]
     },
     "execution_count": 31,
     "metadata": {},
     "output_type": "execute_result"
    }
   ],
   "source": [
    "len(data[\"signal\"])"
   ]
  }
 ],
 "metadata": {
  "kernelspec": {
   "display_name": "Python 3",
   "language": "python",
   "name": "python3"
  },
  "language_info": {
   "codemirror_mode": {
    "name": "ipython",
    "version": 3
   },
   "file_extension": ".py",
   "mimetype": "text/x-python",
   "name": "python",
   "nbconvert_exporter": "python",
   "pygments_lexer": "ipython3",
   "version": "3.7.10"
  }
 },
 "nbformat": 4,
 "nbformat_minor": 4
}
