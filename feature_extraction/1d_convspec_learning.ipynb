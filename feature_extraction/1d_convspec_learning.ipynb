{
 "cells": [
  {
   "cell_type": "code",
   "execution_count": 27,
   "metadata": {},
   "outputs": [],
   "source": [
    "import numpy as np\n",
    "import matplotlib.pyplot as plt\n",
    "import time\n",
    "import torch\n",
    "import torch.utils.data as data\n",
    "import torch.optim as optim\n",
    "import torch.nn as nn\n",
    "import torch.nn.functional as F\n",
    "from torch.nn.functional import interpolate \n",
    "from torch.autograd import Variable\n",
    "import imp\n",
    "import torchaudio\n",
    "import torchvision as tv\n",
    "import matplotlib.pyplot as plt\n",
    "from IPython.display import Audio\n",
    "import os, random\n",
    "import pandas as pd\n",
    "import mir_utils as miru\n",
    "from torch.utils.data import Dataset, DataLoader\n",
    "import librosa\n",
    "import pytorch_utils\n",
    "import pytorch_models\n",
    "#reload these libraries because I change them often-ish\n",
    "imp.reload(pytorch_utils)\n",
    "imp.reload(miru)\n",
    "imp.reload(pytorch_models)\n",
    "from scipy.signal import resample\n",
    "from sklearn import preprocessing\n",
    "le_major = preprocessing.LabelEncoder()\n",
    "\n",
    "SR = 22050//2\n",
    "#functions\n",
    "spec = torchaudio.functional.spectrogram\n",
    "\n",
    "def getMeanLength(x):\n",
    "    gl=x.apply(lambda z: len(z[\"audio\"]),axis=1)\n",
    "    print(gl.mean()/SR,gl.mean(),x[\"label\"].iloc[0])\n",
    "\n",
    "audio_df = pd.read_csv(\"../csvs/audio_df.csv\")\n",
    "device = torch.device(\"cuda\" if torch.cuda.is_available() else \"cpu\")\n"
   ]
  },
  {
   "cell_type": "code",
   "execution_count": 28,
   "metadata": {},
   "outputs": [
    {
     "data": {
      "text/plain": [
       "(array(['drums', 'not_drums'], dtype=object),\n",
       " array(['drums', 'not_drums', 'drums', 'drums'], dtype=object))"
      ]
     },
     "execution_count": 28,
     "metadata": {},
     "output_type": "execute_result"
    }
   ],
   "source": [
    "le_major.fit(audio_df[\"maj\"])\n",
    "le_major.classes_,le_major.inverse_transform([0,1,0,0])"
   ]
  },
  {
   "cell_type": "code",
   "execution_count": 54,
   "metadata": {},
   "outputs": [
    {
     "data": {
      "text/plain": [
       "tensor([3.3558, 1.4245], device='cuda:0', dtype=torch.float64)"
      ]
     },
     "execution_count": 54,
     "metadata": {},
     "output_type": "execute_result"
    }
   ],
   "source": [
    "# weights\n",
    "w = torch.tensor([len(audio_df)/np.sum(audio_df[\"maj\"]==\"drums\"),len(audio_df)/np.sum(audio_df[\"maj\"]==\"not_drums\")]).to(device)\n",
    "w"
   ]
  },
  {
   "cell_type": "code",
   "execution_count": 31,
   "metadata": {},
   "outputs": [
    {
     "name": "stdout",
     "output_type": "stream",
     "text": [
      "CPU times: user 1.1 s, sys: 1e+03 ns, total: 1.1 s\n",
      "Wall time: 1.1 s\n"
     ]
    }
   ],
   "source": [
    "%%time\n",
    "#define a dataset\n",
    "class audioDataset(torch.utils.data.Dataset):\n",
    "    def __init__(self,audio_df,RSR=SR,transform=None):\n",
    "        self.audio_df = audio_df\n",
    "        self.minLength = SR\n",
    "    def __len__(self):\n",
    "        return len(self.audio_df)\n",
    "    def __getitem__(self, idx):\n",
    "        if torch.is_tensor(idx):\n",
    "            idx = idx.tolist()\n",
    "        row = self.audio_df.iloc[idx]\n",
    "        try:\n",
    "            signal,sr = librosa.load(row[\"path\"])\n",
    "        except:\n",
    "            signal = np.zeros(self.minLength)\n",
    "            sr = self.minLength\n",
    "        # resample to global SR\n",
    "        signal = librosa.resample(signal,sr,self.minLength)\n",
    "        # pad the audio length if too short\n",
    "        nz = np.max((self.minLength-signal.shape[0],0))\n",
    "        signal = np.concatenate([signal[0:self.minLength],np.zeros(nz)])\n",
    "        sound={\"signal\":signal,\"major\":row[\"maj\"],\"minor\":row[\"min\"],\"path\":row[\"path\"],\"sr\":SR}\n",
    "        return sound\n",
    "    \n",
    "data_train = audioDataset(audio_df,SR)\n",
    "train_loader = DataLoader(data_train, batch_size=32,shuffle=True, num_workers=0)\n",
    "d = next(iter(train_loader))\n",
    "# d"
   ]
  },
  {
   "cell_type": "code",
   "execution_count": 33,
   "metadata": {},
   "outputs": [
    {
     "name": "stdout",
     "output_type": "stream",
     "text": [
      "torch.Size([32, 11025])\n",
      "torch.Size([5512])\n",
      "stacks_5\n",
      "torch.Size([1, 30, 9])\n",
      "5512\n"
     ]
    },
    {
     "data": {
      "text/html": [
       "\n",
       "                <audio  controls=\"controls\" autoplay=\"autoplay\">\n",
       "                    <source src=\"data:audio/wav;base64,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\" type=\"audio/wav\" />\n",
       "                    Your browser does not support the audio element.\n",
       "                </audio>\n",
       "              "
      ],
      "text/plain": [
       "<IPython.lib.display.Audio object>"
      ]
     },
     "execution_count": 33,
     "metadata": {},
     "output_type": "execute_result"
    },
    {
     "data": {
      "image/png": "[encoded data removed]",
      "text/plain": [
       "<Figure size 1440x288 with 1 Axes>"
      ]
     },
     "metadata": {},
     "output_type": "display_data"
    }
   ],
   "source": [
    "FREQ_BINS=30\n",
    "TIME_STEPS=10\n",
    "RESAMPLE_SR = 8000\n",
    "#defining transformations\n",
    "\n",
    "class specTrans(object):\n",
    "    def __init__(self,num_mels=50,sr=SR,time_steps=20,amp_to_power=True):\n",
    "        self.sr = sr\n",
    "        self.amp_to_power=amp_to_power\n",
    "        self.num_mels=num_mels\n",
    "        self.ampP=torchaudio.transforms.AmplitudeToDB(stype='power',top_db=60)\n",
    "        self.melP=torchaudio.transforms.MelScale(n_mels=self.num_mels, sample_rate=sr,n_stft=None)\n",
    "        self.hop_step=time_steps-1\n",
    "    def __call__(self, sample):\n",
    "        \n",
    "        wf=sample\n",
    "        wf=wf.reshape(-1,len(wf))\n",
    "        sample_length=self.sr\n",
    "\n",
    "        num_bins=wf[0].shape[0]\n",
    "        win_length=self.sr//17\n",
    "        hop_step=self.sr//self.hop_step\n",
    "        window=torch.tensor([1]*win_length)\n",
    "        s=spec(wf, 0, window, num_bins, hop_step, win_length,2,normalized=True)\n",
    "        s=self.melP(s)\n",
    "        if self.amp_to_power:\n",
    "            s=self.ampP(s)\n",
    "        s = s - s.min()\n",
    "        s = s/s.abs().max()\n",
    "\n",
    "        freq=s\n",
    "        freq[torch.isnan(freq)]=0\n",
    "        freq=freq\n",
    "        return freq.detach()\n",
    "    \n",
    "    \n",
    "\n",
    "SCALE_FACTOR = 0.5\n",
    "i = np.random.randint(len(d[\"signal\"]))\n",
    "\n",
    "original = d[\"signal\"]\n",
    "print(original.shape)\n",
    "resampled_d = interpolate(d[\"signal\"].reshape([len(d[\"signal\"]),1,-1]),scale_factor = SCALE_FACTOR,recompute_scale_factor=False).reshape([len(d[\"signal\"]),-1])\n",
    "signal = resampled_d[i]\n",
    "label = d[\"minor\"][i]\n",
    "fig = plt.figure(figsize=(20,4))\n",
    "spec_tf = specTrans(FREQ_BINS,time_steps=TIME_STEPS,sr=SR,amp_to_power=True)\n",
    "print(signal.shape)\n",
    "transformed_sample = spec_tf(original[i].float())\n",
    "ax = plt.subplot(1, 3, 1)\n",
    "plt.tight_layout()\n",
    "\n",
    "ft=transformed_sample[0]\n",
    "sf=ft.detach().numpy()\n",
    "plt.title(\"Spectrum Features\",fontsize=20)\n",
    "librosa.display.specshow(sf,cmap='gray_r',)\n",
    "plt.xlabel(\"Time Step\",fontsize=20)\n",
    "plt.ylabel(\"Magnitude of Bin\",fontsize=20)\n",
    "\n",
    "\n",
    "print(label)\n",
    "print(transformed_sample.shape)\n",
    "print(len(signal))\n",
    "Audio(signal[0:5000],rate=SR*0.5,autoplay=True)\n"
   ]
  },
  {
   "cell_type": "code",
   "execution_count": 36,
   "metadata": {},
   "outputs": [],
   "source": [
    "      \n",
    "spec_tf = specTrans(FREQ_BINS,time_steps=TIME_STEPS,amp_to_power=True)\n",
    "\n",
    "adf = audio_df.copy()\n",
    "train = adf.sample(frac=0.95,random_state=420) \n",
    "test_and_valid = adf.drop(train.index)\n",
    "test = test_and_valid.sample(frac=0.90,random_state=420) \n",
    "# valid = test_and_valid.drop(test.index)\n",
    "\n",
    "train_loader = DataLoader(audioDataset(train,SR), batch_size=128,shuffle=True, num_workers=0)\n",
    "test_loader = DataLoader(audioDataset(test,SR), batch_size=256,shuffle=True, num_workers=0)"
   ]
  },
  {
   "cell_type": "code",
   "execution_count": 37,
   "metadata": {},
   "outputs": [
    {
     "data": {
      "text/plain": [
       "(18870, 894)"
      ]
     },
     "execution_count": 37,
     "metadata": {},
     "output_type": "execute_result"
    }
   ],
   "source": [
    "len(train),len(test)"
   ]
  },
  {
   "cell_type": "code",
   "execution_count": 46,
   "metadata": {},
   "outputs": [],
   "source": [
    "class Conv_Spec_DVN(nn.Module):\n",
    "    def __init__(self,embed_only=False,dropout=0.075):\n",
    "        super(Conv_Spec_DVN, self).__init__()\n",
    "        self.embed_only = embed_only\n",
    "        self.dropout = dropout\n",
    "        self.conv_1d = nn.Sequential(\n",
    "                nn.Conv1d(1,128,500, stride=2, padding=5),\n",
    "                nn.BatchNorm1d(128),\n",
    "                nn.ReLU(),\n",
    "                nn.Conv1d(128, 128, 250, stride=2, padding=4),\n",
    "                nn.BatchNorm1d(128),\n",
    "                nn.ReLU(),\n",
    "                nn.Conv1d(128, 256, 100, stride=2, padding=3),\n",
    "                nn.BatchNorm1d(256),\n",
    "                nn.ReLU(),\n",
    "                nn.Conv1d(256, 256, 100, stride=2, padding=2),\n",
    "                nn.MaxPool1d(kernel_size=3, stride=2, padding=1),\n",
    "                nn.BatchNorm1d(256),\n",
    "                nn.ReLU(),\n",
    "                nn.Conv1d(256, 128, 80, stride=1, padding=3),\n",
    "                nn.BatchNorm1d(128),\n",
    "                nn.ReLU(),\n",
    "                nn.Conv1d(128, 128, 40, stride=1, padding=3),\n",
    "                nn.MaxPool1d(kernel_size=3, stride=2, padding=1),\n",
    "                nn.BatchNorm1d(128),\n",
    "                nn.ReLU())\n",
    "        self.spectrogram_layer = nn.Sequential(\n",
    "                nn.Linear(30*9,64),\n",
    "                nn.ReLU(),\n",
    "                nn.Dropout(self.dropout),\n",
    "                nn.Linear(64,32),\n",
    "                nn.Dropout(self.dropout),\n",
    "                nn.Linear(32,16),\n",
    "                nn.ReLU(),\n",
    "                nn.Linear(16,16),\n",
    "                nn.ReLU(),\n",
    "                nn.Dropout(self.dropout),\n",
    "                )\n",
    "        self.l2 = nn.Sequential(\n",
    "                nn.Linear(128,64),\n",
    "                nn.ReLU(),\n",
    "                nn.Dropout(self.dropout),\n",
    "                nn.Linear(64,32),\n",
    "                nn.Dropout(self.dropout),\n",
    "                nn.Linear(32,16),\n",
    "                nn.ReLU(),\n",
    "                nn.Dropout(self.dropout),\n",
    "                )\n",
    "        self.l3 = nn.Sequential(\n",
    "                  nn.Linear(16+16,32),\n",
    "                  nn.ReLU(),\n",
    "                  nn.Dropout(self.dropout),\n",
    "                  nn.Linear(32,16),\n",
    "                  nn.ReLU(),\n",
    "                  nn.Linear(16,2),\n",
    "                )\n",
    "\n",
    "    def forward(self, x_sig,x_spec):\n",
    "        x_sig = x_sig.float()\n",
    "        bs = x_sig.shape[0]\n",
    "        bs_spec = x_spec.shape[0]\n",
    "        x_sig = x_sig.reshape(bs,1,-1).to(device)\n",
    "        x1_1d = self.conv_1d(x_sig)\n",
    "        flat_spec = x_spec.reshape([bs_spec,-1])\n",
    "        x1_fc = self.spectrogram_layer(flat_spec)\n",
    "        x1_1d = x1_1d.reshape(bs,-1)\n",
    "        x2 = self.l2(x1_1d)\n",
    "        x_agg = torch.cat((x2,x1_fc),dim=1)\n",
    "        x_final = self.l3(x_agg)\n",
    "        return x_final\n",
    "\n",
    "    def init_weights(self):\n",
    "        initrange = 0.1\n",
    "        self.encoder.weight.data.uniform_(-initrange, initrange)\n",
    "        self.decoder.bias.data.zero_()\n",
    "        self.decoder.weight.data.uniform_(-initrange, initrange)\n",
    "try:\n",
    "    del cnet\n",
    "except:\n",
    "    pass\n",
    "cnet = Conv_Spec_DVN(embed_only=False).to(device)"
   ]
  },
  {
   "cell_type": "code",
   "execution_count": 47,
   "metadata": {},
   "outputs": [],
   "source": [
    "data = next(iter(train_loader))\n",
    "bs = len(data[\"signal\"]) # batch size\n",
    "signal = interpolate(data[\"signal\"].reshape([bs,1,-1]),scale_factor = SCALE_FACTOR,recompute_scale_factor=False).reshape([bs,1,-1])\n",
    "spectrums = torch.stack(list(map(spec_tf,data[\"signal\"].float())),0).to(device)\n",
    "\n",
    "\n",
    "outputs = cnet(signal,spectrums)\n",
    "# outputs"
   ]
  },
  {
   "cell_type": "code",
   "execution_count": 48,
   "metadata": {},
   "outputs": [
    {
     "data": {
      "text/plain": [
       "torch.Size([128, 11025])"
      ]
     },
     "execution_count": 48,
     "metadata": {},
     "output_type": "execute_result"
    }
   ],
   "source": [
    "torch.stack(list(map(spec_tf,data[\"signal\"].float())),0).to(device)\n",
    "data[\"signal\"].shape"
   ]
  },
  {
   "cell_type": "code",
   "execution_count": 49,
   "metadata": {},
   "outputs": [
    {
     "data": {
      "text/plain": [
       "torch.Size([128, 11025])"
      ]
     },
     "execution_count": 49,
     "metadata": {},
     "output_type": "execute_result"
    }
   ],
   "source": [
    "data[\"signal\"].shape"
   ]
  },
  {
   "cell_type": "code",
   "execution_count": 50,
   "metadata": {},
   "outputs": [],
   "source": [
    "checkpoint = torch.load(\"models/1d_conv/0.201_0.2212_ensemble.checkpoint\")"
   ]
  },
  {
   "cell_type": "code",
   "execution_count": 59,
   "metadata": {},
   "outputs": [],
   "source": [
    "# criterion = nn.BCEWithLogitsLoss(pos_weight=torch.tensor(np.log(len(ecg_paths)/np.sum(ecg_paths).to_numpy()))).to(device)\n",
    "loss_func = nn.CrossEntropyLoss(weight=w.float())\n",
    "lr = 0.001 # learning rate\n",
    "optimizer = torch.optim.Adam(cnet.parameters(), lr=lr)\n",
    "smallest_loss,smallest_vloss = 1,1\n",
    "# scheduler = torch.optim.lr_scheduler.StepLR(optimizer, 1.0, gamma=0.95)"
   ]
  },
  {
   "cell_type": "code",
   "execution_count": null,
   "metadata": {},
   "outputs": [
    {
     "name": "stdout",
     "output_type": "stream",
     "text": [
      "[1, 0] val loss: 2.76023, loss: 0.69942\n",
      "[1, 5] val loss: 2.68650, loss: 0.68368\n",
      "[1, 10] val loss: 2.59066, loss: 0.65408\n",
      "[1, 15] val loss: 2.40849, loss: 0.60784\n",
      "[1, 20] val loss: 2.07931, loss: 0.52363\n",
      "[1, 25] val loss: 1.60360, loss: 0.46008\n",
      "[1, 30] val loss: 1.38399, loss: 0.28263\n",
      "[1, 35] val loss: 1.18701, loss: 0.26152\n",
      "[1, 40] val loss: 1.21180, loss: 0.21001\n",
      "[1, 45] val loss: 0.96840, loss: 0.22474\n",
      "[1, 50] val loss: 0.95671, loss: 0.12244\n",
      "[1, 55] val loss: 0.88387, loss: 0.16287\n",
      "[1, 60] val loss: 0.83324, loss: 0.16717\n",
      "[1, 65] val loss: 0.75053, loss: 0.28062\n",
      "[1, 70] val loss: 0.62226, loss: 0.26113\n"
     ]
    }
   ],
   "source": [
    "SCALE_FACTOR = 0.5\n",
    "num_windows = 5\n",
    "window_shift = 300\n",
    "smallest_loss,smallest_vloss = 1000,1000\n",
    "step = 0\n",
    "for epoch in range(40): \n",
    "    for i, data in enumerate(train_loader, 0):\n",
    "        train_loss = 0\n",
    "        bs = len(data[\"signal\"]) # batch size\n",
    "        signal = interpolate(data[\"signal\"].reshape([bs,1,-1]),scale_factor = SCALE_FACTOR,recompute_scale_factor=False).reshape([bs,1,-1])\n",
    "        spectrums = torch.stack(list(map(spec_tf,data[\"signal\"].float())),0).to(device)\n",
    "        optimizer.zero_grad()\n",
    "        outputs = cnet(signal,spectrums)\n",
    "        y = torch.tensor(le_major.transform(data[\"major\"])).to(device)\n",
    "        loss = loss_func(outputs,y.long())\n",
    "        loss.backward()\n",
    "        optimizer.step()\n",
    "        train_loss += loss.item()\n",
    "        if i%5==0:\n",
    "            with torch.no_grad():\n",
    "                val_loss = 0\n",
    "                for iv,datav in enumerate(test_loader, 0):\n",
    "                    bs = len(datav[\"signal\"]) # batch size\n",
    "                    signalv = interpolate(datav[\"signal\"].reshape([bs,1,-1]),scale_factor = SCALE_FACTOR,recompute_scale_factor=False).reshape([bs,1,-1])\n",
    "                    spectrumsv = torch.stack(list(map(spec_tf,datav[\"signal\"].float())),0).to(device)\n",
    "                    # zero the parameter gradients\n",
    "                    optimizer.zero_grad()\n",
    "                    voutputs = cnet(signalv,spectrumsv)\n",
    "                    vy = torch.tensor(le_major.transform(datav[\"major\"])).to(device)\n",
    "                    vloss = loss_func(voutputs,vy.long())\n",
    "                    val_loss += vloss\n",
    "            print('[%d, %d] val loss: %.5f, loss: %.5f'%(epoch + 1, i , val_loss,train_loss))\n",
    "    #         writer.add_scalar('Loss/Training', train_loss,)\n",
    "    #         writer.add_scalar('Loss/Validation', val_loss)\n",
    "            if val_loss < smallest_vloss:        \n",
    "                torch.save({\n",
    "                'epoch': epoch,\n",
    "                'vloss': vloss,\n",
    "                'model_state_dict': cnet.state_dict(),\n",
    "                'optimizer_state_dict': optimizer.state_dict(),\n",
    "                }, \"models/1d_conv//%.3f_%.4f_.checkpoint\"%(val_loss,train_loss,))\n",
    "                smallest_vloss = val_loss\n",
    "                smallest_loss = train_loss "
   ]
  },
  {
   "cell_type": "code",
   "execution_count": null,
   "metadata": {},
   "outputs": [],
   "source": []
  }
 ],
 "metadata": {
  "kernelspec": {
   "display_name": "Python 3",
   "language": "python",
   "name": "python3"
  },
  "language_info": {
   "codemirror_mode": {
    "name": "ipython",
    "version": 3
   },
   "file_extension": ".py",
   "mimetype": "text/x-python",
   "name": "python",
   "nbconvert_exporter": "python",
   "pygments_lexer": "ipython3",
   "version": "3.7.10"
  }
 },
 "nbformat": 4,
 "nbformat_minor": 4
}
