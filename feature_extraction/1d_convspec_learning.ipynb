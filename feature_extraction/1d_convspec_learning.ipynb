{
 "cells": [
  {
   "cell_type": "code",
   "execution_count": null,
   "metadata": {},
   "outputs": [],
   "source": [
    "import numpy as np\n",
    "import matplotlib.pyplot as plt\n",
    "import time\n",
    "import torch\n",
    "import torch.utils.data as data\n",
    "import torch.optim as optim\n",
    "import torch.nn as nn\n",
    "import torch.nn.functional as F\n",
    "from torch.nn.functional import interpolate \n",
    "from torch.autograd import Variable\n",
    "import imp\n",
    "import torchaudio\n",
    "import torchvision as tv\n",
    "import matplotlib.pyplot as plt\n",
    "from IPython.display import Audio\n",
    "import os, random\n",
    "import pandas as pd\n",
    "import mir_utils as miru\n",
    "from torch.utils.data import Dataset, DataLoader\n",
    "import librosa\n",
    "import pytorch_utils\n",
    "import pytorch_models\n",
    "#reload these libraries because I change them often-ish\n",
    "imp.reload(pytorch_utils)\n",
    "imp.reload(miru)\n",
    "imp.reload(pytorch_models)\n",
    "from scipy.signal import resample\n",
    "from sklearn import preprocessing\n",
    "le_major = preprocessing.LabelEncoder()\n",
    "\n",
    "SR = 22050//2\n",
    "#functions\n",
    "spec = torchaudio.functional.spectrogram\n",
    "\n",
    "def getMeanLength(x):\n",
    "    gl=x.apply(lambda z: len(z[\"audio\"]),axis=1)\n",
    "    print(gl.mean()/SR,gl.mean(),x[\"label\"].iloc[0])\n",
    "\n",
    "audio_df = pd.read_csv(\"../csvs/audio_df.csv\")\n",
    "device = torch.device(\"cuda\" if torch.cuda.is_available() else \"cpu\")\n"
   ]
  },
  {
   "cell_type": "code",
   "execution_count": 2,
   "metadata": {},
   "outputs": [
    {
     "data": {
      "text/plain": [
       "(array(['drums', 'not_drums'], dtype=object),\n",
       " array(['drums', 'not_drums', 'drums', 'drums'], dtype=object))"
      ]
     },
     "execution_count": 2,
     "metadata": {},
     "output_type": "execute_result"
    }
   ],
   "source": [
    "le_major.fit(audio_df[\"maj\"])\n",
    "le_major.classes_,le_major.inverse_transform([0,1,0,0])"
   ]
  },
  {
   "cell_type": "code",
   "execution_count": 4,
   "metadata": {},
   "outputs": [
    {
     "data": {
      "text/plain": [
       "tensor([8.1088, 1.1407], device='cuda:0', dtype=torch.float64)"
      ]
     },
     "execution_count": 4,
     "metadata": {},
     "output_type": "execute_result"
    }
   ],
   "source": [
    "# weights\n",
    "w = torch.tensor([len(audio_df)/np.sum(audio_df[\"maj\"]==\"drums\"),len(audio_df)/np.sum(audio_df[\"maj\"]==\"not_drums\")]).to(device)\n",
    "w"
   ]
  },
  {
   "cell_type": "code",
   "execution_count": 5,
   "metadata": {},
   "outputs": [
    {
     "name": "stdout",
     "output_type": "stream",
     "text": [
      "CPU times: user 1.57 s, sys: 13.5 ms, total: 1.58 s\n",
      "Wall time: 2.16 s\n"
     ]
    }
   ],
   "source": [
    "%%time\n",
    "#define a dataset\n",
    "class audioDataset(torch.utils.data.Dataset):\n",
    "    def __init__(self,audio_df,RSR=SR,transform=None):\n",
    "        self.audio_df = audio_df\n",
    "        self.minLength = SR\n",
    "    def __len__(self):\n",
    "        return len(self.audio_df)\n",
    "    def __getitem__(self, idx):\n",
    "        if torch.is_tensor(idx):\n",
    "            idx = idx.tolist()\n",
    "        row = self.audio_df.iloc[idx]\n",
    "        try:\n",
    "            signal,sr = librosa.load(row[\"path\"])\n",
    "        except:\n",
    "            signal = np.zeros(self.minLength)\n",
    "            sr = self.minLength\n",
    "        # resample to global SR\n",
    "        signal = librosa.resample(signal,sr,self.minLength)\n",
    "        # pad the audio length if too short\n",
    "        nz = np.max((self.minLength-signal.shape[0],0))\n",
    "        signal = np.concatenate([signal[0:self.minLength],np.zeros(nz)])\n",
    "        sound={\"signal\":signal,\"major\":row[\"maj\"],\"minor\":row[\"min\"],\"path\":row[\"path\"],\"sr\":SR}\n",
    "        return sound\n",
    "    \n",
    "data_train = audioDataset(audio_df,SR)\n",
    "train_loader = DataLoader(data_train, batch_size=32,shuffle=True, num_workers=0)\n",
    "d = next(iter(train_loader))\n",
    "# d"
   ]
  },
  {
   "cell_type": "code",
   "execution_count": 6,
   "metadata": {},
   "outputs": [
    {
     "name": "stdout",
     "output_type": "stream",
     "text": [
      "torch.Size([32, 11025])\n",
      "torch.Size([5512])\n",
      "guitar\n",
      "torch.Size([1, 30, 9])\n",
      "5512\n"
     ]
    },
    {
     "name": "stderr",
     "output_type": "stream",
     "text": [
      "/home/asalimi/miniconda3/lib/python3.7/site-packages/torch/functional.py:516: UserWarning: stft will require the return_complex parameter be explicitly  specified in a future PyTorch release. Use return_complex=False  to preserve the current behavior or return_complex=True to return  a complex output. (Triggered internally at  /pytorch/aten/src/ATen/native/SpectralOps.cpp:653.)\n",
      "  normalized, onesided, return_complex)\n",
      "/home/asalimi/miniconda3/lib/python3.7/site-packages/torch/functional.py:516: UserWarning: The function torch.rfft is deprecated and will be removed in a future PyTorch release. Use the new torch.fft module functions, instead, by importing torch.fft and calling torch.fft.fft or torch.fft.rfft. (Triggered internally at  /pytorch/aten/src/ATen/native/SpectralOps.cpp:590.)\n",
      "  normalized, onesided, return_complex)\n"
     ]
    },
    {
     "data": {
      "text/html": [
       "\n",
       "                <audio  controls=\"controls\" autoplay=\"autoplay\">\n",
       "                    <source src=\"data:audio/wav;base64,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\" type=\"audio/wav\" />\n",
       "                    Your browser does not support the audio element.\n",
       "                </audio>\n",
       "              "
      ],
      "text/plain": [
       "<IPython.lib.display.Audio object>"
      ]
     },
     "execution_count": 6,
     "metadata": {},
     "output_type": "execute_result"
    },
    {
     "data": {
      "image/png": "[encoded data removed]",
      "text/plain": [
       "<Figure size 1440x288 with 1 Axes>"
      ]
     },
     "metadata": {},
     "output_type": "display_data"
    }
   ],
   "source": [
    "FREQ_BINS=30\n",
    "TIME_STEPS=10\n",
    "RESAMPLE_SR = 8000\n",
    "#defining transformations\n",
    "\n",
    "class specTrans(object):\n",
    "    def __init__(self,num_mels=50,sr=SR,time_steps=20,amp_to_power=True):\n",
    "        self.sr = sr\n",
    "        self.amp_to_power=amp_to_power\n",
    "        self.num_mels=num_mels\n",
    "        self.ampP=torchaudio.transforms.AmplitudeToDB(stype='power',top_db=60)\n",
    "        self.melP=torchaudio.transforms.MelScale(n_mels=self.num_mels, sample_rate=sr,n_stft=None)\n",
    "        self.hop_step=time_steps-1\n",
    "    def __call__(self, sample):\n",
    "        \n",
    "        wf=sample\n",
    "        wf=wf.reshape(-1,len(wf))\n",
    "        sample_length=self.sr\n",
    "\n",
    "        num_bins=wf[0].shape[0]\n",
    "        win_length=self.sr//17\n",
    "        hop_step=self.sr//self.hop_step\n",
    "        window=torch.tensor([1]*win_length)\n",
    "        s=spec(wf, 0, window, num_bins, hop_step, win_length,2,normalized=True)\n",
    "        s=self.melP(s)\n",
    "        if self.amp_to_power:\n",
    "            s=self.ampP(s)\n",
    "        s = s - s.min()\n",
    "        s = s/s.abs().max()\n",
    "\n",
    "        freq=s\n",
    "        freq[torch.isnan(freq)]=0\n",
    "        freq=freq\n",
    "        return freq.detach()\n",
    "    \n",
    "    \n",
    "\n",
    "SCALE_FACTOR = 0.5\n",
    "i = np.random.randint(len(d[\"signal\"]))\n",
    "\n",
    "original = d[\"signal\"]\n",
    "print(original.shape)\n",
    "resampled_d = interpolate(d[\"signal\"].reshape([len(d[\"signal\"]),1,-1]),scale_factor = SCALE_FACTOR,recompute_scale_factor=False).reshape([len(d[\"signal\"]),-1])\n",
    "signal = resampled_d[i]\n",
    "label = d[\"minor\"][i]\n",
    "fig = plt.figure(figsize=(20,4))\n",
    "spec_tf = specTrans(FREQ_BINS,time_steps=TIME_STEPS,sr=SR,amp_to_power=True)\n",
    "print(signal.shape)\n",
    "transformed_sample = spec_tf(original[i].float())\n",
    "ax = plt.subplot(1, 3, 1)\n",
    "plt.tight_layout()\n",
    "\n",
    "ft=transformed_sample[0]\n",
    "sf=ft.detach().numpy()\n",
    "plt.title(\"Spectrum Features\",fontsize=20)\n",
    "librosa.display.specshow(sf,cmap='gray_r',)\n",
    "plt.xlabel(\"Time Step\",fontsize=20)\n",
    "plt.ylabel(\"Magnitude of Bin\",fontsize=20)\n",
    "\n",
    "\n",
    "print(label)\n",
    "print(transformed_sample.shape)\n",
    "print(len(signal))\n",
    "Audio(signal[0:5000],rate=SR*0.5,autoplay=True)\n"
   ]
  },
  {
   "cell_type": "code",
   "execution_count": 7,
   "metadata": {},
   "outputs": [],
   "source": [
    "      \n",
    "spec_tf = specTrans(FREQ_BINS,time_steps=TIME_STEPS,amp_to_power=True)\n",
    "\n",
    "adf = audio_df.copy()\n",
    "train = adf.sample(frac=0.95,random_state=420) \n",
    "test_and_valid = adf.drop(train.index)\n",
    "test = test_and_valid.sample(frac=0.90,random_state=420) \n",
    "# valid = test_and_valid.drop(test.index)\n",
    "\n",
    "train_loader = DataLoader(audioDataset(train,SR), batch_size=128,shuffle=True, num_workers=0)\n",
    "test_loader = DataLoader(audioDataset(test,SR), batch_size=256,shuffle=True, num_workers=0)"
   ]
  },
  {
   "cell_type": "code",
   "execution_count": 8,
   "metadata": {},
   "outputs": [
    {
     "data": {
      "text/plain": [
       "(45596, 2160)"
      ]
     },
     "execution_count": 8,
     "metadata": {},
     "output_type": "execute_result"
    }
   ],
   "source": [
    "len(train),len(test)"
   ]
  },
  {
   "cell_type": "code",
   "execution_count": 9,
   "metadata": {},
   "outputs": [],
   "source": [
    "class Conv_Spec_DVN(nn.Module):\n",
    "    def __init__(self,embed_only=False,dropout=0.075):\n",
    "        super(Conv_Spec_DVN, self).__init__()\n",
    "        self.embed_only = embed_only\n",
    "        self.dropout = dropout\n",
    "        self.conv_1d = nn.Sequential(\n",
    "                nn.Conv1d(1,128,500, stride=2, padding=5),\n",
    "                nn.BatchNorm1d(128),\n",
    "                nn.ReLU(),\n",
    "                nn.Conv1d(128, 128, 250, stride=2, padding=4),\n",
    "                nn.BatchNorm1d(128),\n",
    "                nn.ReLU(),\n",
    "                nn.Conv1d(128, 256, 100, stride=2, padding=3),\n",
    "                nn.BatchNorm1d(256),\n",
    "                nn.ReLU(),\n",
    "                nn.Conv1d(256, 256, 100, stride=2, padding=2),\n",
    "                nn.MaxPool1d(kernel_size=3, stride=2, padding=1),\n",
    "                nn.BatchNorm1d(256),\n",
    "                nn.ReLU(),\n",
    "                nn.Conv1d(256, 128, 80, stride=1, padding=3),\n",
    "                nn.BatchNorm1d(128),\n",
    "                nn.ReLU(),\n",
    "                nn.Conv1d(128, 128, 40, stride=1, padding=3),\n",
    "                nn.MaxPool1d(kernel_size=3, stride=2, padding=1),\n",
    "                nn.BatchNorm1d(128),\n",
    "                nn.ReLU())\n",
    "        self.spectrogram_layer = nn.Sequential(\n",
    "                nn.Linear(30*9,64),\n",
    "                nn.ReLU(),\n",
    "                nn.Dropout(self.dropout),\n",
    "                nn.Linear(64,32),\n",
    "                nn.Dropout(self.dropout),\n",
    "                nn.Linear(32,16),\n",
    "                nn.ReLU(),\n",
    "                nn.Linear(16,16),\n",
    "                nn.ReLU(),\n",
    "                nn.Dropout(self.dropout),\n",
    "                )\n",
    "        self.l2 = nn.Sequential(\n",
    "                nn.Linear(128,64),\n",
    "                nn.ReLU(),\n",
    "                nn.Dropout(self.dropout),\n",
    "                nn.Linear(64,32),\n",
    "                nn.Dropout(self.dropout),\n",
    "                nn.Linear(32,16),\n",
    "                nn.ReLU(),\n",
    "                nn.Dropout(self.dropout),\n",
    "                )\n",
    "        self.l3 = nn.Sequential(\n",
    "                  nn.Linear(16+16,32),\n",
    "                  nn.ReLU(),\n",
    "                  nn.Dropout(self.dropout),\n",
    "                  nn.Linear(32,16),\n",
    "                  nn.ReLU(),\n",
    "                  nn.Linear(16,2),\n",
    "                )\n",
    "\n",
    "    def forward(self, x_sig,x_spec):\n",
    "        x_sig = x_sig.float()\n",
    "        bs = x_sig.shape[0]\n",
    "        bs_spec = x_spec.shape[0]\n",
    "        x_sig = x_sig.reshape(bs,1,-1).to(device)\n",
    "        x1_1d = self.conv_1d(x_sig)\n",
    "        flat_spec = x_spec.reshape([bs_spec,-1])\n",
    "        x1_fc = self.spectrogram_layer(flat_spec)\n",
    "        x1_1d = x1_1d.reshape(bs,-1)\n",
    "        x2 = self.l2(x1_1d)\n",
    "        x_agg = torch.cat((x2,x1_fc),dim=1)\n",
    "        x_final = self.l3(x_agg)\n",
    "        return x_final\n",
    "\n",
    "    def init_weights(self):\n",
    "        initrange = 0.1\n",
    "        self.encoder.weight.data.uniform_(-initrange, initrange)\n",
    "        self.decoder.bias.data.zero_()\n",
    "        self.decoder.weight.data.uniform_(-initrange, initrange)\n",
    "try:\n",
    "    del cnet\n",
    "except:\n",
    "    pass\n",
    "cnet = Conv_Spec_DVN(embed_only=False).to(device)"
   ]
  },
  {
   "cell_type": "code",
   "execution_count": 10,
   "metadata": {},
   "outputs": [],
   "source": [
    "data = next(iter(train_loader))\n",
    "bs = len(data[\"signal\"]) # batch size\n",
    "signal = interpolate(data[\"signal\"].reshape([bs,1,-1]),scale_factor = SCALE_FACTOR,recompute_scale_factor=False).reshape([bs,1,-1])\n",
    "spectrums = torch.stack(list(map(spec_tf,data[\"signal\"].float())),0).to(device)\n",
    "\n",
    "\n",
    "outputs = cnet(signal,spectrums)\n",
    "# outputs"
   ]
  },
  {
   "cell_type": "code",
   "execution_count": 11,
   "metadata": {},
   "outputs": [
    {
     "data": {
      "text/plain": [
       "torch.Size([128, 11025])"
      ]
     },
     "execution_count": 11,
     "metadata": {},
     "output_type": "execute_result"
    }
   ],
   "source": [
    "torch.stack(list(map(spec_tf,data[\"signal\"].float())),0).to(device)\n",
    "data[\"signal\"].shape"
   ]
  },
  {
   "cell_type": "code",
   "execution_count": 12,
   "metadata": {},
   "outputs": [
    {
     "data": {
      "text/plain": [
       "torch.Size([128, 11025])"
      ]
     },
     "execution_count": 12,
     "metadata": {},
     "output_type": "execute_result"
    }
   ],
   "source": [
    "data[\"signal\"].shape"
   ]
  },
  {
   "cell_type": "code",
   "execution_count": 13,
   "metadata": {},
   "outputs": [],
   "source": [
    "checkpoint = torch.load(\"models/1d_conv/0.280_0.0156_.checkpoint\")"
   ]
  },
  {
   "cell_type": "code",
   "execution_count": 14,
   "metadata": {},
   "outputs": [],
   "source": [
    "# criterion = nn.BCEWithLogitsLoss(pos_weight=torch.tensor(np.log(len(ecg_paths)/np.sum(ecg_paths).to_numpy()))).to(device)\n",
    "loss_func = nn.CrossEntropyLoss(weight=w.float())\n",
    "lr = 0.001 # learning rate\n",
    "optimizer = torch.optim.Adam(cnet.parameters(), lr=lr)\n",
    "smallest_loss,smallest_vloss = 1,1\n",
    "# scheduler = torch.optim.lr_scheduler.StepLR(optimizer, 1.0, gamma=0.95)"
   ]
  },
  {
   "cell_type": "code",
   "execution_count": null,
   "metadata": {},
   "outputs": [
    {
     "name": "stdout",
     "output_type": "stream",
     "text": [
      "[1, 0] val loss: 6.21472, loss: 0.69479\n",
      "[1, 5] val loss: 6.00929, loss: 0.67447\n",
      "[1, 10] val loss: 5.66228, loss: 0.62927\n",
      "[1, 15] val loss: 5.05988, loss: 0.60553\n",
      "[1, 20] val loss: 4.34633, loss: 0.45948\n",
      "[1, 25] val loss: 3.60294, loss: 0.34949\n",
      "[1, 30] val loss: 3.08462, loss: 0.35207\n",
      "[1, 35] val loss: 2.24941, loss: 0.23864\n",
      "[1, 40] val loss: 2.33326, loss: 0.27275\n",
      "[1, 45] val loss: 2.35916, loss: 0.20038\n",
      "[1, 50] val loss: 1.96934, loss: 0.16870\n"
     ]
    }
   ],
   "source": [
    "SCALE_FACTOR = 0.5\n",
    "num_windows = 5\n",
    "window_shift = 300\n",
    "smallest_loss,smallest_vloss = 1000,1000\n",
    "step = 0\n",
    "for epoch in range(40): \n",
    "    for i, data in enumerate(train_loader, 0):\n",
    "        train_loss = 0\n",
    "        bs = len(data[\"signal\"]) # batch size\n",
    "        signal = interpolate(data[\"signal\"].reshape([bs,1,-1]),scale_factor = SCALE_FACTOR,recompute_scale_factor=False).reshape([bs,1,-1])\n",
    "        spectrums = torch.stack(list(map(spec_tf,data[\"signal\"].float())),0).to(device)\n",
    "        optimizer.zero_grad()\n",
    "        outputs = cnet(signal,spectrums)\n",
    "        y = torch.tensor(le_major.transform(data[\"major\"])).to(device)\n",
    "        loss = loss_func(outputs,y.long())\n",
    "        loss.backward()\n",
    "        optimizer.step()\n",
    "        train_loss += loss.item()\n",
    "        if i%5==0:\n",
    "            with torch.no_grad():\n",
    "                val_loss = 0\n",
    "                for iv,datav in enumerate(test_loader, 0):\n",
    "                    bs = len(datav[\"signal\"]) # batch size\n",
    "                    signalv = interpolate(datav[\"signal\"].reshape([bs,1,-1]),scale_factor = SCALE_FACTOR,recompute_scale_factor=False).reshape([bs,1,-1])\n",
    "                    spectrumsv = torch.stack(list(map(spec_tf,datav[\"signal\"].float())),0).to(device)\n",
    "                    # zero the parameter gradients\n",
    "                    optimizer.zero_grad()\n",
    "                    voutputs = cnet(signalv,spectrumsv)\n",
    "                    vy = torch.tensor(le_major.transform(datav[\"major\"])).to(device)\n",
    "                    vloss = loss_func(voutputs,vy.long())\n",
    "                    val_loss += vloss\n",
    "            print('[%d, %d] val loss: %.5f, loss: %.5f'%(epoch + 1, i , val_loss,train_loss))\n",
    "    #         writer.add_scalar('Loss/Training', train_loss,)\n",
    "    #         writer.add_scalar('Loss/Validation', val_loss)\n",
    "            if val_loss < smallest_vloss:        \n",
    "                torch.save({\n",
    "                'epoch': epoch,\n",
    "                'vloss': vloss,\n",
    "                'model_state_dict': cnet.state_dict(),\n",
    "                'optimizer_state_dict': optimizer.state_dict(),\n",
    "                }, \"models/1d_conv//%.3f_%.4f_.checkpoint\"%(val_loss,train_loss,))\n",
    "                smallest_vloss = val_loss\n",
    "                smallest_loss = train_loss "
   ]
  },
  {
   "cell_type": "code",
   "execution_count": null,
   "metadata": {},
   "outputs": [],
   "source": []
  },
  {
   "cell_type": "code",
   "execution_count": null,
   "metadata": {},
   "outputs": [],
   "source": []
  }
 ],
 "metadata": {
  "kernelspec": {
   "display_name": "Python 3",
   "language": "python",
   "name": "python3"
  },
  "language_info": {
   "codemirror_mode": {
    "name": "ipython",
    "version": 3
   },
   "file_extension": ".py",
   "mimetype": "text/x-python",
   "name": "python",
   "nbconvert_exporter": "python",
   "pygments_lexer": "ipython3",
   "version": "3.7.10"
  }
 },
 "nbformat": 4,
 "nbformat_minor": 4
}
