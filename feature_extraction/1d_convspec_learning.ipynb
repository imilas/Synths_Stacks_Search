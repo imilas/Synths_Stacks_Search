{
 "cells": [
  {
   "cell_type": "code",
   "execution_count": 4,
   "metadata": {},
   "outputs": [],
   "source": [
    "import numpy as np\n",
    "import matplotlib.pyplot as plt\n",
    "import time\n",
    "import torch\n",
    "import torch.utils.data as data\n",
    "import torch.optim as optim\n",
    "import torch.nn as nn\n",
    "import torch.nn.functional as F\n",
    "from torch.nn.functional import interpolate \n",
    "from torch.autograd import Variable\n",
    "import imp\n",
    "import torchaudio\n",
    "import torchvision as tv\n",
    "import matplotlib.pyplot as plt\n",
    "from IPython.display import Audio\n",
    "import os, random\n",
    "import pandas as pd\n",
    "import mir_utils as miru\n",
    "from torch.utils.data import Dataset, DataLoader\n",
    "import librosa\n",
    "import pytorch_utils\n",
    "import pytorch_models\n",
    "#reload these libraries because I change them often-ish\n",
    "imp.reload(pytorch_utils)\n",
    "imp.reload(miru)\n",
    "imp.reload(pytorch_models)\n",
    "from scipy.signal import resample\n",
    "from sklearn import preprocessing\n",
    "le_major = preprocessing.LabelEncoder()\n",
    "\n",
    "SR = 22050//2\n",
    "#functions\n",
    "spec = torchaudio.functional.spectrogram\n",
    "\n",
    "def getMeanLength(x):\n",
    "    gl=x.apply(lambda z: len(z[\"audio\"]),axis=1)\n",
    "    print(gl.mean()/SR,gl.mean(),x[\"label\"].iloc[0])\n",
    "\n",
    "audio_df = pd.read_csv(\"../csvs/audio_df.csv\")\n",
    "device = torch.device(\"cuda\" if torch.cuda.is_available() else \"cpu\")\n"
   ]
  },
  {
   "cell_type": "code",
   "execution_count": 5,
   "metadata": {},
   "outputs": [
    {
     "data": {
      "text/plain": [
       "(array(['drums', 'not_drums'], dtype=object),\n",
       " array(['drums', 'not_drums', 'drums', 'drums'], dtype=object))"
      ]
     },
     "execution_count": 5,
     "metadata": {},
     "output_type": "execute_result"
    }
   ],
   "source": [
    "le_major.fit(audio_df[\"maj\"])\n",
    "le_major.classes_,le_major.inverse_transform([0,1,0,0])"
   ]
  },
  {
   "cell_type": "code",
   "execution_count": 6,
   "metadata": {},
   "outputs": [
    {
     "data": {
      "text/plain": [
       "tensor([6.2725, 1.1897], device='cuda:0', dtype=torch.float64)"
      ]
     },
     "execution_count": 6,
     "metadata": {},
     "output_type": "execute_result"
    }
   ],
   "source": [
    "# weights\n",
    "w = torch.tensor([len(audio_df)/np.sum(audio_df[\"maj\"]==\"drums\"),len(audio_df)/np.sum(audio_df[\"maj\"]==\"not_drums\")]).to(device)\n",
    "w"
   ]
  },
  {
   "cell_type": "code",
   "execution_count": 8,
   "metadata": {},
   "outputs": [
    {
     "name": "stdout",
     "output_type": "stream",
     "text": [
      "CPU times: user 1.32 s, sys: 15.7 ms, total: 1.34 s\n",
      "Wall time: 1.87 s\n"
     ]
    }
   ],
   "source": [
    "%%time\n",
    "#define a dataset\n",
    "class audioDataset(torch.utils.data.Dataset):\n",
    "    def __init__(self,audio_df,RSR=SR,transform=None):\n",
    "        self.audio_df = audio_df\n",
    "        self.minLength = SR\n",
    "    def __len__(self):\n",
    "        return len(self.audio_df)\n",
    "    def __getitem__(self, idx):\n",
    "        if torch.is_tensor(idx):\n",
    "            idx = idx.tolist()\n",
    "        row = self.audio_df.iloc[idx]\n",
    "        try:\n",
    "            signal,sr = librosa.load(row[\"path\"])\n",
    "        except:\n",
    "            signal = np.zeros(self.minLength)\n",
    "            sr = self.minLength\n",
    "        # resample to global SR\n",
    "        signal = librosa.resample(signal,sr,self.minLength)\n",
    "        # pad the audio length if too short\n",
    "        nz = np.max((self.minLength-signal.shape[0],0))\n",
    "        signal = np.concatenate([signal[0:self.minLength],np.zeros(nz)])\n",
    "        sound={\"signal\":signal,\"major\":row[\"maj\"],\"minor\":row[\"min\"],\"path\":row[\"path\"],\"sr\":SR}\n",
    "        return sound\n",
    "    \n",
    "data_train = audioDataset(audio_df,SR)\n",
    "train_loader = DataLoader(data_train, batch_size=32,shuffle=True, num_workers=0)\n",
    "d = next(iter(train_loader))\n",
    "# d"
   ]
  },
  {
   "cell_type": "code",
   "execution_count": 10,
   "metadata": {},
   "outputs": [
    {
     "name": "stdout",
     "output_type": "stream",
     "text": [
      "torch.Size([32, 11025])\n",
      "torch.Size([5512])\n",
      "stacks_1\n",
      "torch.Size([1, 30, 9])\n",
      "5512\n"
     ]
    },
    {
     "data": {
      "text/html": [
       "\n",
       "                <audio  controls=\"controls\" autoplay=\"autoplay\">\n",
       "                    <source src=\"data:audio/wav;base64,UklGRjQnAABXQVZFZm10IBAAAAABAAEAiBUAABArAAACABAAZGF0YRAnAAAAAAAAAAAAAAAAAAAAAAAAAAAAAAAAAAAAAAAAAAAAAAAAAAAAAAAAAAAAAAAAAAAAAAAAAAAAAAAAAAAAAAAAAAAAAAAAAAAAAAAAAAAAAAAAAAAAAAAAAAAAAAAAAAAAAAAAAAAAAAAAAAAAAAAAAAAAAAAAAAAAAAAAAAAAAAAAAAAAAAAAAAAAAAAAAAAAAAAAAAAAAAAAAAAAAAAAAAAAAAAAAAAAAAAAAAAAAAAAAAAAAAAAAAAAAAAAAAAAAAAAAAAAAAAAAAAAAAAAAAAAAAAAAAAAAAAAAAAAAAAAAAAAAAAAAAAAAAAAAAAAAAAAAAAAAAAAAAAAAAAAAAAAAAAAAAAAAAAAAAAAAAAAAAAAAAAAAAAAAAAAAAAAAAAAAAAAAAAAAAAAAAAAAAAAAAAAAAAAAAAAAAAAAAAAAAAAAAAAAAAAAAAAAAAAAAAAAAAAAAAAAAAAAAAAAAAAAAAAAAAAAAAAAAAAAAAAAAAAAAAAAAAAAAAAAAAAAAAAAAAAAAAAAAAAAAAAAAAAAAAAAAAAAAAAAAAAAAAAAAAAAAAAAAAAAAAAAAAAAAAAAAAAAAAAAAAAAAAAAAAAAAAAAAAAAAAAAAAAAAAAAAAAAAAAAAAAAAAAAAAAAAAAAAAAAAAAAAAAAAAAAAAAAAAAAAAAAAAAAAAAAAAAAAAAAAAAAAAAAAAAAAAAAAAAAAAAAAAAAAAAAAAAAAAAAAAAAAAAAAAAAAAAAAAAAAAAAAAAAAAAAAAAAAAAAAAAAAAAAAAAAAAAAAAAAAAAAAAAAAAAAAAAAAAAAAAAAAAAAAAAAAAAAAAAAAAAAAAAAAAAAAAAAAAAAAAAAAAAAAAAAAAAAAAAAAAAAAAAAAAAAAAAAAAAAAAAAAAAAAAAAAAAAAAAAAAAAAAAAAAAAAAAAAAAAAAAAAAAAAAAAAAAAAAAAAAAAAAAAAAAAAAAAAAAAAAAAAAAAAAAAAAAAAAAAAAAAAAAAAAAAAAAAAAAAAAAAAAAAAAAAAAAAAAAAAAAAAAAAAAAAAAAAAAAAAAAAAAAAAAAAAAAAAAAAAAAAAAAAAAAAAAAAAAAAAAAAAAAAAAAAAAAAAAAAAAAAAAAAAACAAYACwASABkAHQAaAA0A8P++/3j/If/D/nL+R/5h/uf+AADkARgFgixRGM6wVhNaNRq1KPV6Nnm9J9tAT4zaGtbQURLzK9BaT0IYWbeUOi0i5LAcJiYq+ayc+f0/BLiV6lpJ5MU/3k5PG9o/1f5PBfENzTlJ1gblw1Y68hgHulolkydus14mpSppsIgP/DP8uIj81ULMu7TtbEtsyJHgClF93E3WS0lx7WrIY0mt7hrM40boAoC7lT9mAlHClDjiFrm2HDcmHt2t1SH3J8O1SieWKriwlQ+vN+e47xMSOSi3Jf+uQ9O/nf7DQ5TAJf9qQ/++mvuuO/TGm+nDSn/N1eufSnbMmuqGScXLM+pOScnLQOpCSbPL9OmmSOPKzegPR7nIVeN9VZDanOd7RivKUemfSPLLiOpeSYTM5eqBSY/MvuofSSLMPOqbSOPLV+o+SYjNhe03UPnEe/5DQJq9T/tlP/i9O/zpQETBPRFENjG4rBCaNKK19w1pM5270yWWJsKynh6KHNi6dzJbELeuciZr/N25DT0qA4bDvEZQ+h3XtlTN+6HVOkxU4t7hW1au1LnvLEwW0gr7jj7dv3YOMjJDtCULDC+rtvEd2BlluLEvvg7NrLw1Lvyxt/U9/epgyGBA/tjR3Ds+uMjC8xg4LbxPDf8tfqykIk0xxbD0IKEQB8DJRTEImMAnPvbtN9ihUw3Rn+x8TVnFsf4jRL3BbClqJiuxFDWDHzvCUkR48qzN4k2B5UXmakmp1kj8eT7Kvm8Zr0MXz0tGhyPIw+BGNvSTyr87GMwax3gpKqy6/p0ljabyCTcJoaufL87mXcpHR4jZ7dnVQDfFohUlN5W1Mx3KIADCb0UI/yzeI05W49PogFC50i0dRTkGu5YzARHgzohNP+SI4lJRw9Er+l1DocGYIXYYdLQSO5j3idT+RSXMgPJzMiSxYBy8HKC4PzWX5/XGiUOHzRnxdDO2slcUsA8HtGg7ufEeyxc8hsRSAjwrHbUfKr8BybgNMU3JNs2oLNqoR/LGGhuzAE6xE6L2qG4+9rMWD1aM14w7/iq33oZXNPEZ95xYk9HmI6ocLb1KPVLzldOkS/G/HP9wHo2sqyUO7vTEwDIjvX7nmitdsjwpPP6Us/8sx71G7L409bcqJov+Z8DnQmDN7/a+OUS0fyizBg3KKEpP1xz6fjuuxN85WhFM0MVNLtnqDLQw4cIgPV4IguGrUMHLihJJLnbLaUvsATDe/D5uxV8mpShCyPVMrfQHDsda/N/NVsop39PBN222teOiAAaJrgm9xE+ubRr0oiH8B/CBrXsqI7Wk4DQsJLiNKaHyE9aePmbKPCf7JE3IDlBP3U8GN08r2fVG8QvV6Y9MQ9YtMcEil94LW7ziARShN6nGakcB67voJ0YQxDc35Q1PychDqcF4FqMVCrudQOjM+Pw3G5KrpDPV3ermSClGrKkcdOo/0gs19bfKDAf/or3dO9q/LwFzGGm0RjkAyqb9jB1YplkcOrrqv0AENJR1H0nWs+v9YMTvqGjXOREd/Hbu6btTkh+2AWx0/u31OsQqhuXvVlXSQCU8FEvJVjs3vE8TDQihwTAxt64yBlkD+6SFKrq9ou2jBgGmyCriv070qA3IqZYtm8Id9w0X77oBPqq8hBBRCLvLdUZKyDoaTw/40W9LNs9iJvAbRNj5TLTRYisXJIvlcEhryOY5QgxI8UlP0c1xOyIGt+ciS8fRx0oN8YH4+TlzykdQYe5DJhpLAPCtbZL6tSH9IWjDBR7AjjXcotMemckB/4oQ/kLM9rDFFfqdUBixw67QDBXvuSg9MdBXAmcYt9ODRrzNaDo2DELwnE2szFNM4f1eCCtDa90CV73lkSmlIgrkO1c00tw38wYr9489BckWQh7bBAy1JXvECj+DxTAU6vZw2L83973dM5Tb8vGuEZG13S+NufkNy/Gqz5AsqrTIL3HV/PXLD0mzEzCEuPQgQ/WN4nsiKKxiLOq/r/0T6ouksAf7lywUheUEB+5Wl/4Ef3kE4mY9NGIckFh/4S1k/fxsP1o0j/VOUKzK8z6e7H0EJhi90Q0+zbgTIBDbXeBuF2uxeySLqQ8PuuOt0lgRUa42KOOudBUz6KrVRRqLqxwvLLpJDwj7veZDJ0+1MTpQyaAdQwUA8OkyGcLQRETSuyaXD9z4lzeSxUBKFdcxOpgJ+faJNmzV8U9M2DE6avY2/ZI13dMBTZPQ6zU482cLHCKr5ytkre5CajgFXTsFITHULSLFl+0E2ZYe1/7Cp7W5+96ftRPim0j+7cGl36X5tLxYMM61hTEN1MoXNQX98/s0BMesS9DbYUFgAp8XZyub7/xOStYeUATxlC5nFCv/OT3o3uBS6NEgRLHijRDoIA/huz7FxiQ/Gsd1J5voZ//hELPPwiycuD003r2dHoHeYvKJBALIGihptSsxXbn7Fy7aLPKEBi3Lxiq3tRgw77sYHnXhqvj6CN/Eqxp1n8gTuJk4+jbFj+w+FdDv6GK4/f9/vQEeb2EK5UXeK60UB1Cf8WZheeIRU0HuKDg683gEORUP2G8zVby1Mgq6NyQjw5sBfOtF1v0P6rBiI9yt7idFs6oQ/tJ46YLwJ9ucGDe9OC/vsl8uob+bIr7mtPyHBI7ueij5ywxA1sYkQtnQYC/U8vAcegrP96ozYthSSpfT8kvI2pI5xegpJAsN8Ab0H/jmDELtzrVEuM5qQwHYNTdO/c0YeygWG5Ba//5vVOrSSjghqpIHIpyh5nirPMVS0TTAVv7BpzoJP5vJF8Gj/hhFwLEVD+BA+mYDYu4EIwjmUkFN0a9GSNJxTwXjp0Jx9aowNQcXGngtL/vTO9nlVkXg11BSSNp7SQDdSzeS5Uke5PXBCaIcmOjcJSfOhS0UwFgzyrqVMNu+1yexyuYYYt6ZBdfx4evZA6fUaBY6wgsig7UtKbCyPyruuyAnGcwGGkffIAfT9F3t5v7lxSL8Op9T+ZiiSx0evYhH7OQlZGoD7W/mEq9bLhyNPlkoMSFoK/sUskJ2/mBMmumgP03NuTpbw5c5IMMGLwLBCiWsxr0QaNTW+R/Wpuqo8JrlGvrdyGEAY8VsG8rAZBwmsWklWrksMAO6hC1rwCEt+cjDJMrYjSUf7AAT3PDKBsIOBAVHDfz3/CnK9Bgx5t2hOqHjYz+T1HpGS9g7R0fTe0hH04hFqdfuP1HXLT0a42Mvb+VuNerwdzO1Fl9ArR1qPG4bygFy9gXZqtHLvvzERb7vy0G8uPB2vGjxG73/8lfBgPqOy28GOdhmEmviWRpu6EAfa+3TJGvzryrR+EQvVvykMRD+dzNTC5UYhRE3GyISchpiEDEYBR6i+ysfovqpHND2mCor4KEqct9KKhrPajKJyWgt1sMmMBC+vS/Vu6YoLbzRJjHLCyB4zv4Gw9XJC/vkE/P//BjeVwRk0N4YUcwpJbLBqCp4vgouorvQHD24xQMKrcXl5Md25bsDbfpQRckLxm1aCmB0p/7VZgD7a1SDBt0/fxncJNMpogSINnHbTT18zbg6gc1qJO7UeQw35eDgAQEWyHkbrrNmHkWuyRhlwGsOEeGa2xL9HseGHXq5DCj7wfkc4NAR/6j1fu6kIZ7JAjUCx2kzreSNHWX5SfifLkDaB0Df1Kk9+evaFp0LIwPMNAPcOkYD3Y8tgPaRG54dtOhhPz3UJzwy6osU8hkM6s02MeXHV4X4+0+mJRwZvDyl0Cck/6dn6ja4OrLG6JiXRgfqo2f3l86auJYOnKY3Eh7Ht/eCAsrUSS8+yK0rSP/Y+iYv+tqqRizh0CfPKMj0iUp24StJkwTOBDk5XeMgShr3ox1UH9jojUNt3NkrBAGY6Ns5RM3mKuH6D/MsJeHH6SwT5zHmfhn+wmskutQI7kgbw8GQIZfRDOuqGM2//h+40MjqHRlzwVAjPuF/478aZcFoJ1vixd5zHHGvqQa20NWyqgVyqt/7aA8D8HpebQ6mQ91c9wZTZP0ctRgCWSr1IkbbLNf69FLa7zAXNSn90XcwpOui6NQoPcdnBxUFL8C6IPnYx9SLFaKzHgZi8e+2HRyjy3Hhghybt3H92QEGws0hLuCU4CEkQcd1CvQbEshJI2cIadmHMyTmpv31ODHUAhjaKn/XUzHbBWvsTkBl77UEeT/h3qMfyjGA2Gw1KhkN2645KPg55aw7luwsA9hAT+xMH6NBm/XiPStOavHkOQkKpbZD/na8J6Da9e+2saiaBdSswMqZCXOyXc9YEP29r+8FD/zAZgmPIarOoRMMKurWWhyXM5bhHjINHn3k7T3MI/DmZj5eIyvmLz3aITLkqzqcHmXgHDYAGtHbqjFOFSLYBxQmJ+nQHhHpIuvL7QsXHurHkgj4G+7Lg+dvJNzN4ueqI17LxeKeIS7hY86bI7ThnMz0FiL+tsO5GxQEysQxBZEXWsEz7+ggB8CLz/0AtcA+sAoRoPJ50gJBTz0VCwVR22LHDxQmFWAoFPMEuFreKfzwGESQNtvfhRptNeDck/HwLt7u9M23HkoCfb4y+v4XH8SozOIcmeoytC8LlQPCs//laR7H03jFQxbA//DAU/8TH6jOCtsaLzz/h8tLCuojNt/B6ps6Awpu1bAVPC7q6C7yfkFEEMvalBcCOjnqpfNUPXwgwd84DaZDA/eO5WotvyfY3xH87DpoDMPY9xjjQQEFvf8FUdxMoP9dDnk7qPgpr+3ZEvCrp8abBO1E7FWtZbdZAjro4Km+1QgRNuWguDX7HCKr78/SeRuSLMTwgOJBL0ssyuy89kJBPzcW8Hz5GEPJJ5PvjQanP1slI+UBDqhFgRZU3PIHzD5MD1/UGQF/OJYKX89b+7wwcQPOz3zqsCAFCHLM2OPQGi8TDco60wgbDQ+Qy2HSbwveGF7a6cfeA/ohqd7bxqX/5h/g+C3C5u50IrQE1MU/wZj8mO/nuD6tGPVoIZoCsfmHMWlxY0f+Eq8YF1gnTpsWefzuM2BQiCnf86QJnDnOLMnttNDaEl8tVQF/yyTf6RZoEKvaEr/v9AwTEO8Av8nHXf9BGRDVarkY4hQV7RCb2WO/FAF8HiP6kc061fYMXiadBALXGuXlKzYkzO1K1mv/zzKvLFL2ad20Ago24y4h/CHhKQfoNEUvGfoi5LYHWDf0K/r3Wd84B7c1xyvk8xfblQOSOJA3+wjp9/og9EeYWHslad27zc/qJ/duyQ6aCKHX163xbPKTwf2r1tBcAq39FN7quV7LoQmkKDUJiOj400b9HzWjL48Mr98M7wkpUEjbL/j92uJOC7sx0EpYINbsKfN3DFc96TXMD3Hh0egNGMsvBCnr+SvfsuKRD2EjyR/37bzVFdZvBsYc9Rp46dvN69BcADQYghNz4vnLAtDV84IbVRJO+QLPlcrM6kMJsSMcAcPlnsnk3FMGdRdMD7fWzbN6s/XJugBLE34HSf7+9uUYeUkzYexWdDnmCG8ABh10NfFJdUdEJSj0XOxzARMePy6ZLAAB9dIZzcntGwt6HCwWiu2pwZu+y97a+qYUvQxE9rPOJ8CexZ/xtBhGGHsBs9vIyiTYQOt/CVIbwRyMCAjoz9Y73BX2shonL9wstAzN7PndYN6HBmInIj01NecOauof4ETpUAf6JvI1aC0AGZz8bufn4DL8aBZMKgownCFgC3Tyqepm8/YUODiWU0JMpSxD+E/OL7J5sTu+sdh57v76K/Iz2xnAQ7Fft+POp/D7CgwY9ArDAFTlp9Yq1qLtwgXfGkgp5jMfKrUX2f8D7KvlLfjyEzgqrzr6OwIrxxt9BJz5A+od6m79YgWkJCYy0DvoJIYG0ekp3Pjf+OIg74f4ow6AIi4lJBUlBT33bNr1yzzJSNvp7Kf1+g8IFv4cgwyqBpb4Qt6KyL3SM9ab4TL2ZgYACfQamCBgDZb4m+V2xlWz9buHxAjbnwHzFvYz3U0VTuhUHkc7NGcghw3AC40Fs/trCC4AeRQ1IG4eYSeaHY8aAhIhBy7/kPE867jZFNduz9jdv+ES7+Ls1vXS+z8IUQxVBif/nPTj62PxL+Up60Lg2ONL26Dsy+tG/nX+BAh+BrQF/BKwEIwgcQ/8EOMDrgfyCsAEJwPa9v/6AgGZ+sAMYgY9/V8KEgkfFDsQow80Dz0XlgwPEM0Q4hIfEToL9AR6Ecgc0R1FIIcdHQ2F/cr2A+yH0eLUx86nzvnNa+I15Nrgxd4w5NnjX+QS7mTwVfsA8Ib20/wSDD0J+gG0+w0Faw0nGlkHhQgcCn0PUxS8Fk8N/A1DD5wLdw+8ECQY9hHHAqQB+wfkCnkTRwx/B03+4QH2AGH6iQKH/xz8L/1u/g3+Xf79+rP5lvOp9dL1fP0R+fX2Qe2+8rj1BP96+AD1sO2F9Ev4bv1v+Jn1Z/MO9tP4bfm5+e/01/HP7xvfpNyl54XrGPYw+xsQ+CEeO9Yv9yZTGZkaKhpOKGwf/Rk1FDsR3Ba8FgQUowsXA0n5+P+RAGIFZvef+mPyI/iP7Mr6OvgY7x3l5+0r++fy/e2Q9uHqM+vr9zv1VPNi9nv3Aurp+1v9tvuLAa0CMO31+5z9bAmLDPb8IADi/nsBpRPsBmoGEgL9A4UKLgZ0D1MDhgt4A8YIXQvpE1IILwxoBUsAugMHBSYTHwfmAF7/eQbQFOAUixxwE0YZdxFBFj8JMfNv74XevN+V1Ybaqem03krpNeFc3jLs2fET6mHzr+Go8Hf+Xf/uApwASPQTB64FNwVyBvsO0Qy2Af4NNw1FE6ALzRaqBtID6Au5GRgTCg4f+ucEYhNVFHYDDwSp//gEUwVyB8//2f1BBkH+AP6y/TT6ifsd/H77Mvl7+JwDyP1K8WbrefWz+c0A8f5M9qbuCfVx+UL9J/vM+Kb4Sfid8q74bQGR/Wv6X+zA7HLqiPPq7FjvXudH+DwI5xwrHYYdWRj/HCUdnho1GaIWGRUHEk0T1BqFGLAP+gvA9ff9NgDyCQcIH/+b8Z7xePj3AEz+BvWu7c3sQfTG9zb89vVN6i3ttPs59tPztvcA/wvvtvCg98kHwAJC9n7szv9A+bUJxwhU/7/3/f/XCfwCIQzIA538PwEcCIMAXxPXBWsJ/gAp/qoMUBSdAx8I8vp6BxcDCBJmC5n9wQGt/mIHdQ4EDKAFiwqlEuINFxmFFlQSCfxu8Rnmx+s76t/nPd5U3l7oI+pV/UjuNvBX3yjubO0K/aADZfkIAG70ev2XBLj+QwztAxYFxwUkAYULrRXxDA4LdQEoAFYOexgRCfYJRAI5B58HuhVFBCb8lgNgCvwBTP7eCtUKev778Y0A+gTwBAn6QgF88pv8EPwuBCj8Y/537yT8ffeJ/9b5ZfdT+yT3s/uO9dr5YPx/+4b1HP52/cwL3Pvg+gnmbfQh9O4BdvKZ6nnmIO8m+3oRhgpwDpAVTBJOGPcbWBP0EF0RvA7DCZ8Mwxq0Eo0Mqvrj/3UI2Q8qBAP9dusV/hcB2QYk/oP9ZO+h86j3W/h69UP7QPn676TzA/Tg/fUA+vtr7Dj1d/rDCZoAY/Uk7wj6BwBHCNgAtfxs+Yb9+AGTBKcKogSKAy37AgCxAR8PAglSBlL3VAAqBegTVQmLA5T3BwKTBz4Pzga4AYz97wClBMoFWghzBbQGyQB3CGYM2BpsErAISfZ2+cD3+QAp8lzqGN7Q6Z3wPvew+MbxzOxQ8Pj02Pd0/eT6KfuO81D5cftpCYgJqgLJ8yv+ZATZGkwJnASR+UAGRwjTEd8ICwMd+gcH/Qn/CqARHAQtBOL6ofqMBMIQiQkYAd8BgfRyAfn80wzHADgExvGl+s384AsIAtT1AfGn/dX6UgK1//n4x/kY98362f92AJn+6f0n8Cn8V/dGC8cCe/7887/3JwLiBjj9te/05zHu8PZ9+Ab/JgOIBOYLlA5nFv0YIBhPDSb5NAQCAaQXVBHwCmH9xAYCCjMUJv9u9Xn1hQMSBTEIzwIV9rXx6vcVAen+Gv/x9az7l/EL/A/3PQPX+4r/9/Jz91r3wgMeA7//HO5e+ZL/NQt3ARf34f0YAOn7+PooDmkIL/748rwCqgDXC2QJZAjp7kv5MAnrFd7/KAXa+U37EgbzDyQBKwLgA7b0OwP+BCwIywmVBrvt6gEGBEwX+Q9rAhX9cgB3/W0Ra/s690/mf+zS/v/2EQHD84HxW/Sl9af7ev4WA1X4yPPO8kIBPApfAl4HC+ohAs795RdvAKkFSPHHBj8BcxG6AYEIj/sgBAP9EQVXEUMCcgro8CYCmftvFlwFBwS07rT/ugWjCXYKifdD8t8AEgCpCXn99AEi/iTxpQGD/W0HJASK+c71c/qx9XoRVQCl+4TzA/s8/PUP7Pri9or2ofqv/jcM1A3W+0389PXt75b5dACc/AT+dQNq/Nn6dwM5GqcQcgJE9DYGJgiFEMYHQwmg9Cb8EQXkEA4KmwBt8nv7dwHvCHEH/viK/Ur0qwG8/ZwMQ/4F/27t+ftL/nUPJvsW+rftr/uUBbYLAQCl+tjwfvqUAdADxwe7Ak//7PN1+qX9HAhrBaQDSPBT+/gAqROJDGb/8e1V+zUD/A3dA+P97vik/bACTARUB4MC5gHo9s78YP5WD7sGugK07lX6qwAxFK4GgP8p8AD+NQWBD4X+U/uu9sj6Df8CAEECXQT6/lXyYPiG+uoFOgOiAcrtrPjmAzYT5AMT/bXogvvRBNUOvgjA/cf2AfUBAJgDJw4HBGsB/fLr/OYCBhKRBj37EOzn+dAH7BZe/278QPRp/TX+4AzABhj+VPV5+VcBAQfwB+L8zARW9i74QPy0EfgJavze7LH6Mf/QD4oKkP6R6ZkADAQTCmgHhvyI8jUAegG+/soKvAHM/Bv6ovxE+rYV+gF8AsvuYPGoAnwRwQP0BJrr4gAI/8kMRgTP+mX+nfhZAxL/EQRiBcn+zvol9T8AtQwhCTr86v8g8uL7tfpLEjYMAACq6XD4uAgIELwE1fxf7K8AQQSiBroBvwFO98v+lPl9AkMKUAO5BknrVf8n+S0XJwbR/sruKvX+B5AOdQfz+hjvzv+k/foIWQo5+VEBufVc//0ArgoKA88Fu+nf+MUDgQ4vCzQDV+Sz+yAGIhB7BU/+YvDs+ioE3wqwAXH8lgBu94H5+wABEW4Duv0t8Xz+J/zdDm4IGgWg6GX0XgO1F0cHgvmI7Y7+XQYhCfABbv0o/2D5G/0N/HkI9gnbBgTxs/d1+XIOjQi4BJXu1vsGAUAQ8f8i+Y/w1f+PCKgNowV7/BH4BfQY+8/+MQ4bCdYGpfG/+NUBDhQmBF/8C+mV9r7/nhKzBe/+ZPG8/UYFkQXQBAMAOf6n+i36Mf8GDOEFJgRp7B/6cv8NFeMC5/9H7g78kf8UFaMCWvvF7t3/dQLpB+sGHPxX/YH7mPsoAdMKzAFhBa7vjfiNAJEPtgbTAa7pgf2rAUMVDwIU/CTvi/4aA+cKswGH/kr6wvue/sYBGggwBDUA1vRk+VsATQ82B9T/Aus8/QsAXRFbBTL6WfVh/GoCWQpjBLr7IP1192D7gQSoBnwDiALyAMT1ufpiAJcQjwJ8AkXvUvlg/+wPvAM+ACXytflv/0MO3wZr/Iv6G/rn/HMDCwk3ARMEU/al/oD7jwipBTH/xPEv+eUBhBBrBn/+GPHF+9AEIQpQBL76EfdP/tUBZgPIBDcD7v7j9D3+6v3LDE4FewM179L6Z/+XD9UClwCf8i76VgOFC0YDGv1q9sP+8gHFBcQDqgBv/QP49ftg/8cKJARWBLjxnvtX/j4PmwTbAH7wh/wRBFcI0AEr/nX5YP26AKkA2gbxAQwBofU6/Sz+8ApPBcUB7fLu+4z/Fg4BBPD+evFc/a8CKwqOBJv7+/i9/C8AwwMwBAcB3AC3+dP8RP7GCbQDFQE29j36Sv/mDMcD/v6S9oz7jQHbCM4BfP2l+QT/rAD5AScECgGtAKD5C/4m/okJwAMSAUT0wvvB/+kL6gIQ/fL2VP5nAoMIuwHM/ar6pP3ZAO8B4AP+ALEAIvrq/Sv8YAnmA0sBV/VB/Pr/UQstA8L+tfW9/QwC8Qe+ARf+JvvZ/cIAtQFyA7wAawBU+sL9zv5uCDcEGAFx9mz8O/8YABAKSAOp/0T1q/zBABgJ+QFJ/kX5AwD2/+MDAgKh/9j+Rf21/wAAmgXj/8sB7/gA/e7+3QhLA6cAQ/Wg/SUBjgjxAYL+5fnd/AEB6QPmAZf/Fv9C/t3/zf+9BBoC3/7++br9g//KCJ8BbQDR9+H9WQH2BQIBKP6d+UYAeQHQA/cBQP0j/4L9ZP/3ARMDXwGTAQ36C/6v/5IIvgCA/5P41/t4AQ4HiADAALv7f/+M/08CkQCzAI7+Jv3s//f/fgR2AFYBWvth/Qb/GgZqApL/avg//wYBWwhbAOz+KvuD/3YCCwGcAP38Bv/r/FcBTwC3BTcBtwFg+cP8R/9fBSgE1/7c98L/dAEPBr8A8v6a+w4Bpv8hAK0CVwFr/Tf92gAGAD4CbwGCAKD8O/83/9QEIwE5/y37Mf1mABoF7gBpAM37ogBm/3gDYv8ZAQj+z//6/pYARwHOAVb/nf4+/p7+BgX1AHMBIPsG/TABwANeAfn9o/qZ/+4AagAwAm8Crv/i//UB6P7V/24ADf6s/Tz+QAH6Bc0AHP4A+pH/ZQK6BS8AX/3l+tv/cgIbBA0Ahv3//2AAt/6h/hb/ywLRAZf+Nf6LAdX/uf8mARMC6/ys/W0BPwPI/g7/4P9c/mkB7gIQ/zX/yv7g/dYAyQEvAI8Bc/1y/wsBfP+FAs/9SwACABz/UwGI/oUASAEs/wf/ZQHmAdP97QBY/s0APf5RAlr+9wGq/jsARv9nAUb+PQJW/gIBKP/+/+wAuv6wAdf9KQLKAHz9kAGe/rIA7/8t/74AawC5/uIBP/4y/4ACXv4YAmYApf0rAdr/1v3H//MBmP8uADgB+P+i/s//KwEPAML+5f80AREAvv7b/yQBAACs/rr/ngBbAmoAbP/o/Af/7P/0AjEBuwD8/Y7/MgADAO4ACACi/2v/Df71/6oAtQBjAK//XgEkAKj/lv+s/8T/0//c/+v/RQBY/xYAVgBOADQAJgAxAF4ADgH8/2z/WP98/6r/zv/i/+7/AABeAH3/OgB7AHcAYQBFAA8Af/93//f/SP8bAE4A3/9/AVEAtP7g/jcARQFIAKz/xP/i/pr/MQJSAOr+j/+i/1IB+f4NADMAGAF//hcAzAD5AD/+0/+EAKIApv7VAOIAp/6uALEAg/6ZALAAmv7AAOoA6P4XAUUBIv+HAKj+hwAwAWb+dQBS/j7/Af8o/wwAe/8sAQz/bAFPAPMBSwGPAT8BFwBEAPf9H/04/jf+sf4EAFICQgEdA5cAaAIT/2v/k/x0/Xf+JADgAiUBZwPAAI79Af+c/Bn/5AEjAf8CuQDF/Uf//PyS/9ECfwKD/5AAg/38/V4BBQPFAO39bf81/bD/vwJCAu/+Vf2X/4EC/wG+/jj9gv9vAvcBx/5H/Y3/cQL5Ac7+T/2H/1wC3gG1/jT9YP8lApIBj/1CAY8CQgBo/cv9uADPAUj9cP85As0BzP65//EBQgDr/fD+UQJZ/yP+AAJcACn+M/98An7/Nv7pAToACv7bADgBrv6m/6sBtf+N/nYBEf/c/mMBdACN/s8BAACL/cQBEwEy/vIB5v4V/icCCADS/tUBF/6sAPUA2v0vAV4Am/4IAov+OgAdARj+ugFU/1P/vgEp/iABSACa/uEBLP5YAbz/Gv+3ACL+swFq//AAqgB9/l8BV/73AfP+uP+l/wEAbQFH/rEBWP5DAZj+bQGS/jgA6QCP/4wAXv9rACj/lQEk/sIBRP7GAUP+vAE//rYBQv60AUf+tAFO/rcBWv7FAY7+qgCJ/38Ac/9+AIX/ogCfAIT+LAHK/jcBd/59Acb+PwBiABgA1ABD/ncBwf4rAQn/tf/RACP/zQG1/n0AYP9T/z8B4v5VAeT/zv+oAH7++QBNAD3/3ACO/psAnwDV/mkB7f41AMkAkf7RABkA4P5UAVoAq/4aAdH/Nv9QASX/zP/VAFX/gP8yAdb+iP9XARL/c/9aAX//iP9tAY0Ar/7LAF8Adv54//wA1v+E/ygBiwCT/nz/6wDN/33/EwF/AKD+lv9NAXQAsf6F/0YBWwDz/p7/MwFZAKj+nv87AVQA+v6u/7wAbQCn/3j/FwDMACoAy/60/zcA0wA4AB3/3/8GAWEA\" type=\"audio/wav\" />\n",
       "                    Your browser does not support the audio element.\n",
       "                </audio>\n",
       "              "
      ],
      "text/plain": [
       "<IPython.lib.display.Audio object>"
      ]
     },
     "execution_count": 10,
     "metadata": {},
     "output_type": "execute_result"
    },
    {
     "data": {
      "image/png": "[encoded data removed]",
      "text/plain": [
       "<Figure size 1440x288 with 1 Axes>"
      ]
     },
     "metadata": {},
     "output_type": "display_data"
    }
   ],
   "source": [
    "FREQ_BINS=30\n",
    "TIME_STEPS=10\n",
    "RESAMPLE_SR = 8000\n",
    "#defining transformations\n",
    "\n",
    "class specTrans(object):\n",
    "    def __init__(self,num_mels=50,sr=SR,time_steps=20,amp_to_power=True):\n",
    "        self.sr = sr\n",
    "        self.amp_to_power=amp_to_power\n",
    "        self.num_mels=num_mels\n",
    "        self.ampP=torchaudio.transforms.AmplitudeToDB(stype='power',top_db=60)\n",
    "        self.melP=torchaudio.transforms.MelScale(n_mels=self.num_mels, sample_rate=sr,n_stft=None)\n",
    "        self.hop_step=time_steps-1\n",
    "    def __call__(self, sample):\n",
    "        \n",
    "        wf=sample\n",
    "        wf=wf.reshape(-1,len(wf))\n",
    "        sample_length=self.sr\n",
    "\n",
    "        num_bins=wf[0].shape[0]\n",
    "        win_length=self.sr//17\n",
    "        hop_step=self.sr//self.hop_step\n",
    "        window=torch.tensor([1]*win_length)\n",
    "        s=spec(wf, 0, window, num_bins, hop_step, win_length,2,normalized=True)\n",
    "        s=self.melP(s)\n",
    "        if self.amp_to_power:\n",
    "            s=self.ampP(s)\n",
    "        s = s - s.min()\n",
    "        s = s/s.abs().max()\n",
    "\n",
    "        freq=s\n",
    "        freq[torch.isnan(freq)]=0\n",
    "        freq=freq\n",
    "        return freq.detach()\n",
    "    \n",
    "    \n",
    "\n",
    "SCALE_FACTOR = 0.5\n",
    "i = np.random.randint(len(d[\"signal\"]))\n",
    "\n",
    "original = d[\"signal\"]\n",
    "print(original.shape)\n",
    "resampled_d = interpolate(d[\"signal\"].reshape([len(d[\"signal\"]),1,-1]),scale_factor = SCALE_FACTOR,recompute_scale_factor=False).reshape([len(d[\"signal\"]),-1])\n",
    "signal = resampled_d[i]\n",
    "label = d[\"minor\"][i]\n",
    "fig = plt.figure(figsize=(20,4))\n",
    "spec_tf = specTrans(FREQ_BINS,time_steps=TIME_STEPS,sr=SR,amp_to_power=True)\n",
    "print(signal.shape)\n",
    "transformed_sample = spec_tf(original[i].float())\n",
    "ax = plt.subplot(1, 3, 1)\n",
    "plt.tight_layout()\n",
    "\n",
    "ft=transformed_sample[0]\n",
    "sf=ft.detach().numpy()\n",
    "plt.title(\"Spectrum Features\",fontsize=20)\n",
    "librosa.display.specshow(sf,cmap='gray_r',)\n",
    "plt.xlabel(\"Time Step\",fontsize=20)\n",
    "plt.ylabel(\"Magnitude of Bin\",fontsize=20)\n",
    "\n",
    "\n",
    "print(label)\n",
    "print(transformed_sample.shape)\n",
    "print(len(signal))\n",
    "Audio(signal[0:5000],rate=SR*0.5,autoplay=True)\n"
   ]
  },
  {
   "cell_type": "code",
   "execution_count": 12,
   "metadata": {},
   "outputs": [],
   "source": [
    "      \n",
    "spec_tf = specTrans(FREQ_BINS,time_steps=TIME_STEPS,amp_to_power=True)\n",
    "\n",
    "adf = audio_df.copy()\n",
    "train = adf.sample(frac=0.95,random_state=420) \n",
    "test_and_valid = adf.drop(train.index)\n",
    "test = test_and_valid.sample(frac=0.90,random_state=420) \n",
    "# valid = test_and_valid.drop(test.index)\n",
    "\n",
    "train_loader = DataLoader(audioDataset(train,SR), batch_size=128,shuffle=True, num_workers=0)\n",
    "test_loader = DataLoader(audioDataset(test,SR), batch_size=256,shuffle=True, num_workers=0)"
   ]
  },
  {
   "cell_type": "code",
   "execution_count": 13,
   "metadata": {},
   "outputs": [
    {
     "data": {
      "text/plain": [
       "(35271, 1670)"
      ]
     },
     "execution_count": 13,
     "metadata": {},
     "output_type": "execute_result"
    }
   ],
   "source": [
    "len(train),len(test)"
   ]
  },
  {
   "cell_type": "code",
   "execution_count": 14,
   "metadata": {},
   "outputs": [],
   "source": [
    "class Conv_Spec_DVN(nn.Module):\n",
    "    def __init__(self,embed_only=False,dropout=0.075):\n",
    "        super(Conv_Spec_DVN, self).__init__()\n",
    "        self.embed_only = embed_only\n",
    "        self.dropout = dropout\n",
    "        self.conv_1d = nn.Sequential(\n",
    "                nn.Conv1d(1,128,500, stride=2, padding=5),\n",
    "                nn.BatchNorm1d(128),\n",
    "                nn.ReLU(),\n",
    "                nn.Conv1d(128, 128, 250, stride=2, padding=4),\n",
    "                nn.BatchNorm1d(128),\n",
    "                nn.ReLU(),\n",
    "                nn.Conv1d(128, 256, 100, stride=2, padding=3),\n",
    "                nn.BatchNorm1d(256),\n",
    "                nn.ReLU(),\n",
    "                nn.Conv1d(256, 256, 100, stride=2, padding=2),\n",
    "                nn.MaxPool1d(kernel_size=3, stride=2, padding=1),\n",
    "                nn.BatchNorm1d(256),\n",
    "                nn.ReLU(),\n",
    "                nn.Conv1d(256, 128, 80, stride=1, padding=3),\n",
    "                nn.BatchNorm1d(128),\n",
    "                nn.ReLU(),\n",
    "                nn.Conv1d(128, 128, 40, stride=1, padding=3),\n",
    "                nn.MaxPool1d(kernel_size=3, stride=2, padding=1),\n",
    "                nn.BatchNorm1d(128),\n",
    "                nn.ReLU())\n",
    "        self.spectrogram_layer = nn.Sequential(\n",
    "                nn.Linear(30*9,64),\n",
    "                nn.ReLU(),\n",
    "                nn.Dropout(self.dropout),\n",
    "                nn.Linear(64,32),\n",
    "                nn.Dropout(self.dropout),\n",
    "                nn.Linear(32,16),\n",
    "                nn.ReLU(),\n",
    "                nn.Linear(16,16),\n",
    "                nn.ReLU(),\n",
    "                nn.Dropout(self.dropout),\n",
    "                )\n",
    "        self.l2 = nn.Sequential(\n",
    "                nn.Linear(128,64),\n",
    "                nn.ReLU(),\n",
    "                nn.Dropout(self.dropout),\n",
    "                nn.Linear(64,32),\n",
    "                nn.Dropout(self.dropout),\n",
    "                nn.Linear(32,16),\n",
    "                nn.ReLU(),\n",
    "                nn.Dropout(self.dropout),\n",
    "                )\n",
    "        self.l3 = nn.Sequential(\n",
    "                  nn.Linear(16+16,32),\n",
    "                  nn.ReLU(),\n",
    "                  nn.Dropout(self.dropout),\n",
    "                  nn.Linear(32,16),\n",
    "                  nn.ReLU(),\n",
    "                  nn.Linear(16,2),\n",
    "                )\n",
    "\n",
    "    def forward(self, x_sig,x_spec):\n",
    "        x_sig = x_sig.float()\n",
    "        bs = x_sig.shape[0]\n",
    "        bs_spec = x_spec.shape[0]\n",
    "        x_sig = x_sig.reshape(bs,1,-1).to(device)\n",
    "        x1_1d = self.conv_1d(x_sig)\n",
    "        flat_spec = x_spec.reshape([bs_spec,-1])\n",
    "        x1_fc = self.spectrogram_layer(flat_spec)\n",
    "        x1_1d = x1_1d.reshape(bs,-1)\n",
    "        x2 = self.l2(x1_1d)\n",
    "        x_agg = torch.cat((x2,x1_fc),dim=1)\n",
    "        x_final = self.l3(x_agg)\n",
    "        return x_final\n",
    "\n",
    "    def init_weights(self):\n",
    "        initrange = 0.1\n",
    "        self.encoder.weight.data.uniform_(-initrange, initrange)\n",
    "        self.decoder.bias.data.zero_()\n",
    "        self.decoder.weight.data.uniform_(-initrange, initrange)\n",
    "try:\n",
    "    del cnet\n",
    "except:\n",
    "    pass\n",
    "cnet = Conv_Spec_DVN(embed_only=False).to(device)"
   ]
  },
  {
   "cell_type": "code",
   "execution_count": 15,
   "metadata": {},
   "outputs": [],
   "source": [
    "data = next(iter(train_loader))\n",
    "bs = len(data[\"signal\"]) # batch size\n",
    "signal = interpolate(data[\"signal\"].reshape([bs,1,-1]),scale_factor = SCALE_FACTOR,recompute_scale_factor=False).reshape([bs,1,-1])\n",
    "spectrums = torch.stack(list(map(spec_tf,data[\"signal\"].float())),0).to(device)\n",
    "\n",
    "\n",
    "outputs = cnet(signal,spectrums)\n",
    "# outputs"
   ]
  },
  {
   "cell_type": "code",
   "execution_count": 16,
   "metadata": {},
   "outputs": [
    {
     "data": {
      "text/plain": [
       "torch.Size([128, 11025])"
      ]
     },
     "execution_count": 16,
     "metadata": {},
     "output_type": "execute_result"
    }
   ],
   "source": [
    "torch.stack(list(map(spec_tf,data[\"signal\"].float())),0).to(device)\n",
    "data[\"signal\"].shape"
   ]
  },
  {
   "cell_type": "code",
   "execution_count": 17,
   "metadata": {},
   "outputs": [
    {
     "data": {
      "text/plain": [
       "torch.Size([128, 11025])"
      ]
     },
     "execution_count": 17,
     "metadata": {},
     "output_type": "execute_result"
    }
   ],
   "source": [
    "data[\"signal\"].shape"
   ]
  },
  {
   "cell_type": "code",
   "execution_count": 18,
   "metadata": {},
   "outputs": [],
   "source": [
    "checkpoint = torch.load(\"models/1d_conv/0.149_0.0702_.checkpoint\")"
   ]
  },
  {
   "cell_type": "code",
   "execution_count": 19,
   "metadata": {},
   "outputs": [],
   "source": [
    "# criterion = nn.BCEWithLogitsLoss(pos_weight=torch.tensor(np.log(len(ecg_paths)/np.sum(ecg_paths).to_numpy()))).to(device)\n",
    "loss_func = nn.CrossEntropyLoss(weight=w.float())\n",
    "lr = 0.001 # learning rate\n",
    "optimizer = torch.optim.Adam(cnet.parameters(), lr=lr)\n",
    "smallest_loss,smallest_vloss = 1,1\n",
    "# scheduler = torch.optim.lr_scheduler.StepLR(optimizer, 1.0, gamma=0.95)"
   ]
  },
  {
   "cell_type": "code",
   "execution_count": null,
   "metadata": {},
   "outputs": [
    {
     "name": "stdout",
     "output_type": "stream",
     "text": [
      "[1, 0] val loss: 4.91986, loss: 0.70972\n",
      "[1, 5] val loss: 4.80210, loss: 0.68478\n",
      "[1, 10] val loss: 4.59274, loss: 0.65062\n",
      "[1, 15] val loss: 4.19450, loss: 0.61614\n",
      "[1, 20] val loss: 3.54111, loss: 0.51963\n",
      "[1, 25] val loss: 2.59884, loss: 0.38419\n",
      "[1, 30] val loss: 2.11520, loss: 0.34347\n"
     ]
    }
   ],
   "source": [
    "SCALE_FACTOR = 0.5\n",
    "num_windows = 5\n",
    "window_shift = 300\n",
    "smallest_loss,smallest_vloss = 1000,1000\n",
    "step = 0\n",
    "for epoch in range(40): \n",
    "    for i, data in enumerate(train_loader, 0):\n",
    "        train_loss = 0\n",
    "        bs = len(data[\"signal\"]) # batch size\n",
    "        signal = interpolate(data[\"signal\"].reshape([bs,1,-1]),scale_factor = SCALE_FACTOR,recompute_scale_factor=False).reshape([bs,1,-1])\n",
    "        spectrums = torch.stack(list(map(spec_tf,data[\"signal\"].float())),0).to(device)\n",
    "        optimizer.zero_grad()\n",
    "        outputs = cnet(signal,spectrums)\n",
    "        y = torch.tensor(le_major.transform(data[\"major\"])).to(device)\n",
    "        loss = loss_func(outputs,y.long())\n",
    "        loss.backward()\n",
    "        optimizer.step()\n",
    "        train_loss += loss.item()\n",
    "        if i%5==0:\n",
    "            with torch.no_grad():\n",
    "                val_loss = 0\n",
    "                for iv,datav in enumerate(test_loader, 0):\n",
    "                    bs = len(datav[\"signal\"]) # batch size\n",
    "                    signalv = interpolate(datav[\"signal\"].reshape([bs,1,-1]),scale_factor = SCALE_FACTOR,recompute_scale_factor=False).reshape([bs,1,-1])\n",
    "                    spectrumsv = torch.stack(list(map(spec_tf,datav[\"signal\"].float())),0).to(device)\n",
    "                    # zero the parameter gradients\n",
    "                    optimizer.zero_grad()\n",
    "                    voutputs = cnet(signalv,spectrumsv)\n",
    "                    vy = torch.tensor(le_major.transform(datav[\"major\"])).to(device)\n",
    "                    vloss = loss_func(voutputs,vy.long())\n",
    "                    val_loss += vloss\n",
    "            print('[%d, %d] val loss: %.5f, loss: %.5f'%(epoch + 1, i , val_loss,train_loss))\n",
    "    #         writer.add_scalar('Loss/Training', train_loss,)\n",
    "    #         writer.add_scalar('Loss/Validation', val_loss)\n",
    "            if val_loss < smallest_vloss:        \n",
    "                torch.save({\n",
    "                'epoch': epoch,\n",
    "                'vloss': vloss,\n",
    "                'model_state_dict': cnet.state_dict(),\n",
    "                'optimizer_state_dict': optimizer.state_dict(),\n",
    "                }, \"models/1d_conv//%.3f_%.4f_.checkpoint\"%(val_loss,train_loss,))\n",
    "                smallest_vloss = val_loss\n",
    "                smallest_loss = train_loss "
   ]
  },
  {
   "cell_type": "code",
   "execution_count": null,
   "metadata": {},
   "outputs": [],
   "source": []
  }
 ],
 "metadata": {
  "kernelspec": {
   "display_name": "Python 3",
   "language": "python",
   "name": "python3"
  },
  "language_info": {
   "codemirror_mode": {
    "name": "ipython",
    "version": 3
   },
   "file_extension": ".py",
   "mimetype": "text/x-python",
   "name": "python",
   "nbconvert_exporter": "python",
   "pygments_lexer": "ipython3",
   "version": "3.7.10"
  }
 },
 "nbformat": 4,
 "nbformat_minor": 4
}
